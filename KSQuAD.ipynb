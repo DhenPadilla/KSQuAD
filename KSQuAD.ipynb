{
  "nbformat": 4,
  "nbformat_minor": 0,
  "metadata": {
    "colab": {
      "name": "KSQuAD.ipynb",
      "provenance": [],
      "collapsed_sections": [],
      "machine_shape": "hm"
    },
    "kernelspec": {
      "name": "python3",
      "display_name": "Python 3"
    },
    "accelerator": "GPU",
    "widgets": {
      "application/vnd.jupyter.widget-state+json": {
        "cb24f7c831504177afe148218a6f4a08": {
          "model_module": "@jupyter-widgets/controls",
          "model_name": "HBoxModel",
          "state": {
            "_view_name": "HBoxView",
            "_dom_classes": [],
            "_model_name": "HBoxModel",
            "_view_module": "@jupyter-widgets/controls",
            "_model_module_version": "1.5.0",
            "_view_count": null,
            "_view_module_version": "1.5.0",
            "box_style": "",
            "layout": "IPY_MODEL_f49c5da016634c4daf84631d61f1611a",
            "_model_module": "@jupyter-widgets/controls",
            "children": [
              "IPY_MODEL_08b7398da6984f84981d449dfa61dd50",
              "IPY_MODEL_0c1d46bdbd2a488e9ab0303840158800"
            ]
          }
        },
        "f49c5da016634c4daf84631d61f1611a": {
          "model_module": "@jupyter-widgets/base",
          "model_name": "LayoutModel",
          "state": {
            "_view_name": "LayoutView",
            "grid_template_rows": null,
            "right": null,
            "justify_content": null,
            "_view_module": "@jupyter-widgets/base",
            "overflow": null,
            "_model_module_version": "1.2.0",
            "_view_count": null,
            "flex_flow": null,
            "width": null,
            "min_width": null,
            "border": null,
            "align_items": null,
            "bottom": null,
            "_model_module": "@jupyter-widgets/base",
            "top": null,
            "grid_column": null,
            "overflow_y": null,
            "overflow_x": null,
            "grid_auto_flow": null,
            "grid_area": null,
            "grid_template_columns": null,
            "flex": null,
            "_model_name": "LayoutModel",
            "justify_items": null,
            "grid_row": null,
            "max_height": null,
            "align_content": null,
            "visibility": null,
            "align_self": null,
            "height": null,
            "min_height": null,
            "padding": null,
            "grid_auto_rows": null,
            "grid_gap": null,
            "max_width": null,
            "order": null,
            "_view_module_version": "1.2.0",
            "grid_template_areas": null,
            "object_position": null,
            "object_fit": null,
            "grid_auto_columns": null,
            "margin": null,
            "display": null,
            "left": null
          }
        },
        "08b7398da6984f84981d449dfa61dd50": {
          "model_module": "@jupyter-widgets/controls",
          "model_name": "IntProgressModel",
          "state": {
            "_view_name": "ProgressView",
            "style": "IPY_MODEL_26ff37009ead4778b2050ec73ec4fd83",
            "_dom_classes": [],
            "description": "Downloading: 100%",
            "_model_name": "IntProgressModel",
            "bar_style": "success",
            "max": 898823,
            "_view_module": "@jupyter-widgets/controls",
            "_model_module_version": "1.5.0",
            "value": 898823,
            "_view_count": null,
            "_view_module_version": "1.5.0",
            "orientation": "horizontal",
            "min": 0,
            "description_tooltip": null,
            "_model_module": "@jupyter-widgets/controls",
            "layout": "IPY_MODEL_9f66db08e9414aa1821d7353311ededa"
          }
        },
        "0c1d46bdbd2a488e9ab0303840158800": {
          "model_module": "@jupyter-widgets/controls",
          "model_name": "HTMLModel",
          "state": {
            "_view_name": "HTMLView",
            "style": "IPY_MODEL_53b01b8781fe4013b9755e24b60bc6be",
            "_dom_classes": [],
            "description": "",
            "_model_name": "HTMLModel",
            "placeholder": "​",
            "_view_module": "@jupyter-widgets/controls",
            "_model_module_version": "1.5.0",
            "value": " 899k/899k [00:00&lt;00:00, 2.14MB/s]",
            "_view_count": null,
            "_view_module_version": "1.5.0",
            "description_tooltip": null,
            "_model_module": "@jupyter-widgets/controls",
            "layout": "IPY_MODEL_ace767ecd40f474bbe76f3a4cdb03bb5"
          }
        },
        "26ff37009ead4778b2050ec73ec4fd83": {
          "model_module": "@jupyter-widgets/controls",
          "model_name": "ProgressStyleModel",
          "state": {
            "_view_name": "StyleView",
            "_model_name": "ProgressStyleModel",
            "description_width": "initial",
            "_view_module": "@jupyter-widgets/base",
            "_model_module_version": "1.5.0",
            "_view_count": null,
            "_view_module_version": "1.2.0",
            "bar_color": null,
            "_model_module": "@jupyter-widgets/controls"
          }
        },
        "9f66db08e9414aa1821d7353311ededa": {
          "model_module": "@jupyter-widgets/base",
          "model_name": "LayoutModel",
          "state": {
            "_view_name": "LayoutView",
            "grid_template_rows": null,
            "right": null,
            "justify_content": null,
            "_view_module": "@jupyter-widgets/base",
            "overflow": null,
            "_model_module_version": "1.2.0",
            "_view_count": null,
            "flex_flow": null,
            "width": null,
            "min_width": null,
            "border": null,
            "align_items": null,
            "bottom": null,
            "_model_module": "@jupyter-widgets/base",
            "top": null,
            "grid_column": null,
            "overflow_y": null,
            "overflow_x": null,
            "grid_auto_flow": null,
            "grid_area": null,
            "grid_template_columns": null,
            "flex": null,
            "_model_name": "LayoutModel",
            "justify_items": null,
            "grid_row": null,
            "max_height": null,
            "align_content": null,
            "visibility": null,
            "align_self": null,
            "height": null,
            "min_height": null,
            "padding": null,
            "grid_auto_rows": null,
            "grid_gap": null,
            "max_width": null,
            "order": null,
            "_view_module_version": "1.2.0",
            "grid_template_areas": null,
            "object_position": null,
            "object_fit": null,
            "grid_auto_columns": null,
            "margin": null,
            "display": null,
            "left": null
          }
        },
        "53b01b8781fe4013b9755e24b60bc6be": {
          "model_module": "@jupyter-widgets/controls",
          "model_name": "DescriptionStyleModel",
          "state": {
            "_view_name": "StyleView",
            "_model_name": "DescriptionStyleModel",
            "description_width": "",
            "_view_module": "@jupyter-widgets/base",
            "_model_module_version": "1.5.0",
            "_view_count": null,
            "_view_module_version": "1.2.0",
            "_model_module": "@jupyter-widgets/controls"
          }
        },
        "ace767ecd40f474bbe76f3a4cdb03bb5": {
          "model_module": "@jupyter-widgets/base",
          "model_name": "LayoutModel",
          "state": {
            "_view_name": "LayoutView",
            "grid_template_rows": null,
            "right": null,
            "justify_content": null,
            "_view_module": "@jupyter-widgets/base",
            "overflow": null,
            "_model_module_version": "1.2.0",
            "_view_count": null,
            "flex_flow": null,
            "width": null,
            "min_width": null,
            "border": null,
            "align_items": null,
            "bottom": null,
            "_model_module": "@jupyter-widgets/base",
            "top": null,
            "grid_column": null,
            "overflow_y": null,
            "overflow_x": null,
            "grid_auto_flow": null,
            "grid_area": null,
            "grid_template_columns": null,
            "flex": null,
            "_model_name": "LayoutModel",
            "justify_items": null,
            "grid_row": null,
            "max_height": null,
            "align_content": null,
            "visibility": null,
            "align_self": null,
            "height": null,
            "min_height": null,
            "padding": null,
            "grid_auto_rows": null,
            "grid_gap": null,
            "max_width": null,
            "order": null,
            "_view_module_version": "1.2.0",
            "grid_template_areas": null,
            "object_position": null,
            "object_fit": null,
            "grid_auto_columns": null,
            "margin": null,
            "display": null,
            "left": null
          }
        },
        "79d5c65bc4814e9b9534ce41c1537f90": {
          "model_module": "@jupyter-widgets/controls",
          "model_name": "HBoxModel",
          "state": {
            "_view_name": "HBoxView",
            "_dom_classes": [],
            "_model_name": "HBoxModel",
            "_view_module": "@jupyter-widgets/controls",
            "_model_module_version": "1.5.0",
            "_view_count": null,
            "_view_module_version": "1.5.0",
            "box_style": "",
            "layout": "IPY_MODEL_9130eb0d08594c24b65460fb4a111e5d",
            "_model_module": "@jupyter-widgets/controls",
            "children": [
              "IPY_MODEL_fdf6b3aab4cf4cbb9abd98c4ba6b6b4a",
              "IPY_MODEL_4216a8f2fc674745be8d3287a4f68a7e"
            ]
          }
        },
        "9130eb0d08594c24b65460fb4a111e5d": {
          "model_module": "@jupyter-widgets/base",
          "model_name": "LayoutModel",
          "state": {
            "_view_name": "LayoutView",
            "grid_template_rows": null,
            "right": null,
            "justify_content": null,
            "_view_module": "@jupyter-widgets/base",
            "overflow": null,
            "_model_module_version": "1.2.0",
            "_view_count": null,
            "flex_flow": null,
            "width": null,
            "min_width": null,
            "border": null,
            "align_items": null,
            "bottom": null,
            "_model_module": "@jupyter-widgets/base",
            "top": null,
            "grid_column": null,
            "overflow_y": null,
            "overflow_x": null,
            "grid_auto_flow": null,
            "grid_area": null,
            "grid_template_columns": null,
            "flex": null,
            "_model_name": "LayoutModel",
            "justify_items": null,
            "grid_row": null,
            "max_height": null,
            "align_content": null,
            "visibility": null,
            "align_self": null,
            "height": null,
            "min_height": null,
            "padding": null,
            "grid_auto_rows": null,
            "grid_gap": null,
            "max_width": null,
            "order": null,
            "_view_module_version": "1.2.0",
            "grid_template_areas": null,
            "object_position": null,
            "object_fit": null,
            "grid_auto_columns": null,
            "margin": null,
            "display": null,
            "left": null
          }
        },
        "fdf6b3aab4cf4cbb9abd98c4ba6b6b4a": {
          "model_module": "@jupyter-widgets/controls",
          "model_name": "IntProgressModel",
          "state": {
            "_view_name": "ProgressView",
            "style": "IPY_MODEL_2dd629392e0d478ea9e444083ed235dc",
            "_dom_classes": [],
            "description": "Downloading: 100%",
            "_model_name": "IntProgressModel",
            "bar_style": "success",
            "max": 456318,
            "_view_module": "@jupyter-widgets/controls",
            "_model_module_version": "1.5.0",
            "value": 456318,
            "_view_count": null,
            "_view_module_version": "1.5.0",
            "orientation": "horizontal",
            "min": 0,
            "description_tooltip": null,
            "_model_module": "@jupyter-widgets/controls",
            "layout": "IPY_MODEL_9bc23401b1fb4cb69c401f58fddac94f"
          }
        },
        "4216a8f2fc674745be8d3287a4f68a7e": {
          "model_module": "@jupyter-widgets/controls",
          "model_name": "HTMLModel",
          "state": {
            "_view_name": "HTMLView",
            "style": "IPY_MODEL_f5ef8ef20f6646ff96a43300022294cd",
            "_dom_classes": [],
            "description": "",
            "_model_name": "HTMLModel",
            "placeholder": "​",
            "_view_module": "@jupyter-widgets/controls",
            "_model_module_version": "1.5.0",
            "value": " 456k/456k [00:00&lt;00:00, 3.60MB/s]",
            "_view_count": null,
            "_view_module_version": "1.5.0",
            "description_tooltip": null,
            "_model_module": "@jupyter-widgets/controls",
            "layout": "IPY_MODEL_2c7c223e3f7247d7b5573c7748f01a95"
          }
        },
        "2dd629392e0d478ea9e444083ed235dc": {
          "model_module": "@jupyter-widgets/controls",
          "model_name": "ProgressStyleModel",
          "state": {
            "_view_name": "StyleView",
            "_model_name": "ProgressStyleModel",
            "description_width": "initial",
            "_view_module": "@jupyter-widgets/base",
            "_model_module_version": "1.5.0",
            "_view_count": null,
            "_view_module_version": "1.2.0",
            "bar_color": null,
            "_model_module": "@jupyter-widgets/controls"
          }
        },
        "9bc23401b1fb4cb69c401f58fddac94f": {
          "model_module": "@jupyter-widgets/base",
          "model_name": "LayoutModel",
          "state": {
            "_view_name": "LayoutView",
            "grid_template_rows": null,
            "right": null,
            "justify_content": null,
            "_view_module": "@jupyter-widgets/base",
            "overflow": null,
            "_model_module_version": "1.2.0",
            "_view_count": null,
            "flex_flow": null,
            "width": null,
            "min_width": null,
            "border": null,
            "align_items": null,
            "bottom": null,
            "_model_module": "@jupyter-widgets/base",
            "top": null,
            "grid_column": null,
            "overflow_y": null,
            "overflow_x": null,
            "grid_auto_flow": null,
            "grid_area": null,
            "grid_template_columns": null,
            "flex": null,
            "_model_name": "LayoutModel",
            "justify_items": null,
            "grid_row": null,
            "max_height": null,
            "align_content": null,
            "visibility": null,
            "align_self": null,
            "height": null,
            "min_height": null,
            "padding": null,
            "grid_auto_rows": null,
            "grid_gap": null,
            "max_width": null,
            "order": null,
            "_view_module_version": "1.2.0",
            "grid_template_areas": null,
            "object_position": null,
            "object_fit": null,
            "grid_auto_columns": null,
            "margin": null,
            "display": null,
            "left": null
          }
        },
        "f5ef8ef20f6646ff96a43300022294cd": {
          "model_module": "@jupyter-widgets/controls",
          "model_name": "DescriptionStyleModel",
          "state": {
            "_view_name": "StyleView",
            "_model_name": "DescriptionStyleModel",
            "description_width": "",
            "_view_module": "@jupyter-widgets/base",
            "_model_module_version": "1.5.0",
            "_view_count": null,
            "_view_module_version": "1.2.0",
            "_model_module": "@jupyter-widgets/controls"
          }
        },
        "2c7c223e3f7247d7b5573c7748f01a95": {
          "model_module": "@jupyter-widgets/base",
          "model_name": "LayoutModel",
          "state": {
            "_view_name": "LayoutView",
            "grid_template_rows": null,
            "right": null,
            "justify_content": null,
            "_view_module": "@jupyter-widgets/base",
            "overflow": null,
            "_model_module_version": "1.2.0",
            "_view_count": null,
            "flex_flow": null,
            "width": null,
            "min_width": null,
            "border": null,
            "align_items": null,
            "bottom": null,
            "_model_module": "@jupyter-widgets/base",
            "top": null,
            "grid_column": null,
            "overflow_y": null,
            "overflow_x": null,
            "grid_auto_flow": null,
            "grid_area": null,
            "grid_template_columns": null,
            "flex": null,
            "_model_name": "LayoutModel",
            "justify_items": null,
            "grid_row": null,
            "max_height": null,
            "align_content": null,
            "visibility": null,
            "align_self": null,
            "height": null,
            "min_height": null,
            "padding": null,
            "grid_auto_rows": null,
            "grid_gap": null,
            "max_width": null,
            "order": null,
            "_view_module_version": "1.2.0",
            "grid_template_areas": null,
            "object_position": null,
            "object_fit": null,
            "grid_auto_columns": null,
            "margin": null,
            "display": null,
            "left": null
          }
        },
        "f23b46d363c14051a92fee696e7eb2c4": {
          "model_module": "@jupyter-widgets/controls",
          "model_name": "HBoxModel",
          "state": {
            "_view_name": "HBoxView",
            "_dom_classes": [],
            "_model_name": "HBoxModel",
            "_view_module": "@jupyter-widgets/controls",
            "_model_module_version": "1.5.0",
            "_view_count": null,
            "_view_module_version": "1.5.0",
            "box_style": "",
            "layout": "IPY_MODEL_3075461d37bf4cb4ba6e4ca995a2ae0c",
            "_model_module": "@jupyter-widgets/controls",
            "children": [
              "IPY_MODEL_65039ae53110480fb7077c5cfe310d6d",
              "IPY_MODEL_4aacdbf6d9404d02939c984b57af1b11"
            ]
          }
        },
        "3075461d37bf4cb4ba6e4ca995a2ae0c": {
          "model_module": "@jupyter-widgets/base",
          "model_name": "LayoutModel",
          "state": {
            "_view_name": "LayoutView",
            "grid_template_rows": null,
            "right": null,
            "justify_content": null,
            "_view_module": "@jupyter-widgets/base",
            "overflow": null,
            "_model_module_version": "1.2.0",
            "_view_count": null,
            "flex_flow": null,
            "width": null,
            "min_width": null,
            "border": null,
            "align_items": null,
            "bottom": null,
            "_model_module": "@jupyter-widgets/base",
            "top": null,
            "grid_column": null,
            "overflow_y": null,
            "overflow_x": null,
            "grid_auto_flow": null,
            "grid_area": null,
            "grid_template_columns": null,
            "flex": null,
            "_model_name": "LayoutModel",
            "justify_items": null,
            "grid_row": null,
            "max_height": null,
            "align_content": null,
            "visibility": null,
            "align_self": null,
            "height": null,
            "min_height": null,
            "padding": null,
            "grid_auto_rows": null,
            "grid_gap": null,
            "max_width": null,
            "order": null,
            "_view_module_version": "1.2.0",
            "grid_template_areas": null,
            "object_position": null,
            "object_fit": null,
            "grid_auto_columns": null,
            "margin": null,
            "display": null,
            "left": null
          }
        },
        "65039ae53110480fb7077c5cfe310d6d": {
          "model_module": "@jupyter-widgets/controls",
          "model_name": "IntProgressModel",
          "state": {
            "_view_name": "ProgressView",
            "style": "IPY_MODEL_03e8740d9639412a99af8895d168526a",
            "_dom_classes": [],
            "description": "Downloading: 100%",
            "_model_name": "IntProgressModel",
            "bar_style": "success",
            "max": 524,
            "_view_module": "@jupyter-widgets/controls",
            "_model_module_version": "1.5.0",
            "value": 524,
            "_view_count": null,
            "_view_module_version": "1.5.0",
            "orientation": "horizontal",
            "min": 0,
            "description_tooltip": null,
            "_model_module": "@jupyter-widgets/controls",
            "layout": "IPY_MODEL_853a524e52b841a6a46512d758664c06"
          }
        },
        "4aacdbf6d9404d02939c984b57af1b11": {
          "model_module": "@jupyter-widgets/controls",
          "model_name": "HTMLModel",
          "state": {
            "_view_name": "HTMLView",
            "style": "IPY_MODEL_ce3ef28c802045859cae707af041d048",
            "_dom_classes": [],
            "description": "",
            "_model_name": "HTMLModel",
            "placeholder": "​",
            "_view_module": "@jupyter-widgets/controls",
            "_model_module_version": "1.5.0",
            "value": " 524/524 [00:00&lt;00:00, 903B/s]",
            "_view_count": null,
            "_view_module_version": "1.5.0",
            "description_tooltip": null,
            "_model_module": "@jupyter-widgets/controls",
            "layout": "IPY_MODEL_3e13820f12e7474395ac2158d1d5d4fa"
          }
        },
        "03e8740d9639412a99af8895d168526a": {
          "model_module": "@jupyter-widgets/controls",
          "model_name": "ProgressStyleModel",
          "state": {
            "_view_name": "StyleView",
            "_model_name": "ProgressStyleModel",
            "description_width": "initial",
            "_view_module": "@jupyter-widgets/base",
            "_model_module_version": "1.5.0",
            "_view_count": null,
            "_view_module_version": "1.2.0",
            "bar_color": null,
            "_model_module": "@jupyter-widgets/controls"
          }
        },
        "853a524e52b841a6a46512d758664c06": {
          "model_module": "@jupyter-widgets/base",
          "model_name": "LayoutModel",
          "state": {
            "_view_name": "LayoutView",
            "grid_template_rows": null,
            "right": null,
            "justify_content": null,
            "_view_module": "@jupyter-widgets/base",
            "overflow": null,
            "_model_module_version": "1.2.0",
            "_view_count": null,
            "flex_flow": null,
            "width": null,
            "min_width": null,
            "border": null,
            "align_items": null,
            "bottom": null,
            "_model_module": "@jupyter-widgets/base",
            "top": null,
            "grid_column": null,
            "overflow_y": null,
            "overflow_x": null,
            "grid_auto_flow": null,
            "grid_area": null,
            "grid_template_columns": null,
            "flex": null,
            "_model_name": "LayoutModel",
            "justify_items": null,
            "grid_row": null,
            "max_height": null,
            "align_content": null,
            "visibility": null,
            "align_self": null,
            "height": null,
            "min_height": null,
            "padding": null,
            "grid_auto_rows": null,
            "grid_gap": null,
            "max_width": null,
            "order": null,
            "_view_module_version": "1.2.0",
            "grid_template_areas": null,
            "object_position": null,
            "object_fit": null,
            "grid_auto_columns": null,
            "margin": null,
            "display": null,
            "left": null
          }
        },
        "ce3ef28c802045859cae707af041d048": {
          "model_module": "@jupyter-widgets/controls",
          "model_name": "DescriptionStyleModel",
          "state": {
            "_view_name": "StyleView",
            "_model_name": "DescriptionStyleModel",
            "description_width": "",
            "_view_module": "@jupyter-widgets/base",
            "_model_module_version": "1.5.0",
            "_view_count": null,
            "_view_module_version": "1.2.0",
            "_model_module": "@jupyter-widgets/controls"
          }
        },
        "3e13820f12e7474395ac2158d1d5d4fa": {
          "model_module": "@jupyter-widgets/base",
          "model_name": "LayoutModel",
          "state": {
            "_view_name": "LayoutView",
            "grid_template_rows": null,
            "right": null,
            "justify_content": null,
            "_view_module": "@jupyter-widgets/base",
            "overflow": null,
            "_model_module_version": "1.2.0",
            "_view_count": null,
            "flex_flow": null,
            "width": null,
            "min_width": null,
            "border": null,
            "align_items": null,
            "bottom": null,
            "_model_module": "@jupyter-widgets/base",
            "top": null,
            "grid_column": null,
            "overflow_y": null,
            "overflow_x": null,
            "grid_auto_flow": null,
            "grid_area": null,
            "grid_template_columns": null,
            "flex": null,
            "_model_name": "LayoutModel",
            "justify_items": null,
            "grid_row": null,
            "max_height": null,
            "align_content": null,
            "visibility": null,
            "align_self": null,
            "height": null,
            "min_height": null,
            "padding": null,
            "grid_auto_rows": null,
            "grid_gap": null,
            "max_width": null,
            "order": null,
            "_view_module_version": "1.2.0",
            "grid_template_areas": null,
            "object_position": null,
            "object_fit": null,
            "grid_auto_columns": null,
            "margin": null,
            "display": null,
            "left": null
          }
        },
        "599fbedfeb2c4496af883ab9f2fb26e5": {
          "model_module": "@jupyter-widgets/controls",
          "model_name": "HBoxModel",
          "state": {
            "_view_name": "HBoxView",
            "_dom_classes": [],
            "_model_name": "HBoxModel",
            "_view_module": "@jupyter-widgets/controls",
            "_model_module_version": "1.5.0",
            "_view_count": null,
            "_view_module_version": "1.5.0",
            "box_style": "",
            "layout": "IPY_MODEL_169a91c9b22348278768c5c0927e3408",
            "_model_module": "@jupyter-widgets/controls",
            "children": [
              "IPY_MODEL_1bb4746cda5849f19aeee56f1a8883aa",
              "IPY_MODEL_f649bd46a47742e9bd341833c5fa22ee"
            ]
          }
        },
        "169a91c9b22348278768c5c0927e3408": {
          "model_module": "@jupyter-widgets/base",
          "model_name": "LayoutModel",
          "state": {
            "_view_name": "LayoutView",
            "grid_template_rows": null,
            "right": null,
            "justify_content": null,
            "_view_module": "@jupyter-widgets/base",
            "overflow": null,
            "_model_module_version": "1.2.0",
            "_view_count": null,
            "flex_flow": null,
            "width": null,
            "min_width": null,
            "border": null,
            "align_items": null,
            "bottom": null,
            "_model_module": "@jupyter-widgets/base",
            "top": null,
            "grid_column": null,
            "overflow_y": null,
            "overflow_x": null,
            "grid_auto_flow": null,
            "grid_area": null,
            "grid_template_columns": null,
            "flex": null,
            "_model_name": "LayoutModel",
            "justify_items": null,
            "grid_row": null,
            "max_height": null,
            "align_content": null,
            "visibility": null,
            "align_self": null,
            "height": null,
            "min_height": null,
            "padding": null,
            "grid_auto_rows": null,
            "grid_gap": null,
            "max_width": null,
            "order": null,
            "_view_module_version": "1.2.0",
            "grid_template_areas": null,
            "object_position": null,
            "object_fit": null,
            "grid_auto_columns": null,
            "margin": null,
            "display": null,
            "left": null
          }
        },
        "1bb4746cda5849f19aeee56f1a8883aa": {
          "model_module": "@jupyter-widgets/controls",
          "model_name": "IntProgressModel",
          "state": {
            "_view_name": "ProgressView",
            "style": "IPY_MODEL_2928705906d64fb9bfeedd38d4f0abd8",
            "_dom_classes": [],
            "description": "100%",
            "_model_name": "IntProgressModel",
            "bar_style": "success",
            "max": 3,
            "_view_module": "@jupyter-widgets/controls",
            "_model_module_version": "1.5.0",
            "value": 3,
            "_view_count": null,
            "_view_module_version": "1.5.0",
            "orientation": "horizontal",
            "min": 0,
            "description_tooltip": null,
            "_model_module": "@jupyter-widgets/controls",
            "layout": "IPY_MODEL_64a67f57b9d64d72be63ba9f67d43507"
          }
        },
        "f649bd46a47742e9bd341833c5fa22ee": {
          "model_module": "@jupyter-widgets/controls",
          "model_name": "HTMLModel",
          "state": {
            "_view_name": "HTMLView",
            "style": "IPY_MODEL_54d5308cfa4a4409ad4bf308f2ccf2ae",
            "_dom_classes": [],
            "description": "",
            "_model_name": "HTMLModel",
            "placeholder": "​",
            "_view_module": "@jupyter-widgets/controls",
            "_model_module_version": "1.5.0",
            "value": " 3/3 [08:01&lt;00:00, 160.36s/it]",
            "_view_count": null,
            "_view_module_version": "1.5.0",
            "description_tooltip": null,
            "_model_module": "@jupyter-widgets/controls",
            "layout": "IPY_MODEL_76403146003c44ff9d77afd1358a9a8e"
          }
        },
        "2928705906d64fb9bfeedd38d4f0abd8": {
          "model_module": "@jupyter-widgets/controls",
          "model_name": "ProgressStyleModel",
          "state": {
            "_view_name": "StyleView",
            "_model_name": "ProgressStyleModel",
            "description_width": "initial",
            "_view_module": "@jupyter-widgets/base",
            "_model_module_version": "1.5.0",
            "_view_count": null,
            "_view_module_version": "1.2.0",
            "bar_color": null,
            "_model_module": "@jupyter-widgets/controls"
          }
        },
        "64a67f57b9d64d72be63ba9f67d43507": {
          "model_module": "@jupyter-widgets/base",
          "model_name": "LayoutModel",
          "state": {
            "_view_name": "LayoutView",
            "grid_template_rows": null,
            "right": null,
            "justify_content": null,
            "_view_module": "@jupyter-widgets/base",
            "overflow": null,
            "_model_module_version": "1.2.0",
            "_view_count": null,
            "flex_flow": null,
            "width": null,
            "min_width": null,
            "border": null,
            "align_items": null,
            "bottom": null,
            "_model_module": "@jupyter-widgets/base",
            "top": null,
            "grid_column": null,
            "overflow_y": null,
            "overflow_x": null,
            "grid_auto_flow": null,
            "grid_area": null,
            "grid_template_columns": null,
            "flex": null,
            "_model_name": "LayoutModel",
            "justify_items": null,
            "grid_row": null,
            "max_height": null,
            "align_content": null,
            "visibility": null,
            "align_self": null,
            "height": null,
            "min_height": null,
            "padding": null,
            "grid_auto_rows": null,
            "grid_gap": null,
            "max_width": null,
            "order": null,
            "_view_module_version": "1.2.0",
            "grid_template_areas": null,
            "object_position": null,
            "object_fit": null,
            "grid_auto_columns": null,
            "margin": null,
            "display": null,
            "left": null
          }
        },
        "54d5308cfa4a4409ad4bf308f2ccf2ae": {
          "model_module": "@jupyter-widgets/controls",
          "model_name": "DescriptionStyleModel",
          "state": {
            "_view_name": "StyleView",
            "_model_name": "DescriptionStyleModel",
            "description_width": "",
            "_view_module": "@jupyter-widgets/base",
            "_model_module_version": "1.5.0",
            "_view_count": null,
            "_view_module_version": "1.2.0",
            "_model_module": "@jupyter-widgets/controls"
          }
        },
        "76403146003c44ff9d77afd1358a9a8e": {
          "model_module": "@jupyter-widgets/base",
          "model_name": "LayoutModel",
          "state": {
            "_view_name": "LayoutView",
            "grid_template_rows": null,
            "right": null,
            "justify_content": null,
            "_view_module": "@jupyter-widgets/base",
            "overflow": null,
            "_model_module_version": "1.2.0",
            "_view_count": null,
            "flex_flow": null,
            "width": null,
            "min_width": null,
            "border": null,
            "align_items": null,
            "bottom": null,
            "_model_module": "@jupyter-widgets/base",
            "top": null,
            "grid_column": null,
            "overflow_y": null,
            "overflow_x": null,
            "grid_auto_flow": null,
            "grid_area": null,
            "grid_template_columns": null,
            "flex": null,
            "_model_name": "LayoutModel",
            "justify_items": null,
            "grid_row": null,
            "max_height": null,
            "align_content": null,
            "visibility": null,
            "align_self": null,
            "height": null,
            "min_height": null,
            "padding": null,
            "grid_auto_rows": null,
            "grid_gap": null,
            "max_width": null,
            "order": null,
            "_view_module_version": "1.2.0",
            "grid_template_areas": null,
            "object_position": null,
            "object_fit": null,
            "grid_auto_columns": null,
            "margin": null,
            "display": null,
            "left": null
          }
        },
        "051c52e5897e4a5a89035f5f2dfa8760": {
          "model_module": "@jupyter-widgets/controls",
          "model_name": "HBoxModel",
          "state": {
            "_view_name": "HBoxView",
            "_dom_classes": [],
            "_model_name": "HBoxModel",
            "_view_module": "@jupyter-widgets/controls",
            "_model_module_version": "1.5.0",
            "_view_count": null,
            "_view_module_version": "1.5.0",
            "box_style": "",
            "layout": "IPY_MODEL_f51efb5e7fc74528ac3584e421fc9a93",
            "_model_module": "@jupyter-widgets/controls",
            "children": [
              "IPY_MODEL_ce94f718c8e04752aafc8420ff6402a8",
              "IPY_MODEL_f1f1e3decf6d4506aece0b60dbed7bf8"
            ]
          }
        },
        "f51efb5e7fc74528ac3584e421fc9a93": {
          "model_module": "@jupyter-widgets/base",
          "model_name": "LayoutModel",
          "state": {
            "_view_name": "LayoutView",
            "grid_template_rows": null,
            "right": null,
            "justify_content": null,
            "_view_module": "@jupyter-widgets/base",
            "overflow": null,
            "_model_module_version": "1.2.0",
            "_view_count": null,
            "flex_flow": null,
            "width": null,
            "min_width": null,
            "border": null,
            "align_items": null,
            "bottom": null,
            "_model_module": "@jupyter-widgets/base",
            "top": null,
            "grid_column": null,
            "overflow_y": null,
            "overflow_x": null,
            "grid_auto_flow": null,
            "grid_area": null,
            "grid_template_columns": null,
            "flex": null,
            "_model_name": "LayoutModel",
            "justify_items": null,
            "grid_row": null,
            "max_height": null,
            "align_content": null,
            "visibility": null,
            "align_self": null,
            "height": null,
            "min_height": null,
            "padding": null,
            "grid_auto_rows": null,
            "grid_gap": null,
            "max_width": null,
            "order": null,
            "_view_module_version": "1.2.0",
            "grid_template_areas": null,
            "object_position": null,
            "object_fit": null,
            "grid_auto_columns": null,
            "margin": null,
            "display": null,
            "left": null
          }
        },
        "ce94f718c8e04752aafc8420ff6402a8": {
          "model_module": "@jupyter-widgets/controls",
          "model_name": "IntProgressModel",
          "state": {
            "_view_name": "ProgressView",
            "style": "IPY_MODEL_6f66fc79687b468d914fc61239f0e480",
            "_dom_classes": [],
            "description": "100%",
            "_model_name": "IntProgressModel",
            "bar_style": "success",
            "max": 3,
            "_view_module": "@jupyter-widgets/controls",
            "_model_module_version": "1.5.0",
            "value": 3,
            "_view_count": null,
            "_view_module_version": "1.5.0",
            "orientation": "horizontal",
            "min": 0,
            "description_tooltip": null,
            "_model_module": "@jupyter-widgets/controls",
            "layout": "IPY_MODEL_23bb58fe758240f6a2bf5333e1d9fb6e"
          }
        },
        "f1f1e3decf6d4506aece0b60dbed7bf8": {
          "model_module": "@jupyter-widgets/controls",
          "model_name": "HTMLModel",
          "state": {
            "_view_name": "HTMLView",
            "style": "IPY_MODEL_6099ec6a37d94a8291b40b3c4e745926",
            "_dom_classes": [],
            "description": "",
            "_model_name": "HTMLModel",
            "placeholder": "​",
            "_view_module": "@jupyter-widgets/controls",
            "_model_module_version": "1.5.0",
            "value": " 3/3 [04:20&lt;00:00, 86.90s/it]",
            "_view_count": null,
            "_view_module_version": "1.5.0",
            "description_tooltip": null,
            "_model_module": "@jupyter-widgets/controls",
            "layout": "IPY_MODEL_24a67c63d8f44166a4509858f1db23fc"
          }
        },
        "6f66fc79687b468d914fc61239f0e480": {
          "model_module": "@jupyter-widgets/controls",
          "model_name": "ProgressStyleModel",
          "state": {
            "_view_name": "StyleView",
            "_model_name": "ProgressStyleModel",
            "description_width": "initial",
            "_view_module": "@jupyter-widgets/base",
            "_model_module_version": "1.5.0",
            "_view_count": null,
            "_view_module_version": "1.2.0",
            "bar_color": null,
            "_model_module": "@jupyter-widgets/controls"
          }
        },
        "23bb58fe758240f6a2bf5333e1d9fb6e": {
          "model_module": "@jupyter-widgets/base",
          "model_name": "LayoutModel",
          "state": {
            "_view_name": "LayoutView",
            "grid_template_rows": null,
            "right": null,
            "justify_content": null,
            "_view_module": "@jupyter-widgets/base",
            "overflow": null,
            "_model_module_version": "1.2.0",
            "_view_count": null,
            "flex_flow": null,
            "width": null,
            "min_width": null,
            "border": null,
            "align_items": null,
            "bottom": null,
            "_model_module": "@jupyter-widgets/base",
            "top": null,
            "grid_column": null,
            "overflow_y": null,
            "overflow_x": null,
            "grid_auto_flow": null,
            "grid_area": null,
            "grid_template_columns": null,
            "flex": null,
            "_model_name": "LayoutModel",
            "justify_items": null,
            "grid_row": null,
            "max_height": null,
            "align_content": null,
            "visibility": null,
            "align_self": null,
            "height": null,
            "min_height": null,
            "padding": null,
            "grid_auto_rows": null,
            "grid_gap": null,
            "max_width": null,
            "order": null,
            "_view_module_version": "1.2.0",
            "grid_template_areas": null,
            "object_position": null,
            "object_fit": null,
            "grid_auto_columns": null,
            "margin": null,
            "display": null,
            "left": null
          }
        },
        "6099ec6a37d94a8291b40b3c4e745926": {
          "model_module": "@jupyter-widgets/controls",
          "model_name": "DescriptionStyleModel",
          "state": {
            "_view_name": "StyleView",
            "_model_name": "DescriptionStyleModel",
            "description_width": "",
            "_view_module": "@jupyter-widgets/base",
            "_model_module_version": "1.5.0",
            "_view_count": null,
            "_view_module_version": "1.2.0",
            "_model_module": "@jupyter-widgets/controls"
          }
        },
        "24a67c63d8f44166a4509858f1db23fc": {
          "model_module": "@jupyter-widgets/base",
          "model_name": "LayoutModel",
          "state": {
            "_view_name": "LayoutView",
            "grid_template_rows": null,
            "right": null,
            "justify_content": null,
            "_view_module": "@jupyter-widgets/base",
            "overflow": null,
            "_model_module_version": "1.2.0",
            "_view_count": null,
            "flex_flow": null,
            "width": null,
            "min_width": null,
            "border": null,
            "align_items": null,
            "bottom": null,
            "_model_module": "@jupyter-widgets/base",
            "top": null,
            "grid_column": null,
            "overflow_y": null,
            "overflow_x": null,
            "grid_auto_flow": null,
            "grid_area": null,
            "grid_template_columns": null,
            "flex": null,
            "_model_name": "LayoutModel",
            "justify_items": null,
            "grid_row": null,
            "max_height": null,
            "align_content": null,
            "visibility": null,
            "align_self": null,
            "height": null,
            "min_height": null,
            "padding": null,
            "grid_auto_rows": null,
            "grid_gap": null,
            "max_width": null,
            "order": null,
            "_view_module_version": "1.2.0",
            "grid_template_areas": null,
            "object_position": null,
            "object_fit": null,
            "grid_auto_columns": null,
            "margin": null,
            "display": null,
            "left": null
          }
        },
        "b3eaf0a8cb5340b183db82863ec59a52": {
          "model_module": "@jupyter-widgets/controls",
          "model_name": "HBoxModel",
          "state": {
            "_view_name": "HBoxView",
            "_dom_classes": [],
            "_model_name": "HBoxModel",
            "_view_module": "@jupyter-widgets/controls",
            "_model_module_version": "1.5.0",
            "_view_count": null,
            "_view_module_version": "1.5.0",
            "box_style": "",
            "layout": "IPY_MODEL_6f3d05b2b2ed45a8a9a9a70069929557",
            "_model_module": "@jupyter-widgets/controls",
            "children": [
              "IPY_MODEL_5fa8e1b776ad49f4bbc9c72986b8dfd9",
              "IPY_MODEL_612825cba4254bcda5b609118449faa2"
            ]
          }
        },
        "6f3d05b2b2ed45a8a9a9a70069929557": {
          "model_module": "@jupyter-widgets/base",
          "model_name": "LayoutModel",
          "state": {
            "_view_name": "LayoutView",
            "grid_template_rows": null,
            "right": null,
            "justify_content": null,
            "_view_module": "@jupyter-widgets/base",
            "overflow": null,
            "_model_module_version": "1.2.0",
            "_view_count": null,
            "flex_flow": null,
            "width": null,
            "min_width": null,
            "border": null,
            "align_items": null,
            "bottom": null,
            "_model_module": "@jupyter-widgets/base",
            "top": null,
            "grid_column": null,
            "overflow_y": null,
            "overflow_x": null,
            "grid_auto_flow": null,
            "grid_area": null,
            "grid_template_columns": null,
            "flex": null,
            "_model_name": "LayoutModel",
            "justify_items": null,
            "grid_row": null,
            "max_height": null,
            "align_content": null,
            "visibility": null,
            "align_self": null,
            "height": null,
            "min_height": null,
            "padding": null,
            "grid_auto_rows": null,
            "grid_gap": null,
            "max_width": null,
            "order": null,
            "_view_module_version": "1.2.0",
            "grid_template_areas": null,
            "object_position": null,
            "object_fit": null,
            "grid_auto_columns": null,
            "margin": null,
            "display": null,
            "left": null
          }
        },
        "5fa8e1b776ad49f4bbc9c72986b8dfd9": {
          "model_module": "@jupyter-widgets/controls",
          "model_name": "IntProgressModel",
          "state": {
            "_view_name": "ProgressView",
            "style": "IPY_MODEL_87598f4461e74be4bcdbfd377bf23fec",
            "_dom_classes": [],
            "description": "100%",
            "_model_name": "IntProgressModel",
            "bar_style": "success",
            "max": 3,
            "_view_module": "@jupyter-widgets/controls",
            "_model_module_version": "1.5.0",
            "value": 3,
            "_view_count": null,
            "_view_module_version": "1.5.0",
            "orientation": "horizontal",
            "min": 0,
            "description_tooltip": null,
            "_model_module": "@jupyter-widgets/controls",
            "layout": "IPY_MODEL_c62103c5d732448b8192290f7db666bb"
          }
        },
        "612825cba4254bcda5b609118449faa2": {
          "model_module": "@jupyter-widgets/controls",
          "model_name": "HTMLModel",
          "state": {
            "_view_name": "HTMLView",
            "style": "IPY_MODEL_9274e19aa6b34594a2a2c4b19da013f7",
            "_dom_classes": [],
            "description": "",
            "_model_name": "HTMLModel",
            "placeholder": "​",
            "_view_module": "@jupyter-widgets/controls",
            "_model_module_version": "1.5.0",
            "value": " 3/3 [07:28&lt;00:00, 149.38s/it]",
            "_view_count": null,
            "_view_module_version": "1.5.0",
            "description_tooltip": null,
            "_model_module": "@jupyter-widgets/controls",
            "layout": "IPY_MODEL_af86b875272d4da0839b43d463a712a0"
          }
        },
        "87598f4461e74be4bcdbfd377bf23fec": {
          "model_module": "@jupyter-widgets/controls",
          "model_name": "ProgressStyleModel",
          "state": {
            "_view_name": "StyleView",
            "_model_name": "ProgressStyleModel",
            "description_width": "initial",
            "_view_module": "@jupyter-widgets/base",
            "_model_module_version": "1.5.0",
            "_view_count": null,
            "_view_module_version": "1.2.0",
            "bar_color": null,
            "_model_module": "@jupyter-widgets/controls"
          }
        },
        "c62103c5d732448b8192290f7db666bb": {
          "model_module": "@jupyter-widgets/base",
          "model_name": "LayoutModel",
          "state": {
            "_view_name": "LayoutView",
            "grid_template_rows": null,
            "right": null,
            "justify_content": null,
            "_view_module": "@jupyter-widgets/base",
            "overflow": null,
            "_model_module_version": "1.2.0",
            "_view_count": null,
            "flex_flow": null,
            "width": null,
            "min_width": null,
            "border": null,
            "align_items": null,
            "bottom": null,
            "_model_module": "@jupyter-widgets/base",
            "top": null,
            "grid_column": null,
            "overflow_y": null,
            "overflow_x": null,
            "grid_auto_flow": null,
            "grid_area": null,
            "grid_template_columns": null,
            "flex": null,
            "_model_name": "LayoutModel",
            "justify_items": null,
            "grid_row": null,
            "max_height": null,
            "align_content": null,
            "visibility": null,
            "align_self": null,
            "height": null,
            "min_height": null,
            "padding": null,
            "grid_auto_rows": null,
            "grid_gap": null,
            "max_width": null,
            "order": null,
            "_view_module_version": "1.2.0",
            "grid_template_areas": null,
            "object_position": null,
            "object_fit": null,
            "grid_auto_columns": null,
            "margin": null,
            "display": null,
            "left": null
          }
        },
        "9274e19aa6b34594a2a2c4b19da013f7": {
          "model_module": "@jupyter-widgets/controls",
          "model_name": "DescriptionStyleModel",
          "state": {
            "_view_name": "StyleView",
            "_model_name": "DescriptionStyleModel",
            "description_width": "",
            "_view_module": "@jupyter-widgets/base",
            "_model_module_version": "1.5.0",
            "_view_count": null,
            "_view_module_version": "1.2.0",
            "_model_module": "@jupyter-widgets/controls"
          }
        },
        "af86b875272d4da0839b43d463a712a0": {
          "model_module": "@jupyter-widgets/base",
          "model_name": "LayoutModel",
          "state": {
            "_view_name": "LayoutView",
            "grid_template_rows": null,
            "right": null,
            "justify_content": null,
            "_view_module": "@jupyter-widgets/base",
            "overflow": null,
            "_model_module_version": "1.2.0",
            "_view_count": null,
            "flex_flow": null,
            "width": null,
            "min_width": null,
            "border": null,
            "align_items": null,
            "bottom": null,
            "_model_module": "@jupyter-widgets/base",
            "top": null,
            "grid_column": null,
            "overflow_y": null,
            "overflow_x": null,
            "grid_auto_flow": null,
            "grid_area": null,
            "grid_template_columns": null,
            "flex": null,
            "_model_name": "LayoutModel",
            "justify_items": null,
            "grid_row": null,
            "max_height": null,
            "align_content": null,
            "visibility": null,
            "align_self": null,
            "height": null,
            "min_height": null,
            "padding": null,
            "grid_auto_rows": null,
            "grid_gap": null,
            "max_width": null,
            "order": null,
            "_view_module_version": "1.2.0",
            "grid_template_areas": null,
            "object_position": null,
            "object_fit": null,
            "grid_auto_columns": null,
            "margin": null,
            "display": null,
            "left": null
          }
        },
        "edc93ea080024e40914d22b6233f3e06": {
          "model_module": "@jupyter-widgets/controls",
          "model_name": "HBoxModel",
          "state": {
            "_view_name": "HBoxView",
            "_dom_classes": [],
            "_model_name": "HBoxModel",
            "_view_module": "@jupyter-widgets/controls",
            "_model_module_version": "1.5.0",
            "_view_count": null,
            "_view_module_version": "1.5.0",
            "box_style": "",
            "layout": "IPY_MODEL_2c0350108cf6419ebd1b6beb97ec147f",
            "_model_module": "@jupyter-widgets/controls",
            "children": [
              "IPY_MODEL_de212c3a0013440ca7b86c6996269719",
              "IPY_MODEL_393ad796611f4a648601e4692d107499"
            ]
          }
        },
        "2c0350108cf6419ebd1b6beb97ec147f": {
          "model_module": "@jupyter-widgets/base",
          "model_name": "LayoutModel",
          "state": {
            "_view_name": "LayoutView",
            "grid_template_rows": null,
            "right": null,
            "justify_content": null,
            "_view_module": "@jupyter-widgets/base",
            "overflow": null,
            "_model_module_version": "1.2.0",
            "_view_count": null,
            "flex_flow": null,
            "width": null,
            "min_width": null,
            "border": null,
            "align_items": null,
            "bottom": null,
            "_model_module": "@jupyter-widgets/base",
            "top": null,
            "grid_column": null,
            "overflow_y": null,
            "overflow_x": null,
            "grid_auto_flow": null,
            "grid_area": null,
            "grid_template_columns": null,
            "flex": null,
            "_model_name": "LayoutModel",
            "justify_items": null,
            "grid_row": null,
            "max_height": null,
            "align_content": null,
            "visibility": null,
            "align_self": null,
            "height": null,
            "min_height": null,
            "padding": null,
            "grid_auto_rows": null,
            "grid_gap": null,
            "max_width": null,
            "order": null,
            "_view_module_version": "1.2.0",
            "grid_template_areas": null,
            "object_position": null,
            "object_fit": null,
            "grid_auto_columns": null,
            "margin": null,
            "display": null,
            "left": null
          }
        },
        "de212c3a0013440ca7b86c6996269719": {
          "model_module": "@jupyter-widgets/controls",
          "model_name": "IntProgressModel",
          "state": {
            "_view_name": "ProgressView",
            "style": "IPY_MODEL_444e6113f58c4bd8886c3122987a7b54",
            "_dom_classes": [],
            "description": "100%",
            "_model_name": "IntProgressModel",
            "bar_style": "success",
            "max": 3,
            "_view_module": "@jupyter-widgets/controls",
            "_model_module_version": "1.5.0",
            "value": 3,
            "_view_count": null,
            "_view_module_version": "1.5.0",
            "orientation": "horizontal",
            "min": 0,
            "description_tooltip": null,
            "_model_module": "@jupyter-widgets/controls",
            "layout": "IPY_MODEL_47a513752dba44859cbe527682eec265"
          }
        },
        "393ad796611f4a648601e4692d107499": {
          "model_module": "@jupyter-widgets/controls",
          "model_name": "HTMLModel",
          "state": {
            "_view_name": "HTMLView",
            "style": "IPY_MODEL_bd279e253d964773b4884e5afede7bd0",
            "_dom_classes": [],
            "description": "",
            "_model_name": "HTMLModel",
            "placeholder": "​",
            "_view_module": "@jupyter-widgets/controls",
            "_model_module_version": "1.5.0",
            "value": " 3/3 [01:23&lt;00:00, 27.92s/it]",
            "_view_count": null,
            "_view_module_version": "1.5.0",
            "description_tooltip": null,
            "_model_module": "@jupyter-widgets/controls",
            "layout": "IPY_MODEL_749a86b4e33441fe8101546ed32a081d"
          }
        },
        "444e6113f58c4bd8886c3122987a7b54": {
          "model_module": "@jupyter-widgets/controls",
          "model_name": "ProgressStyleModel",
          "state": {
            "_view_name": "StyleView",
            "_model_name": "ProgressStyleModel",
            "description_width": "initial",
            "_view_module": "@jupyter-widgets/base",
            "_model_module_version": "1.5.0",
            "_view_count": null,
            "_view_module_version": "1.2.0",
            "bar_color": null,
            "_model_module": "@jupyter-widgets/controls"
          }
        },
        "47a513752dba44859cbe527682eec265": {
          "model_module": "@jupyter-widgets/base",
          "model_name": "LayoutModel",
          "state": {
            "_view_name": "LayoutView",
            "grid_template_rows": null,
            "right": null,
            "justify_content": null,
            "_view_module": "@jupyter-widgets/base",
            "overflow": null,
            "_model_module_version": "1.2.0",
            "_view_count": null,
            "flex_flow": null,
            "width": null,
            "min_width": null,
            "border": null,
            "align_items": null,
            "bottom": null,
            "_model_module": "@jupyter-widgets/base",
            "top": null,
            "grid_column": null,
            "overflow_y": null,
            "overflow_x": null,
            "grid_auto_flow": null,
            "grid_area": null,
            "grid_template_columns": null,
            "flex": null,
            "_model_name": "LayoutModel",
            "justify_items": null,
            "grid_row": null,
            "max_height": null,
            "align_content": null,
            "visibility": null,
            "align_self": null,
            "height": null,
            "min_height": null,
            "padding": null,
            "grid_auto_rows": null,
            "grid_gap": null,
            "max_width": null,
            "order": null,
            "_view_module_version": "1.2.0",
            "grid_template_areas": null,
            "object_position": null,
            "object_fit": null,
            "grid_auto_columns": null,
            "margin": null,
            "display": null,
            "left": null
          }
        },
        "bd279e253d964773b4884e5afede7bd0": {
          "model_module": "@jupyter-widgets/controls",
          "model_name": "DescriptionStyleModel",
          "state": {
            "_view_name": "StyleView",
            "_model_name": "DescriptionStyleModel",
            "description_width": "",
            "_view_module": "@jupyter-widgets/base",
            "_model_module_version": "1.5.0",
            "_view_count": null,
            "_view_module_version": "1.2.0",
            "_model_module": "@jupyter-widgets/controls"
          }
        },
        "749a86b4e33441fe8101546ed32a081d": {
          "model_module": "@jupyter-widgets/base",
          "model_name": "LayoutModel",
          "state": {
            "_view_name": "LayoutView",
            "grid_template_rows": null,
            "right": null,
            "justify_content": null,
            "_view_module": "@jupyter-widgets/base",
            "overflow": null,
            "_model_module_version": "1.2.0",
            "_view_count": null,
            "flex_flow": null,
            "width": null,
            "min_width": null,
            "border": null,
            "align_items": null,
            "bottom": null,
            "_model_module": "@jupyter-widgets/base",
            "top": null,
            "grid_column": null,
            "overflow_y": null,
            "overflow_x": null,
            "grid_auto_flow": null,
            "grid_area": null,
            "grid_template_columns": null,
            "flex": null,
            "_model_name": "LayoutModel",
            "justify_items": null,
            "grid_row": null,
            "max_height": null,
            "align_content": null,
            "visibility": null,
            "align_self": null,
            "height": null,
            "min_height": null,
            "padding": null,
            "grid_auto_rows": null,
            "grid_gap": null,
            "max_width": null,
            "order": null,
            "_view_module_version": "1.2.0",
            "grid_template_areas": null,
            "object_position": null,
            "object_fit": null,
            "grid_auto_columns": null,
            "margin": null,
            "display": null,
            "left": null
          }
        },
        "223581c4351640edbd0a0e716ee086d2": {
          "model_module": "@jupyter-widgets/controls",
          "model_name": "HBoxModel",
          "state": {
            "_view_name": "HBoxView",
            "_dom_classes": [],
            "_model_name": "HBoxModel",
            "_view_module": "@jupyter-widgets/controls",
            "_model_module_version": "1.5.0",
            "_view_count": null,
            "_view_module_version": "1.5.0",
            "box_style": "",
            "layout": "IPY_MODEL_b74ee0ce6f2d473c8269a01335eb5f5f",
            "_model_module": "@jupyter-widgets/controls",
            "children": [
              "IPY_MODEL_1bc5fe0cde9545c688d675f7dc2faf09",
              "IPY_MODEL_a0d536b5cb57483085fbbb42497cf58e"
            ]
          }
        },
        "b74ee0ce6f2d473c8269a01335eb5f5f": {
          "model_module": "@jupyter-widgets/base",
          "model_name": "LayoutModel",
          "state": {
            "_view_name": "LayoutView",
            "grid_template_rows": null,
            "right": null,
            "justify_content": null,
            "_view_module": "@jupyter-widgets/base",
            "overflow": null,
            "_model_module_version": "1.2.0",
            "_view_count": null,
            "flex_flow": null,
            "width": null,
            "min_width": null,
            "border": null,
            "align_items": null,
            "bottom": null,
            "_model_module": "@jupyter-widgets/base",
            "top": null,
            "grid_column": null,
            "overflow_y": null,
            "overflow_x": null,
            "grid_auto_flow": null,
            "grid_area": null,
            "grid_template_columns": null,
            "flex": null,
            "_model_name": "LayoutModel",
            "justify_items": null,
            "grid_row": null,
            "max_height": null,
            "align_content": null,
            "visibility": null,
            "align_self": null,
            "height": null,
            "min_height": null,
            "padding": null,
            "grid_auto_rows": null,
            "grid_gap": null,
            "max_width": null,
            "order": null,
            "_view_module_version": "1.2.0",
            "grid_template_areas": null,
            "object_position": null,
            "object_fit": null,
            "grid_auto_columns": null,
            "margin": null,
            "display": null,
            "left": null
          }
        },
        "1bc5fe0cde9545c688d675f7dc2faf09": {
          "model_module": "@jupyter-widgets/controls",
          "model_name": "IntProgressModel",
          "state": {
            "_view_name": "ProgressView",
            "style": "IPY_MODEL_112ef2e465094fdda95681931ff4aa32",
            "_dom_classes": [],
            "description": "100%",
            "_model_name": "IntProgressModel",
            "bar_style": "success",
            "max": 3,
            "_view_module": "@jupyter-widgets/controls",
            "_model_module_version": "1.5.0",
            "value": 3,
            "_view_count": null,
            "_view_module_version": "1.5.0",
            "orientation": "horizontal",
            "min": 0,
            "description_tooltip": null,
            "_model_module": "@jupyter-widgets/controls",
            "layout": "IPY_MODEL_d3bcbf8c62f049d78a931816c81458b9"
          }
        },
        "a0d536b5cb57483085fbbb42497cf58e": {
          "model_module": "@jupyter-widgets/controls",
          "model_name": "HTMLModel",
          "state": {
            "_view_name": "HTMLView",
            "style": "IPY_MODEL_614333de7f6b417b82c05fc88a3c1286",
            "_dom_classes": [],
            "description": "",
            "_model_name": "HTMLModel",
            "placeholder": "​",
            "_view_module": "@jupyter-widgets/controls",
            "_model_module_version": "1.5.0",
            "value": " 3/3 [02:54&lt;00:00, 58.03s/it]",
            "_view_count": null,
            "_view_module_version": "1.5.0",
            "description_tooltip": null,
            "_model_module": "@jupyter-widgets/controls",
            "layout": "IPY_MODEL_5f1406c86f6e49a69d1dd7430a21440d"
          }
        },
        "112ef2e465094fdda95681931ff4aa32": {
          "model_module": "@jupyter-widgets/controls",
          "model_name": "ProgressStyleModel",
          "state": {
            "_view_name": "StyleView",
            "_model_name": "ProgressStyleModel",
            "description_width": "initial",
            "_view_module": "@jupyter-widgets/base",
            "_model_module_version": "1.5.0",
            "_view_count": null,
            "_view_module_version": "1.2.0",
            "bar_color": null,
            "_model_module": "@jupyter-widgets/controls"
          }
        },
        "d3bcbf8c62f049d78a931816c81458b9": {
          "model_module": "@jupyter-widgets/base",
          "model_name": "LayoutModel",
          "state": {
            "_view_name": "LayoutView",
            "grid_template_rows": null,
            "right": null,
            "justify_content": null,
            "_view_module": "@jupyter-widgets/base",
            "overflow": null,
            "_model_module_version": "1.2.0",
            "_view_count": null,
            "flex_flow": null,
            "width": null,
            "min_width": null,
            "border": null,
            "align_items": null,
            "bottom": null,
            "_model_module": "@jupyter-widgets/base",
            "top": null,
            "grid_column": null,
            "overflow_y": null,
            "overflow_x": null,
            "grid_auto_flow": null,
            "grid_area": null,
            "grid_template_columns": null,
            "flex": null,
            "_model_name": "LayoutModel",
            "justify_items": null,
            "grid_row": null,
            "max_height": null,
            "align_content": null,
            "visibility": null,
            "align_self": null,
            "height": null,
            "min_height": null,
            "padding": null,
            "grid_auto_rows": null,
            "grid_gap": null,
            "max_width": null,
            "order": null,
            "_view_module_version": "1.2.0",
            "grid_template_areas": null,
            "object_position": null,
            "object_fit": null,
            "grid_auto_columns": null,
            "margin": null,
            "display": null,
            "left": null
          }
        },
        "614333de7f6b417b82c05fc88a3c1286": {
          "model_module": "@jupyter-widgets/controls",
          "model_name": "DescriptionStyleModel",
          "state": {
            "_view_name": "StyleView",
            "_model_name": "DescriptionStyleModel",
            "description_width": "",
            "_view_module": "@jupyter-widgets/base",
            "_model_module_version": "1.5.0",
            "_view_count": null,
            "_view_module_version": "1.2.0",
            "_model_module": "@jupyter-widgets/controls"
          }
        },
        "5f1406c86f6e49a69d1dd7430a21440d": {
          "model_module": "@jupyter-widgets/base",
          "model_name": "LayoutModel",
          "state": {
            "_view_name": "LayoutView",
            "grid_template_rows": null,
            "right": null,
            "justify_content": null,
            "_view_module": "@jupyter-widgets/base",
            "overflow": null,
            "_model_module_version": "1.2.0",
            "_view_count": null,
            "flex_flow": null,
            "width": null,
            "min_width": null,
            "border": null,
            "align_items": null,
            "bottom": null,
            "_model_module": "@jupyter-widgets/base",
            "top": null,
            "grid_column": null,
            "overflow_y": null,
            "overflow_x": null,
            "grid_auto_flow": null,
            "grid_area": null,
            "grid_template_columns": null,
            "flex": null,
            "_model_name": "LayoutModel",
            "justify_items": null,
            "grid_row": null,
            "max_height": null,
            "align_content": null,
            "visibility": null,
            "align_self": null,
            "height": null,
            "min_height": null,
            "padding": null,
            "grid_auto_rows": null,
            "grid_gap": null,
            "max_width": null,
            "order": null,
            "_view_module_version": "1.2.0",
            "grid_template_areas": null,
            "object_position": null,
            "object_fit": null,
            "grid_auto_columns": null,
            "margin": null,
            "display": null,
            "left": null
          }
        },
        "fb7fea0933744a96a106ebe4d82b7c69": {
          "model_module": "@jupyter-widgets/controls",
          "model_name": "HBoxModel",
          "state": {
            "_view_name": "HBoxView",
            "_dom_classes": [],
            "_model_name": "HBoxModel",
            "_view_module": "@jupyter-widgets/controls",
            "_model_module_version": "1.5.0",
            "_view_count": null,
            "_view_module_version": "1.5.0",
            "box_style": "",
            "layout": "IPY_MODEL_2be97099d5204906af39f320f6275285",
            "_model_module": "@jupyter-widgets/controls",
            "children": [
              "IPY_MODEL_bb0380b12e794c7fa21bb57cdca0311e",
              "IPY_MODEL_2e3a41d6f219425bad12e2b158c012bb"
            ]
          }
        },
        "2be97099d5204906af39f320f6275285": {
          "model_module": "@jupyter-widgets/base",
          "model_name": "LayoutModel",
          "state": {
            "_view_name": "LayoutView",
            "grid_template_rows": null,
            "right": null,
            "justify_content": null,
            "_view_module": "@jupyter-widgets/base",
            "overflow": null,
            "_model_module_version": "1.2.0",
            "_view_count": null,
            "flex_flow": null,
            "width": null,
            "min_width": null,
            "border": null,
            "align_items": null,
            "bottom": null,
            "_model_module": "@jupyter-widgets/base",
            "top": null,
            "grid_column": null,
            "overflow_y": null,
            "overflow_x": null,
            "grid_auto_flow": null,
            "grid_area": null,
            "grid_template_columns": null,
            "flex": null,
            "_model_name": "LayoutModel",
            "justify_items": null,
            "grid_row": null,
            "max_height": null,
            "align_content": null,
            "visibility": null,
            "align_self": null,
            "height": null,
            "min_height": null,
            "padding": null,
            "grid_auto_rows": null,
            "grid_gap": null,
            "max_width": null,
            "order": null,
            "_view_module_version": "1.2.0",
            "grid_template_areas": null,
            "object_position": null,
            "object_fit": null,
            "grid_auto_columns": null,
            "margin": null,
            "display": null,
            "left": null
          }
        },
        "bb0380b12e794c7fa21bb57cdca0311e": {
          "model_module": "@jupyter-widgets/controls",
          "model_name": "IntProgressModel",
          "state": {
            "_view_name": "ProgressView",
            "style": "IPY_MODEL_a1c6b48fe0e24ad79d927f51dae1f499",
            "_dom_classes": [],
            "description": "100%",
            "_model_name": "IntProgressModel",
            "bar_style": "success",
            "max": 3,
            "_view_module": "@jupyter-widgets/controls",
            "_model_module_version": "1.5.0",
            "value": 3,
            "_view_count": null,
            "_view_module_version": "1.5.0",
            "orientation": "horizontal",
            "min": 0,
            "description_tooltip": null,
            "_model_module": "@jupyter-widgets/controls",
            "layout": "IPY_MODEL_9380e2064d4442558ee47b63391638dc"
          }
        },
        "2e3a41d6f219425bad12e2b158c012bb": {
          "model_module": "@jupyter-widgets/controls",
          "model_name": "HTMLModel",
          "state": {
            "_view_name": "HTMLView",
            "style": "IPY_MODEL_b298c55dfe094c24855554aa75489869",
            "_dom_classes": [],
            "description": "",
            "_model_name": "HTMLModel",
            "placeholder": "​",
            "_view_module": "@jupyter-widgets/controls",
            "_model_module_version": "1.5.0",
            "value": " 3/3 [02:31&lt;00:00, 50.62s/it]",
            "_view_count": null,
            "_view_module_version": "1.5.0",
            "description_tooltip": null,
            "_model_module": "@jupyter-widgets/controls",
            "layout": "IPY_MODEL_0e440b30fe73406aa61f01b674992c5e"
          }
        },
        "a1c6b48fe0e24ad79d927f51dae1f499": {
          "model_module": "@jupyter-widgets/controls",
          "model_name": "ProgressStyleModel",
          "state": {
            "_view_name": "StyleView",
            "_model_name": "ProgressStyleModel",
            "description_width": "initial",
            "_view_module": "@jupyter-widgets/base",
            "_model_module_version": "1.5.0",
            "_view_count": null,
            "_view_module_version": "1.2.0",
            "bar_color": null,
            "_model_module": "@jupyter-widgets/controls"
          }
        },
        "9380e2064d4442558ee47b63391638dc": {
          "model_module": "@jupyter-widgets/base",
          "model_name": "LayoutModel",
          "state": {
            "_view_name": "LayoutView",
            "grid_template_rows": null,
            "right": null,
            "justify_content": null,
            "_view_module": "@jupyter-widgets/base",
            "overflow": null,
            "_model_module_version": "1.2.0",
            "_view_count": null,
            "flex_flow": null,
            "width": null,
            "min_width": null,
            "border": null,
            "align_items": null,
            "bottom": null,
            "_model_module": "@jupyter-widgets/base",
            "top": null,
            "grid_column": null,
            "overflow_y": null,
            "overflow_x": null,
            "grid_auto_flow": null,
            "grid_area": null,
            "grid_template_columns": null,
            "flex": null,
            "_model_name": "LayoutModel",
            "justify_items": null,
            "grid_row": null,
            "max_height": null,
            "align_content": null,
            "visibility": null,
            "align_self": null,
            "height": null,
            "min_height": null,
            "padding": null,
            "grid_auto_rows": null,
            "grid_gap": null,
            "max_width": null,
            "order": null,
            "_view_module_version": "1.2.0",
            "grid_template_areas": null,
            "object_position": null,
            "object_fit": null,
            "grid_auto_columns": null,
            "margin": null,
            "display": null,
            "left": null
          }
        },
        "b298c55dfe094c24855554aa75489869": {
          "model_module": "@jupyter-widgets/controls",
          "model_name": "DescriptionStyleModel",
          "state": {
            "_view_name": "StyleView",
            "_model_name": "DescriptionStyleModel",
            "description_width": "",
            "_view_module": "@jupyter-widgets/base",
            "_model_module_version": "1.5.0",
            "_view_count": null,
            "_view_module_version": "1.2.0",
            "_model_module": "@jupyter-widgets/controls"
          }
        },
        "0e440b30fe73406aa61f01b674992c5e": {
          "model_module": "@jupyter-widgets/base",
          "model_name": "LayoutModel",
          "state": {
            "_view_name": "LayoutView",
            "grid_template_rows": null,
            "right": null,
            "justify_content": null,
            "_view_module": "@jupyter-widgets/base",
            "overflow": null,
            "_model_module_version": "1.2.0",
            "_view_count": null,
            "flex_flow": null,
            "width": null,
            "min_width": null,
            "border": null,
            "align_items": null,
            "bottom": null,
            "_model_module": "@jupyter-widgets/base",
            "top": null,
            "grid_column": null,
            "overflow_y": null,
            "overflow_x": null,
            "grid_auto_flow": null,
            "grid_area": null,
            "grid_template_columns": null,
            "flex": null,
            "_model_name": "LayoutModel",
            "justify_items": null,
            "grid_row": null,
            "max_height": null,
            "align_content": null,
            "visibility": null,
            "align_self": null,
            "height": null,
            "min_height": null,
            "padding": null,
            "grid_auto_rows": null,
            "grid_gap": null,
            "max_width": null,
            "order": null,
            "_view_module_version": "1.2.0",
            "grid_template_areas": null,
            "object_position": null,
            "object_fit": null,
            "grid_auto_columns": null,
            "margin": null,
            "display": null,
            "left": null
          }
        },
        "ace9eae3207e4bc5aff9047cdace77b0": {
          "model_module": "@jupyter-widgets/controls",
          "model_name": "HBoxModel",
          "state": {
            "_view_name": "HBoxView",
            "_dom_classes": [],
            "_model_name": "HBoxModel",
            "_view_module": "@jupyter-widgets/controls",
            "_model_module_version": "1.5.0",
            "_view_count": null,
            "_view_module_version": "1.5.0",
            "box_style": "",
            "layout": "IPY_MODEL_9e59d7848acc47639f25ef0fb7bc7d73",
            "_model_module": "@jupyter-widgets/controls",
            "children": [
              "IPY_MODEL_c1b4adc40f424690b0e136dd0fbf4c1e",
              "IPY_MODEL_13f835f771a144e18ce18990ea602740"
            ]
          }
        },
        "9e59d7848acc47639f25ef0fb7bc7d73": {
          "model_module": "@jupyter-widgets/base",
          "model_name": "LayoutModel",
          "state": {
            "_view_name": "LayoutView",
            "grid_template_rows": null,
            "right": null,
            "justify_content": null,
            "_view_module": "@jupyter-widgets/base",
            "overflow": null,
            "_model_module_version": "1.2.0",
            "_view_count": null,
            "flex_flow": null,
            "width": null,
            "min_width": null,
            "border": null,
            "align_items": null,
            "bottom": null,
            "_model_module": "@jupyter-widgets/base",
            "top": null,
            "grid_column": null,
            "overflow_y": null,
            "overflow_x": null,
            "grid_auto_flow": null,
            "grid_area": null,
            "grid_template_columns": null,
            "flex": null,
            "_model_name": "LayoutModel",
            "justify_items": null,
            "grid_row": null,
            "max_height": null,
            "align_content": null,
            "visibility": null,
            "align_self": null,
            "height": null,
            "min_height": null,
            "padding": null,
            "grid_auto_rows": null,
            "grid_gap": null,
            "max_width": null,
            "order": null,
            "_view_module_version": "1.2.0",
            "grid_template_areas": null,
            "object_position": null,
            "object_fit": null,
            "grid_auto_columns": null,
            "margin": null,
            "display": null,
            "left": null
          }
        },
        "c1b4adc40f424690b0e136dd0fbf4c1e": {
          "model_module": "@jupyter-widgets/controls",
          "model_name": "IntProgressModel",
          "state": {
            "_view_name": "ProgressView",
            "style": "IPY_MODEL_827850a995a54593929ec08d8fd4f196",
            "_dom_classes": [],
            "description": "100%",
            "_model_name": "IntProgressModel",
            "bar_style": "success",
            "max": 3,
            "_view_module": "@jupyter-widgets/controls",
            "_model_module_version": "1.5.0",
            "value": 3,
            "_view_count": null,
            "_view_module_version": "1.5.0",
            "orientation": "horizontal",
            "min": 0,
            "description_tooltip": null,
            "_model_module": "@jupyter-widgets/controls",
            "layout": "IPY_MODEL_74a2b1a1583a4ef69cb0e3c4e363ce2a"
          }
        },
        "13f835f771a144e18ce18990ea602740": {
          "model_module": "@jupyter-widgets/controls",
          "model_name": "HTMLModel",
          "state": {
            "_view_name": "HTMLView",
            "style": "IPY_MODEL_0f16c63e5b874000aadea498dfbe32ff",
            "_dom_classes": [],
            "description": "",
            "_model_name": "HTMLModel",
            "placeholder": "​",
            "_view_module": "@jupyter-widgets/controls",
            "_model_module_version": "1.5.0",
            "value": " 3/3 [02:03&lt;00:00, 41.10s/it]",
            "_view_count": null,
            "_view_module_version": "1.5.0",
            "description_tooltip": null,
            "_model_module": "@jupyter-widgets/controls",
            "layout": "IPY_MODEL_a48c2d4d90d54f92a21631a3d66d36df"
          }
        },
        "827850a995a54593929ec08d8fd4f196": {
          "model_module": "@jupyter-widgets/controls",
          "model_name": "ProgressStyleModel",
          "state": {
            "_view_name": "StyleView",
            "_model_name": "ProgressStyleModel",
            "description_width": "initial",
            "_view_module": "@jupyter-widgets/base",
            "_model_module_version": "1.5.0",
            "_view_count": null,
            "_view_module_version": "1.2.0",
            "bar_color": null,
            "_model_module": "@jupyter-widgets/controls"
          }
        },
        "74a2b1a1583a4ef69cb0e3c4e363ce2a": {
          "model_module": "@jupyter-widgets/base",
          "model_name": "LayoutModel",
          "state": {
            "_view_name": "LayoutView",
            "grid_template_rows": null,
            "right": null,
            "justify_content": null,
            "_view_module": "@jupyter-widgets/base",
            "overflow": null,
            "_model_module_version": "1.2.0",
            "_view_count": null,
            "flex_flow": null,
            "width": null,
            "min_width": null,
            "border": null,
            "align_items": null,
            "bottom": null,
            "_model_module": "@jupyter-widgets/base",
            "top": null,
            "grid_column": null,
            "overflow_y": null,
            "overflow_x": null,
            "grid_auto_flow": null,
            "grid_area": null,
            "grid_template_columns": null,
            "flex": null,
            "_model_name": "LayoutModel",
            "justify_items": null,
            "grid_row": null,
            "max_height": null,
            "align_content": null,
            "visibility": null,
            "align_self": null,
            "height": null,
            "min_height": null,
            "padding": null,
            "grid_auto_rows": null,
            "grid_gap": null,
            "max_width": null,
            "order": null,
            "_view_module_version": "1.2.0",
            "grid_template_areas": null,
            "object_position": null,
            "object_fit": null,
            "grid_auto_columns": null,
            "margin": null,
            "display": null,
            "left": null
          }
        },
        "0f16c63e5b874000aadea498dfbe32ff": {
          "model_module": "@jupyter-widgets/controls",
          "model_name": "DescriptionStyleModel",
          "state": {
            "_view_name": "StyleView",
            "_model_name": "DescriptionStyleModel",
            "description_width": "",
            "_view_module": "@jupyter-widgets/base",
            "_model_module_version": "1.5.0",
            "_view_count": null,
            "_view_module_version": "1.2.0",
            "_model_module": "@jupyter-widgets/controls"
          }
        },
        "a48c2d4d90d54f92a21631a3d66d36df": {
          "model_module": "@jupyter-widgets/base",
          "model_name": "LayoutModel",
          "state": {
            "_view_name": "LayoutView",
            "grid_template_rows": null,
            "right": null,
            "justify_content": null,
            "_view_module": "@jupyter-widgets/base",
            "overflow": null,
            "_model_module_version": "1.2.0",
            "_view_count": null,
            "flex_flow": null,
            "width": null,
            "min_width": null,
            "border": null,
            "align_items": null,
            "bottom": null,
            "_model_module": "@jupyter-widgets/base",
            "top": null,
            "grid_column": null,
            "overflow_y": null,
            "overflow_x": null,
            "grid_auto_flow": null,
            "grid_area": null,
            "grid_template_columns": null,
            "flex": null,
            "_model_name": "LayoutModel",
            "justify_items": null,
            "grid_row": null,
            "max_height": null,
            "align_content": null,
            "visibility": null,
            "align_self": null,
            "height": null,
            "min_height": null,
            "padding": null,
            "grid_auto_rows": null,
            "grid_gap": null,
            "max_width": null,
            "order": null,
            "_view_module_version": "1.2.0",
            "grid_template_areas": null,
            "object_position": null,
            "object_fit": null,
            "grid_auto_columns": null,
            "margin": null,
            "display": null,
            "left": null
          }
        },
        "26d8703bb22842a2a9d09a1e8b2c7319": {
          "model_module": "@jupyter-widgets/controls",
          "model_name": "HBoxModel",
          "state": {
            "_view_name": "HBoxView",
            "_dom_classes": [],
            "_model_name": "HBoxModel",
            "_view_module": "@jupyter-widgets/controls",
            "_model_module_version": "1.5.0",
            "_view_count": null,
            "_view_module_version": "1.5.0",
            "box_style": "",
            "layout": "IPY_MODEL_7a777f0cac204181b0ff9a231fb1e183",
            "_model_module": "@jupyter-widgets/controls",
            "children": [
              "IPY_MODEL_8571ea539a66431898d3bd5beb8cda5d",
              "IPY_MODEL_e3b0d8d049934fe2b8063c54dfd75ef9"
            ]
          }
        },
        "7a777f0cac204181b0ff9a231fb1e183": {
          "model_module": "@jupyter-widgets/base",
          "model_name": "LayoutModel",
          "state": {
            "_view_name": "LayoutView",
            "grid_template_rows": null,
            "right": null,
            "justify_content": null,
            "_view_module": "@jupyter-widgets/base",
            "overflow": null,
            "_model_module_version": "1.2.0",
            "_view_count": null,
            "flex_flow": null,
            "width": null,
            "min_width": null,
            "border": null,
            "align_items": null,
            "bottom": null,
            "_model_module": "@jupyter-widgets/base",
            "top": null,
            "grid_column": null,
            "overflow_y": null,
            "overflow_x": null,
            "grid_auto_flow": null,
            "grid_area": null,
            "grid_template_columns": null,
            "flex": null,
            "_model_name": "LayoutModel",
            "justify_items": null,
            "grid_row": null,
            "max_height": null,
            "align_content": null,
            "visibility": null,
            "align_self": null,
            "height": null,
            "min_height": null,
            "padding": null,
            "grid_auto_rows": null,
            "grid_gap": null,
            "max_width": null,
            "order": null,
            "_view_module_version": "1.2.0",
            "grid_template_areas": null,
            "object_position": null,
            "object_fit": null,
            "grid_auto_columns": null,
            "margin": null,
            "display": null,
            "left": null
          }
        },
        "8571ea539a66431898d3bd5beb8cda5d": {
          "model_module": "@jupyter-widgets/controls",
          "model_name": "IntProgressModel",
          "state": {
            "_view_name": "ProgressView",
            "style": "IPY_MODEL_505fba8fc57e407392137bbab98b4a01",
            "_dom_classes": [],
            "description": "100%",
            "_model_name": "IntProgressModel",
            "bar_style": "success",
            "max": 3,
            "_view_module": "@jupyter-widgets/controls",
            "_model_module_version": "1.5.0",
            "value": 3,
            "_view_count": null,
            "_view_module_version": "1.5.0",
            "orientation": "horizontal",
            "min": 0,
            "description_tooltip": null,
            "_model_module": "@jupyter-widgets/controls",
            "layout": "IPY_MODEL_e602850b47e746f48070b620eac28a56"
          }
        },
        "e3b0d8d049934fe2b8063c54dfd75ef9": {
          "model_module": "@jupyter-widgets/controls",
          "model_name": "HTMLModel",
          "state": {
            "_view_name": "HTMLView",
            "style": "IPY_MODEL_d0ef0a665c6a42c3b7db3957635aea2e",
            "_dom_classes": [],
            "description": "",
            "_model_name": "HTMLModel",
            "placeholder": "​",
            "_view_module": "@jupyter-widgets/controls",
            "_model_module_version": "1.5.0",
            "value": " 3/3 [01:27&lt;00:00, 29.15s/it]",
            "_view_count": null,
            "_view_module_version": "1.5.0",
            "description_tooltip": null,
            "_model_module": "@jupyter-widgets/controls",
            "layout": "IPY_MODEL_1528ccb271da4451819aff9186a058bd"
          }
        },
        "505fba8fc57e407392137bbab98b4a01": {
          "model_module": "@jupyter-widgets/controls",
          "model_name": "ProgressStyleModel",
          "state": {
            "_view_name": "StyleView",
            "_model_name": "ProgressStyleModel",
            "description_width": "initial",
            "_view_module": "@jupyter-widgets/base",
            "_model_module_version": "1.5.0",
            "_view_count": null,
            "_view_module_version": "1.2.0",
            "bar_color": null,
            "_model_module": "@jupyter-widgets/controls"
          }
        },
        "e602850b47e746f48070b620eac28a56": {
          "model_module": "@jupyter-widgets/base",
          "model_name": "LayoutModel",
          "state": {
            "_view_name": "LayoutView",
            "grid_template_rows": null,
            "right": null,
            "justify_content": null,
            "_view_module": "@jupyter-widgets/base",
            "overflow": null,
            "_model_module_version": "1.2.0",
            "_view_count": null,
            "flex_flow": null,
            "width": null,
            "min_width": null,
            "border": null,
            "align_items": null,
            "bottom": null,
            "_model_module": "@jupyter-widgets/base",
            "top": null,
            "grid_column": null,
            "overflow_y": null,
            "overflow_x": null,
            "grid_auto_flow": null,
            "grid_area": null,
            "grid_template_columns": null,
            "flex": null,
            "_model_name": "LayoutModel",
            "justify_items": null,
            "grid_row": null,
            "max_height": null,
            "align_content": null,
            "visibility": null,
            "align_self": null,
            "height": null,
            "min_height": null,
            "padding": null,
            "grid_auto_rows": null,
            "grid_gap": null,
            "max_width": null,
            "order": null,
            "_view_module_version": "1.2.0",
            "grid_template_areas": null,
            "object_position": null,
            "object_fit": null,
            "grid_auto_columns": null,
            "margin": null,
            "display": null,
            "left": null
          }
        },
        "d0ef0a665c6a42c3b7db3957635aea2e": {
          "model_module": "@jupyter-widgets/controls",
          "model_name": "DescriptionStyleModel",
          "state": {
            "_view_name": "StyleView",
            "_model_name": "DescriptionStyleModel",
            "description_width": "",
            "_view_module": "@jupyter-widgets/base",
            "_model_module_version": "1.5.0",
            "_view_count": null,
            "_view_module_version": "1.2.0",
            "_model_module": "@jupyter-widgets/controls"
          }
        },
        "1528ccb271da4451819aff9186a058bd": {
          "model_module": "@jupyter-widgets/base",
          "model_name": "LayoutModel",
          "state": {
            "_view_name": "LayoutView",
            "grid_template_rows": null,
            "right": null,
            "justify_content": null,
            "_view_module": "@jupyter-widgets/base",
            "overflow": null,
            "_model_module_version": "1.2.0",
            "_view_count": null,
            "flex_flow": null,
            "width": null,
            "min_width": null,
            "border": null,
            "align_items": null,
            "bottom": null,
            "_model_module": "@jupyter-widgets/base",
            "top": null,
            "grid_column": null,
            "overflow_y": null,
            "overflow_x": null,
            "grid_auto_flow": null,
            "grid_area": null,
            "grid_template_columns": null,
            "flex": null,
            "_model_name": "LayoutModel",
            "justify_items": null,
            "grid_row": null,
            "max_height": null,
            "align_content": null,
            "visibility": null,
            "align_self": null,
            "height": null,
            "min_height": null,
            "padding": null,
            "grid_auto_rows": null,
            "grid_gap": null,
            "max_width": null,
            "order": null,
            "_view_module_version": "1.2.0",
            "grid_template_areas": null,
            "object_position": null,
            "object_fit": null,
            "grid_auto_columns": null,
            "margin": null,
            "display": null,
            "left": null
          }
        },
        "d0089a62c7564b8696344727fcc9d139": {
          "model_module": "@jupyter-widgets/controls",
          "model_name": "HBoxModel",
          "state": {
            "_view_name": "HBoxView",
            "_dom_classes": [],
            "_model_name": "HBoxModel",
            "_view_module": "@jupyter-widgets/controls",
            "_model_module_version": "1.5.0",
            "_view_count": null,
            "_view_module_version": "1.5.0",
            "box_style": "",
            "layout": "IPY_MODEL_a412cd9a807848e3bebbf076bc8330d4",
            "_model_module": "@jupyter-widgets/controls",
            "children": [
              "IPY_MODEL_86b19bb58cd746a8a14c15f568912e3a",
              "IPY_MODEL_2f46bd34360b486d950f09b137593a80"
            ]
          }
        },
        "a412cd9a807848e3bebbf076bc8330d4": {
          "model_module": "@jupyter-widgets/base",
          "model_name": "LayoutModel",
          "state": {
            "_view_name": "LayoutView",
            "grid_template_rows": null,
            "right": null,
            "justify_content": null,
            "_view_module": "@jupyter-widgets/base",
            "overflow": null,
            "_model_module_version": "1.2.0",
            "_view_count": null,
            "flex_flow": null,
            "width": null,
            "min_width": null,
            "border": null,
            "align_items": null,
            "bottom": null,
            "_model_module": "@jupyter-widgets/base",
            "top": null,
            "grid_column": null,
            "overflow_y": null,
            "overflow_x": null,
            "grid_auto_flow": null,
            "grid_area": null,
            "grid_template_columns": null,
            "flex": null,
            "_model_name": "LayoutModel",
            "justify_items": null,
            "grid_row": null,
            "max_height": null,
            "align_content": null,
            "visibility": null,
            "align_self": null,
            "height": null,
            "min_height": null,
            "padding": null,
            "grid_auto_rows": null,
            "grid_gap": null,
            "max_width": null,
            "order": null,
            "_view_module_version": "1.2.0",
            "grid_template_areas": null,
            "object_position": null,
            "object_fit": null,
            "grid_auto_columns": null,
            "margin": null,
            "display": null,
            "left": null
          }
        },
        "86b19bb58cd746a8a14c15f568912e3a": {
          "model_module": "@jupyter-widgets/controls",
          "model_name": "IntProgressModel",
          "state": {
            "_view_name": "ProgressView",
            "style": "IPY_MODEL_3277ad1cf4044a16b8239e96f30f1a7e",
            "_dom_classes": [],
            "description": "100%",
            "_model_name": "IntProgressModel",
            "bar_style": "success",
            "max": 3,
            "_view_module": "@jupyter-widgets/controls",
            "_model_module_version": "1.5.0",
            "value": 3,
            "_view_count": null,
            "_view_module_version": "1.5.0",
            "orientation": "horizontal",
            "min": 0,
            "description_tooltip": null,
            "_model_module": "@jupyter-widgets/controls",
            "layout": "IPY_MODEL_f68552678a1547f6b57feb00756db85c"
          }
        },
        "2f46bd34360b486d950f09b137593a80": {
          "model_module": "@jupyter-widgets/controls",
          "model_name": "HTMLModel",
          "state": {
            "_view_name": "HTMLView",
            "style": "IPY_MODEL_687a4dc6d2d1453ab5a2ac407e887f3b",
            "_dom_classes": [],
            "description": "",
            "_model_name": "HTMLModel",
            "placeholder": "​",
            "_view_module": "@jupyter-widgets/controls",
            "_model_module_version": "1.5.0",
            "value": " 3/3 [00:51&lt;00:00, 17.27s/it]",
            "_view_count": null,
            "_view_module_version": "1.5.0",
            "description_tooltip": null,
            "_model_module": "@jupyter-widgets/controls",
            "layout": "IPY_MODEL_4b1ee89b6fd344c6854d5a6dabe784ca"
          }
        },
        "3277ad1cf4044a16b8239e96f30f1a7e": {
          "model_module": "@jupyter-widgets/controls",
          "model_name": "ProgressStyleModel",
          "state": {
            "_view_name": "StyleView",
            "_model_name": "ProgressStyleModel",
            "description_width": "initial",
            "_view_module": "@jupyter-widgets/base",
            "_model_module_version": "1.5.0",
            "_view_count": null,
            "_view_module_version": "1.2.0",
            "bar_color": null,
            "_model_module": "@jupyter-widgets/controls"
          }
        },
        "f68552678a1547f6b57feb00756db85c": {
          "model_module": "@jupyter-widgets/base",
          "model_name": "LayoutModel",
          "state": {
            "_view_name": "LayoutView",
            "grid_template_rows": null,
            "right": null,
            "justify_content": null,
            "_view_module": "@jupyter-widgets/base",
            "overflow": null,
            "_model_module_version": "1.2.0",
            "_view_count": null,
            "flex_flow": null,
            "width": null,
            "min_width": null,
            "border": null,
            "align_items": null,
            "bottom": null,
            "_model_module": "@jupyter-widgets/base",
            "top": null,
            "grid_column": null,
            "overflow_y": null,
            "overflow_x": null,
            "grid_auto_flow": null,
            "grid_area": null,
            "grid_template_columns": null,
            "flex": null,
            "_model_name": "LayoutModel",
            "justify_items": null,
            "grid_row": null,
            "max_height": null,
            "align_content": null,
            "visibility": null,
            "align_self": null,
            "height": null,
            "min_height": null,
            "padding": null,
            "grid_auto_rows": null,
            "grid_gap": null,
            "max_width": null,
            "order": null,
            "_view_module_version": "1.2.0",
            "grid_template_areas": null,
            "object_position": null,
            "object_fit": null,
            "grid_auto_columns": null,
            "margin": null,
            "display": null,
            "left": null
          }
        },
        "687a4dc6d2d1453ab5a2ac407e887f3b": {
          "model_module": "@jupyter-widgets/controls",
          "model_name": "DescriptionStyleModel",
          "state": {
            "_view_name": "StyleView",
            "_model_name": "DescriptionStyleModel",
            "description_width": "",
            "_view_module": "@jupyter-widgets/base",
            "_model_module_version": "1.5.0",
            "_view_count": null,
            "_view_module_version": "1.2.0",
            "_model_module": "@jupyter-widgets/controls"
          }
        },
        "4b1ee89b6fd344c6854d5a6dabe784ca": {
          "model_module": "@jupyter-widgets/base",
          "model_name": "LayoutModel",
          "state": {
            "_view_name": "LayoutView",
            "grid_template_rows": null,
            "right": null,
            "justify_content": null,
            "_view_module": "@jupyter-widgets/base",
            "overflow": null,
            "_model_module_version": "1.2.0",
            "_view_count": null,
            "flex_flow": null,
            "width": null,
            "min_width": null,
            "border": null,
            "align_items": null,
            "bottom": null,
            "_model_module": "@jupyter-widgets/base",
            "top": null,
            "grid_column": null,
            "overflow_y": null,
            "overflow_x": null,
            "grid_auto_flow": null,
            "grid_area": null,
            "grid_template_columns": null,
            "flex": null,
            "_model_name": "LayoutModel",
            "justify_items": null,
            "grid_row": null,
            "max_height": null,
            "align_content": null,
            "visibility": null,
            "align_self": null,
            "height": null,
            "min_height": null,
            "padding": null,
            "grid_auto_rows": null,
            "grid_gap": null,
            "max_width": null,
            "order": null,
            "_view_module_version": "1.2.0",
            "grid_template_areas": null,
            "object_position": null,
            "object_fit": null,
            "grid_auto_columns": null,
            "margin": null,
            "display": null,
            "left": null
          }
        },
        "93459a2765ff479280f3e3bcf3f76512": {
          "model_module": "@jupyter-widgets/controls",
          "model_name": "HBoxModel",
          "state": {
            "_view_name": "HBoxView",
            "_dom_classes": [],
            "_model_name": "HBoxModel",
            "_view_module": "@jupyter-widgets/controls",
            "_model_module_version": "1.5.0",
            "_view_count": null,
            "_view_module_version": "1.5.0",
            "box_style": "",
            "layout": "IPY_MODEL_5fb651908aa746d1a59fe994cc8a24be",
            "_model_module": "@jupyter-widgets/controls",
            "children": [
              "IPY_MODEL_ae156345e91549f6a791d8360d1910f8",
              "IPY_MODEL_9b798dd74ae6430cbced1e615e61cf60"
            ]
          }
        },
        "5fb651908aa746d1a59fe994cc8a24be": {
          "model_module": "@jupyter-widgets/base",
          "model_name": "LayoutModel",
          "state": {
            "_view_name": "LayoutView",
            "grid_template_rows": null,
            "right": null,
            "justify_content": null,
            "_view_module": "@jupyter-widgets/base",
            "overflow": null,
            "_model_module_version": "1.2.0",
            "_view_count": null,
            "flex_flow": null,
            "width": null,
            "min_width": null,
            "border": null,
            "align_items": null,
            "bottom": null,
            "_model_module": "@jupyter-widgets/base",
            "top": null,
            "grid_column": null,
            "overflow_y": null,
            "overflow_x": null,
            "grid_auto_flow": null,
            "grid_area": null,
            "grid_template_columns": null,
            "flex": null,
            "_model_name": "LayoutModel",
            "justify_items": null,
            "grid_row": null,
            "max_height": null,
            "align_content": null,
            "visibility": null,
            "align_self": null,
            "height": null,
            "min_height": null,
            "padding": null,
            "grid_auto_rows": null,
            "grid_gap": null,
            "max_width": null,
            "order": null,
            "_view_module_version": "1.2.0",
            "grid_template_areas": null,
            "object_position": null,
            "object_fit": null,
            "grid_auto_columns": null,
            "margin": null,
            "display": null,
            "left": null
          }
        },
        "ae156345e91549f6a791d8360d1910f8": {
          "model_module": "@jupyter-widgets/controls",
          "model_name": "IntProgressModel",
          "state": {
            "_view_name": "ProgressView",
            "style": "IPY_MODEL_b6cd8ecee8d243e9a63490d2b433f2f2",
            "_dom_classes": [],
            "description": "100%",
            "_model_name": "IntProgressModel",
            "bar_style": "success",
            "max": 3,
            "_view_module": "@jupyter-widgets/controls",
            "_model_module_version": "1.5.0",
            "value": 3,
            "_view_count": null,
            "_view_module_version": "1.5.0",
            "orientation": "horizontal",
            "min": 0,
            "description_tooltip": null,
            "_model_module": "@jupyter-widgets/controls",
            "layout": "IPY_MODEL_72abf3e0da764ba08f96a3475dc235d1"
          }
        },
        "9b798dd74ae6430cbced1e615e61cf60": {
          "model_module": "@jupyter-widgets/controls",
          "model_name": "HTMLModel",
          "state": {
            "_view_name": "HTMLView",
            "style": "IPY_MODEL_7e3de4b5666746648e587c64e56e1011",
            "_dom_classes": [],
            "description": "",
            "_model_name": "HTMLModel",
            "placeholder": "​",
            "_view_module": "@jupyter-widgets/controls",
            "_model_module_version": "1.5.0",
            "value": " 3/3 [00:26&lt;00:00,  8.79s/it]",
            "_view_count": null,
            "_view_module_version": "1.5.0",
            "description_tooltip": null,
            "_model_module": "@jupyter-widgets/controls",
            "layout": "IPY_MODEL_09538188532149f286411af51e718752"
          }
        },
        "b6cd8ecee8d243e9a63490d2b433f2f2": {
          "model_module": "@jupyter-widgets/controls",
          "model_name": "ProgressStyleModel",
          "state": {
            "_view_name": "StyleView",
            "_model_name": "ProgressStyleModel",
            "description_width": "initial",
            "_view_module": "@jupyter-widgets/base",
            "_model_module_version": "1.5.0",
            "_view_count": null,
            "_view_module_version": "1.2.0",
            "bar_color": null,
            "_model_module": "@jupyter-widgets/controls"
          }
        },
        "72abf3e0da764ba08f96a3475dc235d1": {
          "model_module": "@jupyter-widgets/base",
          "model_name": "LayoutModel",
          "state": {
            "_view_name": "LayoutView",
            "grid_template_rows": null,
            "right": null,
            "justify_content": null,
            "_view_module": "@jupyter-widgets/base",
            "overflow": null,
            "_model_module_version": "1.2.0",
            "_view_count": null,
            "flex_flow": null,
            "width": null,
            "min_width": null,
            "border": null,
            "align_items": null,
            "bottom": null,
            "_model_module": "@jupyter-widgets/base",
            "top": null,
            "grid_column": null,
            "overflow_y": null,
            "overflow_x": null,
            "grid_auto_flow": null,
            "grid_area": null,
            "grid_template_columns": null,
            "flex": null,
            "_model_name": "LayoutModel",
            "justify_items": null,
            "grid_row": null,
            "max_height": null,
            "align_content": null,
            "visibility": null,
            "align_self": null,
            "height": null,
            "min_height": null,
            "padding": null,
            "grid_auto_rows": null,
            "grid_gap": null,
            "max_width": null,
            "order": null,
            "_view_module_version": "1.2.0",
            "grid_template_areas": null,
            "object_position": null,
            "object_fit": null,
            "grid_auto_columns": null,
            "margin": null,
            "display": null,
            "left": null
          }
        },
        "7e3de4b5666746648e587c64e56e1011": {
          "model_module": "@jupyter-widgets/controls",
          "model_name": "DescriptionStyleModel",
          "state": {
            "_view_name": "StyleView",
            "_model_name": "DescriptionStyleModel",
            "description_width": "",
            "_view_module": "@jupyter-widgets/base",
            "_model_module_version": "1.5.0",
            "_view_count": null,
            "_view_module_version": "1.2.0",
            "_model_module": "@jupyter-widgets/controls"
          }
        },
        "09538188532149f286411af51e718752": {
          "model_module": "@jupyter-widgets/base",
          "model_name": "LayoutModel",
          "state": {
            "_view_name": "LayoutView",
            "grid_template_rows": null,
            "right": null,
            "justify_content": null,
            "_view_module": "@jupyter-widgets/base",
            "overflow": null,
            "_model_module_version": "1.2.0",
            "_view_count": null,
            "flex_flow": null,
            "width": null,
            "min_width": null,
            "border": null,
            "align_items": null,
            "bottom": null,
            "_model_module": "@jupyter-widgets/base",
            "top": null,
            "grid_column": null,
            "overflow_y": null,
            "overflow_x": null,
            "grid_auto_flow": null,
            "grid_area": null,
            "grid_template_columns": null,
            "flex": null,
            "_model_name": "LayoutModel",
            "justify_items": null,
            "grid_row": null,
            "max_height": null,
            "align_content": null,
            "visibility": null,
            "align_self": null,
            "height": null,
            "min_height": null,
            "padding": null,
            "grid_auto_rows": null,
            "grid_gap": null,
            "max_width": null,
            "order": null,
            "_view_module_version": "1.2.0",
            "grid_template_areas": null,
            "object_position": null,
            "object_fit": null,
            "grid_auto_columns": null,
            "margin": null,
            "display": null,
            "left": null
          }
        },
        "0eae201216514bc2ab0dad4226070992": {
          "model_module": "@jupyter-widgets/controls",
          "model_name": "HBoxModel",
          "state": {
            "_view_name": "HBoxView",
            "_dom_classes": [],
            "_model_name": "HBoxModel",
            "_view_module": "@jupyter-widgets/controls",
            "_model_module_version": "1.5.0",
            "_view_count": null,
            "_view_module_version": "1.5.0",
            "box_style": "",
            "layout": "IPY_MODEL_1a12db488cbe447193595ad84188bae2",
            "_model_module": "@jupyter-widgets/controls",
            "children": [
              "IPY_MODEL_f75cbd7eeebc42e693efe62d7fce6be0",
              "IPY_MODEL_507e30e1d8884a98b661aadf319dfd27"
            ]
          }
        },
        "1a12db488cbe447193595ad84188bae2": {
          "model_module": "@jupyter-widgets/base",
          "model_name": "LayoutModel",
          "state": {
            "_view_name": "LayoutView",
            "grid_template_rows": null,
            "right": null,
            "justify_content": null,
            "_view_module": "@jupyter-widgets/base",
            "overflow": null,
            "_model_module_version": "1.2.0",
            "_view_count": null,
            "flex_flow": null,
            "width": null,
            "min_width": null,
            "border": null,
            "align_items": null,
            "bottom": null,
            "_model_module": "@jupyter-widgets/base",
            "top": null,
            "grid_column": null,
            "overflow_y": null,
            "overflow_x": null,
            "grid_auto_flow": null,
            "grid_area": null,
            "grid_template_columns": null,
            "flex": null,
            "_model_name": "LayoutModel",
            "justify_items": null,
            "grid_row": null,
            "max_height": null,
            "align_content": null,
            "visibility": null,
            "align_self": null,
            "height": null,
            "min_height": null,
            "padding": null,
            "grid_auto_rows": null,
            "grid_gap": null,
            "max_width": null,
            "order": null,
            "_view_module_version": "1.2.0",
            "grid_template_areas": null,
            "object_position": null,
            "object_fit": null,
            "grid_auto_columns": null,
            "margin": null,
            "display": null,
            "left": null
          }
        },
        "f75cbd7eeebc42e693efe62d7fce6be0": {
          "model_module": "@jupyter-widgets/controls",
          "model_name": "IntProgressModel",
          "state": {
            "_view_name": "ProgressView",
            "style": "IPY_MODEL_69dd5d5d50ad4552bab8cd357431be74",
            "_dom_classes": [],
            "description": "100%",
            "_model_name": "IntProgressModel",
            "bar_style": "success",
            "max": 3,
            "_view_module": "@jupyter-widgets/controls",
            "_model_module_version": "1.5.0",
            "value": 3,
            "_view_count": null,
            "_view_module_version": "1.5.0",
            "orientation": "horizontal",
            "min": 0,
            "description_tooltip": null,
            "_model_module": "@jupyter-widgets/controls",
            "layout": "IPY_MODEL_e31586bb5ca34fef84d234f52dfd733b"
          }
        },
        "507e30e1d8884a98b661aadf319dfd27": {
          "model_module": "@jupyter-widgets/controls",
          "model_name": "HTMLModel",
          "state": {
            "_view_name": "HTMLView",
            "style": "IPY_MODEL_7cf2271d183e4946b3a4ea57b3c0401a",
            "_dom_classes": [],
            "description": "",
            "_model_name": "HTMLModel",
            "placeholder": "​",
            "_view_module": "@jupyter-widgets/controls",
            "_model_module_version": "1.5.0",
            "value": " 3/3 [00:06&lt;00:00,  2.32s/it]",
            "_view_count": null,
            "_view_module_version": "1.5.0",
            "description_tooltip": null,
            "_model_module": "@jupyter-widgets/controls",
            "layout": "IPY_MODEL_460024d09c4f40ea81102267f00eb766"
          }
        },
        "69dd5d5d50ad4552bab8cd357431be74": {
          "model_module": "@jupyter-widgets/controls",
          "model_name": "ProgressStyleModel",
          "state": {
            "_view_name": "StyleView",
            "_model_name": "ProgressStyleModel",
            "description_width": "initial",
            "_view_module": "@jupyter-widgets/base",
            "_model_module_version": "1.5.0",
            "_view_count": null,
            "_view_module_version": "1.2.0",
            "bar_color": null,
            "_model_module": "@jupyter-widgets/controls"
          }
        },
        "e31586bb5ca34fef84d234f52dfd733b": {
          "model_module": "@jupyter-widgets/base",
          "model_name": "LayoutModel",
          "state": {
            "_view_name": "LayoutView",
            "grid_template_rows": null,
            "right": null,
            "justify_content": null,
            "_view_module": "@jupyter-widgets/base",
            "overflow": null,
            "_model_module_version": "1.2.0",
            "_view_count": null,
            "flex_flow": null,
            "width": null,
            "min_width": null,
            "border": null,
            "align_items": null,
            "bottom": null,
            "_model_module": "@jupyter-widgets/base",
            "top": null,
            "grid_column": null,
            "overflow_y": null,
            "overflow_x": null,
            "grid_auto_flow": null,
            "grid_area": null,
            "grid_template_columns": null,
            "flex": null,
            "_model_name": "LayoutModel",
            "justify_items": null,
            "grid_row": null,
            "max_height": null,
            "align_content": null,
            "visibility": null,
            "align_self": null,
            "height": null,
            "min_height": null,
            "padding": null,
            "grid_auto_rows": null,
            "grid_gap": null,
            "max_width": null,
            "order": null,
            "_view_module_version": "1.2.0",
            "grid_template_areas": null,
            "object_position": null,
            "object_fit": null,
            "grid_auto_columns": null,
            "margin": null,
            "display": null,
            "left": null
          }
        },
        "7cf2271d183e4946b3a4ea57b3c0401a": {
          "model_module": "@jupyter-widgets/controls",
          "model_name": "DescriptionStyleModel",
          "state": {
            "_view_name": "StyleView",
            "_model_name": "DescriptionStyleModel",
            "description_width": "",
            "_view_module": "@jupyter-widgets/base",
            "_model_module_version": "1.5.0",
            "_view_count": null,
            "_view_module_version": "1.2.0",
            "_model_module": "@jupyter-widgets/controls"
          }
        },
        "460024d09c4f40ea81102267f00eb766": {
          "model_module": "@jupyter-widgets/base",
          "model_name": "LayoutModel",
          "state": {
            "_view_name": "LayoutView",
            "grid_template_rows": null,
            "right": null,
            "justify_content": null,
            "_view_module": "@jupyter-widgets/base",
            "overflow": null,
            "_model_module_version": "1.2.0",
            "_view_count": null,
            "flex_flow": null,
            "width": null,
            "min_width": null,
            "border": null,
            "align_items": null,
            "bottom": null,
            "_model_module": "@jupyter-widgets/base",
            "top": null,
            "grid_column": null,
            "overflow_y": null,
            "overflow_x": null,
            "grid_auto_flow": null,
            "grid_area": null,
            "grid_template_columns": null,
            "flex": null,
            "_model_name": "LayoutModel",
            "justify_items": null,
            "grid_row": null,
            "max_height": null,
            "align_content": null,
            "visibility": null,
            "align_self": null,
            "height": null,
            "min_height": null,
            "padding": null,
            "grid_auto_rows": null,
            "grid_gap": null,
            "max_width": null,
            "order": null,
            "_view_module_version": "1.2.0",
            "grid_template_areas": null,
            "object_position": null,
            "object_fit": null,
            "grid_auto_columns": null,
            "margin": null,
            "display": null,
            "left": null
          }
        },
        "b1ceb1ad465e406b8bc97b83ca856297": {
          "model_module": "@jupyter-widgets/controls",
          "model_name": "HBoxModel",
          "state": {
            "_view_name": "HBoxView",
            "_dom_classes": [],
            "_model_name": "HBoxModel",
            "_view_module": "@jupyter-widgets/controls",
            "_model_module_version": "1.5.0",
            "_view_count": null,
            "_view_module_version": "1.5.0",
            "box_style": "",
            "layout": "IPY_MODEL_38aa4b341c97481299de8643e99f72ae",
            "_model_module": "@jupyter-widgets/controls",
            "children": [
              "IPY_MODEL_1cf417ef2893456eaf8355d9c78f7417",
              "IPY_MODEL_53bb790838404f418f23d757ca8fd607"
            ]
          }
        },
        "38aa4b341c97481299de8643e99f72ae": {
          "model_module": "@jupyter-widgets/base",
          "model_name": "LayoutModel",
          "state": {
            "_view_name": "LayoutView",
            "grid_template_rows": null,
            "right": null,
            "justify_content": null,
            "_view_module": "@jupyter-widgets/base",
            "overflow": null,
            "_model_module_version": "1.2.0",
            "_view_count": null,
            "flex_flow": null,
            "width": null,
            "min_width": null,
            "border": null,
            "align_items": null,
            "bottom": null,
            "_model_module": "@jupyter-widgets/base",
            "top": null,
            "grid_column": null,
            "overflow_y": null,
            "overflow_x": null,
            "grid_auto_flow": null,
            "grid_area": null,
            "grid_template_columns": null,
            "flex": null,
            "_model_name": "LayoutModel",
            "justify_items": null,
            "grid_row": null,
            "max_height": null,
            "align_content": null,
            "visibility": null,
            "align_self": null,
            "height": null,
            "min_height": null,
            "padding": null,
            "grid_auto_rows": null,
            "grid_gap": null,
            "max_width": null,
            "order": null,
            "_view_module_version": "1.2.0",
            "grid_template_areas": null,
            "object_position": null,
            "object_fit": null,
            "grid_auto_columns": null,
            "margin": null,
            "display": null,
            "left": null
          }
        },
        "1cf417ef2893456eaf8355d9c78f7417": {
          "model_module": "@jupyter-widgets/controls",
          "model_name": "IntProgressModel",
          "state": {
            "_view_name": "ProgressView",
            "style": "IPY_MODEL_b5915e3d8a3c44bb8595d7155b9e3880",
            "_dom_classes": [],
            "description": "100%",
            "_model_name": "IntProgressModel",
            "bar_style": "success",
            "max": 3,
            "_view_module": "@jupyter-widgets/controls",
            "_model_module_version": "1.5.0",
            "value": 3,
            "_view_count": null,
            "_view_module_version": "1.5.0",
            "orientation": "horizontal",
            "min": 0,
            "description_tooltip": null,
            "_model_module": "@jupyter-widgets/controls",
            "layout": "IPY_MODEL_86aa8ec6f77f48058965be4651ac9719"
          }
        },
        "53bb790838404f418f23d757ca8fd607": {
          "model_module": "@jupyter-widgets/controls",
          "model_name": "HTMLModel",
          "state": {
            "_view_name": "HTMLView",
            "style": "IPY_MODEL_0ad8be472b8e48d8b36957ddc33f5fc2",
            "_dom_classes": [],
            "description": "",
            "_model_name": "HTMLModel",
            "placeholder": "​",
            "_view_module": "@jupyter-widgets/controls",
            "_model_module_version": "1.5.0",
            "value": " 3/3 [00:10&lt;00:00,  3.41s/it]",
            "_view_count": null,
            "_view_module_version": "1.5.0",
            "description_tooltip": null,
            "_model_module": "@jupyter-widgets/controls",
            "layout": "IPY_MODEL_559115b93493464992c9db80520c7005"
          }
        },
        "b5915e3d8a3c44bb8595d7155b9e3880": {
          "model_module": "@jupyter-widgets/controls",
          "model_name": "ProgressStyleModel",
          "state": {
            "_view_name": "StyleView",
            "_model_name": "ProgressStyleModel",
            "description_width": "initial",
            "_view_module": "@jupyter-widgets/base",
            "_model_module_version": "1.5.0",
            "_view_count": null,
            "_view_module_version": "1.2.0",
            "bar_color": null,
            "_model_module": "@jupyter-widgets/controls"
          }
        },
        "86aa8ec6f77f48058965be4651ac9719": {
          "model_module": "@jupyter-widgets/base",
          "model_name": "LayoutModel",
          "state": {
            "_view_name": "LayoutView",
            "grid_template_rows": null,
            "right": null,
            "justify_content": null,
            "_view_module": "@jupyter-widgets/base",
            "overflow": null,
            "_model_module_version": "1.2.0",
            "_view_count": null,
            "flex_flow": null,
            "width": null,
            "min_width": null,
            "border": null,
            "align_items": null,
            "bottom": null,
            "_model_module": "@jupyter-widgets/base",
            "top": null,
            "grid_column": null,
            "overflow_y": null,
            "overflow_x": null,
            "grid_auto_flow": null,
            "grid_area": null,
            "grid_template_columns": null,
            "flex": null,
            "_model_name": "LayoutModel",
            "justify_items": null,
            "grid_row": null,
            "max_height": null,
            "align_content": null,
            "visibility": null,
            "align_self": null,
            "height": null,
            "min_height": null,
            "padding": null,
            "grid_auto_rows": null,
            "grid_gap": null,
            "max_width": null,
            "order": null,
            "_view_module_version": "1.2.0",
            "grid_template_areas": null,
            "object_position": null,
            "object_fit": null,
            "grid_auto_columns": null,
            "margin": null,
            "display": null,
            "left": null
          }
        },
        "0ad8be472b8e48d8b36957ddc33f5fc2": {
          "model_module": "@jupyter-widgets/controls",
          "model_name": "DescriptionStyleModel",
          "state": {
            "_view_name": "StyleView",
            "_model_name": "DescriptionStyleModel",
            "description_width": "",
            "_view_module": "@jupyter-widgets/base",
            "_model_module_version": "1.5.0",
            "_view_count": null,
            "_view_module_version": "1.2.0",
            "_model_module": "@jupyter-widgets/controls"
          }
        },
        "559115b93493464992c9db80520c7005": {
          "model_module": "@jupyter-widgets/base",
          "model_name": "LayoutModel",
          "state": {
            "_view_name": "LayoutView",
            "grid_template_rows": null,
            "right": null,
            "justify_content": null,
            "_view_module": "@jupyter-widgets/base",
            "overflow": null,
            "_model_module_version": "1.2.0",
            "_view_count": null,
            "flex_flow": null,
            "width": null,
            "min_width": null,
            "border": null,
            "align_items": null,
            "bottom": null,
            "_model_module": "@jupyter-widgets/base",
            "top": null,
            "grid_column": null,
            "overflow_y": null,
            "overflow_x": null,
            "grid_auto_flow": null,
            "grid_area": null,
            "grid_template_columns": null,
            "flex": null,
            "_model_name": "LayoutModel",
            "justify_items": null,
            "grid_row": null,
            "max_height": null,
            "align_content": null,
            "visibility": null,
            "align_self": null,
            "height": null,
            "min_height": null,
            "padding": null,
            "grid_auto_rows": null,
            "grid_gap": null,
            "max_width": null,
            "order": null,
            "_view_module_version": "1.2.0",
            "grid_template_areas": null,
            "object_position": null,
            "object_fit": null,
            "grid_auto_columns": null,
            "margin": null,
            "display": null,
            "left": null
          }
        },
        "63ab3260363146cbb1d6bb85c9307192": {
          "model_module": "@jupyter-widgets/controls",
          "model_name": "HBoxModel",
          "state": {
            "_view_name": "HBoxView",
            "_dom_classes": [],
            "_model_name": "HBoxModel",
            "_view_module": "@jupyter-widgets/controls",
            "_model_module_version": "1.5.0",
            "_view_count": null,
            "_view_module_version": "1.5.0",
            "box_style": "",
            "layout": "IPY_MODEL_86db11999e684b16b8beb3f16fd6b566",
            "_model_module": "@jupyter-widgets/controls",
            "children": [
              "IPY_MODEL_ce8c51c643424b0ca865b38257dd0431",
              "IPY_MODEL_012613d51199481ab4c7eaab95052d47"
            ]
          }
        },
        "86db11999e684b16b8beb3f16fd6b566": {
          "model_module": "@jupyter-widgets/base",
          "model_name": "LayoutModel",
          "state": {
            "_view_name": "LayoutView",
            "grid_template_rows": null,
            "right": null,
            "justify_content": null,
            "_view_module": "@jupyter-widgets/base",
            "overflow": null,
            "_model_module_version": "1.2.0",
            "_view_count": null,
            "flex_flow": null,
            "width": null,
            "min_width": null,
            "border": null,
            "align_items": null,
            "bottom": null,
            "_model_module": "@jupyter-widgets/base",
            "top": null,
            "grid_column": null,
            "overflow_y": null,
            "overflow_x": null,
            "grid_auto_flow": null,
            "grid_area": null,
            "grid_template_columns": null,
            "flex": null,
            "_model_name": "LayoutModel",
            "justify_items": null,
            "grid_row": null,
            "max_height": null,
            "align_content": null,
            "visibility": null,
            "align_self": null,
            "height": null,
            "min_height": null,
            "padding": null,
            "grid_auto_rows": null,
            "grid_gap": null,
            "max_width": null,
            "order": null,
            "_view_module_version": "1.2.0",
            "grid_template_areas": null,
            "object_position": null,
            "object_fit": null,
            "grid_auto_columns": null,
            "margin": null,
            "display": null,
            "left": null
          }
        },
        "ce8c51c643424b0ca865b38257dd0431": {
          "model_module": "@jupyter-widgets/controls",
          "model_name": "IntProgressModel",
          "state": {
            "_view_name": "ProgressView",
            "style": "IPY_MODEL_e39590b1d794482bbd09c0ffd0012e19",
            "_dom_classes": [],
            "description": "100%",
            "_model_name": "IntProgressModel",
            "bar_style": "success",
            "max": 3,
            "_view_module": "@jupyter-widgets/controls",
            "_model_module_version": "1.5.0",
            "value": 3,
            "_view_count": null,
            "_view_module_version": "1.5.0",
            "orientation": "horizontal",
            "min": 0,
            "description_tooltip": null,
            "_model_module": "@jupyter-widgets/controls",
            "layout": "IPY_MODEL_7f1cad4b35f14fb985a25da13de17e3a"
          }
        },
        "012613d51199481ab4c7eaab95052d47": {
          "model_module": "@jupyter-widgets/controls",
          "model_name": "HTMLModel",
          "state": {
            "_view_name": "HTMLView",
            "style": "IPY_MODEL_6d426aa3d02747fcbb44d00666edf12c",
            "_dom_classes": [],
            "description": "",
            "_model_name": "HTMLModel",
            "placeholder": "​",
            "_view_module": "@jupyter-widgets/controls",
            "_model_module_version": "1.5.0",
            "value": " 3/3 [00:20&lt;00:00,  6.92s/it]",
            "_view_count": null,
            "_view_module_version": "1.5.0",
            "description_tooltip": null,
            "_model_module": "@jupyter-widgets/controls",
            "layout": "IPY_MODEL_a86e9c7c92c04dff9a22011a6943411f"
          }
        },
        "e39590b1d794482bbd09c0ffd0012e19": {
          "model_module": "@jupyter-widgets/controls",
          "model_name": "ProgressStyleModel",
          "state": {
            "_view_name": "StyleView",
            "_model_name": "ProgressStyleModel",
            "description_width": "initial",
            "_view_module": "@jupyter-widgets/base",
            "_model_module_version": "1.5.0",
            "_view_count": null,
            "_view_module_version": "1.2.0",
            "bar_color": null,
            "_model_module": "@jupyter-widgets/controls"
          }
        },
        "7f1cad4b35f14fb985a25da13de17e3a": {
          "model_module": "@jupyter-widgets/base",
          "model_name": "LayoutModel",
          "state": {
            "_view_name": "LayoutView",
            "grid_template_rows": null,
            "right": null,
            "justify_content": null,
            "_view_module": "@jupyter-widgets/base",
            "overflow": null,
            "_model_module_version": "1.2.0",
            "_view_count": null,
            "flex_flow": null,
            "width": null,
            "min_width": null,
            "border": null,
            "align_items": null,
            "bottom": null,
            "_model_module": "@jupyter-widgets/base",
            "top": null,
            "grid_column": null,
            "overflow_y": null,
            "overflow_x": null,
            "grid_auto_flow": null,
            "grid_area": null,
            "grid_template_columns": null,
            "flex": null,
            "_model_name": "LayoutModel",
            "justify_items": null,
            "grid_row": null,
            "max_height": null,
            "align_content": null,
            "visibility": null,
            "align_self": null,
            "height": null,
            "min_height": null,
            "padding": null,
            "grid_auto_rows": null,
            "grid_gap": null,
            "max_width": null,
            "order": null,
            "_view_module_version": "1.2.0",
            "grid_template_areas": null,
            "object_position": null,
            "object_fit": null,
            "grid_auto_columns": null,
            "margin": null,
            "display": null,
            "left": null
          }
        },
        "6d426aa3d02747fcbb44d00666edf12c": {
          "model_module": "@jupyter-widgets/controls",
          "model_name": "DescriptionStyleModel",
          "state": {
            "_view_name": "StyleView",
            "_model_name": "DescriptionStyleModel",
            "description_width": "",
            "_view_module": "@jupyter-widgets/base",
            "_model_module_version": "1.5.0",
            "_view_count": null,
            "_view_module_version": "1.2.0",
            "_model_module": "@jupyter-widgets/controls"
          }
        },
        "a86e9c7c92c04dff9a22011a6943411f": {
          "model_module": "@jupyter-widgets/base",
          "model_name": "LayoutModel",
          "state": {
            "_view_name": "LayoutView",
            "grid_template_rows": null,
            "right": null,
            "justify_content": null,
            "_view_module": "@jupyter-widgets/base",
            "overflow": null,
            "_model_module_version": "1.2.0",
            "_view_count": null,
            "flex_flow": null,
            "width": null,
            "min_width": null,
            "border": null,
            "align_items": null,
            "bottom": null,
            "_model_module": "@jupyter-widgets/base",
            "top": null,
            "grid_column": null,
            "overflow_y": null,
            "overflow_x": null,
            "grid_auto_flow": null,
            "grid_area": null,
            "grid_template_columns": null,
            "flex": null,
            "_model_name": "LayoutModel",
            "justify_items": null,
            "grid_row": null,
            "max_height": null,
            "align_content": null,
            "visibility": null,
            "align_self": null,
            "height": null,
            "min_height": null,
            "padding": null,
            "grid_auto_rows": null,
            "grid_gap": null,
            "max_width": null,
            "order": null,
            "_view_module_version": "1.2.0",
            "grid_template_areas": null,
            "object_position": null,
            "object_fit": null,
            "grid_auto_columns": null,
            "margin": null,
            "display": null,
            "left": null
          }
        },
        "31445986c56e42b482a640fd756ddc05": {
          "model_module": "@jupyter-widgets/controls",
          "model_name": "HBoxModel",
          "state": {
            "_view_name": "HBoxView",
            "_dom_classes": [],
            "_model_name": "HBoxModel",
            "_view_module": "@jupyter-widgets/controls",
            "_model_module_version": "1.5.0",
            "_view_count": null,
            "_view_module_version": "1.5.0",
            "box_style": "",
            "layout": "IPY_MODEL_f2428a48fa1d4e5aa583bc4ffebb524c",
            "_model_module": "@jupyter-widgets/controls",
            "children": [
              "IPY_MODEL_4dd0667e69514c37baabaece180c62b1",
              "IPY_MODEL_2b5f692bb46e4eeea3158979e692e007"
            ]
          }
        },
        "f2428a48fa1d4e5aa583bc4ffebb524c": {
          "model_module": "@jupyter-widgets/base",
          "model_name": "LayoutModel",
          "state": {
            "_view_name": "LayoutView",
            "grid_template_rows": null,
            "right": null,
            "justify_content": null,
            "_view_module": "@jupyter-widgets/base",
            "overflow": null,
            "_model_module_version": "1.2.0",
            "_view_count": null,
            "flex_flow": null,
            "width": null,
            "min_width": null,
            "border": null,
            "align_items": null,
            "bottom": null,
            "_model_module": "@jupyter-widgets/base",
            "top": null,
            "grid_column": null,
            "overflow_y": null,
            "overflow_x": null,
            "grid_auto_flow": null,
            "grid_area": null,
            "grid_template_columns": null,
            "flex": null,
            "_model_name": "LayoutModel",
            "justify_items": null,
            "grid_row": null,
            "max_height": null,
            "align_content": null,
            "visibility": null,
            "align_self": null,
            "height": null,
            "min_height": null,
            "padding": null,
            "grid_auto_rows": null,
            "grid_gap": null,
            "max_width": null,
            "order": null,
            "_view_module_version": "1.2.0",
            "grid_template_areas": null,
            "object_position": null,
            "object_fit": null,
            "grid_auto_columns": null,
            "margin": null,
            "display": null,
            "left": null
          }
        },
        "4dd0667e69514c37baabaece180c62b1": {
          "model_module": "@jupyter-widgets/controls",
          "model_name": "IntProgressModel",
          "state": {
            "_view_name": "ProgressView",
            "style": "IPY_MODEL_da28851d2d09430e91eae1a18514b35e",
            "_dom_classes": [],
            "description": "100%",
            "_model_name": "IntProgressModel",
            "bar_style": "success",
            "max": 3,
            "_view_module": "@jupyter-widgets/controls",
            "_model_module_version": "1.5.0",
            "value": 3,
            "_view_count": null,
            "_view_module_version": "1.5.0",
            "orientation": "horizontal",
            "min": 0,
            "description_tooltip": null,
            "_model_module": "@jupyter-widgets/controls",
            "layout": "IPY_MODEL_03f41e8dba8f4b539e041d6c1cf84abf"
          }
        },
        "2b5f692bb46e4eeea3158979e692e007": {
          "model_module": "@jupyter-widgets/controls",
          "model_name": "HTMLModel",
          "state": {
            "_view_name": "HTMLView",
            "style": "IPY_MODEL_ddfe5611bec44dd983ab9ea857182312",
            "_dom_classes": [],
            "description": "",
            "_model_name": "HTMLModel",
            "placeholder": "​",
            "_view_module": "@jupyter-widgets/controls",
            "_model_module_version": "1.5.0",
            "value": " 3/3 [00:20&lt;00:00,  6.77s/it]",
            "_view_count": null,
            "_view_module_version": "1.5.0",
            "description_tooltip": null,
            "_model_module": "@jupyter-widgets/controls",
            "layout": "IPY_MODEL_173bf779f2b841c1893999c38d75285b"
          }
        },
        "da28851d2d09430e91eae1a18514b35e": {
          "model_module": "@jupyter-widgets/controls",
          "model_name": "ProgressStyleModel",
          "state": {
            "_view_name": "StyleView",
            "_model_name": "ProgressStyleModel",
            "description_width": "initial",
            "_view_module": "@jupyter-widgets/base",
            "_model_module_version": "1.5.0",
            "_view_count": null,
            "_view_module_version": "1.2.0",
            "bar_color": null,
            "_model_module": "@jupyter-widgets/controls"
          }
        },
        "03f41e8dba8f4b539e041d6c1cf84abf": {
          "model_module": "@jupyter-widgets/base",
          "model_name": "LayoutModel",
          "state": {
            "_view_name": "LayoutView",
            "grid_template_rows": null,
            "right": null,
            "justify_content": null,
            "_view_module": "@jupyter-widgets/base",
            "overflow": null,
            "_model_module_version": "1.2.0",
            "_view_count": null,
            "flex_flow": null,
            "width": null,
            "min_width": null,
            "border": null,
            "align_items": null,
            "bottom": null,
            "_model_module": "@jupyter-widgets/base",
            "top": null,
            "grid_column": null,
            "overflow_y": null,
            "overflow_x": null,
            "grid_auto_flow": null,
            "grid_area": null,
            "grid_template_columns": null,
            "flex": null,
            "_model_name": "LayoutModel",
            "justify_items": null,
            "grid_row": null,
            "max_height": null,
            "align_content": null,
            "visibility": null,
            "align_self": null,
            "height": null,
            "min_height": null,
            "padding": null,
            "grid_auto_rows": null,
            "grid_gap": null,
            "max_width": null,
            "order": null,
            "_view_module_version": "1.2.0",
            "grid_template_areas": null,
            "object_position": null,
            "object_fit": null,
            "grid_auto_columns": null,
            "margin": null,
            "display": null,
            "left": null
          }
        },
        "ddfe5611bec44dd983ab9ea857182312": {
          "model_module": "@jupyter-widgets/controls",
          "model_name": "DescriptionStyleModel",
          "state": {
            "_view_name": "StyleView",
            "_model_name": "DescriptionStyleModel",
            "description_width": "",
            "_view_module": "@jupyter-widgets/base",
            "_model_module_version": "1.5.0",
            "_view_count": null,
            "_view_module_version": "1.2.0",
            "_model_module": "@jupyter-widgets/controls"
          }
        },
        "173bf779f2b841c1893999c38d75285b": {
          "model_module": "@jupyter-widgets/base",
          "model_name": "LayoutModel",
          "state": {
            "_view_name": "LayoutView",
            "grid_template_rows": null,
            "right": null,
            "justify_content": null,
            "_view_module": "@jupyter-widgets/base",
            "overflow": null,
            "_model_module_version": "1.2.0",
            "_view_count": null,
            "flex_flow": null,
            "width": null,
            "min_width": null,
            "border": null,
            "align_items": null,
            "bottom": null,
            "_model_module": "@jupyter-widgets/base",
            "top": null,
            "grid_column": null,
            "overflow_y": null,
            "overflow_x": null,
            "grid_auto_flow": null,
            "grid_area": null,
            "grid_template_columns": null,
            "flex": null,
            "_model_name": "LayoutModel",
            "justify_items": null,
            "grid_row": null,
            "max_height": null,
            "align_content": null,
            "visibility": null,
            "align_self": null,
            "height": null,
            "min_height": null,
            "padding": null,
            "grid_auto_rows": null,
            "grid_gap": null,
            "max_width": null,
            "order": null,
            "_view_module_version": "1.2.0",
            "grid_template_areas": null,
            "object_position": null,
            "object_fit": null,
            "grid_auto_columns": null,
            "margin": null,
            "display": null,
            "left": null
          }
        },
        "1e6ace6a00f847e8b04ab381420a0cfd": {
          "model_module": "@jupyter-widgets/controls",
          "model_name": "HBoxModel",
          "state": {
            "_view_name": "HBoxView",
            "_dom_classes": [],
            "_model_name": "HBoxModel",
            "_view_module": "@jupyter-widgets/controls",
            "_model_module_version": "1.5.0",
            "_view_count": null,
            "_view_module_version": "1.5.0",
            "box_style": "",
            "layout": "IPY_MODEL_ada2aad335e14d6d82661a6fbe850bc8",
            "_model_module": "@jupyter-widgets/controls",
            "children": [
              "IPY_MODEL_dea5dd3344494cf5860b64f96a2c08ac",
              "IPY_MODEL_ad83c1ea8b0242ca848d4a91c5c9cbf8"
            ]
          }
        },
        "ada2aad335e14d6d82661a6fbe850bc8": {
          "model_module": "@jupyter-widgets/base",
          "model_name": "LayoutModel",
          "state": {
            "_view_name": "LayoutView",
            "grid_template_rows": null,
            "right": null,
            "justify_content": null,
            "_view_module": "@jupyter-widgets/base",
            "overflow": null,
            "_model_module_version": "1.2.0",
            "_view_count": null,
            "flex_flow": null,
            "width": null,
            "min_width": null,
            "border": null,
            "align_items": null,
            "bottom": null,
            "_model_module": "@jupyter-widgets/base",
            "top": null,
            "grid_column": null,
            "overflow_y": null,
            "overflow_x": null,
            "grid_auto_flow": null,
            "grid_area": null,
            "grid_template_columns": null,
            "flex": null,
            "_model_name": "LayoutModel",
            "justify_items": null,
            "grid_row": null,
            "max_height": null,
            "align_content": null,
            "visibility": null,
            "align_self": null,
            "height": null,
            "min_height": null,
            "padding": null,
            "grid_auto_rows": null,
            "grid_gap": null,
            "max_width": null,
            "order": null,
            "_view_module_version": "1.2.0",
            "grid_template_areas": null,
            "object_position": null,
            "object_fit": null,
            "grid_auto_columns": null,
            "margin": null,
            "display": null,
            "left": null
          }
        },
        "dea5dd3344494cf5860b64f96a2c08ac": {
          "model_module": "@jupyter-widgets/controls",
          "model_name": "IntProgressModel",
          "state": {
            "_view_name": "ProgressView",
            "style": "IPY_MODEL_0bfbfd1a8dca44f19614db442e51027c",
            "_dom_classes": [],
            "description": "100%",
            "_model_name": "IntProgressModel",
            "bar_style": "success",
            "max": 3,
            "_view_module": "@jupyter-widgets/controls",
            "_model_module_version": "1.5.0",
            "value": 3,
            "_view_count": null,
            "_view_module_version": "1.5.0",
            "orientation": "horizontal",
            "min": 0,
            "description_tooltip": null,
            "_model_module": "@jupyter-widgets/controls",
            "layout": "IPY_MODEL_78466be4c26a433ba1781eb3bd81b922"
          }
        },
        "ad83c1ea8b0242ca848d4a91c5c9cbf8": {
          "model_module": "@jupyter-widgets/controls",
          "model_name": "HTMLModel",
          "state": {
            "_view_name": "HTMLView",
            "style": "IPY_MODEL_03398cdaeabc4b96934b1329a8a34285",
            "_dom_classes": [],
            "description": "",
            "_model_name": "HTMLModel",
            "placeholder": "​",
            "_view_module": "@jupyter-widgets/controls",
            "_model_module_version": "1.5.0",
            "value": " 3/3 [00:34&lt;00:00, 11.64s/it]",
            "_view_count": null,
            "_view_module_version": "1.5.0",
            "description_tooltip": null,
            "_model_module": "@jupyter-widgets/controls",
            "layout": "IPY_MODEL_4d4f613a61b74bcbb7b5fbc48aea4df2"
          }
        },
        "0bfbfd1a8dca44f19614db442e51027c": {
          "model_module": "@jupyter-widgets/controls",
          "model_name": "ProgressStyleModel",
          "state": {
            "_view_name": "StyleView",
            "_model_name": "ProgressStyleModel",
            "description_width": "initial",
            "_view_module": "@jupyter-widgets/base",
            "_model_module_version": "1.5.0",
            "_view_count": null,
            "_view_module_version": "1.2.0",
            "bar_color": null,
            "_model_module": "@jupyter-widgets/controls"
          }
        },
        "78466be4c26a433ba1781eb3bd81b922": {
          "model_module": "@jupyter-widgets/base",
          "model_name": "LayoutModel",
          "state": {
            "_view_name": "LayoutView",
            "grid_template_rows": null,
            "right": null,
            "justify_content": null,
            "_view_module": "@jupyter-widgets/base",
            "overflow": null,
            "_model_module_version": "1.2.0",
            "_view_count": null,
            "flex_flow": null,
            "width": null,
            "min_width": null,
            "border": null,
            "align_items": null,
            "bottom": null,
            "_model_module": "@jupyter-widgets/base",
            "top": null,
            "grid_column": null,
            "overflow_y": null,
            "overflow_x": null,
            "grid_auto_flow": null,
            "grid_area": null,
            "grid_template_columns": null,
            "flex": null,
            "_model_name": "LayoutModel",
            "justify_items": null,
            "grid_row": null,
            "max_height": null,
            "align_content": null,
            "visibility": null,
            "align_self": null,
            "height": null,
            "min_height": null,
            "padding": null,
            "grid_auto_rows": null,
            "grid_gap": null,
            "max_width": null,
            "order": null,
            "_view_module_version": "1.2.0",
            "grid_template_areas": null,
            "object_position": null,
            "object_fit": null,
            "grid_auto_columns": null,
            "margin": null,
            "display": null,
            "left": null
          }
        },
        "03398cdaeabc4b96934b1329a8a34285": {
          "model_module": "@jupyter-widgets/controls",
          "model_name": "DescriptionStyleModel",
          "state": {
            "_view_name": "StyleView",
            "_model_name": "DescriptionStyleModel",
            "description_width": "",
            "_view_module": "@jupyter-widgets/base",
            "_model_module_version": "1.5.0",
            "_view_count": null,
            "_view_module_version": "1.2.0",
            "_model_module": "@jupyter-widgets/controls"
          }
        },
        "4d4f613a61b74bcbb7b5fbc48aea4df2": {
          "model_module": "@jupyter-widgets/base",
          "model_name": "LayoutModel",
          "state": {
            "_view_name": "LayoutView",
            "grid_template_rows": null,
            "right": null,
            "justify_content": null,
            "_view_module": "@jupyter-widgets/base",
            "overflow": null,
            "_model_module_version": "1.2.0",
            "_view_count": null,
            "flex_flow": null,
            "width": null,
            "min_width": null,
            "border": null,
            "align_items": null,
            "bottom": null,
            "_model_module": "@jupyter-widgets/base",
            "top": null,
            "grid_column": null,
            "overflow_y": null,
            "overflow_x": null,
            "grid_auto_flow": null,
            "grid_area": null,
            "grid_template_columns": null,
            "flex": null,
            "_model_name": "LayoutModel",
            "justify_items": null,
            "grid_row": null,
            "max_height": null,
            "align_content": null,
            "visibility": null,
            "align_self": null,
            "height": null,
            "min_height": null,
            "padding": null,
            "grid_auto_rows": null,
            "grid_gap": null,
            "max_width": null,
            "order": null,
            "_view_module_version": "1.2.0",
            "grid_template_areas": null,
            "object_position": null,
            "object_fit": null,
            "grid_auto_columns": null,
            "margin": null,
            "display": null,
            "left": null
          }
        },
        "fe29a45fb74a42f0b955b2f8956df959": {
          "model_module": "@jupyter-widgets/controls",
          "model_name": "HBoxModel",
          "state": {
            "_view_name": "HBoxView",
            "_dom_classes": [],
            "_model_name": "HBoxModel",
            "_view_module": "@jupyter-widgets/controls",
            "_model_module_version": "1.5.0",
            "_view_count": null,
            "_view_module_version": "1.5.0",
            "box_style": "",
            "layout": "IPY_MODEL_e461459470274c03a57841b4a48aa61b",
            "_model_module": "@jupyter-widgets/controls",
            "children": [
              "IPY_MODEL_be9fabfbc5b54cf8a6a40370c1db92ab",
              "IPY_MODEL_a572ccba9f9642a58ea2ca789d05465c"
            ]
          }
        },
        "e461459470274c03a57841b4a48aa61b": {
          "model_module": "@jupyter-widgets/base",
          "model_name": "LayoutModel",
          "state": {
            "_view_name": "LayoutView",
            "grid_template_rows": null,
            "right": null,
            "justify_content": null,
            "_view_module": "@jupyter-widgets/base",
            "overflow": null,
            "_model_module_version": "1.2.0",
            "_view_count": null,
            "flex_flow": null,
            "width": null,
            "min_width": null,
            "border": null,
            "align_items": null,
            "bottom": null,
            "_model_module": "@jupyter-widgets/base",
            "top": null,
            "grid_column": null,
            "overflow_y": null,
            "overflow_x": null,
            "grid_auto_flow": null,
            "grid_area": null,
            "grid_template_columns": null,
            "flex": null,
            "_model_name": "LayoutModel",
            "justify_items": null,
            "grid_row": null,
            "max_height": null,
            "align_content": null,
            "visibility": null,
            "align_self": null,
            "height": null,
            "min_height": null,
            "padding": null,
            "grid_auto_rows": null,
            "grid_gap": null,
            "max_width": null,
            "order": null,
            "_view_module_version": "1.2.0",
            "grid_template_areas": null,
            "object_position": null,
            "object_fit": null,
            "grid_auto_columns": null,
            "margin": null,
            "display": null,
            "left": null
          }
        },
        "be9fabfbc5b54cf8a6a40370c1db92ab": {
          "model_module": "@jupyter-widgets/controls",
          "model_name": "IntProgressModel",
          "state": {
            "_view_name": "ProgressView",
            "style": "IPY_MODEL_f020790a108b4a768e10ca2d6f5d99ef",
            "_dom_classes": [],
            "description": "Downloading: 100%",
            "_model_name": "IntProgressModel",
            "bar_style": "success",
            "max": 1129,
            "_view_module": "@jupyter-widgets/controls",
            "_model_module_version": "1.5.0",
            "value": 1129,
            "_view_count": null,
            "_view_module_version": "1.5.0",
            "orientation": "horizontal",
            "min": 0,
            "description_tooltip": null,
            "_model_module": "@jupyter-widgets/controls",
            "layout": "IPY_MODEL_c6e11a0c17814eeeb5e12d3347f47ea2"
          }
        },
        "a572ccba9f9642a58ea2ca789d05465c": {
          "model_module": "@jupyter-widgets/controls",
          "model_name": "HTMLModel",
          "state": {
            "_view_name": "HTMLView",
            "style": "IPY_MODEL_a09f0cbbcb814e29925f86bd89f68a7b",
            "_dom_classes": [],
            "description": "",
            "_model_name": "HTMLModel",
            "placeholder": "​",
            "_view_module": "@jupyter-widgets/controls",
            "_model_module_version": "1.5.0",
            "value": " 1.13k/1.13k [00:00&lt;00:00, 4.73kB/s]",
            "_view_count": null,
            "_view_module_version": "1.5.0",
            "description_tooltip": null,
            "_model_module": "@jupyter-widgets/controls",
            "layout": "IPY_MODEL_eb1280437f4741d7ad969b481e893cf7"
          }
        },
        "f020790a108b4a768e10ca2d6f5d99ef": {
          "model_module": "@jupyter-widgets/controls",
          "model_name": "ProgressStyleModel",
          "state": {
            "_view_name": "StyleView",
            "_model_name": "ProgressStyleModel",
            "description_width": "initial",
            "_view_module": "@jupyter-widgets/base",
            "_model_module_version": "1.5.0",
            "_view_count": null,
            "_view_module_version": "1.2.0",
            "bar_color": null,
            "_model_module": "@jupyter-widgets/controls"
          }
        },
        "c6e11a0c17814eeeb5e12d3347f47ea2": {
          "model_module": "@jupyter-widgets/base",
          "model_name": "LayoutModel",
          "state": {
            "_view_name": "LayoutView",
            "grid_template_rows": null,
            "right": null,
            "justify_content": null,
            "_view_module": "@jupyter-widgets/base",
            "overflow": null,
            "_model_module_version": "1.2.0",
            "_view_count": null,
            "flex_flow": null,
            "width": null,
            "min_width": null,
            "border": null,
            "align_items": null,
            "bottom": null,
            "_model_module": "@jupyter-widgets/base",
            "top": null,
            "grid_column": null,
            "overflow_y": null,
            "overflow_x": null,
            "grid_auto_flow": null,
            "grid_area": null,
            "grid_template_columns": null,
            "flex": null,
            "_model_name": "LayoutModel",
            "justify_items": null,
            "grid_row": null,
            "max_height": null,
            "align_content": null,
            "visibility": null,
            "align_self": null,
            "height": null,
            "min_height": null,
            "padding": null,
            "grid_auto_rows": null,
            "grid_gap": null,
            "max_width": null,
            "order": null,
            "_view_module_version": "1.2.0",
            "grid_template_areas": null,
            "object_position": null,
            "object_fit": null,
            "grid_auto_columns": null,
            "margin": null,
            "display": null,
            "left": null
          }
        },
        "a09f0cbbcb814e29925f86bd89f68a7b": {
          "model_module": "@jupyter-widgets/controls",
          "model_name": "DescriptionStyleModel",
          "state": {
            "_view_name": "StyleView",
            "_model_name": "DescriptionStyleModel",
            "description_width": "",
            "_view_module": "@jupyter-widgets/base",
            "_model_module_version": "1.5.0",
            "_view_count": null,
            "_view_module_version": "1.2.0",
            "_model_module": "@jupyter-widgets/controls"
          }
        },
        "eb1280437f4741d7ad969b481e893cf7": {
          "model_module": "@jupyter-widgets/base",
          "model_name": "LayoutModel",
          "state": {
            "_view_name": "LayoutView",
            "grid_template_rows": null,
            "right": null,
            "justify_content": null,
            "_view_module": "@jupyter-widgets/base",
            "overflow": null,
            "_model_module_version": "1.2.0",
            "_view_count": null,
            "flex_flow": null,
            "width": null,
            "min_width": null,
            "border": null,
            "align_items": null,
            "bottom": null,
            "_model_module": "@jupyter-widgets/base",
            "top": null,
            "grid_column": null,
            "overflow_y": null,
            "overflow_x": null,
            "grid_auto_flow": null,
            "grid_area": null,
            "grid_template_columns": null,
            "flex": null,
            "_model_name": "LayoutModel",
            "justify_items": null,
            "grid_row": null,
            "max_height": null,
            "align_content": null,
            "visibility": null,
            "align_self": null,
            "height": null,
            "min_height": null,
            "padding": null,
            "grid_auto_rows": null,
            "grid_gap": null,
            "max_width": null,
            "order": null,
            "_view_module_version": "1.2.0",
            "grid_template_areas": null,
            "object_position": null,
            "object_fit": null,
            "grid_auto_columns": null,
            "margin": null,
            "display": null,
            "left": null
          }
        },
        "3662b3ecbdb74c35a5fa2b2886c79e80": {
          "model_module": "@jupyter-widgets/controls",
          "model_name": "HBoxModel",
          "state": {
            "_view_name": "HBoxView",
            "_dom_classes": [],
            "_model_name": "HBoxModel",
            "_view_module": "@jupyter-widgets/controls",
            "_model_module_version": "1.5.0",
            "_view_count": null,
            "_view_module_version": "1.5.0",
            "box_style": "",
            "layout": "IPY_MODEL_783be731bbf446ee842e233a7719bf5c",
            "_model_module": "@jupyter-widgets/controls",
            "children": [
              "IPY_MODEL_c89deb6326e14d8ba0c4e32a36f04f3e",
              "IPY_MODEL_6b298aad9271438eba026f0b44b0faae"
            ]
          }
        },
        "783be731bbf446ee842e233a7719bf5c": {
          "model_module": "@jupyter-widgets/base",
          "model_name": "LayoutModel",
          "state": {
            "_view_name": "LayoutView",
            "grid_template_rows": null,
            "right": null,
            "justify_content": null,
            "_view_module": "@jupyter-widgets/base",
            "overflow": null,
            "_model_module_version": "1.2.0",
            "_view_count": null,
            "flex_flow": null,
            "width": null,
            "min_width": null,
            "border": null,
            "align_items": null,
            "bottom": null,
            "_model_module": "@jupyter-widgets/base",
            "top": null,
            "grid_column": null,
            "overflow_y": null,
            "overflow_x": null,
            "grid_auto_flow": null,
            "grid_area": null,
            "grid_template_columns": null,
            "flex": null,
            "_model_name": "LayoutModel",
            "justify_items": null,
            "grid_row": null,
            "max_height": null,
            "align_content": null,
            "visibility": null,
            "align_self": null,
            "height": null,
            "min_height": null,
            "padding": null,
            "grid_auto_rows": null,
            "grid_gap": null,
            "max_width": null,
            "order": null,
            "_view_module_version": "1.2.0",
            "grid_template_areas": null,
            "object_position": null,
            "object_fit": null,
            "grid_auto_columns": null,
            "margin": null,
            "display": null,
            "left": null
          }
        },
        "c89deb6326e14d8ba0c4e32a36f04f3e": {
          "model_module": "@jupyter-widgets/controls",
          "model_name": "IntProgressModel",
          "state": {
            "_view_name": "ProgressView",
            "style": "IPY_MODEL_5874b42f5d8a45dfb2dc09c7dbff68cf",
            "_dom_classes": [],
            "description": "Downloading: 100%",
            "_model_name": "IntProgressModel",
            "bar_style": "success",
            "max": 760289,
            "_view_module": "@jupyter-widgets/controls",
            "_model_module_version": "1.5.0",
            "value": 760289,
            "_view_count": null,
            "_view_module_version": "1.5.0",
            "orientation": "horizontal",
            "min": 0,
            "description_tooltip": null,
            "_model_module": "@jupyter-widgets/controls",
            "layout": "IPY_MODEL_e544f08089514fcfa1456f6f245a64ac"
          }
        },
        "6b298aad9271438eba026f0b44b0faae": {
          "model_module": "@jupyter-widgets/controls",
          "model_name": "HTMLModel",
          "state": {
            "_view_name": "HTMLView",
            "style": "IPY_MODEL_ddc830e4d26d43be8a9f34b8863b2a93",
            "_dom_classes": [],
            "description": "",
            "_model_name": "HTMLModel",
            "placeholder": "​",
            "_view_module": "@jupyter-widgets/controls",
            "_model_module_version": "1.5.0",
            "value": " 760k/760k [19:08&lt;00:00, 662B/s]",
            "_view_count": null,
            "_view_module_version": "1.5.0",
            "description_tooltip": null,
            "_model_module": "@jupyter-widgets/controls",
            "layout": "IPY_MODEL_7c54d1c78c574b8d9252ee45b63c92a6"
          }
        },
        "5874b42f5d8a45dfb2dc09c7dbff68cf": {
          "model_module": "@jupyter-widgets/controls",
          "model_name": "ProgressStyleModel",
          "state": {
            "_view_name": "StyleView",
            "_model_name": "ProgressStyleModel",
            "description_width": "initial",
            "_view_module": "@jupyter-widgets/base",
            "_model_module_version": "1.5.0",
            "_view_count": null,
            "_view_module_version": "1.2.0",
            "bar_color": null,
            "_model_module": "@jupyter-widgets/controls"
          }
        },
        "e544f08089514fcfa1456f6f245a64ac": {
          "model_module": "@jupyter-widgets/base",
          "model_name": "LayoutModel",
          "state": {
            "_view_name": "LayoutView",
            "grid_template_rows": null,
            "right": null,
            "justify_content": null,
            "_view_module": "@jupyter-widgets/base",
            "overflow": null,
            "_model_module_version": "1.2.0",
            "_view_count": null,
            "flex_flow": null,
            "width": null,
            "min_width": null,
            "border": null,
            "align_items": null,
            "bottom": null,
            "_model_module": "@jupyter-widgets/base",
            "top": null,
            "grid_column": null,
            "overflow_y": null,
            "overflow_x": null,
            "grid_auto_flow": null,
            "grid_area": null,
            "grid_template_columns": null,
            "flex": null,
            "_model_name": "LayoutModel",
            "justify_items": null,
            "grid_row": null,
            "max_height": null,
            "align_content": null,
            "visibility": null,
            "align_self": null,
            "height": null,
            "min_height": null,
            "padding": null,
            "grid_auto_rows": null,
            "grid_gap": null,
            "max_width": null,
            "order": null,
            "_view_module_version": "1.2.0",
            "grid_template_areas": null,
            "object_position": null,
            "object_fit": null,
            "grid_auto_columns": null,
            "margin": null,
            "display": null,
            "left": null
          }
        },
        "ddc830e4d26d43be8a9f34b8863b2a93": {
          "model_module": "@jupyter-widgets/controls",
          "model_name": "DescriptionStyleModel",
          "state": {
            "_view_name": "StyleView",
            "_model_name": "DescriptionStyleModel",
            "description_width": "",
            "_view_module": "@jupyter-widgets/base",
            "_model_module_version": "1.5.0",
            "_view_count": null,
            "_view_module_version": "1.2.0",
            "_model_module": "@jupyter-widgets/controls"
          }
        },
        "7c54d1c78c574b8d9252ee45b63c92a6": {
          "model_module": "@jupyter-widgets/base",
          "model_name": "LayoutModel",
          "state": {
            "_view_name": "LayoutView",
            "grid_template_rows": null,
            "right": null,
            "justify_content": null,
            "_view_module": "@jupyter-widgets/base",
            "overflow": null,
            "_model_module_version": "1.2.0",
            "_view_count": null,
            "flex_flow": null,
            "width": null,
            "min_width": null,
            "border": null,
            "align_items": null,
            "bottom": null,
            "_model_module": "@jupyter-widgets/base",
            "top": null,
            "grid_column": null,
            "overflow_y": null,
            "overflow_x": null,
            "grid_auto_flow": null,
            "grid_area": null,
            "grid_template_columns": null,
            "flex": null,
            "_model_name": "LayoutModel",
            "justify_items": null,
            "grid_row": null,
            "max_height": null,
            "align_content": null,
            "visibility": null,
            "align_self": null,
            "height": null,
            "min_height": null,
            "padding": null,
            "grid_auto_rows": null,
            "grid_gap": null,
            "max_width": null,
            "order": null,
            "_view_module_version": "1.2.0",
            "grid_template_areas": null,
            "object_position": null,
            "object_fit": null,
            "grid_auto_columns": null,
            "margin": null,
            "display": null,
            "left": null
          }
        },
        "e18c45c1b70b41fb8dea3f6a3cb4442b": {
          "model_module": "@jupyter-widgets/controls",
          "model_name": "HBoxModel",
          "state": {
            "_view_name": "HBoxView",
            "_dom_classes": [],
            "_model_name": "HBoxModel",
            "_view_module": "@jupyter-widgets/controls",
            "_model_module_version": "1.5.0",
            "_view_count": null,
            "_view_module_version": "1.5.0",
            "box_style": "",
            "layout": "IPY_MODEL_3fb35bf22fb449db9426955812ed6dc0",
            "_model_module": "@jupyter-widgets/controls",
            "children": [
              "IPY_MODEL_c179243bae224c968a9f835e5c5b1559",
              "IPY_MODEL_060ebd969ee8484a9d0640416b606601"
            ]
          }
        },
        "3fb35bf22fb449db9426955812ed6dc0": {
          "model_module": "@jupyter-widgets/base",
          "model_name": "LayoutModel",
          "state": {
            "_view_name": "LayoutView",
            "grid_template_rows": null,
            "right": null,
            "justify_content": null,
            "_view_module": "@jupyter-widgets/base",
            "overflow": null,
            "_model_module_version": "1.2.0",
            "_view_count": null,
            "flex_flow": null,
            "width": null,
            "min_width": null,
            "border": null,
            "align_items": null,
            "bottom": null,
            "_model_module": "@jupyter-widgets/base",
            "top": null,
            "grid_column": null,
            "overflow_y": null,
            "overflow_x": null,
            "grid_auto_flow": null,
            "grid_area": null,
            "grid_template_columns": null,
            "flex": null,
            "_model_name": "LayoutModel",
            "justify_items": null,
            "grid_row": null,
            "max_height": null,
            "align_content": null,
            "visibility": null,
            "align_self": null,
            "height": null,
            "min_height": null,
            "padding": null,
            "grid_auto_rows": null,
            "grid_gap": null,
            "max_width": null,
            "order": null,
            "_view_module_version": "1.2.0",
            "grid_template_areas": null,
            "object_position": null,
            "object_fit": null,
            "grid_auto_columns": null,
            "margin": null,
            "display": null,
            "left": null
          }
        },
        "c179243bae224c968a9f835e5c5b1559": {
          "model_module": "@jupyter-widgets/controls",
          "model_name": "IntProgressModel",
          "state": {
            "_view_name": "ProgressView",
            "style": "IPY_MODEL_6b5aa3ca41d841599ea7d332db305d34",
            "_dom_classes": [],
            "description": "Downloading: 100%",
            "_model_name": "IntProgressModel",
            "bar_style": "success",
            "max": 2,
            "_view_module": "@jupyter-widgets/controls",
            "_model_module_version": "1.5.0",
            "value": 2,
            "_view_count": null,
            "_view_module_version": "1.5.0",
            "orientation": "horizontal",
            "min": 0,
            "description_tooltip": null,
            "_model_module": "@jupyter-widgets/controls",
            "layout": "IPY_MODEL_0913fcff1f7a4dbb93d5eec5aa051f03"
          }
        },
        "060ebd969ee8484a9d0640416b606601": {
          "model_module": "@jupyter-widgets/controls",
          "model_name": "HTMLModel",
          "state": {
            "_view_name": "HTMLView",
            "style": "IPY_MODEL_a3289789c5de4918b03241e34685dc73",
            "_dom_classes": [],
            "description": "",
            "_model_name": "HTMLModel",
            "placeholder": "​",
            "_view_module": "@jupyter-widgets/controls",
            "_model_module_version": "1.5.0",
            "value": " 2.00/2.00 [00:00&lt;00:00, 4.23B/s]",
            "_view_count": null,
            "_view_module_version": "1.5.0",
            "description_tooltip": null,
            "_model_module": "@jupyter-widgets/controls",
            "layout": "IPY_MODEL_b9ab8c4043d44cd1b9a6177c52c8395d"
          }
        },
        "6b5aa3ca41d841599ea7d332db305d34": {
          "model_module": "@jupyter-widgets/controls",
          "model_name": "ProgressStyleModel",
          "state": {
            "_view_name": "StyleView",
            "_model_name": "ProgressStyleModel",
            "description_width": "initial",
            "_view_module": "@jupyter-widgets/base",
            "_model_module_version": "1.5.0",
            "_view_count": null,
            "_view_module_version": "1.2.0",
            "bar_color": null,
            "_model_module": "@jupyter-widgets/controls"
          }
        },
        "0913fcff1f7a4dbb93d5eec5aa051f03": {
          "model_module": "@jupyter-widgets/base",
          "model_name": "LayoutModel",
          "state": {
            "_view_name": "LayoutView",
            "grid_template_rows": null,
            "right": null,
            "justify_content": null,
            "_view_module": "@jupyter-widgets/base",
            "overflow": null,
            "_model_module_version": "1.2.0",
            "_view_count": null,
            "flex_flow": null,
            "width": null,
            "min_width": null,
            "border": null,
            "align_items": null,
            "bottom": null,
            "_model_module": "@jupyter-widgets/base",
            "top": null,
            "grid_column": null,
            "overflow_y": null,
            "overflow_x": null,
            "grid_auto_flow": null,
            "grid_area": null,
            "grid_template_columns": null,
            "flex": null,
            "_model_name": "LayoutModel",
            "justify_items": null,
            "grid_row": null,
            "max_height": null,
            "align_content": null,
            "visibility": null,
            "align_self": null,
            "height": null,
            "min_height": null,
            "padding": null,
            "grid_auto_rows": null,
            "grid_gap": null,
            "max_width": null,
            "order": null,
            "_view_module_version": "1.2.0",
            "grid_template_areas": null,
            "object_position": null,
            "object_fit": null,
            "grid_auto_columns": null,
            "margin": null,
            "display": null,
            "left": null
          }
        },
        "a3289789c5de4918b03241e34685dc73": {
          "model_module": "@jupyter-widgets/controls",
          "model_name": "DescriptionStyleModel",
          "state": {
            "_view_name": "StyleView",
            "_model_name": "DescriptionStyleModel",
            "description_width": "",
            "_view_module": "@jupyter-widgets/base",
            "_model_module_version": "1.5.0",
            "_view_count": null,
            "_view_module_version": "1.2.0",
            "_model_module": "@jupyter-widgets/controls"
          }
        },
        "b9ab8c4043d44cd1b9a6177c52c8395d": {
          "model_module": "@jupyter-widgets/base",
          "model_name": "LayoutModel",
          "state": {
            "_view_name": "LayoutView",
            "grid_template_rows": null,
            "right": null,
            "justify_content": null,
            "_view_module": "@jupyter-widgets/base",
            "overflow": null,
            "_model_module_version": "1.2.0",
            "_view_count": null,
            "flex_flow": null,
            "width": null,
            "min_width": null,
            "border": null,
            "align_items": null,
            "bottom": null,
            "_model_module": "@jupyter-widgets/base",
            "top": null,
            "grid_column": null,
            "overflow_y": null,
            "overflow_x": null,
            "grid_auto_flow": null,
            "grid_area": null,
            "grid_template_columns": null,
            "flex": null,
            "_model_name": "LayoutModel",
            "justify_items": null,
            "grid_row": null,
            "max_height": null,
            "align_content": null,
            "visibility": null,
            "align_self": null,
            "height": null,
            "min_height": null,
            "padding": null,
            "grid_auto_rows": null,
            "grid_gap": null,
            "max_width": null,
            "order": null,
            "_view_module_version": "1.2.0",
            "grid_template_areas": null,
            "object_position": null,
            "object_fit": null,
            "grid_auto_columns": null,
            "margin": null,
            "display": null,
            "left": null
          }
        },
        "76775190762a40669113df038f06a449": {
          "model_module": "@jupyter-widgets/controls",
          "model_name": "HBoxModel",
          "state": {
            "_view_name": "HBoxView",
            "_dom_classes": [],
            "_model_name": "HBoxModel",
            "_view_module": "@jupyter-widgets/controls",
            "_model_module_version": "1.5.0",
            "_view_count": null,
            "_view_module_version": "1.5.0",
            "box_style": "",
            "layout": "IPY_MODEL_2c57d2f8f48244738873269eeb01259d",
            "_model_module": "@jupyter-widgets/controls",
            "children": [
              "IPY_MODEL_0008623e68b5412dbde122fa6f77f68e",
              "IPY_MODEL_08fcb922e8c94aafbc1c2e807203247e"
            ]
          }
        },
        "2c57d2f8f48244738873269eeb01259d": {
          "model_module": "@jupyter-widgets/base",
          "model_name": "LayoutModel",
          "state": {
            "_view_name": "LayoutView",
            "grid_template_rows": null,
            "right": null,
            "justify_content": null,
            "_view_module": "@jupyter-widgets/base",
            "overflow": null,
            "_model_module_version": "1.2.0",
            "_view_count": null,
            "flex_flow": null,
            "width": null,
            "min_width": null,
            "border": null,
            "align_items": null,
            "bottom": null,
            "_model_module": "@jupyter-widgets/base",
            "top": null,
            "grid_column": null,
            "overflow_y": null,
            "overflow_x": null,
            "grid_auto_flow": null,
            "grid_area": null,
            "grid_template_columns": null,
            "flex": null,
            "_model_name": "LayoutModel",
            "justify_items": null,
            "grid_row": null,
            "max_height": null,
            "align_content": null,
            "visibility": null,
            "align_self": null,
            "height": null,
            "min_height": null,
            "padding": null,
            "grid_auto_rows": null,
            "grid_gap": null,
            "max_width": null,
            "order": null,
            "_view_module_version": "1.2.0",
            "grid_template_areas": null,
            "object_position": null,
            "object_fit": null,
            "grid_auto_columns": null,
            "margin": null,
            "display": null,
            "left": null
          }
        },
        "0008623e68b5412dbde122fa6f77f68e": {
          "model_module": "@jupyter-widgets/controls",
          "model_name": "IntProgressModel",
          "state": {
            "_view_name": "ProgressView",
            "style": "IPY_MODEL_8a537f18c97f427082d1e8d6c06c8418",
            "_dom_classes": [],
            "description": "Downloading: 100%",
            "_model_name": "IntProgressModel",
            "bar_style": "success",
            "max": 156,
            "_view_module": "@jupyter-widgets/controls",
            "_model_module_version": "1.5.0",
            "value": 156,
            "_view_count": null,
            "_view_module_version": "1.5.0",
            "orientation": "horizontal",
            "min": 0,
            "description_tooltip": null,
            "_model_module": "@jupyter-widgets/controls",
            "layout": "IPY_MODEL_e27d388fca0145ecb26596fbba989fa1"
          }
        },
        "08fcb922e8c94aafbc1c2e807203247e": {
          "model_module": "@jupyter-widgets/controls",
          "model_name": "HTMLModel",
          "state": {
            "_view_name": "HTMLView",
            "style": "IPY_MODEL_d01022f0684a453e9a6315f174739bf0",
            "_dom_classes": [],
            "description": "",
            "_model_name": "HTMLModel",
            "placeholder": "​",
            "_view_module": "@jupyter-widgets/controls",
            "_model_module_version": "1.5.0",
            "value": " 156/156 [00:00&lt;00:00, 741B/s]",
            "_view_count": null,
            "_view_module_version": "1.5.0",
            "description_tooltip": null,
            "_model_module": "@jupyter-widgets/controls",
            "layout": "IPY_MODEL_947abafe41724f5598417b5f71ce4058"
          }
        },
        "8a537f18c97f427082d1e8d6c06c8418": {
          "model_module": "@jupyter-widgets/controls",
          "model_name": "ProgressStyleModel",
          "state": {
            "_view_name": "StyleView",
            "_model_name": "ProgressStyleModel",
            "description_width": "initial",
            "_view_module": "@jupyter-widgets/base",
            "_model_module_version": "1.5.0",
            "_view_count": null,
            "_view_module_version": "1.2.0",
            "bar_color": null,
            "_model_module": "@jupyter-widgets/controls"
          }
        },
        "e27d388fca0145ecb26596fbba989fa1": {
          "model_module": "@jupyter-widgets/base",
          "model_name": "LayoutModel",
          "state": {
            "_view_name": "LayoutView",
            "grid_template_rows": null,
            "right": null,
            "justify_content": null,
            "_view_module": "@jupyter-widgets/base",
            "overflow": null,
            "_model_module_version": "1.2.0",
            "_view_count": null,
            "flex_flow": null,
            "width": null,
            "min_width": null,
            "border": null,
            "align_items": null,
            "bottom": null,
            "_model_module": "@jupyter-widgets/base",
            "top": null,
            "grid_column": null,
            "overflow_y": null,
            "overflow_x": null,
            "grid_auto_flow": null,
            "grid_area": null,
            "grid_template_columns": null,
            "flex": null,
            "_model_name": "LayoutModel",
            "justify_items": null,
            "grid_row": null,
            "max_height": null,
            "align_content": null,
            "visibility": null,
            "align_self": null,
            "height": null,
            "min_height": null,
            "padding": null,
            "grid_auto_rows": null,
            "grid_gap": null,
            "max_width": null,
            "order": null,
            "_view_module_version": "1.2.0",
            "grid_template_areas": null,
            "object_position": null,
            "object_fit": null,
            "grid_auto_columns": null,
            "margin": null,
            "display": null,
            "left": null
          }
        },
        "d01022f0684a453e9a6315f174739bf0": {
          "model_module": "@jupyter-widgets/controls",
          "model_name": "DescriptionStyleModel",
          "state": {
            "_view_name": "StyleView",
            "_model_name": "DescriptionStyleModel",
            "description_width": "",
            "_view_module": "@jupyter-widgets/base",
            "_model_module_version": "1.5.0",
            "_view_count": null,
            "_view_module_version": "1.2.0",
            "_model_module": "@jupyter-widgets/controls"
          }
        },
        "947abafe41724f5598417b5f71ce4058": {
          "model_module": "@jupyter-widgets/base",
          "model_name": "LayoutModel",
          "state": {
            "_view_name": "LayoutView",
            "grid_template_rows": null,
            "right": null,
            "justify_content": null,
            "_view_module": "@jupyter-widgets/base",
            "overflow": null,
            "_model_module_version": "1.2.0",
            "_view_count": null,
            "flex_flow": null,
            "width": null,
            "min_width": null,
            "border": null,
            "align_items": null,
            "bottom": null,
            "_model_module": "@jupyter-widgets/base",
            "top": null,
            "grid_column": null,
            "overflow_y": null,
            "overflow_x": null,
            "grid_auto_flow": null,
            "grid_area": null,
            "grid_template_columns": null,
            "flex": null,
            "_model_name": "LayoutModel",
            "justify_items": null,
            "grid_row": null,
            "max_height": null,
            "align_content": null,
            "visibility": null,
            "align_self": null,
            "height": null,
            "min_height": null,
            "padding": null,
            "grid_auto_rows": null,
            "grid_gap": null,
            "max_width": null,
            "order": null,
            "_view_module_version": "1.2.0",
            "grid_template_areas": null,
            "object_position": null,
            "object_fit": null,
            "grid_auto_columns": null,
            "margin": null,
            "display": null,
            "left": null
          }
        },
        "2b927c43f7764b61bed049027f137421": {
          "model_module": "@jupyter-widgets/controls",
          "model_name": "HBoxModel",
          "state": {
            "_view_name": "HBoxView",
            "_dom_classes": [],
            "_model_name": "HBoxModel",
            "_view_module": "@jupyter-widgets/controls",
            "_model_module_version": "1.5.0",
            "_view_count": null,
            "_view_module_version": "1.5.0",
            "box_style": "",
            "layout": "IPY_MODEL_4ac3332b7e0341cc94ad73868a34819a",
            "_model_module": "@jupyter-widgets/controls",
            "children": [
              "IPY_MODEL_ca158218eac840539a43756eea532747",
              "IPY_MODEL_a8722bcfefd9408b92d9a4d71606e044"
            ]
          }
        },
        "4ac3332b7e0341cc94ad73868a34819a": {
          "model_module": "@jupyter-widgets/base",
          "model_name": "LayoutModel",
          "state": {
            "_view_name": "LayoutView",
            "grid_template_rows": null,
            "right": null,
            "justify_content": null,
            "_view_module": "@jupyter-widgets/base",
            "overflow": null,
            "_model_module_version": "1.2.0",
            "_view_count": null,
            "flex_flow": null,
            "width": null,
            "min_width": null,
            "border": null,
            "align_items": null,
            "bottom": null,
            "_model_module": "@jupyter-widgets/base",
            "top": null,
            "grid_column": null,
            "overflow_y": null,
            "overflow_x": null,
            "grid_auto_flow": null,
            "grid_area": null,
            "grid_template_columns": null,
            "flex": null,
            "_model_name": "LayoutModel",
            "justify_items": null,
            "grid_row": null,
            "max_height": null,
            "align_content": null,
            "visibility": null,
            "align_self": null,
            "height": null,
            "min_height": null,
            "padding": null,
            "grid_auto_rows": null,
            "grid_gap": null,
            "max_width": null,
            "order": null,
            "_view_module_version": "1.2.0",
            "grid_template_areas": null,
            "object_position": null,
            "object_fit": null,
            "grid_auto_columns": null,
            "margin": null,
            "display": null,
            "left": null
          }
        },
        "ca158218eac840539a43756eea532747": {
          "model_module": "@jupyter-widgets/controls",
          "model_name": "IntProgressModel",
          "state": {
            "_view_name": "ProgressView",
            "style": "IPY_MODEL_f004c16641eb44c4af84d2c9e4363e07",
            "_dom_classes": [],
            "description": "Downloading: 100%",
            "_model_name": "IntProgressModel",
            "bar_style": "success",
            "max": 58,
            "_view_module": "@jupyter-widgets/controls",
            "_model_module_version": "1.5.0",
            "value": 58,
            "_view_count": null,
            "_view_module_version": "1.5.0",
            "orientation": "horizontal",
            "min": 0,
            "description_tooltip": null,
            "_model_module": "@jupyter-widgets/controls",
            "layout": "IPY_MODEL_0483baa569d6495d9c82a194bc71f636"
          }
        },
        "a8722bcfefd9408b92d9a4d71606e044": {
          "model_module": "@jupyter-widgets/controls",
          "model_name": "HTMLModel",
          "state": {
            "_view_name": "HTMLView",
            "style": "IPY_MODEL_bb144fa574d94c5fb93d40e4c24c2c41",
            "_dom_classes": [],
            "description": "",
            "_model_name": "HTMLModel",
            "placeholder": "​",
            "_view_module": "@jupyter-widgets/controls",
            "_model_module_version": "1.5.0",
            "value": " 58.0/58.0 [19:08&lt;00:00, 19.8s/B]",
            "_view_count": null,
            "_view_module_version": "1.5.0",
            "description_tooltip": null,
            "_model_module": "@jupyter-widgets/controls",
            "layout": "IPY_MODEL_ba44f282ba9d40dbbb1fc66de6aa8e9a"
          }
        },
        "f004c16641eb44c4af84d2c9e4363e07": {
          "model_module": "@jupyter-widgets/controls",
          "model_name": "ProgressStyleModel",
          "state": {
            "_view_name": "StyleView",
            "_model_name": "ProgressStyleModel",
            "description_width": "initial",
            "_view_module": "@jupyter-widgets/base",
            "_model_module_version": "1.5.0",
            "_view_count": null,
            "_view_module_version": "1.2.0",
            "bar_color": null,
            "_model_module": "@jupyter-widgets/controls"
          }
        },
        "0483baa569d6495d9c82a194bc71f636": {
          "model_module": "@jupyter-widgets/base",
          "model_name": "LayoutModel",
          "state": {
            "_view_name": "LayoutView",
            "grid_template_rows": null,
            "right": null,
            "justify_content": null,
            "_view_module": "@jupyter-widgets/base",
            "overflow": null,
            "_model_module_version": "1.2.0",
            "_view_count": null,
            "flex_flow": null,
            "width": null,
            "min_width": null,
            "border": null,
            "align_items": null,
            "bottom": null,
            "_model_module": "@jupyter-widgets/base",
            "top": null,
            "grid_column": null,
            "overflow_y": null,
            "overflow_x": null,
            "grid_auto_flow": null,
            "grid_area": null,
            "grid_template_columns": null,
            "flex": null,
            "_model_name": "LayoutModel",
            "justify_items": null,
            "grid_row": null,
            "max_height": null,
            "align_content": null,
            "visibility": null,
            "align_self": null,
            "height": null,
            "min_height": null,
            "padding": null,
            "grid_auto_rows": null,
            "grid_gap": null,
            "max_width": null,
            "order": null,
            "_view_module_version": "1.2.0",
            "grid_template_areas": null,
            "object_position": null,
            "object_fit": null,
            "grid_auto_columns": null,
            "margin": null,
            "display": null,
            "left": null
          }
        },
        "bb144fa574d94c5fb93d40e4c24c2c41": {
          "model_module": "@jupyter-widgets/controls",
          "model_name": "DescriptionStyleModel",
          "state": {
            "_view_name": "StyleView",
            "_model_name": "DescriptionStyleModel",
            "description_width": "",
            "_view_module": "@jupyter-widgets/base",
            "_model_module_version": "1.5.0",
            "_view_count": null,
            "_view_module_version": "1.2.0",
            "_model_module": "@jupyter-widgets/controls"
          }
        },
        "ba44f282ba9d40dbbb1fc66de6aa8e9a": {
          "model_module": "@jupyter-widgets/base",
          "model_name": "LayoutModel",
          "state": {
            "_view_name": "LayoutView",
            "grid_template_rows": null,
            "right": null,
            "justify_content": null,
            "_view_module": "@jupyter-widgets/base",
            "overflow": null,
            "_model_module_version": "1.2.0",
            "_view_count": null,
            "flex_flow": null,
            "width": null,
            "min_width": null,
            "border": null,
            "align_items": null,
            "bottom": null,
            "_model_module": "@jupyter-widgets/base",
            "top": null,
            "grid_column": null,
            "overflow_y": null,
            "overflow_x": null,
            "grid_auto_flow": null,
            "grid_area": null,
            "grid_template_columns": null,
            "flex": null,
            "_model_name": "LayoutModel",
            "justify_items": null,
            "grid_row": null,
            "max_height": null,
            "align_content": null,
            "visibility": null,
            "align_self": null,
            "height": null,
            "min_height": null,
            "padding": null,
            "grid_auto_rows": null,
            "grid_gap": null,
            "max_width": null,
            "order": null,
            "_view_module_version": "1.2.0",
            "grid_template_areas": null,
            "object_position": null,
            "object_fit": null,
            "grid_auto_columns": null,
            "margin": null,
            "display": null,
            "left": null
          }
        },
        "44f9663764914da1bda18f8753f380d8": {
          "model_module": "@jupyter-widgets/controls",
          "model_name": "HBoxModel",
          "state": {
            "_view_name": "HBoxView",
            "_dom_classes": [],
            "_model_name": "HBoxModel",
            "_view_module": "@jupyter-widgets/controls",
            "_model_module_version": "1.5.0",
            "_view_count": null,
            "_view_module_version": "1.5.0",
            "box_style": "",
            "layout": "IPY_MODEL_4ed492a02f9d46b7992adf006c3a4c2b",
            "_model_module": "@jupyter-widgets/controls",
            "children": [
              "IPY_MODEL_eac75b9145b04407b88cd41087c9dcaf",
              "IPY_MODEL_e214f5bf5fec4839b7758ee0accbfa13"
            ]
          }
        },
        "4ed492a02f9d46b7992adf006c3a4c2b": {
          "model_module": "@jupyter-widgets/base",
          "model_name": "LayoutModel",
          "state": {
            "_view_name": "LayoutView",
            "grid_template_rows": null,
            "right": null,
            "justify_content": null,
            "_view_module": "@jupyter-widgets/base",
            "overflow": null,
            "_model_module_version": "1.2.0",
            "_view_count": null,
            "flex_flow": null,
            "width": null,
            "min_width": null,
            "border": null,
            "align_items": null,
            "bottom": null,
            "_model_module": "@jupyter-widgets/base",
            "top": null,
            "grid_column": null,
            "overflow_y": null,
            "overflow_x": null,
            "grid_auto_flow": null,
            "grid_area": null,
            "grid_template_columns": null,
            "flex": null,
            "_model_name": "LayoutModel",
            "justify_items": null,
            "grid_row": null,
            "max_height": null,
            "align_content": null,
            "visibility": null,
            "align_self": null,
            "height": null,
            "min_height": null,
            "padding": null,
            "grid_auto_rows": null,
            "grid_gap": null,
            "max_width": null,
            "order": null,
            "_view_module_version": "1.2.0",
            "grid_template_areas": null,
            "object_position": null,
            "object_fit": null,
            "grid_auto_columns": null,
            "margin": null,
            "display": null,
            "left": null
          }
        },
        "eac75b9145b04407b88cd41087c9dcaf": {
          "model_module": "@jupyter-widgets/controls",
          "model_name": "IntProgressModel",
          "state": {
            "_view_name": "ProgressView",
            "style": "IPY_MODEL_a23f32e8f912455aaf8ce9df9c64c755",
            "_dom_classes": [],
            "description": "Downloading: 100%",
            "_model_name": "IntProgressModel",
            "bar_style": "success",
            "max": 234922444,
            "_view_module": "@jupyter-widgets/controls",
            "_model_module_version": "1.5.0",
            "value": 234922444,
            "_view_count": null,
            "_view_module_version": "1.5.0",
            "orientation": "horizontal",
            "min": 0,
            "description_tooltip": null,
            "_model_module": "@jupyter-widgets/controls",
            "layout": "IPY_MODEL_84dc3d275b5f49a6843754a03860f085"
          }
        },
        "e214f5bf5fec4839b7758ee0accbfa13": {
          "model_module": "@jupyter-widgets/controls",
          "model_name": "HTMLModel",
          "state": {
            "_view_name": "HTMLView",
            "style": "IPY_MODEL_580ef0e16c944d6b9bb4c75355368633",
            "_dom_classes": [],
            "description": "",
            "_model_name": "HTMLModel",
            "placeholder": "​",
            "_view_module": "@jupyter-widgets/controls",
            "_model_module_version": "1.5.0",
            "value": " 235M/235M [15:26&lt;00:00, 254kB/s]",
            "_view_count": null,
            "_view_module_version": "1.5.0",
            "description_tooltip": null,
            "_model_module": "@jupyter-widgets/controls",
            "layout": "IPY_MODEL_e10cf0f9e5434eabbe2cb746b3afdd12"
          }
        },
        "a23f32e8f912455aaf8ce9df9c64c755": {
          "model_module": "@jupyter-widgets/controls",
          "model_name": "ProgressStyleModel",
          "state": {
            "_view_name": "StyleView",
            "_model_name": "ProgressStyleModel",
            "description_width": "initial",
            "_view_module": "@jupyter-widgets/base",
            "_model_module_version": "1.5.0",
            "_view_count": null,
            "_view_module_version": "1.2.0",
            "bar_color": null,
            "_model_module": "@jupyter-widgets/controls"
          }
        },
        "84dc3d275b5f49a6843754a03860f085": {
          "model_module": "@jupyter-widgets/base",
          "model_name": "LayoutModel",
          "state": {
            "_view_name": "LayoutView",
            "grid_template_rows": null,
            "right": null,
            "justify_content": null,
            "_view_module": "@jupyter-widgets/base",
            "overflow": null,
            "_model_module_version": "1.2.0",
            "_view_count": null,
            "flex_flow": null,
            "width": null,
            "min_width": null,
            "border": null,
            "align_items": null,
            "bottom": null,
            "_model_module": "@jupyter-widgets/base",
            "top": null,
            "grid_column": null,
            "overflow_y": null,
            "overflow_x": null,
            "grid_auto_flow": null,
            "grid_area": null,
            "grid_template_columns": null,
            "flex": null,
            "_model_name": "LayoutModel",
            "justify_items": null,
            "grid_row": null,
            "max_height": null,
            "align_content": null,
            "visibility": null,
            "align_self": null,
            "height": null,
            "min_height": null,
            "padding": null,
            "grid_auto_rows": null,
            "grid_gap": null,
            "max_width": null,
            "order": null,
            "_view_module_version": "1.2.0",
            "grid_template_areas": null,
            "object_position": null,
            "object_fit": null,
            "grid_auto_columns": null,
            "margin": null,
            "display": null,
            "left": null
          }
        },
        "580ef0e16c944d6b9bb4c75355368633": {
          "model_module": "@jupyter-widgets/controls",
          "model_name": "DescriptionStyleModel",
          "state": {
            "_view_name": "StyleView",
            "_model_name": "DescriptionStyleModel",
            "description_width": "",
            "_view_module": "@jupyter-widgets/base",
            "_model_module_version": "1.5.0",
            "_view_count": null,
            "_view_module_version": "1.2.0",
            "_model_module": "@jupyter-widgets/controls"
          }
        },
        "e10cf0f9e5434eabbe2cb746b3afdd12": {
          "model_module": "@jupyter-widgets/base",
          "model_name": "LayoutModel",
          "state": {
            "_view_name": "LayoutView",
            "grid_template_rows": null,
            "right": null,
            "justify_content": null,
            "_view_module": "@jupyter-widgets/base",
            "overflow": null,
            "_model_module_version": "1.2.0",
            "_view_count": null,
            "flex_flow": null,
            "width": null,
            "min_width": null,
            "border": null,
            "align_items": null,
            "bottom": null,
            "_model_module": "@jupyter-widgets/base",
            "top": null,
            "grid_column": null,
            "overflow_y": null,
            "overflow_x": null,
            "grid_auto_flow": null,
            "grid_area": null,
            "grid_template_columns": null,
            "flex": null,
            "_model_name": "LayoutModel",
            "justify_items": null,
            "grid_row": null,
            "max_height": null,
            "align_content": null,
            "visibility": null,
            "align_self": null,
            "height": null,
            "min_height": null,
            "padding": null,
            "grid_auto_rows": null,
            "grid_gap": null,
            "max_width": null,
            "order": null,
            "_view_module_version": "1.2.0",
            "grid_template_areas": null,
            "object_position": null,
            "object_fit": null,
            "grid_auto_columns": null,
            "margin": null,
            "display": null,
            "left": null
          }
        }
      }
    }
  },
  "cells": [
    {
      "cell_type": "code",
      "metadata": {
        "id": "beYjXdAyuD78",
        "colab_type": "code",
        "outputId": "f8546768-89f6-4533-e0ca-dae508a9347a",
        "colab": {
          "base_uri": "https://localhost:8080/",
          "height": 730
        }
      },
      "source": [
        "pip install torch torchvision transformers"
      ],
      "execution_count": 2,
      "outputs": [
        {
          "output_type": "stream",
          "text": [
            "Requirement already satisfied: torch in /usr/local/lib/python3.6/dist-packages (1.4.0)\n",
            "Requirement already satisfied: torchvision in /usr/local/lib/python3.6/dist-packages (0.5.0)\n",
            "Collecting transformers\n",
            "\u001b[?25l  Downloading https://files.pythonhosted.org/packages/4c/a0/32e3a4501ef480f7ea01aac329a716132f32f7911ef1c2fac228acc57ca7/transformers-2.6.0-py3-none-any.whl (540kB)\n",
            "\u001b[K     |████████████████████████████████| 542kB 2.8MB/s \n",
            "\u001b[?25hRequirement already satisfied: pillow>=4.1.1 in /usr/local/lib/python3.6/dist-packages (from torchvision) (7.0.0)\n",
            "Requirement already satisfied: numpy in /usr/local/lib/python3.6/dist-packages (from torchvision) (1.18.2)\n",
            "Requirement already satisfied: six in /usr/local/lib/python3.6/dist-packages (from torchvision) (1.12.0)\n",
            "Requirement already satisfied: regex!=2019.12.17 in /usr/local/lib/python3.6/dist-packages (from transformers) (2019.12.20)\n",
            "Requirement already satisfied: filelock in /usr/local/lib/python3.6/dist-packages (from transformers) (3.0.12)\n",
            "Collecting sacremoses\n",
            "\u001b[?25l  Downloading https://files.pythonhosted.org/packages/a6/b4/7a41d630547a4afd58143597d5a49e07bfd4c42914d8335b2a5657efc14b/sacremoses-0.0.38.tar.gz (860kB)\n",
            "\u001b[K     |████████████████████████████████| 870kB 45.9MB/s \n",
            "\u001b[?25hCollecting sentencepiece\n",
            "\u001b[?25l  Downloading https://files.pythonhosted.org/packages/74/f4/2d5214cbf13d06e7cb2c20d84115ca25b53ea76fa1f0ade0e3c9749de214/sentencepiece-0.1.85-cp36-cp36m-manylinux1_x86_64.whl (1.0MB)\n",
            "\u001b[K     |████████████████████████████████| 1.0MB 33.9MB/s \n",
            "\u001b[?25hRequirement already satisfied: requests in /usr/local/lib/python3.6/dist-packages (from transformers) (2.21.0)\n",
            "Requirement already satisfied: boto3 in /usr/local/lib/python3.6/dist-packages (from transformers) (1.12.26)\n",
            "Collecting tokenizers==0.5.2\n",
            "\u001b[?25l  Downloading https://files.pythonhosted.org/packages/d1/3f/73c881ea4723e43c1e9acf317cf407fab3a278daab3a69c98dcac511c04f/tokenizers-0.5.2-cp36-cp36m-manylinux1_x86_64.whl (3.7MB)\n",
            "\u001b[K     |████████████████████████████████| 3.7MB 36.5MB/s \n",
            "\u001b[?25hRequirement already satisfied: tqdm>=4.27 in /usr/local/lib/python3.6/dist-packages (from transformers) (4.38.0)\n",
            "Requirement already satisfied: click in /usr/local/lib/python3.6/dist-packages (from sacremoses->transformers) (7.1.1)\n",
            "Requirement already satisfied: joblib in /usr/local/lib/python3.6/dist-packages (from sacremoses->transformers) (0.14.1)\n",
            "Requirement already satisfied: urllib3<1.25,>=1.21.1 in /usr/local/lib/python3.6/dist-packages (from requests->transformers) (1.24.3)\n",
            "Requirement already satisfied: chardet<3.1.0,>=3.0.2 in /usr/local/lib/python3.6/dist-packages (from requests->transformers) (3.0.4)\n",
            "Requirement already satisfied: certifi>=2017.4.17 in /usr/local/lib/python3.6/dist-packages (from requests->transformers) (2019.11.28)\n",
            "Requirement already satisfied: idna<2.9,>=2.5 in /usr/local/lib/python3.6/dist-packages (from requests->transformers) (2.8)\n",
            "Requirement already satisfied: jmespath<1.0.0,>=0.7.1 in /usr/local/lib/python3.6/dist-packages (from boto3->transformers) (0.9.5)\n",
            "Requirement already satisfied: s3transfer<0.4.0,>=0.3.0 in /usr/local/lib/python3.6/dist-packages (from boto3->transformers) (0.3.3)\n",
            "Requirement already satisfied: botocore<1.16.0,>=1.15.26 in /usr/local/lib/python3.6/dist-packages (from boto3->transformers) (1.15.26)\n",
            "Requirement already satisfied: docutils<0.16,>=0.10 in /usr/local/lib/python3.6/dist-packages (from botocore<1.16.0,>=1.15.26->boto3->transformers) (0.15.2)\n",
            "Requirement already satisfied: python-dateutil<3.0.0,>=2.1 in /usr/local/lib/python3.6/dist-packages (from botocore<1.16.0,>=1.15.26->boto3->transformers) (2.8.1)\n",
            "Building wheels for collected packages: sacremoses\n",
            "  Building wheel for sacremoses (setup.py) ... \u001b[?25l\u001b[?25hdone\n",
            "  Created wheel for sacremoses: filename=sacremoses-0.0.38-cp36-none-any.whl size=884628 sha256=88d5db78e5c7e6c7a3f33f35e96e2e7b6a78a9fcdb4102655bd43dcb07b05a4a\n",
            "  Stored in directory: /root/.cache/pip/wheels/6d/ec/1a/21b8912e35e02741306f35f66c785f3afe94de754a0eaf1422\n",
            "Successfully built sacremoses\n",
            "Installing collected packages: sacremoses, sentencepiece, tokenizers, transformers\n",
            "Successfully installed sacremoses-0.0.38 sentencepiece-0.1.85 tokenizers-0.5.2 transformers-2.6.0\n"
          ],
          "name": "stdout"
        }
      ]
    },
    {
      "cell_type": "code",
      "metadata": {
        "id": "yT6Ffe1LlHgF",
        "colab_type": "code",
        "outputId": "50a427b2-a7e9-4800-ca81-d0a78fe40937",
        "colab": {
          "base_uri": "https://localhost:8080/",
          "height": 138
        }
      },
      "source": [
        "!git clone https://github.com/huggingface/transformers \\\n",
        "&& cd transformers \n",
        "# && git checkout a3085020ed0d81d4903c50967687192e3101e770 "
      ],
      "execution_count": 3,
      "outputs": [
        {
          "output_type": "stream",
          "text": [
            "Cloning into 'transformers'...\n",
            "remote: Enumerating objects: 203, done.\u001b[K\n",
            "remote: Counting objects: 100% (203/203), done.\u001b[K\n",
            "remote: Compressing objects: 100% (74/74), done.\u001b[K\n",
            "remote: Total 23132 (delta 121), reused 169 (delta 103), pack-reused 22929\u001b[K\n",
            "Receiving objects: 100% (23132/23132), 13.66 MiB | 22.17 MiB/s, done.\n",
            "Resolving deltas: 100% (16563/16563), done.\n"
          ],
          "name": "stdout"
        }
      ]
    },
    {
      "cell_type": "code",
      "metadata": {
        "id": "WsJs7Qczxojp",
        "colab_type": "code",
        "outputId": "04529066-4dd5-4b21-f9d7-6843578f7cc7",
        "colab": {
          "base_uri": "https://localhost:8080/",
          "height": 554
        }
      },
      "source": [
        "!git clone https://github.com/nyu-mll/GLUE-baselines.git \n",
        "!git clone https://github.com/wasiahmad/paraphrase_identification.git \\\n",
        "&& python GLUE-baselines/download_glue_data.py --data_dir glue_data --tasks all --path_to_mrpc=paraphrase_identification/dataset/msr-paraphrase-corpus"
      ],
      "execution_count": 4,
      "outputs": [
        {
          "output_type": "stream",
          "text": [
            "Cloning into 'GLUE-baselines'...\n",
            "remote: Enumerating objects: 886, done.\u001b[K\n",
            "Receiving objects:   0% (1/886)   \rReceiving objects:   1% (9/886)   \rReceiving objects:   2% (18/886)   \rReceiving objects:   3% (27/886)   \rReceiving objects:   4% (36/886)   \rReceiving objects:   5% (45/886)   \rReceiving objects:   6% (54/886)   \rReceiving objects:   7% (63/886)   \rReceiving objects:   8% (71/886)   \rReceiving objects:   9% (80/886)   \rReceiving objects:  10% (89/886)   \rReceiving objects:  11% (98/886)   \rReceiving objects:  12% (107/886)   \rReceiving objects:  13% (116/886)   \rReceiving objects:  14% (125/886)   \rReceiving objects:  15% (133/886)   \rReceiving objects:  16% (142/886)   \rReceiving objects:  17% (151/886)   \rReceiving objects:  18% (160/886)   \rReceiving objects:  19% (169/886)   \rReceiving objects:  20% (178/886)   \rReceiving objects:  21% (187/886)   \rReceiving objects:  22% (195/886)   \rReceiving objects:  23% (204/886)   \rReceiving objects:  24% (213/886)   \rReceiving objects:  25% (222/886)   \rReceiving objects:  26% (231/886)   \rReceiving objects:  27% (240/886)   \rReceiving objects:  28% (249/886)   \rReceiving objects:  29% (257/886)   \rReceiving objects:  30% (266/886)   \rReceiving objects:  31% (275/886)   \rReceiving objects:  32% (284/886)   \rReceiving objects:  33% (293/886)   \rReceiving objects:  34% (302/886)   \rReceiving objects:  35% (311/886)   \rReceiving objects:  36% (319/886)   \rReceiving objects:  37% (328/886)   \rReceiving objects:  38% (337/886)   \rReceiving objects:  39% (346/886)   \rReceiving objects:  40% (355/886)   \rReceiving objects:  41% (364/886)   \rReceiving objects:  42% (373/886)   \rReceiving objects:  43% (381/886)   \rReceiving objects:  44% (390/886)   \rReceiving objects:  45% (399/886)   \rReceiving objects:  46% (408/886)   \rReceiving objects:  47% (417/886)   \rReceiving objects:  48% (426/886)   \rReceiving objects:  49% (435/886)   \rReceiving objects:  50% (443/886)   \rReceiving objects:  51% (452/886)   \rReceiving objects:  52% (461/886)   \rReceiving objects:  53% (470/886)   \rReceiving objects:  54% (479/886)   \rReceiving objects:  55% (488/886)   \rReceiving objects:  56% (497/886)   \rReceiving objects:  57% (506/886)   \rReceiving objects:  58% (514/886)   \rReceiving objects:  59% (523/886)   \rReceiving objects:  60% (532/886)   \rReceiving objects:  61% (541/886)   \rReceiving objects:  62% (550/886)   \rReceiving objects:  63% (559/886)   \rReceiving objects:  64% (568/886)   \rReceiving objects:  65% (576/886)   \rReceiving objects:  66% (585/886)   \rReceiving objects:  67% (594/886)   \rReceiving objects:  68% (603/886)   \rReceiving objects:  69% (612/886)   \rReceiving objects:  70% (621/886)   \rremote: Total 886 (delta 0), reused 0 (delta 0), pack-reused 886\u001b[K\n",
            "Receiving objects:  71% (630/886)   \rReceiving objects:  72% (638/886)   \rReceiving objects:  73% (647/886)   \rReceiving objects:  74% (656/886)   \rReceiving objects:  75% (665/886)   \rReceiving objects:  76% (674/886)   \rReceiving objects:  77% (683/886)   \rReceiving objects:  78% (692/886)   \rReceiving objects:  79% (700/886)   \rReceiving objects:  80% (709/886)   \rReceiving objects:  81% (718/886)   \rReceiving objects:  82% (727/886)   \rReceiving objects:  83% (736/886)   \rReceiving objects:  84% (745/886)   \rReceiving objects:  85% (754/886)   \rReceiving objects:  86% (762/886)   \rReceiving objects:  87% (771/886)   \rReceiving objects:  88% (780/886)   \rReceiving objects:  89% (789/886)   \rReceiving objects:  90% (798/886)   \rReceiving objects:  91% (807/886)   \rReceiving objects:  92% (816/886)   \rReceiving objects:  93% (824/886)   \rReceiving objects:  94% (833/886)   \rReceiving objects:  95% (842/886)   \rReceiving objects:  96% (851/886)   \rReceiving objects:  97% (860/886)   \rReceiving objects:  98% (869/886)   \rReceiving objects:  99% (878/886)   \rReceiving objects: 100% (886/886)   \rReceiving objects: 100% (886/886), 1.47 MiB | 15.41 MiB/s, done.\n",
            "Resolving deltas: 100% (609/609), done.\n",
            "Cloning into 'paraphrase_identification'...\n",
            "remote: Enumerating objects: 68, done.\u001b[K\n",
            "remote: Total 68 (delta 0), reused 0 (delta 0), pack-reused 68\u001b[K\n",
            "Unpacking objects: 100% (68/68), done.\n",
            "Downloading and extracting CoLA...\n",
            "\tCompleted!\n",
            "Downloading and extracting SST...\n",
            "\tCompleted!\n",
            "Processing MRPC...\n",
            "\tCompleted!\n",
            "Downloading and extracting QQP...\n",
            "\tCompleted!\n",
            "Downloading and extracting STS...\n",
            "\tCompleted!\n",
            "Downloading and extracting MNLI...\n",
            "\tCompleted!\n",
            "Downloading and extracting SNLI...\n",
            "\tCompleted!\n",
            "Downloading and extracting QNLI...\n",
            "\tCompleted!\n",
            "Downloading and extracting RTE...\n",
            "\tCompleted!\n",
            "Downloading and extracting WNLI...\n",
            "\tCompleted!\n",
            "Downloading and extracting diagnostic...\n",
            "\tCompleted!\n"
          ],
          "name": "stdout"
        }
      ]
    },
    {
      "cell_type": "code",
      "metadata": {
        "id": "EmW0GVJ5lLrQ",
        "colab_type": "code",
        "outputId": "201cc015-8d1d-4e59-f02b-c5ea5f6ce603",
        "colab": {
          "base_uri": "https://localhost:8080/",
          "height": 398
        }
      },
      "source": [
        "!mkdir dataset \\\n",
        "&& cd dataset \\\n",
        "&& wget https://rajpurkar.github.io/SQuAD-explorer/dataset/train-v2.0.json \\\n",
        "&& wget https://rajpurkar.github.io/SQuAD-explorer/dataset/dev-v2.0.json"
      ],
      "execution_count": 5,
      "outputs": [
        {
          "output_type": "stream",
          "text": [
            "--2020-03-26 15:55:21--  https://rajpurkar.github.io/SQuAD-explorer/dataset/train-v2.0.json\n",
            "Resolving rajpurkar.github.io (rajpurkar.github.io)... 185.199.110.153, 185.199.111.153, 185.199.109.153, ...\n",
            "Connecting to rajpurkar.github.io (rajpurkar.github.io)|185.199.110.153|:443... connected.\n",
            "HTTP request sent, awaiting response... 200 OK\n",
            "Length: 42123633 (40M) [application/json]\n",
            "Saving to: ‘train-v2.0.json’\n",
            "\n",
            "train-v2.0.json     100%[===================>]  40.17M   148MB/s    in 0.3s    \n",
            "\n",
            "2020-03-26 15:55:22 (148 MB/s) - ‘train-v2.0.json’ saved [42123633/42123633]\n",
            "\n",
            "--2020-03-26 15:55:22--  https://rajpurkar.github.io/SQuAD-explorer/dataset/dev-v2.0.json\n",
            "Resolving rajpurkar.github.io (rajpurkar.github.io)... 185.199.108.153, 185.199.111.153, 185.199.110.153, ...\n",
            "Connecting to rajpurkar.github.io (rajpurkar.github.io)|185.199.108.153|:443... connected.\n",
            "HTTP request sent, awaiting response... 200 OK\n",
            "Length: 4370528 (4.2M) [application/json]\n",
            "Saving to: ‘dev-v2.0.json’\n",
            "\n",
            "dev-v2.0.json       100%[===================>]   4.17M  --.-KB/s    in 0.1s    \n",
            "\n",
            "2020-03-26 15:55:22 (39.9 MB/s) - ‘dev-v2.0.json’ saved [4370528/4370528]\n",
            "\n"
          ],
          "name": "stdout"
        }
      ]
    },
    {
      "cell_type": "code",
      "metadata": {
        "id": "K3M-2-qzj3O2",
        "colab_type": "code",
        "outputId": "854f1d31-06c2-49f7-97c9-fe81da77f37e",
        "colab": {
          "base_uri": "https://localhost:8080/",
          "height": 124
        }
      },
      "source": [
        "## Mount Drive into Colab\n",
        "from google.colab import drive\n",
        "drive.mount('/content/drive')"
      ],
      "execution_count": 6,
      "outputs": [
        {
          "output_type": "stream",
          "text": [
            "Go to this URL in a browser: https://accounts.google.com/o/oauth2/auth?client_id=947318989803-6bn6qk8qdgf4n4g3pfee6491hc0brc4i.apps.googleusercontent.com&redirect_uri=urn%3aietf%3awg%3aoauth%3a2.0%3aoob&response_type=code&scope=email%20https%3a%2f%2fwww.googleapis.com%2fauth%2fdocs.test%20https%3a%2f%2fwww.googleapis.com%2fauth%2fdrive%20https%3a%2f%2fwww.googleapis.com%2fauth%2fdrive.photos.readonly%20https%3a%2f%2fwww.googleapis.com%2fauth%2fpeopleapi.readonly\n",
            "\n",
            "Enter your authorization code:\n",
            "··········\n",
            "Mounted at /content/drive\n"
          ],
          "name": "stdout"
        }
      ]
    },
    {
      "cell_type": "code",
      "metadata": {
        "id": "3V6JORcblorp",
        "colab_type": "code",
        "outputId": "b44e06b6-4c39-4d7d-be5d-debd1f53746f",
        "colab": {
          "base_uri": "https://localhost:8080/",
          "height": 364
        }
      },
      "source": [
        "!ls\n",
        "!ls drive/'My Drive'/Layer\\ 1\\ Models"
      ],
      "execution_count": 7,
      "outputs": [
        {
          "output_type": "stream",
          "text": [
            "dataset  GLUE-baselines  paraphrase_identification  transformers\n",
            "drive\t glue_data\t sample_data\n",
            "Final_Test_Set.csv\n",
            "roberta_for_section_Cell_Division_model.pth\n",
            "roberta_for_section_Cell_Strucuture_and_transport_model.pth\n",
            "roberta_for_section_Communicable_diseases_model.pth\n",
            "roberta_for_section_Genetics_and_evolution_model.pth\n",
            "roberta_for_section_Non-Communicable_diseases_model.pth\n",
            "roberta_for_section_Organisation_and_the_digestive_system_model.pth\n",
            "roberta_for_section_Organising_Animals_and_Plants_model.pth\n",
            "roberta_for_section_Photosynthesis_model.pth\n",
            "roberta_for_section_Preventing_and_treating_disease_model.pth\n",
            "roberta_for_section_Reproduction_model.pth\n",
            "roberta_for_section_Respiration_model.pth\n",
            "roberta_for_section_The_human_nervous_system_model.pth\n",
            "roberta_full_subsections_model.pth\n",
            "roberta_main_model.pth\n",
            "roberta_sections_model.pth\n",
            "test_dataset.csv\n",
            "train_dataset.csv\n"
          ],
          "name": "stdout"
        }
      ]
    },
    {
      "cell_type": "code",
      "metadata": {
        "id": "jQHj9dA6wJcI",
        "colab_type": "code",
        "outputId": "d654b728-53cc-4dcc-e990-e0e49c10ae7e",
        "colab": {
          "base_uri": "https://localhost:8080/",
          "height": 133
        }
      },
      "source": [
        "import pandas as pd\n",
        "import numpy as np\n",
        "import codecs\n",
        "import re\n",
        "from collections import Counter\n",
        "from matplotlib import pyplot as plt\n",
        "from operator import itemgetter\n",
        "from tqdm import tqdm_notebook\n",
        "\n",
        "import nltk\n",
        "from nltk.corpus import stopwords\n",
        "import string\n",
        "from nltk.stem.porter import PorterStemmer \n",
        "from nltk.tokenize import word_tokenize \n",
        "nltk.download('stopwords')\n",
        "nltk.download('punkt')\n",
        "\n",
        "## Torch Modules\n",
        "import torch\n",
        "import torch.optim as optim\n",
        "import torch.nn as nn\n",
        "import torch.nn.functional as F\n",
        "from torch.autograd import Variable\n",
        "from torch.utils.data import Dataset, DataLoader, RandomSampler, SequentialSampler\n",
        "\n",
        "\n",
        "import os\n",
        "import time\n",
        "\n",
        "from transformers import (\n",
        "    RobertaConfig, \n",
        "    RobertaModel,\n",
        "    RobertaTokenizer,\n",
        "    RobertaForSequenceClassification,\n",
        "    AlbertConfig,\n",
        "    AlbertForQuestionAnswering,\n",
        "    AlbertTokenizer,\n",
        "    squad_convert_examples_to_features\n",
        ")"
      ],
      "execution_count": 8,
      "outputs": [
        {
          "output_type": "stream",
          "text": [
            "[nltk_data] Downloading package stopwords to /root/nltk_data...\n",
            "[nltk_data]   Unzipping corpora/stopwords.zip.\n",
            "[nltk_data] Downloading package punkt to /root/nltk_data...\n",
            "[nltk_data]   Unzipping tokenizers/punkt.zip.\n"
          ],
          "name": "stdout"
        },
        {
          "output_type": "display_data",
          "data": {
            "text/html": [
              "<p style=\"color: red;\">\n",
              "The default version of TensorFlow in Colab will switch to TensorFlow 2.x on the 27th of March, 2020.<br>\n",
              "We recommend you <a href=\"https://www.tensorflow.org/guide/migrate\" target=\"_blank\">upgrade</a> now\n",
              "or ensure your notebook will continue to use TensorFlow 1.x via the <code>%tensorflow_version 1.x</code> magic:\n",
              "<a href=\"https://colab.research.google.com/notebooks/tensorflow_version.ipynb\" target=\"_blank\">more info</a>.</p>\n"
            ],
            "text/plain": [
              "<IPython.core.display.HTML object>"
            ]
          },
          "metadata": {
            "tags": []
          }
        }
      ]
    },
    {
      "cell_type": "code",
      "metadata": {
        "id": "IEQOgfHnt_50",
        "colab_type": "code",
        "outputId": "5faa9326-2110-4584-a1ad-c915864087d7",
        "colab": {
          "base_uri": "https://localhost:8080/",
          "height": 34
        }
      },
      "source": [
        "## Check if Cuda is Available\n",
        "print(torch.cuda.is_available())"
      ],
      "execution_count": 9,
      "outputs": [
        {
          "output_type": "stream",
          "text": [
            "True\n"
          ],
          "name": "stdout"
        }
      ]
    },
    {
      "cell_type": "code",
      "metadata": {
        "id": "ZL_GI51ixQzm",
        "colab_type": "code",
        "colab": {}
      },
      "source": [
        "dataset_url = 'https://raw.githubusercontent.com/DhenPadilla/KSQuAD/master/Bio_GCSE.csv'\n",
        "df = pd.read_csv(dataset_url)\n",
        "passage_df = df"
      ],
      "execution_count": 0,
      "outputs": []
    },
    {
      "cell_type": "code",
      "metadata": {
        "id": "8CyMIRLuZsub",
        "colab_type": "code",
        "outputId": "b9362e72-8d4b-48f0-e1bb-0c1b84a0deac",
        "colab": {
          "base_uri": "https://localhost:8080/",
          "height": 174
        }
      },
      "source": [
        "passage_df.head(4)"
      ],
      "execution_count": 11,
      "outputs": [
        {
          "output_type": "execute_result",
          "data": {
            "text/html": [
              "<div>\n",
              "<style scoped>\n",
              "    .dataframe tbody tr th:only-of-type {\n",
              "        vertical-align: middle;\n",
              "    }\n",
              "\n",
              "    .dataframe tbody tr th {\n",
              "        vertical-align: top;\n",
              "    }\n",
              "\n",
              "    .dataframe thead th {\n",
              "        text-align: right;\n",
              "    }\n",
              "</style>\n",
              "<table border=\"1\" class=\"dataframe\">\n",
              "  <thead>\n",
              "    <tr style=\"text-align: right;\">\n",
              "      <th></th>\n",
              "      <th>Main category</th>\n",
              "      <th>Section</th>\n",
              "      <th>Sub-section</th>\n",
              "      <th>Text</th>\n",
              "      <th>Questions</th>\n",
              "    </tr>\n",
              "  </thead>\n",
              "  <tbody>\n",
              "    <tr>\n",
              "      <th>0</th>\n",
              "      <td>Cells and Organisms</td>\n",
              "      <td>Cell Strucuture and transport</td>\n",
              "      <td>Microscopes</td>\n",
              "      <td>Living things are all made up of cells, but mo...</td>\n",
              "      <td>Name one advantage and one disadvantage of a l...</td>\n",
              "    </tr>\n",
              "    <tr>\n",
              "      <th>1</th>\n",
              "      <td>Cells and Organisms</td>\n",
              "      <td>Cell Strucuture and transport</td>\n",
              "      <td>Animal and plant cells</td>\n",
              "      <td>The cells that make up your body are typical a...</td>\n",
              "      <td>Name the main structures you would expect to f...</td>\n",
              "    </tr>\n",
              "    <tr>\n",
              "      <th>2</th>\n",
              "      <td>Cells and Organisms</td>\n",
              "      <td>Cell Strucuture and transport</td>\n",
              "      <td>Eukaryotic and prokaryotic cells</td>\n",
              "      <td>Animal and plant cells are example’s of eukary...</td>\n",
              "      <td>Describe what flagella are ? \\nName one use of...</td>\n",
              "    </tr>\n",
              "    <tr>\n",
              "      <th>3</th>\n",
              "      <td>Cells and Organisms</td>\n",
              "      <td>Cell Strucuture and transport</td>\n",
              "      <td>Specialisation in animal cells</td>\n",
              "      <td>Although the smallest living organisms are onl...</td>\n",
              "      <td>Name one adaption for the specialised nerver c...</td>\n",
              "    </tr>\n",
              "  </tbody>\n",
              "</table>\n",
              "</div>"
            ],
            "text/plain": [
              "         Main category  ...                                          Questions\n",
              "0  Cells and Organisms  ...  Name one advantage and one disadvantage of a l...\n",
              "1  Cells and Organisms  ...  Name the main structures you would expect to f...\n",
              "2  Cells and Organisms  ...  Describe what flagella are ? \\nName one use of...\n",
              "3  Cells and Organisms  ...  Name one adaption for the specialised nerver c...\n",
              "\n",
              "[4 rows x 5 columns]"
            ]
          },
          "metadata": {
            "tags": []
          },
          "execution_count": 11
        }
      ]
    },
    {
      "cell_type": "code",
      "metadata": {
        "id": "kyhKXtBGV2oT",
        "colab_type": "code",
        "colab": {}
      },
      "source": [
        "def remove_nulls(dataset, print_out=True):\n",
        "  dataset['question'].replace('', np.nan, inplace=True)\n",
        "  dataset.dropna(subset=['question'], inplace=True)\n",
        "  dataset.reset_index(drop=True, inplace=True)\n",
        "  for label in dataset[\"label\"].unique():\n",
        "    if(print_out):\n",
        "      print(\"Class: {}, # questions: {}\".format(label, dataset.label.value_counts()[label]))\n",
        "  return dataset"
      ],
      "execution_count": 0,
      "outputs": []
    },
    {
      "cell_type": "code",
      "metadata": {
        "id": "F0mQh-DMgvWi",
        "colab_type": "code",
        "outputId": "c0383b07-3040-437d-faa5-0657991482c0",
        "colab": {
          "base_uri": "https://localhost:8080/",
          "height": 104
        }
      },
      "source": [
        "# MAIN CATEGORY DATA SET\n",
        "category_dataset = pd.DataFrame(columns = ['question', 'label'])\n",
        "\n",
        "for idx, passage in enumerate(passage_df[\"Questions\"][:]):\n",
        "  for question in passage.split(\"\\n\"):\n",
        "    small_frame = pd.Series({\"question\": question, \"label\": passage_df[\"Main category\"][idx]}) \n",
        "    category_dataset = category_dataset.append(small_frame, ignore_index=True)\n",
        "remove_nulls(category_dataset)\n",
        "\n",
        "print(category_dataset[\"label\"].size)"
      ],
      "execution_count": 13,
      "outputs": [
        {
          "output_type": "stream",
          "text": [
            "Class: Cells and Organisms, # questions: 533\n",
            "Class: Disease and bioenergetics, # questions: 320\n",
            "Class: Biological responses, # questions: 80\n",
            "Class: Genetics and reproduction, # questions: 209\n",
            "1142\n"
          ],
          "name": "stdout"
        }
      ]
    },
    {
      "cell_type": "code",
      "metadata": {
        "id": "EZMGFgnjWk7I",
        "colab_type": "code",
        "outputId": "393b76fd-c8e4-4965-f738-e3f8f51e7b7e",
        "colab": {
          "base_uri": "https://localhost:8080/",
          "height": 242
        }
      },
      "source": [
        "# MAIN CATEGORY -> SECTION DATA SET\n",
        "section_dataset = pd.DataFrame(columns = ['question', 'label'])\n",
        "\n",
        "for idx, passage in enumerate(passage_df[\"Questions\"][:]):\n",
        "  for question in passage.split(\"\\n\"):\n",
        "    small_frame = pd.Series({\"question\": question, \"label\": passage_df[\"Section\"][idx]}) \n",
        "    section_dataset = section_dataset.append(small_frame, ignore_index=True)\n",
        "remove_nulls(section_dataset)\n",
        "\n",
        "print(section_dataset[\"label\"].size)"
      ],
      "execution_count": 14,
      "outputs": [
        {
          "output_type": "stream",
          "text": [
            "Class: Cell Strucuture and transport, # questions: 273\n",
            "Class: Cell Division, # questions: 63\n",
            "Class: Organisation and the digestive system, # questions: 84\n",
            "Class: Organising Animals and Plants, # questions: 113\n",
            "Class: Communicable diseases, # questions: 112\n",
            "Class: Preventing and treating disease, # questions: 68\n",
            "Class: Non-Communicable diseases, # questions: 73\n",
            "Class: Photosynthesis, # questions: 26\n",
            "Class: Respiration, # questions: 41\n",
            "Class: The human nervous system, # questions: 80\n",
            "Class: Reproduction, # questions: 76\n",
            "Class: Genetics and evolution, # questions: 133\n",
            "1142\n"
          ],
          "name": "stdout"
        }
      ]
    },
    {
      "cell_type": "code",
      "metadata": {
        "id": "Vkbvfsafbq3W",
        "colab_type": "code",
        "colab": {
          "base_uri": "https://localhost:8080/",
          "height": 1000
        },
        "outputId": "2dc94715-0692-4da0-b11c-68e08ab85658"
      },
      "source": [
        "# OVERALL SUB-SECTION DATA SET\n",
        "full_subsection_dataset = pd.DataFrame(columns = ['question', 'label'])\n",
        "\n",
        "for idx, passage in enumerate(passage_df[\"Questions\"][:]):\n",
        "  for question in passage.split(\"\\n\"):\n",
        "    small_frame = pd.Series({\"question\": question, \"label\": passage_df[\"Sub-section\"][idx]}) \n",
        "    full_subsection_dataset = full_subsection_dataset.append(small_frame, ignore_index=True)\n",
        "remove_nulls(full_subsection_dataset)\n",
        "\n",
        "print(full_subsection_dataset[\"label\"].size)\n",
        "print(full_subsection_dataset[\"question\"][23])"
      ],
      "execution_count": 15,
      "outputs": [
        {
          "output_type": "stream",
          "text": [
            "Class: Microscopes, # questions: 24\n",
            "Class: Animal and plant cells, # questions: 41\n",
            "Class: Eukaryotic and prokaryotic cells, # questions: 35\n",
            "Class: Specialisation in animal cells, # questions: 52\n",
            "Class: Specialisation in plant cells, # questions: 34\n",
            "Class: Diffusion, # questions: 30\n",
            "Class: Osmosis, # questions: 12\n",
            "Class: Osmosis in plants, # questions: 14\n",
            "Class: Active transport, # questions: 16\n",
            "Class: Exchanging materials, # questions: 15\n",
            "Class: Cell division, # questions: 24\n",
            "Class: Growth and differentiation, # questions: 17\n",
            "Class: Stem cells, # questions: 20\n",
            "Class: Stem cell dilemmas, # questions: 2\n",
            "Class: Tissues and organs, # questions: 11\n",
            "Class: The human digestive system, # questions: 12\n",
            "Class: The chemistry of food, # questions: 16\n",
            "Class: Catalysts and enzymes, # questions: 7\n",
            "Class: Factors affecting enzyme action, # questions: 10\n",
            "Class: How the digestive system works, # questions: 15\n",
            "Class: Making digestion efficient, # questions: 13\n",
            "Class: The blood, # questions: 15\n",
            "Class: The blood vessels, # questions: 12\n",
            "Class: The heart, # questions: 16\n",
            "Class: Helping the heart, # questions: 12\n",
            "Class: Breathing and gas exchange, # questions: 13\n",
            "Class: Tissues and organs in plants, # questions: 11\n",
            "Class: Transport systems in plants, # questions: 11\n",
            "Class: Evaporation and transpiration, # questions: 10\n",
            "Class: Factors affecting transpiration, # questions: 13\n",
            "Class: Health and disease, # questions: 8\n",
            "Class: Pathogens and disease, # questions: 9\n",
            "Class: growing Bacteria in the lab, # questions: 10\n",
            "Class: Preventing bacteria growth, # questions: 6\n",
            "Class: Preventing infections, # questions: 6\n",
            "Class: Viral diseases, # questions: 13\n",
            "Class: Bacterial diseases, # questions: 17\n",
            "Class: Diseases caused by fungi and protists, # questions: 13\n",
            "Class: Human defence responses, # questions: 14\n",
            "Class: more about plant diseases, # questions: 12\n",
            "Class: Plant defence responses, # questions: 4\n",
            "Class: Vaccination, # questions: 13\n",
            "Class: Antibiotics and painkillers, # questions: 12\n",
            "Class: Discovering and developing drugs, # questions: 26\n",
            "Class: making and using monoclonal antibodies, # questions: 17\n",
            "Class: Non-communicable diseases, # questions: 23\n",
            "Class: Cancer, # questions: 22\n",
            "Class: Smoking and the risk of disease, # questions: 9\n",
            "Class: Diet, exercise, and disease, # questions: 8\n",
            "Class: Alcohol and other carcinogens, # questions: 11\n",
            "Class: Photosynthesis, # questions: 9\n",
            "Class: The rate of photosynthesis, # questions: 8\n",
            "Class: How plants use glucose, # questions: 9\n",
            "Class: Aerobic respiration, # questions: 6\n",
            "Class: The response to exercise, # questions: 10\n",
            "Class: Anaerobic respiration, # questions: 10\n",
            "Class:  Metabolism and the liver, # questions: 15\n",
            "Class: Principles of homeostasis, # questions: 16\n",
            "Class: The structure and function of the nervous system, # questions: 15\n",
            "Class: Reflex actions, # questions: 13\n",
            "Class: The brain, # questions: 15\n",
            "Class: The Eye, # questions: 21\n",
            "Class: Types of reproduction, # questions: 10\n",
            "Class: Cell dicision in sexual reproduction, # questions: 15\n",
            "Class: DNA and the genome, # questions: 15\n",
            "Class: DNA structure and protein synthesis, # questions: 20\n",
            "Class: Gene expression and mutation, # questions: 16\n",
            "Class: History of genetics, # questions: 16\n",
            "Class: Theories of evolution, # questions: 19\n",
            "Class: Accepting Darwin’s ideas , # questions: 15\n",
            "Class: Evolution and speciation , # questions: 14\n",
            "Class: Evidence for evolution, # questions: 22\n",
            "Class: Fossils and extinction , # questions: 14\n",
            "Class: Antibiotic resistant bacteria , # questions: 15\n",
            "Class: Classification, # questions: 18\n",
            "1142\n",
            "What is the resolving power of an electron microscope?\n"
          ],
          "name": "stdout"
        }
      ]
    },
    {
      "cell_type": "code",
      "metadata": {
        "id": "enRX4_S8yKxw",
        "colab_type": "code",
        "colab": {}
      },
      "source": [
        "# SECTION -> SUBSECTION DATA SETS (Dictionary)\n",
        "subsection_datasets = {}\n",
        "\n",
        "for section in passage_df[\"Section\"].unique():\n",
        "  dataset = pd.DataFrame(columns = ['question', 'label'])\n",
        "  section_df = passage_df.loc[passage_df[\"Section\"] == section]\n",
        "  for idx, row in section_df.iterrows():\n",
        "    for question in row[\"Questions\"].split(\"\\n\"):\n",
        "      small_frame = pd.Series({\"question\": question, \"label\": section_df[\"Sub-section\"][idx]}) \n",
        "      dataset = dataset.append(small_frame, ignore_index=True)\n",
        "      remove_nulls(dataset, print_out=False)\n",
        "      subsection_datasets[section] = dataset"
      ],
      "execution_count": 0,
      "outputs": []
    },
    {
      "cell_type": "code",
      "metadata": {
        "id": "zKtENvKWbdsu",
        "colab_type": "code",
        "outputId": "d5e289ff-6c4c-4a19-c849-dd8a1deff062",
        "colab": {
          "base_uri": "https://localhost:8080/",
          "height": 225
        }
      },
      "source": [
        "for section, df in subsection_datasets.items():\n",
        "  print(\"Class: {}, # questions: {}\".format(section, df[\"label\"].size))"
      ],
      "execution_count": 17,
      "outputs": [
        {
          "output_type": "stream",
          "text": [
            "Class: Cell Strucuture and transport, # questions: 273\n",
            "Class: Cell Division, # questions: 63\n",
            "Class: Organisation and the digestive system, # questions: 84\n",
            "Class: Organising Animals and Plants, # questions: 113\n",
            "Class: Communicable diseases, # questions: 112\n",
            "Class: Preventing and treating disease, # questions: 68\n",
            "Class: Non-Communicable diseases, # questions: 73\n",
            "Class: Photosynthesis, # questions: 26\n",
            "Class: Respiration, # questions: 41\n",
            "Class: The human nervous system, # questions: 80\n",
            "Class: Reproduction, # questions: 76\n",
            "Class: Genetics and evolution, # questions: 133\n"
          ],
          "name": "stdout"
        }
      ]
    },
    {
      "cell_type": "code",
      "metadata": {
        "id": "qGXXQlox537m",
        "colab_type": "code",
        "colab": {}
      },
      "source": [
        "def label_to_index(dataset):\n",
        "  label_to_ix = {}\n",
        "  for label in dataset.label:\n",
        "        if label not in label_to_ix:\n",
        "            label_to_ix[label]=len(label_to_ix)\n",
        "  return label_to_ix"
      ],
      "execution_count": 0,
      "outputs": []
    },
    {
      "cell_type": "code",
      "metadata": {
        "id": "ydlVeP-pphWM",
        "colab_type": "code",
        "outputId": "a1106fb2-d817-4088-a90e-8ab9181b6760",
        "colab": {
          "base_uri": "https://localhost:8080/",
          "height": 34
        }
      },
      "source": [
        "# Main Category Labels\n",
        "main_category_labels = label_to_index(category_dataset)\n",
        "print(main_category_labels)"
      ],
      "execution_count": 19,
      "outputs": [
        {
          "output_type": "stream",
          "text": [
            "{'Cells and Organisms': 0, 'Disease and bioenergetics': 1, 'Biological responses': 2, 'Genetics and reproduction': 3}\n"
          ],
          "name": "stdout"
        }
      ]
    },
    {
      "cell_type": "code",
      "metadata": {
        "id": "3BVjbR67Zqd4",
        "colab_type": "code",
        "outputId": "5ee777f5-6ece-4bc0-8329-a6b2d92aa531",
        "colab": {
          "base_uri": "https://localhost:8080/",
          "height": 54
        }
      },
      "source": [
        "# Section labels\n",
        "section_labels = label_to_index(section_dataset)\n",
        "print(section_labels)"
      ],
      "execution_count": 20,
      "outputs": [
        {
          "output_type": "stream",
          "text": [
            "{'Cell Strucuture and transport': 0, 'Cell Division': 1, 'Organisation and the digestive system': 2, 'Organising Animals and Plants': 3, 'Communicable diseases': 4, 'Preventing and treating disease': 5, 'Non-Communicable diseases': 6, 'Photosynthesis': 7, 'Respiration': 8, 'The human nervous system': 9, 'Reproduction': 10, 'Genetics and evolution': 11}\n"
          ],
          "name": "stdout"
        }
      ]
    },
    {
      "cell_type": "code",
      "metadata": {
        "id": "pU-Kyy1abkz8",
        "colab_type": "code",
        "colab": {
          "base_uri": "https://localhost:8080/",
          "height": 54
        },
        "outputId": "4e397610-af43-4b5c-b3e6-0111a6a8795f"
      },
      "source": [
        "# Sub-section labels (overall)\n",
        "full_subsection_labels = label_to_index(full_subsection_dataset)\n",
        "print(full_subsection_labels)"
      ],
      "execution_count": 21,
      "outputs": [
        {
          "output_type": "stream",
          "text": [
            "{'Microscopes': 0, 'Animal and plant cells': 1, 'Eukaryotic and prokaryotic cells': 2, 'Specialisation in animal cells': 3, 'Specialisation in plant cells': 4, 'Diffusion': 5, 'Osmosis': 6, 'Osmosis in plants': 7, 'Active transport': 8, 'Exchanging materials': 9, 'Cell division': 10, 'Growth and differentiation': 11, 'Stem cells': 12, 'Stem cell dilemmas': 13, 'Tissues and organs': 14, 'The human digestive system': 15, 'The chemistry of food': 16, 'Catalysts and enzymes': 17, 'Factors affecting enzyme action': 18, 'How the digestive system works': 19, 'Making digestion efficient': 20, 'The blood': 21, 'The blood vessels': 22, 'The heart': 23, 'Helping the heart': 24, 'Breathing and gas exchange': 25, 'Tissues and organs in plants': 26, 'Transport systems in plants': 27, 'Evaporation and transpiration': 28, 'Factors affecting transpiration': 29, 'Health and disease': 30, 'Pathogens and disease': 31, 'growing Bacteria in the lab': 32, 'Preventing bacteria growth': 33, 'Preventing infections': 34, 'Viral diseases': 35, 'Bacterial diseases': 36, 'Diseases caused by fungi and protists': 37, 'Human defence responses': 38, 'more about plant diseases': 39, 'Plant defence responses': 40, 'Vaccination': 41, 'Antibiotics and painkillers': 42, 'Discovering and developing drugs': 43, 'making and using monoclonal antibodies': 44, 'Non-communicable diseases': 45, 'Cancer': 46, 'Smoking and the risk of disease': 47, 'Diet, exercise, and disease': 48, 'Alcohol and other carcinogens': 49, 'Photosynthesis': 50, 'The rate of photosynthesis': 51, 'How plants use glucose': 52, 'Aerobic respiration': 53, 'The response to exercise': 54, 'Anaerobic respiration': 55, ' Metabolism and the liver': 56, 'Principles of homeostasis': 57, 'The structure and function of the nervous system': 58, 'Reflex actions': 59, 'The brain': 60, 'The Eye': 61, 'Types of reproduction': 62, 'Cell dicision in sexual reproduction': 63, 'DNA and the genome': 64, 'DNA structure and protein synthesis': 65, 'Gene expression and mutation': 66, 'History of genetics': 67, 'Theories of evolution': 68, 'Accepting Darwin’s ideas ': 69, 'Evolution and speciation ': 70, 'Evidence for evolution': 71, 'Fossils and extinction ': 72, 'Antibiotic resistant bacteria ': 73, 'Classification': 74}\n"
          ],
          "name": "stdout"
        }
      ]
    },
    {
      "cell_type": "code",
      "metadata": {
        "id": "uoMBYN3Jj3V5",
        "colab_type": "code",
        "outputId": "4113dcf4-17ef-4583-ccf7-beeb1b2494d3",
        "colab": {
          "base_uri": "https://localhost:8080/",
          "height": 661
        }
      },
      "source": [
        "# Sub-Section labels\n",
        "\n",
        "subsection_labels = {}\n",
        "\n",
        "for section, df in subsection_datasets.items():\n",
        "  labels = label_to_index(df)\n",
        "  subsection_labels[section] = labels\n",
        "  print(section)\n",
        "  print(labels)\n",
        "  print(\"\")\n",
        "\n",
        "# NOTE: Have to reinitialise subsection_labels variable later bc it causes an error"
      ],
      "execution_count": 22,
      "outputs": [
        {
          "output_type": "stream",
          "text": [
            "Cell Strucuture and transport\n",
            "{'Microscopes': 0, 'Animal and plant cells': 1, 'Eukaryotic and prokaryotic cells': 2, 'Specialisation in animal cells': 3, 'Specialisation in plant cells': 4, 'Diffusion': 5, 'Osmosis': 6, 'Osmosis in plants': 7, 'Active transport': 8, 'Exchanging materials': 9}\n",
            "\n",
            "Cell Division\n",
            "{'Cell division': 0, 'Growth and differentiation': 1, 'Stem cells': 2, 'Stem cell dilemmas': 3}\n",
            "\n",
            "Organisation and the digestive system\n",
            "{'Tissues and organs': 0, 'The human digestive system': 1, 'The chemistry of food': 2, 'Catalysts and enzymes': 3, 'Factors affecting enzyme action': 4, 'How the digestive system works': 5, 'Making digestion efficient': 6}\n",
            "\n",
            "Organising Animals and Plants\n",
            "{'The blood': 0, 'The blood vessels': 1, 'The heart': 2, 'Helping the heart': 3, 'Breathing and gas exchange': 4, 'Tissues and organs in plants': 5, 'Transport systems in plants': 6, 'Evaporation and transpiration': 7, 'Factors affecting transpiration': 8}\n",
            "\n",
            "Communicable diseases\n",
            "{'Health and disease': 0, 'Pathogens and disease': 1, 'growing Bacteria in the lab': 2, 'Preventing bacteria growth': 3, 'Preventing infections': 4, 'Viral diseases': 5, 'Bacterial diseases': 6, 'Diseases caused by fungi and protists': 7, 'Human defence responses': 8, 'more about plant diseases': 9, 'Plant defence responses': 10}\n",
            "\n",
            "Preventing and treating disease\n",
            "{'Vaccination': 0, 'Antibiotics and painkillers': 1, 'Discovering and developing drugs': 2, 'making and using monoclonal antibodies': 3}\n",
            "\n",
            "Non-Communicable diseases\n",
            "{'Non-communicable diseases': 0, 'Cancer': 1, 'Smoking and the risk of disease': 2, 'Diet, exercise, and disease': 3, 'Alcohol and other carcinogens': 4}\n",
            "\n",
            "Photosynthesis\n",
            "{'Photosynthesis': 0, 'The rate of photosynthesis': 1, 'How plants use glucose': 2}\n",
            "\n",
            "Respiration\n",
            "{'Aerobic respiration': 0, 'The response to exercise': 1, 'Anaerobic respiration': 2, ' Metabolism and the liver': 3}\n",
            "\n",
            "The human nervous system\n",
            "{'Principles of homeostasis': 0, 'The structure and function of the nervous system': 1, 'Reflex actions': 2, 'The brain': 3, 'The Eye': 4}\n",
            "\n",
            "Reproduction\n",
            "{'Types of reproduction': 0, 'Cell dicision in sexual reproduction': 1, 'DNA and the genome': 2, 'DNA structure and protein synthesis': 3, 'Gene expression and mutation': 4}\n",
            "\n",
            "Genetics and evolution\n",
            "{'History of genetics': 0, 'Theories of evolution': 1, 'Accepting Darwin’s ideas ': 2, 'Evolution and speciation ': 3, 'Evidence for evolution': 4, 'Fossils and extinction ': 5, 'Antibiotic resistant bacteria ': 6, 'Classification': 7}\n",
            "\n"
          ],
          "name": "stdout"
        }
      ]
    },
    {
      "cell_type": "markdown",
      "metadata": {
        "id": "htR8iaGmB31b",
        "colab_type": "text"
      },
      "source": [
        "### Configure a RoBERTa model to be used to train our dataset"
      ]
    },
    {
      "cell_type": "code",
      "metadata": {
        "id": "udq7PYaHadPS",
        "colab_type": "code",
        "outputId": "e8e314cf-3aa0-48d4-8344-6acd2ead972f",
        "colab": {
          "base_uri": "https://localhost:8080/",
          "height": 116,
          "referenced_widgets": [
            "cb24f7c831504177afe148218a6f4a08",
            "f49c5da016634c4daf84631d61f1611a",
            "08b7398da6984f84981d449dfa61dd50",
            "0c1d46bdbd2a488e9ab0303840158800",
            "26ff37009ead4778b2050ec73ec4fd83",
            "9f66db08e9414aa1821d7353311ededa",
            "53b01b8781fe4013b9755e24b60bc6be",
            "ace767ecd40f474bbe76f3a4cdb03bb5",
            "79d5c65bc4814e9b9534ce41c1537f90",
            "9130eb0d08594c24b65460fb4a111e5d",
            "fdf6b3aab4cf4cbb9abd98c4ba6b6b4a",
            "4216a8f2fc674745be8d3287a4f68a7e",
            "2dd629392e0d478ea9e444083ed235dc",
            "9bc23401b1fb4cb69c401f58fddac94f",
            "f5ef8ef20f6646ff96a43300022294cd",
            "2c7c223e3f7247d7b5573c7748f01a95"
          ]
        }
      },
      "source": [
        "# Create RoBERTa model method for multiple instances\n",
        "def create_roberta_model(labels):\n",
        "  config = RobertaConfig.from_pretrained('roberta-base')\n",
        "  config.num_labels = len(list(labels.values()))\n",
        "  model = RobertaForSequenceClassification(config)\n",
        "  return model\n",
        "\n",
        "tokenizer = RobertaTokenizer.from_pretrained('roberta-base')"
      ],
      "execution_count": 23,
      "outputs": [
        {
          "output_type": "display_data",
          "data": {
            "application/vnd.jupyter.widget-view+json": {
              "model_id": "cb24f7c831504177afe148218a6f4a08",
              "version_minor": 0,
              "version_major": 2
            },
            "text/plain": [
              "HBox(children=(IntProgress(value=0, description='Downloading', max=898823, style=ProgressStyle(description_wid…"
            ]
          },
          "metadata": {
            "tags": []
          }
        },
        {
          "output_type": "stream",
          "text": [
            "\n"
          ],
          "name": "stdout"
        },
        {
          "output_type": "display_data",
          "data": {
            "application/vnd.jupyter.widget-view+json": {
              "model_id": "79d5c65bc4814e9b9534ce41c1537f90",
              "version_minor": 0,
              "version_major": 2
            },
            "text/plain": [
              "HBox(children=(IntProgress(value=0, description='Downloading', max=456318, style=ProgressStyle(description_wid…"
            ]
          },
          "metadata": {
            "tags": []
          }
        },
        {
          "output_type": "stream",
          "text": [
            "\n"
          ],
          "name": "stdout"
        }
      ]
    },
    {
      "cell_type": "code",
      "metadata": {
        "id": "WiKpg6jEbjXd",
        "colab_type": "code",
        "outputId": "f77addc3-6386-4ffe-ccca-75790e82ffae",
        "colab": {
          "base_uri": "https://localhost:8080/",
          "height": 274,
          "referenced_widgets": [
            "f23b46d363c14051a92fee696e7eb2c4",
            "3075461d37bf4cb4ba6e4ca995a2ae0c",
            "65039ae53110480fb7077c5cfe310d6d",
            "4aacdbf6d9404d02939c984b57af1b11",
            "03e8740d9639412a99af8895d168526a",
            "853a524e52b841a6a46512d758664c06",
            "ce3ef28c802045859cae707af041d048",
            "3e13820f12e7474395ac2158d1d5d4fa"
          ]
        }
      },
      "source": [
        "# For Main-Category classification:\n",
        "main_cat_model = create_roberta_model(main_category_labels)\n",
        "\n",
        "# For Section classification:\n",
        "section_model = create_roberta_model(section_labels)\n",
        "\n",
        "# For FULL Section classification:\n",
        "full_subsection_model = create_roberta_model(full_subsection_labels)\n",
        "\n",
        "# For Sub section classifcations:\n",
        "subsection_models = {}\n",
        "for section, subsection_labels in subsection_labels.items():\n",
        "  print(\"Creating RoBERTa for: \", section)\n",
        "  subsection_models[section] = create_roberta_model(subsection_labels)"
      ],
      "execution_count": 24,
      "outputs": [
        {
          "output_type": "display_data",
          "data": {
            "application/vnd.jupyter.widget-view+json": {
              "model_id": "f23b46d363c14051a92fee696e7eb2c4",
              "version_minor": 0,
              "version_major": 2
            },
            "text/plain": [
              "HBox(children=(IntProgress(value=0, description='Downloading', max=524, style=ProgressStyle(description_width=…"
            ]
          },
          "metadata": {
            "tags": []
          }
        },
        {
          "output_type": "stream",
          "text": [
            "\n",
            "Creating RoBERTa for:  Cell Strucuture and transport\n",
            "Creating RoBERTa for:  Cell Division\n",
            "Creating RoBERTa for:  Organisation and the digestive system\n",
            "Creating RoBERTa for:  Organising Animals and Plants\n",
            "Creating RoBERTa for:  Communicable diseases\n",
            "Creating RoBERTa for:  Preventing and treating disease\n",
            "Creating RoBERTa for:  Non-Communicable diseases\n",
            "Creating RoBERTa for:  Photosynthesis\n",
            "Creating RoBERTa for:  Respiration\n",
            "Creating RoBERTa for:  The human nervous system\n",
            "Creating RoBERTa for:  Reproduction\n",
            "Creating RoBERTa for:  Genetics and evolution\n"
          ],
          "name": "stdout"
        }
      ]
    },
    {
      "cell_type": "markdown",
      "metadata": {
        "id": "Z6WrYmX5CAdf",
        "colab_type": "text"
      },
      "source": [
        "### The following set of functions are helper-functions to create RoBERTa inputs from (question, label) pairs"
      ]
    },
    {
      "cell_type": "code",
      "metadata": {
        "id": "JUFa5g-LAhKA",
        "colab_type": "code",
        "colab": {}
      },
      "source": [
        "def feature_preparation(seq, max_length = 300, zero_pad = False, include_CLS_token = True, include_SEP_token = True):\n",
        "    ## Tokenzine Input\n",
        "    tokens_a = tokenizer.tokenize(seq)\n",
        "\n",
        "    ## Truncate\n",
        "    if len(tokens_a) > max_length - 2:\n",
        "        tokens_a = tokens_a[0:(max_length - 2)]\n",
        "\n",
        "    ## Initialize Tokens\n",
        "    tokens = []\n",
        "    if include_CLS_token:\n",
        "        tokens.append(tokenizer.cls_token)\n",
        "\n",
        "    ## Add Tokens and separators\n",
        "    for token in tokens_a:\n",
        "        tokens.append(token)\n",
        "\n",
        "    if include_SEP_token:\n",
        "        tokens.append(tokenizer.sep_token)\n",
        "\n",
        "    input_ids = tokenizer.convert_tokens_to_ids(tokens)\n",
        "\n",
        "    ## Input Mask \n",
        "    input_mask = [1] * len(input_ids)\n",
        "\n",
        "    ## Zero-pad sequence lenght\n",
        "    if zero_pad:\n",
        "        while len(input_ids) < max_length:\n",
        "            input_ids.append(0)\n",
        "            input_mask.append(0)\n",
        "    return torch.tensor(input_ids).unsqueeze(0), input_mask"
      ],
      "execution_count": 0,
      "outputs": []
    },
    {
      "cell_type": "code",
      "metadata": {
        "id": "FqNf4UTaA3P6",
        "colab_type": "code",
        "outputId": "82b516a8-887b-4fb8-b31f-37e67870896d",
        "colab": {
          "base_uri": "https://localhost:8080/",
          "height": 329
        }
      },
      "source": [
        "# Check question preparation if correct for each dataset:\n",
        "cat_question = category_dataset['question'][50]\n",
        "print(\"Main Category\")\n",
        "print(cat_question)\n",
        "print(feature_preparation(cat_question))\n",
        "print(\"\")\n",
        "\n",
        "sec_question = section_dataset['question'][23]\n",
        "print(\"Section\")\n",
        "print(sec_question)\n",
        "print(feature_preparation(sec_question))\n",
        "print(\"\")\n",
        "\n",
        "full_subsec_question = full_subsection_dataset['question'][23]\n",
        "print(\"Full Subsection\")\n",
        "print(full_subsec_question)\n",
        "print(feature_preparation(full_subsec_question))\n",
        "print(\"\")\n",
        "\n",
        "subsec_question = subsection_datasets[\"Cell Division\"]['question'][9]\n",
        "print(\"Subsection: Cell Division\")\n",
        "print(subsec_question)\n",
        "print(feature_preparation(subsec_question))\n",
        "print(\"\")"
      ],
      "execution_count": 26,
      "outputs": [
        {
          "output_type": "stream",
          "text": [
            "Main Category\n",
            "What are algae?\n",
            "(tensor([[    0,  2264,    32, 25237,   116,     2]]), [1, 1, 1, 1, 1, 1])\n",
            "\n",
            "Section\n",
            "What is the resolving power of an electron microscope?\n",
            "(tensor([[    0,  2264,    16,     5, 20006,   476,     9,    41, 35235, 32518,\n",
            "           116,     2]]), [1, 1, 1, 1, 1, 1, 1, 1, 1, 1, 1, 1])\n",
            "\n",
            "Full Subsection\n",
            "What is the resolving power of an electron microscope?\n",
            "(tensor([[    0,  2264,    16,     5, 20006,   476,     9,    41, 35235, 32518,\n",
            "           116,     2]]), [1, 1, 1, 1, 1, 1, 1, 1, 1, 1, 1, 1])\n",
            "\n",
            "Subsection: Cell Division\n",
            "How common is measles in the UK?\n",
            "(tensor([[    0,  6179,  1537,    16, 26143,    11,     5,   987,   116,     2]]), [1, 1, 1, 1, 1, 1, 1, 1, 1, 1])\n",
            "\n"
          ],
          "name": "stdout"
        }
      ]
    },
    {
      "cell_type": "code",
      "metadata": {
        "id": "0I6ppYxfA8FE",
        "colab_type": "code",
        "colab": {}
      },
      "source": [
        "class prepare_input(Dataset):\n",
        "    def __init__(self, dataframe, mode=\"\", section_to_prepare=\"\"):\n",
        "        self.len = len(dataframe)\n",
        "        self.data = dataframe\n",
        "        self.mode = mode\n",
        "        self.section_to_prepare = section_to_prepare\n",
        "        \n",
        "    def __getitem__(self, index):\n",
        "        question = self.data.question[index]\n",
        "        label = self.data.label[index]\n",
        "        X, _  = feature_preparation(question)\n",
        "        if(self.section_to_prepare and self.mode == \"SUBSECTIONS\"):\n",
        "          y = subsection_labels[self.section_to_prepare][self.data.label[index]]\n",
        "        elif(self.mode == \"FULL_SUBSECTIONS\"):\n",
        "          y = full_subsection_labels[self.data.label[index]]\n",
        "        elif(self.mode == \"SECTIONS\"):\n",
        "          y = section_labels[self.data.label[index]]\n",
        "        else:\n",
        "          y = main_category_labels[self.data.label[index]]\n",
        "        return X, y\n",
        "    \n",
        "    def __len__(self):\n",
        "        return self.len"
      ],
      "execution_count": 0,
      "outputs": []
    },
    {
      "cell_type": "markdown",
      "metadata": {
        "id": "6gc0mYmkCQSl",
        "colab_type": "text"
      },
      "source": [
        "### Create train-test split (80:20)"
      ]
    },
    {
      "cell_type": "code",
      "metadata": {
        "id": "gwPBnmkJhOTw",
        "colab_type": "code",
        "colab": {}
      },
      "source": [
        "train_size = 0.80"
      ],
      "execution_count": 0,
      "outputs": []
    },
    {
      "cell_type": "code",
      "metadata": {
        "id": "q8DnxU9iAysR",
        "colab_type": "code",
        "colab": {}
      },
      "source": [
        "def find_section_for(subsection):\n",
        "  return passage_df.loc[passage_df[\"Sub-section\"] == subsection , 'Section'].values[0]\n",
        "\n",
        "def find_category_for(subsection):\n",
        "  return passage_df.loc[passage_df[\"Sub-section\"] == subsection , 'Main category'].values[0]"
      ],
      "execution_count": 0,
      "outputs": []
    },
    {
      "cell_type": "code",
      "metadata": {
        "id": "cq45fuNKkVT6",
        "colab_type": "code",
        "outputId": "eb63c2fb-5132-42df-a03d-cd6b8800675f",
        "colab": {
          "base_uri": "https://localhost:8080/",
          "height": 641
        }
      },
      "source": [
        "# For Sub-sections:\n",
        "subsection_datasets_train = {}\n",
        "subsection_datasets_test = {}\n",
        "\n",
        "# Main Category train-test split\n",
        "category_train_dataset = pd.DataFrame(columns = ['question', 'label'])\n",
        "category_test_dataset  = pd.DataFrame(columns = ['question', 'label'])\n",
        "\n",
        "# Full Sub-section train-test\n",
        "full_subsection_train_dataset = pd.DataFrame(columns = ['question', 'label'])\n",
        "full_subsection_test_dataset  = pd.DataFrame(columns = ['question', 'label'])\n",
        "\n",
        "# Section train-test\n",
        "section_train_dataset = pd.DataFrame(columns = ['question', 'label'])\n",
        "section_test_dataset  = pd.DataFrame(columns = ['question', 'label'])\n",
        "\n",
        "for section, df in subsection_datasets.items():\n",
        "  train_dataset = df.sample(frac=train_size, random_state=200).reset_index(drop=True)\n",
        "  test_dataset = df.drop(train_dataset.index).reset_index(drop=True)\n",
        "  subsection_datasets_train[section] = train_dataset\n",
        "  subsection_datasets_test[section] = test_dataset\n",
        "\n",
        "  # Append to Main Category train-test dataset\n",
        "  category_train_dataset = category_train_dataset.append(train_dataset, ignore_index=True)\n",
        "  category_test_dataset = category_test_dataset.append(test_dataset, ignore_index=True)\n",
        "  # Append to section train-test dataset\n",
        "  section_train_dataset = section_train_dataset.append(train_dataset, ignore_index=True)\n",
        "  section_test_dataset = section_test_dataset.append(test_dataset, ignore_index=True)\n",
        "  # Append to full subsection train-test dataset\n",
        "  full_subsection_train_dataset = full_subsection_train_dataset.append(train_dataset, ignore_index=True)\n",
        "  full_subsection_test_dataset = full_subsection_test_dataset.append(test_dataset, ignore_index=True)\n",
        "\n",
        "\n",
        "  print(\"Section name: \", section)\n",
        "  print(\"TRAIN Dataset: {}\".format(subsection_datasets_train[section].shape))\n",
        "  print(\"TEST Dataset: {}\".format(subsection_datasets_test[section].shape))\n",
        "\n",
        "\n",
        "# Create Main Category train-test split\n",
        "for _, row in category_train_dataset.iterrows():\n",
        "  row.label = find_category_for(row.label)\n",
        "\n",
        "for _, row in category_test_dataset.iterrows():\n",
        "  row.label = find_category_for(row.label)\n",
        "\n",
        "# Create section train-test split\n",
        "for _, row in section_train_dataset.iterrows():\n",
        "  row.label = find_section_for(row.label)\n",
        "\n",
        "for _, row in section_test_dataset.iterrows():\n",
        "  row.label = find_section_for(row.label)"
      ],
      "execution_count": 30,
      "outputs": [
        {
          "output_type": "stream",
          "text": [
            "Section name:  Cell Strucuture and transport\n",
            "TRAIN Dataset: (218, 2)\n",
            "TEST Dataset: (55, 2)\n",
            "Section name:  Cell Division\n",
            "TRAIN Dataset: (50, 2)\n",
            "TEST Dataset: (13, 2)\n",
            "Section name:  Organisation and the digestive system\n",
            "TRAIN Dataset: (67, 2)\n",
            "TEST Dataset: (17, 2)\n",
            "Section name:  Organising Animals and Plants\n",
            "TRAIN Dataset: (90, 2)\n",
            "TEST Dataset: (23, 2)\n",
            "Section name:  Communicable diseases\n",
            "TRAIN Dataset: (90, 2)\n",
            "TEST Dataset: (22, 2)\n",
            "Section name:  Preventing and treating disease\n",
            "TRAIN Dataset: (54, 2)\n",
            "TEST Dataset: (14, 2)\n",
            "Section name:  Non-Communicable diseases\n",
            "TRAIN Dataset: (58, 2)\n",
            "TEST Dataset: (15, 2)\n",
            "Section name:  Photosynthesis\n",
            "TRAIN Dataset: (21, 2)\n",
            "TEST Dataset: (5, 2)\n",
            "Section name:  Respiration\n",
            "TRAIN Dataset: (33, 2)\n",
            "TEST Dataset: (8, 2)\n",
            "Section name:  The human nervous system\n",
            "TRAIN Dataset: (64, 2)\n",
            "TEST Dataset: (16, 2)\n",
            "Section name:  Reproduction\n",
            "TRAIN Dataset: (61, 2)\n",
            "TEST Dataset: (15, 2)\n",
            "Section name:  Genetics and evolution\n",
            "TRAIN Dataset: (106, 2)\n",
            "TEST Dataset: (27, 2)\n"
          ],
          "name": "stdout"
        }
      ]
    },
    {
      "cell_type": "code",
      "metadata": {
        "id": "cmm7D07kEW4o",
        "colab_type": "code",
        "colab": {
          "base_uri": "https://localhost:8080/",
          "height": 260
        },
        "outputId": "d4164c90-c38d-448f-890f-8cbd7e021e47"
      },
      "source": [
        "print(\"TRAIN Category Dataset: {}\".format(category_train_dataset.shape))\n",
        "print(\"TEST Category Dataset: {}\".format(category_test_dataset.shape))\n",
        "print(\"\")\n",
        "print(\"TRAIN Section Dataset: {}\".format(section_train_dataset.shape))\n",
        "print(\"TEST Section Dataset: {}\".format(section_test_dataset.shape))\n",
        "print(\"\")\n",
        "print(\"TRAIN Full Sub-section Dataset Size: {}\".format(full_subsection_train_dataset.shape))\n",
        "print(\"TEST Full Sub-section Dataset Size: {}\".format(full_subsection_test_dataset.shape))\n",
        "print(\"\")\n",
        "print(\"No. Unique sections in TRAIN Section Dataset: {}\".format(len(section_train_dataset.label.unique())))\n",
        "print(\"No. Unique sections in TEST Section Dataset: {}\".format(len(section_test_dataset.label.unique())))\n",
        "print(\"\")\n",
        "print(\"No. sections in TRAIN Full Sub-Section Dataset: {}\".format(len(full_subsection_train_dataset.label.unique())))\n",
        "print(\"No. sections in TEST Full Sub-Section Dataset: {}\".format(len(full_subsection_test_dataset.label.unique())))"
      ],
      "execution_count": 31,
      "outputs": [
        {
          "output_type": "stream",
          "text": [
            "TRAIN Category Dataset: (912, 2)\n",
            "TEST Category Dataset: (230, 2)\n",
            "\n",
            "TRAIN Section Dataset: (912, 2)\n",
            "TEST Section Dataset: (230, 2)\n",
            "\n",
            "TRAIN Full Sub-section Dataset Size: (912, 2)\n",
            "TEST Full Sub-section Dataset Size: (230, 2)\n",
            "\n",
            "No. Unique sections in TRAIN Section Dataset: 12\n",
            "No. Unique sections in TEST Section Dataset: 12\n",
            "\n",
            "No. sections in TRAIN Full Sub-Section Dataset: 75\n",
            "No. sections in TEST Full Sub-Section Dataset: 22\n"
          ],
          "name": "stdout"
        }
      ]
    },
    {
      "cell_type": "code",
      "metadata": {
        "id": "bMzTTkQGVdIB",
        "colab_type": "code",
        "colab": {}
      },
      "source": [
        "# Main Category tokenised\n",
        "category_train_set = prepare_input(category_train_dataset)\n",
        "category_test_set = prepare_input(category_test_dataset)"
      ],
      "execution_count": 0,
      "outputs": []
    },
    {
      "cell_type": "code",
      "metadata": {
        "id": "Rhy8g-Lfg_yX",
        "colab_type": "code",
        "colab": {}
      },
      "source": [
        "# Sections tokenised\n",
        "section_train_set = prepare_input(section_train_dataset, \"SECTIONS\")\n",
        "section_test_set = prepare_input(section_test_dataset, \"SECTIONS\")"
      ],
      "execution_count": 0,
      "outputs": []
    },
    {
      "cell_type": "code",
      "metadata": {
        "id": "2CCryymIcvur",
        "colab_type": "code",
        "colab": {}
      },
      "source": [
        "# Subsections tokenised\n",
        "full_subsection_train_set = prepare_input(full_subsection_train_dataset, \"FULL_SUBSECTIONS\")\n",
        "full_subsection_test_set = prepare_input(full_subsection_test_dataset, \"FULL_SUBSECTIONS\")"
      ],
      "execution_count": 0,
      "outputs": []
    },
    {
      "cell_type": "code",
      "metadata": {
        "id": "nW6u-bJjeQzN",
        "colab_type": "code",
        "colab": {}
      },
      "source": [
        "subsection_labels = {}\n",
        "\n",
        "for section, df in subsection_datasets.items():\n",
        "  labels = label_to_index(df)\n",
        "  subsection_labels[section] = labels"
      ],
      "execution_count": 0,
      "outputs": []
    },
    {
      "cell_type": "code",
      "metadata": {
        "id": "wGnQ0IIAlXip",
        "colab_type": "code",
        "colab": {}
      },
      "source": [
        "# Subsections tokenised\n",
        "subsections_train_set = {}\n",
        "subsections_test_set = {}\n",
        "\n",
        "for section, df in subsection_datasets_train.items():\n",
        "  subsections_train_set[section] = prepare_input(df, \"SUBSECTIONS\", section)\n",
        "\n",
        "for section, df in subsection_datasets_test.items():\n",
        "  subsections_test_set[section] = prepare_input(df, \"SUBSECTIONS\", section)"
      ],
      "execution_count": 0,
      "outputs": []
    },
    {
      "cell_type": "markdown",
      "metadata": {
        "id": "3xmuWORqCVRL",
        "colab_type": "text"
      },
      "source": [
        "### If CUDA's available, config model to use it."
      ]
    },
    {
      "cell_type": "code",
      "metadata": {
        "id": "Zh7A38QpCUWK",
        "colab_type": "code",
        "colab": {}
      },
      "source": [
        "device = torch.device(\"cuda\" if torch.cuda.is_available() else \"cpu\")\n",
        "main_cat_model = main_cat_model.cuda()\n",
        "section_model = section_model.cuda()\n",
        "full_subsection_model = full_subsection_model.cuda()\n",
        "for model in subsection_models.values():\n",
        "  model = model.cuda()"
      ],
      "execution_count": 0,
      "outputs": []
    },
    {
      "cell_type": "code",
      "metadata": {
        "id": "MA0qg6U6pSl3",
        "colab_type": "code",
        "outputId": "4595e4fe-c36b-434a-fc68-1352c4981971",
        "colab": {
          "base_uri": "https://localhost:8080/",
          "height": 277
        }
      },
      "source": [
        "#Check if cuda is used for data: \n",
        "print(\"Main Categories:\")\n",
        "print(category_train_set.__getitem__(0)[0].cuda())\n",
        "print(\"\")\n",
        "\n",
        "print(\"Sections:\")\n",
        "print(section_train_set.__getitem__(0)[0].cuda())\n",
        "print(\"\")\n",
        "\n",
        "print(\"Full Sections:\")\n",
        "print(full_subsection_train_set.__getitem__(0)[0].cuda())\n",
        "print(\"\")\n",
        "\n",
        "print(\"Sub-Sections ({}):\".format(list(subsections_train_set.keys())[0]))\n",
        "print(subsections_train_set[list(subsections_train_set.keys())[0]].__getitem__(0)[0].cuda())"
      ],
      "execution_count": 38,
      "outputs": [
        {
          "output_type": "stream",
          "text": [
            "Main Categories:\n",
            "tensor([[    0,  1779,   473, 44937,  1369,  1335,   116,     2]],\n",
            "       device='cuda:0')\n",
            "\n",
            "Sections:\n",
            "tensor([[    0,  1779,   473, 44937,  1369,  1335,   116,     2]],\n",
            "       device='cuda:0')\n",
            "\n",
            "Full Sections:\n",
            "tensor([[    0,  1779,   473, 44937,  1369,  1335,   116,     2]],\n",
            "       device='cuda:0')\n",
            "\n",
            "Sub-Sections (Cell Strucuture and transport):\n",
            "tensor([[    0,  1779,   473, 44937,  1369,  1335,   116,     2]],\n",
            "       device='cuda:0')\n"
          ],
          "name": "stdout"
        }
      ]
    },
    {
      "cell_type": "code",
      "metadata": {
        "id": "KuSD_lAkCd1n",
        "colab_type": "code",
        "colab": {}
      },
      "source": [
        "# Config Parameters for training the RoBERTa models\n",
        "params = {'batch_size': 1,\n",
        "          'shuffle': True,\n",
        "          'drop_last': False,\n",
        "          'num_workers': 1}\n",
        "\n",
        "# Create the data loaders for each dataset\n",
        "\n",
        "# CATEGORIES:\n",
        "category_training_loader = DataLoader(category_train_set, **params)\n",
        "category_testing_loader = DataLoader(category_test_set, **params)\n",
        "\n",
        "# SECTIONS:\n",
        "section_training_loader = DataLoader(section_train_set, **params)\n",
        "section_testing_loader = DataLoader(section_test_set, **params)\n",
        "\n",
        "# FULL_SUBSECTIONS:\n",
        "full_subsection_training_loader = DataLoader(full_subsection_train_set, **params)\n",
        "full_subsection_testing_loader = DataLoader(full_subsection_test_set, **params)\n",
        "\n",
        "# SUBSECTIONS:\n",
        "subsection_training_loaders = {}\n",
        "for section in subsections_train_set.keys():\n",
        "  training_loader = DataLoader(subsections_train_set[section], **params)\n",
        "  subsection_training_loaders[section] = training_loader\n",
        "subsection_testing_loaders = {}\n",
        "for section in subsections_test_set.keys():\n",
        "  test_loader = DataLoader(subsections_test_set[section], **params)\n",
        "  subsection_testing_loaders[section] = test_loader"
      ],
      "execution_count": 0,
      "outputs": []
    },
    {
      "cell_type": "markdown",
      "metadata": {
        "id": "aU3b0yA8qZc3",
        "colab_type": "text"
      },
      "source": [
        "## Dictionaries for the models, training & test loaders"
      ]
    },
    {
      "cell_type": "code",
      "metadata": {
        "id": "tAYduoLNmr0y",
        "colab_type": "code",
        "colab": {}
      },
      "source": [
        "model_dict = {\"Main\" : main_cat_model,\n",
        "              \"Sections\" : section_model,\n",
        "              \"Full Sub-sections\" : full_subsection_model,\n",
        "              \"Subsections\" : subsection_models}"
      ],
      "execution_count": 0,
      "outputs": []
    },
    {
      "cell_type": "code",
      "metadata": {
        "id": "h1ONYivLqfOl",
        "colab_type": "code",
        "colab": {}
      },
      "source": [
        "training_loaders = {\"Main\" : category_training_loader,\n",
        "                    \"Sections\" : section_training_loader,\n",
        "                    \"Full Sub-sections\" : full_subsection_training_loader,\n",
        "                    \"Subsections\" : subsection_training_loaders }\n",
        "\n",
        "testing_loaders = {\"Main\" : category_testing_loader,\n",
        "                    \"Sections\" : section_testing_loader,\n",
        "                    \"Full Sub-sections\" : full_subsection_testing_loader,\n",
        "                    \"Subsections\" : subsection_testing_loaders }"
      ],
      "execution_count": 0,
      "outputs": []
    },
    {
      "cell_type": "code",
      "metadata": {
        "id": "Bzc3NbmR2OSe",
        "colab_type": "code",
        "outputId": "0acdc084-32c1-4ee3-94dc-3d53eebc4084",
        "colab": {
          "base_uri": "https://localhost:8080/",
          "height": 1000
        }
      },
      "source": [
        "## Test a single forward pass \n",
        "## for each training set (Category, Section, Sub-section)\n",
        "\n",
        "# Category\n",
        "cat_inp  = category_train_set.__getitem__(0)[0].cuda()\n",
        "cat_output = model_dict[\"Main\"].forward(cat_inp)\n",
        "print(cat_output)\n",
        "print(torch.max(cat_output[0], 1))\n",
        "\n",
        "# Section\n",
        "sec_inp  = section_train_set .__getitem__(0)[0].cuda()\n",
        "sec_output = model_dict[\"Sections\"].forward(sec_inp)\n",
        "print(sec_output)\n",
        "print(torch.max(sec_output[0], 1))\n",
        "\n",
        "# Full Sub-sections\n",
        "full_subsec_inp  = full_subsection_train_set .__getitem__(0)[0].cuda()\n",
        "full_subsec_output = model_dict[\"Full Sub-sections\"].forward(full_subsec_inp)\n",
        "print(full_subsec_output)\n",
        "print(torch.max(full_subsec_output[0], 1))\n",
        "\n",
        "# Sub-Section (Cell Division)\n",
        "for section, model in model_dict[\"Subsections\"].items():\n",
        "  ssec_inp = subsections_train_set[section].__getitem__(0)[0].cuda()\n",
        "  ssec_output = model.forward(ssec_inp)\n",
        "  print(ssec_output)\n",
        "  print(torch.max(ssec_output[0], 1))"
      ],
      "execution_count": 42,
      "outputs": [
        {
          "output_type": "stream",
          "text": [
            "(tensor([[ 0.6238, -0.0310,  0.2262, -0.1502]], device='cuda:0',\n",
            "       grad_fn=<AddmmBackward>),)\n",
            "torch.return_types.max(\n",
            "values=tensor([0.6238], device='cuda:0', grad_fn=<MaxBackward0>),\n",
            "indices=tensor([0], device='cuda:0'))\n",
            "(tensor([[ 0.5010, -0.6548,  0.3190,  0.2510,  0.3139,  0.3229,  0.2989,  0.0527,\n",
            "         -0.2255, -0.1279, -0.0752, -0.1801]], device='cuda:0',\n",
            "       grad_fn=<AddmmBackward>),)\n",
            "torch.return_types.max(\n",
            "values=tensor([0.5010], device='cuda:0', grad_fn=<MaxBackward0>),\n",
            "indices=tensor([0], device='cuda:0'))\n",
            "(tensor([[ 0.4558,  0.1557,  0.6323,  0.1441, -0.3280,  0.2204,  0.2699,  0.3990,\n",
            "         -0.2081, -0.1979, -0.2734,  0.3461,  0.2270,  0.1053,  0.3749, -0.3030,\n",
            "         -0.0872, -0.4990, -0.2190, -0.3069,  0.2123, -0.4515, -0.4414, -0.4560,\n",
            "         -0.1810, -0.2141,  0.2490, -0.2210, -0.0137, -0.0179,  0.1031,  0.3807,\n",
            "          0.0285, -0.0185, -0.0081, -0.0917,  0.2773,  0.0456, -0.2553,  0.6711,\n",
            "          0.2197, -0.1602,  0.0727, -0.1859, -0.5785, -0.0943, -0.4210,  0.0218,\n",
            "          0.0235, -0.4657, -0.3444, -0.3344,  0.0545,  0.4641,  0.2939, -0.0698,\n",
            "         -0.2256,  0.0674,  0.2161, -0.4166,  0.0193, -0.6135, -0.0177, -0.1440,\n",
            "          0.0283,  0.0722,  0.1080, -0.4028, -0.1535,  0.3178, -0.3822, -0.2200,\n",
            "         -0.1458, -0.5592, -0.1357]], device='cuda:0', grad_fn=<AddmmBackward>),)\n",
            "torch.return_types.max(\n",
            "values=tensor([0.6711], device='cuda:0', grad_fn=<MaxBackward0>),\n",
            "indices=tensor([39], device='cuda:0'))\n",
            "(tensor([[ 0.1801, -0.3975, -0.4299,  0.3641, -0.4296, -0.2559, -0.0557, -0.5199,\n",
            "          0.0975,  0.0445]], device='cuda:0', grad_fn=<AddmmBackward>),)\n",
            "torch.return_types.max(\n",
            "values=tensor([0.3641], device='cuda:0', grad_fn=<MaxBackward0>),\n",
            "indices=tensor([3], device='cuda:0'))\n",
            "(tensor([[ 0.1937,  0.0267, -0.0383, -0.0493]], device='cuda:0',\n",
            "       grad_fn=<AddmmBackward>),)\n",
            "torch.return_types.max(\n",
            "values=tensor([0.1937], device='cuda:0', grad_fn=<MaxBackward0>),\n",
            "indices=tensor([0], device='cuda:0'))\n",
            "(tensor([[-0.2888,  0.1311,  0.0918,  0.2021,  0.0171, -0.1377, -0.0796]],\n",
            "       device='cuda:0', grad_fn=<AddmmBackward>),)\n",
            "torch.return_types.max(\n",
            "values=tensor([0.2021], device='cuda:0', grad_fn=<MaxBackward0>),\n",
            "indices=tensor([3], device='cuda:0'))\n",
            "(tensor([[-0.5104, -0.0800, -0.3731, -0.2968,  0.3198, -0.0268, -0.3004, -0.1487,\n",
            "          0.4344]], device='cuda:0', grad_fn=<AddmmBackward>),)\n",
            "torch.return_types.max(\n",
            "values=tensor([0.4344], device='cuda:0', grad_fn=<MaxBackward0>),\n",
            "indices=tensor([8], device='cuda:0'))\n",
            "(tensor([[ 0.0102,  0.0669,  0.6741, -0.0385,  0.4506,  0.3204, -0.1520, -0.0822,\n",
            "          0.4853, -0.3003,  0.0719]], device='cuda:0', grad_fn=<AddmmBackward>),)\n",
            "torch.return_types.max(\n",
            "values=tensor([0.6741], device='cuda:0', grad_fn=<MaxBackward0>),\n",
            "indices=tensor([2], device='cuda:0'))\n",
            "(tensor([[ 0.1605,  0.4379, -0.2881, -0.1160]], device='cuda:0',\n",
            "       grad_fn=<AddmmBackward>),)\n",
            "torch.return_types.max(\n",
            "values=tensor([0.4379], device='cuda:0', grad_fn=<MaxBackward0>),\n",
            "indices=tensor([1], device='cuda:0'))\n",
            "(tensor([[-0.3301,  0.4759, -0.2285, -0.2079, -0.3944]], device='cuda:0',\n",
            "       grad_fn=<AddmmBackward>),)\n",
            "torch.return_types.max(\n",
            "values=tensor([0.4759], device='cuda:0', grad_fn=<MaxBackward0>),\n",
            "indices=tensor([1], device='cuda:0'))\n",
            "(tensor([[0.3514, 0.5608, 0.0465]], device='cuda:0', grad_fn=<AddmmBackward>),)\n",
            "torch.return_types.max(\n",
            "values=tensor([0.5608], device='cuda:0', grad_fn=<MaxBackward0>),\n",
            "indices=tensor([1], device='cuda:0'))\n",
            "(tensor([[-0.0322,  0.3195, -0.1440, -0.4260]], device='cuda:0',\n",
            "       grad_fn=<AddmmBackward>),)\n",
            "torch.return_types.max(\n",
            "values=tensor([0.3195], device='cuda:0', grad_fn=<MaxBackward0>),\n",
            "indices=tensor([1], device='cuda:0'))\n",
            "(tensor([[ 0.2089,  0.3716,  0.4132, -0.0052, -0.0524]], device='cuda:0',\n",
            "       grad_fn=<AddmmBackward>),)\n",
            "torch.return_types.max(\n",
            "values=tensor([0.4132], device='cuda:0', grad_fn=<MaxBackward0>),\n",
            "indices=tensor([2], device='cuda:0'))\n",
            "(tensor([[ 0.1187, -0.2013, -0.3111, -0.0304,  0.3456]], device='cuda:0',\n",
            "       grad_fn=<AddmmBackward>),)\n",
            "torch.return_types.max(\n",
            "values=tensor([0.3456], device='cuda:0', grad_fn=<MaxBackward0>),\n",
            "indices=tensor([4], device='cuda:0'))\n",
            "(tensor([[-0.1003,  0.3779, -0.2661, -0.1062,  0.2845, -0.5770,  0.0135, -0.0547]],\n",
            "       device='cuda:0', grad_fn=<AddmmBackward>),)\n",
            "torch.return_types.max(\n",
            "values=tensor([0.3779], device='cuda:0', grad_fn=<MaxBackward0>),\n",
            "indices=tensor([1], device='cuda:0'))\n"
          ],
          "name": "stdout"
        }
      ]
    },
    {
      "cell_type": "code",
      "metadata": {
        "id": "w_vdqHOhC91R",
        "colab_type": "code",
        "colab": {}
      },
      "source": [
        "def train_on(model, training_loader, testing_loader, optimizer, loss_function=nn.CrossEntropyLoss()):\n",
        "  max_epochs = 3\n",
        "\n",
        "  print_at = 100 if (len(training_loader.dataset) > 300) else 50\n",
        "\n",
        "  model = model.train()\n",
        "\n",
        "  for epoch in tqdm_notebook(range(max_epochs)):\n",
        "      print(\"EPOCH -- {}\".format(epoch))\n",
        "      for i, (question, label) in enumerate(training_loader):\n",
        "          optimizer.zero_grad()\n",
        "          question = question.squeeze(0)\n",
        "          if torch.cuda.is_available():\n",
        "            question = question.cuda()\n",
        "            label = label.cuda()\n",
        "          output = model.forward(question)[0]\n",
        "          _, predicted = torch.max(output, 1)\n",
        "          \n",
        "          loss = loss_function(output, label)\n",
        "          loss.backward()\n",
        "          optimizer.step()\n",
        "          \n",
        "          if i % print_at == 0:\n",
        "              correct = 0\n",
        "              total = 0\n",
        "              for question, label in testing_loader:\n",
        "                  question = question.squeeze(0)\n",
        "                  if torch.cuda.is_available():\n",
        "                    question = question.cuda()\n",
        "                    label = label.cuda()\n",
        "                  output = model.forward(question)[0]\n",
        "                  _, predicted = torch.max(output.data, 1)\n",
        "                  total += label.size(0)\n",
        "                  correct += (predicted.cpu() == label.cpu()).sum()\n",
        "              accuracy = 100.00 * correct.numpy() / total\n",
        "              print('Iteration: {}. Loss: {}. Accuracy: {}%'.format(i, loss.item(), accuracy))"
      ],
      "execution_count": 0,
      "outputs": []
    },
    {
      "cell_type": "code",
      "metadata": {
        "id": "J2X9TLrHpyj7",
        "colab_type": "code",
        "outputId": "9c3bd0d9-0930-4d68-f1c0-38437fc4f183",
        "colab": {
          "base_uri": "https://localhost:8080/",
          "height": 690,
          "referenced_widgets": [
            "599fbedfeb2c4496af883ab9f2fb26e5",
            "169a91c9b22348278768c5c0927e3408",
            "1bb4746cda5849f19aeee56f1a8883aa",
            "f649bd46a47742e9bd341833c5fa22ee",
            "2928705906d64fb9bfeedd38d4f0abd8",
            "64a67f57b9d64d72be63ba9f67d43507",
            "54d5308cfa4a4409ad4bf308f2ccf2ae",
            "76403146003c44ff9d77afd1358a9a8e"
          ]
        }
      },
      "source": [
        "# Train Main Category Model\n",
        "# loss_function = nn.CrossEntropyLoss()\n",
        "learning_rate = 1e-05\n",
        "category_model_optimizer = optim.Adam(params =  model_dict[\"Main\"].parameters(), lr=learning_rate)\n",
        "train_on(model_dict[\"Main\"], training_loaders[\"Main\"], testing_loaders[\"Main\"], category_model_optimizer)\n",
        "\n",
        "# Save and clear model\n",
        "torch.save(model_dict[\"Main\"].state_dict(), 'drive/My Drive/Layer 1 Models/roberta_main_model.pth')\n",
        "# model_dict[\"Main\"] = None"
      ],
      "execution_count": 57,
      "outputs": [
        {
          "output_type": "stream",
          "text": [
            "/usr/local/lib/python3.6/dist-packages/ipykernel_launcher.py:8: TqdmDeprecationWarning: This function will be removed in tqdm==5.0.0\n",
            "Please use `tqdm.notebook.tqdm` instead of `tqdm.tqdm_notebook`\n",
            "  \n"
          ],
          "name": "stderr"
        },
        {
          "output_type": "display_data",
          "data": {
            "application/vnd.jupyter.widget-view+json": {
              "model_id": "599fbedfeb2c4496af883ab9f2fb26e5",
              "version_minor": 0,
              "version_major": 2
            },
            "text/plain": [
              "HBox(children=(IntProgress(value=0, max=3), HTML(value='')))"
            ]
          },
          "metadata": {
            "tags": []
          }
        },
        {
          "output_type": "stream",
          "text": [
            "EPOCH -- 0\n",
            "Iteration: 0. Loss: 0.6648582220077515. Accuracy: 48.987854251012145%\n",
            "Iteration: 100. Loss: 3.050795793533325. Accuracy: 48.987854251012145%\n",
            "Iteration: 200. Loss: 0.8833415508270264. Accuracy: 63.56275303643725%\n",
            "Iteration: 300. Loss: 0.8599144816398621. Accuracy: 43.31983805668016%\n",
            "Iteration: 400. Loss: 1.252485990524292. Accuracy: 65.18218623481782%\n",
            "Iteration: 500. Loss: 2.651005268096924. Accuracy: 62.34817813765182%\n",
            "Iteration: 600. Loss: 2.418715000152588. Accuracy: 35.22267206477733%\n",
            "Iteration: 700. Loss: 0.5398815870285034. Accuracy: 65.18218623481782%\n",
            "Iteration: 800. Loss: 0.8142744302749634. Accuracy: 65.9919028340081%\n",
            "Iteration: 900. Loss: 0.18974590301513672. Accuracy: 65.9919028340081%\n",
            "EPOCH -- 1\n",
            "Iteration: 0. Loss: 0.47977590560913086. Accuracy: 65.58704453441295%\n",
            "Iteration: 100. Loss: 0.08942508697509766. Accuracy: 65.58704453441295%\n",
            "Iteration: 200. Loss: 1.9641937017440796. Accuracy: 55.06072874493927%\n",
            "Iteration: 300. Loss: 0.9415032863616943. Accuracy: 65.9919028340081%\n",
            "Iteration: 400. Loss: 0.3486213684082031. Accuracy: 64.77732793522267%\n",
            "Iteration: 500. Loss: 0.9016908407211304. Accuracy: 54.25101214574899%\n",
            "Iteration: 600. Loss: 1.3847122192382812. Accuracy: 68.82591093117409%\n",
            "Iteration: 700. Loss: 0.5076813697814941. Accuracy: 57.89473684210526%\n",
            "Iteration: 800. Loss: 0.7121928930282593. Accuracy: 43.31983805668016%\n",
            "Iteration: 900. Loss: 1.1660572290420532. Accuracy: 55.87044534412956%\n",
            "EPOCH -- 2\n",
            "Iteration: 0. Loss: 0.30936717987060547. Accuracy: 58.70445344129555%\n",
            "Iteration: 100. Loss: 0.7075977325439453. Accuracy: 63.56275303643725%\n",
            "Iteration: 200. Loss: 0.5333867073059082. Accuracy: 67.20647773279352%\n",
            "Iteration: 300. Loss: 0.9376921653747559. Accuracy: 70.44534412955466%\n",
            "Iteration: 400. Loss: 0.2705259323120117. Accuracy: 69.23076923076923%\n",
            "Iteration: 500. Loss: 0.6714030504226685. Accuracy: 67.61133603238866%\n",
            "Iteration: 600. Loss: 0.4616323709487915. Accuracy: 58.70445344129555%\n",
            "Iteration: 700. Loss: 0.5636062622070312. Accuracy: 73.6842105263158%\n",
            "Iteration: 800. Loss: 0.3095560073852539. Accuracy: 72.8744939271255%\n",
            "Iteration: 900. Loss: 0.25504589080810547. Accuracy: 67.61133603238866%\n",
            "\n"
          ],
          "name": "stdout"
        }
      ]
    },
    {
      "cell_type": "code",
      "metadata": {
        "id": "VgETT0Eir0TK",
        "colab_type": "code",
        "colab": {}
      },
      "source": [
        " def get_category_from(question):\n",
        "  model_dict[\"Main\"].eval()\n",
        "  input_q, _ = feature_preparation(question)\n",
        "  if torch.cuda.is_available():\n",
        "    input_q = input_q.cuda()\n",
        "  output = model_dict[\"Main\"](input_q)[0]\n",
        "  _, pred_label = torch.max(output.data, 1)\n",
        "  prediction=list(main_category_labels.keys())[pred_label]\n",
        "  return prediction"
      ],
      "execution_count": 0,
      "outputs": []
    },
    {
      "cell_type": "code",
      "metadata": {
        "id": "2k6dsaJquyGL",
        "colab_type": "code",
        "colab": {
          "base_uri": "https://localhost:8080/",
          "height": 884
        },
        "outputId": "eb7b18c8-be98-43b6-e14b-01ae64e34382"
      },
      "source": [
        "import random\n",
        "for i in random.sample(range(0, category_dataset.shape[0]), 10):\n",
        "  print(\"Question index: \", i)\n",
        "  print(category_dataset[\"question\"][i])\n",
        "  print(\"Actual Category label:\", category_dataset.label[i])\n",
        "  print(\"Predicted Category label: \", get_category_from(category_dataset.question[i]))\n",
        "  print(\"\")"
      ],
      "execution_count": 66,
      "outputs": [
        {
          "output_type": "stream",
          "text": [
            "Question index:  169\n",
            "Where are root hair cell close too?\n",
            "Actual Category label: Cells and Organisms\n",
            "Predicted Category label:  Cells and Organisms\n",
            "\n",
            "Question index:  232\n",
            "\n",
            "Actual Category label: Cells and Organisms\n",
            "Predicted Category label:  Cells and Organisms\n",
            "\n",
            "Question index:  16\n",
            "What kind of images do a scanning electron microscope give?\n",
            "Actual Category label: Cells and Organisms\n",
            "Predicted Category label:  Cells and Organisms\n",
            "\n",
            "Question index:  317\n",
            "Why do people not realise that they have HIV?\n",
            "Actual Category label: Cells and Organisms\n",
            "Predicted Category label:  Cells and Organisms\n",
            "\n",
            "Question index:  634\n",
            "\n",
            "Actual Category label: Disease and bioenergetics\n",
            "Predicted Category label:  Cells and Organisms\n",
            "\n",
            "Question index:  707\n",
            "Why does the stomach produce acid?\n",
            "Actual Category label: Disease and bioenergetics\n",
            "Predicted Category label:  Cells and Organisms\n",
            "\n",
            "Question index:  1172\n",
            " Explain why fossils are so valuable to scientists ?\n",
            "Actual Category label: Genetics and reproduction\n",
            "Predicted Category label:  Genetics and reproduction\n",
            "\n",
            "Question index:  1107\n",
            " When did people start to see chromosomes through a microscope ?\n",
            "Actual Category label: Genetics and reproduction\n",
            "Predicted Category label:  Genetics and reproduction\n",
            "\n",
            "Question index:  868\n",
            "Which organs can be damaged from too much alcohol?\n",
            "Actual Category label: Disease and bioenergetics\n",
            "Predicted Category label:  Cells and Organisms\n",
            "\n",
            "Question index:  108\n",
            "Name one adaption for the specialised nerver cell and describe how this adaption helps the cell carry out its function ?\n",
            "Actual Category label: Cells and Organisms\n",
            "Predicted Category label:  Cells and Organisms\n",
            "\n"
          ],
          "name": "stdout"
        }
      ]
    },
    {
      "cell_type": "code",
      "metadata": {
        "id": "90tOgY7-txCn",
        "colab_type": "code",
        "outputId": "94af88de-750b-4da7-fed7-ba3b17ca298a",
        "colab": {
          "base_uri": "https://localhost:8080/",
          "height": 690,
          "referenced_widgets": [
            "051c52e5897e4a5a89035f5f2dfa8760",
            "f51efb5e7fc74528ac3584e421fc9a93",
            "ce94f718c8e04752aafc8420ff6402a8",
            "f1f1e3decf6d4506aece0b60dbed7bf8",
            "6f66fc79687b468d914fc61239f0e480",
            "23bb58fe758240f6a2bf5333e1d9fb6e",
            "6099ec6a37d94a8291b40b3c4e745926",
            "24a67c63d8f44166a4509858f1db23fc"
          ]
        }
      },
      "source": [
        "# Train Section-Classifier Model\n",
        "# loss_function = nn.CrossEntropyLoss()\n",
        "learning_rate = 1e-05\n",
        "section_model_optimizer = optim.Adam(params =  model_dict[\"Sections\"].parameters(), lr=learning_rate)\n",
        "train_on(model_dict[\"Sections\"], training_loaders[\"Sections\"], testing_loaders[\"Sections\"], section_model_optimizer)\n",
        "# Save and clear model \n",
        "torch.save(model_dict[\"Sections\"].state_dict(), 'drive/My Drive/Layer 1 Models/roberta_sections_model.pth')\n",
        "model_dict[\"Sections\"] = None"
      ],
      "execution_count": 47,
      "outputs": [
        {
          "output_type": "stream",
          "text": [
            "/usr/local/lib/python3.6/dist-packages/ipykernel_launcher.py:8: TqdmDeprecationWarning: This function will be removed in tqdm==5.0.0\n",
            "Please use `tqdm.notebook.tqdm` instead of `tqdm.tqdm_notebook`\n",
            "  \n"
          ],
          "name": "stderr"
        },
        {
          "output_type": "display_data",
          "data": {
            "application/vnd.jupyter.widget-view+json": {
              "model_id": "051c52e5897e4a5a89035f5f2dfa8760",
              "version_minor": 0,
              "version_major": 2
            },
            "text/plain": [
              "HBox(children=(IntProgress(value=0, max=3), HTML(value='')))"
            ]
          },
          "metadata": {
            "tags": []
          }
        },
        {
          "output_type": "stream",
          "text": [
            "EPOCH -- 0\n",
            "Iteration: 0. Loss: 2.393050193786621. Accuracy: 6.086956521739131%\n",
            "Iteration: 100. Loss: 1.8546733856201172. Accuracy: 11.73913043478261%\n",
            "Iteration: 200. Loss: 2.248194694519043. Accuracy: 13.478260869565217%\n",
            "Iteration: 300. Loss: 2.6219496726989746. Accuracy: 22.17391304347826%\n",
            "Iteration: 400. Loss: 2.8369686603546143. Accuracy: 23.47826086956522%\n",
            "Iteration: 500. Loss: 1.432145118713379. Accuracy: 23.91304347826087%\n",
            "Iteration: 600. Loss: 2.1862945556640625. Accuracy: 23.91304347826087%\n",
            "Iteration: 700. Loss: 2.404372453689575. Accuracy: 23.47826086956522%\n",
            "Iteration: 800. Loss: 3.017977237701416. Accuracy: 30.0%\n",
            "Iteration: 900. Loss: 1.3736419677734375. Accuracy: 33.91304347826087%\n",
            "EPOCH -- 1\n",
            "Iteration: 0. Loss: 2.192647933959961. Accuracy: 33.47826086956522%\n",
            "Iteration: 100. Loss: 1.5098868608474731. Accuracy: 30.869565217391305%\n",
            "Iteration: 200. Loss: 0.5173544883728027. Accuracy: 34.78260869565217%\n",
            "Iteration: 300. Loss: 1.5833520889282227. Accuracy: 37.391304347826086%\n",
            "Iteration: 400. Loss: 3.4371442794799805. Accuracy: 29.565217391304348%\n",
            "Iteration: 500. Loss: 1.4144366979599. Accuracy: 38.69565217391305%\n",
            "Iteration: 600. Loss: 2.163738250732422. Accuracy: 34.78260869565217%\n",
            "Iteration: 700. Loss: 2.7816503047943115. Accuracy: 35.21739130434783%\n",
            "Iteration: 800. Loss: 2.045077323913574. Accuracy: 40.869565217391305%\n",
            "Iteration: 900. Loss: 2.2812108993530273. Accuracy: 40.43478260869565%\n",
            "EPOCH -- 2\n",
            "Iteration: 0. Loss: 2.7063095569610596. Accuracy: 38.69565217391305%\n",
            "Iteration: 100. Loss: 2.9409821033477783. Accuracy: 36.95652173913044%\n",
            "Iteration: 200. Loss: 2.2237746715545654. Accuracy: 36.08695652173913%\n",
            "Iteration: 300. Loss: 2.2634334564208984. Accuracy: 37.391304347826086%\n",
            "Iteration: 400. Loss: 3.3121016025543213. Accuracy: 37.82608695652174%\n",
            "Iteration: 500. Loss: 2.3249943256378174. Accuracy: 42.17391304347826%\n",
            "Iteration: 600. Loss: 0.47139525413513184. Accuracy: 42.17391304347826%\n",
            "Iteration: 700. Loss: 0.7434206008911133. Accuracy: 42.608695652173914%\n",
            "Iteration: 800. Loss: 1.3416166305541992. Accuracy: 42.17391304347826%\n",
            "Iteration: 900. Loss: 2.331611156463623. Accuracy: 41.73913043478261%\n",
            "\n"
          ],
          "name": "stdout"
        }
      ]
    },
    {
      "cell_type": "code",
      "metadata": {
        "id": "ELxB1CoTuLOF",
        "colab_type": "code",
        "colab": {}
      },
      "source": [
        " def get_section_from(question):\n",
        "  model_dict[\"Sections\"].eval()\n",
        "  input_q, _ = feature_preparation(question)\n",
        "  if torch.cuda.is_available():\n",
        "    input_q = input_q.cuda()\n",
        "  output = model_dict[\"Sections\"](input_q)[0]\n",
        "  _, pred_label = torch.max(output.data, 1)\n",
        "  prediction=list(section_labels.keys())[pred_label]\n",
        "  return prediction"
      ],
      "execution_count": 0,
      "outputs": []
    },
    {
      "cell_type": "code",
      "metadata": {
        "id": "T2ksztldxzCk",
        "colab_type": "code",
        "outputId": "26bc861e-a7ae-4de5-a3a8-9ca5ba2a6475",
        "colab": {
          "base_uri": "https://localhost:8080/",
          "height": 86
        }
      },
      "source": [
        "# Trial the section-classifier\n",
        "for i in random.sample(range(0, section_dataset.shape[0]), 10):\n",
        "  if((get_section_from(section_dataset.question[i]) == section_dataset.label[i]) and (section_dataset[\"question\"][i])):\n",
        "    print(section_dataset[\"question\"][i])\n",
        "    print(\"Actual Category label:\", section_dataset.label[i])\n",
        "    print(\"Predicted Category label: \", get_section_from(section_dataset.question[i]))\n",
        "    print(\"\")"
      ],
      "execution_count": 91,
      "outputs": [
        {
          "output_type": "stream",
          "text": [
            " Who do you always inherit your mitochondrial DNA from?\n",
            "Actual Category label: Reproduction\n",
            "Predicted Category label:  Reproduction\n",
            "\n"
          ],
          "name": "stdout"
        }
      ]
    },
    {
      "cell_type": "code",
      "metadata": {
        "id": "GLo9BRxkMZ83",
        "colab_type": "code",
        "colab": {
          "base_uri": "https://localhost:8080/",
          "height": 690,
          "referenced_widgets": [
            "b3eaf0a8cb5340b183db82863ec59a52",
            "6f3d05b2b2ed45a8a9a9a70069929557",
            "5fa8e1b776ad49f4bbc9c72986b8dfd9",
            "612825cba4254bcda5b609118449faa2",
            "87598f4461e74be4bcdbfd377bf23fec",
            "c62103c5d732448b8192290f7db666bb",
            "9274e19aa6b34594a2a2c4b19da013f7",
            "af86b875272d4da0839b43d463a712a0"
          ]
        },
        "outputId": "41aecb94-eb0a-4c91-a3e3-a6d2ba883a84"
      },
      "source": [
        "# Train Full Sub-section-Classifier Model\n",
        "# loss_function = nn.CrossEntropyLoss()\n",
        "learning_rate = 1e-04\n",
        "section_model_optimizer = optim.Adam(params =  model_dict[\"Full Sub-sections\"].parameters(), lr=learning_rate)\n",
        "train_on(model_dict[\"Full Sub-sections\"], training_loaders[\"Full Sub-sections\"], testing_loaders[\"Full Sub-sections\"], section_model_optimizer)\n",
        "# Save and clear model \n",
        "torch.save(model_dict[\"Full Sub-sections\"].state_dict(), 'drive/My Drive/Layer 1 Models/roberta_full_subsections_model.pth')\n",
        "# model_dict[\"Full Sub-sections\"] = None"
      ],
      "execution_count": 125,
      "outputs": [
        {
          "output_type": "stream",
          "text": [
            "/usr/local/lib/python3.6/dist-packages/ipykernel_launcher.py:8: TqdmDeprecationWarning: This function will be removed in tqdm==5.0.0\n",
            "Please use `tqdm.notebook.tqdm` instead of `tqdm.tqdm_notebook`\n",
            "  \n"
          ],
          "name": "stderr"
        },
        {
          "output_type": "display_data",
          "data": {
            "application/vnd.jupyter.widget-view+json": {
              "model_id": "b3eaf0a8cb5340b183db82863ec59a52",
              "version_minor": 0,
              "version_major": 2
            },
            "text/plain": [
              "HBox(children=(IntProgress(value=0, max=3), HTML(value='')))"
            ]
          },
          "metadata": {
            "tags": []
          }
        },
        {
          "output_type": "stream",
          "text": [
            "EPOCH -- 0\n",
            "Iteration: 0. Loss: 3.5625808238983154. Accuracy: 0.4048582995951417%\n",
            "Iteration: 100. Loss: 2.842125415802002. Accuracy: 0.0%\n",
            "Iteration: 200. Loss: 5.295422077178955. Accuracy: 2.42914979757085%\n",
            "Iteration: 300. Loss: 4.225673675537109. Accuracy: 4.8582995951417%\n",
            "Iteration: 400. Loss: 4.184029579162598. Accuracy: 0.0%\n",
            "Iteration: 500. Loss: 6.064929962158203. Accuracy: 0.0%\n",
            "Iteration: 600. Loss: 4.6203179359436035. Accuracy: 0.0%\n",
            "Iteration: 700. Loss: 4.219280242919922. Accuracy: 6.0728744939271255%\n",
            "Iteration: 800. Loss: 3.5468759536743164. Accuracy: 0.0%\n",
            "Iteration: 900. Loss: 5.635259628295898. Accuracy: 0.8097165991902834%\n",
            "EPOCH -- 1\n",
            "Iteration: 0. Loss: 3.36755633354187. Accuracy: 1.214574898785425%\n",
            "Iteration: 100. Loss: 3.667219400405884. Accuracy: 0.0%\n",
            "Iteration: 200. Loss: 5.015081405639648. Accuracy: 0.0%\n",
            "Iteration: 300. Loss: 5.256465435028076. Accuracy: 0.0%\n",
            "Iteration: 400. Loss: 4.811500549316406. Accuracy: 0.0%\n",
            "Iteration: 500. Loss: 4.125120639801025. Accuracy: 3.6437246963562755%\n",
            "Iteration: 600. Loss: 4.351903438568115. Accuracy: 0.0%\n",
            "Iteration: 700. Loss: 4.948012351989746. Accuracy: 0.0%\n",
            "Iteration: 800. Loss: 5.119282245635986. Accuracy: 3.2388663967611335%\n",
            "Iteration: 900. Loss: 4.03131103515625. Accuracy: 0.0%\n",
            "EPOCH -- 2\n",
            "Iteration: 0. Loss: 3.9414148330688477. Accuracy: 0.4048582995951417%\n",
            "Iteration: 100. Loss: 4.263360023498535. Accuracy: 0.0%\n",
            "Iteration: 200. Loss: 5.070688724517822. Accuracy: 0.0%\n",
            "Iteration: 300. Loss: 3.9838614463806152. Accuracy: 0.0%\n",
            "Iteration: 400. Loss: 3.8636937141418457. Accuracy: 0.0%\n",
            "Iteration: 500. Loss: 4.51893424987793. Accuracy: 0.0%\n",
            "Iteration: 600. Loss: 4.7996344566345215. Accuracy: 0.0%\n",
            "Iteration: 700. Loss: 4.3566436767578125. Accuracy: 2.0242914979757085%\n",
            "Iteration: 800. Loss: 3.4344918727874756. Accuracy: 0.0%\n",
            "Iteration: 900. Loss: 4.183420658111572. Accuracy: 5.2631578947368425%\n",
            "\n"
          ],
          "name": "stdout"
        }
      ]
    },
    {
      "cell_type": "code",
      "metadata": {
        "id": "8iygMB8eNojI",
        "colab_type": "code",
        "colab": {}
      },
      "source": [
        "# Trial the full sub-section classifier\n",
        "for i in range(len(section_dataset.question)):\n",
        "  if((get_section_from(section_dataset.question[i]) == section_dataset.label[i]) and (section_dataset[\"question\"][i])):\n",
        "    print(section_dataset[\"question\"][i])\n",
        "    print(\"Actual Category label:\", section_dataset.label[i])\n",
        "    print(\"Predicted Category label: \", get_section_from(section_dataset.question[i]))\n",
        "    print(\"\")\n",
        "    continue"
      ],
      "execution_count": 0,
      "outputs": []
    },
    {
      "cell_type": "code",
      "metadata": {
        "id": "1xpQv7Nhwnyo",
        "colab_type": "code",
        "outputId": "0af9aa3a-70ce-4ff5-9cfe-1e3957c31b44",
        "colab": {
          "base_uri": "https://localhost:8080/",
          "height": 1000,
          "referenced_widgets": [
            "edc93ea080024e40914d22b6233f3e06",
            "2c0350108cf6419ebd1b6beb97ec147f",
            "de212c3a0013440ca7b86c6996269719",
            "393ad796611f4a648601e4692d107499",
            "444e6113f58c4bd8886c3122987a7b54",
            "47a513752dba44859cbe527682eec265",
            "bd279e253d964773b4884e5afede7bd0",
            "749a86b4e33441fe8101546ed32a081d",
            "223581c4351640edbd0a0e716ee086d2",
            "b74ee0ce6f2d473c8269a01335eb5f5f",
            "1bc5fe0cde9545c688d675f7dc2faf09",
            "a0d536b5cb57483085fbbb42497cf58e",
            "112ef2e465094fdda95681931ff4aa32",
            "d3bcbf8c62f049d78a931816c81458b9",
            "614333de7f6b417b82c05fc88a3c1286",
            "5f1406c86f6e49a69d1dd7430a21440d",
            "fb7fea0933744a96a106ebe4d82b7c69",
            "2be97099d5204906af39f320f6275285",
            "bb0380b12e794c7fa21bb57cdca0311e",
            "2e3a41d6f219425bad12e2b158c012bb",
            "a1c6b48fe0e24ad79d927f51dae1f499",
            "9380e2064d4442558ee47b63391638dc",
            "b298c55dfe094c24855554aa75489869",
            "0e440b30fe73406aa61f01b674992c5e",
            "ace9eae3207e4bc5aff9047cdace77b0",
            "9e59d7848acc47639f25ef0fb7bc7d73",
            "c1b4adc40f424690b0e136dd0fbf4c1e",
            "13f835f771a144e18ce18990ea602740",
            "827850a995a54593929ec08d8fd4f196",
            "74a2b1a1583a4ef69cb0e3c4e363ce2a",
            "0f16c63e5b874000aadea498dfbe32ff",
            "a48c2d4d90d54f92a21631a3d66d36df",
            "26d8703bb22842a2a9d09a1e8b2c7319",
            "7a777f0cac204181b0ff9a231fb1e183",
            "8571ea539a66431898d3bd5beb8cda5d",
            "e3b0d8d049934fe2b8063c54dfd75ef9",
            "505fba8fc57e407392137bbab98b4a01",
            "e602850b47e746f48070b620eac28a56",
            "d0ef0a665c6a42c3b7db3957635aea2e",
            "1528ccb271da4451819aff9186a058bd",
            "d0089a62c7564b8696344727fcc9d139",
            "a412cd9a807848e3bebbf076bc8330d4",
            "86b19bb58cd746a8a14c15f568912e3a",
            "2f46bd34360b486d950f09b137593a80",
            "3277ad1cf4044a16b8239e96f30f1a7e",
            "f68552678a1547f6b57feb00756db85c",
            "687a4dc6d2d1453ab5a2ac407e887f3b",
            "4b1ee89b6fd344c6854d5a6dabe784ca",
            "93459a2765ff479280f3e3bcf3f76512",
            "5fb651908aa746d1a59fe994cc8a24be",
            "ae156345e91549f6a791d8360d1910f8",
            "9b798dd74ae6430cbced1e615e61cf60",
            "b6cd8ecee8d243e9a63490d2b433f2f2",
            "72abf3e0da764ba08f96a3475dc235d1",
            "7e3de4b5666746648e587c64e56e1011",
            "09538188532149f286411af51e718752",
            "0eae201216514bc2ab0dad4226070992",
            "1a12db488cbe447193595ad84188bae2",
            "f75cbd7eeebc42e693efe62d7fce6be0",
            "507e30e1d8884a98b661aadf319dfd27",
            "69dd5d5d50ad4552bab8cd357431be74",
            "e31586bb5ca34fef84d234f52dfd733b",
            "7cf2271d183e4946b3a4ea57b3c0401a",
            "460024d09c4f40ea81102267f00eb766",
            "b1ceb1ad465e406b8bc97b83ca856297",
            "38aa4b341c97481299de8643e99f72ae",
            "1cf417ef2893456eaf8355d9c78f7417",
            "53bb790838404f418f23d757ca8fd607",
            "b5915e3d8a3c44bb8595d7155b9e3880",
            "86aa8ec6f77f48058965be4651ac9719",
            "0ad8be472b8e48d8b36957ddc33f5fc2",
            "559115b93493464992c9db80520c7005",
            "63ab3260363146cbb1d6bb85c9307192",
            "86db11999e684b16b8beb3f16fd6b566",
            "ce8c51c643424b0ca865b38257dd0431",
            "012613d51199481ab4c7eaab95052d47",
            "e39590b1d794482bbd09c0ffd0012e19",
            "7f1cad4b35f14fb985a25da13de17e3a",
            "6d426aa3d02747fcbb44d00666edf12c",
            "a86e9c7c92c04dff9a22011a6943411f",
            "31445986c56e42b482a640fd756ddc05",
            "f2428a48fa1d4e5aa583bc4ffebb524c",
            "4dd0667e69514c37baabaece180c62b1",
            "2b5f692bb46e4eeea3158979e692e007",
            "da28851d2d09430e91eae1a18514b35e",
            "03f41e8dba8f4b539e041d6c1cf84abf",
            "ddfe5611bec44dd983ab9ea857182312",
            "173bf779f2b841c1893999c38d75285b",
            "1e6ace6a00f847e8b04ab381420a0cfd",
            "ada2aad335e14d6d82661a6fbe850bc8",
            "dea5dd3344494cf5860b64f96a2c08ac",
            "ad83c1ea8b0242ca848d4a91c5c9cbf8",
            "0bfbfd1a8dca44f19614db442e51027c",
            "78466be4c26a433ba1781eb3bd81b922",
            "03398cdaeabc4b96934b1329a8a34285",
            "4d4f613a61b74bcbb7b5fbc48aea4df2"
          ]
        }
      },
      "source": [
        "# Train Subsection-Classifier Model\n",
        "# loss_function = nn.CrossEntropyLoss()\n",
        "learning_rate = 1e-05\n",
        "\n",
        "for section, model in model_dict[\"Subsections\"].items():\n",
        "  print(\"BEGIN TRAINING FOR SECTION: {} ------------------------------ \".format(section))\n",
        "  print(\"\")\n",
        "  subsection_model_optimizer = optim.Adam(params =  model.parameters(), lr=learning_rate)\n",
        "  train_on(model, training_loaders[\"Subsections\"][section], testing_loaders[\"Subsections\"][section], subsection_model_optimizer)\n",
        "  # Save and clear model\n",
        "  torch.save(model.state_dict(), 'drive/My Drive/Layer 1 Models/roberta_for_section_' + section.replace(\" \", \"_\") +'_model.pth')\n",
        "  model = None\n",
        "  print(\"END OF TRAINING FOR SECTION: {} ------------------------------ \".format(section))\n",
        "  print(\"\")"
      ],
      "execution_count": 44,
      "outputs": [
        {
          "output_type": "stream",
          "text": [
            "BEGIN TRAINING FOR SECTION: Cell Strucuture and transport ------------------------------ \n",
            "\n"
          ],
          "name": "stdout"
        },
        {
          "output_type": "stream",
          "text": [
            "/usr/local/lib/python3.6/dist-packages/ipykernel_launcher.py:8: TqdmDeprecationWarning: This function will be removed in tqdm==5.0.0\n",
            "Please use `tqdm.notebook.tqdm` instead of `tqdm.tqdm_notebook`\n",
            "  \n"
          ],
          "name": "stderr"
        },
        {
          "output_type": "display_data",
          "data": {
            "application/vnd.jupyter.widget-view+json": {
              "model_id": "edc93ea080024e40914d22b6233f3e06",
              "version_minor": 0,
              "version_major": 2
            },
            "text/plain": [
              "HBox(children=(IntProgress(value=0, max=3), HTML(value='')))"
            ]
          },
          "metadata": {
            "tags": []
          }
        },
        {
          "output_type": "stream",
          "text": [
            "EPOCH -- 0\n",
            "Iteration: 0. Loss: 2.3003311157226562. Accuracy: 1.8181818181818181%\n",
            "Iteration: 50. Loss: 1.9503686428070068. Accuracy: 0.0%\n",
            "Iteration: 100. Loss: 2.2939772605895996. Accuracy: 0.0%\n",
            "Iteration: 150. Loss: 3.1571922302246094. Accuracy: 0.0%\n",
            "Iteration: 200. Loss: 2.407602310180664. Accuracy: 0.0%\n",
            "EPOCH -- 1\n",
            "Iteration: 0. Loss: 2.5395772457122803. Accuracy: 0.0%\n",
            "Iteration: 50. Loss: 2.3547816276550293. Accuracy: 0.0%\n",
            "Iteration: 100. Loss: 2.2929165363311768. Accuracy: 0.0%\n",
            "Iteration: 150. Loss: 2.301271677017212. Accuracy: 0.0%\n",
            "Iteration: 200. Loss: 2.0845162868499756. Accuracy: 0.0%\n",
            "EPOCH -- 2\n",
            "Iteration: 0. Loss: 2.6856472492218018. Accuracy: 0.0%\n",
            "Iteration: 50. Loss: 2.452244758605957. Accuracy: 0.0%\n",
            "Iteration: 100. Loss: 1.6746504306793213. Accuracy: 0.0%\n",
            "Iteration: 150. Loss: 2.1499319076538086. Accuracy: 0.0%\n",
            "Iteration: 200. Loss: 1.7714674472808838. Accuracy: 0.0%\n",
            "\n",
            "END OF TRAINING FOR SECTION: Cell Strucuture and transport ------------------------------ \n",
            "\n",
            "BEGIN TRAINING FOR SECTION: Cell Division ------------------------------ \n",
            "\n"
          ],
          "name": "stdout"
        },
        {
          "output_type": "display_data",
          "data": {
            "application/vnd.jupyter.widget-view+json": {
              "model_id": "223581c4351640edbd0a0e716ee086d2",
              "version_minor": 0,
              "version_major": 2
            },
            "text/plain": [
              "HBox(children=(IntProgress(value=0, max=3), HTML(value='')))"
            ]
          },
          "metadata": {
            "tags": []
          }
        },
        {
          "output_type": "stream",
          "text": [
            "EPOCH -- 0\n",
            "Iteration: 0. Loss: 1.875667691230774. Accuracy: 0.0%\n",
            "EPOCH -- 1\n",
            "Iteration: 0. Loss: 0.7370411157608032. Accuracy: 46.15384615384615%\n",
            "EPOCH -- 2\n",
            "Iteration: 0. Loss: 1.3731069564819336. Accuracy: 53.84615384615385%\n",
            "\n",
            "END OF TRAINING FOR SECTION: Cell Division ------------------------------ \n",
            "\n",
            "BEGIN TRAINING FOR SECTION: Organisation and the digestive system ------------------------------ \n",
            "\n"
          ],
          "name": "stdout"
        },
        {
          "output_type": "display_data",
          "data": {
            "application/vnd.jupyter.widget-view+json": {
              "model_id": "fb7fea0933744a96a106ebe4d82b7c69",
              "version_minor": 0,
              "version_major": 2
            },
            "text/plain": [
              "HBox(children=(IntProgress(value=0, max=3), HTML(value='')))"
            ]
          },
          "metadata": {
            "tags": []
          }
        },
        {
          "output_type": "stream",
          "text": [
            "EPOCH -- 0\n",
            "Iteration: 0. Loss: 1.597841739654541. Accuracy: 0.0%\n",
            "Iteration: 50. Loss: 2.226827383041382. Accuracy: 0.0%\n",
            "EPOCH -- 1\n",
            "Iteration: 0. Loss: 1.6401197910308838. Accuracy: 35.294117647058826%\n",
            "Iteration: 50. Loss: 2.483398675918579. Accuracy: 0.0%\n",
            "EPOCH -- 2\n",
            "Iteration: 0. Loss: 2.34710955619812. Accuracy: 11.764705882352942%\n",
            "Iteration: 50. Loss: 2.8535962104797363. Accuracy: 70.58823529411765%\n",
            "\n",
            "END OF TRAINING FOR SECTION: Organisation and the digestive system ------------------------------ \n",
            "\n",
            "BEGIN TRAINING FOR SECTION: Organising Animals and Plants ------------------------------ \n",
            "\n"
          ],
          "name": "stdout"
        },
        {
          "output_type": "display_data",
          "data": {
            "application/vnd.jupyter.widget-view+json": {
              "model_id": "ace9eae3207e4bc5aff9047cdace77b0",
              "version_minor": 0,
              "version_major": 2
            },
            "text/plain": [
              "HBox(children=(IntProgress(value=0, max=3), HTML(value='')))"
            ]
          },
          "metadata": {
            "tags": []
          }
        },
        {
          "output_type": "stream",
          "text": [
            "EPOCH -- 0\n",
            "Iteration: 0. Loss: 2.5039539337158203. Accuracy: 0.0%\n",
            "Iteration: 50. Loss: 1.8714691400527954. Accuracy: 0.0%\n",
            "EPOCH -- 1\n",
            "Iteration: 0. Loss: 2.6839468479156494. Accuracy: 30.434782608695652%\n",
            "Iteration: 50. Loss: 2.581254482269287. Accuracy: 0.0%\n",
            "EPOCH -- 2\n",
            "Iteration: 0. Loss: 1.530556559562683. Accuracy: 21.73913043478261%\n",
            "Iteration: 50. Loss: 2.802992343902588. Accuracy: 0.0%\n",
            "\n",
            "END OF TRAINING FOR SECTION: Organising Animals and Plants ------------------------------ \n",
            "\n",
            "BEGIN TRAINING FOR SECTION: Communicable diseases ------------------------------ \n",
            "\n"
          ],
          "name": "stdout"
        },
        {
          "output_type": "display_data",
          "data": {
            "application/vnd.jupyter.widget-view+json": {
              "model_id": "26d8703bb22842a2a9d09a1e8b2c7319",
              "version_minor": 0,
              "version_major": 2
            },
            "text/plain": [
              "HBox(children=(IntProgress(value=0, max=3), HTML(value='')))"
            ]
          },
          "metadata": {
            "tags": []
          }
        },
        {
          "output_type": "stream",
          "text": [
            "EPOCH -- 0\n",
            "Iteration: 0. Loss: 2.6372134685516357. Accuracy: 31.818181818181817%\n",
            "Iteration: 50. Loss: 2.9464781284332275. Accuracy: 4.545454545454546%\n",
            "EPOCH -- 1\n",
            "Iteration: 0. Loss: 2.569650411605835. Accuracy: 0.0%\n",
            "Iteration: 50. Loss: 2.083728075027466. Accuracy: 4.545454545454546%\n",
            "EPOCH -- 2\n",
            "Iteration: 0. Loss: 2.4835398197174072. Accuracy: 13.636363636363637%\n",
            "Iteration: 50. Loss: 1.8083773851394653. Accuracy: 4.545454545454546%\n",
            "\n",
            "END OF TRAINING FOR SECTION: Communicable diseases ------------------------------ \n",
            "\n",
            "BEGIN TRAINING FOR SECTION: Preventing and treating disease ------------------------------ \n",
            "\n"
          ],
          "name": "stdout"
        },
        {
          "output_type": "display_data",
          "data": {
            "application/vnd.jupyter.widget-view+json": {
              "model_id": "d0089a62c7564b8696344727fcc9d139",
              "version_minor": 0,
              "version_major": 2
            },
            "text/plain": [
              "HBox(children=(IntProgress(value=0, max=3), HTML(value='')))"
            ]
          },
          "metadata": {
            "tags": []
          }
        },
        {
          "output_type": "stream",
          "text": [
            "EPOCH -- 0\n",
            "Iteration: 0. Loss: 1.5828237533569336. Accuracy: 0.0%\n",
            "Iteration: 50. Loss: 0.8578960299491882. Accuracy: 0.0%\n",
            "EPOCH -- 1\n",
            "Iteration: 0. Loss: 1.388211727142334. Accuracy: 0.0%\n",
            "Iteration: 50. Loss: 0.8890941143035889. Accuracy: 0.0%\n",
            "EPOCH -- 2\n",
            "Iteration: 0. Loss: 0.679430365562439. Accuracy: 7.142857142857143%\n",
            "Iteration: 50. Loss: 0.5771441459655762. Accuracy: 0.0%\n",
            "\n",
            "END OF TRAINING FOR SECTION: Preventing and treating disease ------------------------------ \n",
            "\n",
            "BEGIN TRAINING FOR SECTION: Non-Communicable diseases ------------------------------ \n",
            "\n"
          ],
          "name": "stdout"
        },
        {
          "output_type": "display_data",
          "data": {
            "application/vnd.jupyter.widget-view+json": {
              "model_id": "93459a2765ff479280f3e3bcf3f76512",
              "version_minor": 0,
              "version_major": 2
            },
            "text/plain": [
              "HBox(children=(IntProgress(value=0, max=3), HTML(value='')))"
            ]
          },
          "metadata": {
            "tags": []
          }
        },
        {
          "output_type": "stream",
          "text": [
            "EPOCH -- 0\n",
            "Iteration: 0. Loss: 1.242643117904663. Accuracy: 0.0%\n",
            "Iteration: 50. Loss: 1.422332763671875. Accuracy: 6.666666666666667%\n",
            "EPOCH -- 1\n",
            "Iteration: 0. Loss: 1.1759552955627441. Accuracy: 0.0%\n",
            "Iteration: 50. Loss: 1.2997976541519165. Accuracy: 0.0%\n",
            "EPOCH -- 2\n",
            "Iteration: 0. Loss: 1.631959080696106. Accuracy: 0.0%\n",
            "Iteration: 50. Loss: 1.8655047416687012. Accuracy: 0.0%\n",
            "\n",
            "END OF TRAINING FOR SECTION: Non-Communicable diseases ------------------------------ \n",
            "\n",
            "BEGIN TRAINING FOR SECTION: Photosynthesis ------------------------------ \n",
            "\n"
          ],
          "name": "stdout"
        },
        {
          "output_type": "display_data",
          "data": {
            "application/vnd.jupyter.widget-view+json": {
              "model_id": "0eae201216514bc2ab0dad4226070992",
              "version_minor": 0,
              "version_major": 2
            },
            "text/plain": [
              "HBox(children=(IntProgress(value=0, max=3), HTML(value='')))"
            ]
          },
          "metadata": {
            "tags": []
          }
        },
        {
          "output_type": "stream",
          "text": [
            "EPOCH -- 0\n",
            "Iteration: 0. Loss: 0.9702850580215454. Accuracy: 0.0%\n",
            "EPOCH -- 1\n",
            "Iteration: 0. Loss: 1.0783923864364624. Accuracy: 100.0%\n",
            "EPOCH -- 2\n",
            "Iteration: 0. Loss: 1.3607728481292725. Accuracy: 100.0%\n",
            "\n",
            "END OF TRAINING FOR SECTION: Photosynthesis ------------------------------ \n",
            "\n",
            "BEGIN TRAINING FOR SECTION: Respiration ------------------------------ \n",
            "\n"
          ],
          "name": "stdout"
        },
        {
          "output_type": "display_data",
          "data": {
            "application/vnd.jupyter.widget-view+json": {
              "model_id": "b1ceb1ad465e406b8bc97b83ca856297",
              "version_minor": 0,
              "version_major": 2
            },
            "text/plain": [
              "HBox(children=(IntProgress(value=0, max=3), HTML(value='')))"
            ]
          },
          "metadata": {
            "tags": []
          }
        },
        {
          "output_type": "stream",
          "text": [
            "EPOCH -- 0\n",
            "Iteration: 0. Loss: 1.2065050601959229. Accuracy: 0.0%\n",
            "EPOCH -- 1\n",
            "Iteration: 0. Loss: 0.5253492593765259. Accuracy: 100.0%\n",
            "EPOCH -- 2\n",
            "Iteration: 0. Loss: 1.060059666633606. Accuracy: 0.0%\n",
            "\n",
            "END OF TRAINING FOR SECTION: Respiration ------------------------------ \n",
            "\n",
            "BEGIN TRAINING FOR SECTION: The human nervous system ------------------------------ \n",
            "\n"
          ],
          "name": "stdout"
        },
        {
          "output_type": "display_data",
          "data": {
            "application/vnd.jupyter.widget-view+json": {
              "model_id": "63ab3260363146cbb1d6bb85c9307192",
              "version_minor": 0,
              "version_major": 2
            },
            "text/plain": [
              "HBox(children=(IntProgress(value=0, max=3), HTML(value='')))"
            ]
          },
          "metadata": {
            "tags": []
          }
        },
        {
          "output_type": "stream",
          "text": [
            "EPOCH -- 0\n",
            "Iteration: 0. Loss: 1.8985050916671753. Accuracy: 0.0%\n",
            "Iteration: 50. Loss: 1.1178340911865234. Accuracy: 18.75%\n",
            "EPOCH -- 1\n",
            "Iteration: 0. Loss: 0.8917025923728943. Accuracy: 0.0%\n",
            "Iteration: 50. Loss: 1.5273773670196533. Accuracy: 18.75%\n",
            "EPOCH -- 2\n",
            "Iteration: 0. Loss: 1.3480840921401978. Accuracy: 100.0%\n",
            "Iteration: 50. Loss: 0.7877321839332581. Accuracy: 100.0%\n",
            "\n",
            "END OF TRAINING FOR SECTION: The human nervous system ------------------------------ \n",
            "\n",
            "BEGIN TRAINING FOR SECTION: Reproduction ------------------------------ \n",
            "\n"
          ],
          "name": "stdout"
        },
        {
          "output_type": "display_data",
          "data": {
            "application/vnd.jupyter.widget-view+json": {
              "model_id": "31445986c56e42b482a640fd756ddc05",
              "version_minor": 0,
              "version_major": 2
            },
            "text/plain": [
              "HBox(children=(IntProgress(value=0, max=3), HTML(value='')))"
            ]
          },
          "metadata": {
            "tags": []
          }
        },
        {
          "output_type": "stream",
          "text": [
            "EPOCH -- 0\n",
            "Iteration: 0. Loss: 2.176201343536377. Accuracy: 100.0%\n",
            "Iteration: 50. Loss: 1.5505099296569824. Accuracy: 26.666666666666668%\n",
            "EPOCH -- 1\n",
            "Iteration: 0. Loss: 1.8101609945297241. Accuracy: 0.0%\n",
            "Iteration: 50. Loss: 1.9678782224655151. Accuracy: 0.0%\n",
            "EPOCH -- 2\n",
            "Iteration: 0. Loss: 1.4182939529418945. Accuracy: 6.666666666666667%\n",
            "Iteration: 50. Loss: 1.7344194650650024. Accuracy: 100.0%\n",
            "\n",
            "END OF TRAINING FOR SECTION: Reproduction ------------------------------ \n",
            "\n",
            "BEGIN TRAINING FOR SECTION: Genetics and evolution ------------------------------ \n",
            "\n"
          ],
          "name": "stdout"
        },
        {
          "output_type": "display_data",
          "data": {
            "application/vnd.jupyter.widget-view+json": {
              "model_id": "1e6ace6a00f847e8b04ab381420a0cfd",
              "version_minor": 0,
              "version_major": 2
            },
            "text/plain": [
              "HBox(children=(IntProgress(value=0, max=3), HTML(value='')))"
            ]
          },
          "metadata": {
            "tags": []
          }
        },
        {
          "output_type": "stream",
          "text": [
            "EPOCH -- 0\n",
            "Iteration: 0. Loss: 1.7768151760101318. Accuracy: 0.0%\n",
            "Iteration: 50. Loss: 2.0314760208129883. Accuracy: 22.22222222222222%\n",
            "Iteration: 100. Loss: 2.322873830795288. Accuracy: 51.851851851851855%\n",
            "EPOCH -- 1\n",
            "Iteration: 0. Loss: 1.5824335813522339. Accuracy: 59.25925925925926%\n",
            "Iteration: 50. Loss: 1.7917852401733398. Accuracy: 11.11111111111111%\n",
            "Iteration: 100. Loss: 1.768058180809021. Accuracy: 18.51851851851852%\n",
            "EPOCH -- 2\n",
            "Iteration: 0. Loss: 1.677393913269043. Accuracy: 0.0%\n",
            "Iteration: 50. Loss: 2.708089590072632. Accuracy: 62.96296296296296%\n",
            "Iteration: 100. Loss: 1.7494465112686157. Accuracy: 44.44444444444444%\n",
            "\n",
            "END OF TRAINING FOR SECTION: Genetics and evolution ------------------------------ \n",
            "\n"
          ],
          "name": "stdout"
        }
      ]
    },
    {
      "cell_type": "code",
      "metadata": {
        "id": "oecu0DSs0B3w",
        "colab_type": "code",
        "outputId": "de23b8cd-58ca-4da3-b036-3ba2c0369c69",
        "colab": {
          "base_uri": "https://localhost:8080/",
          "height": 329
        }
      },
      "source": [
        "!ls drive/'My Drive'/Layer\\ 1\\ Models"
      ],
      "execution_count": 45,
      "outputs": [
        {
          "output_type": "stream",
          "text": [
            "Final_Test_Set.csv\n",
            "roberta_for_section_Cell_Division_model.pth\n",
            "roberta_for_section_Cell_Strucuture_and_transport_model.pth\n",
            "roberta_for_section_Communicable_diseases_model.pth\n",
            "roberta_for_section_Genetics_and_evolution_model.pth\n",
            "roberta_for_section_Non-Communicable_diseases_model.pth\n",
            "roberta_for_section_Organisation_and_the_digestive_system_model.pth\n",
            "roberta_for_section_Organising_Animals_and_Plants_model.pth\n",
            "roberta_for_section_Photosynthesis_model.pth\n",
            "roberta_for_section_Preventing_and_treating_disease_model.pth\n",
            "roberta_for_section_Reproduction_model.pth\n",
            "roberta_for_section_Respiration_model.pth\n",
            "roberta_for_section_The_human_nervous_system_model.pth\n",
            "roberta_full_subsections_model.pth\n",
            "roberta_main_model.pth\n",
            "roberta_sections_model.pth\n",
            "test_dataset.csv\n",
            "train_dataset.csv\n"
          ],
          "name": "stdout"
        }
      ]
    },
    {
      "cell_type": "code",
      "metadata": {
        "id": "2EG8tdV7EG0A",
        "colab_type": "code",
        "colab": {}
      },
      "source": [
        " def get_subsection_from(question, section):\n",
        "  input_q, _ = feature_preparation(question)\n",
        "  if torch.cuda.is_available():\n",
        "    input_q = input_q.cuda()\n",
        "\n",
        "  model_dict[\"Subsections\"][section].eval()\n",
        "  sub_out = model_dict[\"Subsections\"][section](input_q)[0]\n",
        "  _, pred_label = torch.max(sub_out.data, 1)\n",
        "  subsection = list(subsection_labels[section].keys())[pred_label]\n",
        "  return subsection"
      ],
      "execution_count": 0,
      "outputs": []
    },
    {
      "cell_type": "code",
      "metadata": {
        "id": "zjq75YZ3EOS5",
        "colab_type": "code",
        "outputId": "171a4d8f-8748-4a14-a123-d8798ab00381",
        "colab": {
          "base_uri": "https://localhost:8080/",
          "height": 104
        }
      },
      "source": [
        "ix = random.randint(0, len(subsection_datasets_train[\"Cell Division\"]))\n",
        "\n",
        "print(subsection_datasets_train[\"Cell Division\"].question[ix])\n",
        "print(\"Actual subsection label:\", subsection_datasets_train[\"Cell Division\"].label[ix])\n",
        "print(\"Predicted label: \", get_subsection_from(subsection_datasets_train[\"Cell Division\"].question[ix], \"Cell Division\"))\n",
        "print(\"\")"
      ],
      "execution_count": 75,
      "outputs": [
        {
          "output_type": "stream",
          "text": [
            "Explain the main arguments for and against the use of embryonic stem cells in medical research ?\n",
            "Actual subsection label: Stem cell dilemmas\n",
            "ERROR! Session/line number was not unique in database. History logging moved to new session 63\n",
            "Predicted label:  Stem cells\n",
            "\n"
          ],
          "name": "stdout"
        }
      ]
    },
    {
      "cell_type": "code",
      "metadata": {
        "id": "JpWq5XMz_q72",
        "colab_type": "code",
        "colab": {}
      },
      "source": [
        "def get_passage_for(subsection):\n",
        "  return passage_df.loc[passage_df['Sub-section'] == subsection, ['Text']].values[0][0]"
      ],
      "execution_count": 0,
      "outputs": []
    },
    {
      "cell_type": "code",
      "metadata": {
        "id": "1QEDQgUqyVac",
        "colab_type": "code",
        "colab": {}
      },
      "source": [
        "# Make drive paths for models:\n",
        "category_model_path = 'drive/My Drive/Layer 1 Models/roberta_main_model.pth'\n",
        "section_model_path = 'drive/My Drive/Layer 1 Models/roberta_sections_model.pth'\n",
        "full_subsection_model_path = 'drive/My Drive/Layer 1 Models/roberta_full_subsections_model.pth'\n",
        "subsection_model_paths = { }\n",
        "for section, _ in subsection_labels.items():\n",
        "  subsection_model_paths[section] = 'drive/My Drive/Layer 1 Models/roberta_for_section_' + section.replace(\" \", \"_\") +'_model.pth'\n",
        "\n",
        "\n",
        "def layer_1(question):\n",
        "  input_question, _ = feature_preparation(question)\n",
        "  if torch.cuda.is_available():\n",
        "    input_question = input_question.cuda()\n",
        "\n",
        "  # Get subsection from question\n",
        "  model_dict[\"Sections\"].load_state_dict(torch.load(section_model_path, map_location=device))\n",
        "  section = get_section_from(question)\n",
        "  print(\"Got section: \", section)\n",
        "\n",
        "  # Get paragraph from subsection:\n",
        "  model_dict[\"Subsections\"][section].load_state_dict(torch.load(subsection_model_paths[section], map_location=device))\n",
        "  subsection = get_subsection_from(question, section)\n",
        "  print(\"Got subsection: \", subsection)\n",
        "  final_passage = get_passage_for(subsection)\n",
        "  return final_passage"
      ],
      "execution_count": 0,
      "outputs": []
    },
    {
      "cell_type": "code",
      "metadata": {
        "id": "S9AQAowv6a6q",
        "colab_type": "code",
        "colab": {
          "base_uri": "https://localhost:8080/",
          "height": 141
        },
        "outputId": "90fc9dbe-2210-42cf-cb5b-caf81f258e9b"
      },
      "source": [
        "print(section_dataset.question[400])\n",
        "predicted_passage = layer_1(section_dataset.question[400])\n",
        "print(\"Got passage:\")\n",
        "print(predicted_passage)"
      ],
      "execution_count": 88,
      "outputs": [
        {
          "output_type": "stream",
          "text": [
            "How does the small intestine increase diffusion and active transport into the blood?\n",
            "Got section:  Reproduction\n",
            "Got subsection:  Gene expression and mutation\n",
            "Got passage:\n",
            "Our understanding of how the genetic code in our cells produces organisms we see around us is growing all the time. Not only do we understand what happens when things go wrong as the DNA in our cells replicate. We are also beginning to understand how genes are switched on and off in our cells as we grow and develop. It seems as if our environment may affect exactly which genes come into use. When a gene codes for a protein that is synthesised in the cell, the gene is said to be expressed. Most of the DNA does not actually code for proteins, remember that there are only 21 000 genes but 3 billion pairs of bases! Scientists are still discovering what the non-coding part of the DNA does. One thing they have discovered is that the non-coding pans of the DNA are involved in switching genes, or parts of genes, on and off.The non- coding DNA is part of the answer to the question of how we can synthesise so many different chemicals with so few genes. Each gene can control the synthesis of lots of different proteins. This may depend on how much of a gene is switched on or off, or which other genes are switched on or off at the same time. Scientists think that variations in the non-coding areas of our DNA may affect how our genes are expressed. This in turn affects the phenotype - the physical appearance or biochemistry of an organism. Mutation has a bad name — in horror movies it is shown as a dramatic event that brings about enormous and often horrifying changes. The truth is much less exciting but much more important. All of us are here now as a result of millions of mutations that have taken place in our DNA since the earliest days of life on Earth. New forms of genes result from changes in existing genes and these changes are what we call mutations. They are often tiny changes in the sequence of bases in a strand of DNA Mutations occur all the time, often as a result of mistakes made in copying the DNA for new cells as they reproduce. When mutations take place in the coding DNA, most do not alter the protein formed, or alter it so slightly that its appearance and function is not changed.\n",
            " A few mutations code for a change in the amino acids that results in an altered protein that folds to give a different shape. As a result, the active site of an enzyme may no longer fit the substrate, or a structural protein may lose its strength. On the other hand, the changes caused by a mutation may give an advantage eg producing a more efficient enzyme or a stronger structural protein. When mutations take place in the non-coding DNA, it does not directly affect the phenotype. However, variants in the non-coding DNA can affect which genes are switched on or switched off. By changing the genes that are expressed, changes in the non-coding DNA can have a big effect on the phenotype of the organism.\n"
          ],
          "name": "stdout"
        }
      ]
    },
    {
      "cell_type": "markdown",
      "metadata": {
        "id": "YB3A5TJzD9uW",
        "colab_type": "text"
      },
      "source": [
        "  # LAYER 2: Untouched as of yet."
      ]
    },
    {
      "cell_type": "code",
      "metadata": {
        "id": "Uz1SYy4TlQa5",
        "colab_type": "code",
        "colab": {
          "base_uri": "https://localhost:8080/",
          "height": 313,
          "referenced_widgets": [
            "fe29a45fb74a42f0b955b2f8956df959",
            "e461459470274c03a57841b4a48aa61b",
            "be9fabfbc5b54cf8a6a40370c1db92ab",
            "a572ccba9f9642a58ea2ca789d05465c",
            "f020790a108b4a768e10ca2d6f5d99ef",
            "c6e11a0c17814eeeb5e12d3347f47ea2",
            "a09f0cbbcb814e29925f86bd89f68a7b",
            "eb1280437f4741d7ad969b481e893cf7",
            "3662b3ecbdb74c35a5fa2b2886c79e80",
            "783be731bbf446ee842e233a7719bf5c",
            "c89deb6326e14d8ba0c4e32a36f04f3e",
            "6b298aad9271438eba026f0b44b0faae",
            "5874b42f5d8a45dfb2dc09c7dbff68cf",
            "e544f08089514fcfa1456f6f245a64ac",
            "ddc830e4d26d43be8a9f34b8863b2a93",
            "7c54d1c78c574b8d9252ee45b63c92a6",
            "e18c45c1b70b41fb8dea3f6a3cb4442b",
            "3fb35bf22fb449db9426955812ed6dc0",
            "c179243bae224c968a9f835e5c5b1559",
            "060ebd969ee8484a9d0640416b606601",
            "6b5aa3ca41d841599ea7d332db305d34",
            "0913fcff1f7a4dbb93d5eec5aa051f03",
            "a3289789c5de4918b03241e34685dc73",
            "b9ab8c4043d44cd1b9a6177c52c8395d",
            "76775190762a40669113df038f06a449",
            "2c57d2f8f48244738873269eeb01259d",
            "0008623e68b5412dbde122fa6f77f68e",
            "08fcb922e8c94aafbc1c2e807203247e",
            "8a537f18c97f427082d1e8d6c06c8418",
            "e27d388fca0145ecb26596fbba989fa1",
            "d01022f0684a453e9a6315f174739bf0",
            "947abafe41724f5598417b5f71ce4058",
            "2b927c43f7764b61bed049027f137421",
            "4ac3332b7e0341cc94ad73868a34819a",
            "ca158218eac840539a43756eea532747",
            "a8722bcfefd9408b92d9a4d71606e044",
            "f004c16641eb44c4af84d2c9e4363e07",
            "0483baa569d6495d9c82a194bc71f636",
            "bb144fa574d94c5fb93d40e4c24c2c41",
            "ba44f282ba9d40dbbb1fc66de6aa8e9a",
            "44f9663764914da1bda18f8753f380d8",
            "4ed492a02f9d46b7992adf006c3a4c2b",
            "eac75b9145b04407b88cd41087c9dcaf",
            "e214f5bf5fec4839b7758ee0accbfa13",
            "a23f32e8f912455aaf8ce9df9c64c755",
            "84dc3d275b5f49a6843754a03860f085",
            "580ef0e16c944d6b9bb4c75355368633",
            "e10cf0f9e5434eabbe2cb746b3afdd12"
          ]
        },
        "outputId": "fdc5e267-edee-4542-c28b-3c0a70bad421"
      },
      "source": [
        "from transformers.data.processors.squad import SquadResult, SquadV2Processor, SquadExample\n",
        "\n",
        "from transformers.data.metrics.squad_metrics import compute_predictions_logits\n",
        "\n",
        "model_name_or_path = \"ktrapeznikov/albert-xlarge-v2-squad-v2\"\n",
        "# model_name_or_path = \"bert-base-uncased\"\n",
        "\n",
        "output_dir = \"\"\n",
        "\n",
        "\n",
        "def to_list(tensor):\n",
        "    return tensor.detach().cpu().tolist()\n",
        "    \n",
        "# Config\n",
        "n_best_size = 1\n",
        "max_answer_length = 30\n",
        "do_lower_case = True\n",
        "null_score_diff_threshold = 0.0\n",
        "\n",
        "# Setup model\n",
        "config_class, model_class, tokenizer_class = (\n",
        "    AlbertConfig, AlbertForQuestionAnswering, AlbertTokenizer)\n",
        "\n",
        "\n",
        "config = config_class.from_pretrained(model_name_or_path)\n",
        "\n",
        "tokenizer = tokenizer_class.from_pretrained(model_name_or_path, do_lower_case=True)\n",
        "\n",
        "model = model_class.from_pretrained(model_name_or_path, config=config)\n",
        "\n",
        "device = torch.device(\"cuda\" if torch.cuda.is_available() else \"cpu\")\n",
        "\n",
        "model.to(device)\n",
        "\n",
        "processor = SquadV2Processor()\n",
        "\n",
        "def run_prediction(question_texts, context_text):\n",
        "    \"\"\"Setup function to compute predictions\"\"\"\n",
        "    examples = []\n",
        "\n",
        "    for i, question_text in enumerate(question_texts):\n",
        "        example = SquadExample(\n",
        "            qas_id=str(i),\n",
        "            question_text=question_text,\n",
        "            context_text=context_text,\n",
        "            answer_text=None,\n",
        "            start_position_character=None,\n",
        "            title=\"Predict\",\n",
        "            is_impossible=False,\n",
        "            answers=None,\n",
        "        )\n",
        "\n",
        "        examples.append(example)\n",
        "\n",
        "    features, dataset = squad_convert_examples_to_features(\n",
        "        examples=examples,\n",
        "        tokenizer=tokenizer,\n",
        "        max_seq_length=384,\n",
        "        doc_stride=128,\n",
        "        max_query_length=64,\n",
        "        is_training=False,\n",
        "        return_dataset=\"pt\",\n",
        "        threads=1,\n",
        "    )\n",
        "\n",
        "    eval_sampler = SequentialSampler(dataset)\n",
        "    eval_dataloader = DataLoader(dataset, sampler=eval_sampler, batch_size=10)\n",
        "\n",
        "    all_results = []\n",
        "\n",
        "    for batch in eval_dataloader:\n",
        "        model.eval()\n",
        "        batch = tuple(t.to(device) for t in batch)\n",
        "\n",
        "        with torch.no_grad():\n",
        "            inputs = {\n",
        "                \"input_ids\": batch[0],\n",
        "                \"attention_mask\": batch[1],\n",
        "                \"token_type_ids\": batch[2],\n",
        "            }\n",
        "\n",
        "            example_indices = batch[3]\n",
        "\n",
        "            outputs = model(**inputs)\n",
        "\n",
        "            for i, example_index in enumerate(example_indices):\n",
        "                eval_feature = features[example_index.item()]\n",
        "                unique_id = int(eval_feature.unique_id)\n",
        "\n",
        "                output = [to_list(output[i]) for output in outputs]\n",
        "\n",
        "                start_logits, end_logits = output\n",
        "                result = SquadResult(unique_id, start_logits, end_logits)\n",
        "                all_results.append(result)\n",
        "\n",
        "    output_prediction_file = \"predictions.json\"\n",
        "    output_nbest_file = \"nbest_predictions.json\"\n",
        "    output_null_log_odds_file = \"null_predictions.json\"\n",
        "\n",
        "    predictions = compute_predictions_logits(\n",
        "        examples,\n",
        "        features,\n",
        "        all_results,\n",
        "        n_best_size,\n",
        "        max_answer_length,\n",
        "        do_lower_case,\n",
        "        output_prediction_file,\n",
        "        output_nbest_file,\n",
        "        output_null_log_odds_file,\n",
        "        False,  # verbose_logging\n",
        "        True,  # version_2_with_negative\n",
        "        null_score_diff_threshold,\n",
        "        tokenizer,\n",
        "    )\n",
        "\n",
        "    return predictions"
      ],
      "execution_count": 49,
      "outputs": [
        {
          "output_type": "display_data",
          "data": {
            "application/vnd.jupyter.widget-view+json": {
              "model_id": "fe29a45fb74a42f0b955b2f8956df959",
              "version_minor": 0,
              "version_major": 2
            },
            "text/plain": [
              "HBox(children=(IntProgress(value=0, description='Downloading', max=1129, style=ProgressStyle(description_width…"
            ]
          },
          "metadata": {
            "tags": []
          }
        },
        {
          "output_type": "stream",
          "text": [
            "\n"
          ],
          "name": "stdout"
        },
        {
          "output_type": "display_data",
          "data": {
            "application/vnd.jupyter.widget-view+json": {
              "model_id": "3662b3ecbdb74c35a5fa2b2886c79e80",
              "version_minor": 0,
              "version_major": 2
            },
            "text/plain": [
              "HBox(children=(IntProgress(value=0, description='Downloading', max=760289, style=ProgressStyle(description_wid…"
            ]
          },
          "metadata": {
            "tags": []
          }
        },
        {
          "output_type": "stream",
          "text": [
            "\n"
          ],
          "name": "stdout"
        },
        {
          "output_type": "display_data",
          "data": {
            "application/vnd.jupyter.widget-view+json": {
              "model_id": "e18c45c1b70b41fb8dea3f6a3cb4442b",
              "version_minor": 0,
              "version_major": 2
            },
            "text/plain": [
              "HBox(children=(IntProgress(value=0, description='Downloading', max=2, style=ProgressStyle(description_width='i…"
            ]
          },
          "metadata": {
            "tags": []
          }
        },
        {
          "output_type": "stream",
          "text": [
            "\n"
          ],
          "name": "stdout"
        },
        {
          "output_type": "display_data",
          "data": {
            "application/vnd.jupyter.widget-view+json": {
              "model_id": "76775190762a40669113df038f06a449",
              "version_minor": 0,
              "version_major": 2
            },
            "text/plain": [
              "HBox(children=(IntProgress(value=0, description='Downloading', max=156, style=ProgressStyle(description_width=…"
            ]
          },
          "metadata": {
            "tags": []
          }
        },
        {
          "output_type": "stream",
          "text": [
            "\n"
          ],
          "name": "stdout"
        },
        {
          "output_type": "display_data",
          "data": {
            "application/vnd.jupyter.widget-view+json": {
              "model_id": "2b927c43f7764b61bed049027f137421",
              "version_minor": 0,
              "version_major": 2
            },
            "text/plain": [
              "HBox(children=(IntProgress(value=0, description='Downloading', max=58, style=ProgressStyle(description_width='…"
            ]
          },
          "metadata": {
            "tags": []
          }
        },
        {
          "output_type": "stream",
          "text": [
            "\n"
          ],
          "name": "stdout"
        },
        {
          "output_type": "display_data",
          "data": {
            "application/vnd.jupyter.widget-view+json": {
              "model_id": "44f9663764914da1bda18f8753f380d8",
              "version_minor": 0,
              "version_major": 2
            },
            "text/plain": [
              "HBox(children=(IntProgress(value=0, description='Downloading', max=234922444, style=ProgressStyle(description_…"
            ]
          },
          "metadata": {
            "tags": []
          }
        },
        {
          "output_type": "stream",
          "text": [
            "\n"
          ],
          "name": "stdout"
        }
      ]
    },
    {
      "cell_type": "code",
      "metadata": {
        "id": "HXcnVhdLmy1-",
        "colab_type": "code",
        "colab": {}
      },
      "source": [
        "context = \"Animals need to eat food to get their energy. But green plants and algae do not. Instead they make their own food in a process called photosynthesis. Almost all life on Earth depends upon this process. Photosynthesis is also important in maintaining the levels of oxygen and carbon dioxide in the atmosphere. These are the things that plants need for photosynthesis: carbon dioxide, water, light (a source of energy) These are the things that plants make by photosynthesis: glucose and oxygen Photosynthesis takes place inside plant cells in small objects called chloroplasts. Chloroplasts contain a green substance called chlorophyll. This absorbs the light energy needed to make photosynthesis happen. Plants and algae can only carry out photosynthesis in the light. Plants get carbon dioxide from the air through their leaves, and water from the ground through their roots. Light energy comes from the Sun. The oxygen produced is released into the air from the leaves. The glucose produced can be turned into other substances, such as starch and plant oils, which are used as an energy store. This energy can be released by respiration.\"\n",
        "questions = [\"What are the products of photosynthesis?\", \n",
        "             \"What colour is chlorophyll?\",\n",
        "             \"Where does photosynthesis take place?\",\n",
        "             \"When do plants photosynthesise?\",\n",
        "             \"What are the reactants of photosynthesis?\"]\n",
        "\n",
        "# Run method\n",
        "predictions = run_prediction(questions, context)\n",
        "\n",
        "# Print results\n",
        "for key in predictions.keys():\n",
        "  print(predictions[key])"
      ],
      "execution_count": 0,
      "outputs": []
    },
    {
      "cell_type": "code",
      "metadata": {
        "id": "P3pIRXZmixIu",
        "colab_type": "code",
        "colab": {}
      },
      "source": [
        "test_dataset_url = \"drive/My Drive/Layer 1 Models/Final_Test_Set.csv\"\n",
        "final_test_df = pd.read_csv(test_dataset_url)"
      ],
      "execution_count": 0,
      "outputs": []
    },
    {
      "cell_type": "code",
      "metadata": {
        "id": "QmSXaEhtn4xi",
        "colab_type": "code",
        "colab": {
          "base_uri": "https://localhost:8080/",
          "height": 817
        },
        "outputId": "dfec3076-6ee8-4648-99d2-e8c6a2a4f867"
      },
      "source": [
        "final_test_df[\"Question\"].values"
      ],
      "execution_count": 57,
      "outputs": [
        {
          "output_type": "execute_result",
          "data": {
            "text/plain": [
              "array(['Define hypotonic solution ?',\n",
              "       'What is the disease with symptoms of thick, sticky mucus in their lungs, gut and reproductive systems?',\n",
              "       'What health problems can cystic fibrosis cause?',\n",
              "       'Why does having cystic fibrosis cause health problems?',\n",
              "       'What have scientists shown is linked to the rate of cell respiration?',\n",
              "       'What makes up the cytoplasm?',\n",
              "       'What happens to the cytoplasm if itâ€™s cell uses up all its water in chemical reactions?',\n",
              "       'How does the human body ventilate the alveoli?',\n",
              "       'What are the air sacs in the lungs called?', 'What are alveoli?',\n",
              "       'Why are the alveoli effective for gas exchange?',\n",
              "       'What is an adult stem cell?',\n",
              "       'What is a good source of adult stem cells?',\n",
              "       ' Why is it important to restrict the agricultural use of antibiotics ?',\n",
              "       ' Why are some bacteria in hospitals resistant to antibiotics ?',\n",
              "       ' What should medical staff do to prevent the spread of these mutated bacteria ?',\n",
              "       ' What should happen to patients who become infected with antibiotic resistant bacteria ?',\n",
              "       'What catalyzes the breakdown of lipids?',\n",
              "       'Which enzymes digest protein?', 'Where is pepsin secreted from?',\n",
              "       'What does the acid do in your stomach?',\n",
              "       'What are the role of stomata in the plant?',\n",
              "       'Describe the process of transpiration?',\n",
              "       ' Give an example of what the non-coding part of DNA does ?',\n",
              "       ' How can each gene synthesise alot of different proteins ?',\n",
              "       'Name the parts of a leaf that help the plant to reduce water loss under normal conditions?',\n",
              "       'What factors affect the rate of transpiration?',\n",
              "       'Why do hot conditions increase the rate of transpiration?',\n",
              "       'How do windy condition affect transpiration?',\n",
              "       'Some plants growing in soil with a good supply of minerals show the symptoms of mineral deficiencies such as stunted growth and yellowed leaves. Suggest a reason for this?',\n",
              "       'What characteristics do Aphids have?',\n",
              "       'How can Aphids be destroyed?',\n",
              "       ' Why do Biologists classify organisms ?',\n",
              "       ' What does classification help us understand ?',\n",
              "       'What do monoclonal antibodies trigger?',\n",
              "       'How do monoclonal antibodies affect cancer cells?',\n",
              "       'Do monoclonal antibodies affect healthy cells?',\n",
              "       'What happens when a monoclonal antibody is bound to a radioactive substance, a toxic drug or a chemical that stops cells growing and dividing?',\n",
              "       'What are the risk factors of developing type 2 diabetes?',\n",
              "       'Which organs can be damaged from too much alcohol?',\n",
              "       'What is cirrhosis?', 'What can happen to an alcoholicâ€™s brain?',\n",
              "       'What risks are linked to drinking alcohol during pregnancy?',\n",
              "       ' What does the muscular iris control?',\n",
              "       ' What is the iris made of?',\n",
              "       ' In dim light what happens to the pupil in the eye?',\n",
              "       ' What happens to the pupil in the eye in bright light?',\n",
              "       ' What is the lens?'], dtype=object)"
            ]
          },
          "metadata": {
            "tags": []
          },
          "execution_count": 57
        },
        {
          "output_type": "stream",
          "text": [
            "ERROR! Session/line number was not unique in database. History logging moved to new session 59\n"
          ],
          "name": "stdout"
        }
      ]
    },
    {
      "cell_type": "code",
      "metadata": {
        "id": "Kexv1DPZmW9y",
        "colab_type": "code",
        "colab": {}
      },
      "source": [
        "def answer_it_BERT(question):\n",
        "  passage = layer_1(question)\n",
        "  predictions = run_prediction([question], passage)\n",
        "  predictions"
      ],
      "execution_count": 0,
      "outputs": []
    },
    {
      "cell_type": "code",
      "metadata": {
        "id": "bFwmN4_NC7zw",
        "colab_type": "code",
        "colab": {
          "base_uri": "https://localhost:8080/",
          "height": 138
        },
        "outputId": "dbc36947-8473-48e3-e909-04b52fd776e2"
      },
      "source": [
        "prediction = answer_it_BERT(\"Who do you always inherit your mitochondrial DNA from?\")\n",
        "print(\"\")\n",
        "print(\"QUESTION: Who do you always inherit your mitochondrial DNA from?\")\n",
        "print(\"BERT ANSWERED: \")\n",
        "print(prediction)"
      ],
      "execution_count": 93,
      "outputs": [
        {
          "output_type": "stream",
          "text": [
            "Got section:  Reproduction\n",
            "Got subsection:  Gene expression and mutation\n"
          ],
          "name": "stdout"
        },
        {
          "output_type": "stream",
          "text": [
            "convert squad examples to features: 100%|██████████| 1/1 [00:00<00:00, 39.07it/s]\n",
            "add example index and unique id: 100%|██████████| 1/1 [00:00<00:00, 3663.15it/s]\n"
          ],
          "name": "stderr"
        },
        {
          "output_type": "stream",
          "text": [
            "\n",
            "QUESTION: Who do you always inherit your mitochondrial DNA from?\n",
            "BERT ANSWERED:  \n"
          ],
          "name": "stdout"
        }
      ]
    },
    {
      "cell_type": "code",
      "metadata": {
        "id": "FlzpzfLbqHIl",
        "colab_type": "code",
        "colab": {}
      },
      "source": [
        "import time"
      ],
      "execution_count": 0,
      "outputs": []
    },
    {
      "cell_type": "code",
      "metadata": {
        "id": "69FgLsQ4E0p3",
        "colab_type": "code",
        "colab": {
          "base_uri": "https://localhost:8080/",
          "height": 1000
        },
        "outputId": "f18780d8-d95c-4b40-b00e-d4173cd37310"
      },
      "source": [
        "start = time.process_time()\n",
        "for question in final_test_df[\"Question\"]:\n",
        "  answer = answer_it_BERT(question)\n",
        "  final_test_df.loc[final_test_df[\"Question\"] == question, \"Answer\"] = answer\n",
        "\n",
        "final_test_df.head(10)\n",
        "\n",
        "print(time.process_time() - start)"
      ],
      "execution_count": 68,
      "outputs": [
        {
          "output_type": "stream",
          "text": [
            "Got section:  Genetics and evolution\n",
            "Got subsection:  Classification\n"
          ],
          "name": "stdout"
        },
        {
          "output_type": "stream",
          "text": [
            "convert squad examples to features: 100%|██████████| 1/1 [00:00<00:00, 25.26it/s]\n",
            "add example index and unique id: 100%|██████████| 1/1 [00:00<00:00, 1998.24it/s]\n"
          ],
          "name": "stderr"
        },
        {
          "output_type": "stream",
          "text": [
            "Got section:  Preventing and treating disease\n",
            "Got subsection:  Discovering and developing drugs\n"
          ],
          "name": "stdout"
        },
        {
          "output_type": "stream",
          "text": [
            "convert squad examples to features: 100%|██████████| 1/1 [00:00<00:00, 10.72it/s]\n",
            "add example index and unique id: 100%|██████████| 1/1 [00:00<00:00, 1834.78it/s]\n"
          ],
          "name": "stderr"
        },
        {
          "output_type": "stream",
          "text": [
            "Got section:  Genetics and evolution\n",
            "Got subsection:  Fossils and extinction \n"
          ],
          "name": "stdout"
        },
        {
          "output_type": "stream",
          "text": [
            "convert squad examples to features: 100%|██████████| 1/1 [00:00<00:00, 25.41it/s]\n",
            "add example index and unique id: 100%|██████████| 1/1 [00:00<00:00, 3199.32it/s]\n"
          ],
          "name": "stderr"
        },
        {
          "output_type": "stream",
          "text": [
            "Got section:  Genetics and evolution\n",
            "Got subsection:  Fossils and extinction \n"
          ],
          "name": "stdout"
        },
        {
          "output_type": "stream",
          "text": [
            "convert squad examples to features: 100%|██████████| 1/1 [00:00<00:00, 23.00it/s]\n",
            "add example index and unique id: 100%|██████████| 1/1 [00:00<00:00, 1902.18it/s]\n"
          ],
          "name": "stderr"
        },
        {
          "output_type": "stream",
          "text": [
            "Got section:  Genetics and evolution\n",
            "Got subsection:  Fossils and extinction \n"
          ],
          "name": "stdout"
        },
        {
          "output_type": "stream",
          "text": [
            "convert squad examples to features: 100%|██████████| 1/1 [00:00<00:00, 21.78it/s]\n",
            "add example index and unique id: 100%|██████████| 1/1 [00:00<00:00, 2924.90it/s]\n"
          ],
          "name": "stderr"
        },
        {
          "output_type": "stream",
          "text": [
            "Got section:  Genetics and evolution\n",
            "Got subsection:  Fossils and extinction \n"
          ],
          "name": "stdout"
        },
        {
          "output_type": "stream",
          "text": [
            "convert squad examples to features: 100%|██████████| 1/1 [00:00<00:00, 23.97it/s]\n",
            "add example index and unique id: 100%|██████████| 1/1 [00:00<00:00, 2375.03it/s]\n"
          ],
          "name": "stderr"
        },
        {
          "output_type": "stream",
          "text": [
            "Got section:  Preventing and treating disease\n",
            "Got subsection:  Discovering and developing drugs\n"
          ],
          "name": "stdout"
        },
        {
          "output_type": "stream",
          "text": [
            "convert squad examples to features: 100%|██████████| 1/1 [00:00<00:00, 10.30it/s]\n",
            "add example index and unique id: 100%|██████████| 1/1 [00:00<00:00, 6482.70it/s]\n"
          ],
          "name": "stderr"
        },
        {
          "output_type": "stream",
          "text": [
            "Got section:  Genetics and evolution\n",
            "Got subsection:  Fossils and extinction \n"
          ],
          "name": "stdout"
        },
        {
          "output_type": "stream",
          "text": [
            "convert squad examples to features: 100%|██████████| 1/1 [00:00<00:00, 22.74it/s]\n",
            "add example index and unique id: 100%|██████████| 1/1 [00:00<00:00, 4563.99it/s]\n"
          ],
          "name": "stderr"
        },
        {
          "output_type": "stream",
          "text": [
            "Got section:  Genetics and evolution\n",
            "Got subsection:  Fossils and extinction \n"
          ],
          "name": "stdout"
        },
        {
          "output_type": "stream",
          "text": [
            "convert squad examples to features: 100%|██████████| 1/1 [00:00<00:00, 25.08it/s]\n",
            "add example index and unique id: 100%|██████████| 1/1 [00:00<00:00, 3698.68it/s]\n"
          ],
          "name": "stderr"
        },
        {
          "output_type": "stream",
          "text": [
            "Got section:  Genetics and evolution\n",
            "Got subsection:  Classification\n"
          ],
          "name": "stdout"
        },
        {
          "output_type": "stream",
          "text": [
            "convert squad examples to features: 100%|██████████| 1/1 [00:00<00:00, 24.04it/s]\n",
            "add example index and unique id: 100%|██████████| 1/1 [00:00<00:00, 3218.96it/s]\n"
          ],
          "name": "stderr"
        },
        {
          "output_type": "stream",
          "text": [
            "Got section:  Genetics and evolution\n",
            "Got subsection:  Fossils and extinction \n"
          ],
          "name": "stdout"
        },
        {
          "output_type": "stream",
          "text": [
            "convert squad examples to features: 100%|██████████| 1/1 [00:00<00:00, 23.77it/s]\n",
            "add example index and unique id: 100%|██████████| 1/1 [00:00<00:00, 3382.50it/s]\n"
          ],
          "name": "stderr"
        },
        {
          "output_type": "stream",
          "text": [
            "Got section:  Genetics and evolution\n",
            "Got subsection:  Classification\n"
          ],
          "name": "stdout"
        },
        {
          "output_type": "stream",
          "text": [
            "convert squad examples to features: 100%|██████████| 1/1 [00:00<00:00, 26.26it/s]\n",
            "add example index and unique id: 100%|██████████| 1/1 [00:00<00:00, 2857.16it/s]\n"
          ],
          "name": "stderr"
        },
        {
          "output_type": "stream",
          "text": [
            "Got section:  Genetics and evolution\n",
            "Got subsection:  Fossils and extinction \n"
          ],
          "name": "stdout"
        },
        {
          "output_type": "stream",
          "text": [
            "convert squad examples to features: 100%|██████████| 1/1 [00:00<00:00, 22.72it/s]\n",
            "add example index and unique id: 100%|██████████| 1/1 [00:00<00:00, 2437.13it/s]\n"
          ],
          "name": "stderr"
        },
        {
          "output_type": "stream",
          "text": [
            "Got section:  Preventing and treating disease\n",
            "Got subsection:  Discovering and developing drugs\n"
          ],
          "name": "stdout"
        },
        {
          "output_type": "stream",
          "text": [
            "convert squad examples to features: 100%|██████████| 1/1 [00:00<00:00,  9.99it/s]\n",
            "add example index and unique id: 100%|██████████| 1/1 [00:00<00:00, 2108.75it/s]\n"
          ],
          "name": "stderr"
        },
        {
          "output_type": "stream",
          "text": [
            "Got section:  Genetics and evolution\n",
            "Got subsection:  Fossils and extinction \n"
          ],
          "name": "stdout"
        },
        {
          "output_type": "stream",
          "text": [
            "convert squad examples to features: 100%|██████████| 1/1 [00:00<00:00, 21.20it/s]\n",
            "add example index and unique id: 100%|██████████| 1/1 [00:00<00:00, 3715.06it/s]\n"
          ],
          "name": "stderr"
        },
        {
          "output_type": "stream",
          "text": [
            "Got section:  Preventing and treating disease\n",
            "Got subsection:  Discovering and developing drugs\n"
          ],
          "name": "stdout"
        },
        {
          "output_type": "stream",
          "text": [
            "convert squad examples to features: 100%|██████████| 1/1 [00:00<00:00,  9.98it/s]\n",
            "add example index and unique id: 100%|██████████| 1/1 [00:00<00:00, 2261.08it/s]\n"
          ],
          "name": "stderr"
        },
        {
          "output_type": "stream",
          "text": [
            "Got section:  Genetics and evolution\n",
            "Got subsection:  Fossils and extinction \n"
          ],
          "name": "stdout"
        },
        {
          "output_type": "stream",
          "text": [
            "convert squad examples to features: 100%|██████████| 1/1 [00:00<00:00, 22.34it/s]\n",
            "add example index and unique id: 100%|██████████| 1/1 [00:00<00:00, 2087.76it/s]\n"
          ],
          "name": "stderr"
        },
        {
          "output_type": "stream",
          "text": [
            "Got section:  Genetics and evolution\n",
            "Got subsection:  Fossils and extinction \n"
          ],
          "name": "stdout"
        },
        {
          "output_type": "stream",
          "text": [
            "convert squad examples to features: 100%|██████████| 1/1 [00:00<00:00, 22.47it/s]\n",
            "add example index and unique id: 100%|██████████| 1/1 [00:00<00:00, 1843.65it/s]\n"
          ],
          "name": "stderr"
        },
        {
          "output_type": "stream",
          "text": [
            "Got section:  Genetics and evolution\n",
            "Got subsection:  Classification\n"
          ],
          "name": "stdout"
        },
        {
          "output_type": "stream",
          "text": [
            "convert squad examples to features: 100%|██████████| 1/1 [00:00<00:00, 24.84it/s]\n",
            "add example index and unique id: 100%|██████████| 1/1 [00:00<00:00, 383.11it/s]\n"
          ],
          "name": "stderr"
        },
        {
          "output_type": "stream",
          "text": [
            "Got section:  Genetics and evolution\n",
            "Got subsection:  Fossils and extinction \n"
          ],
          "name": "stdout"
        },
        {
          "output_type": "stream",
          "text": [
            "convert squad examples to features: 100%|██████████| 1/1 [00:00<00:00, 18.41it/s]\n",
            "add example index and unique id: 100%|██████████| 1/1 [00:00<00:00, 2964.17it/s]\n"
          ],
          "name": "stderr"
        },
        {
          "output_type": "stream",
          "text": [
            "Got section:  Genetics and evolution\n",
            "Got subsection:  Fossils and extinction \n"
          ],
          "name": "stdout"
        },
        {
          "output_type": "stream",
          "text": [
            "convert squad examples to features: 100%|██████████| 1/1 [00:00<00:00, 22.61it/s]\n",
            "add example index and unique id: 100%|██████████| 1/1 [00:00<00:00, 2699.04it/s]\n"
          ],
          "name": "stderr"
        },
        {
          "output_type": "stream",
          "text": [
            "Got section:  Genetics and evolution\n",
            "Got subsection:  Fossils and extinction \n"
          ],
          "name": "stdout"
        },
        {
          "output_type": "stream",
          "text": [
            "convert squad examples to features: 100%|██████████| 1/1 [00:00<00:00, 23.12it/s]\n",
            "add example index and unique id: 100%|██████████| 1/1 [00:00<00:00, 2058.05it/s]\n"
          ],
          "name": "stderr"
        },
        {
          "output_type": "stream",
          "text": [
            "Got section:  Genetics and evolution\n",
            "Got subsection:  Fossils and extinction \n"
          ],
          "name": "stdout"
        },
        {
          "output_type": "stream",
          "text": [
            "convert squad examples to features: 100%|██████████| 1/1 [00:00<00:00, 24.49it/s]\n",
            "add example index and unique id: 100%|██████████| 1/1 [00:00<00:00, 3039.35it/s]\n"
          ],
          "name": "stderr"
        },
        {
          "output_type": "stream",
          "text": [
            "Got section:  Preventing and treating disease\n",
            "Got subsection:  Discovering and developing drugs\n"
          ],
          "name": "stdout"
        },
        {
          "output_type": "stream",
          "text": [
            "convert squad examples to features: 100%|██████████| 1/1 [00:00<00:00, 10.01it/s]\n",
            "add example index and unique id: 100%|██████████| 1/1 [00:00<00:00, 1723.21it/s]\n"
          ],
          "name": "stderr"
        },
        {
          "output_type": "stream",
          "text": [
            "Got section:  Genetics and evolution\n",
            "Got subsection:  Fossils and extinction \n"
          ],
          "name": "stdout"
        },
        {
          "output_type": "stream",
          "text": [
            "convert squad examples to features: 100%|██████████| 1/1 [00:00<00:00, 21.42it/s]\n",
            "add example index and unique id: 100%|██████████| 1/1 [00:00<00:00, 3799.19it/s]\n"
          ],
          "name": "stderr"
        },
        {
          "output_type": "stream",
          "text": [
            "Got section:  Preventing and treating disease\n",
            "Got subsection:  Discovering and developing drugs\n"
          ],
          "name": "stdout"
        },
        {
          "output_type": "stream",
          "text": [
            "convert squad examples to features: 100%|██████████| 1/1 [00:00<00:00, 10.44it/s]\n",
            "add example index and unique id: 100%|██████████| 1/1 [00:00<00:00, 3600.26it/s]\n"
          ],
          "name": "stderr"
        },
        {
          "output_type": "stream",
          "text": [
            "Got section:  Genetics and evolution\n",
            "Got subsection:  Fossils and extinction \n"
          ],
          "name": "stdout"
        },
        {
          "output_type": "stream",
          "text": [
            "convert squad examples to features: 100%|██████████| 1/1 [00:00<00:00, 23.51it/s]\n",
            "add example index and unique id: 100%|██████████| 1/1 [00:00<00:00, 2116.20it/s]\n"
          ],
          "name": "stderr"
        },
        {
          "output_type": "stream",
          "text": [
            "Got section:  Genetics and evolution\n",
            "Got subsection:  Fossils and extinction \n"
          ],
          "name": "stdout"
        },
        {
          "output_type": "stream",
          "text": [
            "convert squad examples to features: 100%|██████████| 1/1 [00:00<00:00, 21.76it/s]\n",
            "add example index and unique id: 100%|██████████| 1/1 [00:00<00:00, 472.38it/s]\n"
          ],
          "name": "stderr"
        },
        {
          "output_type": "stream",
          "text": [
            "Got section:  Genetics and evolution\n",
            "Got subsection:  Fossils and extinction \n"
          ],
          "name": "stdout"
        },
        {
          "output_type": "stream",
          "text": [
            "convert squad examples to features: 100%|██████████| 1/1 [00:00<00:00, 21.70it/s]\n",
            "add example index and unique id: 100%|██████████| 1/1 [00:00<00:00, 2528.21it/s]\n"
          ],
          "name": "stderr"
        },
        {
          "output_type": "stream",
          "text": [
            "Got section:  Preventing and treating disease\n",
            "Got subsection:  Discovering and developing drugs\n"
          ],
          "name": "stdout"
        },
        {
          "output_type": "stream",
          "text": [
            "convert squad examples to features: 100%|██████████| 1/1 [00:00<00:00, 10.30it/s]\n",
            "add example index and unique id: 100%|██████████| 1/1 [00:00<00:00, 4202.71it/s]\n"
          ],
          "name": "stderr"
        },
        {
          "output_type": "stream",
          "text": [
            "Got section:  Genetics and evolution\n",
            "Got subsection:  Fossils and extinction \n"
          ],
          "name": "stdout"
        },
        {
          "output_type": "stream",
          "text": [
            "convert squad examples to features: 100%|██████████| 1/1 [00:00<00:00, 23.69it/s]\n",
            "add example index and unique id: 100%|██████████| 1/1 [00:00<00:00, 3840.94it/s]\n"
          ],
          "name": "stderr"
        },
        {
          "output_type": "stream",
          "text": [
            "Got section:  Genetics and evolution\n",
            "Got subsection:  Fossils and extinction \n"
          ],
          "name": "stdout"
        },
        {
          "output_type": "stream",
          "text": [
            "convert squad examples to features: 100%|██████████| 1/1 [00:00<00:00, 22.44it/s]\n",
            "add example index and unique id: 100%|██████████| 1/1 [00:00<00:00, 3876.44it/s]\n"
          ],
          "name": "stderr"
        },
        {
          "output_type": "stream",
          "text": [
            "Got section:  Genetics and evolution\n",
            "Got subsection:  Fossils and extinction \n"
          ],
          "name": "stdout"
        },
        {
          "output_type": "stream",
          "text": [
            "convert squad examples to features: 100%|██████████| 1/1 [00:00<00:00, 21.03it/s]\n",
            "add example index and unique id: 100%|██████████| 1/1 [00:00<00:00, 3116.12it/s]\n"
          ],
          "name": "stderr"
        },
        {
          "output_type": "stream",
          "text": [
            "Got section:  Genetics and evolution\n",
            "Got subsection:  Fossils and extinction \n"
          ],
          "name": "stdout"
        },
        {
          "output_type": "stream",
          "text": [
            "convert squad examples to features: 100%|██████████| 1/1 [00:00<00:00, 23.08it/s]\n",
            "add example index and unique id: 100%|██████████| 1/1 [00:00<00:00, 2924.90it/s]\n"
          ],
          "name": "stderr"
        },
        {
          "output_type": "stream",
          "text": [
            "Got section:  Genetics and evolution\n",
            "Got subsection:  Fossils and extinction \n"
          ],
          "name": "stdout"
        },
        {
          "output_type": "stream",
          "text": [
            "convert squad examples to features: 100%|██████████| 1/1 [00:00<00:00, 24.09it/s]\n",
            "add example index and unique id: 100%|██████████| 1/1 [00:00<00:00, 3429.52it/s]\n"
          ],
          "name": "stderr"
        },
        {
          "output_type": "stream",
          "text": [
            "Got section:  Genetics and evolution\n",
            "Got subsection:  Fossils and extinction \n"
          ],
          "name": "stdout"
        },
        {
          "output_type": "stream",
          "text": [
            "convert squad examples to features: 100%|██████████| 1/1 [00:00<00:00, 20.36it/s]\n",
            "add example index and unique id: 100%|██████████| 1/1 [00:00<00:00, 2461.45it/s]\n"
          ],
          "name": "stderr"
        },
        {
          "output_type": "stream",
          "text": [
            "Got section:  Genetics and evolution\n",
            "Got subsection:  Fossils and extinction \n"
          ],
          "name": "stdout"
        },
        {
          "output_type": "stream",
          "text": [
            "convert squad examples to features: 100%|██████████| 1/1 [00:00<00:00, 22.75it/s]\n",
            "add example index and unique id: 100%|██████████| 1/1 [00:00<00:00, 1952.66it/s]\n"
          ],
          "name": "stderr"
        },
        {
          "output_type": "stream",
          "text": [
            "Got section:  Preventing and treating disease\n",
            "Got subsection:  Discovering and developing drugs\n"
          ],
          "name": "stdout"
        },
        {
          "output_type": "stream",
          "text": [
            "convert squad examples to features: 100%|██████████| 1/1 [00:00<00:00, 10.26it/s]\n",
            "add example index and unique id: 100%|██████████| 1/1 [00:00<00:00, 1808.67it/s]\n"
          ],
          "name": "stderr"
        },
        {
          "output_type": "stream",
          "text": [
            "Got section:  Genetics and evolution\n",
            "Got subsection:  Fossils and extinction \n"
          ],
          "name": "stdout"
        },
        {
          "output_type": "stream",
          "text": [
            "convert squad examples to features: 100%|██████████| 1/1 [00:00<00:00, 22.57it/s]\n",
            "add example index and unique id: 100%|██████████| 1/1 [00:00<00:00, 535.81it/s]\n"
          ],
          "name": "stderr"
        },
        {
          "output_type": "stream",
          "text": [
            "Got section:  Genetics and evolution\n",
            "Got subsection:  Fossils and extinction \n"
          ],
          "name": "stdout"
        },
        {
          "output_type": "stream",
          "text": [
            "convert squad examples to features: 100%|██████████| 1/1 [00:00<00:00, 22.73it/s]\n",
            "add example index and unique id: 100%|██████████| 1/1 [00:00<00:00, 3927.25it/s]\n"
          ],
          "name": "stderr"
        },
        {
          "output_type": "stream",
          "text": [
            "Got section:  Genetics and evolution\n",
            "Got subsection:  Classification\n"
          ],
          "name": "stdout"
        },
        {
          "output_type": "stream",
          "text": [
            "convert squad examples to features: 100%|██████████| 1/1 [00:00<00:00, 23.43it/s]\n",
            "add example index and unique id: 100%|██████████| 1/1 [00:00<00:00, 4006.02it/s]\n"
          ],
          "name": "stderr"
        },
        {
          "output_type": "stream",
          "text": [
            "Got section:  Genetics and evolution\n",
            "Got subsection:  Fossils and extinction \n"
          ],
          "name": "stdout"
        },
        {
          "output_type": "stream",
          "text": [
            "convert squad examples to features: 100%|██████████| 1/1 [00:00<00:00, 22.94it/s]\n",
            "add example index and unique id: 100%|██████████| 1/1 [00:00<00:00, 2577.94it/s]\n"
          ],
          "name": "stderr"
        },
        {
          "output_type": "stream",
          "text": [
            "Got section:  Genetics and evolution\n",
            "Got subsection:  Fossils and extinction \n"
          ],
          "name": "stdout"
        },
        {
          "output_type": "stream",
          "text": [
            "convert squad examples to features: 100%|██████████| 1/1 [00:00<00:00, 23.13it/s]\n",
            "add example index and unique id: 100%|██████████| 1/1 [00:00<00:00, 2661.36it/s]\n"
          ],
          "name": "stderr"
        },
        {
          "output_type": "stream",
          "text": [
            "Got section:  Genetics and evolution\n",
            "Got subsection:  Fossils and extinction \n"
          ],
          "name": "stdout"
        },
        {
          "output_type": "stream",
          "text": [
            "convert squad examples to features: 100%|██████████| 1/1 [00:00<00:00, 22.65it/s]\n",
            "add example index and unique id: 100%|██████████| 1/1 [00:00<00:00, 3584.88it/s]\n"
          ],
          "name": "stderr"
        },
        {
          "output_type": "stream",
          "text": [
            "Got section:  Genetics and evolution\n",
            "Got subsection:  Fossils and extinction \n"
          ],
          "name": "stdout"
        },
        {
          "output_type": "stream",
          "text": [
            "convert squad examples to features: 100%|██████████| 1/1 [00:00<00:00, 20.01it/s]\n",
            "add example index and unique id: 100%|██████████| 1/1 [00:00<00:00, 1069.98it/s]\n"
          ],
          "name": "stderr"
        },
        {
          "output_type": "stream",
          "text": [
            "Got section:  Cell Strucuture and transport\n",
            "Got subsection:  Animal and plant cells\n"
          ],
          "name": "stdout"
        },
        {
          "output_type": "stream",
          "text": [
            "convert squad examples to features: 100%|██████████| 1/1 [00:00<00:00, 25.80it/s]\n",
            "add example index and unique id: 100%|██████████| 1/1 [00:00<00:00, 2910.69it/s]\n"
          ],
          "name": "stderr"
        },
        {
          "output_type": "stream",
          "text": [
            "Got section:  Preventing and treating disease\n",
            "Got subsection:  Discovering and developing drugs\n"
          ],
          "name": "stdout"
        },
        {
          "output_type": "stream",
          "text": [
            "convert squad examples to features: 100%|██████████| 1/1 [00:00<00:00,  9.18it/s]\n",
            "add example index and unique id: 100%|██████████| 1/1 [00:00<00:00, 2511.56it/s]\n"
          ],
          "name": "stderr"
        },
        {
          "output_type": "stream",
          "text": [
            "Got section:  Genetics and evolution\n",
            "Got subsection:  Classification\n"
          ],
          "name": "stdout"
        },
        {
          "output_type": "stream",
          "text": [
            "convert squad examples to features: 100%|██████████| 1/1 [00:00<00:00, 22.39it/s]\n",
            "add example index and unique id: 100%|██████████| 1/1 [00:00<00:00, 4809.98it/s]\n"
          ],
          "name": "stderr"
        },
        {
          "output_type": "stream",
          "text": [
            "83.853301905\n"
          ],
          "name": "stdout"
        }
      ]
    },
    {
      "cell_type": "code",
      "metadata": {
        "id": "IvCc9pYDovqt",
        "colab_type": "code",
        "colab": {}
      },
      "source": [
        "final_test_df.to_csv(\"drive/My Drive/Layer 1 Models/Final_Test_Set_answered.csv\")"
      ],
      "execution_count": 0,
      "outputs": []
    },
    {
      "cell_type": "code",
      "metadata": {
        "id": "SgGACsfeyESF",
        "colab_type": "code",
        "colab": {}
      },
      "source": [
        ""
      ],
      "execution_count": 0,
      "outputs": []
    }
  ]
}
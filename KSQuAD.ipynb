{
  "nbformat": 4,
  "nbformat_minor": 0,
  "metadata": {
    "colab": {
      "name": "KSQuAD.ipynb",
      "provenance": [],
      "collapsed_sections": []
    },
    "kernelspec": {
      "name": "python3",
      "display_name": "Python 3"
    },
    "accelerator": "GPU",
    "widgets": {
      "application/vnd.jupyter.widget-state+json": {
        "13f5c5f0b82d4270aed7a16a95a8fa58": {
          "model_module": "@jupyter-widgets/controls",
          "model_name": "HBoxModel",
          "state": {
            "_view_name": "HBoxView",
            "_dom_classes": [],
            "_model_name": "HBoxModel",
            "_view_module": "@jupyter-widgets/controls",
            "_model_module_version": "1.5.0",
            "_view_count": null,
            "_view_module_version": "1.5.0",
            "box_style": "",
            "layout": "IPY_MODEL_20b99ff8a87d414b995a650142856032",
            "_model_module": "@jupyter-widgets/controls",
            "children": [
              "IPY_MODEL_57123a100baf47608425bb37407494ea",
              "IPY_MODEL_ad6c8aba4d8045b8a09ae206d57e6df7"
            ]
          }
        },
        "20b99ff8a87d414b995a650142856032": {
          "model_module": "@jupyter-widgets/base",
          "model_name": "LayoutModel",
          "state": {
            "_view_name": "LayoutView",
            "grid_template_rows": null,
            "right": null,
            "justify_content": null,
            "_view_module": "@jupyter-widgets/base",
            "overflow": null,
            "_model_module_version": "1.2.0",
            "_view_count": null,
            "flex_flow": null,
            "width": null,
            "min_width": null,
            "border": null,
            "align_items": null,
            "bottom": null,
            "_model_module": "@jupyter-widgets/base",
            "top": null,
            "grid_column": null,
            "overflow_y": null,
            "overflow_x": null,
            "grid_auto_flow": null,
            "grid_area": null,
            "grid_template_columns": null,
            "flex": null,
            "_model_name": "LayoutModel",
            "justify_items": null,
            "grid_row": null,
            "max_height": null,
            "align_content": null,
            "visibility": null,
            "align_self": null,
            "height": null,
            "min_height": null,
            "padding": null,
            "grid_auto_rows": null,
            "grid_gap": null,
            "max_width": null,
            "order": null,
            "_view_module_version": "1.2.0",
            "grid_template_areas": null,
            "object_position": null,
            "object_fit": null,
            "grid_auto_columns": null,
            "margin": null,
            "display": null,
            "left": null
          }
        },
        "57123a100baf47608425bb37407494ea": {
          "model_module": "@jupyter-widgets/controls",
          "model_name": "IntProgressModel",
          "state": {
            "_view_name": "ProgressView",
            "style": "IPY_MODEL_a8c52de67a2547d09c440790564ddb64",
            "_dom_classes": [],
            "description": "100%",
            "_model_name": "IntProgressModel",
            "bar_style": "success",
            "max": 3,
            "_view_module": "@jupyter-widgets/controls",
            "_model_module_version": "1.5.0",
            "value": 3,
            "_view_count": null,
            "_view_module_version": "1.5.0",
            "orientation": "horizontal",
            "min": 0,
            "description_tooltip": null,
            "_model_module": "@jupyter-widgets/controls",
            "layout": "IPY_MODEL_d5c7dca34a244b4db5d27e5e0858bd5a"
          }
        },
        "ad6c8aba4d8045b8a09ae206d57e6df7": {
          "model_module": "@jupyter-widgets/controls",
          "model_name": "HTMLModel",
          "state": {
            "_view_name": "HTMLView",
            "style": "IPY_MODEL_e7639cf992e04eaf9a8ee0ac2348f129",
            "_dom_classes": [],
            "description": "",
            "_model_name": "HTMLModel",
            "placeholder": "​",
            "_view_module": "@jupyter-widgets/controls",
            "_model_module_version": "1.5.0",
            "value": " 3/3 [20:21&lt;00:00, 407.09s/it]",
            "_view_count": null,
            "_view_module_version": "1.5.0",
            "description_tooltip": null,
            "_model_module": "@jupyter-widgets/controls",
            "layout": "IPY_MODEL_0a0bdf2cc9d940d7a79f2b837bea2432"
          }
        },
        "a8c52de67a2547d09c440790564ddb64": {
          "model_module": "@jupyter-widgets/controls",
          "model_name": "ProgressStyleModel",
          "state": {
            "_view_name": "StyleView",
            "_model_name": "ProgressStyleModel",
            "description_width": "initial",
            "_view_module": "@jupyter-widgets/base",
            "_model_module_version": "1.5.0",
            "_view_count": null,
            "_view_module_version": "1.2.0",
            "bar_color": null,
            "_model_module": "@jupyter-widgets/controls"
          }
        },
        "d5c7dca34a244b4db5d27e5e0858bd5a": {
          "model_module": "@jupyter-widgets/base",
          "model_name": "LayoutModel",
          "state": {
            "_view_name": "LayoutView",
            "grid_template_rows": null,
            "right": null,
            "justify_content": null,
            "_view_module": "@jupyter-widgets/base",
            "overflow": null,
            "_model_module_version": "1.2.0",
            "_view_count": null,
            "flex_flow": null,
            "width": null,
            "min_width": null,
            "border": null,
            "align_items": null,
            "bottom": null,
            "_model_module": "@jupyter-widgets/base",
            "top": null,
            "grid_column": null,
            "overflow_y": null,
            "overflow_x": null,
            "grid_auto_flow": null,
            "grid_area": null,
            "grid_template_columns": null,
            "flex": null,
            "_model_name": "LayoutModel",
            "justify_items": null,
            "grid_row": null,
            "max_height": null,
            "align_content": null,
            "visibility": null,
            "align_self": null,
            "height": null,
            "min_height": null,
            "padding": null,
            "grid_auto_rows": null,
            "grid_gap": null,
            "max_width": null,
            "order": null,
            "_view_module_version": "1.2.0",
            "grid_template_areas": null,
            "object_position": null,
            "object_fit": null,
            "grid_auto_columns": null,
            "margin": null,
            "display": null,
            "left": null
          }
        },
        "e7639cf992e04eaf9a8ee0ac2348f129": {
          "model_module": "@jupyter-widgets/controls",
          "model_name": "DescriptionStyleModel",
          "state": {
            "_view_name": "StyleView",
            "_model_name": "DescriptionStyleModel",
            "description_width": "",
            "_view_module": "@jupyter-widgets/base",
            "_model_module_version": "1.5.0",
            "_view_count": null,
            "_view_module_version": "1.2.0",
            "_model_module": "@jupyter-widgets/controls"
          }
        },
        "0a0bdf2cc9d940d7a79f2b837bea2432": {
          "model_module": "@jupyter-widgets/base",
          "model_name": "LayoutModel",
          "state": {
            "_view_name": "LayoutView",
            "grid_template_rows": null,
            "right": null,
            "justify_content": null,
            "_view_module": "@jupyter-widgets/base",
            "overflow": null,
            "_model_module_version": "1.2.0",
            "_view_count": null,
            "flex_flow": null,
            "width": null,
            "min_width": null,
            "border": null,
            "align_items": null,
            "bottom": null,
            "_model_module": "@jupyter-widgets/base",
            "top": null,
            "grid_column": null,
            "overflow_y": null,
            "overflow_x": null,
            "grid_auto_flow": null,
            "grid_area": null,
            "grid_template_columns": null,
            "flex": null,
            "_model_name": "LayoutModel",
            "justify_items": null,
            "grid_row": null,
            "max_height": null,
            "align_content": null,
            "visibility": null,
            "align_self": null,
            "height": null,
            "min_height": null,
            "padding": null,
            "grid_auto_rows": null,
            "grid_gap": null,
            "max_width": null,
            "order": null,
            "_view_module_version": "1.2.0",
            "grid_template_areas": null,
            "object_position": null,
            "object_fit": null,
            "grid_auto_columns": null,
            "margin": null,
            "display": null,
            "left": null
          }
        },
        "1bd64bd5ec4143248f960796b70b428a": {
          "model_module": "@jupyter-widgets/controls",
          "model_name": "HBoxModel",
          "state": {
            "_view_name": "HBoxView",
            "_dom_classes": [],
            "_model_name": "HBoxModel",
            "_view_module": "@jupyter-widgets/controls",
            "_model_module_version": "1.5.0",
            "_view_count": null,
            "_view_module_version": "1.5.0",
            "box_style": "",
            "layout": "IPY_MODEL_ecbe43bfd5814c838c7c15046ac1443b",
            "_model_module": "@jupyter-widgets/controls",
            "children": [
              "IPY_MODEL_c7cc04bd625c4bb19c14c1a394456f09",
              "IPY_MODEL_cef793f45e104459a9f75e70af746092"
            ]
          }
        },
        "ecbe43bfd5814c838c7c15046ac1443b": {
          "model_module": "@jupyter-widgets/base",
          "model_name": "LayoutModel",
          "state": {
            "_view_name": "LayoutView",
            "grid_template_rows": null,
            "right": null,
            "justify_content": null,
            "_view_module": "@jupyter-widgets/base",
            "overflow": null,
            "_model_module_version": "1.2.0",
            "_view_count": null,
            "flex_flow": null,
            "width": null,
            "min_width": null,
            "border": null,
            "align_items": null,
            "bottom": null,
            "_model_module": "@jupyter-widgets/base",
            "top": null,
            "grid_column": null,
            "overflow_y": null,
            "overflow_x": null,
            "grid_auto_flow": null,
            "grid_area": null,
            "grid_template_columns": null,
            "flex": null,
            "_model_name": "LayoutModel",
            "justify_items": null,
            "grid_row": null,
            "max_height": null,
            "align_content": null,
            "visibility": null,
            "align_self": null,
            "height": null,
            "min_height": null,
            "padding": null,
            "grid_auto_rows": null,
            "grid_gap": null,
            "max_width": null,
            "order": null,
            "_view_module_version": "1.2.0",
            "grid_template_areas": null,
            "object_position": null,
            "object_fit": null,
            "grid_auto_columns": null,
            "margin": null,
            "display": null,
            "left": null
          }
        },
        "c7cc04bd625c4bb19c14c1a394456f09": {
          "model_module": "@jupyter-widgets/controls",
          "model_name": "IntProgressModel",
          "state": {
            "_view_name": "ProgressView",
            "style": "IPY_MODEL_c1b2472a27b84e5dad59b9d8207de4eb",
            "_dom_classes": [],
            "description": "100%",
            "_model_name": "IntProgressModel",
            "bar_style": "success",
            "max": 3,
            "_view_module": "@jupyter-widgets/controls",
            "_model_module_version": "1.5.0",
            "value": 3,
            "_view_count": null,
            "_view_module_version": "1.5.0",
            "orientation": "horizontal",
            "min": 0,
            "description_tooltip": null,
            "_model_module": "@jupyter-widgets/controls",
            "layout": "IPY_MODEL_6e8b0f344d2f4cea85b21abeb483b86d"
          }
        },
        "cef793f45e104459a9f75e70af746092": {
          "model_module": "@jupyter-widgets/controls",
          "model_name": "HTMLModel",
          "state": {
            "_view_name": "HTMLView",
            "style": "IPY_MODEL_b933ebe6d2314f24bca961d7869d09cc",
            "_dom_classes": [],
            "description": "",
            "_model_name": "HTMLModel",
            "placeholder": "​",
            "_view_module": "@jupyter-widgets/controls",
            "_model_module_version": "1.5.0",
            "value": " 3/3 [08:42&lt;00:00, 174.23s/it]",
            "_view_count": null,
            "_view_module_version": "1.5.0",
            "description_tooltip": null,
            "_model_module": "@jupyter-widgets/controls",
            "layout": "IPY_MODEL_54a9a91bd29b412fa175de5e47097d38"
          }
        },
        "c1b2472a27b84e5dad59b9d8207de4eb": {
          "model_module": "@jupyter-widgets/controls",
          "model_name": "ProgressStyleModel",
          "state": {
            "_view_name": "StyleView",
            "_model_name": "ProgressStyleModel",
            "description_width": "initial",
            "_view_module": "@jupyter-widgets/base",
            "_model_module_version": "1.5.0",
            "_view_count": null,
            "_view_module_version": "1.2.0",
            "bar_color": null,
            "_model_module": "@jupyter-widgets/controls"
          }
        },
        "6e8b0f344d2f4cea85b21abeb483b86d": {
          "model_module": "@jupyter-widgets/base",
          "model_name": "LayoutModel",
          "state": {
            "_view_name": "LayoutView",
            "grid_template_rows": null,
            "right": null,
            "justify_content": null,
            "_view_module": "@jupyter-widgets/base",
            "overflow": null,
            "_model_module_version": "1.2.0",
            "_view_count": null,
            "flex_flow": null,
            "width": null,
            "min_width": null,
            "border": null,
            "align_items": null,
            "bottom": null,
            "_model_module": "@jupyter-widgets/base",
            "top": null,
            "grid_column": null,
            "overflow_y": null,
            "overflow_x": null,
            "grid_auto_flow": null,
            "grid_area": null,
            "grid_template_columns": null,
            "flex": null,
            "_model_name": "LayoutModel",
            "justify_items": null,
            "grid_row": null,
            "max_height": null,
            "align_content": null,
            "visibility": null,
            "align_self": null,
            "height": null,
            "min_height": null,
            "padding": null,
            "grid_auto_rows": null,
            "grid_gap": null,
            "max_width": null,
            "order": null,
            "_view_module_version": "1.2.0",
            "grid_template_areas": null,
            "object_position": null,
            "object_fit": null,
            "grid_auto_columns": null,
            "margin": null,
            "display": null,
            "left": null
          }
        },
        "b933ebe6d2314f24bca961d7869d09cc": {
          "model_module": "@jupyter-widgets/controls",
          "model_name": "DescriptionStyleModel",
          "state": {
            "_view_name": "StyleView",
            "_model_name": "DescriptionStyleModel",
            "description_width": "",
            "_view_module": "@jupyter-widgets/base",
            "_model_module_version": "1.5.0",
            "_view_count": null,
            "_view_module_version": "1.2.0",
            "_model_module": "@jupyter-widgets/controls"
          }
        },
        "54a9a91bd29b412fa175de5e47097d38": {
          "model_module": "@jupyter-widgets/base",
          "model_name": "LayoutModel",
          "state": {
            "_view_name": "LayoutView",
            "grid_template_rows": null,
            "right": null,
            "justify_content": null,
            "_view_module": "@jupyter-widgets/base",
            "overflow": null,
            "_model_module_version": "1.2.0",
            "_view_count": null,
            "flex_flow": null,
            "width": null,
            "min_width": null,
            "border": null,
            "align_items": null,
            "bottom": null,
            "_model_module": "@jupyter-widgets/base",
            "top": null,
            "grid_column": null,
            "overflow_y": null,
            "overflow_x": null,
            "grid_auto_flow": null,
            "grid_area": null,
            "grid_template_columns": null,
            "flex": null,
            "_model_name": "LayoutModel",
            "justify_items": null,
            "grid_row": null,
            "max_height": null,
            "align_content": null,
            "visibility": null,
            "align_self": null,
            "height": null,
            "min_height": null,
            "padding": null,
            "grid_auto_rows": null,
            "grid_gap": null,
            "max_width": null,
            "order": null,
            "_view_module_version": "1.2.0",
            "grid_template_areas": null,
            "object_position": null,
            "object_fit": null,
            "grid_auto_columns": null,
            "margin": null,
            "display": null,
            "left": null
          }
        },
        "e2d9306a9cac4310a6a85ab0ed9f5f38": {
          "model_module": "@jupyter-widgets/controls",
          "model_name": "HBoxModel",
          "state": {
            "_view_name": "HBoxView",
            "_dom_classes": [],
            "_model_name": "HBoxModel",
            "_view_module": "@jupyter-widgets/controls",
            "_model_module_version": "1.5.0",
            "_view_count": null,
            "_view_module_version": "1.5.0",
            "box_style": "",
            "layout": "IPY_MODEL_b7d22cbd96b44ba1b75f9fcda58c6858",
            "_model_module": "@jupyter-widgets/controls",
            "children": [
              "IPY_MODEL_9f447e6ce94943ce8ccaff22c9d16f08",
              "IPY_MODEL_b57fb33ffd61461881798ebd8de66dc6"
            ]
          }
        },
        "b7d22cbd96b44ba1b75f9fcda58c6858": {
          "model_module": "@jupyter-widgets/base",
          "model_name": "LayoutModel",
          "state": {
            "_view_name": "LayoutView",
            "grid_template_rows": null,
            "right": null,
            "justify_content": null,
            "_view_module": "@jupyter-widgets/base",
            "overflow": null,
            "_model_module_version": "1.2.0",
            "_view_count": null,
            "flex_flow": null,
            "width": null,
            "min_width": null,
            "border": null,
            "align_items": null,
            "bottom": null,
            "_model_module": "@jupyter-widgets/base",
            "top": null,
            "grid_column": null,
            "overflow_y": null,
            "overflow_x": null,
            "grid_auto_flow": null,
            "grid_area": null,
            "grid_template_columns": null,
            "flex": null,
            "_model_name": "LayoutModel",
            "justify_items": null,
            "grid_row": null,
            "max_height": null,
            "align_content": null,
            "visibility": null,
            "align_self": null,
            "height": null,
            "min_height": null,
            "padding": null,
            "grid_auto_rows": null,
            "grid_gap": null,
            "max_width": null,
            "order": null,
            "_view_module_version": "1.2.0",
            "grid_template_areas": null,
            "object_position": null,
            "object_fit": null,
            "grid_auto_columns": null,
            "margin": null,
            "display": null,
            "left": null
          }
        },
        "9f447e6ce94943ce8ccaff22c9d16f08": {
          "model_module": "@jupyter-widgets/controls",
          "model_name": "IntProgressModel",
          "state": {
            "_view_name": "ProgressView",
            "style": "IPY_MODEL_1defe238092b40f1b19b893bf9ac8c76",
            "_dom_classes": [],
            "description": "  0%",
            "_model_name": "IntProgressModel",
            "bar_style": "danger",
            "max": 3,
            "_view_module": "@jupyter-widgets/controls",
            "_model_module_version": "1.5.0",
            "value": 0,
            "_view_count": null,
            "_view_module_version": "1.5.0",
            "orientation": "horizontal",
            "min": 0,
            "description_tooltip": null,
            "_model_module": "@jupyter-widgets/controls",
            "layout": "IPY_MODEL_7470fb1b888b474d801b517c3885aa98"
          }
        },
        "b57fb33ffd61461881798ebd8de66dc6": {
          "model_module": "@jupyter-widgets/controls",
          "model_name": "HTMLModel",
          "state": {
            "_view_name": "HTMLView",
            "style": "IPY_MODEL_720cc1641d5a4e56b49a21953424166e",
            "_dom_classes": [],
            "description": "",
            "_model_name": "HTMLModel",
            "placeholder": "​",
            "_view_module": "@jupyter-widgets/controls",
            "_model_module_version": "1.5.0",
            "value": " 0/3 [00:00&lt;?, ?it/s]",
            "_view_count": null,
            "_view_module_version": "1.5.0",
            "description_tooltip": null,
            "_model_module": "@jupyter-widgets/controls",
            "layout": "IPY_MODEL_dc614e9c481b4c1789c3763859a776ea"
          }
        },
        "1defe238092b40f1b19b893bf9ac8c76": {
          "model_module": "@jupyter-widgets/controls",
          "model_name": "ProgressStyleModel",
          "state": {
            "_view_name": "StyleView",
            "_model_name": "ProgressStyleModel",
            "description_width": "initial",
            "_view_module": "@jupyter-widgets/base",
            "_model_module_version": "1.5.0",
            "_view_count": null,
            "_view_module_version": "1.2.0",
            "bar_color": null,
            "_model_module": "@jupyter-widgets/controls"
          }
        },
        "7470fb1b888b474d801b517c3885aa98": {
          "model_module": "@jupyter-widgets/base",
          "model_name": "LayoutModel",
          "state": {
            "_view_name": "LayoutView",
            "grid_template_rows": null,
            "right": null,
            "justify_content": null,
            "_view_module": "@jupyter-widgets/base",
            "overflow": null,
            "_model_module_version": "1.2.0",
            "_view_count": null,
            "flex_flow": null,
            "width": null,
            "min_width": null,
            "border": null,
            "align_items": null,
            "bottom": null,
            "_model_module": "@jupyter-widgets/base",
            "top": null,
            "grid_column": null,
            "overflow_y": null,
            "overflow_x": null,
            "grid_auto_flow": null,
            "grid_area": null,
            "grid_template_columns": null,
            "flex": null,
            "_model_name": "LayoutModel",
            "justify_items": null,
            "grid_row": null,
            "max_height": null,
            "align_content": null,
            "visibility": null,
            "align_self": null,
            "height": null,
            "min_height": null,
            "padding": null,
            "grid_auto_rows": null,
            "grid_gap": null,
            "max_width": null,
            "order": null,
            "_view_module_version": "1.2.0",
            "grid_template_areas": null,
            "object_position": null,
            "object_fit": null,
            "grid_auto_columns": null,
            "margin": null,
            "display": null,
            "left": null
          }
        },
        "720cc1641d5a4e56b49a21953424166e": {
          "model_module": "@jupyter-widgets/controls",
          "model_name": "DescriptionStyleModel",
          "state": {
            "_view_name": "StyleView",
            "_model_name": "DescriptionStyleModel",
            "description_width": "",
            "_view_module": "@jupyter-widgets/base",
            "_model_module_version": "1.5.0",
            "_view_count": null,
            "_view_module_version": "1.2.0",
            "_model_module": "@jupyter-widgets/controls"
          }
        },
        "dc614e9c481b4c1789c3763859a776ea": {
          "model_module": "@jupyter-widgets/base",
          "model_name": "LayoutModel",
          "state": {
            "_view_name": "LayoutView",
            "grid_template_rows": null,
            "right": null,
            "justify_content": null,
            "_view_module": "@jupyter-widgets/base",
            "overflow": null,
            "_model_module_version": "1.2.0",
            "_view_count": null,
            "flex_flow": null,
            "width": null,
            "min_width": null,
            "border": null,
            "align_items": null,
            "bottom": null,
            "_model_module": "@jupyter-widgets/base",
            "top": null,
            "grid_column": null,
            "overflow_y": null,
            "overflow_x": null,
            "grid_auto_flow": null,
            "grid_area": null,
            "grid_template_columns": null,
            "flex": null,
            "_model_name": "LayoutModel",
            "justify_items": null,
            "grid_row": null,
            "max_height": null,
            "align_content": null,
            "visibility": null,
            "align_self": null,
            "height": null,
            "min_height": null,
            "padding": null,
            "grid_auto_rows": null,
            "grid_gap": null,
            "max_width": null,
            "order": null,
            "_view_module_version": "1.2.0",
            "grid_template_areas": null,
            "object_position": null,
            "object_fit": null,
            "grid_auto_columns": null,
            "margin": null,
            "display": null,
            "left": null
          }
        }
      }
    }
  },
  "cells": [
    {
      "cell_type": "code",
      "metadata": {
        "id": "beYjXdAyuD78",
        "colab_type": "code",
        "outputId": "d5c91fe4-7438-4931-c19c-8c1668dd5eaa",
        "colab": {
          "base_uri": "https://localhost:8080/",
          "height": 730
        }
      },
      "source": [
        "pip install torch torchvision transformers"
      ],
      "execution_count": 1,
      "outputs": [
        {
          "output_type": "stream",
          "text": [
            "Requirement already satisfied: torch in /usr/local/lib/python3.6/dist-packages (1.4.0)\n",
            "Requirement already satisfied: torchvision in /usr/local/lib/python3.6/dist-packages (0.5.0)\n",
            "Collecting transformers\n",
            "\u001b[?25l  Downloading https://files.pythonhosted.org/packages/13/33/ffb67897a6985a7b7d8e5e7878c3628678f553634bd3836404fef06ef19b/transformers-2.5.1-py3-none-any.whl (499kB)\n",
            "\u001b[K     |████████████████████████████████| 501kB 6.9MB/s \n",
            "\u001b[?25hRequirement already satisfied: numpy in /usr/local/lib/python3.6/dist-packages (from torchvision) (1.18.2)\n",
            "Requirement already satisfied: six in /usr/local/lib/python3.6/dist-packages (from torchvision) (1.12.0)\n",
            "Requirement already satisfied: pillow>=4.1.1 in /usr/local/lib/python3.6/dist-packages (from torchvision) (7.0.0)\n",
            "Requirement already satisfied: filelock in /usr/local/lib/python3.6/dist-packages (from transformers) (3.0.12)\n",
            "Requirement already satisfied: tqdm>=4.27 in /usr/local/lib/python3.6/dist-packages (from transformers) (4.38.0)\n",
            "Collecting sacremoses\n",
            "\u001b[?25l  Downloading https://files.pythonhosted.org/packages/a6/b4/7a41d630547a4afd58143597d5a49e07bfd4c42914d8335b2a5657efc14b/sacremoses-0.0.38.tar.gz (860kB)\n",
            "\u001b[K     |████████████████████████████████| 870kB 15.9MB/s \n",
            "\u001b[?25hRequirement already satisfied: boto3 in /usr/local/lib/python3.6/dist-packages (from transformers) (1.12.23)\n",
            "Collecting sentencepiece\n",
            "\u001b[?25l  Downloading https://files.pythonhosted.org/packages/74/f4/2d5214cbf13d06e7cb2c20d84115ca25b53ea76fa1f0ade0e3c9749de214/sentencepiece-0.1.85-cp36-cp36m-manylinux1_x86_64.whl (1.0MB)\n",
            "\u001b[K     |████████████████████████████████| 1.0MB 30.1MB/s \n",
            "\u001b[?25hRequirement already satisfied: requests in /usr/local/lib/python3.6/dist-packages (from transformers) (2.21.0)\n",
            "Requirement already satisfied: regex!=2019.12.17 in /usr/local/lib/python3.6/dist-packages (from transformers) (2019.12.20)\n",
            "Collecting tokenizers==0.5.2\n",
            "\u001b[?25l  Downloading https://files.pythonhosted.org/packages/d1/3f/73c881ea4723e43c1e9acf317cf407fab3a278daab3a69c98dcac511c04f/tokenizers-0.5.2-cp36-cp36m-manylinux1_x86_64.whl (3.7MB)\n",
            "\u001b[K     |████████████████████████████████| 3.7MB 46.4MB/s \n",
            "\u001b[?25hRequirement already satisfied: click in /usr/local/lib/python3.6/dist-packages (from sacremoses->transformers) (7.1.1)\n",
            "Requirement already satisfied: joblib in /usr/local/lib/python3.6/dist-packages (from sacremoses->transformers) (0.14.1)\n",
            "Requirement already satisfied: jmespath<1.0.0,>=0.7.1 in /usr/local/lib/python3.6/dist-packages (from boto3->transformers) (0.9.5)\n",
            "Requirement already satisfied: botocore<1.16.0,>=1.15.23 in /usr/local/lib/python3.6/dist-packages (from boto3->transformers) (1.15.23)\n",
            "Requirement already satisfied: s3transfer<0.4.0,>=0.3.0 in /usr/local/lib/python3.6/dist-packages (from boto3->transformers) (0.3.3)\n",
            "Requirement already satisfied: idna<2.9,>=2.5 in /usr/local/lib/python3.6/dist-packages (from requests->transformers) (2.8)\n",
            "Requirement already satisfied: urllib3<1.25,>=1.21.1 in /usr/local/lib/python3.6/dist-packages (from requests->transformers) (1.24.3)\n",
            "Requirement already satisfied: certifi>=2017.4.17 in /usr/local/lib/python3.6/dist-packages (from requests->transformers) (2019.11.28)\n",
            "Requirement already satisfied: chardet<3.1.0,>=3.0.2 in /usr/local/lib/python3.6/dist-packages (from requests->transformers) (3.0.4)\n",
            "Requirement already satisfied: python-dateutil<3.0.0,>=2.1 in /usr/local/lib/python3.6/dist-packages (from botocore<1.16.0,>=1.15.23->boto3->transformers) (2.8.1)\n",
            "Requirement already satisfied: docutils<0.16,>=0.10 in /usr/local/lib/python3.6/dist-packages (from botocore<1.16.0,>=1.15.23->boto3->transformers) (0.15.2)\n",
            "Building wheels for collected packages: sacremoses\n",
            "  Building wheel for sacremoses (setup.py) ... \u001b[?25l\u001b[?25hdone\n",
            "  Created wheel for sacremoses: filename=sacremoses-0.0.38-cp36-none-any.whl size=884628 sha256=639deaf8439443df8eafa10620cb3ccdedbf1294fc5a2a3fd8ababc3303af40d\n",
            "  Stored in directory: /root/.cache/pip/wheels/6d/ec/1a/21b8912e35e02741306f35f66c785f3afe94de754a0eaf1422\n",
            "Successfully built sacremoses\n",
            "Installing collected packages: sacremoses, sentencepiece, tokenizers, transformers\n",
            "Successfully installed sacremoses-0.0.38 sentencepiece-0.1.85 tokenizers-0.5.2 transformers-2.5.1\n"
          ],
          "name": "stdout"
        }
      ]
    },
    {
      "cell_type": "code",
      "metadata": {
        "id": "yT6Ffe1LlHgF",
        "colab_type": "code",
        "outputId": "bf1789db-2965-4303-e567-8fe8a84e102e",
        "colab": {
          "base_uri": "https://localhost:8080/",
          "height": 138
        }
      },
      "source": [
        "!git clone https://github.com/huggingface/transformers \\\n",
        "&& cd transformers \n",
        "# && git checkout a3085020ed0d81d4903c50967687192e3101e770 "
      ],
      "execution_count": 2,
      "outputs": [
        {
          "output_type": "stream",
          "text": [
            "Cloning into 'transformers'...\n",
            "remote: Enumerating objects: 5, done.\u001b[K\n",
            "remote: Counting objects:  20% (1/5)\u001b[K\rremote: Counting objects:  40% (2/5)\u001b[K\rremote: Counting objects:  60% (3/5)\u001b[K\rremote: Counting objects:  80% (4/5)\u001b[K\rremote: Counting objects: 100% (5/5)\u001b[K\rremote: Counting objects: 100% (5/5), done.\u001b[K\n",
            "remote: Compressing objects: 100% (5/5), done.\u001b[K\n",
            "remote: Total 22614 (delta 0), reused 1 (delta 0), pack-reused 22609\u001b[K\n",
            "Receiving objects: 100% (22614/22614), 13.26 MiB | 14.27 MiB/s, done.\n",
            "Resolving deltas: 100% (16208/16208), done.\n"
          ],
          "name": "stdout"
        }
      ]
    },
    {
      "cell_type": "code",
      "metadata": {
        "id": "WsJs7Qczxojp",
        "colab_type": "code",
        "outputId": "b3401c43-268c-48a3-dac3-3448ad948c33",
        "colab": {
          "base_uri": "https://localhost:8080/",
          "height": 572
        }
      },
      "source": [
        "!git clone https://github.com/nyu-mll/GLUE-baselines.git \n",
        "!git clone https://github.com/wasiahmad/paraphrase_identification.git \\\n",
        "&& python GLUE-baselines/download_glue_data.py --data_dir glue_data --tasks all --path_to_mrpc=paraphrase_identification/dataset/msr-paraphrase-corpus"
      ],
      "execution_count": 3,
      "outputs": [
        {
          "output_type": "stream",
          "text": [
            "Cloning into 'GLUE-baselines'...\n",
            "remote: Enumerating objects: 886, done.\u001b[K\n",
            "Receiving objects:   0% (1/886)   \rReceiving objects:   1% (9/886)   \rReceiving objects:   2% (18/886)   \rReceiving objects:   3% (27/886)   \rReceiving objects:   4% (36/886)   \rReceiving objects:   5% (45/886)   \rReceiving objects:   6% (54/886)   \rReceiving objects:   7% (63/886)   \rReceiving objects:   8% (71/886)   \rReceiving objects:   9% (80/886)   \rReceiving objects:  10% (89/886)   \rReceiving objects:  11% (98/886)   \rReceiving objects:  12% (107/886)   \rReceiving objects:  13% (116/886)   \rReceiving objects:  14% (125/886)   \rReceiving objects:  15% (133/886)   \rReceiving objects:  16% (142/886)   \rReceiving objects:  17% (151/886)   \rReceiving objects:  18% (160/886)   \rReceiving objects:  19% (169/886)   \rReceiving objects:  20% (178/886)   \rReceiving objects:  21% (187/886)   \rReceiving objects:  22% (195/886)   \rReceiving objects:  23% (204/886)   \rReceiving objects:  24% (213/886)   \rReceiving objects:  25% (222/886)   \rReceiving objects:  26% (231/886)   \rReceiving objects:  27% (240/886)   \rReceiving objects:  28% (249/886)   \rReceiving objects:  29% (257/886)   \rReceiving objects:  30% (266/886)   \rReceiving objects:  31% (275/886)   \rReceiving objects:  32% (284/886)   \rReceiving objects:  33% (293/886)   \rReceiving objects:  34% (302/886)   \rReceiving objects:  35% (311/886)   \rReceiving objects:  36% (319/886)   \rReceiving objects:  37% (328/886)   \rReceiving objects:  38% (337/886)   \rReceiving objects:  39% (346/886)   \rReceiving objects:  40% (355/886)   \rReceiving objects:  41% (364/886)   \rReceiving objects:  42% (373/886)   \rReceiving objects:  43% (381/886)   \rReceiving objects:  44% (390/886)   \rReceiving objects:  45% (399/886)   \rReceiving objects:  46% (408/886)   \rReceiving objects:  47% (417/886)   \rReceiving objects:  48% (426/886)   \rReceiving objects:  49% (435/886)   \rReceiving objects:  50% (443/886)   \rReceiving objects:  51% (452/886)   \rReceiving objects:  52% (461/886)   \rReceiving objects:  53% (470/886)   \rReceiving objects:  54% (479/886)   \rReceiving objects:  55% (488/886)   \rReceiving objects:  56% (497/886)   \rReceiving objects:  57% (506/886)   \rReceiving objects:  58% (514/886)   \rReceiving objects:  59% (523/886)   \rReceiving objects:  60% (532/886)   \rReceiving objects:  61% (541/886)   \rReceiving objects:  62% (550/886)   \rReceiving objects:  63% (559/886)   \rReceiving objects:  64% (568/886)   \rReceiving objects:  65% (576/886)   \rReceiving objects:  66% (585/886)   \rReceiving objects:  67% (594/886)   \rReceiving objects:  68% (603/886)   \rReceiving objects:  69% (612/886)   \rReceiving objects:  70% (621/886)   \rremote: Total 886 (delta 0), reused 0 (delta 0), pack-reused 886\u001b[K\n",
            "Receiving objects:  71% (630/886)   \rReceiving objects:  72% (638/886)   \rReceiving objects:  73% (647/886)   \rReceiving objects:  74% (656/886)   \rReceiving objects:  75% (665/886)   \rReceiving objects:  76% (674/886)   \rReceiving objects:  77% (683/886)   \rReceiving objects:  78% (692/886)   \rReceiving objects:  79% (700/886)   \rReceiving objects:  80% (709/886)   \rReceiving objects:  81% (718/886)   \rReceiving objects:  82% (727/886)   \rReceiving objects:  83% (736/886)   \rReceiving objects:  84% (745/886)   \rReceiving objects:  85% (754/886)   \rReceiving objects:  86% (762/886)   \rReceiving objects:  87% (771/886)   \rReceiving objects:  88% (780/886)   \rReceiving objects:  89% (789/886)   \rReceiving objects:  90% (798/886)   \rReceiving objects:  91% (807/886)   \rReceiving objects:  92% (816/886)   \rReceiving objects:  93% (824/886)   \rReceiving objects:  94% (833/886)   \rReceiving objects:  95% (842/886)   \rReceiving objects:  96% (851/886)   \rReceiving objects:  97% (860/886)   \rReceiving objects:  98% (869/886)   \rReceiving objects:  99% (878/886)   \rReceiving objects: 100% (886/886)   \rReceiving objects: 100% (886/886), 1.47 MiB | 3.03 MiB/s, done.\n",
            "Resolving deltas: 100% (609/609), done.\n",
            "Cloning into 'paraphrase_identification'...\n",
            "remote: Enumerating objects: 68, done.\u001b[K\n",
            "remote: Total 68 (delta 0), reused 0 (delta 0), pack-reused 68\u001b[K\n",
            "Unpacking objects: 100% (68/68), done.\n",
            "Checking out files: 100% (45/45), done.\n",
            "Downloading and extracting CoLA...\n",
            "\tCompleted!\n",
            "Downloading and extracting SST...\n",
            "\tCompleted!\n",
            "Processing MRPC...\n",
            "\tCompleted!\n",
            "Downloading and extracting QQP...\n",
            "\tCompleted!\n",
            "Downloading and extracting STS...\n",
            "\tCompleted!\n",
            "Downloading and extracting MNLI...\n",
            "\tCompleted!\n",
            "Downloading and extracting SNLI...\n",
            "\tCompleted!\n",
            "Downloading and extracting QNLI...\n",
            "\tCompleted!\n",
            "Downloading and extracting RTE...\n",
            "\tCompleted!\n",
            "Downloading and extracting WNLI...\n",
            "\tCompleted!\n",
            "Downloading and extracting diagnostic...\n",
            "\tCompleted!\n"
          ],
          "name": "stdout"
        }
      ]
    },
    {
      "cell_type": "code",
      "metadata": {
        "id": "EmW0GVJ5lLrQ",
        "colab_type": "code",
        "outputId": "34efc83f-e89a-4a00-eb94-7e99f93806fb",
        "colab": {
          "base_uri": "https://localhost:8080/",
          "height": 398
        }
      },
      "source": [
        "!mkdir dataset \\\n",
        "&& cd dataset \\\n",
        "&& wget https://rajpurkar.github.io/SQuAD-explorer/dataset/train-v2.0.json \\\n",
        "&& wget https://rajpurkar.github.io/SQuAD-explorer/dataset/dev-v2.0.json"
      ],
      "execution_count": 4,
      "outputs": [
        {
          "output_type": "stream",
          "text": [
            "--2020-03-24 02:22:12--  https://rajpurkar.github.io/SQuAD-explorer/dataset/train-v2.0.json\n",
            "Resolving rajpurkar.github.io (rajpurkar.github.io)... 185.199.110.153, 185.199.111.153, 185.199.108.153, ...\n",
            "Connecting to rajpurkar.github.io (rajpurkar.github.io)|185.199.110.153|:443... connected.\n",
            "HTTP request sent, awaiting response... 200 OK\n",
            "Length: 42123633 (40M) [application/json]\n",
            "Saving to: ‘train-v2.0.json’\n",
            "\n",
            "train-v2.0.json     100%[===================>]  40.17M   263MB/s    in 0.2s    \n",
            "\n",
            "2020-03-24 02:22:13 (263 MB/s) - ‘train-v2.0.json’ saved [42123633/42123633]\n",
            "\n",
            "--2020-03-24 02:22:13--  https://rajpurkar.github.io/SQuAD-explorer/dataset/dev-v2.0.json\n",
            "Resolving rajpurkar.github.io (rajpurkar.github.io)... 185.199.109.153, 185.199.110.153, 185.199.108.153, ...\n",
            "Connecting to rajpurkar.github.io (rajpurkar.github.io)|185.199.109.153|:443... connected.\n",
            "HTTP request sent, awaiting response... 200 OK\n",
            "Length: 4370528 (4.2M) [application/json]\n",
            "Saving to: ‘dev-v2.0.json’\n",
            "\n",
            "dev-v2.0.json       100%[===================>]   4.17M  --.-KB/s    in 0.1s    \n",
            "\n",
            "2020-03-24 02:22:14 (30.1 MB/s) - ‘dev-v2.0.json’ saved [4370528/4370528]\n",
            "\n"
          ],
          "name": "stdout"
        }
      ]
    },
    {
      "cell_type": "code",
      "metadata": {
        "id": "3V6JORcblorp",
        "colab_type": "code",
        "outputId": "5ae16c5e-5c48-430e-9b86-3d0a6eaeaa4f",
        "colab": {
          "base_uri": "https://localhost:8080/",
          "height": 52
        }
      },
      "source": [
        "!ls"
      ],
      "execution_count": 5,
      "outputs": [
        {
          "output_type": "stream",
          "text": [
            "dataset\t\tglue_data\t\t   sample_data\n",
            "GLUE-baselines\tparaphrase_identification  transformers\n"
          ],
          "name": "stdout"
        }
      ]
    },
    {
      "cell_type": "code",
      "metadata": {
        "id": "jQHj9dA6wJcI",
        "colab_type": "code",
        "outputId": "ad8614aa-26c6-43a8-966b-e77f17514ef7",
        "colab": {
          "base_uri": "https://localhost:8080/",
          "height": 133
        }
      },
      "source": [
        "import pandas as pd\n",
        "import numpy as np\n",
        "import codecs\n",
        "import re\n",
        "from collections import Counter\n",
        "from matplotlib import pyplot as plt\n",
        "from operator import itemgetter\n",
        "from tqdm import tqdm_notebook\n",
        "\n",
        "import nltk\n",
        "from nltk.corpus import stopwords\n",
        "import string\n",
        "from nltk.stem.porter import PorterStemmer \n",
        "from nltk.tokenize import word_tokenize \n",
        "nltk.download('stopwords')\n",
        "nltk.download('punkt')\n",
        "\n",
        "## Torch Modules\n",
        "import torch\n",
        "import torch.optim as optim\n",
        "import torch.nn as nn\n",
        "import torch.nn.functional as F\n",
        "from torch.autograd import Variable\n",
        "from torch.utils.data import Dataset, DataLoader, RandomSampler, SequentialSampler\n",
        "\n",
        "\n",
        "import os\n",
        "import time\n",
        "\n",
        "from transformers import (\n",
        "    RobertaConfig, \n",
        "    RobertaModel,\n",
        "    RobertaTokenizer,\n",
        "    RobertaForSequenceClassification,\n",
        "    AlbertConfig,\n",
        "    AlbertForQuestionAnswering,\n",
        "    AlbertTokenizer,\n",
        "    squad_convert_examples_to_features\n",
        ")"
      ],
      "execution_count": 6,
      "outputs": [
        {
          "output_type": "stream",
          "text": [
            "[nltk_data] Downloading package stopwords to /root/nltk_data...\n",
            "[nltk_data]   Unzipping corpora/stopwords.zip.\n",
            "[nltk_data] Downloading package punkt to /root/nltk_data...\n",
            "[nltk_data]   Unzipping tokenizers/punkt.zip.\n"
          ],
          "name": "stdout"
        },
        {
          "output_type": "display_data",
          "data": {
            "text/html": [
              "<p style=\"color: red;\">\n",
              "The default version of TensorFlow in Colab will soon switch to TensorFlow 2.x.<br>\n",
              "We recommend you <a href=\"https://www.tensorflow.org/guide/migrate\" target=\"_blank\">upgrade</a> now \n",
              "or ensure your notebook will continue to use TensorFlow 1.x via the <code>%tensorflow_version 1.x</code> magic:\n",
              "<a href=\"https://colab.research.google.com/notebooks/tensorflow_version.ipynb\" target=\"_blank\">more info</a>.</p>\n"
            ],
            "text/plain": [
              "<IPython.core.display.HTML object>"
            ]
          },
          "metadata": {
            "tags": []
          }
        }
      ]
    },
    {
      "cell_type": "code",
      "metadata": {
        "id": "IEQOgfHnt_50",
        "colab_type": "code",
        "outputId": "0e77cf4a-85dc-45d1-d347-995aa73ff653",
        "colab": {
          "base_uri": "https://localhost:8080/",
          "height": 34
        }
      },
      "source": [
        "## Check if Cuda is Available\n",
        "print(torch.cuda.is_available())"
      ],
      "execution_count": 7,
      "outputs": [
        {
          "output_type": "stream",
          "text": [
            "True\n"
          ],
          "name": "stdout"
        }
      ]
    },
    {
      "cell_type": "code",
      "metadata": {
        "id": "ZL_GI51ixQzm",
        "colab_type": "code",
        "colab": {}
      },
      "source": [
        "dataset_url = 'https://raw.githubusercontent.com/DhenPadilla/KSQuAD/master/Bio_GCSE.csv'\n",
        "df = pd.read_csv(dataset_url)\n",
        "passage_df = df"
      ],
      "execution_count": 0,
      "outputs": []
    },
    {
      "cell_type": "code",
      "metadata": {
        "id": "8CyMIRLuZsub",
        "colab_type": "code",
        "outputId": "3e80ee91-f267-48aa-d454-f94485fb9ca6",
        "colab": {
          "base_uri": "https://localhost:8080/",
          "height": 206
        }
      },
      "source": [
        "passage_df.head()"
      ],
      "execution_count": 9,
      "outputs": [
        {
          "output_type": "execute_result",
          "data": {
            "text/html": [
              "<div>\n",
              "<style scoped>\n",
              "    .dataframe tbody tr th:only-of-type {\n",
              "        vertical-align: middle;\n",
              "    }\n",
              "\n",
              "    .dataframe tbody tr th {\n",
              "        vertical-align: top;\n",
              "    }\n",
              "\n",
              "    .dataframe thead th {\n",
              "        text-align: right;\n",
              "    }\n",
              "</style>\n",
              "<table border=\"1\" class=\"dataframe\">\n",
              "  <thead>\n",
              "    <tr style=\"text-align: right;\">\n",
              "      <th></th>\n",
              "      <th>Main category</th>\n",
              "      <th>Section</th>\n",
              "      <th>Sub-section</th>\n",
              "      <th>Text</th>\n",
              "      <th>Questions</th>\n",
              "    </tr>\n",
              "  </thead>\n",
              "  <tbody>\n",
              "    <tr>\n",
              "      <th>0</th>\n",
              "      <td>Cells and Organisms</td>\n",
              "      <td>Cell Strucuture and transport</td>\n",
              "      <td>Microscopes</td>\n",
              "      <td>Living things are all made up of cells, but mo...</td>\n",
              "      <td>Name one advantage and one disadvantage of a l...</td>\n",
              "    </tr>\n",
              "    <tr>\n",
              "      <th>1</th>\n",
              "      <td>Cells and Organisms</td>\n",
              "      <td>Cell Strucuture and transport</td>\n",
              "      <td>Animal and plant cells</td>\n",
              "      <td>The cells that make up your body are typical a...</td>\n",
              "      <td>Name the main structures you would expect to f...</td>\n",
              "    </tr>\n",
              "    <tr>\n",
              "      <th>2</th>\n",
              "      <td>Cells and Organisms</td>\n",
              "      <td>Cell Strucuture and transport</td>\n",
              "      <td>Eukaryotic and prokaryotic cells</td>\n",
              "      <td>Animal and plant cells are example’s of eukary...</td>\n",
              "      <td>Describe what flagella are ? \\nName one use of...</td>\n",
              "    </tr>\n",
              "    <tr>\n",
              "      <th>3</th>\n",
              "      <td>Cells and Organisms</td>\n",
              "      <td>Cell Strucuture and transport</td>\n",
              "      <td>Specialisation in animal cells</td>\n",
              "      <td>Although the smallest living organisms are onl...</td>\n",
              "      <td>Name one adaption for the specialised nerver c...</td>\n",
              "    </tr>\n",
              "    <tr>\n",
              "      <th>4</th>\n",
              "      <td>Cells and Organisms</td>\n",
              "      <td>Cell Strucuture and transport</td>\n",
              "      <td>Specialisation in plant cells</td>\n",
              "      <td>Animals are not the only organisms to have cel...</td>\n",
              "      <td>Name one adaption for the specialised root hai...</td>\n",
              "    </tr>\n",
              "  </tbody>\n",
              "</table>\n",
              "</div>"
            ],
            "text/plain": [
              "         Main category  ...                                          Questions\n",
              "0  Cells and Organisms  ...  Name one advantage and one disadvantage of a l...\n",
              "1  Cells and Organisms  ...  Name the main structures you would expect to f...\n",
              "2  Cells and Organisms  ...  Describe what flagella are ? \\nName one use of...\n",
              "3  Cells and Organisms  ...  Name one adaption for the specialised nerver c...\n",
              "4  Cells and Organisms  ...  Name one adaption for the specialised root hai...\n",
              "\n",
              "[5 rows x 5 columns]"
            ]
          },
          "metadata": {
            "tags": []
          },
          "execution_count": 9
        }
      ]
    },
    {
      "cell_type": "code",
      "metadata": {
        "id": "kyhKXtBGV2oT",
        "colab_type": "code",
        "colab": {}
      },
      "source": [
        "def remove_nulls(dataset, print_out=True):\n",
        "  dataset.dropna(subset=['question'], inplace=True)\n",
        "  dataset.reset_index(drop=True, inplace=True)\n",
        "  for label in dataset[\"label\"].unique():\n",
        "    if(print_out):\n",
        "      print(\"Class: {}, # questions: {}\".format(label, dataset.label.value_counts()[label]))\n",
        "  return dataset"
      ],
      "execution_count": 0,
      "outputs": []
    },
    {
      "cell_type": "code",
      "metadata": {
        "id": "F0mQh-DMgvWi",
        "colab_type": "code",
        "colab": {
          "base_uri": "https://localhost:8080/",
          "height": 104
        },
        "outputId": "d573346c-9ee9-4a05-d8e7-56408cd4d20c"
      },
      "source": [
        "# MAIN CATEGORY DATA SET\n",
        "category_dataset = pd.DataFrame(columns = ['question', 'label'])\n",
        "\n",
        "for idx, passage in enumerate(passage_df[\"Questions\"][:]):\n",
        "  for question in passage.split(\"\\n\"):\n",
        "    small_frame = pd.Series({\"question\": question, \"label\": passage_df[\"Main category\"][idx]}) \n",
        "    category_dataset = category_dataset.append(small_frame, ignore_index=True)\n",
        "remove_nulls(category_dataset)\n",
        "\n",
        "print(category_dataset[\"label\"].size)"
      ],
      "execution_count": 44,
      "outputs": [
        {
          "output_type": "stream",
          "text": [
            "Class: Cells and Organisms, # questions: 605\n",
            "Class: Disease and bioenergetics, # questions: 342\n",
            "Class: Biological responses, # questions: 80\n",
            "Class: Genetics and reproduction, # questions: 209\n",
            "1236\n"
          ],
          "name": "stdout"
        }
      ]
    },
    {
      "cell_type": "code",
      "metadata": {
        "id": "EZMGFgnjWk7I",
        "colab_type": "code",
        "colab": {
          "base_uri": "https://localhost:8080/",
          "height": 260
        },
        "outputId": "2917f061-21f5-4e91-9553-d0aad10c3209"
      },
      "source": [
        "# MAIN CATEGORY -> SECTION DATA SET\n",
        "section_dataset = pd.DataFrame(columns = ['question', 'label'])\n",
        "\n",
        "for idx, passage in enumerate(passage_df[\"Questions\"][:]):\n",
        "  for question in passage.split(\"\\n\"):\n",
        "    small_frame = pd.Series({\"question\": question, \"label\": passage_df[\"Section\"][idx]}) \n",
        "    section_dataset = section_dataset.append(small_frame, ignore_index=True)\n",
        "remove_nulls(section_dataset)\n",
        "\n",
        "print(section_dataset[\"label\"].size)\n",
        "print(section_dataset[\"question\"][23])"
      ],
      "execution_count": 71,
      "outputs": [
        {
          "output_type": "stream",
          "text": [
            "Class: Cell Strucuture and transport, # questions: 305\n",
            "Class: Cell Division, # questions: 74\n",
            "Class: Organisation and the digestive system, # questions: 99\n",
            "Class: Organising Animals and Plants, # questions: 127\n",
            "Class: Communicable diseases, # questions: 127\n",
            "Class: Preventing and treating disease, # questions: 69\n",
            "Class: Non-Communicable diseases, # questions: 76\n",
            "Class: Photosynthesis, # questions: 28\n",
            "Class: Respiration, # questions: 42\n",
            "Class: The human nervous system, # questions: 80\n",
            "Class: Reproduction, # questions: 76\n",
            "Class: Genetics and evolution, # questions: 133\n",
            "1236\n",
            "What is the resolving power of an electron microscope?\n"
          ],
          "name": "stdout"
        }
      ]
    },
    {
      "cell_type": "code",
      "metadata": {
        "id": "enRX4_S8yKxw",
        "colab_type": "code",
        "colab": {}
      },
      "source": [
        "# SECTION -> SUBSECTION DATA SETS (Dictionary)\n",
        "subsection_datasets = {}\n",
        "\n",
        "for section in passage_df[\"Section\"].unique():\n",
        "  dataset = pd.DataFrame(columns = ['question', 'label'])\n",
        "  section_df = passage_df.loc[passage_df[\"Section\"] == section]\n",
        "  for idx, row in section_df.iterrows():\n",
        "    for question in row[\"Questions\"].split(\"\\n\"):\n",
        "      small_frame = pd.Series({\"question\": question, \"label\": section_df[\"Sub-section\"][idx]}) \n",
        "      dataset = dataset.append(small_frame, ignore_index=True)\n",
        "      remove_nulls(dataset, print_out=False)\n",
        "      subsection_datasets[section] = dataset"
      ],
      "execution_count": 0,
      "outputs": []
    },
    {
      "cell_type": "code",
      "metadata": {
        "id": "zKtENvKWbdsu",
        "colab_type": "code",
        "colab": {
          "base_uri": "https://localhost:8080/",
          "height": 225
        },
        "outputId": "78d25063-326b-4147-f0f5-4fa8b06bba53"
      },
      "source": [
        "for section, df in subsection_datasets.items():\n",
        "  print(\"Class: {}, # questions: {}\".format(section, df[\"label\"].size))"
      ],
      "execution_count": 63,
      "outputs": [
        {
          "output_type": "stream",
          "text": [
            "Class: Cell Strucuture and transport, # questions: 305\n",
            "Class: Cell Division, # questions: 74\n",
            "Class: Organisation and the digestive system, # questions: 99\n",
            "Class: Organising Animals and Plants, # questions: 127\n",
            "Class: Communicable diseases, # questions: 127\n",
            "Class: Preventing and treating disease, # questions: 69\n",
            "Class: Non-Communicable diseases, # questions: 76\n",
            "Class: Photosynthesis, # questions: 28\n",
            "Class: Respiration, # questions: 42\n",
            "Class: The human nervous system, # questions: 80\n",
            "Class: Reproduction, # questions: 76\n",
            "Class: Genetics and evolution, # questions: 133\n"
          ],
          "name": "stdout"
        }
      ]
    },
    {
      "cell_type": "code",
      "metadata": {
        "id": "qGXXQlox537m",
        "colab_type": "code",
        "colab": {}
      },
      "source": [
        "def label_to_index(dataset):\n",
        "  label_to_ix = {}\n",
        "  for label in dataset.label:\n",
        "        if label not in label_to_ix:\n",
        "            label_to_ix[label]=len(label_to_ix)\n",
        "  return label_to_ix"
      ],
      "execution_count": 0,
      "outputs": []
    },
    {
      "cell_type": "code",
      "metadata": {
        "id": "ydlVeP-pphWM",
        "colab_type": "code",
        "colab": {
          "base_uri": "https://localhost:8080/",
          "height": 34
        },
        "outputId": "4f2722bc-4144-4e73-adce-082e2326a2c9"
      },
      "source": [
        "# Main Category Labels\n",
        "main_category_labels = label_to_index(category_dataset)\n",
        "print(main_category_labels)"
      ],
      "execution_count": 51,
      "outputs": [
        {
          "output_type": "stream",
          "text": [
            "{'Cells and Organisms': 0, 'Disease and bioenergetics': 1, 'Biological responses': 2, 'Genetics and reproduction': 3}\n"
          ],
          "name": "stdout"
        }
      ]
    },
    {
      "cell_type": "code",
      "metadata": {
        "id": "3BVjbR67Zqd4",
        "colab_type": "code",
        "colab": {
          "base_uri": "https://localhost:8080/",
          "height": 54
        },
        "outputId": "30131c4e-d338-4768-dcb1-882b4ff010c2"
      },
      "source": [
        "# Section labels\n",
        "section_labels = label_to_index(section_dataset)\n",
        "print(section_labels)"
      ],
      "execution_count": 52,
      "outputs": [
        {
          "output_type": "stream",
          "text": [
            "{'Cell Strucuture and transport': 0, 'Cell Division': 1, 'Organisation and the digestive system': 2, 'Organising Animals and Plants': 3, 'Communicable diseases': 4, 'Preventing and treating disease': 5, 'Non-Communicable diseases': 6, 'Photosynthesis': 7, 'Respiration': 8, 'The human nervous system': 9, 'Reproduction': 10, 'Genetics and evolution': 11}\n"
          ],
          "name": "stdout"
        }
      ]
    },
    {
      "cell_type": "code",
      "metadata": {
        "id": "uoMBYN3Jj3V5",
        "colab_type": "code",
        "colab": {
          "base_uri": "https://localhost:8080/",
          "height": 661
        },
        "outputId": "44716fd4-b8ad-4f3e-85f0-84be33178ef7"
      },
      "source": [
        "# Sub-Section labels\n",
        "\n",
        "subsection_labels = {}\n",
        "\n",
        "for section, df in subsection_datasets.items():\n",
        "  labels = label_to_index(df)\n",
        "  subsection_labels[section] = labels\n",
        "  print(section)\n",
        "  print(labels)\n",
        "  print(\"\")"
      ],
      "execution_count": 64,
      "outputs": [
        {
          "output_type": "stream",
          "text": [
            "Cell Strucuture and transport\n",
            "{'Microscopes': 0, 'Animal and plant cells': 1, 'Eukaryotic and prokaryotic cells': 2, 'Specialisation in animal cells': 3, 'Specialisation in plant cells': 4, 'Diffusion': 5, 'Osmosis': 6, 'Osmosis in plants': 7, 'Active transport': 8, 'Exchanging materials': 9}\n",
            "\n",
            "Cell Division\n",
            "{'Cell division': 0, 'Growth and differentiation': 1, 'Stem cells': 2, 'Stem cell dilemmas': 3}\n",
            "\n",
            "Organisation and the digestive system\n",
            "{'Tissues and organs': 0, 'The human digestive system': 1, 'The chemistry of food': 2, 'Catalysts and enzymes': 3, 'Factors affecting enzyme action': 4, 'How the digestive system works': 5, 'Making digestion efficient': 6}\n",
            "\n",
            "Organising Animals and Plants\n",
            "{'The blood': 0, 'The blood vessels': 1, 'The heart': 2, 'Helping the heart': 3, 'Breathing and gas exchange': 4, 'Tissues and organs in plants': 5, 'Transport systems in plants': 6, 'Evaporation and transpiration': 7, 'Factors affecting transpiration': 8}\n",
            "\n",
            "Communicable diseases\n",
            "{'Health and disease': 0, 'Pathogens and disease': 1, 'growing Bacteria in the lab': 2, 'Preventing bacteria growth': 3, 'Preventing infections': 4, 'Viral diseases': 5, 'Bacterial diseases': 6, 'Diseases caused by fungi and protists': 7, 'Human defence responses': 8, 'more about plant diseases': 9, 'Plant defence responses': 10}\n",
            "\n",
            "Preventing and treating disease\n",
            "{'Vaccination': 0, 'Antibiotics and painkillers': 1, 'Discovering and developing drugs': 2, 'making and using monoclonal antibodies': 3}\n",
            "\n",
            "Non-Communicable diseases\n",
            "{'Non-communicable diseases': 0, 'Cancer': 1, 'Smoking and the risk of disease': 2, 'Diet, exercise, and disease': 3, 'Alcohol and other carcinogens': 4}\n",
            "\n",
            "Photosynthesis\n",
            "{'Photosynthesis': 0, 'The rate of photosynthesis': 1, 'How plants use glucose': 2}\n",
            "\n",
            "Respiration\n",
            "{'Aerobic respiration': 0, 'The response to exercise': 1, 'Anaerobic respiration': 2, ' Metabolism and the liver': 3}\n",
            "\n",
            "The human nervous system\n",
            "{'Principles of homeostasis': 0, 'The structure and function of the nervous system': 1, 'Reflex actions': 2, 'The brain': 3, 'The Eye': 4}\n",
            "\n",
            "Reproduction\n",
            "{'Types of reproduction': 0, 'Cell dicision in sexual reproduction': 1, 'DNA and the genome': 2, 'DNA structure and protein synthesis': 3, 'Gene expression and mutation': 4}\n",
            "\n",
            "Genetics and evolution\n",
            "{'History of genetics': 0, 'Theories of evolution': 1, 'Accepting Darwin’s ideas ': 2, 'Evolution and speciation ': 3, 'Evidence for evolution': 4, 'Fossils and extinction ': 5, 'Antibiotic resistant bacteria ': 6, 'Classification': 7}\n",
            "\n"
          ],
          "name": "stdout"
        }
      ]
    },
    {
      "cell_type": "markdown",
      "metadata": {
        "id": "htR8iaGmB31b",
        "colab_type": "text"
      },
      "source": [
        "### Configure a RoBERTa model to be used to train our dataset"
      ]
    },
    {
      "cell_type": "code",
      "metadata": {
        "id": "udq7PYaHadPS",
        "colab_type": "code",
        "colab": {}
      },
      "source": [
        "# Create RoBERTa model method for multiple instances\n",
        "def create_roberta_model(labels):\n",
        "  config = RobertaConfig.from_pretrained('roberta-base')\n",
        "  config.num_labels = len(list(labels.values()))\n",
        "  model = RobertaForSequenceClassification(config)\n",
        "  return model\n",
        "\n",
        "tokenizer = RobertaTokenizer.from_pretrained('roberta-base')"
      ],
      "execution_count": 0,
      "outputs": []
    },
    {
      "cell_type": "code",
      "metadata": {
        "id": "b_jgb5jX6RvE",
        "colab_type": "code",
        "colab": {}
      },
      "source": [
        "# config = RobertaConfig.from_pretrained('roberta-base')\n",
        "# config.num_labels = len(list(label_to_ix.values()))\n",
        "# config.num_labels = len(list(section_labels[\"Cell Division\"].values()))\n",
        "\n",
        "# model = RobertaForSequenceClassification(config)\n",
        "# tokenizer = RobertaTokenizer.from_pretrained('roberta-base')\n",
        "# print(list(section_labels[\"Cell Division\"].values()))"
      ],
      "execution_count": 0,
      "outputs": []
    },
    {
      "cell_type": "code",
      "metadata": {
        "id": "WiKpg6jEbjXd",
        "colab_type": "code",
        "colab": {
          "base_uri": "https://localhost:8080/",
          "height": 225
        },
        "outputId": "c5de7377-b817-43b2-981e-7ee96750afaa"
      },
      "source": [
        "# For Main-Category classification:\n",
        "main_cat_model = create_roberta_model(main_category_labels)\n",
        "\n",
        "# For Section classification:\n",
        "section_model = create_roberta_model(section_labels)\n",
        "\n",
        "# For Sub section classifcations:\n",
        "subsection_models = {}\n",
        "for section, subsection_labels in subsection_labels.items():\n",
        "  print(\"Creating RoBERTa for: \", section)\n",
        "  subsection_models[section] = create_roberta_model(subsection_labels)"
      ],
      "execution_count": 59,
      "outputs": [
        {
          "output_type": "stream",
          "text": [
            "Creating RoBERTa for:  Cell Strucuture and transport\n",
            "Creating RoBERTa for:  Cell Division\n",
            "Creating RoBERTa for:  Organisation and the digestive system\n",
            "Creating RoBERTa for:  Organising Animals and Plants\n",
            "Creating RoBERTa for:  Communicable diseases\n",
            "Creating RoBERTa for:  Preventing and treating disease\n",
            "Creating RoBERTa for:  Non-Communicable diseases\n",
            "Creating RoBERTa for:  Photosynthesis\n",
            "Creating RoBERTa for:  Respiration\n",
            "Creating RoBERTa for:  The human nervous system\n",
            "Creating RoBERTa for:  Reproduction\n",
            "Creating RoBERTa for:  Genetics and evolution\n"
          ],
          "name": "stdout"
        }
      ]
    },
    {
      "cell_type": "markdown",
      "metadata": {
        "id": "Z6WrYmX5CAdf",
        "colab_type": "text"
      },
      "source": [
        "### The following set of functions are helper-functions to create RoBERTa inputs from (question, label) pairs"
      ]
    },
    {
      "cell_type": "code",
      "metadata": {
        "id": "JUFa5g-LAhKA",
        "colab_type": "code",
        "colab": {}
      },
      "source": [
        "def feature_preparation(seq, max_length = 300, zero_pad = False, include_CLS_token = True, include_SEP_token = True):\n",
        "    ## Tokenzine Input\n",
        "    tokens_a = tokenizer.tokenize(seq)\n",
        "\n",
        "    ## Truncate\n",
        "    if len(tokens_a) > max_length - 2:\n",
        "        tokens_a = tokens_a[0:(max_length - 2)]\n",
        "\n",
        "    ## Initialize Tokens\n",
        "    tokens = []\n",
        "    if include_CLS_token:\n",
        "        tokens.append(tokenizer.cls_token)\n",
        "\n",
        "    ## Add Tokens and separators\n",
        "    for token in tokens_a:\n",
        "        tokens.append(token)\n",
        "\n",
        "    if include_SEP_token:\n",
        "        tokens.append(tokenizer.sep_token)\n",
        "\n",
        "    input_ids = tokenizer.convert_tokens_to_ids(tokens)\n",
        "\n",
        "    ## Input Mask \n",
        "    input_mask = [1] * len(input_ids)\n",
        "\n",
        "    ## Zero-pad sequence lenght\n",
        "    if zero_pad:\n",
        "        while len(input_ids) < max_length:\n",
        "            input_ids.append(0)\n",
        "            input_mask.append(0)\n",
        "    return torch.tensor(input_ids).unsqueeze(0), input_mask"
      ],
      "execution_count": 0,
      "outputs": []
    },
    {
      "cell_type": "code",
      "metadata": {
        "id": "FqNf4UTaA3P6",
        "colab_type": "code",
        "outputId": "d90e184e-a048-4d30-b8ca-bf06d6c175b0",
        "colab": {
          "base_uri": "https://localhost:8080/",
          "height": 242
        }
      },
      "source": [
        "# Check question preparation if correct for each dataset:\n",
        "cat_question = category_dataset['question'][50]\n",
        "print(\"Main Category\")\n",
        "print(cat_question)\n",
        "print(feature_preparation(cat_question))\n",
        "print(\"\")\n",
        "\n",
        "sec_question = section_dataset['question'][23]\n",
        "print(\"Section\")\n",
        "print(sec_question)\n",
        "print(feature_preparation(sec_question))\n",
        "print(\"\")\n",
        "\n",
        "subsec_question = subsection_datasets[\"Cell Division\"]['question'][9]\n",
        "print(\"Subsection: Cell Division\")\n",
        "print(subsec_question)\n",
        "print(feature_preparation(subsec_question))\n",
        "print(\"\")"
      ],
      "execution_count": 69,
      "outputs": [
        {
          "output_type": "stream",
          "text": [
            "Main Category\n",
            "How do plants make their food?\n",
            "(tensor([[   0, 6179,  109, 3451,  146,   49,  689,  116,    2]]), [1, 1, 1, 1, 1, 1, 1, 1, 1])\n",
            "\n",
            "Section\n",
            "What is the resolving power of an electron microscope?\n",
            "(tensor([[    0,  2264,    16,     5, 20006,   476,     9,    41, 35235, 32518,\n",
            "           116,     2]]), [1, 1, 1, 1, 1, 1, 1, 1, 1, 1, 1, 1])\n",
            "\n",
            "Subsection: Cell Division\n",
            "How common is measles in the UK?\n",
            "(tensor([[    0,  6179,  1537,    16, 26143,    11,     5,   987,   116,     2]]), [1, 1, 1, 1, 1, 1, 1, 1, 1, 1])\n",
            "\n"
          ],
          "name": "stdout"
        }
      ]
    },
    {
      "cell_type": "code",
      "metadata": {
        "id": "0I6ppYxfA8FE",
        "colab_type": "code",
        "colab": {}
      },
      "source": [
        "class prepare_input(Dataset):\n",
        "    def __init__(self, dataframe, mode=\"\", section_to_prepare=\"\"):\n",
        "        self.len = len(dataframe)\n",
        "        self.data = dataframe\n",
        "        self.mode = mode\n",
        "        self.section_to_prepare = section_to_prepare\n",
        "        \n",
        "    def __getitem__(self, index):\n",
        "        question = self.data.question[index]\n",
        "        label = self.data.label[index]\n",
        "        X, _  = feature_preparation(question)\n",
        "        if(self.section_to_prepare and self.mode == \"SUBSECTIONS\"):\n",
        "          y = subsection_labels[self.section_to_prepare][self.data.label[index]]\n",
        "        elif(self.mode == \"SECTIONS\"):\n",
        "          y = section_labels[self.data.label[index]]\n",
        "        else:\n",
        "          y = main_category_labels[self.data.label[index]]\n",
        "        return X, y\n",
        "    \n",
        "    def __len__(self):\n",
        "        return self.len"
      ],
      "execution_count": 0,
      "outputs": []
    },
    {
      "cell_type": "markdown",
      "metadata": {
        "id": "6gc0mYmkCQSl",
        "colab_type": "text"
      },
      "source": [
        "### Create train-test split (80:20)"
      ]
    },
    {
      "cell_type": "code",
      "metadata": {
        "id": "gwPBnmkJhOTw",
        "colab_type": "code",
        "colab": {}
      },
      "source": [
        "train_size = 0.80"
      ],
      "execution_count": 0,
      "outputs": []
    },
    {
      "cell_type": "code",
      "metadata": {
        "id": "yBtEUzt8BYhz",
        "colab_type": "code",
        "outputId": "40ccdd9b-7917-4f46-e2b3-8c433c7209a5",
        "colab": {
          "base_uri": "https://localhost:8080/",
          "height": 69
        }
      },
      "source": [
        "# Main Category train-test split\n",
        "category_train_dataset = category_dataset.sample(frac=train_size, random_state=200).reset_index(drop=True)\n",
        "category_test_dataset = category_dataset.drop(category_train_dataset.index).reset_index(drop=True)\n",
        "\n",
        "print(\"FULL Dataset: {}\".format(dataset.shape))\n",
        "print(\"TRAIN Dataset: {}\".format(category_train_dataset.shape))\n",
        "print(\"TEST Dataset: {}\".format(category_test_dataset.shape))"
      ],
      "execution_count": 79,
      "outputs": [
        {
          "output_type": "stream",
          "text": [
            "FULL Dataset: (133, 2)\n",
            "TRAIN Dataset: (989, 2)\n",
            "TEST Dataset: (247, 2)\n"
          ],
          "name": "stdout"
        }
      ]
    },
    {
      "cell_type": "code",
      "metadata": {
        "id": "r7eyDwxphdWE",
        "colab_type": "code",
        "colab": {
          "base_uri": "https://localhost:8080/",
          "height": 69
        },
        "outputId": "be1ef875-6564-4f98-f8b0-9b789ba5d55a"
      },
      "source": [
        "# Sections train-test split\n",
        "section_train_dataset = section_dataset.sample(frac=train_size, random_state=200).reset_index(drop=True)\n",
        "section_test_dataset = section_dataset.drop(section_train_dataset.index).reset_index(drop=True)\n",
        "\n",
        "print(\"FULL Dataset: {}\".format(dataset.shape))\n",
        "print(\"TRAIN Dataset: {}\".format(section_train_dataset.shape))\n",
        "print(\"TEST Dataset: {}\".format(section_test_dataset.shape))"
      ],
      "execution_count": 81,
      "outputs": [
        {
          "output_type": "stream",
          "text": [
            "FULL Dataset: (133, 2)\n",
            "TRAIN Dataset: (989, 2)\n",
            "TEST Dataset: (247, 2)\n"
          ],
          "name": "stdout"
        }
      ]
    },
    {
      "cell_type": "code",
      "metadata": {
        "id": "cq45fuNKkVT6",
        "colab_type": "code",
        "colab": {
          "base_uri": "https://localhost:8080/",
          "height": 849
        },
        "outputId": "9b7e654b-7590-4ad5-e2a6-db0848695886"
      },
      "source": [
        "# For Sub-sections:\n",
        "subsection_datasets_train = {}\n",
        "subsection_datasets_test = {}\n",
        "\n",
        "for section, df in subsection_datasets.items():\n",
        "  train_dataset = df.sample(frac=train_size, random_state=200).reset_index(drop=True)\n",
        "  test_dataset = df.drop(train_dataset.index).reset_index(drop=True)\n",
        "  subsection_datasets_train[section] = train_dataset\n",
        "  subsection_datasets_test[section] = test_dataset\n",
        "\n",
        "  print(\"Section name: \", section)\n",
        "  print(\"FULL Dataset: {}\".format(dataset.shape))\n",
        "  print(\"TRAIN Dataset: {}\".format(subsection_datasets_train[section].shape))\n",
        "  print(\"TEST Dataset: {}\".format(subsection_datasets_test[section].shape))"
      ],
      "execution_count": 83,
      "outputs": [
        {
          "output_type": "stream",
          "text": [
            "Section name:  Cell Strucuture and transport\n",
            "FULL Dataset: (133, 2)\n",
            "TRAIN Dataset: (244, 2)\n",
            "TEST Dataset: (61, 2)\n",
            "Section name:  Cell Division\n",
            "FULL Dataset: (133, 2)\n",
            "TRAIN Dataset: (59, 2)\n",
            "TEST Dataset: (15, 2)\n",
            "Section name:  Organisation and the digestive system\n",
            "FULL Dataset: (133, 2)\n",
            "TRAIN Dataset: (79, 2)\n",
            "TEST Dataset: (20, 2)\n",
            "Section name:  Organising Animals and Plants\n",
            "FULL Dataset: (133, 2)\n",
            "TRAIN Dataset: (102, 2)\n",
            "TEST Dataset: (25, 2)\n",
            "Section name:  Communicable diseases\n",
            "FULL Dataset: (133, 2)\n",
            "TRAIN Dataset: (102, 2)\n",
            "TEST Dataset: (25, 2)\n",
            "Section name:  Preventing and treating disease\n",
            "FULL Dataset: (133, 2)\n",
            "TRAIN Dataset: (55, 2)\n",
            "TEST Dataset: (14, 2)\n",
            "Section name:  Non-Communicable diseases\n",
            "FULL Dataset: (133, 2)\n",
            "TRAIN Dataset: (61, 2)\n",
            "TEST Dataset: (15, 2)\n",
            "Section name:  Photosynthesis\n",
            "FULL Dataset: (133, 2)\n",
            "TRAIN Dataset: (22, 2)\n",
            "TEST Dataset: (6, 2)\n",
            "Section name:  Respiration\n",
            "FULL Dataset: (133, 2)\n",
            "TRAIN Dataset: (34, 2)\n",
            "TEST Dataset: (8, 2)\n",
            "Section name:  The human nervous system\n",
            "FULL Dataset: (133, 2)\n",
            "TRAIN Dataset: (64, 2)\n",
            "TEST Dataset: (16, 2)\n",
            "Section name:  Reproduction\n",
            "FULL Dataset: (133, 2)\n",
            "TRAIN Dataset: (61, 2)\n",
            "TEST Dataset: (15, 2)\n",
            "Section name:  Genetics and evolution\n",
            "FULL Dataset: (133, 2)\n",
            "TRAIN Dataset: (106, 2)\n",
            "TEST Dataset: (27, 2)\n"
          ],
          "name": "stdout"
        }
      ]
    },
    {
      "cell_type": "code",
      "metadata": {
        "id": "bMzTTkQGVdIB",
        "colab_type": "code",
        "colab": {}
      },
      "source": [
        "# Main Category tokenised\n",
        "category_train_set = prepare_input(category_train_dataset)\n",
        "category_test_set = prepare_input(category_test_dataset)"
      ],
      "execution_count": 0,
      "outputs": []
    },
    {
      "cell_type": "code",
      "metadata": {
        "id": "Rhy8g-Lfg_yX",
        "colab_type": "code",
        "colab": {}
      },
      "source": [
        "# Sections tokenised\n",
        "section_train_set = prepare_input(section_train_dataset, \"SECTIONS\")\n",
        "section_test_set = prepare_input(section_test_dataset, \"SECTIONS\")"
      ],
      "execution_count": 0,
      "outputs": []
    },
    {
      "cell_type": "code",
      "metadata": {
        "id": "wGnQ0IIAlXip",
        "colab_type": "code",
        "colab": {}
      },
      "source": [
        "# Subsections tokenised\n",
        "subsections_train_set = {}\n",
        "subsections_test_set = {}\n",
        "\n",
        "for section, df in subsection_datasets_train.items():\n",
        "  subsections_train_set[section] = prepare_input(df, \"SUBSECTIONS\", section)\n",
        "\n",
        "for section, df in subsection_datasets_test.items():\n",
        "  subsections_test_set[section] = prepare_input(df, \"SUBSECTIONS\", section)"
      ],
      "execution_count": 0,
      "outputs": []
    },
    {
      "cell_type": "markdown",
      "metadata": {
        "id": "3xmuWORqCVRL",
        "colab_type": "text"
      },
      "source": [
        "### If CUDA's available, config model to use it."
      ]
    },
    {
      "cell_type": "code",
      "metadata": {
        "id": "Zh7A38QpCUWK",
        "colab_type": "code",
        "colab": {}
      },
      "source": [
        "device = torch.device(\"cuda\" if torch.cuda.is_available() else \"cpu\")\n",
        "main_cat_model = main_cat_model.cuda()\n",
        "section_model = section_model.cuda()\n",
        "for model in subsection_models.values():\n",
        "  model = model.cuda()"
      ],
      "execution_count": 0,
      "outputs": []
    },
    {
      "cell_type": "code",
      "metadata": {
        "id": "MA0qg6U6pSl3",
        "colab_type": "code",
        "colab": {
          "base_uri": "https://localhost:8080/",
          "height": 208
        },
        "outputId": "6cfaee64-7ea0-465c-f393-e059f1efd518"
      },
      "source": [
        "#Check if cuda is used for data: \n",
        "print(\"Main Categories:\")\n",
        "print(category_train_set.__getitem__(0)[0].cuda())\n",
        "print(\"\")\n",
        "\n",
        "print(\"Sections:\")\n",
        "print(section_train_set.__getitem__(0)[0].cuda())\n",
        "print(\"\")\n",
        "\n",
        "print(\"Sub-Sections (Cell Division):\")\n",
        "print(subsections_train_set[\"Cell Division\"].__getitem__(0)[0].cuda())"
      ],
      "execution_count": 105,
      "outputs": [
        {
          "output_type": "stream",
          "text": [
            "Main Categories:\n",
            "tensor([[    0,   653,   109,     5, 14819,    11,  5708,   109,     7,  1026,\n",
            "            10,  8276, 17487,     2]], device='cuda:0')\n",
            "\n",
            "Sections:\n",
            "tensor([[    0,   653,   109,     5, 14819,    11,  5708,   109,     7,  1026,\n",
            "            10,  8276, 17487,     2]], device='cuda:0')\n",
            "\n",
            "Sub-Sections (Cell Division):\n",
            "tensor([[    0,  2264,    16,   434,  6533,     7,    28,    11,  1110,     9,\n",
            "          6286, 13310,   116,     2]], device='cuda:0')\n"
          ],
          "name": "stdout"
        }
      ]
    },
    {
      "cell_type": "code",
      "metadata": {
        "id": "KuSD_lAkCd1n",
        "colab_type": "code",
        "colab": {}
      },
      "source": [
        "# Config Parameters for training the RoBERTa models\n",
        "params = {'batch_size': 1,\n",
        "          'shuffle': True,\n",
        "          'drop_last': False,\n",
        "          'num_workers': 1}\n",
        "\n",
        "# Create the data loaders for each dataset\n",
        "\n",
        "# CATEGORIES:\n",
        "category_training_loader = DataLoader(category_train_set, **params)\n",
        "category_testing_loader = DataLoader(category_test_set, **params)\n",
        "\n",
        "# SECTIONS:\n",
        "section_training_loader = DataLoader(category_train_set, **params)\n",
        "section_testing_loader = DataLoader(category_test_set, **params)\n",
        "\n",
        "# SUBSECTIONS:\n",
        "subsection_training_loaders = {}\n",
        "for section in subsections_train_set.keys():\n",
        "  training_loader = DataLoader(subsections_train_set[section], **params)\n",
        "  subsection_training_loaders[section] = training_loader\n",
        "subsection_testing_loaders = {}\n",
        "for section in subsections_test_set.keys():\n",
        "  test_loader = DataLoader(subsections_test_set[section], **params)\n",
        "  subsection_testing_loaders[section] = test_loader"
      ],
      "execution_count": 0,
      "outputs": []
    },
    {
      "cell_type": "markdown",
      "metadata": {
        "id": "aU3b0yA8qZc3",
        "colab_type": "text"
      },
      "source": [
        "## Dictionaries for the models, training & test loaders"
      ]
    },
    {
      "cell_type": "code",
      "metadata": {
        "id": "tAYduoLNmr0y",
        "colab_type": "code",
        "colab": {}
      },
      "source": [
        "model_dict = {\"Main\" : main_cat_model,\n",
        "              \"Sections\" : section_model,\n",
        "              \"Subsections\" : subsection_models}"
      ],
      "execution_count": 0,
      "outputs": []
    },
    {
      "cell_type": "code",
      "metadata": {
        "id": "h1ONYivLqfOl",
        "colab_type": "code",
        "colab": {}
      },
      "source": [
        "training_loaders = {\"Main\" : category_training_loader,\n",
        "                    \"Sections\" : section_training_loader,\n",
        "                    \"Subsections\" : subsection_training_loaders }\n",
        "\n",
        "testing_loaders = {\"Main\" : category_testing_loader,\n",
        "                    \"Sections\" : section_testing_loader,\n",
        "                    \"Subsections\" : subsection_testing_loaders }"
      ],
      "execution_count": 0,
      "outputs": []
    },
    {
      "cell_type": "code",
      "metadata": {
        "id": "Bzc3NbmR2OSe",
        "colab_type": "code",
        "outputId": "84b917f5-2aff-42f6-ca12-4110eb598e67",
        "colab": {
          "base_uri": "https://localhost:8080/",
          "height": 1000
        }
      },
      "source": [
        "## Test a single forward pass \n",
        "## for each training set (Category, Section, Sub-section)\n",
        "\n",
        "# Category\n",
        "cat_inp  = category_train_set.__getitem__(0)[0].cuda()\n",
        "cat_output = model_dict[\"Main\"].forward(cat_inp)\n",
        "print(cat_output)\n",
        "print(torch.max(cat_output[0], 1))\n",
        "\n",
        "# Section\n",
        "sec_inp  = section_train_set .__getitem__(0)[0].cuda()\n",
        "sec_output = model_dict[\"Sections\"].forward(sec_inp)\n",
        "print(sec_output)\n",
        "print(torch.max(sec_output[0], 1))\n",
        "\n",
        "# Sub-Section (Cell Division)\n",
        "for section, model in model_dict[\"Subsections\"].items():\n",
        "  ssec_inp = subsections_train_set[section].__getitem__(0)[0].cuda()\n",
        "  ssec_output = model.forward(ssec_inp)\n",
        "  print(ssec_output)\n",
        "  print(torch.max(ssec_output[0], 1))"
      ],
      "execution_count": 123,
      "outputs": [
        {
          "output_type": "stream",
          "text": [
            "(tensor([[ 0.2398, -0.3766, -0.6867,  0.2394]], device='cuda:0',\n",
            "       grad_fn=<AddmmBackward>),)\n",
            "torch.return_types.max(\n",
            "values=tensor([0.2398], device='cuda:0', grad_fn=<MaxBackward0>),\n",
            "indices=tensor([0], device='cuda:0'))\n",
            "(tensor([[-0.2781,  0.1012, -0.2657, -0.1549, -0.5245,  0.0255, -0.2206, -0.2533,\n",
            "          0.0245, -0.2368, -0.4766, -0.2342]], device='cuda:0',\n",
            "       grad_fn=<AddmmBackward>),)\n",
            "torch.return_types.max(\n",
            "values=tensor([0.1012], device='cuda:0', grad_fn=<MaxBackward0>),\n",
            "indices=tensor([1], device='cuda:0'))\n",
            "(tensor([[ 0.2238,  0.4885, -0.1542,  0.1852, -0.0261,  0.3045, -0.1397,  0.3980,\n",
            "         -0.2841, -0.4280]], device='cuda:0', grad_fn=<AddmmBackward>),)\n",
            "torch.return_types.max(\n",
            "values=tensor([0.4885], device='cuda:0', grad_fn=<MaxBackward0>),\n",
            "indices=tensor([1], device='cuda:0'))\n",
            "(tensor([[-0.2910, -0.0377, -0.2043, -0.2983]], device='cuda:0',\n",
            "       grad_fn=<AddmmBackward>),)\n",
            "torch.return_types.max(\n",
            "values=tensor([-0.0377], device='cuda:0', grad_fn=<MaxBackward0>),\n",
            "indices=tensor([1], device='cuda:0'))\n",
            "(tensor([[ 0.1382,  0.0571,  0.2165, -0.0555, -0.3415, -0.0820, -0.0950]],\n",
            "       device='cuda:0', grad_fn=<AddmmBackward>),)\n",
            "torch.return_types.max(\n",
            "values=tensor([0.2165], device='cuda:0', grad_fn=<MaxBackward0>),\n",
            "indices=tensor([2], device='cuda:0'))\n",
            "(tensor([[ 0.2835, -0.0889, -0.1312, -0.1602, -0.3321,  0.4853, -0.3716, -0.0514,\n",
            "          0.2459]], device='cuda:0', grad_fn=<AddmmBackward>),)\n",
            "torch.return_types.max(\n",
            "values=tensor([0.4853], device='cuda:0', grad_fn=<MaxBackward0>),\n",
            "indices=tensor([5], device='cuda:0'))\n",
            "(tensor([[-0.1202,  0.4009,  0.3071, -0.0818,  0.2604, -0.1156,  0.1205,  0.3139,\n",
            "         -0.0847,  0.0519,  0.1207]], device='cuda:0', grad_fn=<AddmmBackward>),)\n",
            "torch.return_types.max(\n",
            "values=tensor([0.4009], device='cuda:0', grad_fn=<MaxBackward0>),\n",
            "indices=tensor([1], device='cuda:0'))\n",
            "(tensor([[-0.2905, -0.2431,  0.0936,  0.0890]], device='cuda:0',\n",
            "       grad_fn=<AddmmBackward>),)\n",
            "torch.return_types.max(\n",
            "values=tensor([0.0936], device='cuda:0', grad_fn=<MaxBackward0>),\n",
            "indices=tensor([2], device='cuda:0'))\n",
            "(tensor([[-0.1695, -0.2846,  0.1745, -0.0898,  0.0131]], device='cuda:0',\n",
            "       grad_fn=<AddmmBackward>),)\n",
            "torch.return_types.max(\n",
            "values=tensor([0.1745], device='cuda:0', grad_fn=<MaxBackward0>),\n",
            "indices=tensor([2], device='cuda:0'))\n",
            "(tensor([[-0.0593, -0.2112, -0.0889]], device='cuda:0', grad_fn=<AddmmBackward>),)\n",
            "torch.return_types.max(\n",
            "values=tensor([-0.0593], device='cuda:0', grad_fn=<MaxBackward0>),\n",
            "indices=tensor([0], device='cuda:0'))\n",
            "(tensor([[-0.1524, -0.1529,  0.4060, -0.2518]], device='cuda:0',\n",
            "       grad_fn=<AddmmBackward>),)\n",
            "torch.return_types.max(\n",
            "values=tensor([0.4060], device='cuda:0', grad_fn=<MaxBackward0>),\n",
            "indices=tensor([2], device='cuda:0'))\n",
            "(tensor([[ 0.0694, -0.2729, -0.5406, -0.0842,  0.1296]], device='cuda:0',\n",
            "       grad_fn=<AddmmBackward>),)\n",
            "torch.return_types.max(\n",
            "values=tensor([0.1296], device='cuda:0', grad_fn=<MaxBackward0>),\n",
            "indices=tensor([4], device='cuda:0'))\n",
            "(tensor([[ 0.2206, -0.5289, -0.1233,  0.1888, -0.0082]], device='cuda:0',\n",
            "       grad_fn=<AddmmBackward>),)\n",
            "torch.return_types.max(\n",
            "values=tensor([0.2206], device='cuda:0', grad_fn=<MaxBackward0>),\n",
            "indices=tensor([0], device='cuda:0'))\n",
            "(tensor([[ 0.6403, -0.4069,  0.5844,  0.2023,  0.5660,  0.0750, -0.2133,  0.2354]],\n",
            "       device='cuda:0', grad_fn=<AddmmBackward>),)\n",
            "torch.return_types.max(\n",
            "values=tensor([0.6403], device='cuda:0', grad_fn=<MaxBackward0>),\n",
            "indices=tensor([0], device='cuda:0'))\n"
          ],
          "name": "stdout"
        }
      ]
    },
    {
      "cell_type": "code",
      "metadata": {
        "id": "w_vdqHOhC91R",
        "colab_type": "code",
        "colab": {}
      },
      "source": [
        "def train_on(model, training_loader, testing_loader, optimizer, loss_function=nn.CrossEntropyLoss()):\n",
        "  max_epochs = 3\n",
        "\n",
        "  print_at = 100 if (len(training_loader.dataset) > 300) else 50\n",
        "\n",
        "  model = model.train()\n",
        "\n",
        "  for epoch in tqdm_notebook(range(max_epochs)):\n",
        "      print(\"EPOCH -- {}\".format(epoch))\n",
        "      for i, (question, label) in enumerate(training_loader):\n",
        "          optimizer.zero_grad()\n",
        "          question = question.squeeze(0)\n",
        "          if torch.cuda.is_available():\n",
        "            question = question.cuda()\n",
        "            label = label.cuda()\n",
        "          output = model.forward(question)[0]\n",
        "          _, predicted = torch.max(output, 1)\n",
        "          \n",
        "          loss = loss_function(output, label)\n",
        "          loss.backward()\n",
        "          optimizer.step()\n",
        "          \n",
        "          if i % print_at == 0:\n",
        "              correct = 0\n",
        "              total = 0\n",
        "              for question, label in testing_loader:\n",
        "                  question = question.squeeze(0)\n",
        "                  if torch.cuda.is_available():\n",
        "                    question = question.cuda()\n",
        "                    label = label.cuda()\n",
        "                  output = model.forward(question)[0]\n",
        "                  _, predicted = torch.max(output.data, 1)\n",
        "                  total += label.size(0)\n",
        "                  correct += (predicted.cpu() == label.cpu()).sum()\n",
        "              accuracy = 100.00 * correct.numpy() / total\n",
        "              print('Iteration: {}. Loss: {}. Accuracy: {}%'.format(i, loss.item(), accuracy))"
      ],
      "execution_count": 0,
      "outputs": []
    },
    {
      "cell_type": "code",
      "metadata": {
        "id": "J2X9TLrHpyj7",
        "colab_type": "code",
        "colab": {
          "base_uri": "https://localhost:8080/",
          "height": 690,
          "referenced_widgets": [
            "13f5c5f0b82d4270aed7a16a95a8fa58",
            "20b99ff8a87d414b995a650142856032",
            "57123a100baf47608425bb37407494ea",
            "ad6c8aba4d8045b8a09ae206d57e6df7",
            "a8c52de67a2547d09c440790564ddb64",
            "d5c7dca34a244b4db5d27e5e0858bd5a",
            "e7639cf992e04eaf9a8ee0ac2348f129",
            "0a0bdf2cc9d940d7a79f2b837bea2432"
          ]
        },
        "outputId": "741e735c-383a-4155-a087-0ee210dd7fee"
      },
      "source": [
        "# Train Main Category Model\n",
        "# loss_function = nn.CrossEntropyLoss()\n",
        "learning_rate = 1e-05\n",
        "category_model_optimizer = optim.Adam(params =  model_dict[\"Main\"].parameters(), lr=learning_rate)\n",
        "train_on(model_dict[\"Main\"], training_loaders[\"Main\"], testing_loaders[\"Main\"], category_model_optimizer)"
      ],
      "execution_count": 129,
      "outputs": [
        {
          "output_type": "stream",
          "text": [
            "/usr/local/lib/python3.6/dist-packages/ipykernel_launcher.py:8: TqdmDeprecationWarning: This function will be removed in tqdm==5.0.0\n",
            "Please use `tqdm.notebook.tqdm` instead of `tqdm.tqdm_notebook`\n",
            "  \n"
          ],
          "name": "stderr"
        },
        {
          "output_type": "display_data",
          "data": {
            "application/vnd.jupyter.widget-view+json": {
              "model_id": "13f5c5f0b82d4270aed7a16a95a8fa58",
              "version_minor": 0,
              "version_major": 2
            },
            "text/plain": [
              "HBox(children=(IntProgress(value=0, max=3), HTML(value='')))"
            ]
          },
          "metadata": {
            "tags": []
          }
        },
        {
          "output_type": "stream",
          "text": [
            "EPOCH -- 0\n",
            "Iteration: 0. Loss: 1.3274734020233154. Accuracy: 0.0%\n",
            "Iteration: 100. Loss: 0.6335474848747253. Accuracy: 0.0%\n",
            "Iteration: 200. Loss: 0.566177487373352. Accuracy: 0.0%\n",
            "Iteration: 300. Loss: 0.6211508512496948. Accuracy: 0.0%\n",
            "Iteration: 400. Loss: 2.4668359756469727. Accuracy: 0.0%\n",
            "Iteration: 500. Loss: 1.1589210033416748. Accuracy: 83.40080971659918%\n",
            "Iteration: 600. Loss: 1.2846260070800781. Accuracy: 64.77732793522267%\n",
            "Iteration: 700. Loss: 2.023427724838257. Accuracy: 42.51012145748988%\n",
            "Iteration: 800. Loss: 0.22478675842285156. Accuracy: 68.01619433198381%\n",
            "Iteration: 900. Loss: 0.08810043334960938. Accuracy: 80.56680161943319%\n",
            "EPOCH -- 1\n",
            "Iteration: 0. Loss: 0.774721086025238. Accuracy: 79.75708502024291%\n",
            "Iteration: 100. Loss: 2.109522819519043. Accuracy: 73.27935222672065%\n",
            "Iteration: 200. Loss: 1.5995457172393799. Accuracy: 63.56275303643725%\n",
            "Iteration: 300. Loss: 0.39874768257141113. Accuracy: 75.7085020242915%\n",
            "Iteration: 400. Loss: 1.0685397386550903. Accuracy: 70.8502024291498%\n",
            "Iteration: 500. Loss: 0.5192513465881348. Accuracy: 84.21052631578948%\n",
            "Iteration: 600. Loss: 0.17325782775878906. Accuracy: 80.16194331983806%\n",
            "Iteration: 700. Loss: 0.7012685537338257. Accuracy: 73.6842105263158%\n",
            "Iteration: 800. Loss: 1.855299711227417. Accuracy: 80.97165991902834%\n",
            "Iteration: 900. Loss: 1.100939393043518. Accuracy: 74.08906882591093%\n",
            "EPOCH -- 2\n",
            "Iteration: 0. Loss: 0.7583550214767456. Accuracy: 82.5910931174089%\n",
            "Iteration: 100. Loss: 1.304629921913147. Accuracy: 84.21052631578948%\n",
            "Iteration: 200. Loss: 0.29210352897644043. Accuracy: 89.87854251012146%\n",
            "Iteration: 300. Loss: 0.168626070022583. Accuracy: 77.7327935222672%\n",
            "Iteration: 400. Loss: 0.07655477523803711. Accuracy: 79.75708502024291%\n",
            "Iteration: 500. Loss: 2.741962194442749. Accuracy: 88.66396761133603%\n",
            "Iteration: 600. Loss: 0.9043462872505188. Accuracy: 89.06882591093117%\n",
            "Iteration: 700. Loss: 0.1418895721435547. Accuracy: 86.23481781376518%\n",
            "Iteration: 800. Loss: 0.480965256690979. Accuracy: 90.68825910931174%\n",
            "Iteration: 900. Loss: 0.03774905204772949. Accuracy: 90.68825910931174%\n",
            "\n"
          ],
          "name": "stdout"
        }
      ]
    },
    {
      "cell_type": "code",
      "metadata": {
        "id": "VgETT0Eir0TK",
        "colab_type": "code",
        "colab": {}
      },
      "source": [
        " def get_category_from(question):\n",
        "  model_dict[\"Main\"].eval()\n",
        "  input_q, _ = feature_preparation(question)\n",
        "  if torch.cuda.is_available():\n",
        "    input_q = input_q.cuda()\n",
        "  output = model_dict[\"Main\"](input_q)[0]\n",
        "  _, pred_label = torch.max(output.data, 1)\n",
        "  prediction=list(main_category_labels.keys())[pred_label]\n",
        "  return prediction"
      ],
      "execution_count": 0,
      "outputs": []
    },
    {
      "cell_type": "code",
      "metadata": {
        "id": "2k6dsaJquyGL",
        "colab_type": "code",
        "colab": {
          "base_uri": "https://localhost:8080/",
          "height": 710
        },
        "outputId": "a47a9554-4404-48b7-ca60-310354d0548e"
      },
      "source": [
        "for i in range(10):\n",
        "  print(category_dataset[\"question\"][i])\n",
        "  print(\"Actual Category label:\", category_dataset.label[i])\n",
        "  print(\"Predicted Category label: \", get_category_from(category_dataset.question[i]))\n",
        "  print(\"\")"
      ],
      "execution_count": 137,
      "outputs": [
        {
          "output_type": "stream",
          "text": [
            "Name one advantage and one disadvantage of a light microscope ? \n",
            "Actual Category label: Cells and Organisms\n",
            "Predicted Category label:  Disease and bioenergetics\n",
            "\n",
            "Name one advantage and one disadvantage of an electron microscope ? \n",
            "Actual Category label: Cells and Organisms\n",
            "Predicted Category label:  Disease and bioenergetics\n",
            "\n",
            "What do microscopes do? \n",
            "Actual Category label: Cells and Organisms\n",
            "Predicted Category label:  Cells and Organisms\n",
            "\n",
            "When was the microscope invented? \n",
            "Actual Category label: Cells and Organisms\n",
            "Predicted Category label:  Cells and Organisms\n",
            "\n",
            "Where are microscopes used? \n",
            "Actual Category label: Cells and Organisms\n",
            "Predicted Category label:  Cells and Organisms\n",
            "\n",
            "What is the difference between a light microscope and an electron microscope?\n",
            "Actual Category label: Cells and Organisms\n",
            "Predicted Category label:  Cells and Organisms\n",
            "\n",
            "When were the first light microscopes developed?\n",
            "Actual Category label: Cells and Organisms\n",
            "Predicted Category label:  Cells and Organisms\n",
            "\n",
            "What was developed in the mid 17th century?\n",
            "Actual Category label: Cells and Organisms\n",
            "Predicted Category label:  Cells and Organisms\n",
            "\n",
            "How do light microscopes work?\n",
            "Actual Category label: Cells and Organisms\n",
            "Predicted Category label:  Cells and Organisms\n",
            "\n",
            "How far to light microscopes magnify?\n",
            "Actual Category label: Cells and Organisms\n",
            "Predicted Category label:  Cells and Organisms\n",
            "\n"
          ],
          "name": "stdout"
        }
      ]
    },
    {
      "cell_type": "code",
      "metadata": {
        "id": "90tOgY7-txCn",
        "colab_type": "code",
        "colab": {
          "base_uri": "https://localhost:8080/",
          "height": 690,
          "referenced_widgets": [
            "1bd64bd5ec4143248f960796b70b428a",
            "ecbe43bfd5814c838c7c15046ac1443b",
            "c7cc04bd625c4bb19c14c1a394456f09",
            "cef793f45e104459a9f75e70af746092",
            "c1b2472a27b84e5dad59b9d8207de4eb",
            "6e8b0f344d2f4cea85b21abeb483b86d",
            "b933ebe6d2314f24bca961d7869d09cc",
            "54a9a91bd29b412fa175de5e47097d38"
          ]
        },
        "outputId": "ef2ed128-4baf-44b9-e047-e6071d7f9e19"
      },
      "source": [
        "# Train Section-Classifier Model\n",
        "# loss_function = nn.CrossEntropyLoss()\n",
        "learning_rate = 1e-05\n",
        "section_model_optimizer = optim.Adam(params =  model_dict[\"Sections\"].parameters(), lr=learning_rate)\n",
        "train_on(model_dict[\"Sections\"], training_loaders[\"Sections\"], testing_loaders[\"Sections\"], section_model_optimizer)"
      ],
      "execution_count": 138,
      "outputs": [
        {
          "output_type": "stream",
          "text": [
            "/usr/local/lib/python3.6/dist-packages/ipykernel_launcher.py:8: TqdmDeprecationWarning: This function will be removed in tqdm==5.0.0\n",
            "Please use `tqdm.notebook.tqdm` instead of `tqdm.tqdm_notebook`\n",
            "  \n"
          ],
          "name": "stderr"
        },
        {
          "output_type": "display_data",
          "data": {
            "application/vnd.jupyter.widget-view+json": {
              "model_id": "1bd64bd5ec4143248f960796b70b428a",
              "version_minor": 0,
              "version_major": 2
            },
            "text/plain": [
              "HBox(children=(IntProgress(value=0, max=3), HTML(value='')))"
            ]
          },
          "metadata": {
            "tags": []
          }
        },
        {
          "output_type": "stream",
          "text": [
            "EPOCH -- 0\n",
            "Iteration: 0. Loss: 2.4992432594299316. Accuracy: 0.0%\n",
            "Iteration: 100. Loss: 0.5006554126739502. Accuracy: 0.0%\n",
            "Iteration: 200. Loss: 0.7347457408905029. Accuracy: 0.0%\n",
            "Iteration: 300. Loss: 1.6232085227966309. Accuracy: 0.0%\n",
            "Iteration: 400. Loss: 0.9968206882476807. Accuracy: 0.4048582995951417%\n",
            "Iteration: 500. Loss: 1.9106199741363525. Accuracy: 0.0%\n",
            "Iteration: 600. Loss: 1.2735066413879395. Accuracy: 56.68016194331984%\n",
            "Iteration: 700. Loss: 0.4117436408996582. Accuracy: 36.8421052631579%\n",
            "Iteration: 800. Loss: 0.8885021209716797. Accuracy: 77.32793522267207%\n",
            "Iteration: 900. Loss: 1.4557228088378906. Accuracy: 84.21052631578948%\n",
            "EPOCH -- 1\n",
            "Iteration: 0. Loss: 0.41133832931518555. Accuracy: 82.18623481781377%\n",
            "Iteration: 100. Loss: 1.0830409526824951. Accuracy: 73.27935222672065%\n",
            "Iteration: 200. Loss: 0.28741884231567383. Accuracy: 78.94736842105263%\n",
            "Iteration: 300. Loss: 0.11815404891967773. Accuracy: 76.51821862348179%\n",
            "Iteration: 400. Loss: 0.48943662643432617. Accuracy: 84.21052631578948%\n",
            "Iteration: 500. Loss: 0.12897253036499023. Accuracy: 78.5425101214575%\n",
            "Iteration: 600. Loss: 0.2267599105834961. Accuracy: 79.75708502024291%\n",
            "Iteration: 700. Loss: 0.7332816123962402. Accuracy: 84.61538461538461%\n",
            "Iteration: 800. Loss: 1.7039802074432373. Accuracy: 81.78137651821862%\n",
            "Iteration: 900. Loss: 4.3749613761901855. Accuracy: 77.7327935222672%\n",
            "EPOCH -- 2\n",
            "Iteration: 0. Loss: 0.22736120223999023. Accuracy: 76.51821862348179%\n",
            "Iteration: 100. Loss: 0.07460832595825195. Accuracy: 82.99595141700405%\n",
            "Iteration: 200. Loss: 1.8207173347473145. Accuracy: 83.80566801619433%\n",
            "Iteration: 300. Loss: 3.920374631881714. Accuracy: 67.20647773279352%\n",
            "Iteration: 400. Loss: 0.8629941940307617. Accuracy: 30.364372469635626%\n",
            "Iteration: 500. Loss: 0.42048168182373047. Accuracy: 72.8744939271255%\n",
            "Iteration: 600. Loss: 0.3416628837585449. Accuracy: 82.5910931174089%\n",
            "Iteration: 700. Loss: 0.44645261764526367. Accuracy: 80.97165991902834%\n",
            "Iteration: 800. Loss: 0.8451199531555176. Accuracy: 92.71255060728745%\n",
            "Iteration: 900. Loss: 0.7957086563110352. Accuracy: 86.23481781376518%\n",
            "\n"
          ],
          "name": "stdout"
        }
      ]
    },
    {
      "cell_type": "code",
      "metadata": {
        "id": "ELxB1CoTuLOF",
        "colab_type": "code",
        "colab": {}
      },
      "source": [
        " def get_section_from(question):\n",
        "  model_dict[\"Sections\"].eval()\n",
        "  input_q, _ = feature_preparation(question)\n",
        "  if torch.cuda.is_available():\n",
        "    input_q = input_q.cuda()\n",
        "  output = model_dict[\"Sections\"](input_q)[0]\n",
        "  _, pred_label = torch.max(output.data, 1)\n",
        "  prediction=list(section_labels.keys())[pred_label]\n",
        "  return prediction"
      ],
      "execution_count": 0,
      "outputs": []
    },
    {
      "cell_type": "code",
      "metadata": {
        "id": "T2ksztldxzCk",
        "colab_type": "code",
        "colab": {
          "base_uri": "https://localhost:8080/",
          "height": 710
        },
        "outputId": "d085f0dc-1e4e-46ab-9551-cd8fbafbf1fc"
      },
      "source": [
        "for i in range(10):\n",
        "  print(section_dataset[\"question\"][i])\n",
        "  print(\"Actual Category label:\", section_dataset.label[i])\n",
        "  print(\"Predicted Category label: \", get_section_from(section_dataset.question[i]))\n",
        "  print(\"\")"
      ],
      "execution_count": 143,
      "outputs": [
        {
          "output_type": "stream",
          "text": [
            "Name one advantage and one disadvantage of a light microscope ? \n",
            "Actual Category label: Cell Strucuture and transport\n",
            "Predicted Category label:  Cell Division\n",
            "\n",
            "Name one advantage and one disadvantage of an electron microscope ? \n",
            "Actual Category label: Cell Strucuture and transport\n",
            "Predicted Category label:  Cell Division\n",
            "\n",
            "What do microscopes do? \n",
            "Actual Category label: Cell Strucuture and transport\n",
            "Predicted Category label:  Cell Strucuture and transport\n",
            "\n",
            "When was the microscope invented? \n",
            "Actual Category label: Cell Strucuture and transport\n",
            "Predicted Category label:  Cell Strucuture and transport\n",
            "\n",
            "Where are microscopes used? \n",
            "Actual Category label: Cell Strucuture and transport\n",
            "Predicted Category label:  Cell Strucuture and transport\n",
            "\n",
            "What is the difference between a light microscope and an electron microscope?\n",
            "Actual Category label: Cell Strucuture and transport\n",
            "Predicted Category label:  Cell Strucuture and transport\n",
            "\n",
            "When were the first light microscopes developed?\n",
            "Actual Category label: Cell Strucuture and transport\n",
            "Predicted Category label:  Cell Strucuture and transport\n",
            "\n",
            "What was developed in the mid 17th century?\n",
            "Actual Category label: Cell Strucuture and transport\n",
            "Predicted Category label:  Cell Strucuture and transport\n",
            "\n",
            "How do light microscopes work?\n",
            "Actual Category label: Cell Strucuture and transport\n",
            "Predicted Category label:  Cell Strucuture and transport\n",
            "\n",
            "How far to light microscopes magnify?\n",
            "Actual Category label: Cell Strucuture and transport\n",
            "Predicted Category label:  Cell Strucuture and transport\n",
            "\n"
          ],
          "name": "stdout"
        }
      ]
    },
    {
      "cell_type": "code",
      "metadata": {
        "id": "1xpQv7Nhwnyo",
        "colab_type": "code",
        "colab": {
          "base_uri": "https://localhost:8080/",
          "height": 534,
          "referenced_widgets": [
            "e2d9306a9cac4310a6a85ab0ed9f5f38",
            "b7d22cbd96b44ba1b75f9fcda58c6858",
            "9f447e6ce94943ce8ccaff22c9d16f08",
            "b57fb33ffd61461881798ebd8de66dc6",
            "1defe238092b40f1b19b893bf9ac8c76",
            "7470fb1b888b474d801b517c3885aa98",
            "720cc1641d5a4e56b49a21953424166e",
            "dc614e9c481b4c1789c3763859a776ea"
          ]
        },
        "outputId": "83dfd666-5369-4a3d-ef2b-f029dca140a8"
      },
      "source": [
        "# Train Subsection-Classifier Model\n",
        "# loss_function = nn.CrossEntropyLoss()\n",
        "learning_rate = 1e-05\n",
        "\n",
        "for section, model in model_dict[\"Subsections\"].items():\n",
        "  print(\"BEGIN TRAINING FOR SECTION: {} ------------------------------ \".format(section))\n",
        "  print(\"\")\n",
        "  subsection_model_optimizer = optim.Adam(params =  model.parameters(), lr=learning_rate)\n",
        "  train_on(model, training_loaders[\"Subsections\"][section], testing_loaders[\"Subsections\"][section], subsection_model_optimizer)\n",
        "  print(\"END OF TRAINING FOR SECTION: {} ------------------------------ \".format(section))\n",
        "  print(\"\")"
      ],
      "execution_count": 151,
      "outputs": [
        {
          "output_type": "stream",
          "text": [
            "BEGIN TRAINING FOR SECTION: Cell Strucuture and transport ------------------------------ \n",
            "\n"
          ],
          "name": "stdout"
        },
        {
          "output_type": "stream",
          "text": [
            "/usr/local/lib/python3.6/dist-packages/ipykernel_launcher.py:8: TqdmDeprecationWarning: This function will be removed in tqdm==5.0.0\n",
            "Please use `tqdm.notebook.tqdm` instead of `tqdm.tqdm_notebook`\n",
            "  \n"
          ],
          "name": "stderr"
        },
        {
          "output_type": "display_data",
          "data": {
            "application/vnd.jupyter.widget-view+json": {
              "model_id": "e2d9306a9cac4310a6a85ab0ed9f5f38",
              "version_minor": 0,
              "version_major": 2
            },
            "text/plain": [
              "HBox(children=(IntProgress(value=0, max=3), HTML(value='')))"
            ]
          },
          "metadata": {
            "tags": []
          }
        },
        {
          "output_type": "stream",
          "text": [
            "EPOCH -- 0\n",
            "\n"
          ],
          "name": "stdout"
        },
        {
          "output_type": "error",
          "ename": "RuntimeError",
          "evalue": "ignored",
          "traceback": [
            "\u001b[0;31m---------------------------------------------------------------------------\u001b[0m",
            "\u001b[0;31mRuntimeError\u001b[0m                              Traceback (most recent call last)",
            "\u001b[0;32m<ipython-input-151-2ee47eea7e5b>\u001b[0m in \u001b[0;36m<module>\u001b[0;34m()\u001b[0m\n\u001b[1;32m      5\u001b[0m   \u001b[0mprint\u001b[0m\u001b[0;34m(\u001b[0m\u001b[0;34m\"\"\u001b[0m\u001b[0;34m)\u001b[0m\u001b[0;34m\u001b[0m\u001b[0;34m\u001b[0m\u001b[0m\n\u001b[1;32m      6\u001b[0m   \u001b[0msubsection_model_optimizer\u001b[0m \u001b[0;34m=\u001b[0m \u001b[0moptim\u001b[0m\u001b[0;34m.\u001b[0m\u001b[0mAdam\u001b[0m\u001b[0;34m(\u001b[0m\u001b[0mparams\u001b[0m \u001b[0;34m=\u001b[0m  \u001b[0mmodel\u001b[0m\u001b[0;34m.\u001b[0m\u001b[0mparameters\u001b[0m\u001b[0;34m(\u001b[0m\u001b[0;34m)\u001b[0m\u001b[0;34m,\u001b[0m \u001b[0mlr\u001b[0m\u001b[0;34m=\u001b[0m\u001b[0mlearning_rate\u001b[0m\u001b[0;34m)\u001b[0m\u001b[0;34m\u001b[0m\u001b[0;34m\u001b[0m\u001b[0m\n\u001b[0;32m----> 7\u001b[0;31m   \u001b[0mtrain_on\u001b[0m\u001b[0;34m(\u001b[0m\u001b[0mmodel\u001b[0m\u001b[0;34m,\u001b[0m \u001b[0mtraining_loaders\u001b[0m\u001b[0;34m[\u001b[0m\u001b[0;34m\"Subsections\"\u001b[0m\u001b[0;34m]\u001b[0m\u001b[0;34m[\u001b[0m\u001b[0msection\u001b[0m\u001b[0;34m]\u001b[0m\u001b[0;34m,\u001b[0m \u001b[0mtesting_loaders\u001b[0m\u001b[0;34m[\u001b[0m\u001b[0;34m\"Subsections\"\u001b[0m\u001b[0;34m]\u001b[0m\u001b[0;34m[\u001b[0m\u001b[0msection\u001b[0m\u001b[0;34m]\u001b[0m\u001b[0;34m,\u001b[0m \u001b[0msubsection_model_optimizer\u001b[0m\u001b[0;34m)\u001b[0m\u001b[0;34m\u001b[0m\u001b[0;34m\u001b[0m\u001b[0m\n\u001b[0m\u001b[1;32m      8\u001b[0m   \u001b[0mprint\u001b[0m\u001b[0;34m(\u001b[0m\u001b[0;34m\"END OF TRAINING FOR SECTION: {} ------------------------------ \"\u001b[0m\u001b[0;34m.\u001b[0m\u001b[0mformat\u001b[0m\u001b[0;34m(\u001b[0m\u001b[0msection\u001b[0m\u001b[0;34m)\u001b[0m\u001b[0;34m)\u001b[0m\u001b[0;34m\u001b[0m\u001b[0;34m\u001b[0m\u001b[0m\n\u001b[1;32m      9\u001b[0m   \u001b[0mprint\u001b[0m\u001b[0;34m(\u001b[0m\u001b[0;34m\"\"\u001b[0m\u001b[0;34m)\u001b[0m\u001b[0;34m\u001b[0m\u001b[0;34m\u001b[0m\u001b[0m\n",
            "\u001b[0;32m<ipython-input-149-ef782ef6e61a>\u001b[0m in \u001b[0;36mtrain_on\u001b[0;34m(model, training_loader, testing_loader, optimizer, loss_function)\u001b[0m\n\u001b[1;32m     18\u001b[0m \u001b[0;34m\u001b[0m\u001b[0m\n\u001b[1;32m     19\u001b[0m           \u001b[0mloss\u001b[0m \u001b[0;34m=\u001b[0m \u001b[0mloss_function\u001b[0m\u001b[0;34m(\u001b[0m\u001b[0moutput\u001b[0m\u001b[0;34m,\u001b[0m \u001b[0mlabel\u001b[0m\u001b[0;34m)\u001b[0m\u001b[0;34m\u001b[0m\u001b[0;34m\u001b[0m\u001b[0m\n\u001b[0;32m---> 20\u001b[0;31m           \u001b[0mloss\u001b[0m\u001b[0;34m.\u001b[0m\u001b[0mbackward\u001b[0m\u001b[0;34m(\u001b[0m\u001b[0;34m)\u001b[0m\u001b[0;34m\u001b[0m\u001b[0;34m\u001b[0m\u001b[0m\n\u001b[0m\u001b[1;32m     21\u001b[0m           \u001b[0moptimizer\u001b[0m\u001b[0;34m.\u001b[0m\u001b[0mstep\u001b[0m\u001b[0;34m(\u001b[0m\u001b[0;34m)\u001b[0m\u001b[0;34m\u001b[0m\u001b[0;34m\u001b[0m\u001b[0m\n\u001b[1;32m     22\u001b[0m \u001b[0;34m\u001b[0m\u001b[0m\n",
            "\u001b[0;32m/usr/local/lib/python3.6/dist-packages/torch/tensor.py\u001b[0m in \u001b[0;36mbackward\u001b[0;34m(self, gradient, retain_graph, create_graph)\u001b[0m\n\u001b[1;32m    193\u001b[0m                 \u001b[0mproducts\u001b[0m\u001b[0;34m.\u001b[0m \u001b[0mDefaults\u001b[0m \u001b[0mto\u001b[0m\u001b[0;31m \u001b[0m\u001b[0;31m`\u001b[0m\u001b[0;31m`\u001b[0m\u001b[0;32mFalse\u001b[0m\u001b[0;31m`\u001b[0m\u001b[0;31m`\u001b[0m\u001b[0;34m.\u001b[0m\u001b[0;34m\u001b[0m\u001b[0;34m\u001b[0m\u001b[0m\n\u001b[1;32m    194\u001b[0m         \"\"\"\n\u001b[0;32m--> 195\u001b[0;31m         \u001b[0mtorch\u001b[0m\u001b[0;34m.\u001b[0m\u001b[0mautograd\u001b[0m\u001b[0;34m.\u001b[0m\u001b[0mbackward\u001b[0m\u001b[0;34m(\u001b[0m\u001b[0mself\u001b[0m\u001b[0;34m,\u001b[0m \u001b[0mgradient\u001b[0m\u001b[0;34m,\u001b[0m \u001b[0mretain_graph\u001b[0m\u001b[0;34m,\u001b[0m \u001b[0mcreate_graph\u001b[0m\u001b[0;34m)\u001b[0m\u001b[0;34m\u001b[0m\u001b[0;34m\u001b[0m\u001b[0m\n\u001b[0m\u001b[1;32m    196\u001b[0m \u001b[0;34m\u001b[0m\u001b[0m\n\u001b[1;32m    197\u001b[0m     \u001b[0;32mdef\u001b[0m \u001b[0mregister_hook\u001b[0m\u001b[0;34m(\u001b[0m\u001b[0mself\u001b[0m\u001b[0;34m,\u001b[0m \u001b[0mhook\u001b[0m\u001b[0;34m)\u001b[0m\u001b[0;34m:\u001b[0m\u001b[0;34m\u001b[0m\u001b[0;34m\u001b[0m\u001b[0m\n",
            "\u001b[0;32m/usr/local/lib/python3.6/dist-packages/torch/autograd/__init__.py\u001b[0m in \u001b[0;36mbackward\u001b[0;34m(tensors, grad_tensors, retain_graph, create_graph, grad_variables)\u001b[0m\n\u001b[1;32m     97\u001b[0m     Variable._execution_engine.run_backward(\n\u001b[1;32m     98\u001b[0m         \u001b[0mtensors\u001b[0m\u001b[0;34m,\u001b[0m \u001b[0mgrad_tensors\u001b[0m\u001b[0;34m,\u001b[0m \u001b[0mretain_graph\u001b[0m\u001b[0;34m,\u001b[0m \u001b[0mcreate_graph\u001b[0m\u001b[0;34m,\u001b[0m\u001b[0;34m\u001b[0m\u001b[0;34m\u001b[0m\u001b[0m\n\u001b[0;32m---> 99\u001b[0;31m         allow_unreachable=True)  # allow_unreachable flag\n\u001b[0m\u001b[1;32m    100\u001b[0m \u001b[0;34m\u001b[0m\u001b[0m\n\u001b[1;32m    101\u001b[0m \u001b[0;34m\u001b[0m\u001b[0m\n",
            "\u001b[0;31mRuntimeError\u001b[0m: CUDA out of memory. Tried to allocate 148.00 MiB (GPU 0; 15.90 GiB total capacity; 14.39 GiB already allocated; 9.62 MiB free; 15.19 GiB reserved in total by PyTorch)"
          ]
        }
      ]
    },
    {
      "cell_type": "code",
      "metadata": {
        "id": "2EG8tdV7EG0A",
        "colab_type": "code",
        "colab": {}
      },
      "source": [
        " def get_subsection_from(question, section):\n",
        "  model.eval()\n",
        "  input_q, _ = feature_preparation(question)\n",
        "  if torch.cuda.is_available():\n",
        "    input_q = input_q.cuda()\n",
        "  output = model(input_q)[0]\n",
        "  _, pred_label = torch.max(output.data, 1)\n",
        "  # prediction=list(label_to_ix.keys())[pred_label]\n",
        "  prediction=list(subsection_labels[section].keys())[pred_label]\n",
        "  return prediction"
      ],
      "execution_count": 0,
      "outputs": []
    },
    {
      "cell_type": "code",
      "metadata": {
        "id": "Et-ahyjpEMML",
        "colab_type": "code",
        "outputId": "2a00c0a1-2f51-4738-c266-bc3fd9c3ec5f",
        "colab": {
          "base_uri": "https://localhost:8080/",
          "height": 34
        }
      },
      "source": [
        "section_labels[\"Cell Division\"].keys()"
      ],
      "execution_count": 51,
      "outputs": [
        {
          "output_type": "execute_result",
          "data": {
            "text/plain": [
              "dict_keys(['Cell division', 'Growth and differentiation', 'Stem cells', 'Stem cell dilemmas'])"
            ]
          },
          "metadata": {
            "tags": []
          },
          "execution_count": 51
        }
      ]
    },
    {
      "cell_type": "code",
      "metadata": {
        "id": "zjq75YZ3EOS5",
        "colab_type": "code",
        "outputId": "ac2826d6-4666-4018-e9fb-36a6343ac586",
        "colab": {
          "base_uri": "https://localhost:8080/",
          "height": 710
        }
      },
      "source": [
        "# print(section_dfs_train[\"Cell Division\"].question[50])\n",
        "for i in range(10):\n",
        "  print(subsection_datasets_train[\"Cell Division\"].question[i])\n",
        "  print(\"Actual subsection label:\", subsection_datasets_train[\"Cell Division\"].label[i])\n",
        "  print(\"Predicted label: \", get_subsection_from(subsection_datasets_train[\"Cell Division\"].question[i], \"Cell Division\"))\n",
        "  print(\"\")"
      ],
      "execution_count": 56,
      "outputs": [
        {
          "output_type": "stream",
          "text": [
            "What is growth defined to be in terms of mitosis?\n",
            "Actual subsection label: Growth and differentiation\n",
            "Predicted label:  Growth and differentiation\n",
            "\n",
            "Give three sources of stem cells? \n",
            "Actual subsection label: Stem cells\n",
            "Predicted label:  Stem cells\n",
            "\n",
            "Why are measle numbers low in the UK?\n",
            "Actual subsection label: Cell division\n",
            "Predicted label:  Growth and differentiation\n",
            "\n",
            "How is the embryo formed?\n",
            "Actual subsection label: Stem cells\n",
            "Predicted label:  Growth and differentiation\n",
            "\n",
            "How can people have the best chance of long-term survival with HIV/AIDS?\n",
            "Actual subsection label: Cell division\n",
            "Predicted label:  Growth and differentiation\n",
            "\n",
            "What are the main symptoms of measles?\n",
            "Actual subsection label: Cell division\n",
            "Predicted label:  Growth and differentiation\n",
            "\n",
            "What can stem cells from plant meristems be used for?\n",
            "Actual subsection label: Stem cells\n",
            "Predicted label:  Growth and differentiation\n",
            "\n",
            "Identify the differences between a stem cell and a normal body cell? \n",
            "Actual subsection label: Stem cells\n",
            "Predicted label:  Growth and differentiation\n",
            "\n",
            "What are most of the cells a result of?\n",
            "Actual subsection label: Growth and differentiation\n",
            "Predicted label:  Growth and differentiation\n",
            "\n",
            "\n",
            "Actual subsection label: Growth and differentiation\n",
            "Predicted label:  Growth and differentiation\n",
            "\n"
          ],
          "name": "stdout"
        }
      ]
    },
    {
      "cell_type": "markdown",
      "metadata": {
        "id": "YB3A5TJzD9uW",
        "colab_type": "text"
      },
      "source": [
        "# LAYER 2: Untouched as of yet."
      ]
    },
    {
      "cell_type": "code",
      "metadata": {
        "id": "Uz1SYy4TlQa5",
        "colab_type": "code",
        "colab": {}
      },
      "source": [
        "from transformers.data.processors.squad import SquadResult, SquadV2Processor, SquadExample\n",
        "\n",
        "from transformers.data.metrics.squad_metrics import compute_predictions_logits\n",
        "\n",
        "model_name_or_path = \"ktrapeznikov/albert-xlarge-v2-squad-v2\"\n",
        "# model_name_or_path = \"bert-base-uncased\"\n",
        "\n",
        "output_dir = \"\"\n",
        "\n",
        "\n",
        "def to_list(tensor):\n",
        "    return tensor.detach().cpu().tolist()\n",
        "    \n",
        "# Config\n",
        "n_best_size = 1\n",
        "max_answer_length = 30\n",
        "do_lower_case = True\n",
        "null_score_diff_threshold = 0.0\n",
        "\n",
        "# Setup model\n",
        "config_class, model_class, tokenizer_class = (\n",
        "    AlbertConfig, AlbertForQuestionAnswering, AlbertTokenizer)\n",
        "\n",
        "\n",
        "config = config_class.from_pretrained(model_name_or_path)\n",
        "\n",
        "tokenizer = tokenizer_class.from_pretrained(model_name_or_path, do_lower_case=True)\n",
        "\n",
        "model = model_class.from_pretrained(model_name_or_path, config=config)\n",
        "\n",
        "device = torch.device(\"cuda\" if torch.cuda.is_available() else \"cpu\")\n",
        "\n",
        "model.to(device)\n",
        "\n",
        "processor = SquadV2Processor()\n",
        "\n",
        "def run_prediction(question_texts, context_text):\n",
        "    \"\"\"Setup function to compute predictions\"\"\"\n",
        "    examples = []\n",
        "\n",
        "    for i, question_text in enumerate(question_texts):\n",
        "        example = SquadExample(\n",
        "            qas_id=str(i),\n",
        "            question_text=question_text,\n",
        "            context_text=context_text,\n",
        "            answer_text=None,\n",
        "            start_position_character=None,\n",
        "            title=\"Predict\",\n",
        "            is_impossible=False,\n",
        "            answers=None,\n",
        "        )\n",
        "\n",
        "        examples.append(example)\n",
        "\n",
        "    features, dataset = squad_convert_examples_to_features(\n",
        "        examples=examples,\n",
        "        tokenizer=tokenizer,\n",
        "        max_seq_length=384,\n",
        "        doc_stride=128,\n",
        "        max_query_length=64,\n",
        "        is_training=False,\n",
        "        return_dataset=\"pt\",\n",
        "        threads=1,\n",
        "    )\n",
        "\n",
        "    eval_sampler = SequentialSampler(dataset)\n",
        "    eval_dataloader = DataLoader(dataset, sampler=eval_sampler, batch_size=10)\n",
        "\n",
        "    all_results = []\n",
        "\n",
        "    for batch in eval_dataloader:\n",
        "        model.eval()\n",
        "        batch = tuple(t.to(device) for t in batch)\n",
        "\n",
        "        with torch.no_grad():\n",
        "            inputs = {\n",
        "                \"input_ids\": batch[0],\n",
        "                \"attention_mask\": batch[1],\n",
        "                \"token_type_ids\": batch[2],\n",
        "            }\n",
        "\n",
        "            example_indices = batch[3]\n",
        "\n",
        "            outputs = model(**inputs)\n",
        "\n",
        "            for i, example_index in enumerate(example_indices):\n",
        "                eval_feature = features[example_index.item()]\n",
        "                unique_id = int(eval_feature.unique_id)\n",
        "\n",
        "                output = [to_list(output[i]) for output in outputs]\n",
        "\n",
        "                start_logits, end_logits = output\n",
        "                result = SquadResult(unique_id, start_logits, end_logits)\n",
        "                all_results.append(result)\n",
        "\n",
        "    output_prediction_file = \"predictions.json\"\n",
        "    output_nbest_file = \"nbest_predictions.json\"\n",
        "    output_null_log_odds_file = \"null_predictions.json\"\n",
        "\n",
        "    predictions = compute_predictions_logits(\n",
        "        examples,\n",
        "        features,\n",
        "        all_results,\n",
        "        n_best_size,\n",
        "        max_answer_length,\n",
        "        do_lower_case,\n",
        "        output_prediction_file,\n",
        "        output_nbest_file,\n",
        "        output_null_log_odds_file,\n",
        "        False,  # verbose_logging\n",
        "        True,  # version_2_with_negative\n",
        "        null_score_diff_threshold,\n",
        "        tokenizer,\n",
        "    )\n",
        "\n",
        "    return predictions"
      ],
      "execution_count": 0,
      "outputs": []
    },
    {
      "cell_type": "code",
      "metadata": {
        "id": "HXcnVhdLmy1-",
        "colab_type": "code",
        "outputId": "e499d7b9-3511-472f-edde-5939c530708b",
        "colab": {
          "base_uri": "https://localhost:8080/",
          "height": 138
        }
      },
      "source": [
        "context = \"Animals need to eat food to get their energy. But green plants and algae do not. Instead they make their own food in a process called photosynthesis. Almost all life on Earth depends upon this process. Photosynthesis is also important in maintaining the levels of oxygen and carbon dioxide in the atmosphere. These are the things that plants need for photosynthesis: carbon dioxide, water, light (a source of energy) These are the things that plants make by photosynthesis: glucose and oxygen Photosynthesis takes place inside plant cells in small objects called chloroplasts. Chloroplasts contain a green substance called chlorophyll. This absorbs the light energy needed to make photosynthesis happen. Plants and algae can only carry out photosynthesis in the light. Plants get carbon dioxide from the air through their leaves, and water from the ground through their roots. Light energy comes from the Sun. The oxygen produced is released into the air from the leaves. The glucose produced can be turned into other substances, such as starch and plant oils, which are used as an energy store. This energy can be released by respiration.\"\n",
        "questions = [\"What are the products of photosynthesis?\", \n",
        "             \"What colour is chlorophyll?\",\n",
        "             \"Where does photosynthesis take place?\",\n",
        "             \"When do plants photosynthesise?\",\n",
        "             \"What are the reactants of photosynthesis?\"]\n",
        "\n",
        "# Run method\n",
        "predictions = run_prediction(questions, context)\n",
        "\n",
        "# Print results\n",
        "for key in predictions.keys():\n",
        "  print(predictions[key])"
      ],
      "execution_count": 0,
      "outputs": [
        {
          "output_type": "stream",
          "text": [
            "convert squad examples to features: 100%|██████████| 5/5 [00:00<00:00, 111.13it/s]\n",
            "add example index and unique id: 100%|██████████| 5/5 [00:00<00:00, 13374.69it/s]\n"
          ],
          "name": "stderr"
        },
        {
          "output_type": "stream",
          "text": [
            "glucose and oxygen\n",
            "green\n",
            "inside plant cells\n",
            "in the light\n",
            "glucose and oxygen\n"
          ],
          "name": "stdout"
        }
      ]
    },
    {
      "cell_type": "code",
      "metadata": {
        "id": "Kexv1DPZmW9y",
        "colab_type": "code",
        "colab": {}
      },
      "source": [
        ""
      ],
      "execution_count": 0,
      "outputs": []
    }
  ]
}
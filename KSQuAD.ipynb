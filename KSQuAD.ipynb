{
  "nbformat": 4,
  "nbformat_minor": 0,
  "metadata": {
    "colab": {
      "name": "KSQuAD.ipynb",
      "provenance": [],
      "collapsed_sections": [],
      "machine_shape": "hm"
    },
    "kernelspec": {
      "name": "python3",
      "display_name": "Python 3"
    },
    "accelerator": "GPU",
    "widgets": {
      "application/vnd.jupyter.widget-state+json": {
        "e56c0a8dc5ec4a0e968135b1e515c7ff": {
          "model_module": "@jupyter-widgets/controls",
          "model_name": "HBoxModel",
          "state": {
            "_view_name": "HBoxView",
            "_dom_classes": [],
            "_model_name": "HBoxModel",
            "_view_module": "@jupyter-widgets/controls",
            "_model_module_version": "1.5.0",
            "_view_count": null,
            "_view_module_version": "1.5.0",
            "box_style": "",
            "layout": "IPY_MODEL_b209b223566948e29734a10e0a219afa",
            "_model_module": "@jupyter-widgets/controls",
            "children": [
              "IPY_MODEL_9ab3198ce1e24a4b8467d948ed2fcc69",
              "IPY_MODEL_0c8500cffe7b4c1992075ebd10ecf64f"
            ]
          }
        },
        "b209b223566948e29734a10e0a219afa": {
          "model_module": "@jupyter-widgets/base",
          "model_name": "LayoutModel",
          "state": {
            "_view_name": "LayoutView",
            "grid_template_rows": null,
            "right": null,
            "justify_content": null,
            "_view_module": "@jupyter-widgets/base",
            "overflow": null,
            "_model_module_version": "1.2.0",
            "_view_count": null,
            "flex_flow": null,
            "width": null,
            "min_width": null,
            "border": null,
            "align_items": null,
            "bottom": null,
            "_model_module": "@jupyter-widgets/base",
            "top": null,
            "grid_column": null,
            "overflow_y": null,
            "overflow_x": null,
            "grid_auto_flow": null,
            "grid_area": null,
            "grid_template_columns": null,
            "flex": null,
            "_model_name": "LayoutModel",
            "justify_items": null,
            "grid_row": null,
            "max_height": null,
            "align_content": null,
            "visibility": null,
            "align_self": null,
            "height": null,
            "min_height": null,
            "padding": null,
            "grid_auto_rows": null,
            "grid_gap": null,
            "max_width": null,
            "order": null,
            "_view_module_version": "1.2.0",
            "grid_template_areas": null,
            "object_position": null,
            "object_fit": null,
            "grid_auto_columns": null,
            "margin": null,
            "display": null,
            "left": null
          }
        },
        "9ab3198ce1e24a4b8467d948ed2fcc69": {
          "model_module": "@jupyter-widgets/controls",
          "model_name": "IntProgressModel",
          "state": {
            "_view_name": "ProgressView",
            "style": "IPY_MODEL_fea24dcb511e4acd80e2046d26959698",
            "_dom_classes": [],
            "description": "Downloading: 100%",
            "_model_name": "IntProgressModel",
            "bar_style": "success",
            "max": 898823,
            "_view_module": "@jupyter-widgets/controls",
            "_model_module_version": "1.5.0",
            "value": 898823,
            "_view_count": null,
            "_view_module_version": "1.5.0",
            "orientation": "horizontal",
            "min": 0,
            "description_tooltip": null,
            "_model_module": "@jupyter-widgets/controls",
            "layout": "IPY_MODEL_28dee2a059244d3d92845ce4185d13e6"
          }
        },
        "0c8500cffe7b4c1992075ebd10ecf64f": {
          "model_module": "@jupyter-widgets/controls",
          "model_name": "HTMLModel",
          "state": {
            "_view_name": "HTMLView",
            "style": "IPY_MODEL_63acc2b9d96c41c384d6923a19dda080",
            "_dom_classes": [],
            "description": "",
            "_model_name": "HTMLModel",
            "placeholder": "​",
            "_view_module": "@jupyter-widgets/controls",
            "_model_module_version": "1.5.0",
            "value": " 899k/899k [00:00&lt;00:00, 3.36MB/s]",
            "_view_count": null,
            "_view_module_version": "1.5.0",
            "description_tooltip": null,
            "_model_module": "@jupyter-widgets/controls",
            "layout": "IPY_MODEL_5129a95a8ec744b196b56c4b9f0ad107"
          }
        },
        "fea24dcb511e4acd80e2046d26959698": {
          "model_module": "@jupyter-widgets/controls",
          "model_name": "ProgressStyleModel",
          "state": {
            "_view_name": "StyleView",
            "_model_name": "ProgressStyleModel",
            "description_width": "initial",
            "_view_module": "@jupyter-widgets/base",
            "_model_module_version": "1.5.0",
            "_view_count": null,
            "_view_module_version": "1.2.0",
            "bar_color": null,
            "_model_module": "@jupyter-widgets/controls"
          }
        },
        "28dee2a059244d3d92845ce4185d13e6": {
          "model_module": "@jupyter-widgets/base",
          "model_name": "LayoutModel",
          "state": {
            "_view_name": "LayoutView",
            "grid_template_rows": null,
            "right": null,
            "justify_content": null,
            "_view_module": "@jupyter-widgets/base",
            "overflow": null,
            "_model_module_version": "1.2.0",
            "_view_count": null,
            "flex_flow": null,
            "width": null,
            "min_width": null,
            "border": null,
            "align_items": null,
            "bottom": null,
            "_model_module": "@jupyter-widgets/base",
            "top": null,
            "grid_column": null,
            "overflow_y": null,
            "overflow_x": null,
            "grid_auto_flow": null,
            "grid_area": null,
            "grid_template_columns": null,
            "flex": null,
            "_model_name": "LayoutModel",
            "justify_items": null,
            "grid_row": null,
            "max_height": null,
            "align_content": null,
            "visibility": null,
            "align_self": null,
            "height": null,
            "min_height": null,
            "padding": null,
            "grid_auto_rows": null,
            "grid_gap": null,
            "max_width": null,
            "order": null,
            "_view_module_version": "1.2.0",
            "grid_template_areas": null,
            "object_position": null,
            "object_fit": null,
            "grid_auto_columns": null,
            "margin": null,
            "display": null,
            "left": null
          }
        },
        "63acc2b9d96c41c384d6923a19dda080": {
          "model_module": "@jupyter-widgets/controls",
          "model_name": "DescriptionStyleModel",
          "state": {
            "_view_name": "StyleView",
            "_model_name": "DescriptionStyleModel",
            "description_width": "",
            "_view_module": "@jupyter-widgets/base",
            "_model_module_version": "1.5.0",
            "_view_count": null,
            "_view_module_version": "1.2.0",
            "_model_module": "@jupyter-widgets/controls"
          }
        },
        "5129a95a8ec744b196b56c4b9f0ad107": {
          "model_module": "@jupyter-widgets/base",
          "model_name": "LayoutModel",
          "state": {
            "_view_name": "LayoutView",
            "grid_template_rows": null,
            "right": null,
            "justify_content": null,
            "_view_module": "@jupyter-widgets/base",
            "overflow": null,
            "_model_module_version": "1.2.0",
            "_view_count": null,
            "flex_flow": null,
            "width": null,
            "min_width": null,
            "border": null,
            "align_items": null,
            "bottom": null,
            "_model_module": "@jupyter-widgets/base",
            "top": null,
            "grid_column": null,
            "overflow_y": null,
            "overflow_x": null,
            "grid_auto_flow": null,
            "grid_area": null,
            "grid_template_columns": null,
            "flex": null,
            "_model_name": "LayoutModel",
            "justify_items": null,
            "grid_row": null,
            "max_height": null,
            "align_content": null,
            "visibility": null,
            "align_self": null,
            "height": null,
            "min_height": null,
            "padding": null,
            "grid_auto_rows": null,
            "grid_gap": null,
            "max_width": null,
            "order": null,
            "_view_module_version": "1.2.0",
            "grid_template_areas": null,
            "object_position": null,
            "object_fit": null,
            "grid_auto_columns": null,
            "margin": null,
            "display": null,
            "left": null
          }
        },
        "fc5a9360b3b84eb28e7c3ac1f18bb72c": {
          "model_module": "@jupyter-widgets/controls",
          "model_name": "HBoxModel",
          "state": {
            "_view_name": "HBoxView",
            "_dom_classes": [],
            "_model_name": "HBoxModel",
            "_view_module": "@jupyter-widgets/controls",
            "_model_module_version": "1.5.0",
            "_view_count": null,
            "_view_module_version": "1.5.0",
            "box_style": "",
            "layout": "IPY_MODEL_25ade31d01994095a28a21c28e09eabc",
            "_model_module": "@jupyter-widgets/controls",
            "children": [
              "IPY_MODEL_aabb01ea912342e3b74cbc8013e1a3b5",
              "IPY_MODEL_1b3d2960103848988e41b91243a12af1"
            ]
          }
        },
        "25ade31d01994095a28a21c28e09eabc": {
          "model_module": "@jupyter-widgets/base",
          "model_name": "LayoutModel",
          "state": {
            "_view_name": "LayoutView",
            "grid_template_rows": null,
            "right": null,
            "justify_content": null,
            "_view_module": "@jupyter-widgets/base",
            "overflow": null,
            "_model_module_version": "1.2.0",
            "_view_count": null,
            "flex_flow": null,
            "width": null,
            "min_width": null,
            "border": null,
            "align_items": null,
            "bottom": null,
            "_model_module": "@jupyter-widgets/base",
            "top": null,
            "grid_column": null,
            "overflow_y": null,
            "overflow_x": null,
            "grid_auto_flow": null,
            "grid_area": null,
            "grid_template_columns": null,
            "flex": null,
            "_model_name": "LayoutModel",
            "justify_items": null,
            "grid_row": null,
            "max_height": null,
            "align_content": null,
            "visibility": null,
            "align_self": null,
            "height": null,
            "min_height": null,
            "padding": null,
            "grid_auto_rows": null,
            "grid_gap": null,
            "max_width": null,
            "order": null,
            "_view_module_version": "1.2.0",
            "grid_template_areas": null,
            "object_position": null,
            "object_fit": null,
            "grid_auto_columns": null,
            "margin": null,
            "display": null,
            "left": null
          }
        },
        "aabb01ea912342e3b74cbc8013e1a3b5": {
          "model_module": "@jupyter-widgets/controls",
          "model_name": "IntProgressModel",
          "state": {
            "_view_name": "ProgressView",
            "style": "IPY_MODEL_9ae8ba6107964c70bc4f8ba830531e52",
            "_dom_classes": [],
            "description": "Downloading: 100%",
            "_model_name": "IntProgressModel",
            "bar_style": "success",
            "max": 456318,
            "_view_module": "@jupyter-widgets/controls",
            "_model_module_version": "1.5.0",
            "value": 456318,
            "_view_count": null,
            "_view_module_version": "1.5.0",
            "orientation": "horizontal",
            "min": 0,
            "description_tooltip": null,
            "_model_module": "@jupyter-widgets/controls",
            "layout": "IPY_MODEL_1039956ffd9643a3a0a190727c6e7f4c"
          }
        },
        "1b3d2960103848988e41b91243a12af1": {
          "model_module": "@jupyter-widgets/controls",
          "model_name": "HTMLModel",
          "state": {
            "_view_name": "HTMLView",
            "style": "IPY_MODEL_aa6a4af506af4bcaaccf3e42a407268e",
            "_dom_classes": [],
            "description": "",
            "_model_name": "HTMLModel",
            "placeholder": "​",
            "_view_module": "@jupyter-widgets/controls",
            "_model_module_version": "1.5.0",
            "value": " 456k/456k [00:00&lt;00:00, 4.43MB/s]",
            "_view_count": null,
            "_view_module_version": "1.5.0",
            "description_tooltip": null,
            "_model_module": "@jupyter-widgets/controls",
            "layout": "IPY_MODEL_014ae464a0ab45578564749ebc2baaa3"
          }
        },
        "9ae8ba6107964c70bc4f8ba830531e52": {
          "model_module": "@jupyter-widgets/controls",
          "model_name": "ProgressStyleModel",
          "state": {
            "_view_name": "StyleView",
            "_model_name": "ProgressStyleModel",
            "description_width": "initial",
            "_view_module": "@jupyter-widgets/base",
            "_model_module_version": "1.5.0",
            "_view_count": null,
            "_view_module_version": "1.2.0",
            "bar_color": null,
            "_model_module": "@jupyter-widgets/controls"
          }
        },
        "1039956ffd9643a3a0a190727c6e7f4c": {
          "model_module": "@jupyter-widgets/base",
          "model_name": "LayoutModel",
          "state": {
            "_view_name": "LayoutView",
            "grid_template_rows": null,
            "right": null,
            "justify_content": null,
            "_view_module": "@jupyter-widgets/base",
            "overflow": null,
            "_model_module_version": "1.2.0",
            "_view_count": null,
            "flex_flow": null,
            "width": null,
            "min_width": null,
            "border": null,
            "align_items": null,
            "bottom": null,
            "_model_module": "@jupyter-widgets/base",
            "top": null,
            "grid_column": null,
            "overflow_y": null,
            "overflow_x": null,
            "grid_auto_flow": null,
            "grid_area": null,
            "grid_template_columns": null,
            "flex": null,
            "_model_name": "LayoutModel",
            "justify_items": null,
            "grid_row": null,
            "max_height": null,
            "align_content": null,
            "visibility": null,
            "align_self": null,
            "height": null,
            "min_height": null,
            "padding": null,
            "grid_auto_rows": null,
            "grid_gap": null,
            "max_width": null,
            "order": null,
            "_view_module_version": "1.2.0",
            "grid_template_areas": null,
            "object_position": null,
            "object_fit": null,
            "grid_auto_columns": null,
            "margin": null,
            "display": null,
            "left": null
          }
        },
        "aa6a4af506af4bcaaccf3e42a407268e": {
          "model_module": "@jupyter-widgets/controls",
          "model_name": "DescriptionStyleModel",
          "state": {
            "_view_name": "StyleView",
            "_model_name": "DescriptionStyleModel",
            "description_width": "",
            "_view_module": "@jupyter-widgets/base",
            "_model_module_version": "1.5.0",
            "_view_count": null,
            "_view_module_version": "1.2.0",
            "_model_module": "@jupyter-widgets/controls"
          }
        },
        "014ae464a0ab45578564749ebc2baaa3": {
          "model_module": "@jupyter-widgets/base",
          "model_name": "LayoutModel",
          "state": {
            "_view_name": "LayoutView",
            "grid_template_rows": null,
            "right": null,
            "justify_content": null,
            "_view_module": "@jupyter-widgets/base",
            "overflow": null,
            "_model_module_version": "1.2.0",
            "_view_count": null,
            "flex_flow": null,
            "width": null,
            "min_width": null,
            "border": null,
            "align_items": null,
            "bottom": null,
            "_model_module": "@jupyter-widgets/base",
            "top": null,
            "grid_column": null,
            "overflow_y": null,
            "overflow_x": null,
            "grid_auto_flow": null,
            "grid_area": null,
            "grid_template_columns": null,
            "flex": null,
            "_model_name": "LayoutModel",
            "justify_items": null,
            "grid_row": null,
            "max_height": null,
            "align_content": null,
            "visibility": null,
            "align_self": null,
            "height": null,
            "min_height": null,
            "padding": null,
            "grid_auto_rows": null,
            "grid_gap": null,
            "max_width": null,
            "order": null,
            "_view_module_version": "1.2.0",
            "grid_template_areas": null,
            "object_position": null,
            "object_fit": null,
            "grid_auto_columns": null,
            "margin": null,
            "display": null,
            "left": null
          }
        },
        "859d8ffce84749bfbf1cdf1c6ddb48d2": {
          "model_module": "@jupyter-widgets/controls",
          "model_name": "HBoxModel",
          "state": {
            "_view_name": "HBoxView",
            "_dom_classes": [],
            "_model_name": "HBoxModel",
            "_view_module": "@jupyter-widgets/controls",
            "_model_module_version": "1.5.0",
            "_view_count": null,
            "_view_module_version": "1.5.0",
            "box_style": "",
            "layout": "IPY_MODEL_d73cf7b991b046e8ac1db597db8e2e8d",
            "_model_module": "@jupyter-widgets/controls",
            "children": [
              "IPY_MODEL_1c5474c3e10c4bc889980f1ae7223635",
              "IPY_MODEL_dcb74c3176e142b984f793f8b4b7d8ac"
            ]
          }
        },
        "d73cf7b991b046e8ac1db597db8e2e8d": {
          "model_module": "@jupyter-widgets/base",
          "model_name": "LayoutModel",
          "state": {
            "_view_name": "LayoutView",
            "grid_template_rows": null,
            "right": null,
            "justify_content": null,
            "_view_module": "@jupyter-widgets/base",
            "overflow": null,
            "_model_module_version": "1.2.0",
            "_view_count": null,
            "flex_flow": null,
            "width": null,
            "min_width": null,
            "border": null,
            "align_items": null,
            "bottom": null,
            "_model_module": "@jupyter-widgets/base",
            "top": null,
            "grid_column": null,
            "overflow_y": null,
            "overflow_x": null,
            "grid_auto_flow": null,
            "grid_area": null,
            "grid_template_columns": null,
            "flex": null,
            "_model_name": "LayoutModel",
            "justify_items": null,
            "grid_row": null,
            "max_height": null,
            "align_content": null,
            "visibility": null,
            "align_self": null,
            "height": null,
            "min_height": null,
            "padding": null,
            "grid_auto_rows": null,
            "grid_gap": null,
            "max_width": null,
            "order": null,
            "_view_module_version": "1.2.0",
            "grid_template_areas": null,
            "object_position": null,
            "object_fit": null,
            "grid_auto_columns": null,
            "margin": null,
            "display": null,
            "left": null
          }
        },
        "1c5474c3e10c4bc889980f1ae7223635": {
          "model_module": "@jupyter-widgets/controls",
          "model_name": "IntProgressModel",
          "state": {
            "_view_name": "ProgressView",
            "style": "IPY_MODEL_d6b7f0e694e94d6e8909965d2cbeaa96",
            "_dom_classes": [],
            "description": "Downloading: 100%",
            "_model_name": "IntProgressModel",
            "bar_style": "success",
            "max": 524,
            "_view_module": "@jupyter-widgets/controls",
            "_model_module_version": "1.5.0",
            "value": 524,
            "_view_count": null,
            "_view_module_version": "1.5.0",
            "orientation": "horizontal",
            "min": 0,
            "description_tooltip": null,
            "_model_module": "@jupyter-widgets/controls",
            "layout": "IPY_MODEL_ce8f14a879fa484d8ad7fb8c734abcd7"
          }
        },
        "dcb74c3176e142b984f793f8b4b7d8ac": {
          "model_module": "@jupyter-widgets/controls",
          "model_name": "HTMLModel",
          "state": {
            "_view_name": "HTMLView",
            "style": "IPY_MODEL_3525207db6c74f289aca6bb12d3012b2",
            "_dom_classes": [],
            "description": "",
            "_model_name": "HTMLModel",
            "placeholder": "​",
            "_view_module": "@jupyter-widgets/controls",
            "_model_module_version": "1.5.0",
            "value": " 524/524 [00:00&lt;00:00, 967B/s]",
            "_view_count": null,
            "_view_module_version": "1.5.0",
            "description_tooltip": null,
            "_model_module": "@jupyter-widgets/controls",
            "layout": "IPY_MODEL_a0f93240b3ba4b879c7be88cbb773bf8"
          }
        },
        "d6b7f0e694e94d6e8909965d2cbeaa96": {
          "model_module": "@jupyter-widgets/controls",
          "model_name": "ProgressStyleModel",
          "state": {
            "_view_name": "StyleView",
            "_model_name": "ProgressStyleModel",
            "description_width": "initial",
            "_view_module": "@jupyter-widgets/base",
            "_model_module_version": "1.5.0",
            "_view_count": null,
            "_view_module_version": "1.2.0",
            "bar_color": null,
            "_model_module": "@jupyter-widgets/controls"
          }
        },
        "ce8f14a879fa484d8ad7fb8c734abcd7": {
          "model_module": "@jupyter-widgets/base",
          "model_name": "LayoutModel",
          "state": {
            "_view_name": "LayoutView",
            "grid_template_rows": null,
            "right": null,
            "justify_content": null,
            "_view_module": "@jupyter-widgets/base",
            "overflow": null,
            "_model_module_version": "1.2.0",
            "_view_count": null,
            "flex_flow": null,
            "width": null,
            "min_width": null,
            "border": null,
            "align_items": null,
            "bottom": null,
            "_model_module": "@jupyter-widgets/base",
            "top": null,
            "grid_column": null,
            "overflow_y": null,
            "overflow_x": null,
            "grid_auto_flow": null,
            "grid_area": null,
            "grid_template_columns": null,
            "flex": null,
            "_model_name": "LayoutModel",
            "justify_items": null,
            "grid_row": null,
            "max_height": null,
            "align_content": null,
            "visibility": null,
            "align_self": null,
            "height": null,
            "min_height": null,
            "padding": null,
            "grid_auto_rows": null,
            "grid_gap": null,
            "max_width": null,
            "order": null,
            "_view_module_version": "1.2.0",
            "grid_template_areas": null,
            "object_position": null,
            "object_fit": null,
            "grid_auto_columns": null,
            "margin": null,
            "display": null,
            "left": null
          }
        },
        "3525207db6c74f289aca6bb12d3012b2": {
          "model_module": "@jupyter-widgets/controls",
          "model_name": "DescriptionStyleModel",
          "state": {
            "_view_name": "StyleView",
            "_model_name": "DescriptionStyleModel",
            "description_width": "",
            "_view_module": "@jupyter-widgets/base",
            "_model_module_version": "1.5.0",
            "_view_count": null,
            "_view_module_version": "1.2.0",
            "_model_module": "@jupyter-widgets/controls"
          }
        },
        "a0f93240b3ba4b879c7be88cbb773bf8": {
          "model_module": "@jupyter-widgets/base",
          "model_name": "LayoutModel",
          "state": {
            "_view_name": "LayoutView",
            "grid_template_rows": null,
            "right": null,
            "justify_content": null,
            "_view_module": "@jupyter-widgets/base",
            "overflow": null,
            "_model_module_version": "1.2.0",
            "_view_count": null,
            "flex_flow": null,
            "width": null,
            "min_width": null,
            "border": null,
            "align_items": null,
            "bottom": null,
            "_model_module": "@jupyter-widgets/base",
            "top": null,
            "grid_column": null,
            "overflow_y": null,
            "overflow_x": null,
            "grid_auto_flow": null,
            "grid_area": null,
            "grid_template_columns": null,
            "flex": null,
            "_model_name": "LayoutModel",
            "justify_items": null,
            "grid_row": null,
            "max_height": null,
            "align_content": null,
            "visibility": null,
            "align_self": null,
            "height": null,
            "min_height": null,
            "padding": null,
            "grid_auto_rows": null,
            "grid_gap": null,
            "max_width": null,
            "order": null,
            "_view_module_version": "1.2.0",
            "grid_template_areas": null,
            "object_position": null,
            "object_fit": null,
            "grid_auto_columns": null,
            "margin": null,
            "display": null,
            "left": null
          }
        },
        "8a98047addf34623aaa57cc964d5ff28": {
          "model_module": "@jupyter-widgets/controls",
          "model_name": "HBoxModel",
          "state": {
            "_view_name": "HBoxView",
            "_dom_classes": [],
            "_model_name": "HBoxModel",
            "_view_module": "@jupyter-widgets/controls",
            "_model_module_version": "1.5.0",
            "_view_count": null,
            "_view_module_version": "1.5.0",
            "box_style": "",
            "layout": "IPY_MODEL_84c59f3080604ab1b9ab9428f053c336",
            "_model_module": "@jupyter-widgets/controls",
            "children": [
              "IPY_MODEL_690401e4d35644c2bf2cab3969a7edda",
              "IPY_MODEL_1282339a87ef4aa6a45aaae218b82129"
            ]
          }
        },
        "84c59f3080604ab1b9ab9428f053c336": {
          "model_module": "@jupyter-widgets/base",
          "model_name": "LayoutModel",
          "state": {
            "_view_name": "LayoutView",
            "grid_template_rows": null,
            "right": null,
            "justify_content": null,
            "_view_module": "@jupyter-widgets/base",
            "overflow": null,
            "_model_module_version": "1.2.0",
            "_view_count": null,
            "flex_flow": null,
            "width": null,
            "min_width": null,
            "border": null,
            "align_items": null,
            "bottom": null,
            "_model_module": "@jupyter-widgets/base",
            "top": null,
            "grid_column": null,
            "overflow_y": null,
            "overflow_x": null,
            "grid_auto_flow": null,
            "grid_area": null,
            "grid_template_columns": null,
            "flex": null,
            "_model_name": "LayoutModel",
            "justify_items": null,
            "grid_row": null,
            "max_height": null,
            "align_content": null,
            "visibility": null,
            "align_self": null,
            "height": null,
            "min_height": null,
            "padding": null,
            "grid_auto_rows": null,
            "grid_gap": null,
            "max_width": null,
            "order": null,
            "_view_module_version": "1.2.0",
            "grid_template_areas": null,
            "object_position": null,
            "object_fit": null,
            "grid_auto_columns": null,
            "margin": null,
            "display": null,
            "left": null
          }
        },
        "690401e4d35644c2bf2cab3969a7edda": {
          "model_module": "@jupyter-widgets/controls",
          "model_name": "IntProgressModel",
          "state": {
            "_view_name": "ProgressView",
            "style": "IPY_MODEL_790372d213164a6fb2fc45de6c254687",
            "_dom_classes": [],
            "description": "100%",
            "_model_name": "IntProgressModel",
            "bar_style": "success",
            "max": 3,
            "_view_module": "@jupyter-widgets/controls",
            "_model_module_version": "1.5.0",
            "value": 3,
            "_view_count": null,
            "_view_module_version": "1.5.0",
            "orientation": "horizontal",
            "min": 0,
            "description_tooltip": null,
            "_model_module": "@jupyter-widgets/controls",
            "layout": "IPY_MODEL_d0a025c31ae342888aaa36146e24e11a"
          }
        },
        "1282339a87ef4aa6a45aaae218b82129": {
          "model_module": "@jupyter-widgets/controls",
          "model_name": "HTMLModel",
          "state": {
            "_view_name": "HTMLView",
            "style": "IPY_MODEL_7239de2100974251a73f5b716470d165",
            "_dom_classes": [],
            "description": "",
            "_model_name": "HTMLModel",
            "placeholder": "​",
            "_view_module": "@jupyter-widgets/controls",
            "_model_module_version": "1.5.0",
            "value": " 3/3 [07:41&lt;00:00, 153.99s/it]",
            "_view_count": null,
            "_view_module_version": "1.5.0",
            "description_tooltip": null,
            "_model_module": "@jupyter-widgets/controls",
            "layout": "IPY_MODEL_3c13d5de129a4a0a81feb668ac5e3a78"
          }
        },
        "790372d213164a6fb2fc45de6c254687": {
          "model_module": "@jupyter-widgets/controls",
          "model_name": "ProgressStyleModel",
          "state": {
            "_view_name": "StyleView",
            "_model_name": "ProgressStyleModel",
            "description_width": "initial",
            "_view_module": "@jupyter-widgets/base",
            "_model_module_version": "1.5.0",
            "_view_count": null,
            "_view_module_version": "1.2.0",
            "bar_color": null,
            "_model_module": "@jupyter-widgets/controls"
          }
        },
        "d0a025c31ae342888aaa36146e24e11a": {
          "model_module": "@jupyter-widgets/base",
          "model_name": "LayoutModel",
          "state": {
            "_view_name": "LayoutView",
            "grid_template_rows": null,
            "right": null,
            "justify_content": null,
            "_view_module": "@jupyter-widgets/base",
            "overflow": null,
            "_model_module_version": "1.2.0",
            "_view_count": null,
            "flex_flow": null,
            "width": null,
            "min_width": null,
            "border": null,
            "align_items": null,
            "bottom": null,
            "_model_module": "@jupyter-widgets/base",
            "top": null,
            "grid_column": null,
            "overflow_y": null,
            "overflow_x": null,
            "grid_auto_flow": null,
            "grid_area": null,
            "grid_template_columns": null,
            "flex": null,
            "_model_name": "LayoutModel",
            "justify_items": null,
            "grid_row": null,
            "max_height": null,
            "align_content": null,
            "visibility": null,
            "align_self": null,
            "height": null,
            "min_height": null,
            "padding": null,
            "grid_auto_rows": null,
            "grid_gap": null,
            "max_width": null,
            "order": null,
            "_view_module_version": "1.2.0",
            "grid_template_areas": null,
            "object_position": null,
            "object_fit": null,
            "grid_auto_columns": null,
            "margin": null,
            "display": null,
            "left": null
          }
        },
        "7239de2100974251a73f5b716470d165": {
          "model_module": "@jupyter-widgets/controls",
          "model_name": "DescriptionStyleModel",
          "state": {
            "_view_name": "StyleView",
            "_model_name": "DescriptionStyleModel",
            "description_width": "",
            "_view_module": "@jupyter-widgets/base",
            "_model_module_version": "1.5.0",
            "_view_count": null,
            "_view_module_version": "1.2.0",
            "_model_module": "@jupyter-widgets/controls"
          }
        },
        "3c13d5de129a4a0a81feb668ac5e3a78": {
          "model_module": "@jupyter-widgets/base",
          "model_name": "LayoutModel",
          "state": {
            "_view_name": "LayoutView",
            "grid_template_rows": null,
            "right": null,
            "justify_content": null,
            "_view_module": "@jupyter-widgets/base",
            "overflow": null,
            "_model_module_version": "1.2.0",
            "_view_count": null,
            "flex_flow": null,
            "width": null,
            "min_width": null,
            "border": null,
            "align_items": null,
            "bottom": null,
            "_model_module": "@jupyter-widgets/base",
            "top": null,
            "grid_column": null,
            "overflow_y": null,
            "overflow_x": null,
            "grid_auto_flow": null,
            "grid_area": null,
            "grid_template_columns": null,
            "flex": null,
            "_model_name": "LayoutModel",
            "justify_items": null,
            "grid_row": null,
            "max_height": null,
            "align_content": null,
            "visibility": null,
            "align_self": null,
            "height": null,
            "min_height": null,
            "padding": null,
            "grid_auto_rows": null,
            "grid_gap": null,
            "max_width": null,
            "order": null,
            "_view_module_version": "1.2.0",
            "grid_template_areas": null,
            "object_position": null,
            "object_fit": null,
            "grid_auto_columns": null,
            "margin": null,
            "display": null,
            "left": null
          }
        },
        "051c52e5897e4a5a89035f5f2dfa8760": {
          "model_module": "@jupyter-widgets/controls",
          "model_name": "HBoxModel",
          "state": {
            "_view_name": "HBoxView",
            "_dom_classes": [],
            "_model_name": "HBoxModel",
            "_view_module": "@jupyter-widgets/controls",
            "_model_module_version": "1.5.0",
            "_view_count": null,
            "_view_module_version": "1.5.0",
            "box_style": "",
            "layout": "IPY_MODEL_f51efb5e7fc74528ac3584e421fc9a93",
            "_model_module": "@jupyter-widgets/controls",
            "children": [
              "IPY_MODEL_ce94f718c8e04752aafc8420ff6402a8",
              "IPY_MODEL_f1f1e3decf6d4506aece0b60dbed7bf8"
            ]
          }
        },
        "f51efb5e7fc74528ac3584e421fc9a93": {
          "model_module": "@jupyter-widgets/base",
          "model_name": "LayoutModel",
          "state": {
            "_view_name": "LayoutView",
            "grid_template_rows": null,
            "right": null,
            "justify_content": null,
            "_view_module": "@jupyter-widgets/base",
            "overflow": null,
            "_model_module_version": "1.2.0",
            "_view_count": null,
            "flex_flow": null,
            "width": null,
            "min_width": null,
            "border": null,
            "align_items": null,
            "bottom": null,
            "_model_module": "@jupyter-widgets/base",
            "top": null,
            "grid_column": null,
            "overflow_y": null,
            "overflow_x": null,
            "grid_auto_flow": null,
            "grid_area": null,
            "grid_template_columns": null,
            "flex": null,
            "_model_name": "LayoutModel",
            "justify_items": null,
            "grid_row": null,
            "max_height": null,
            "align_content": null,
            "visibility": null,
            "align_self": null,
            "height": null,
            "min_height": null,
            "padding": null,
            "grid_auto_rows": null,
            "grid_gap": null,
            "max_width": null,
            "order": null,
            "_view_module_version": "1.2.0",
            "grid_template_areas": null,
            "object_position": null,
            "object_fit": null,
            "grid_auto_columns": null,
            "margin": null,
            "display": null,
            "left": null
          }
        },
        "ce94f718c8e04752aafc8420ff6402a8": {
          "model_module": "@jupyter-widgets/controls",
          "model_name": "IntProgressModel",
          "state": {
            "_view_name": "ProgressView",
            "style": "IPY_MODEL_6f66fc79687b468d914fc61239f0e480",
            "_dom_classes": [],
            "description": "100%",
            "_model_name": "IntProgressModel",
            "bar_style": "success",
            "max": 3,
            "_view_module": "@jupyter-widgets/controls",
            "_model_module_version": "1.5.0",
            "value": 3,
            "_view_count": null,
            "_view_module_version": "1.5.0",
            "orientation": "horizontal",
            "min": 0,
            "description_tooltip": null,
            "_model_module": "@jupyter-widgets/controls",
            "layout": "IPY_MODEL_23bb58fe758240f6a2bf5333e1d9fb6e"
          }
        },
        "f1f1e3decf6d4506aece0b60dbed7bf8": {
          "model_module": "@jupyter-widgets/controls",
          "model_name": "HTMLModel",
          "state": {
            "_view_name": "HTMLView",
            "style": "IPY_MODEL_6099ec6a37d94a8291b40b3c4e745926",
            "_dom_classes": [],
            "description": "",
            "_model_name": "HTMLModel",
            "placeholder": "​",
            "_view_module": "@jupyter-widgets/controls",
            "_model_module_version": "1.5.0",
            "value": " 3/3 [04:20&lt;00:00, 86.90s/it]",
            "_view_count": null,
            "_view_module_version": "1.5.0",
            "description_tooltip": null,
            "_model_module": "@jupyter-widgets/controls",
            "layout": "IPY_MODEL_24a67c63d8f44166a4509858f1db23fc"
          }
        },
        "6f66fc79687b468d914fc61239f0e480": {
          "model_module": "@jupyter-widgets/controls",
          "model_name": "ProgressStyleModel",
          "state": {
            "_view_name": "StyleView",
            "_model_name": "ProgressStyleModel",
            "description_width": "initial",
            "_view_module": "@jupyter-widgets/base",
            "_model_module_version": "1.5.0",
            "_view_count": null,
            "_view_module_version": "1.2.0",
            "bar_color": null,
            "_model_module": "@jupyter-widgets/controls"
          }
        },
        "23bb58fe758240f6a2bf5333e1d9fb6e": {
          "model_module": "@jupyter-widgets/base",
          "model_name": "LayoutModel",
          "state": {
            "_view_name": "LayoutView",
            "grid_template_rows": null,
            "right": null,
            "justify_content": null,
            "_view_module": "@jupyter-widgets/base",
            "overflow": null,
            "_model_module_version": "1.2.0",
            "_view_count": null,
            "flex_flow": null,
            "width": null,
            "min_width": null,
            "border": null,
            "align_items": null,
            "bottom": null,
            "_model_module": "@jupyter-widgets/base",
            "top": null,
            "grid_column": null,
            "overflow_y": null,
            "overflow_x": null,
            "grid_auto_flow": null,
            "grid_area": null,
            "grid_template_columns": null,
            "flex": null,
            "_model_name": "LayoutModel",
            "justify_items": null,
            "grid_row": null,
            "max_height": null,
            "align_content": null,
            "visibility": null,
            "align_self": null,
            "height": null,
            "min_height": null,
            "padding": null,
            "grid_auto_rows": null,
            "grid_gap": null,
            "max_width": null,
            "order": null,
            "_view_module_version": "1.2.0",
            "grid_template_areas": null,
            "object_position": null,
            "object_fit": null,
            "grid_auto_columns": null,
            "margin": null,
            "display": null,
            "left": null
          }
        },
        "6099ec6a37d94a8291b40b3c4e745926": {
          "model_module": "@jupyter-widgets/controls",
          "model_name": "DescriptionStyleModel",
          "state": {
            "_view_name": "StyleView",
            "_model_name": "DescriptionStyleModel",
            "description_width": "",
            "_view_module": "@jupyter-widgets/base",
            "_model_module_version": "1.5.0",
            "_view_count": null,
            "_view_module_version": "1.2.0",
            "_model_module": "@jupyter-widgets/controls"
          }
        },
        "24a67c63d8f44166a4509858f1db23fc": {
          "model_module": "@jupyter-widgets/base",
          "model_name": "LayoutModel",
          "state": {
            "_view_name": "LayoutView",
            "grid_template_rows": null,
            "right": null,
            "justify_content": null,
            "_view_module": "@jupyter-widgets/base",
            "overflow": null,
            "_model_module_version": "1.2.0",
            "_view_count": null,
            "flex_flow": null,
            "width": null,
            "min_width": null,
            "border": null,
            "align_items": null,
            "bottom": null,
            "_model_module": "@jupyter-widgets/base",
            "top": null,
            "grid_column": null,
            "overflow_y": null,
            "overflow_x": null,
            "grid_auto_flow": null,
            "grid_area": null,
            "grid_template_columns": null,
            "flex": null,
            "_model_name": "LayoutModel",
            "justify_items": null,
            "grid_row": null,
            "max_height": null,
            "align_content": null,
            "visibility": null,
            "align_self": null,
            "height": null,
            "min_height": null,
            "padding": null,
            "grid_auto_rows": null,
            "grid_gap": null,
            "max_width": null,
            "order": null,
            "_view_module_version": "1.2.0",
            "grid_template_areas": null,
            "object_position": null,
            "object_fit": null,
            "grid_auto_columns": null,
            "margin": null,
            "display": null,
            "left": null
          }
        },
        "edc93ea080024e40914d22b6233f3e06": {
          "model_module": "@jupyter-widgets/controls",
          "model_name": "HBoxModel",
          "state": {
            "_view_name": "HBoxView",
            "_dom_classes": [],
            "_model_name": "HBoxModel",
            "_view_module": "@jupyter-widgets/controls",
            "_model_module_version": "1.5.0",
            "_view_count": null,
            "_view_module_version": "1.5.0",
            "box_style": "",
            "layout": "IPY_MODEL_2c0350108cf6419ebd1b6beb97ec147f",
            "_model_module": "@jupyter-widgets/controls",
            "children": [
              "IPY_MODEL_de212c3a0013440ca7b86c6996269719",
              "IPY_MODEL_393ad796611f4a648601e4692d107499"
            ]
          }
        },
        "2c0350108cf6419ebd1b6beb97ec147f": {
          "model_module": "@jupyter-widgets/base",
          "model_name": "LayoutModel",
          "state": {
            "_view_name": "LayoutView",
            "grid_template_rows": null,
            "right": null,
            "justify_content": null,
            "_view_module": "@jupyter-widgets/base",
            "overflow": null,
            "_model_module_version": "1.2.0",
            "_view_count": null,
            "flex_flow": null,
            "width": null,
            "min_width": null,
            "border": null,
            "align_items": null,
            "bottom": null,
            "_model_module": "@jupyter-widgets/base",
            "top": null,
            "grid_column": null,
            "overflow_y": null,
            "overflow_x": null,
            "grid_auto_flow": null,
            "grid_area": null,
            "grid_template_columns": null,
            "flex": null,
            "_model_name": "LayoutModel",
            "justify_items": null,
            "grid_row": null,
            "max_height": null,
            "align_content": null,
            "visibility": null,
            "align_self": null,
            "height": null,
            "min_height": null,
            "padding": null,
            "grid_auto_rows": null,
            "grid_gap": null,
            "max_width": null,
            "order": null,
            "_view_module_version": "1.2.0",
            "grid_template_areas": null,
            "object_position": null,
            "object_fit": null,
            "grid_auto_columns": null,
            "margin": null,
            "display": null,
            "left": null
          }
        },
        "de212c3a0013440ca7b86c6996269719": {
          "model_module": "@jupyter-widgets/controls",
          "model_name": "IntProgressModel",
          "state": {
            "_view_name": "ProgressView",
            "style": "IPY_MODEL_444e6113f58c4bd8886c3122987a7b54",
            "_dom_classes": [],
            "description": "100%",
            "_model_name": "IntProgressModel",
            "bar_style": "success",
            "max": 3,
            "_view_module": "@jupyter-widgets/controls",
            "_model_module_version": "1.5.0",
            "value": 3,
            "_view_count": null,
            "_view_module_version": "1.5.0",
            "orientation": "horizontal",
            "min": 0,
            "description_tooltip": null,
            "_model_module": "@jupyter-widgets/controls",
            "layout": "IPY_MODEL_47a513752dba44859cbe527682eec265"
          }
        },
        "393ad796611f4a648601e4692d107499": {
          "model_module": "@jupyter-widgets/controls",
          "model_name": "HTMLModel",
          "state": {
            "_view_name": "HTMLView",
            "style": "IPY_MODEL_bd279e253d964773b4884e5afede7bd0",
            "_dom_classes": [],
            "description": "",
            "_model_name": "HTMLModel",
            "placeholder": "​",
            "_view_module": "@jupyter-widgets/controls",
            "_model_module_version": "1.5.0",
            "value": " 3/3 [01:23&lt;00:00, 27.92s/it]",
            "_view_count": null,
            "_view_module_version": "1.5.0",
            "description_tooltip": null,
            "_model_module": "@jupyter-widgets/controls",
            "layout": "IPY_MODEL_749a86b4e33441fe8101546ed32a081d"
          }
        },
        "444e6113f58c4bd8886c3122987a7b54": {
          "model_module": "@jupyter-widgets/controls",
          "model_name": "ProgressStyleModel",
          "state": {
            "_view_name": "StyleView",
            "_model_name": "ProgressStyleModel",
            "description_width": "initial",
            "_view_module": "@jupyter-widgets/base",
            "_model_module_version": "1.5.0",
            "_view_count": null,
            "_view_module_version": "1.2.0",
            "bar_color": null,
            "_model_module": "@jupyter-widgets/controls"
          }
        },
        "47a513752dba44859cbe527682eec265": {
          "model_module": "@jupyter-widgets/base",
          "model_name": "LayoutModel",
          "state": {
            "_view_name": "LayoutView",
            "grid_template_rows": null,
            "right": null,
            "justify_content": null,
            "_view_module": "@jupyter-widgets/base",
            "overflow": null,
            "_model_module_version": "1.2.0",
            "_view_count": null,
            "flex_flow": null,
            "width": null,
            "min_width": null,
            "border": null,
            "align_items": null,
            "bottom": null,
            "_model_module": "@jupyter-widgets/base",
            "top": null,
            "grid_column": null,
            "overflow_y": null,
            "overflow_x": null,
            "grid_auto_flow": null,
            "grid_area": null,
            "grid_template_columns": null,
            "flex": null,
            "_model_name": "LayoutModel",
            "justify_items": null,
            "grid_row": null,
            "max_height": null,
            "align_content": null,
            "visibility": null,
            "align_self": null,
            "height": null,
            "min_height": null,
            "padding": null,
            "grid_auto_rows": null,
            "grid_gap": null,
            "max_width": null,
            "order": null,
            "_view_module_version": "1.2.0",
            "grid_template_areas": null,
            "object_position": null,
            "object_fit": null,
            "grid_auto_columns": null,
            "margin": null,
            "display": null,
            "left": null
          }
        },
        "bd279e253d964773b4884e5afede7bd0": {
          "model_module": "@jupyter-widgets/controls",
          "model_name": "DescriptionStyleModel",
          "state": {
            "_view_name": "StyleView",
            "_model_name": "DescriptionStyleModel",
            "description_width": "",
            "_view_module": "@jupyter-widgets/base",
            "_model_module_version": "1.5.0",
            "_view_count": null,
            "_view_module_version": "1.2.0",
            "_model_module": "@jupyter-widgets/controls"
          }
        },
        "749a86b4e33441fe8101546ed32a081d": {
          "model_module": "@jupyter-widgets/base",
          "model_name": "LayoutModel",
          "state": {
            "_view_name": "LayoutView",
            "grid_template_rows": null,
            "right": null,
            "justify_content": null,
            "_view_module": "@jupyter-widgets/base",
            "overflow": null,
            "_model_module_version": "1.2.0",
            "_view_count": null,
            "flex_flow": null,
            "width": null,
            "min_width": null,
            "border": null,
            "align_items": null,
            "bottom": null,
            "_model_module": "@jupyter-widgets/base",
            "top": null,
            "grid_column": null,
            "overflow_y": null,
            "overflow_x": null,
            "grid_auto_flow": null,
            "grid_area": null,
            "grid_template_columns": null,
            "flex": null,
            "_model_name": "LayoutModel",
            "justify_items": null,
            "grid_row": null,
            "max_height": null,
            "align_content": null,
            "visibility": null,
            "align_self": null,
            "height": null,
            "min_height": null,
            "padding": null,
            "grid_auto_rows": null,
            "grid_gap": null,
            "max_width": null,
            "order": null,
            "_view_module_version": "1.2.0",
            "grid_template_areas": null,
            "object_position": null,
            "object_fit": null,
            "grid_auto_columns": null,
            "margin": null,
            "display": null,
            "left": null
          }
        },
        "223581c4351640edbd0a0e716ee086d2": {
          "model_module": "@jupyter-widgets/controls",
          "model_name": "HBoxModel",
          "state": {
            "_view_name": "HBoxView",
            "_dom_classes": [],
            "_model_name": "HBoxModel",
            "_view_module": "@jupyter-widgets/controls",
            "_model_module_version": "1.5.0",
            "_view_count": null,
            "_view_module_version": "1.5.0",
            "box_style": "",
            "layout": "IPY_MODEL_b74ee0ce6f2d473c8269a01335eb5f5f",
            "_model_module": "@jupyter-widgets/controls",
            "children": [
              "IPY_MODEL_1bc5fe0cde9545c688d675f7dc2faf09",
              "IPY_MODEL_a0d536b5cb57483085fbbb42497cf58e"
            ]
          }
        },
        "b74ee0ce6f2d473c8269a01335eb5f5f": {
          "model_module": "@jupyter-widgets/base",
          "model_name": "LayoutModel",
          "state": {
            "_view_name": "LayoutView",
            "grid_template_rows": null,
            "right": null,
            "justify_content": null,
            "_view_module": "@jupyter-widgets/base",
            "overflow": null,
            "_model_module_version": "1.2.0",
            "_view_count": null,
            "flex_flow": null,
            "width": null,
            "min_width": null,
            "border": null,
            "align_items": null,
            "bottom": null,
            "_model_module": "@jupyter-widgets/base",
            "top": null,
            "grid_column": null,
            "overflow_y": null,
            "overflow_x": null,
            "grid_auto_flow": null,
            "grid_area": null,
            "grid_template_columns": null,
            "flex": null,
            "_model_name": "LayoutModel",
            "justify_items": null,
            "grid_row": null,
            "max_height": null,
            "align_content": null,
            "visibility": null,
            "align_self": null,
            "height": null,
            "min_height": null,
            "padding": null,
            "grid_auto_rows": null,
            "grid_gap": null,
            "max_width": null,
            "order": null,
            "_view_module_version": "1.2.0",
            "grid_template_areas": null,
            "object_position": null,
            "object_fit": null,
            "grid_auto_columns": null,
            "margin": null,
            "display": null,
            "left": null
          }
        },
        "1bc5fe0cde9545c688d675f7dc2faf09": {
          "model_module": "@jupyter-widgets/controls",
          "model_name": "IntProgressModel",
          "state": {
            "_view_name": "ProgressView",
            "style": "IPY_MODEL_112ef2e465094fdda95681931ff4aa32",
            "_dom_classes": [],
            "description": "100%",
            "_model_name": "IntProgressModel",
            "bar_style": "success",
            "max": 3,
            "_view_module": "@jupyter-widgets/controls",
            "_model_module_version": "1.5.0",
            "value": 3,
            "_view_count": null,
            "_view_module_version": "1.5.0",
            "orientation": "horizontal",
            "min": 0,
            "description_tooltip": null,
            "_model_module": "@jupyter-widgets/controls",
            "layout": "IPY_MODEL_d3bcbf8c62f049d78a931816c81458b9"
          }
        },
        "a0d536b5cb57483085fbbb42497cf58e": {
          "model_module": "@jupyter-widgets/controls",
          "model_name": "HTMLModel",
          "state": {
            "_view_name": "HTMLView",
            "style": "IPY_MODEL_614333de7f6b417b82c05fc88a3c1286",
            "_dom_classes": [],
            "description": "",
            "_model_name": "HTMLModel",
            "placeholder": "​",
            "_view_module": "@jupyter-widgets/controls",
            "_model_module_version": "1.5.0",
            "value": " 3/3 [02:54&lt;00:00, 58.03s/it]",
            "_view_count": null,
            "_view_module_version": "1.5.0",
            "description_tooltip": null,
            "_model_module": "@jupyter-widgets/controls",
            "layout": "IPY_MODEL_5f1406c86f6e49a69d1dd7430a21440d"
          }
        },
        "112ef2e465094fdda95681931ff4aa32": {
          "model_module": "@jupyter-widgets/controls",
          "model_name": "ProgressStyleModel",
          "state": {
            "_view_name": "StyleView",
            "_model_name": "ProgressStyleModel",
            "description_width": "initial",
            "_view_module": "@jupyter-widgets/base",
            "_model_module_version": "1.5.0",
            "_view_count": null,
            "_view_module_version": "1.2.0",
            "bar_color": null,
            "_model_module": "@jupyter-widgets/controls"
          }
        },
        "d3bcbf8c62f049d78a931816c81458b9": {
          "model_module": "@jupyter-widgets/base",
          "model_name": "LayoutModel",
          "state": {
            "_view_name": "LayoutView",
            "grid_template_rows": null,
            "right": null,
            "justify_content": null,
            "_view_module": "@jupyter-widgets/base",
            "overflow": null,
            "_model_module_version": "1.2.0",
            "_view_count": null,
            "flex_flow": null,
            "width": null,
            "min_width": null,
            "border": null,
            "align_items": null,
            "bottom": null,
            "_model_module": "@jupyter-widgets/base",
            "top": null,
            "grid_column": null,
            "overflow_y": null,
            "overflow_x": null,
            "grid_auto_flow": null,
            "grid_area": null,
            "grid_template_columns": null,
            "flex": null,
            "_model_name": "LayoutModel",
            "justify_items": null,
            "grid_row": null,
            "max_height": null,
            "align_content": null,
            "visibility": null,
            "align_self": null,
            "height": null,
            "min_height": null,
            "padding": null,
            "grid_auto_rows": null,
            "grid_gap": null,
            "max_width": null,
            "order": null,
            "_view_module_version": "1.2.0",
            "grid_template_areas": null,
            "object_position": null,
            "object_fit": null,
            "grid_auto_columns": null,
            "margin": null,
            "display": null,
            "left": null
          }
        },
        "614333de7f6b417b82c05fc88a3c1286": {
          "model_module": "@jupyter-widgets/controls",
          "model_name": "DescriptionStyleModel",
          "state": {
            "_view_name": "StyleView",
            "_model_name": "DescriptionStyleModel",
            "description_width": "",
            "_view_module": "@jupyter-widgets/base",
            "_model_module_version": "1.5.0",
            "_view_count": null,
            "_view_module_version": "1.2.0",
            "_model_module": "@jupyter-widgets/controls"
          }
        },
        "5f1406c86f6e49a69d1dd7430a21440d": {
          "model_module": "@jupyter-widgets/base",
          "model_name": "LayoutModel",
          "state": {
            "_view_name": "LayoutView",
            "grid_template_rows": null,
            "right": null,
            "justify_content": null,
            "_view_module": "@jupyter-widgets/base",
            "overflow": null,
            "_model_module_version": "1.2.0",
            "_view_count": null,
            "flex_flow": null,
            "width": null,
            "min_width": null,
            "border": null,
            "align_items": null,
            "bottom": null,
            "_model_module": "@jupyter-widgets/base",
            "top": null,
            "grid_column": null,
            "overflow_y": null,
            "overflow_x": null,
            "grid_auto_flow": null,
            "grid_area": null,
            "grid_template_columns": null,
            "flex": null,
            "_model_name": "LayoutModel",
            "justify_items": null,
            "grid_row": null,
            "max_height": null,
            "align_content": null,
            "visibility": null,
            "align_self": null,
            "height": null,
            "min_height": null,
            "padding": null,
            "grid_auto_rows": null,
            "grid_gap": null,
            "max_width": null,
            "order": null,
            "_view_module_version": "1.2.0",
            "grid_template_areas": null,
            "object_position": null,
            "object_fit": null,
            "grid_auto_columns": null,
            "margin": null,
            "display": null,
            "left": null
          }
        },
        "fb7fea0933744a96a106ebe4d82b7c69": {
          "model_module": "@jupyter-widgets/controls",
          "model_name": "HBoxModel",
          "state": {
            "_view_name": "HBoxView",
            "_dom_classes": [],
            "_model_name": "HBoxModel",
            "_view_module": "@jupyter-widgets/controls",
            "_model_module_version": "1.5.0",
            "_view_count": null,
            "_view_module_version": "1.5.0",
            "box_style": "",
            "layout": "IPY_MODEL_2be97099d5204906af39f320f6275285",
            "_model_module": "@jupyter-widgets/controls",
            "children": [
              "IPY_MODEL_bb0380b12e794c7fa21bb57cdca0311e",
              "IPY_MODEL_2e3a41d6f219425bad12e2b158c012bb"
            ]
          }
        },
        "2be97099d5204906af39f320f6275285": {
          "model_module": "@jupyter-widgets/base",
          "model_name": "LayoutModel",
          "state": {
            "_view_name": "LayoutView",
            "grid_template_rows": null,
            "right": null,
            "justify_content": null,
            "_view_module": "@jupyter-widgets/base",
            "overflow": null,
            "_model_module_version": "1.2.0",
            "_view_count": null,
            "flex_flow": null,
            "width": null,
            "min_width": null,
            "border": null,
            "align_items": null,
            "bottom": null,
            "_model_module": "@jupyter-widgets/base",
            "top": null,
            "grid_column": null,
            "overflow_y": null,
            "overflow_x": null,
            "grid_auto_flow": null,
            "grid_area": null,
            "grid_template_columns": null,
            "flex": null,
            "_model_name": "LayoutModel",
            "justify_items": null,
            "grid_row": null,
            "max_height": null,
            "align_content": null,
            "visibility": null,
            "align_self": null,
            "height": null,
            "min_height": null,
            "padding": null,
            "grid_auto_rows": null,
            "grid_gap": null,
            "max_width": null,
            "order": null,
            "_view_module_version": "1.2.0",
            "grid_template_areas": null,
            "object_position": null,
            "object_fit": null,
            "grid_auto_columns": null,
            "margin": null,
            "display": null,
            "left": null
          }
        },
        "bb0380b12e794c7fa21bb57cdca0311e": {
          "model_module": "@jupyter-widgets/controls",
          "model_name": "IntProgressModel",
          "state": {
            "_view_name": "ProgressView",
            "style": "IPY_MODEL_a1c6b48fe0e24ad79d927f51dae1f499",
            "_dom_classes": [],
            "description": "100%",
            "_model_name": "IntProgressModel",
            "bar_style": "success",
            "max": 3,
            "_view_module": "@jupyter-widgets/controls",
            "_model_module_version": "1.5.0",
            "value": 3,
            "_view_count": null,
            "_view_module_version": "1.5.0",
            "orientation": "horizontal",
            "min": 0,
            "description_tooltip": null,
            "_model_module": "@jupyter-widgets/controls",
            "layout": "IPY_MODEL_9380e2064d4442558ee47b63391638dc"
          }
        },
        "2e3a41d6f219425bad12e2b158c012bb": {
          "model_module": "@jupyter-widgets/controls",
          "model_name": "HTMLModel",
          "state": {
            "_view_name": "HTMLView",
            "style": "IPY_MODEL_b298c55dfe094c24855554aa75489869",
            "_dom_classes": [],
            "description": "",
            "_model_name": "HTMLModel",
            "placeholder": "​",
            "_view_module": "@jupyter-widgets/controls",
            "_model_module_version": "1.5.0",
            "value": " 3/3 [02:31&lt;00:00, 50.62s/it]",
            "_view_count": null,
            "_view_module_version": "1.5.0",
            "description_tooltip": null,
            "_model_module": "@jupyter-widgets/controls",
            "layout": "IPY_MODEL_0e440b30fe73406aa61f01b674992c5e"
          }
        },
        "a1c6b48fe0e24ad79d927f51dae1f499": {
          "model_module": "@jupyter-widgets/controls",
          "model_name": "ProgressStyleModel",
          "state": {
            "_view_name": "StyleView",
            "_model_name": "ProgressStyleModel",
            "description_width": "initial",
            "_view_module": "@jupyter-widgets/base",
            "_model_module_version": "1.5.0",
            "_view_count": null,
            "_view_module_version": "1.2.0",
            "bar_color": null,
            "_model_module": "@jupyter-widgets/controls"
          }
        },
        "9380e2064d4442558ee47b63391638dc": {
          "model_module": "@jupyter-widgets/base",
          "model_name": "LayoutModel",
          "state": {
            "_view_name": "LayoutView",
            "grid_template_rows": null,
            "right": null,
            "justify_content": null,
            "_view_module": "@jupyter-widgets/base",
            "overflow": null,
            "_model_module_version": "1.2.0",
            "_view_count": null,
            "flex_flow": null,
            "width": null,
            "min_width": null,
            "border": null,
            "align_items": null,
            "bottom": null,
            "_model_module": "@jupyter-widgets/base",
            "top": null,
            "grid_column": null,
            "overflow_y": null,
            "overflow_x": null,
            "grid_auto_flow": null,
            "grid_area": null,
            "grid_template_columns": null,
            "flex": null,
            "_model_name": "LayoutModel",
            "justify_items": null,
            "grid_row": null,
            "max_height": null,
            "align_content": null,
            "visibility": null,
            "align_self": null,
            "height": null,
            "min_height": null,
            "padding": null,
            "grid_auto_rows": null,
            "grid_gap": null,
            "max_width": null,
            "order": null,
            "_view_module_version": "1.2.0",
            "grid_template_areas": null,
            "object_position": null,
            "object_fit": null,
            "grid_auto_columns": null,
            "margin": null,
            "display": null,
            "left": null
          }
        },
        "b298c55dfe094c24855554aa75489869": {
          "model_module": "@jupyter-widgets/controls",
          "model_name": "DescriptionStyleModel",
          "state": {
            "_view_name": "StyleView",
            "_model_name": "DescriptionStyleModel",
            "description_width": "",
            "_view_module": "@jupyter-widgets/base",
            "_model_module_version": "1.5.0",
            "_view_count": null,
            "_view_module_version": "1.2.0",
            "_model_module": "@jupyter-widgets/controls"
          }
        },
        "0e440b30fe73406aa61f01b674992c5e": {
          "model_module": "@jupyter-widgets/base",
          "model_name": "LayoutModel",
          "state": {
            "_view_name": "LayoutView",
            "grid_template_rows": null,
            "right": null,
            "justify_content": null,
            "_view_module": "@jupyter-widgets/base",
            "overflow": null,
            "_model_module_version": "1.2.0",
            "_view_count": null,
            "flex_flow": null,
            "width": null,
            "min_width": null,
            "border": null,
            "align_items": null,
            "bottom": null,
            "_model_module": "@jupyter-widgets/base",
            "top": null,
            "grid_column": null,
            "overflow_y": null,
            "overflow_x": null,
            "grid_auto_flow": null,
            "grid_area": null,
            "grid_template_columns": null,
            "flex": null,
            "_model_name": "LayoutModel",
            "justify_items": null,
            "grid_row": null,
            "max_height": null,
            "align_content": null,
            "visibility": null,
            "align_self": null,
            "height": null,
            "min_height": null,
            "padding": null,
            "grid_auto_rows": null,
            "grid_gap": null,
            "max_width": null,
            "order": null,
            "_view_module_version": "1.2.0",
            "grid_template_areas": null,
            "object_position": null,
            "object_fit": null,
            "grid_auto_columns": null,
            "margin": null,
            "display": null,
            "left": null
          }
        },
        "ace9eae3207e4bc5aff9047cdace77b0": {
          "model_module": "@jupyter-widgets/controls",
          "model_name": "HBoxModel",
          "state": {
            "_view_name": "HBoxView",
            "_dom_classes": [],
            "_model_name": "HBoxModel",
            "_view_module": "@jupyter-widgets/controls",
            "_model_module_version": "1.5.0",
            "_view_count": null,
            "_view_module_version": "1.5.0",
            "box_style": "",
            "layout": "IPY_MODEL_9e59d7848acc47639f25ef0fb7bc7d73",
            "_model_module": "@jupyter-widgets/controls",
            "children": [
              "IPY_MODEL_c1b4adc40f424690b0e136dd0fbf4c1e",
              "IPY_MODEL_13f835f771a144e18ce18990ea602740"
            ]
          }
        },
        "9e59d7848acc47639f25ef0fb7bc7d73": {
          "model_module": "@jupyter-widgets/base",
          "model_name": "LayoutModel",
          "state": {
            "_view_name": "LayoutView",
            "grid_template_rows": null,
            "right": null,
            "justify_content": null,
            "_view_module": "@jupyter-widgets/base",
            "overflow": null,
            "_model_module_version": "1.2.0",
            "_view_count": null,
            "flex_flow": null,
            "width": null,
            "min_width": null,
            "border": null,
            "align_items": null,
            "bottom": null,
            "_model_module": "@jupyter-widgets/base",
            "top": null,
            "grid_column": null,
            "overflow_y": null,
            "overflow_x": null,
            "grid_auto_flow": null,
            "grid_area": null,
            "grid_template_columns": null,
            "flex": null,
            "_model_name": "LayoutModel",
            "justify_items": null,
            "grid_row": null,
            "max_height": null,
            "align_content": null,
            "visibility": null,
            "align_self": null,
            "height": null,
            "min_height": null,
            "padding": null,
            "grid_auto_rows": null,
            "grid_gap": null,
            "max_width": null,
            "order": null,
            "_view_module_version": "1.2.0",
            "grid_template_areas": null,
            "object_position": null,
            "object_fit": null,
            "grid_auto_columns": null,
            "margin": null,
            "display": null,
            "left": null
          }
        },
        "c1b4adc40f424690b0e136dd0fbf4c1e": {
          "model_module": "@jupyter-widgets/controls",
          "model_name": "IntProgressModel",
          "state": {
            "_view_name": "ProgressView",
            "style": "IPY_MODEL_827850a995a54593929ec08d8fd4f196",
            "_dom_classes": [],
            "description": "100%",
            "_model_name": "IntProgressModel",
            "bar_style": "success",
            "max": 3,
            "_view_module": "@jupyter-widgets/controls",
            "_model_module_version": "1.5.0",
            "value": 3,
            "_view_count": null,
            "_view_module_version": "1.5.0",
            "orientation": "horizontal",
            "min": 0,
            "description_tooltip": null,
            "_model_module": "@jupyter-widgets/controls",
            "layout": "IPY_MODEL_74a2b1a1583a4ef69cb0e3c4e363ce2a"
          }
        },
        "13f835f771a144e18ce18990ea602740": {
          "model_module": "@jupyter-widgets/controls",
          "model_name": "HTMLModel",
          "state": {
            "_view_name": "HTMLView",
            "style": "IPY_MODEL_0f16c63e5b874000aadea498dfbe32ff",
            "_dom_classes": [],
            "description": "",
            "_model_name": "HTMLModel",
            "placeholder": "​",
            "_view_module": "@jupyter-widgets/controls",
            "_model_module_version": "1.5.0",
            "value": " 3/3 [02:03&lt;00:00, 41.10s/it]",
            "_view_count": null,
            "_view_module_version": "1.5.0",
            "description_tooltip": null,
            "_model_module": "@jupyter-widgets/controls",
            "layout": "IPY_MODEL_a48c2d4d90d54f92a21631a3d66d36df"
          }
        },
        "827850a995a54593929ec08d8fd4f196": {
          "model_module": "@jupyter-widgets/controls",
          "model_name": "ProgressStyleModel",
          "state": {
            "_view_name": "StyleView",
            "_model_name": "ProgressStyleModel",
            "description_width": "initial",
            "_view_module": "@jupyter-widgets/base",
            "_model_module_version": "1.5.0",
            "_view_count": null,
            "_view_module_version": "1.2.0",
            "bar_color": null,
            "_model_module": "@jupyter-widgets/controls"
          }
        },
        "74a2b1a1583a4ef69cb0e3c4e363ce2a": {
          "model_module": "@jupyter-widgets/base",
          "model_name": "LayoutModel",
          "state": {
            "_view_name": "LayoutView",
            "grid_template_rows": null,
            "right": null,
            "justify_content": null,
            "_view_module": "@jupyter-widgets/base",
            "overflow": null,
            "_model_module_version": "1.2.0",
            "_view_count": null,
            "flex_flow": null,
            "width": null,
            "min_width": null,
            "border": null,
            "align_items": null,
            "bottom": null,
            "_model_module": "@jupyter-widgets/base",
            "top": null,
            "grid_column": null,
            "overflow_y": null,
            "overflow_x": null,
            "grid_auto_flow": null,
            "grid_area": null,
            "grid_template_columns": null,
            "flex": null,
            "_model_name": "LayoutModel",
            "justify_items": null,
            "grid_row": null,
            "max_height": null,
            "align_content": null,
            "visibility": null,
            "align_self": null,
            "height": null,
            "min_height": null,
            "padding": null,
            "grid_auto_rows": null,
            "grid_gap": null,
            "max_width": null,
            "order": null,
            "_view_module_version": "1.2.0",
            "grid_template_areas": null,
            "object_position": null,
            "object_fit": null,
            "grid_auto_columns": null,
            "margin": null,
            "display": null,
            "left": null
          }
        },
        "0f16c63e5b874000aadea498dfbe32ff": {
          "model_module": "@jupyter-widgets/controls",
          "model_name": "DescriptionStyleModel",
          "state": {
            "_view_name": "StyleView",
            "_model_name": "DescriptionStyleModel",
            "description_width": "",
            "_view_module": "@jupyter-widgets/base",
            "_model_module_version": "1.5.0",
            "_view_count": null,
            "_view_module_version": "1.2.0",
            "_model_module": "@jupyter-widgets/controls"
          }
        },
        "a48c2d4d90d54f92a21631a3d66d36df": {
          "model_module": "@jupyter-widgets/base",
          "model_name": "LayoutModel",
          "state": {
            "_view_name": "LayoutView",
            "grid_template_rows": null,
            "right": null,
            "justify_content": null,
            "_view_module": "@jupyter-widgets/base",
            "overflow": null,
            "_model_module_version": "1.2.0",
            "_view_count": null,
            "flex_flow": null,
            "width": null,
            "min_width": null,
            "border": null,
            "align_items": null,
            "bottom": null,
            "_model_module": "@jupyter-widgets/base",
            "top": null,
            "grid_column": null,
            "overflow_y": null,
            "overflow_x": null,
            "grid_auto_flow": null,
            "grid_area": null,
            "grid_template_columns": null,
            "flex": null,
            "_model_name": "LayoutModel",
            "justify_items": null,
            "grid_row": null,
            "max_height": null,
            "align_content": null,
            "visibility": null,
            "align_self": null,
            "height": null,
            "min_height": null,
            "padding": null,
            "grid_auto_rows": null,
            "grid_gap": null,
            "max_width": null,
            "order": null,
            "_view_module_version": "1.2.0",
            "grid_template_areas": null,
            "object_position": null,
            "object_fit": null,
            "grid_auto_columns": null,
            "margin": null,
            "display": null,
            "left": null
          }
        },
        "26d8703bb22842a2a9d09a1e8b2c7319": {
          "model_module": "@jupyter-widgets/controls",
          "model_name": "HBoxModel",
          "state": {
            "_view_name": "HBoxView",
            "_dom_classes": [],
            "_model_name": "HBoxModel",
            "_view_module": "@jupyter-widgets/controls",
            "_model_module_version": "1.5.0",
            "_view_count": null,
            "_view_module_version": "1.5.0",
            "box_style": "",
            "layout": "IPY_MODEL_7a777f0cac204181b0ff9a231fb1e183",
            "_model_module": "@jupyter-widgets/controls",
            "children": [
              "IPY_MODEL_8571ea539a66431898d3bd5beb8cda5d",
              "IPY_MODEL_e3b0d8d049934fe2b8063c54dfd75ef9"
            ]
          }
        },
        "7a777f0cac204181b0ff9a231fb1e183": {
          "model_module": "@jupyter-widgets/base",
          "model_name": "LayoutModel",
          "state": {
            "_view_name": "LayoutView",
            "grid_template_rows": null,
            "right": null,
            "justify_content": null,
            "_view_module": "@jupyter-widgets/base",
            "overflow": null,
            "_model_module_version": "1.2.0",
            "_view_count": null,
            "flex_flow": null,
            "width": null,
            "min_width": null,
            "border": null,
            "align_items": null,
            "bottom": null,
            "_model_module": "@jupyter-widgets/base",
            "top": null,
            "grid_column": null,
            "overflow_y": null,
            "overflow_x": null,
            "grid_auto_flow": null,
            "grid_area": null,
            "grid_template_columns": null,
            "flex": null,
            "_model_name": "LayoutModel",
            "justify_items": null,
            "grid_row": null,
            "max_height": null,
            "align_content": null,
            "visibility": null,
            "align_self": null,
            "height": null,
            "min_height": null,
            "padding": null,
            "grid_auto_rows": null,
            "grid_gap": null,
            "max_width": null,
            "order": null,
            "_view_module_version": "1.2.0",
            "grid_template_areas": null,
            "object_position": null,
            "object_fit": null,
            "grid_auto_columns": null,
            "margin": null,
            "display": null,
            "left": null
          }
        },
        "8571ea539a66431898d3bd5beb8cda5d": {
          "model_module": "@jupyter-widgets/controls",
          "model_name": "IntProgressModel",
          "state": {
            "_view_name": "ProgressView",
            "style": "IPY_MODEL_505fba8fc57e407392137bbab98b4a01",
            "_dom_classes": [],
            "description": "100%",
            "_model_name": "IntProgressModel",
            "bar_style": "success",
            "max": 3,
            "_view_module": "@jupyter-widgets/controls",
            "_model_module_version": "1.5.0",
            "value": 3,
            "_view_count": null,
            "_view_module_version": "1.5.0",
            "orientation": "horizontal",
            "min": 0,
            "description_tooltip": null,
            "_model_module": "@jupyter-widgets/controls",
            "layout": "IPY_MODEL_e602850b47e746f48070b620eac28a56"
          }
        },
        "e3b0d8d049934fe2b8063c54dfd75ef9": {
          "model_module": "@jupyter-widgets/controls",
          "model_name": "HTMLModel",
          "state": {
            "_view_name": "HTMLView",
            "style": "IPY_MODEL_d0ef0a665c6a42c3b7db3957635aea2e",
            "_dom_classes": [],
            "description": "",
            "_model_name": "HTMLModel",
            "placeholder": "​",
            "_view_module": "@jupyter-widgets/controls",
            "_model_module_version": "1.5.0",
            "value": " 3/3 [01:27&lt;00:00, 29.15s/it]",
            "_view_count": null,
            "_view_module_version": "1.5.0",
            "description_tooltip": null,
            "_model_module": "@jupyter-widgets/controls",
            "layout": "IPY_MODEL_1528ccb271da4451819aff9186a058bd"
          }
        },
        "505fba8fc57e407392137bbab98b4a01": {
          "model_module": "@jupyter-widgets/controls",
          "model_name": "ProgressStyleModel",
          "state": {
            "_view_name": "StyleView",
            "_model_name": "ProgressStyleModel",
            "description_width": "initial",
            "_view_module": "@jupyter-widgets/base",
            "_model_module_version": "1.5.0",
            "_view_count": null,
            "_view_module_version": "1.2.0",
            "bar_color": null,
            "_model_module": "@jupyter-widgets/controls"
          }
        },
        "e602850b47e746f48070b620eac28a56": {
          "model_module": "@jupyter-widgets/base",
          "model_name": "LayoutModel",
          "state": {
            "_view_name": "LayoutView",
            "grid_template_rows": null,
            "right": null,
            "justify_content": null,
            "_view_module": "@jupyter-widgets/base",
            "overflow": null,
            "_model_module_version": "1.2.0",
            "_view_count": null,
            "flex_flow": null,
            "width": null,
            "min_width": null,
            "border": null,
            "align_items": null,
            "bottom": null,
            "_model_module": "@jupyter-widgets/base",
            "top": null,
            "grid_column": null,
            "overflow_y": null,
            "overflow_x": null,
            "grid_auto_flow": null,
            "grid_area": null,
            "grid_template_columns": null,
            "flex": null,
            "_model_name": "LayoutModel",
            "justify_items": null,
            "grid_row": null,
            "max_height": null,
            "align_content": null,
            "visibility": null,
            "align_self": null,
            "height": null,
            "min_height": null,
            "padding": null,
            "grid_auto_rows": null,
            "grid_gap": null,
            "max_width": null,
            "order": null,
            "_view_module_version": "1.2.0",
            "grid_template_areas": null,
            "object_position": null,
            "object_fit": null,
            "grid_auto_columns": null,
            "margin": null,
            "display": null,
            "left": null
          }
        },
        "d0ef0a665c6a42c3b7db3957635aea2e": {
          "model_module": "@jupyter-widgets/controls",
          "model_name": "DescriptionStyleModel",
          "state": {
            "_view_name": "StyleView",
            "_model_name": "DescriptionStyleModel",
            "description_width": "",
            "_view_module": "@jupyter-widgets/base",
            "_model_module_version": "1.5.0",
            "_view_count": null,
            "_view_module_version": "1.2.0",
            "_model_module": "@jupyter-widgets/controls"
          }
        },
        "1528ccb271da4451819aff9186a058bd": {
          "model_module": "@jupyter-widgets/base",
          "model_name": "LayoutModel",
          "state": {
            "_view_name": "LayoutView",
            "grid_template_rows": null,
            "right": null,
            "justify_content": null,
            "_view_module": "@jupyter-widgets/base",
            "overflow": null,
            "_model_module_version": "1.2.0",
            "_view_count": null,
            "flex_flow": null,
            "width": null,
            "min_width": null,
            "border": null,
            "align_items": null,
            "bottom": null,
            "_model_module": "@jupyter-widgets/base",
            "top": null,
            "grid_column": null,
            "overflow_y": null,
            "overflow_x": null,
            "grid_auto_flow": null,
            "grid_area": null,
            "grid_template_columns": null,
            "flex": null,
            "_model_name": "LayoutModel",
            "justify_items": null,
            "grid_row": null,
            "max_height": null,
            "align_content": null,
            "visibility": null,
            "align_self": null,
            "height": null,
            "min_height": null,
            "padding": null,
            "grid_auto_rows": null,
            "grid_gap": null,
            "max_width": null,
            "order": null,
            "_view_module_version": "1.2.0",
            "grid_template_areas": null,
            "object_position": null,
            "object_fit": null,
            "grid_auto_columns": null,
            "margin": null,
            "display": null,
            "left": null
          }
        },
        "d0089a62c7564b8696344727fcc9d139": {
          "model_module": "@jupyter-widgets/controls",
          "model_name": "HBoxModel",
          "state": {
            "_view_name": "HBoxView",
            "_dom_classes": [],
            "_model_name": "HBoxModel",
            "_view_module": "@jupyter-widgets/controls",
            "_model_module_version": "1.5.0",
            "_view_count": null,
            "_view_module_version": "1.5.0",
            "box_style": "",
            "layout": "IPY_MODEL_a412cd9a807848e3bebbf076bc8330d4",
            "_model_module": "@jupyter-widgets/controls",
            "children": [
              "IPY_MODEL_86b19bb58cd746a8a14c15f568912e3a",
              "IPY_MODEL_2f46bd34360b486d950f09b137593a80"
            ]
          }
        },
        "a412cd9a807848e3bebbf076bc8330d4": {
          "model_module": "@jupyter-widgets/base",
          "model_name": "LayoutModel",
          "state": {
            "_view_name": "LayoutView",
            "grid_template_rows": null,
            "right": null,
            "justify_content": null,
            "_view_module": "@jupyter-widgets/base",
            "overflow": null,
            "_model_module_version": "1.2.0",
            "_view_count": null,
            "flex_flow": null,
            "width": null,
            "min_width": null,
            "border": null,
            "align_items": null,
            "bottom": null,
            "_model_module": "@jupyter-widgets/base",
            "top": null,
            "grid_column": null,
            "overflow_y": null,
            "overflow_x": null,
            "grid_auto_flow": null,
            "grid_area": null,
            "grid_template_columns": null,
            "flex": null,
            "_model_name": "LayoutModel",
            "justify_items": null,
            "grid_row": null,
            "max_height": null,
            "align_content": null,
            "visibility": null,
            "align_self": null,
            "height": null,
            "min_height": null,
            "padding": null,
            "grid_auto_rows": null,
            "grid_gap": null,
            "max_width": null,
            "order": null,
            "_view_module_version": "1.2.0",
            "grid_template_areas": null,
            "object_position": null,
            "object_fit": null,
            "grid_auto_columns": null,
            "margin": null,
            "display": null,
            "left": null
          }
        },
        "86b19bb58cd746a8a14c15f568912e3a": {
          "model_module": "@jupyter-widgets/controls",
          "model_name": "IntProgressModel",
          "state": {
            "_view_name": "ProgressView",
            "style": "IPY_MODEL_3277ad1cf4044a16b8239e96f30f1a7e",
            "_dom_classes": [],
            "description": "100%",
            "_model_name": "IntProgressModel",
            "bar_style": "success",
            "max": 3,
            "_view_module": "@jupyter-widgets/controls",
            "_model_module_version": "1.5.0",
            "value": 3,
            "_view_count": null,
            "_view_module_version": "1.5.0",
            "orientation": "horizontal",
            "min": 0,
            "description_tooltip": null,
            "_model_module": "@jupyter-widgets/controls",
            "layout": "IPY_MODEL_f68552678a1547f6b57feb00756db85c"
          }
        },
        "2f46bd34360b486d950f09b137593a80": {
          "model_module": "@jupyter-widgets/controls",
          "model_name": "HTMLModel",
          "state": {
            "_view_name": "HTMLView",
            "style": "IPY_MODEL_687a4dc6d2d1453ab5a2ac407e887f3b",
            "_dom_classes": [],
            "description": "",
            "_model_name": "HTMLModel",
            "placeholder": "​",
            "_view_module": "@jupyter-widgets/controls",
            "_model_module_version": "1.5.0",
            "value": " 3/3 [00:51&lt;00:00, 17.27s/it]",
            "_view_count": null,
            "_view_module_version": "1.5.0",
            "description_tooltip": null,
            "_model_module": "@jupyter-widgets/controls",
            "layout": "IPY_MODEL_4b1ee89b6fd344c6854d5a6dabe784ca"
          }
        },
        "3277ad1cf4044a16b8239e96f30f1a7e": {
          "model_module": "@jupyter-widgets/controls",
          "model_name": "ProgressStyleModel",
          "state": {
            "_view_name": "StyleView",
            "_model_name": "ProgressStyleModel",
            "description_width": "initial",
            "_view_module": "@jupyter-widgets/base",
            "_model_module_version": "1.5.0",
            "_view_count": null,
            "_view_module_version": "1.2.0",
            "bar_color": null,
            "_model_module": "@jupyter-widgets/controls"
          }
        },
        "f68552678a1547f6b57feb00756db85c": {
          "model_module": "@jupyter-widgets/base",
          "model_name": "LayoutModel",
          "state": {
            "_view_name": "LayoutView",
            "grid_template_rows": null,
            "right": null,
            "justify_content": null,
            "_view_module": "@jupyter-widgets/base",
            "overflow": null,
            "_model_module_version": "1.2.0",
            "_view_count": null,
            "flex_flow": null,
            "width": null,
            "min_width": null,
            "border": null,
            "align_items": null,
            "bottom": null,
            "_model_module": "@jupyter-widgets/base",
            "top": null,
            "grid_column": null,
            "overflow_y": null,
            "overflow_x": null,
            "grid_auto_flow": null,
            "grid_area": null,
            "grid_template_columns": null,
            "flex": null,
            "_model_name": "LayoutModel",
            "justify_items": null,
            "grid_row": null,
            "max_height": null,
            "align_content": null,
            "visibility": null,
            "align_self": null,
            "height": null,
            "min_height": null,
            "padding": null,
            "grid_auto_rows": null,
            "grid_gap": null,
            "max_width": null,
            "order": null,
            "_view_module_version": "1.2.0",
            "grid_template_areas": null,
            "object_position": null,
            "object_fit": null,
            "grid_auto_columns": null,
            "margin": null,
            "display": null,
            "left": null
          }
        },
        "687a4dc6d2d1453ab5a2ac407e887f3b": {
          "model_module": "@jupyter-widgets/controls",
          "model_name": "DescriptionStyleModel",
          "state": {
            "_view_name": "StyleView",
            "_model_name": "DescriptionStyleModel",
            "description_width": "",
            "_view_module": "@jupyter-widgets/base",
            "_model_module_version": "1.5.0",
            "_view_count": null,
            "_view_module_version": "1.2.0",
            "_model_module": "@jupyter-widgets/controls"
          }
        },
        "4b1ee89b6fd344c6854d5a6dabe784ca": {
          "model_module": "@jupyter-widgets/base",
          "model_name": "LayoutModel",
          "state": {
            "_view_name": "LayoutView",
            "grid_template_rows": null,
            "right": null,
            "justify_content": null,
            "_view_module": "@jupyter-widgets/base",
            "overflow": null,
            "_model_module_version": "1.2.0",
            "_view_count": null,
            "flex_flow": null,
            "width": null,
            "min_width": null,
            "border": null,
            "align_items": null,
            "bottom": null,
            "_model_module": "@jupyter-widgets/base",
            "top": null,
            "grid_column": null,
            "overflow_y": null,
            "overflow_x": null,
            "grid_auto_flow": null,
            "grid_area": null,
            "grid_template_columns": null,
            "flex": null,
            "_model_name": "LayoutModel",
            "justify_items": null,
            "grid_row": null,
            "max_height": null,
            "align_content": null,
            "visibility": null,
            "align_self": null,
            "height": null,
            "min_height": null,
            "padding": null,
            "grid_auto_rows": null,
            "grid_gap": null,
            "max_width": null,
            "order": null,
            "_view_module_version": "1.2.0",
            "grid_template_areas": null,
            "object_position": null,
            "object_fit": null,
            "grid_auto_columns": null,
            "margin": null,
            "display": null,
            "left": null
          }
        },
        "93459a2765ff479280f3e3bcf3f76512": {
          "model_module": "@jupyter-widgets/controls",
          "model_name": "HBoxModel",
          "state": {
            "_view_name": "HBoxView",
            "_dom_classes": [],
            "_model_name": "HBoxModel",
            "_view_module": "@jupyter-widgets/controls",
            "_model_module_version": "1.5.0",
            "_view_count": null,
            "_view_module_version": "1.5.0",
            "box_style": "",
            "layout": "IPY_MODEL_5fb651908aa746d1a59fe994cc8a24be",
            "_model_module": "@jupyter-widgets/controls",
            "children": [
              "IPY_MODEL_ae156345e91549f6a791d8360d1910f8",
              "IPY_MODEL_9b798dd74ae6430cbced1e615e61cf60"
            ]
          }
        },
        "5fb651908aa746d1a59fe994cc8a24be": {
          "model_module": "@jupyter-widgets/base",
          "model_name": "LayoutModel",
          "state": {
            "_view_name": "LayoutView",
            "grid_template_rows": null,
            "right": null,
            "justify_content": null,
            "_view_module": "@jupyter-widgets/base",
            "overflow": null,
            "_model_module_version": "1.2.0",
            "_view_count": null,
            "flex_flow": null,
            "width": null,
            "min_width": null,
            "border": null,
            "align_items": null,
            "bottom": null,
            "_model_module": "@jupyter-widgets/base",
            "top": null,
            "grid_column": null,
            "overflow_y": null,
            "overflow_x": null,
            "grid_auto_flow": null,
            "grid_area": null,
            "grid_template_columns": null,
            "flex": null,
            "_model_name": "LayoutModel",
            "justify_items": null,
            "grid_row": null,
            "max_height": null,
            "align_content": null,
            "visibility": null,
            "align_self": null,
            "height": null,
            "min_height": null,
            "padding": null,
            "grid_auto_rows": null,
            "grid_gap": null,
            "max_width": null,
            "order": null,
            "_view_module_version": "1.2.0",
            "grid_template_areas": null,
            "object_position": null,
            "object_fit": null,
            "grid_auto_columns": null,
            "margin": null,
            "display": null,
            "left": null
          }
        },
        "ae156345e91549f6a791d8360d1910f8": {
          "model_module": "@jupyter-widgets/controls",
          "model_name": "IntProgressModel",
          "state": {
            "_view_name": "ProgressView",
            "style": "IPY_MODEL_b6cd8ecee8d243e9a63490d2b433f2f2",
            "_dom_classes": [],
            "description": "100%",
            "_model_name": "IntProgressModel",
            "bar_style": "success",
            "max": 3,
            "_view_module": "@jupyter-widgets/controls",
            "_model_module_version": "1.5.0",
            "value": 3,
            "_view_count": null,
            "_view_module_version": "1.5.0",
            "orientation": "horizontal",
            "min": 0,
            "description_tooltip": null,
            "_model_module": "@jupyter-widgets/controls",
            "layout": "IPY_MODEL_72abf3e0da764ba08f96a3475dc235d1"
          }
        },
        "9b798dd74ae6430cbced1e615e61cf60": {
          "model_module": "@jupyter-widgets/controls",
          "model_name": "HTMLModel",
          "state": {
            "_view_name": "HTMLView",
            "style": "IPY_MODEL_7e3de4b5666746648e587c64e56e1011",
            "_dom_classes": [],
            "description": "",
            "_model_name": "HTMLModel",
            "placeholder": "​",
            "_view_module": "@jupyter-widgets/controls",
            "_model_module_version": "1.5.0",
            "value": " 3/3 [00:26&lt;00:00,  8.79s/it]",
            "_view_count": null,
            "_view_module_version": "1.5.0",
            "description_tooltip": null,
            "_model_module": "@jupyter-widgets/controls",
            "layout": "IPY_MODEL_09538188532149f286411af51e718752"
          }
        },
        "b6cd8ecee8d243e9a63490d2b433f2f2": {
          "model_module": "@jupyter-widgets/controls",
          "model_name": "ProgressStyleModel",
          "state": {
            "_view_name": "StyleView",
            "_model_name": "ProgressStyleModel",
            "description_width": "initial",
            "_view_module": "@jupyter-widgets/base",
            "_model_module_version": "1.5.0",
            "_view_count": null,
            "_view_module_version": "1.2.0",
            "bar_color": null,
            "_model_module": "@jupyter-widgets/controls"
          }
        },
        "72abf3e0da764ba08f96a3475dc235d1": {
          "model_module": "@jupyter-widgets/base",
          "model_name": "LayoutModel",
          "state": {
            "_view_name": "LayoutView",
            "grid_template_rows": null,
            "right": null,
            "justify_content": null,
            "_view_module": "@jupyter-widgets/base",
            "overflow": null,
            "_model_module_version": "1.2.0",
            "_view_count": null,
            "flex_flow": null,
            "width": null,
            "min_width": null,
            "border": null,
            "align_items": null,
            "bottom": null,
            "_model_module": "@jupyter-widgets/base",
            "top": null,
            "grid_column": null,
            "overflow_y": null,
            "overflow_x": null,
            "grid_auto_flow": null,
            "grid_area": null,
            "grid_template_columns": null,
            "flex": null,
            "_model_name": "LayoutModel",
            "justify_items": null,
            "grid_row": null,
            "max_height": null,
            "align_content": null,
            "visibility": null,
            "align_self": null,
            "height": null,
            "min_height": null,
            "padding": null,
            "grid_auto_rows": null,
            "grid_gap": null,
            "max_width": null,
            "order": null,
            "_view_module_version": "1.2.0",
            "grid_template_areas": null,
            "object_position": null,
            "object_fit": null,
            "grid_auto_columns": null,
            "margin": null,
            "display": null,
            "left": null
          }
        },
        "7e3de4b5666746648e587c64e56e1011": {
          "model_module": "@jupyter-widgets/controls",
          "model_name": "DescriptionStyleModel",
          "state": {
            "_view_name": "StyleView",
            "_model_name": "DescriptionStyleModel",
            "description_width": "",
            "_view_module": "@jupyter-widgets/base",
            "_model_module_version": "1.5.0",
            "_view_count": null,
            "_view_module_version": "1.2.0",
            "_model_module": "@jupyter-widgets/controls"
          }
        },
        "09538188532149f286411af51e718752": {
          "model_module": "@jupyter-widgets/base",
          "model_name": "LayoutModel",
          "state": {
            "_view_name": "LayoutView",
            "grid_template_rows": null,
            "right": null,
            "justify_content": null,
            "_view_module": "@jupyter-widgets/base",
            "overflow": null,
            "_model_module_version": "1.2.0",
            "_view_count": null,
            "flex_flow": null,
            "width": null,
            "min_width": null,
            "border": null,
            "align_items": null,
            "bottom": null,
            "_model_module": "@jupyter-widgets/base",
            "top": null,
            "grid_column": null,
            "overflow_y": null,
            "overflow_x": null,
            "grid_auto_flow": null,
            "grid_area": null,
            "grid_template_columns": null,
            "flex": null,
            "_model_name": "LayoutModel",
            "justify_items": null,
            "grid_row": null,
            "max_height": null,
            "align_content": null,
            "visibility": null,
            "align_self": null,
            "height": null,
            "min_height": null,
            "padding": null,
            "grid_auto_rows": null,
            "grid_gap": null,
            "max_width": null,
            "order": null,
            "_view_module_version": "1.2.0",
            "grid_template_areas": null,
            "object_position": null,
            "object_fit": null,
            "grid_auto_columns": null,
            "margin": null,
            "display": null,
            "left": null
          }
        },
        "0eae201216514bc2ab0dad4226070992": {
          "model_module": "@jupyter-widgets/controls",
          "model_name": "HBoxModel",
          "state": {
            "_view_name": "HBoxView",
            "_dom_classes": [],
            "_model_name": "HBoxModel",
            "_view_module": "@jupyter-widgets/controls",
            "_model_module_version": "1.5.0",
            "_view_count": null,
            "_view_module_version": "1.5.0",
            "box_style": "",
            "layout": "IPY_MODEL_1a12db488cbe447193595ad84188bae2",
            "_model_module": "@jupyter-widgets/controls",
            "children": [
              "IPY_MODEL_f75cbd7eeebc42e693efe62d7fce6be0",
              "IPY_MODEL_507e30e1d8884a98b661aadf319dfd27"
            ]
          }
        },
        "1a12db488cbe447193595ad84188bae2": {
          "model_module": "@jupyter-widgets/base",
          "model_name": "LayoutModel",
          "state": {
            "_view_name": "LayoutView",
            "grid_template_rows": null,
            "right": null,
            "justify_content": null,
            "_view_module": "@jupyter-widgets/base",
            "overflow": null,
            "_model_module_version": "1.2.0",
            "_view_count": null,
            "flex_flow": null,
            "width": null,
            "min_width": null,
            "border": null,
            "align_items": null,
            "bottom": null,
            "_model_module": "@jupyter-widgets/base",
            "top": null,
            "grid_column": null,
            "overflow_y": null,
            "overflow_x": null,
            "grid_auto_flow": null,
            "grid_area": null,
            "grid_template_columns": null,
            "flex": null,
            "_model_name": "LayoutModel",
            "justify_items": null,
            "grid_row": null,
            "max_height": null,
            "align_content": null,
            "visibility": null,
            "align_self": null,
            "height": null,
            "min_height": null,
            "padding": null,
            "grid_auto_rows": null,
            "grid_gap": null,
            "max_width": null,
            "order": null,
            "_view_module_version": "1.2.0",
            "grid_template_areas": null,
            "object_position": null,
            "object_fit": null,
            "grid_auto_columns": null,
            "margin": null,
            "display": null,
            "left": null
          }
        },
        "f75cbd7eeebc42e693efe62d7fce6be0": {
          "model_module": "@jupyter-widgets/controls",
          "model_name": "IntProgressModel",
          "state": {
            "_view_name": "ProgressView",
            "style": "IPY_MODEL_69dd5d5d50ad4552bab8cd357431be74",
            "_dom_classes": [],
            "description": "100%",
            "_model_name": "IntProgressModel",
            "bar_style": "success",
            "max": 3,
            "_view_module": "@jupyter-widgets/controls",
            "_model_module_version": "1.5.0",
            "value": 3,
            "_view_count": null,
            "_view_module_version": "1.5.0",
            "orientation": "horizontal",
            "min": 0,
            "description_tooltip": null,
            "_model_module": "@jupyter-widgets/controls",
            "layout": "IPY_MODEL_e31586bb5ca34fef84d234f52dfd733b"
          }
        },
        "507e30e1d8884a98b661aadf319dfd27": {
          "model_module": "@jupyter-widgets/controls",
          "model_name": "HTMLModel",
          "state": {
            "_view_name": "HTMLView",
            "style": "IPY_MODEL_7cf2271d183e4946b3a4ea57b3c0401a",
            "_dom_classes": [],
            "description": "",
            "_model_name": "HTMLModel",
            "placeholder": "​",
            "_view_module": "@jupyter-widgets/controls",
            "_model_module_version": "1.5.0",
            "value": " 3/3 [00:06&lt;00:00,  2.32s/it]",
            "_view_count": null,
            "_view_module_version": "1.5.0",
            "description_tooltip": null,
            "_model_module": "@jupyter-widgets/controls",
            "layout": "IPY_MODEL_460024d09c4f40ea81102267f00eb766"
          }
        },
        "69dd5d5d50ad4552bab8cd357431be74": {
          "model_module": "@jupyter-widgets/controls",
          "model_name": "ProgressStyleModel",
          "state": {
            "_view_name": "StyleView",
            "_model_name": "ProgressStyleModel",
            "description_width": "initial",
            "_view_module": "@jupyter-widgets/base",
            "_model_module_version": "1.5.0",
            "_view_count": null,
            "_view_module_version": "1.2.0",
            "bar_color": null,
            "_model_module": "@jupyter-widgets/controls"
          }
        },
        "e31586bb5ca34fef84d234f52dfd733b": {
          "model_module": "@jupyter-widgets/base",
          "model_name": "LayoutModel",
          "state": {
            "_view_name": "LayoutView",
            "grid_template_rows": null,
            "right": null,
            "justify_content": null,
            "_view_module": "@jupyter-widgets/base",
            "overflow": null,
            "_model_module_version": "1.2.0",
            "_view_count": null,
            "flex_flow": null,
            "width": null,
            "min_width": null,
            "border": null,
            "align_items": null,
            "bottom": null,
            "_model_module": "@jupyter-widgets/base",
            "top": null,
            "grid_column": null,
            "overflow_y": null,
            "overflow_x": null,
            "grid_auto_flow": null,
            "grid_area": null,
            "grid_template_columns": null,
            "flex": null,
            "_model_name": "LayoutModel",
            "justify_items": null,
            "grid_row": null,
            "max_height": null,
            "align_content": null,
            "visibility": null,
            "align_self": null,
            "height": null,
            "min_height": null,
            "padding": null,
            "grid_auto_rows": null,
            "grid_gap": null,
            "max_width": null,
            "order": null,
            "_view_module_version": "1.2.0",
            "grid_template_areas": null,
            "object_position": null,
            "object_fit": null,
            "grid_auto_columns": null,
            "margin": null,
            "display": null,
            "left": null
          }
        },
        "7cf2271d183e4946b3a4ea57b3c0401a": {
          "model_module": "@jupyter-widgets/controls",
          "model_name": "DescriptionStyleModel",
          "state": {
            "_view_name": "StyleView",
            "_model_name": "DescriptionStyleModel",
            "description_width": "",
            "_view_module": "@jupyter-widgets/base",
            "_model_module_version": "1.5.0",
            "_view_count": null,
            "_view_module_version": "1.2.0",
            "_model_module": "@jupyter-widgets/controls"
          }
        },
        "460024d09c4f40ea81102267f00eb766": {
          "model_module": "@jupyter-widgets/base",
          "model_name": "LayoutModel",
          "state": {
            "_view_name": "LayoutView",
            "grid_template_rows": null,
            "right": null,
            "justify_content": null,
            "_view_module": "@jupyter-widgets/base",
            "overflow": null,
            "_model_module_version": "1.2.0",
            "_view_count": null,
            "flex_flow": null,
            "width": null,
            "min_width": null,
            "border": null,
            "align_items": null,
            "bottom": null,
            "_model_module": "@jupyter-widgets/base",
            "top": null,
            "grid_column": null,
            "overflow_y": null,
            "overflow_x": null,
            "grid_auto_flow": null,
            "grid_area": null,
            "grid_template_columns": null,
            "flex": null,
            "_model_name": "LayoutModel",
            "justify_items": null,
            "grid_row": null,
            "max_height": null,
            "align_content": null,
            "visibility": null,
            "align_self": null,
            "height": null,
            "min_height": null,
            "padding": null,
            "grid_auto_rows": null,
            "grid_gap": null,
            "max_width": null,
            "order": null,
            "_view_module_version": "1.2.0",
            "grid_template_areas": null,
            "object_position": null,
            "object_fit": null,
            "grid_auto_columns": null,
            "margin": null,
            "display": null,
            "left": null
          }
        },
        "b1ceb1ad465e406b8bc97b83ca856297": {
          "model_module": "@jupyter-widgets/controls",
          "model_name": "HBoxModel",
          "state": {
            "_view_name": "HBoxView",
            "_dom_classes": [],
            "_model_name": "HBoxModel",
            "_view_module": "@jupyter-widgets/controls",
            "_model_module_version": "1.5.0",
            "_view_count": null,
            "_view_module_version": "1.5.0",
            "box_style": "",
            "layout": "IPY_MODEL_38aa4b341c97481299de8643e99f72ae",
            "_model_module": "@jupyter-widgets/controls",
            "children": [
              "IPY_MODEL_1cf417ef2893456eaf8355d9c78f7417",
              "IPY_MODEL_53bb790838404f418f23d757ca8fd607"
            ]
          }
        },
        "38aa4b341c97481299de8643e99f72ae": {
          "model_module": "@jupyter-widgets/base",
          "model_name": "LayoutModel",
          "state": {
            "_view_name": "LayoutView",
            "grid_template_rows": null,
            "right": null,
            "justify_content": null,
            "_view_module": "@jupyter-widgets/base",
            "overflow": null,
            "_model_module_version": "1.2.0",
            "_view_count": null,
            "flex_flow": null,
            "width": null,
            "min_width": null,
            "border": null,
            "align_items": null,
            "bottom": null,
            "_model_module": "@jupyter-widgets/base",
            "top": null,
            "grid_column": null,
            "overflow_y": null,
            "overflow_x": null,
            "grid_auto_flow": null,
            "grid_area": null,
            "grid_template_columns": null,
            "flex": null,
            "_model_name": "LayoutModel",
            "justify_items": null,
            "grid_row": null,
            "max_height": null,
            "align_content": null,
            "visibility": null,
            "align_self": null,
            "height": null,
            "min_height": null,
            "padding": null,
            "grid_auto_rows": null,
            "grid_gap": null,
            "max_width": null,
            "order": null,
            "_view_module_version": "1.2.0",
            "grid_template_areas": null,
            "object_position": null,
            "object_fit": null,
            "grid_auto_columns": null,
            "margin": null,
            "display": null,
            "left": null
          }
        },
        "1cf417ef2893456eaf8355d9c78f7417": {
          "model_module": "@jupyter-widgets/controls",
          "model_name": "IntProgressModel",
          "state": {
            "_view_name": "ProgressView",
            "style": "IPY_MODEL_b5915e3d8a3c44bb8595d7155b9e3880",
            "_dom_classes": [],
            "description": "100%",
            "_model_name": "IntProgressModel",
            "bar_style": "success",
            "max": 3,
            "_view_module": "@jupyter-widgets/controls",
            "_model_module_version": "1.5.0",
            "value": 3,
            "_view_count": null,
            "_view_module_version": "1.5.0",
            "orientation": "horizontal",
            "min": 0,
            "description_tooltip": null,
            "_model_module": "@jupyter-widgets/controls",
            "layout": "IPY_MODEL_86aa8ec6f77f48058965be4651ac9719"
          }
        },
        "53bb790838404f418f23d757ca8fd607": {
          "model_module": "@jupyter-widgets/controls",
          "model_name": "HTMLModel",
          "state": {
            "_view_name": "HTMLView",
            "style": "IPY_MODEL_0ad8be472b8e48d8b36957ddc33f5fc2",
            "_dom_classes": [],
            "description": "",
            "_model_name": "HTMLModel",
            "placeholder": "​",
            "_view_module": "@jupyter-widgets/controls",
            "_model_module_version": "1.5.0",
            "value": " 3/3 [00:10&lt;00:00,  3.41s/it]",
            "_view_count": null,
            "_view_module_version": "1.5.0",
            "description_tooltip": null,
            "_model_module": "@jupyter-widgets/controls",
            "layout": "IPY_MODEL_559115b93493464992c9db80520c7005"
          }
        },
        "b5915e3d8a3c44bb8595d7155b9e3880": {
          "model_module": "@jupyter-widgets/controls",
          "model_name": "ProgressStyleModel",
          "state": {
            "_view_name": "StyleView",
            "_model_name": "ProgressStyleModel",
            "description_width": "initial",
            "_view_module": "@jupyter-widgets/base",
            "_model_module_version": "1.5.0",
            "_view_count": null,
            "_view_module_version": "1.2.0",
            "bar_color": null,
            "_model_module": "@jupyter-widgets/controls"
          }
        },
        "86aa8ec6f77f48058965be4651ac9719": {
          "model_module": "@jupyter-widgets/base",
          "model_name": "LayoutModel",
          "state": {
            "_view_name": "LayoutView",
            "grid_template_rows": null,
            "right": null,
            "justify_content": null,
            "_view_module": "@jupyter-widgets/base",
            "overflow": null,
            "_model_module_version": "1.2.0",
            "_view_count": null,
            "flex_flow": null,
            "width": null,
            "min_width": null,
            "border": null,
            "align_items": null,
            "bottom": null,
            "_model_module": "@jupyter-widgets/base",
            "top": null,
            "grid_column": null,
            "overflow_y": null,
            "overflow_x": null,
            "grid_auto_flow": null,
            "grid_area": null,
            "grid_template_columns": null,
            "flex": null,
            "_model_name": "LayoutModel",
            "justify_items": null,
            "grid_row": null,
            "max_height": null,
            "align_content": null,
            "visibility": null,
            "align_self": null,
            "height": null,
            "min_height": null,
            "padding": null,
            "grid_auto_rows": null,
            "grid_gap": null,
            "max_width": null,
            "order": null,
            "_view_module_version": "1.2.0",
            "grid_template_areas": null,
            "object_position": null,
            "object_fit": null,
            "grid_auto_columns": null,
            "margin": null,
            "display": null,
            "left": null
          }
        },
        "0ad8be472b8e48d8b36957ddc33f5fc2": {
          "model_module": "@jupyter-widgets/controls",
          "model_name": "DescriptionStyleModel",
          "state": {
            "_view_name": "StyleView",
            "_model_name": "DescriptionStyleModel",
            "description_width": "",
            "_view_module": "@jupyter-widgets/base",
            "_model_module_version": "1.5.0",
            "_view_count": null,
            "_view_module_version": "1.2.0",
            "_model_module": "@jupyter-widgets/controls"
          }
        },
        "559115b93493464992c9db80520c7005": {
          "model_module": "@jupyter-widgets/base",
          "model_name": "LayoutModel",
          "state": {
            "_view_name": "LayoutView",
            "grid_template_rows": null,
            "right": null,
            "justify_content": null,
            "_view_module": "@jupyter-widgets/base",
            "overflow": null,
            "_model_module_version": "1.2.0",
            "_view_count": null,
            "flex_flow": null,
            "width": null,
            "min_width": null,
            "border": null,
            "align_items": null,
            "bottom": null,
            "_model_module": "@jupyter-widgets/base",
            "top": null,
            "grid_column": null,
            "overflow_y": null,
            "overflow_x": null,
            "grid_auto_flow": null,
            "grid_area": null,
            "grid_template_columns": null,
            "flex": null,
            "_model_name": "LayoutModel",
            "justify_items": null,
            "grid_row": null,
            "max_height": null,
            "align_content": null,
            "visibility": null,
            "align_self": null,
            "height": null,
            "min_height": null,
            "padding": null,
            "grid_auto_rows": null,
            "grid_gap": null,
            "max_width": null,
            "order": null,
            "_view_module_version": "1.2.0",
            "grid_template_areas": null,
            "object_position": null,
            "object_fit": null,
            "grid_auto_columns": null,
            "margin": null,
            "display": null,
            "left": null
          }
        },
        "63ab3260363146cbb1d6bb85c9307192": {
          "model_module": "@jupyter-widgets/controls",
          "model_name": "HBoxModel",
          "state": {
            "_view_name": "HBoxView",
            "_dom_classes": [],
            "_model_name": "HBoxModel",
            "_view_module": "@jupyter-widgets/controls",
            "_model_module_version": "1.5.0",
            "_view_count": null,
            "_view_module_version": "1.5.0",
            "box_style": "",
            "layout": "IPY_MODEL_86db11999e684b16b8beb3f16fd6b566",
            "_model_module": "@jupyter-widgets/controls",
            "children": [
              "IPY_MODEL_ce8c51c643424b0ca865b38257dd0431",
              "IPY_MODEL_012613d51199481ab4c7eaab95052d47"
            ]
          }
        },
        "86db11999e684b16b8beb3f16fd6b566": {
          "model_module": "@jupyter-widgets/base",
          "model_name": "LayoutModel",
          "state": {
            "_view_name": "LayoutView",
            "grid_template_rows": null,
            "right": null,
            "justify_content": null,
            "_view_module": "@jupyter-widgets/base",
            "overflow": null,
            "_model_module_version": "1.2.0",
            "_view_count": null,
            "flex_flow": null,
            "width": null,
            "min_width": null,
            "border": null,
            "align_items": null,
            "bottom": null,
            "_model_module": "@jupyter-widgets/base",
            "top": null,
            "grid_column": null,
            "overflow_y": null,
            "overflow_x": null,
            "grid_auto_flow": null,
            "grid_area": null,
            "grid_template_columns": null,
            "flex": null,
            "_model_name": "LayoutModel",
            "justify_items": null,
            "grid_row": null,
            "max_height": null,
            "align_content": null,
            "visibility": null,
            "align_self": null,
            "height": null,
            "min_height": null,
            "padding": null,
            "grid_auto_rows": null,
            "grid_gap": null,
            "max_width": null,
            "order": null,
            "_view_module_version": "1.2.0",
            "grid_template_areas": null,
            "object_position": null,
            "object_fit": null,
            "grid_auto_columns": null,
            "margin": null,
            "display": null,
            "left": null
          }
        },
        "ce8c51c643424b0ca865b38257dd0431": {
          "model_module": "@jupyter-widgets/controls",
          "model_name": "IntProgressModel",
          "state": {
            "_view_name": "ProgressView",
            "style": "IPY_MODEL_e39590b1d794482bbd09c0ffd0012e19",
            "_dom_classes": [],
            "description": "100%",
            "_model_name": "IntProgressModel",
            "bar_style": "success",
            "max": 3,
            "_view_module": "@jupyter-widgets/controls",
            "_model_module_version": "1.5.0",
            "value": 3,
            "_view_count": null,
            "_view_module_version": "1.5.0",
            "orientation": "horizontal",
            "min": 0,
            "description_tooltip": null,
            "_model_module": "@jupyter-widgets/controls",
            "layout": "IPY_MODEL_7f1cad4b35f14fb985a25da13de17e3a"
          }
        },
        "012613d51199481ab4c7eaab95052d47": {
          "model_module": "@jupyter-widgets/controls",
          "model_name": "HTMLModel",
          "state": {
            "_view_name": "HTMLView",
            "style": "IPY_MODEL_6d426aa3d02747fcbb44d00666edf12c",
            "_dom_classes": [],
            "description": "",
            "_model_name": "HTMLModel",
            "placeholder": "​",
            "_view_module": "@jupyter-widgets/controls",
            "_model_module_version": "1.5.0",
            "value": " 3/3 [00:20&lt;00:00,  6.92s/it]",
            "_view_count": null,
            "_view_module_version": "1.5.0",
            "description_tooltip": null,
            "_model_module": "@jupyter-widgets/controls",
            "layout": "IPY_MODEL_a86e9c7c92c04dff9a22011a6943411f"
          }
        },
        "e39590b1d794482bbd09c0ffd0012e19": {
          "model_module": "@jupyter-widgets/controls",
          "model_name": "ProgressStyleModel",
          "state": {
            "_view_name": "StyleView",
            "_model_name": "ProgressStyleModel",
            "description_width": "initial",
            "_view_module": "@jupyter-widgets/base",
            "_model_module_version": "1.5.0",
            "_view_count": null,
            "_view_module_version": "1.2.0",
            "bar_color": null,
            "_model_module": "@jupyter-widgets/controls"
          }
        },
        "7f1cad4b35f14fb985a25da13de17e3a": {
          "model_module": "@jupyter-widgets/base",
          "model_name": "LayoutModel",
          "state": {
            "_view_name": "LayoutView",
            "grid_template_rows": null,
            "right": null,
            "justify_content": null,
            "_view_module": "@jupyter-widgets/base",
            "overflow": null,
            "_model_module_version": "1.2.0",
            "_view_count": null,
            "flex_flow": null,
            "width": null,
            "min_width": null,
            "border": null,
            "align_items": null,
            "bottom": null,
            "_model_module": "@jupyter-widgets/base",
            "top": null,
            "grid_column": null,
            "overflow_y": null,
            "overflow_x": null,
            "grid_auto_flow": null,
            "grid_area": null,
            "grid_template_columns": null,
            "flex": null,
            "_model_name": "LayoutModel",
            "justify_items": null,
            "grid_row": null,
            "max_height": null,
            "align_content": null,
            "visibility": null,
            "align_self": null,
            "height": null,
            "min_height": null,
            "padding": null,
            "grid_auto_rows": null,
            "grid_gap": null,
            "max_width": null,
            "order": null,
            "_view_module_version": "1.2.0",
            "grid_template_areas": null,
            "object_position": null,
            "object_fit": null,
            "grid_auto_columns": null,
            "margin": null,
            "display": null,
            "left": null
          }
        },
        "6d426aa3d02747fcbb44d00666edf12c": {
          "model_module": "@jupyter-widgets/controls",
          "model_name": "DescriptionStyleModel",
          "state": {
            "_view_name": "StyleView",
            "_model_name": "DescriptionStyleModel",
            "description_width": "",
            "_view_module": "@jupyter-widgets/base",
            "_model_module_version": "1.5.0",
            "_view_count": null,
            "_view_module_version": "1.2.0",
            "_model_module": "@jupyter-widgets/controls"
          }
        },
        "a86e9c7c92c04dff9a22011a6943411f": {
          "model_module": "@jupyter-widgets/base",
          "model_name": "LayoutModel",
          "state": {
            "_view_name": "LayoutView",
            "grid_template_rows": null,
            "right": null,
            "justify_content": null,
            "_view_module": "@jupyter-widgets/base",
            "overflow": null,
            "_model_module_version": "1.2.0",
            "_view_count": null,
            "flex_flow": null,
            "width": null,
            "min_width": null,
            "border": null,
            "align_items": null,
            "bottom": null,
            "_model_module": "@jupyter-widgets/base",
            "top": null,
            "grid_column": null,
            "overflow_y": null,
            "overflow_x": null,
            "grid_auto_flow": null,
            "grid_area": null,
            "grid_template_columns": null,
            "flex": null,
            "_model_name": "LayoutModel",
            "justify_items": null,
            "grid_row": null,
            "max_height": null,
            "align_content": null,
            "visibility": null,
            "align_self": null,
            "height": null,
            "min_height": null,
            "padding": null,
            "grid_auto_rows": null,
            "grid_gap": null,
            "max_width": null,
            "order": null,
            "_view_module_version": "1.2.0",
            "grid_template_areas": null,
            "object_position": null,
            "object_fit": null,
            "grid_auto_columns": null,
            "margin": null,
            "display": null,
            "left": null
          }
        },
        "31445986c56e42b482a640fd756ddc05": {
          "model_module": "@jupyter-widgets/controls",
          "model_name": "HBoxModel",
          "state": {
            "_view_name": "HBoxView",
            "_dom_classes": [],
            "_model_name": "HBoxModel",
            "_view_module": "@jupyter-widgets/controls",
            "_model_module_version": "1.5.0",
            "_view_count": null,
            "_view_module_version": "1.5.0",
            "box_style": "",
            "layout": "IPY_MODEL_f2428a48fa1d4e5aa583bc4ffebb524c",
            "_model_module": "@jupyter-widgets/controls",
            "children": [
              "IPY_MODEL_4dd0667e69514c37baabaece180c62b1",
              "IPY_MODEL_2b5f692bb46e4eeea3158979e692e007"
            ]
          }
        },
        "f2428a48fa1d4e5aa583bc4ffebb524c": {
          "model_module": "@jupyter-widgets/base",
          "model_name": "LayoutModel",
          "state": {
            "_view_name": "LayoutView",
            "grid_template_rows": null,
            "right": null,
            "justify_content": null,
            "_view_module": "@jupyter-widgets/base",
            "overflow": null,
            "_model_module_version": "1.2.0",
            "_view_count": null,
            "flex_flow": null,
            "width": null,
            "min_width": null,
            "border": null,
            "align_items": null,
            "bottom": null,
            "_model_module": "@jupyter-widgets/base",
            "top": null,
            "grid_column": null,
            "overflow_y": null,
            "overflow_x": null,
            "grid_auto_flow": null,
            "grid_area": null,
            "grid_template_columns": null,
            "flex": null,
            "_model_name": "LayoutModel",
            "justify_items": null,
            "grid_row": null,
            "max_height": null,
            "align_content": null,
            "visibility": null,
            "align_self": null,
            "height": null,
            "min_height": null,
            "padding": null,
            "grid_auto_rows": null,
            "grid_gap": null,
            "max_width": null,
            "order": null,
            "_view_module_version": "1.2.0",
            "grid_template_areas": null,
            "object_position": null,
            "object_fit": null,
            "grid_auto_columns": null,
            "margin": null,
            "display": null,
            "left": null
          }
        },
        "4dd0667e69514c37baabaece180c62b1": {
          "model_module": "@jupyter-widgets/controls",
          "model_name": "IntProgressModel",
          "state": {
            "_view_name": "ProgressView",
            "style": "IPY_MODEL_da28851d2d09430e91eae1a18514b35e",
            "_dom_classes": [],
            "description": "100%",
            "_model_name": "IntProgressModel",
            "bar_style": "success",
            "max": 3,
            "_view_module": "@jupyter-widgets/controls",
            "_model_module_version": "1.5.0",
            "value": 3,
            "_view_count": null,
            "_view_module_version": "1.5.0",
            "orientation": "horizontal",
            "min": 0,
            "description_tooltip": null,
            "_model_module": "@jupyter-widgets/controls",
            "layout": "IPY_MODEL_03f41e8dba8f4b539e041d6c1cf84abf"
          }
        },
        "2b5f692bb46e4eeea3158979e692e007": {
          "model_module": "@jupyter-widgets/controls",
          "model_name": "HTMLModel",
          "state": {
            "_view_name": "HTMLView",
            "style": "IPY_MODEL_ddfe5611bec44dd983ab9ea857182312",
            "_dom_classes": [],
            "description": "",
            "_model_name": "HTMLModel",
            "placeholder": "​",
            "_view_module": "@jupyter-widgets/controls",
            "_model_module_version": "1.5.0",
            "value": " 3/3 [00:20&lt;00:00,  6.77s/it]",
            "_view_count": null,
            "_view_module_version": "1.5.0",
            "description_tooltip": null,
            "_model_module": "@jupyter-widgets/controls",
            "layout": "IPY_MODEL_173bf779f2b841c1893999c38d75285b"
          }
        },
        "da28851d2d09430e91eae1a18514b35e": {
          "model_module": "@jupyter-widgets/controls",
          "model_name": "ProgressStyleModel",
          "state": {
            "_view_name": "StyleView",
            "_model_name": "ProgressStyleModel",
            "description_width": "initial",
            "_view_module": "@jupyter-widgets/base",
            "_model_module_version": "1.5.0",
            "_view_count": null,
            "_view_module_version": "1.2.0",
            "bar_color": null,
            "_model_module": "@jupyter-widgets/controls"
          }
        },
        "03f41e8dba8f4b539e041d6c1cf84abf": {
          "model_module": "@jupyter-widgets/base",
          "model_name": "LayoutModel",
          "state": {
            "_view_name": "LayoutView",
            "grid_template_rows": null,
            "right": null,
            "justify_content": null,
            "_view_module": "@jupyter-widgets/base",
            "overflow": null,
            "_model_module_version": "1.2.0",
            "_view_count": null,
            "flex_flow": null,
            "width": null,
            "min_width": null,
            "border": null,
            "align_items": null,
            "bottom": null,
            "_model_module": "@jupyter-widgets/base",
            "top": null,
            "grid_column": null,
            "overflow_y": null,
            "overflow_x": null,
            "grid_auto_flow": null,
            "grid_area": null,
            "grid_template_columns": null,
            "flex": null,
            "_model_name": "LayoutModel",
            "justify_items": null,
            "grid_row": null,
            "max_height": null,
            "align_content": null,
            "visibility": null,
            "align_self": null,
            "height": null,
            "min_height": null,
            "padding": null,
            "grid_auto_rows": null,
            "grid_gap": null,
            "max_width": null,
            "order": null,
            "_view_module_version": "1.2.0",
            "grid_template_areas": null,
            "object_position": null,
            "object_fit": null,
            "grid_auto_columns": null,
            "margin": null,
            "display": null,
            "left": null
          }
        },
        "ddfe5611bec44dd983ab9ea857182312": {
          "model_module": "@jupyter-widgets/controls",
          "model_name": "DescriptionStyleModel",
          "state": {
            "_view_name": "StyleView",
            "_model_name": "DescriptionStyleModel",
            "description_width": "",
            "_view_module": "@jupyter-widgets/base",
            "_model_module_version": "1.5.0",
            "_view_count": null,
            "_view_module_version": "1.2.0",
            "_model_module": "@jupyter-widgets/controls"
          }
        },
        "173bf779f2b841c1893999c38d75285b": {
          "model_module": "@jupyter-widgets/base",
          "model_name": "LayoutModel",
          "state": {
            "_view_name": "LayoutView",
            "grid_template_rows": null,
            "right": null,
            "justify_content": null,
            "_view_module": "@jupyter-widgets/base",
            "overflow": null,
            "_model_module_version": "1.2.0",
            "_view_count": null,
            "flex_flow": null,
            "width": null,
            "min_width": null,
            "border": null,
            "align_items": null,
            "bottom": null,
            "_model_module": "@jupyter-widgets/base",
            "top": null,
            "grid_column": null,
            "overflow_y": null,
            "overflow_x": null,
            "grid_auto_flow": null,
            "grid_area": null,
            "grid_template_columns": null,
            "flex": null,
            "_model_name": "LayoutModel",
            "justify_items": null,
            "grid_row": null,
            "max_height": null,
            "align_content": null,
            "visibility": null,
            "align_self": null,
            "height": null,
            "min_height": null,
            "padding": null,
            "grid_auto_rows": null,
            "grid_gap": null,
            "max_width": null,
            "order": null,
            "_view_module_version": "1.2.0",
            "grid_template_areas": null,
            "object_position": null,
            "object_fit": null,
            "grid_auto_columns": null,
            "margin": null,
            "display": null,
            "left": null
          }
        },
        "1e6ace6a00f847e8b04ab381420a0cfd": {
          "model_module": "@jupyter-widgets/controls",
          "model_name": "HBoxModel",
          "state": {
            "_view_name": "HBoxView",
            "_dom_classes": [],
            "_model_name": "HBoxModel",
            "_view_module": "@jupyter-widgets/controls",
            "_model_module_version": "1.5.0",
            "_view_count": null,
            "_view_module_version": "1.5.0",
            "box_style": "",
            "layout": "IPY_MODEL_ada2aad335e14d6d82661a6fbe850bc8",
            "_model_module": "@jupyter-widgets/controls",
            "children": [
              "IPY_MODEL_dea5dd3344494cf5860b64f96a2c08ac",
              "IPY_MODEL_ad83c1ea8b0242ca848d4a91c5c9cbf8"
            ]
          }
        },
        "ada2aad335e14d6d82661a6fbe850bc8": {
          "model_module": "@jupyter-widgets/base",
          "model_name": "LayoutModel",
          "state": {
            "_view_name": "LayoutView",
            "grid_template_rows": null,
            "right": null,
            "justify_content": null,
            "_view_module": "@jupyter-widgets/base",
            "overflow": null,
            "_model_module_version": "1.2.0",
            "_view_count": null,
            "flex_flow": null,
            "width": null,
            "min_width": null,
            "border": null,
            "align_items": null,
            "bottom": null,
            "_model_module": "@jupyter-widgets/base",
            "top": null,
            "grid_column": null,
            "overflow_y": null,
            "overflow_x": null,
            "grid_auto_flow": null,
            "grid_area": null,
            "grid_template_columns": null,
            "flex": null,
            "_model_name": "LayoutModel",
            "justify_items": null,
            "grid_row": null,
            "max_height": null,
            "align_content": null,
            "visibility": null,
            "align_self": null,
            "height": null,
            "min_height": null,
            "padding": null,
            "grid_auto_rows": null,
            "grid_gap": null,
            "max_width": null,
            "order": null,
            "_view_module_version": "1.2.0",
            "grid_template_areas": null,
            "object_position": null,
            "object_fit": null,
            "grid_auto_columns": null,
            "margin": null,
            "display": null,
            "left": null
          }
        },
        "dea5dd3344494cf5860b64f96a2c08ac": {
          "model_module": "@jupyter-widgets/controls",
          "model_name": "IntProgressModel",
          "state": {
            "_view_name": "ProgressView",
            "style": "IPY_MODEL_0bfbfd1a8dca44f19614db442e51027c",
            "_dom_classes": [],
            "description": "100%",
            "_model_name": "IntProgressModel",
            "bar_style": "success",
            "max": 3,
            "_view_module": "@jupyter-widgets/controls",
            "_model_module_version": "1.5.0",
            "value": 3,
            "_view_count": null,
            "_view_module_version": "1.5.0",
            "orientation": "horizontal",
            "min": 0,
            "description_tooltip": null,
            "_model_module": "@jupyter-widgets/controls",
            "layout": "IPY_MODEL_78466be4c26a433ba1781eb3bd81b922"
          }
        },
        "ad83c1ea8b0242ca848d4a91c5c9cbf8": {
          "model_module": "@jupyter-widgets/controls",
          "model_name": "HTMLModel",
          "state": {
            "_view_name": "HTMLView",
            "style": "IPY_MODEL_03398cdaeabc4b96934b1329a8a34285",
            "_dom_classes": [],
            "description": "",
            "_model_name": "HTMLModel",
            "placeholder": "​",
            "_view_module": "@jupyter-widgets/controls",
            "_model_module_version": "1.5.0",
            "value": " 3/3 [00:34&lt;00:00, 11.64s/it]",
            "_view_count": null,
            "_view_module_version": "1.5.0",
            "description_tooltip": null,
            "_model_module": "@jupyter-widgets/controls",
            "layout": "IPY_MODEL_4d4f613a61b74bcbb7b5fbc48aea4df2"
          }
        },
        "0bfbfd1a8dca44f19614db442e51027c": {
          "model_module": "@jupyter-widgets/controls",
          "model_name": "ProgressStyleModel",
          "state": {
            "_view_name": "StyleView",
            "_model_name": "ProgressStyleModel",
            "description_width": "initial",
            "_view_module": "@jupyter-widgets/base",
            "_model_module_version": "1.5.0",
            "_view_count": null,
            "_view_module_version": "1.2.0",
            "bar_color": null,
            "_model_module": "@jupyter-widgets/controls"
          }
        },
        "78466be4c26a433ba1781eb3bd81b922": {
          "model_module": "@jupyter-widgets/base",
          "model_name": "LayoutModel",
          "state": {
            "_view_name": "LayoutView",
            "grid_template_rows": null,
            "right": null,
            "justify_content": null,
            "_view_module": "@jupyter-widgets/base",
            "overflow": null,
            "_model_module_version": "1.2.0",
            "_view_count": null,
            "flex_flow": null,
            "width": null,
            "min_width": null,
            "border": null,
            "align_items": null,
            "bottom": null,
            "_model_module": "@jupyter-widgets/base",
            "top": null,
            "grid_column": null,
            "overflow_y": null,
            "overflow_x": null,
            "grid_auto_flow": null,
            "grid_area": null,
            "grid_template_columns": null,
            "flex": null,
            "_model_name": "LayoutModel",
            "justify_items": null,
            "grid_row": null,
            "max_height": null,
            "align_content": null,
            "visibility": null,
            "align_self": null,
            "height": null,
            "min_height": null,
            "padding": null,
            "grid_auto_rows": null,
            "grid_gap": null,
            "max_width": null,
            "order": null,
            "_view_module_version": "1.2.0",
            "grid_template_areas": null,
            "object_position": null,
            "object_fit": null,
            "grid_auto_columns": null,
            "margin": null,
            "display": null,
            "left": null
          }
        },
        "03398cdaeabc4b96934b1329a8a34285": {
          "model_module": "@jupyter-widgets/controls",
          "model_name": "DescriptionStyleModel",
          "state": {
            "_view_name": "StyleView",
            "_model_name": "DescriptionStyleModel",
            "description_width": "",
            "_view_module": "@jupyter-widgets/base",
            "_model_module_version": "1.5.0",
            "_view_count": null,
            "_view_module_version": "1.2.0",
            "_model_module": "@jupyter-widgets/controls"
          }
        },
        "4d4f613a61b74bcbb7b5fbc48aea4df2": {
          "model_module": "@jupyter-widgets/base",
          "model_name": "LayoutModel",
          "state": {
            "_view_name": "LayoutView",
            "grid_template_rows": null,
            "right": null,
            "justify_content": null,
            "_view_module": "@jupyter-widgets/base",
            "overflow": null,
            "_model_module_version": "1.2.0",
            "_view_count": null,
            "flex_flow": null,
            "width": null,
            "min_width": null,
            "border": null,
            "align_items": null,
            "bottom": null,
            "_model_module": "@jupyter-widgets/base",
            "top": null,
            "grid_column": null,
            "overflow_y": null,
            "overflow_x": null,
            "grid_auto_flow": null,
            "grid_area": null,
            "grid_template_columns": null,
            "flex": null,
            "_model_name": "LayoutModel",
            "justify_items": null,
            "grid_row": null,
            "max_height": null,
            "align_content": null,
            "visibility": null,
            "align_self": null,
            "height": null,
            "min_height": null,
            "padding": null,
            "grid_auto_rows": null,
            "grid_gap": null,
            "max_width": null,
            "order": null,
            "_view_module_version": "1.2.0",
            "grid_template_areas": null,
            "object_position": null,
            "object_fit": null,
            "grid_auto_columns": null,
            "margin": null,
            "display": null,
            "left": null
          }
        },
        "10236b638df2488398df433b53bede62": {
          "model_module": "@jupyter-widgets/controls",
          "model_name": "HBoxModel",
          "state": {
            "_view_name": "HBoxView",
            "_dom_classes": [],
            "_model_name": "HBoxModel",
            "_view_module": "@jupyter-widgets/controls",
            "_model_module_version": "1.5.0",
            "_view_count": null,
            "_view_module_version": "1.5.0",
            "box_style": "",
            "layout": "IPY_MODEL_c5d4ca4f6ebb4adaa44174bdd8bae099",
            "_model_module": "@jupyter-widgets/controls",
            "children": [
              "IPY_MODEL_688321d906f14c7faf5fa082490cf06e",
              "IPY_MODEL_fb7a7776b9684a1ab63b48af83295bdb"
            ]
          }
        },
        "c5d4ca4f6ebb4adaa44174bdd8bae099": {
          "model_module": "@jupyter-widgets/base",
          "model_name": "LayoutModel",
          "state": {
            "_view_name": "LayoutView",
            "grid_template_rows": null,
            "right": null,
            "justify_content": null,
            "_view_module": "@jupyter-widgets/base",
            "overflow": null,
            "_model_module_version": "1.2.0",
            "_view_count": null,
            "flex_flow": null,
            "width": null,
            "min_width": null,
            "border": null,
            "align_items": null,
            "bottom": null,
            "_model_module": "@jupyter-widgets/base",
            "top": null,
            "grid_column": null,
            "overflow_y": null,
            "overflow_x": null,
            "grid_auto_flow": null,
            "grid_area": null,
            "grid_template_columns": null,
            "flex": null,
            "_model_name": "LayoutModel",
            "justify_items": null,
            "grid_row": null,
            "max_height": null,
            "align_content": null,
            "visibility": null,
            "align_self": null,
            "height": null,
            "min_height": null,
            "padding": null,
            "grid_auto_rows": null,
            "grid_gap": null,
            "max_width": null,
            "order": null,
            "_view_module_version": "1.2.0",
            "grid_template_areas": null,
            "object_position": null,
            "object_fit": null,
            "grid_auto_columns": null,
            "margin": null,
            "display": null,
            "left": null
          }
        },
        "688321d906f14c7faf5fa082490cf06e": {
          "model_module": "@jupyter-widgets/controls",
          "model_name": "IntProgressModel",
          "state": {
            "_view_name": "ProgressView",
            "style": "IPY_MODEL_9bbe8c8d17ee42dd8d617f27c8e9cbfe",
            "_dom_classes": [],
            "description": "Downloading: 100%",
            "_model_name": "IntProgressModel",
            "bar_style": "success",
            "max": 1129,
            "_view_module": "@jupyter-widgets/controls",
            "_model_module_version": "1.5.0",
            "value": 1129,
            "_view_count": null,
            "_view_module_version": "1.5.0",
            "orientation": "horizontal",
            "min": 0,
            "description_tooltip": null,
            "_model_module": "@jupyter-widgets/controls",
            "layout": "IPY_MODEL_2963d775d3b5432d84fe705cb723cfe4"
          }
        },
        "fb7a7776b9684a1ab63b48af83295bdb": {
          "model_module": "@jupyter-widgets/controls",
          "model_name": "HTMLModel",
          "state": {
            "_view_name": "HTMLView",
            "style": "IPY_MODEL_fe7ba6ac8cdf4ffcab2af41a3fb12fb0",
            "_dom_classes": [],
            "description": "",
            "_model_name": "HTMLModel",
            "placeholder": "​",
            "_view_module": "@jupyter-widgets/controls",
            "_model_module_version": "1.5.0",
            "value": " 1.13k/1.13k [00:08&lt;00:00, 129B/s]",
            "_view_count": null,
            "_view_module_version": "1.5.0",
            "description_tooltip": null,
            "_model_module": "@jupyter-widgets/controls",
            "layout": "IPY_MODEL_855954ac811d489fa6285aa3a65dfc01"
          }
        },
        "9bbe8c8d17ee42dd8d617f27c8e9cbfe": {
          "model_module": "@jupyter-widgets/controls",
          "model_name": "ProgressStyleModel",
          "state": {
            "_view_name": "StyleView",
            "_model_name": "ProgressStyleModel",
            "description_width": "initial",
            "_view_module": "@jupyter-widgets/base",
            "_model_module_version": "1.5.0",
            "_view_count": null,
            "_view_module_version": "1.2.0",
            "bar_color": null,
            "_model_module": "@jupyter-widgets/controls"
          }
        },
        "2963d775d3b5432d84fe705cb723cfe4": {
          "model_module": "@jupyter-widgets/base",
          "model_name": "LayoutModel",
          "state": {
            "_view_name": "LayoutView",
            "grid_template_rows": null,
            "right": null,
            "justify_content": null,
            "_view_module": "@jupyter-widgets/base",
            "overflow": null,
            "_model_module_version": "1.2.0",
            "_view_count": null,
            "flex_flow": null,
            "width": null,
            "min_width": null,
            "border": null,
            "align_items": null,
            "bottom": null,
            "_model_module": "@jupyter-widgets/base",
            "top": null,
            "grid_column": null,
            "overflow_y": null,
            "overflow_x": null,
            "grid_auto_flow": null,
            "grid_area": null,
            "grid_template_columns": null,
            "flex": null,
            "_model_name": "LayoutModel",
            "justify_items": null,
            "grid_row": null,
            "max_height": null,
            "align_content": null,
            "visibility": null,
            "align_self": null,
            "height": null,
            "min_height": null,
            "padding": null,
            "grid_auto_rows": null,
            "grid_gap": null,
            "max_width": null,
            "order": null,
            "_view_module_version": "1.2.0",
            "grid_template_areas": null,
            "object_position": null,
            "object_fit": null,
            "grid_auto_columns": null,
            "margin": null,
            "display": null,
            "left": null
          }
        },
        "fe7ba6ac8cdf4ffcab2af41a3fb12fb0": {
          "model_module": "@jupyter-widgets/controls",
          "model_name": "DescriptionStyleModel",
          "state": {
            "_view_name": "StyleView",
            "_model_name": "DescriptionStyleModel",
            "description_width": "",
            "_view_module": "@jupyter-widgets/base",
            "_model_module_version": "1.5.0",
            "_view_count": null,
            "_view_module_version": "1.2.0",
            "_model_module": "@jupyter-widgets/controls"
          }
        },
        "855954ac811d489fa6285aa3a65dfc01": {
          "model_module": "@jupyter-widgets/base",
          "model_name": "LayoutModel",
          "state": {
            "_view_name": "LayoutView",
            "grid_template_rows": null,
            "right": null,
            "justify_content": null,
            "_view_module": "@jupyter-widgets/base",
            "overflow": null,
            "_model_module_version": "1.2.0",
            "_view_count": null,
            "flex_flow": null,
            "width": null,
            "min_width": null,
            "border": null,
            "align_items": null,
            "bottom": null,
            "_model_module": "@jupyter-widgets/base",
            "top": null,
            "grid_column": null,
            "overflow_y": null,
            "overflow_x": null,
            "grid_auto_flow": null,
            "grid_area": null,
            "grid_template_columns": null,
            "flex": null,
            "_model_name": "LayoutModel",
            "justify_items": null,
            "grid_row": null,
            "max_height": null,
            "align_content": null,
            "visibility": null,
            "align_self": null,
            "height": null,
            "min_height": null,
            "padding": null,
            "grid_auto_rows": null,
            "grid_gap": null,
            "max_width": null,
            "order": null,
            "_view_module_version": "1.2.0",
            "grid_template_areas": null,
            "object_position": null,
            "object_fit": null,
            "grid_auto_columns": null,
            "margin": null,
            "display": null,
            "left": null
          }
        },
        "1fe636206c7541a9a4beb498bbaadd34": {
          "model_module": "@jupyter-widgets/controls",
          "model_name": "HBoxModel",
          "state": {
            "_view_name": "HBoxView",
            "_dom_classes": [],
            "_model_name": "HBoxModel",
            "_view_module": "@jupyter-widgets/controls",
            "_model_module_version": "1.5.0",
            "_view_count": null,
            "_view_module_version": "1.5.0",
            "box_style": "",
            "layout": "IPY_MODEL_cd41304c5e0f429ea0f64eb1c09c86c5",
            "_model_module": "@jupyter-widgets/controls",
            "children": [
              "IPY_MODEL_04cdbd4f468c4bc2acbed3bdb861c8fa",
              "IPY_MODEL_2fb111bd75044aaabe0bbefda155ea47"
            ]
          }
        },
        "cd41304c5e0f429ea0f64eb1c09c86c5": {
          "model_module": "@jupyter-widgets/base",
          "model_name": "LayoutModel",
          "state": {
            "_view_name": "LayoutView",
            "grid_template_rows": null,
            "right": null,
            "justify_content": null,
            "_view_module": "@jupyter-widgets/base",
            "overflow": null,
            "_model_module_version": "1.2.0",
            "_view_count": null,
            "flex_flow": null,
            "width": null,
            "min_width": null,
            "border": null,
            "align_items": null,
            "bottom": null,
            "_model_module": "@jupyter-widgets/base",
            "top": null,
            "grid_column": null,
            "overflow_y": null,
            "overflow_x": null,
            "grid_auto_flow": null,
            "grid_area": null,
            "grid_template_columns": null,
            "flex": null,
            "_model_name": "LayoutModel",
            "justify_items": null,
            "grid_row": null,
            "max_height": null,
            "align_content": null,
            "visibility": null,
            "align_self": null,
            "height": null,
            "min_height": null,
            "padding": null,
            "grid_auto_rows": null,
            "grid_gap": null,
            "max_width": null,
            "order": null,
            "_view_module_version": "1.2.0",
            "grid_template_areas": null,
            "object_position": null,
            "object_fit": null,
            "grid_auto_columns": null,
            "margin": null,
            "display": null,
            "left": null
          }
        },
        "04cdbd4f468c4bc2acbed3bdb861c8fa": {
          "model_module": "@jupyter-widgets/controls",
          "model_name": "IntProgressModel",
          "state": {
            "_view_name": "ProgressView",
            "style": "IPY_MODEL_e0692385faa94191b4217cf8718af957",
            "_dom_classes": [],
            "description": "Downloading: 100%",
            "_model_name": "IntProgressModel",
            "bar_style": "success",
            "max": 760289,
            "_view_module": "@jupyter-widgets/controls",
            "_model_module_version": "1.5.0",
            "value": 760289,
            "_view_count": null,
            "_view_module_version": "1.5.0",
            "orientation": "horizontal",
            "min": 0,
            "description_tooltip": null,
            "_model_module": "@jupyter-widgets/controls",
            "layout": "IPY_MODEL_b0f63e1ffa464ca285484fe21a635bdf"
          }
        },
        "2fb111bd75044aaabe0bbefda155ea47": {
          "model_module": "@jupyter-widgets/controls",
          "model_name": "HTMLModel",
          "state": {
            "_view_name": "HTMLView",
            "style": "IPY_MODEL_a126f2f93b7a4a43a62c2ba1475aafba",
            "_dom_classes": [],
            "description": "",
            "_model_name": "HTMLModel",
            "placeholder": "​",
            "_view_module": "@jupyter-widgets/controls",
            "_model_module_version": "1.5.0",
            "value": " 760k/760k [00:00&lt;00:00, 1.57MB/s]",
            "_view_count": null,
            "_view_module_version": "1.5.0",
            "description_tooltip": null,
            "_model_module": "@jupyter-widgets/controls",
            "layout": "IPY_MODEL_5a3c39a3612f4d57aa31c55f45a699b5"
          }
        },
        "e0692385faa94191b4217cf8718af957": {
          "model_module": "@jupyter-widgets/controls",
          "model_name": "ProgressStyleModel",
          "state": {
            "_view_name": "StyleView",
            "_model_name": "ProgressStyleModel",
            "description_width": "initial",
            "_view_module": "@jupyter-widgets/base",
            "_model_module_version": "1.5.0",
            "_view_count": null,
            "_view_module_version": "1.2.0",
            "bar_color": null,
            "_model_module": "@jupyter-widgets/controls"
          }
        },
        "b0f63e1ffa464ca285484fe21a635bdf": {
          "model_module": "@jupyter-widgets/base",
          "model_name": "LayoutModel",
          "state": {
            "_view_name": "LayoutView",
            "grid_template_rows": null,
            "right": null,
            "justify_content": null,
            "_view_module": "@jupyter-widgets/base",
            "overflow": null,
            "_model_module_version": "1.2.0",
            "_view_count": null,
            "flex_flow": null,
            "width": null,
            "min_width": null,
            "border": null,
            "align_items": null,
            "bottom": null,
            "_model_module": "@jupyter-widgets/base",
            "top": null,
            "grid_column": null,
            "overflow_y": null,
            "overflow_x": null,
            "grid_auto_flow": null,
            "grid_area": null,
            "grid_template_columns": null,
            "flex": null,
            "_model_name": "LayoutModel",
            "justify_items": null,
            "grid_row": null,
            "max_height": null,
            "align_content": null,
            "visibility": null,
            "align_self": null,
            "height": null,
            "min_height": null,
            "padding": null,
            "grid_auto_rows": null,
            "grid_gap": null,
            "max_width": null,
            "order": null,
            "_view_module_version": "1.2.0",
            "grid_template_areas": null,
            "object_position": null,
            "object_fit": null,
            "grid_auto_columns": null,
            "margin": null,
            "display": null,
            "left": null
          }
        },
        "a126f2f93b7a4a43a62c2ba1475aafba": {
          "model_module": "@jupyter-widgets/controls",
          "model_name": "DescriptionStyleModel",
          "state": {
            "_view_name": "StyleView",
            "_model_name": "DescriptionStyleModel",
            "description_width": "",
            "_view_module": "@jupyter-widgets/base",
            "_model_module_version": "1.5.0",
            "_view_count": null,
            "_view_module_version": "1.2.0",
            "_model_module": "@jupyter-widgets/controls"
          }
        },
        "5a3c39a3612f4d57aa31c55f45a699b5": {
          "model_module": "@jupyter-widgets/base",
          "model_name": "LayoutModel",
          "state": {
            "_view_name": "LayoutView",
            "grid_template_rows": null,
            "right": null,
            "justify_content": null,
            "_view_module": "@jupyter-widgets/base",
            "overflow": null,
            "_model_module_version": "1.2.0",
            "_view_count": null,
            "flex_flow": null,
            "width": null,
            "min_width": null,
            "border": null,
            "align_items": null,
            "bottom": null,
            "_model_module": "@jupyter-widgets/base",
            "top": null,
            "grid_column": null,
            "overflow_y": null,
            "overflow_x": null,
            "grid_auto_flow": null,
            "grid_area": null,
            "grid_template_columns": null,
            "flex": null,
            "_model_name": "LayoutModel",
            "justify_items": null,
            "grid_row": null,
            "max_height": null,
            "align_content": null,
            "visibility": null,
            "align_self": null,
            "height": null,
            "min_height": null,
            "padding": null,
            "grid_auto_rows": null,
            "grid_gap": null,
            "max_width": null,
            "order": null,
            "_view_module_version": "1.2.0",
            "grid_template_areas": null,
            "object_position": null,
            "object_fit": null,
            "grid_auto_columns": null,
            "margin": null,
            "display": null,
            "left": null
          }
        },
        "e6cd0a62d59041cea97381fb49bc9311": {
          "model_module": "@jupyter-widgets/controls",
          "model_name": "HBoxModel",
          "state": {
            "_view_name": "HBoxView",
            "_dom_classes": [],
            "_model_name": "HBoxModel",
            "_view_module": "@jupyter-widgets/controls",
            "_model_module_version": "1.5.0",
            "_view_count": null,
            "_view_module_version": "1.5.0",
            "box_style": "",
            "layout": "IPY_MODEL_32eeb3aac4fb4ce5849a63c4cd5349e4",
            "_model_module": "@jupyter-widgets/controls",
            "children": [
              "IPY_MODEL_c8dae4950ed44982998231d1fb134f5f",
              "IPY_MODEL_81b3cafdc5504514b5d205e15795769a"
            ]
          }
        },
        "32eeb3aac4fb4ce5849a63c4cd5349e4": {
          "model_module": "@jupyter-widgets/base",
          "model_name": "LayoutModel",
          "state": {
            "_view_name": "LayoutView",
            "grid_template_rows": null,
            "right": null,
            "justify_content": null,
            "_view_module": "@jupyter-widgets/base",
            "overflow": null,
            "_model_module_version": "1.2.0",
            "_view_count": null,
            "flex_flow": null,
            "width": null,
            "min_width": null,
            "border": null,
            "align_items": null,
            "bottom": null,
            "_model_module": "@jupyter-widgets/base",
            "top": null,
            "grid_column": null,
            "overflow_y": null,
            "overflow_x": null,
            "grid_auto_flow": null,
            "grid_area": null,
            "grid_template_columns": null,
            "flex": null,
            "_model_name": "LayoutModel",
            "justify_items": null,
            "grid_row": null,
            "max_height": null,
            "align_content": null,
            "visibility": null,
            "align_self": null,
            "height": null,
            "min_height": null,
            "padding": null,
            "grid_auto_rows": null,
            "grid_gap": null,
            "max_width": null,
            "order": null,
            "_view_module_version": "1.2.0",
            "grid_template_areas": null,
            "object_position": null,
            "object_fit": null,
            "grid_auto_columns": null,
            "margin": null,
            "display": null,
            "left": null
          }
        },
        "c8dae4950ed44982998231d1fb134f5f": {
          "model_module": "@jupyter-widgets/controls",
          "model_name": "IntProgressModel",
          "state": {
            "_view_name": "ProgressView",
            "style": "IPY_MODEL_b48eec2040db4703afda11d9753fe9d6",
            "_dom_classes": [],
            "description": "Downloading: 100%",
            "_model_name": "IntProgressModel",
            "bar_style": "success",
            "max": 2,
            "_view_module": "@jupyter-widgets/controls",
            "_model_module_version": "1.5.0",
            "value": 2,
            "_view_count": null,
            "_view_module_version": "1.5.0",
            "orientation": "horizontal",
            "min": 0,
            "description_tooltip": null,
            "_model_module": "@jupyter-widgets/controls",
            "layout": "IPY_MODEL_49e427f8832c4c4eb3e8d869f1846be8"
          }
        },
        "81b3cafdc5504514b5d205e15795769a": {
          "model_module": "@jupyter-widgets/controls",
          "model_name": "HTMLModel",
          "state": {
            "_view_name": "HTMLView",
            "style": "IPY_MODEL_4a8392f0259e45acb6f655f2fbfb8c6c",
            "_dom_classes": [],
            "description": "",
            "_model_name": "HTMLModel",
            "placeholder": "​",
            "_view_module": "@jupyter-widgets/controls",
            "_model_module_version": "1.5.0",
            "value": " 2.00/2.00 [00:00&lt;00:00, 8.27B/s]",
            "_view_count": null,
            "_view_module_version": "1.5.0",
            "description_tooltip": null,
            "_model_module": "@jupyter-widgets/controls",
            "layout": "IPY_MODEL_31db7ceb47bb45fdbe28f3673664be49"
          }
        },
        "b48eec2040db4703afda11d9753fe9d6": {
          "model_module": "@jupyter-widgets/controls",
          "model_name": "ProgressStyleModel",
          "state": {
            "_view_name": "StyleView",
            "_model_name": "ProgressStyleModel",
            "description_width": "initial",
            "_view_module": "@jupyter-widgets/base",
            "_model_module_version": "1.5.0",
            "_view_count": null,
            "_view_module_version": "1.2.0",
            "bar_color": null,
            "_model_module": "@jupyter-widgets/controls"
          }
        },
        "49e427f8832c4c4eb3e8d869f1846be8": {
          "model_module": "@jupyter-widgets/base",
          "model_name": "LayoutModel",
          "state": {
            "_view_name": "LayoutView",
            "grid_template_rows": null,
            "right": null,
            "justify_content": null,
            "_view_module": "@jupyter-widgets/base",
            "overflow": null,
            "_model_module_version": "1.2.0",
            "_view_count": null,
            "flex_flow": null,
            "width": null,
            "min_width": null,
            "border": null,
            "align_items": null,
            "bottom": null,
            "_model_module": "@jupyter-widgets/base",
            "top": null,
            "grid_column": null,
            "overflow_y": null,
            "overflow_x": null,
            "grid_auto_flow": null,
            "grid_area": null,
            "grid_template_columns": null,
            "flex": null,
            "_model_name": "LayoutModel",
            "justify_items": null,
            "grid_row": null,
            "max_height": null,
            "align_content": null,
            "visibility": null,
            "align_self": null,
            "height": null,
            "min_height": null,
            "padding": null,
            "grid_auto_rows": null,
            "grid_gap": null,
            "max_width": null,
            "order": null,
            "_view_module_version": "1.2.0",
            "grid_template_areas": null,
            "object_position": null,
            "object_fit": null,
            "grid_auto_columns": null,
            "margin": null,
            "display": null,
            "left": null
          }
        },
        "4a8392f0259e45acb6f655f2fbfb8c6c": {
          "model_module": "@jupyter-widgets/controls",
          "model_name": "DescriptionStyleModel",
          "state": {
            "_view_name": "StyleView",
            "_model_name": "DescriptionStyleModel",
            "description_width": "",
            "_view_module": "@jupyter-widgets/base",
            "_model_module_version": "1.5.0",
            "_view_count": null,
            "_view_module_version": "1.2.0",
            "_model_module": "@jupyter-widgets/controls"
          }
        },
        "31db7ceb47bb45fdbe28f3673664be49": {
          "model_module": "@jupyter-widgets/base",
          "model_name": "LayoutModel",
          "state": {
            "_view_name": "LayoutView",
            "grid_template_rows": null,
            "right": null,
            "justify_content": null,
            "_view_module": "@jupyter-widgets/base",
            "overflow": null,
            "_model_module_version": "1.2.0",
            "_view_count": null,
            "flex_flow": null,
            "width": null,
            "min_width": null,
            "border": null,
            "align_items": null,
            "bottom": null,
            "_model_module": "@jupyter-widgets/base",
            "top": null,
            "grid_column": null,
            "overflow_y": null,
            "overflow_x": null,
            "grid_auto_flow": null,
            "grid_area": null,
            "grid_template_columns": null,
            "flex": null,
            "_model_name": "LayoutModel",
            "justify_items": null,
            "grid_row": null,
            "max_height": null,
            "align_content": null,
            "visibility": null,
            "align_self": null,
            "height": null,
            "min_height": null,
            "padding": null,
            "grid_auto_rows": null,
            "grid_gap": null,
            "max_width": null,
            "order": null,
            "_view_module_version": "1.2.0",
            "grid_template_areas": null,
            "object_position": null,
            "object_fit": null,
            "grid_auto_columns": null,
            "margin": null,
            "display": null,
            "left": null
          }
        },
        "04116751b3714b2f8b885834fc6bc3c7": {
          "model_module": "@jupyter-widgets/controls",
          "model_name": "HBoxModel",
          "state": {
            "_view_name": "HBoxView",
            "_dom_classes": [],
            "_model_name": "HBoxModel",
            "_view_module": "@jupyter-widgets/controls",
            "_model_module_version": "1.5.0",
            "_view_count": null,
            "_view_module_version": "1.5.0",
            "box_style": "",
            "layout": "IPY_MODEL_eef5c40b87e646bcaee66f61bbd3afa3",
            "_model_module": "@jupyter-widgets/controls",
            "children": [
              "IPY_MODEL_3de81746d1ca46a2b0f9d258f447ebbe",
              "IPY_MODEL_1508330871a546eb8b87780ab745b977"
            ]
          }
        },
        "eef5c40b87e646bcaee66f61bbd3afa3": {
          "model_module": "@jupyter-widgets/base",
          "model_name": "LayoutModel",
          "state": {
            "_view_name": "LayoutView",
            "grid_template_rows": null,
            "right": null,
            "justify_content": null,
            "_view_module": "@jupyter-widgets/base",
            "overflow": null,
            "_model_module_version": "1.2.0",
            "_view_count": null,
            "flex_flow": null,
            "width": null,
            "min_width": null,
            "border": null,
            "align_items": null,
            "bottom": null,
            "_model_module": "@jupyter-widgets/base",
            "top": null,
            "grid_column": null,
            "overflow_y": null,
            "overflow_x": null,
            "grid_auto_flow": null,
            "grid_area": null,
            "grid_template_columns": null,
            "flex": null,
            "_model_name": "LayoutModel",
            "justify_items": null,
            "grid_row": null,
            "max_height": null,
            "align_content": null,
            "visibility": null,
            "align_self": null,
            "height": null,
            "min_height": null,
            "padding": null,
            "grid_auto_rows": null,
            "grid_gap": null,
            "max_width": null,
            "order": null,
            "_view_module_version": "1.2.0",
            "grid_template_areas": null,
            "object_position": null,
            "object_fit": null,
            "grid_auto_columns": null,
            "margin": null,
            "display": null,
            "left": null
          }
        },
        "3de81746d1ca46a2b0f9d258f447ebbe": {
          "model_module": "@jupyter-widgets/controls",
          "model_name": "IntProgressModel",
          "state": {
            "_view_name": "ProgressView",
            "style": "IPY_MODEL_edcd58fbd03d460c902c4ce77fb845b3",
            "_dom_classes": [],
            "description": "Downloading: 100%",
            "_model_name": "IntProgressModel",
            "bar_style": "success",
            "max": 156,
            "_view_module": "@jupyter-widgets/controls",
            "_model_module_version": "1.5.0",
            "value": 156,
            "_view_count": null,
            "_view_module_version": "1.5.0",
            "orientation": "horizontal",
            "min": 0,
            "description_tooltip": null,
            "_model_module": "@jupyter-widgets/controls",
            "layout": "IPY_MODEL_858cda00fb8d436887e1ddff307576b0"
          }
        },
        "1508330871a546eb8b87780ab745b977": {
          "model_module": "@jupyter-widgets/controls",
          "model_name": "HTMLModel",
          "state": {
            "_view_name": "HTMLView",
            "style": "IPY_MODEL_a6d40e974b3c4a0b91dafcf970536053",
            "_dom_classes": [],
            "description": "",
            "_model_name": "HTMLModel",
            "placeholder": "​",
            "_view_module": "@jupyter-widgets/controls",
            "_model_module_version": "1.5.0",
            "value": " 156/156 [00:08&lt;00:00, 19.5B/s]",
            "_view_count": null,
            "_view_module_version": "1.5.0",
            "description_tooltip": null,
            "_model_module": "@jupyter-widgets/controls",
            "layout": "IPY_MODEL_d9a3a98d59454cdd802b7f22b433e187"
          }
        },
        "edcd58fbd03d460c902c4ce77fb845b3": {
          "model_module": "@jupyter-widgets/controls",
          "model_name": "ProgressStyleModel",
          "state": {
            "_view_name": "StyleView",
            "_model_name": "ProgressStyleModel",
            "description_width": "initial",
            "_view_module": "@jupyter-widgets/base",
            "_model_module_version": "1.5.0",
            "_view_count": null,
            "_view_module_version": "1.2.0",
            "bar_color": null,
            "_model_module": "@jupyter-widgets/controls"
          }
        },
        "858cda00fb8d436887e1ddff307576b0": {
          "model_module": "@jupyter-widgets/base",
          "model_name": "LayoutModel",
          "state": {
            "_view_name": "LayoutView",
            "grid_template_rows": null,
            "right": null,
            "justify_content": null,
            "_view_module": "@jupyter-widgets/base",
            "overflow": null,
            "_model_module_version": "1.2.0",
            "_view_count": null,
            "flex_flow": null,
            "width": null,
            "min_width": null,
            "border": null,
            "align_items": null,
            "bottom": null,
            "_model_module": "@jupyter-widgets/base",
            "top": null,
            "grid_column": null,
            "overflow_y": null,
            "overflow_x": null,
            "grid_auto_flow": null,
            "grid_area": null,
            "grid_template_columns": null,
            "flex": null,
            "_model_name": "LayoutModel",
            "justify_items": null,
            "grid_row": null,
            "max_height": null,
            "align_content": null,
            "visibility": null,
            "align_self": null,
            "height": null,
            "min_height": null,
            "padding": null,
            "grid_auto_rows": null,
            "grid_gap": null,
            "max_width": null,
            "order": null,
            "_view_module_version": "1.2.0",
            "grid_template_areas": null,
            "object_position": null,
            "object_fit": null,
            "grid_auto_columns": null,
            "margin": null,
            "display": null,
            "left": null
          }
        },
        "a6d40e974b3c4a0b91dafcf970536053": {
          "model_module": "@jupyter-widgets/controls",
          "model_name": "DescriptionStyleModel",
          "state": {
            "_view_name": "StyleView",
            "_model_name": "DescriptionStyleModel",
            "description_width": "",
            "_view_module": "@jupyter-widgets/base",
            "_model_module_version": "1.5.0",
            "_view_count": null,
            "_view_module_version": "1.2.0",
            "_model_module": "@jupyter-widgets/controls"
          }
        },
        "d9a3a98d59454cdd802b7f22b433e187": {
          "model_module": "@jupyter-widgets/base",
          "model_name": "LayoutModel",
          "state": {
            "_view_name": "LayoutView",
            "grid_template_rows": null,
            "right": null,
            "justify_content": null,
            "_view_module": "@jupyter-widgets/base",
            "overflow": null,
            "_model_module_version": "1.2.0",
            "_view_count": null,
            "flex_flow": null,
            "width": null,
            "min_width": null,
            "border": null,
            "align_items": null,
            "bottom": null,
            "_model_module": "@jupyter-widgets/base",
            "top": null,
            "grid_column": null,
            "overflow_y": null,
            "overflow_x": null,
            "grid_auto_flow": null,
            "grid_area": null,
            "grid_template_columns": null,
            "flex": null,
            "_model_name": "LayoutModel",
            "justify_items": null,
            "grid_row": null,
            "max_height": null,
            "align_content": null,
            "visibility": null,
            "align_self": null,
            "height": null,
            "min_height": null,
            "padding": null,
            "grid_auto_rows": null,
            "grid_gap": null,
            "max_width": null,
            "order": null,
            "_view_module_version": "1.2.0",
            "grid_template_areas": null,
            "object_position": null,
            "object_fit": null,
            "grid_auto_columns": null,
            "margin": null,
            "display": null,
            "left": null
          }
        },
        "0c4c9c43f6bc4cd6a1181f33c81c4884": {
          "model_module": "@jupyter-widgets/controls",
          "model_name": "HBoxModel",
          "state": {
            "_view_name": "HBoxView",
            "_dom_classes": [],
            "_model_name": "HBoxModel",
            "_view_module": "@jupyter-widgets/controls",
            "_model_module_version": "1.5.0",
            "_view_count": null,
            "_view_module_version": "1.5.0",
            "box_style": "",
            "layout": "IPY_MODEL_5b70a02a78114967a0d0dfc4bcc1748b",
            "_model_module": "@jupyter-widgets/controls",
            "children": [
              "IPY_MODEL_a93e45cf6b554c7ab25e9633bcb5c778",
              "IPY_MODEL_5d6f316c84fe4e3d803e0969e3d5de59"
            ]
          }
        },
        "5b70a02a78114967a0d0dfc4bcc1748b": {
          "model_module": "@jupyter-widgets/base",
          "model_name": "LayoutModel",
          "state": {
            "_view_name": "LayoutView",
            "grid_template_rows": null,
            "right": null,
            "justify_content": null,
            "_view_module": "@jupyter-widgets/base",
            "overflow": null,
            "_model_module_version": "1.2.0",
            "_view_count": null,
            "flex_flow": null,
            "width": null,
            "min_width": null,
            "border": null,
            "align_items": null,
            "bottom": null,
            "_model_module": "@jupyter-widgets/base",
            "top": null,
            "grid_column": null,
            "overflow_y": null,
            "overflow_x": null,
            "grid_auto_flow": null,
            "grid_area": null,
            "grid_template_columns": null,
            "flex": null,
            "_model_name": "LayoutModel",
            "justify_items": null,
            "grid_row": null,
            "max_height": null,
            "align_content": null,
            "visibility": null,
            "align_self": null,
            "height": null,
            "min_height": null,
            "padding": null,
            "grid_auto_rows": null,
            "grid_gap": null,
            "max_width": null,
            "order": null,
            "_view_module_version": "1.2.0",
            "grid_template_areas": null,
            "object_position": null,
            "object_fit": null,
            "grid_auto_columns": null,
            "margin": null,
            "display": null,
            "left": null
          }
        },
        "a93e45cf6b554c7ab25e9633bcb5c778": {
          "model_module": "@jupyter-widgets/controls",
          "model_name": "IntProgressModel",
          "state": {
            "_view_name": "ProgressView",
            "style": "IPY_MODEL_f09eec26b010453ca3903f88e365adfc",
            "_dom_classes": [],
            "description": "Downloading: 100%",
            "_model_name": "IntProgressModel",
            "bar_style": "success",
            "max": 58,
            "_view_module": "@jupyter-widgets/controls",
            "_model_module_version": "1.5.0",
            "value": 58,
            "_view_count": null,
            "_view_module_version": "1.5.0",
            "orientation": "horizontal",
            "min": 0,
            "description_tooltip": null,
            "_model_module": "@jupyter-widgets/controls",
            "layout": "IPY_MODEL_39731a04cd2e469eb92fe8b5cc55a92d"
          }
        },
        "5d6f316c84fe4e3d803e0969e3d5de59": {
          "model_module": "@jupyter-widgets/controls",
          "model_name": "HTMLModel",
          "state": {
            "_view_name": "HTMLView",
            "style": "IPY_MODEL_eb6efa0cfb494984bdc1e23afb864c8a",
            "_dom_classes": [],
            "description": "",
            "_model_name": "HTMLModel",
            "placeholder": "​",
            "_view_module": "@jupyter-widgets/controls",
            "_model_module_version": "1.5.0",
            "value": " 58.0/58.0 [00:07&lt;00:00, 7.42B/s]",
            "_view_count": null,
            "_view_module_version": "1.5.0",
            "description_tooltip": null,
            "_model_module": "@jupyter-widgets/controls",
            "layout": "IPY_MODEL_f6d9e1df9e144f1dacb5b5614da3aafb"
          }
        },
        "f09eec26b010453ca3903f88e365adfc": {
          "model_module": "@jupyter-widgets/controls",
          "model_name": "ProgressStyleModel",
          "state": {
            "_view_name": "StyleView",
            "_model_name": "ProgressStyleModel",
            "description_width": "initial",
            "_view_module": "@jupyter-widgets/base",
            "_model_module_version": "1.5.0",
            "_view_count": null,
            "_view_module_version": "1.2.0",
            "bar_color": null,
            "_model_module": "@jupyter-widgets/controls"
          }
        },
        "39731a04cd2e469eb92fe8b5cc55a92d": {
          "model_module": "@jupyter-widgets/base",
          "model_name": "LayoutModel",
          "state": {
            "_view_name": "LayoutView",
            "grid_template_rows": null,
            "right": null,
            "justify_content": null,
            "_view_module": "@jupyter-widgets/base",
            "overflow": null,
            "_model_module_version": "1.2.0",
            "_view_count": null,
            "flex_flow": null,
            "width": null,
            "min_width": null,
            "border": null,
            "align_items": null,
            "bottom": null,
            "_model_module": "@jupyter-widgets/base",
            "top": null,
            "grid_column": null,
            "overflow_y": null,
            "overflow_x": null,
            "grid_auto_flow": null,
            "grid_area": null,
            "grid_template_columns": null,
            "flex": null,
            "_model_name": "LayoutModel",
            "justify_items": null,
            "grid_row": null,
            "max_height": null,
            "align_content": null,
            "visibility": null,
            "align_self": null,
            "height": null,
            "min_height": null,
            "padding": null,
            "grid_auto_rows": null,
            "grid_gap": null,
            "max_width": null,
            "order": null,
            "_view_module_version": "1.2.0",
            "grid_template_areas": null,
            "object_position": null,
            "object_fit": null,
            "grid_auto_columns": null,
            "margin": null,
            "display": null,
            "left": null
          }
        },
        "eb6efa0cfb494984bdc1e23afb864c8a": {
          "model_module": "@jupyter-widgets/controls",
          "model_name": "DescriptionStyleModel",
          "state": {
            "_view_name": "StyleView",
            "_model_name": "DescriptionStyleModel",
            "description_width": "",
            "_view_module": "@jupyter-widgets/base",
            "_model_module_version": "1.5.0",
            "_view_count": null,
            "_view_module_version": "1.2.0",
            "_model_module": "@jupyter-widgets/controls"
          }
        },
        "f6d9e1df9e144f1dacb5b5614da3aafb": {
          "model_module": "@jupyter-widgets/base",
          "model_name": "LayoutModel",
          "state": {
            "_view_name": "LayoutView",
            "grid_template_rows": null,
            "right": null,
            "justify_content": null,
            "_view_module": "@jupyter-widgets/base",
            "overflow": null,
            "_model_module_version": "1.2.0",
            "_view_count": null,
            "flex_flow": null,
            "width": null,
            "min_width": null,
            "border": null,
            "align_items": null,
            "bottom": null,
            "_model_module": "@jupyter-widgets/base",
            "top": null,
            "grid_column": null,
            "overflow_y": null,
            "overflow_x": null,
            "grid_auto_flow": null,
            "grid_area": null,
            "grid_template_columns": null,
            "flex": null,
            "_model_name": "LayoutModel",
            "justify_items": null,
            "grid_row": null,
            "max_height": null,
            "align_content": null,
            "visibility": null,
            "align_self": null,
            "height": null,
            "min_height": null,
            "padding": null,
            "grid_auto_rows": null,
            "grid_gap": null,
            "max_width": null,
            "order": null,
            "_view_module_version": "1.2.0",
            "grid_template_areas": null,
            "object_position": null,
            "object_fit": null,
            "grid_auto_columns": null,
            "margin": null,
            "display": null,
            "left": null
          }
        },
        "861407db02564282929ea2e3e6d5985c": {
          "model_module": "@jupyter-widgets/controls",
          "model_name": "HBoxModel",
          "state": {
            "_view_name": "HBoxView",
            "_dom_classes": [],
            "_model_name": "HBoxModel",
            "_view_module": "@jupyter-widgets/controls",
            "_model_module_version": "1.5.0",
            "_view_count": null,
            "_view_module_version": "1.5.0",
            "box_style": "",
            "layout": "IPY_MODEL_74367681baa7471282326420dda8161d",
            "_model_module": "@jupyter-widgets/controls",
            "children": [
              "IPY_MODEL_7aa96614224047c5b797991e4178c42d",
              "IPY_MODEL_b6f1dddf08444790b3b8f45872be881c"
            ]
          }
        },
        "74367681baa7471282326420dda8161d": {
          "model_module": "@jupyter-widgets/base",
          "model_name": "LayoutModel",
          "state": {
            "_view_name": "LayoutView",
            "grid_template_rows": null,
            "right": null,
            "justify_content": null,
            "_view_module": "@jupyter-widgets/base",
            "overflow": null,
            "_model_module_version": "1.2.0",
            "_view_count": null,
            "flex_flow": null,
            "width": null,
            "min_width": null,
            "border": null,
            "align_items": null,
            "bottom": null,
            "_model_module": "@jupyter-widgets/base",
            "top": null,
            "grid_column": null,
            "overflow_y": null,
            "overflow_x": null,
            "grid_auto_flow": null,
            "grid_area": null,
            "grid_template_columns": null,
            "flex": null,
            "_model_name": "LayoutModel",
            "justify_items": null,
            "grid_row": null,
            "max_height": null,
            "align_content": null,
            "visibility": null,
            "align_self": null,
            "height": null,
            "min_height": null,
            "padding": null,
            "grid_auto_rows": null,
            "grid_gap": null,
            "max_width": null,
            "order": null,
            "_view_module_version": "1.2.0",
            "grid_template_areas": null,
            "object_position": null,
            "object_fit": null,
            "grid_auto_columns": null,
            "margin": null,
            "display": null,
            "left": null
          }
        },
        "7aa96614224047c5b797991e4178c42d": {
          "model_module": "@jupyter-widgets/controls",
          "model_name": "IntProgressModel",
          "state": {
            "_view_name": "ProgressView",
            "style": "IPY_MODEL_fb8be54cceda4e878440bb82a233aac8",
            "_dom_classes": [],
            "description": "Downloading: 100%",
            "_model_name": "IntProgressModel",
            "bar_style": "success",
            "max": 234922444,
            "_view_module": "@jupyter-widgets/controls",
            "_model_module_version": "1.5.0",
            "value": 234922444,
            "_view_count": null,
            "_view_module_version": "1.5.0",
            "orientation": "horizontal",
            "min": 0,
            "description_tooltip": null,
            "_model_module": "@jupyter-widgets/controls",
            "layout": "IPY_MODEL_9cabba166e494c0491c22a913390edcc"
          }
        },
        "b6f1dddf08444790b3b8f45872be881c": {
          "model_module": "@jupyter-widgets/controls",
          "model_name": "HTMLModel",
          "state": {
            "_view_name": "HTMLView",
            "style": "IPY_MODEL_6ddb5c6674de40e0bd746d31268fc693",
            "_dom_classes": [],
            "description": "",
            "_model_name": "HTMLModel",
            "placeholder": "​",
            "_view_module": "@jupyter-widgets/controls",
            "_model_module_version": "1.5.0",
            "value": " 235M/235M [00:07&lt;00:00, 31.6MB/s]",
            "_view_count": null,
            "_view_module_version": "1.5.0",
            "description_tooltip": null,
            "_model_module": "@jupyter-widgets/controls",
            "layout": "IPY_MODEL_032c2ff92bac4a23b6d6fe46294bca58"
          }
        },
        "fb8be54cceda4e878440bb82a233aac8": {
          "model_module": "@jupyter-widgets/controls",
          "model_name": "ProgressStyleModel",
          "state": {
            "_view_name": "StyleView",
            "_model_name": "ProgressStyleModel",
            "description_width": "initial",
            "_view_module": "@jupyter-widgets/base",
            "_model_module_version": "1.5.0",
            "_view_count": null,
            "_view_module_version": "1.2.0",
            "bar_color": null,
            "_model_module": "@jupyter-widgets/controls"
          }
        },
        "9cabba166e494c0491c22a913390edcc": {
          "model_module": "@jupyter-widgets/base",
          "model_name": "LayoutModel",
          "state": {
            "_view_name": "LayoutView",
            "grid_template_rows": null,
            "right": null,
            "justify_content": null,
            "_view_module": "@jupyter-widgets/base",
            "overflow": null,
            "_model_module_version": "1.2.0",
            "_view_count": null,
            "flex_flow": null,
            "width": null,
            "min_width": null,
            "border": null,
            "align_items": null,
            "bottom": null,
            "_model_module": "@jupyter-widgets/base",
            "top": null,
            "grid_column": null,
            "overflow_y": null,
            "overflow_x": null,
            "grid_auto_flow": null,
            "grid_area": null,
            "grid_template_columns": null,
            "flex": null,
            "_model_name": "LayoutModel",
            "justify_items": null,
            "grid_row": null,
            "max_height": null,
            "align_content": null,
            "visibility": null,
            "align_self": null,
            "height": null,
            "min_height": null,
            "padding": null,
            "grid_auto_rows": null,
            "grid_gap": null,
            "max_width": null,
            "order": null,
            "_view_module_version": "1.2.0",
            "grid_template_areas": null,
            "object_position": null,
            "object_fit": null,
            "grid_auto_columns": null,
            "margin": null,
            "display": null,
            "left": null
          }
        },
        "6ddb5c6674de40e0bd746d31268fc693": {
          "model_module": "@jupyter-widgets/controls",
          "model_name": "DescriptionStyleModel",
          "state": {
            "_view_name": "StyleView",
            "_model_name": "DescriptionStyleModel",
            "description_width": "",
            "_view_module": "@jupyter-widgets/base",
            "_model_module_version": "1.5.0",
            "_view_count": null,
            "_view_module_version": "1.2.0",
            "_model_module": "@jupyter-widgets/controls"
          }
        },
        "032c2ff92bac4a23b6d6fe46294bca58": {
          "model_module": "@jupyter-widgets/base",
          "model_name": "LayoutModel",
          "state": {
            "_view_name": "LayoutView",
            "grid_template_rows": null,
            "right": null,
            "justify_content": null,
            "_view_module": "@jupyter-widgets/base",
            "overflow": null,
            "_model_module_version": "1.2.0",
            "_view_count": null,
            "flex_flow": null,
            "width": null,
            "min_width": null,
            "border": null,
            "align_items": null,
            "bottom": null,
            "_model_module": "@jupyter-widgets/base",
            "top": null,
            "grid_column": null,
            "overflow_y": null,
            "overflow_x": null,
            "grid_auto_flow": null,
            "grid_area": null,
            "grid_template_columns": null,
            "flex": null,
            "_model_name": "LayoutModel",
            "justify_items": null,
            "grid_row": null,
            "max_height": null,
            "align_content": null,
            "visibility": null,
            "align_self": null,
            "height": null,
            "min_height": null,
            "padding": null,
            "grid_auto_rows": null,
            "grid_gap": null,
            "max_width": null,
            "order": null,
            "_view_module_version": "1.2.0",
            "grid_template_areas": null,
            "object_position": null,
            "object_fit": null,
            "grid_auto_columns": null,
            "margin": null,
            "display": null,
            "left": null
          }
        }
      }
    }
  },
  "cells": [
    {
      "cell_type": "code",
      "metadata": {
        "id": "beYjXdAyuD78",
        "colab_type": "code",
        "outputId": "023c8ce9-4354-4745-dedc-8a41dba2e1df",
        "colab": {
          "base_uri": "https://localhost:8080/",
          "height": 730
        }
      },
      "source": [
        "pip install torch torchvision transformers"
      ],
      "execution_count": 0,
      "outputs": [
        {
          "output_type": "stream",
          "text": [
            "Requirement already satisfied: torch in /usr/local/lib/python3.6/dist-packages (1.4.0)\n",
            "Requirement already satisfied: torchvision in /usr/local/lib/python3.6/dist-packages (0.5.0)\n",
            "Collecting transformers\n",
            "\u001b[?25l  Downloading https://files.pythonhosted.org/packages/4c/a0/32e3a4501ef480f7ea01aac329a716132f32f7911ef1c2fac228acc57ca7/transformers-2.6.0-py3-none-any.whl (540kB)\n",
            "\u001b[K     |████████████████████████████████| 542kB 2.8MB/s \n",
            "\u001b[?25hRequirement already satisfied: pillow>=4.1.1 in /usr/local/lib/python3.6/dist-packages (from torchvision) (7.0.0)\n",
            "Requirement already satisfied: numpy in /usr/local/lib/python3.6/dist-packages (from torchvision) (1.18.2)\n",
            "Requirement already satisfied: six in /usr/local/lib/python3.6/dist-packages (from torchvision) (1.12.0)\n",
            "Collecting tokenizers==0.5.2\n",
            "\u001b[?25l  Downloading https://files.pythonhosted.org/packages/d1/3f/73c881ea4723e43c1e9acf317cf407fab3a278daab3a69c98dcac511c04f/tokenizers-0.5.2-cp36-cp36m-manylinux1_x86_64.whl (3.7MB)\n",
            "\u001b[K     |████████████████████████████████| 3.7MB 37.9MB/s \n",
            "\u001b[?25hRequirement already satisfied: requests in /usr/local/lib/python3.6/dist-packages (from transformers) (2.21.0)\n",
            "Requirement already satisfied: tqdm>=4.27 in /usr/local/lib/python3.6/dist-packages (from transformers) (4.38.0)\n",
            "Requirement already satisfied: regex!=2019.12.17 in /usr/local/lib/python3.6/dist-packages (from transformers) (2019.12.20)\n",
            "Requirement already satisfied: filelock in /usr/local/lib/python3.6/dist-packages (from transformers) (3.0.12)\n",
            "Requirement already satisfied: boto3 in /usr/local/lib/python3.6/dist-packages (from transformers) (1.12.27)\n",
            "Collecting sentencepiece\n",
            "\u001b[?25l  Downloading https://files.pythonhosted.org/packages/74/f4/2d5214cbf13d06e7cb2c20d84115ca25b53ea76fa1f0ade0e3c9749de214/sentencepiece-0.1.85-cp36-cp36m-manylinux1_x86_64.whl (1.0MB)\n",
            "\u001b[K     |████████████████████████████████| 1.0MB 27.5MB/s \n",
            "\u001b[?25hCollecting sacremoses\n",
            "\u001b[?25l  Downloading https://files.pythonhosted.org/packages/a6/b4/7a41d630547a4afd58143597d5a49e07bfd4c42914d8335b2a5657efc14b/sacremoses-0.0.38.tar.gz (860kB)\n",
            "\u001b[K     |████████████████████████████████| 870kB 32.5MB/s \n",
            "\u001b[?25hRequirement already satisfied: idna<2.9,>=2.5 in /usr/local/lib/python3.6/dist-packages (from requests->transformers) (2.8)\n",
            "Requirement already satisfied: certifi>=2017.4.17 in /usr/local/lib/python3.6/dist-packages (from requests->transformers) (2019.11.28)\n",
            "Requirement already satisfied: chardet<3.1.0,>=3.0.2 in /usr/local/lib/python3.6/dist-packages (from requests->transformers) (3.0.4)\n",
            "Requirement already satisfied: urllib3<1.25,>=1.21.1 in /usr/local/lib/python3.6/dist-packages (from requests->transformers) (1.24.3)\n",
            "Requirement already satisfied: s3transfer<0.4.0,>=0.3.0 in /usr/local/lib/python3.6/dist-packages (from boto3->transformers) (0.3.3)\n",
            "Requirement already satisfied: botocore<1.16.0,>=1.15.27 in /usr/local/lib/python3.6/dist-packages (from boto3->transformers) (1.15.27)\n",
            "Requirement already satisfied: jmespath<1.0.0,>=0.7.1 in /usr/local/lib/python3.6/dist-packages (from boto3->transformers) (0.9.5)\n",
            "Requirement already satisfied: click in /usr/local/lib/python3.6/dist-packages (from sacremoses->transformers) (7.1.1)\n",
            "Requirement already satisfied: joblib in /usr/local/lib/python3.6/dist-packages (from sacremoses->transformers) (0.14.1)\n",
            "Requirement already satisfied: docutils<0.16,>=0.10 in /usr/local/lib/python3.6/dist-packages (from botocore<1.16.0,>=1.15.27->boto3->transformers) (0.15.2)\n",
            "Requirement already satisfied: python-dateutil<3.0.0,>=2.1 in /usr/local/lib/python3.6/dist-packages (from botocore<1.16.0,>=1.15.27->boto3->transformers) (2.8.1)\n",
            "Building wheels for collected packages: sacremoses\n",
            "  Building wheel for sacremoses (setup.py) ... \u001b[?25l\u001b[?25hdone\n",
            "  Created wheel for sacremoses: filename=sacremoses-0.0.38-cp36-none-any.whl size=884628 sha256=fcdb0f47be2580fb03e13f2f7c4739bd46ebc50bc7665769b4d4bb67568ec69a\n",
            "  Stored in directory: /root/.cache/pip/wheels/6d/ec/1a/21b8912e35e02741306f35f66c785f3afe94de754a0eaf1422\n",
            "Successfully built sacremoses\n",
            "Installing collected packages: tokenizers, sentencepiece, sacremoses, transformers\n",
            "Successfully installed sacremoses-0.0.38 sentencepiece-0.1.85 tokenizers-0.5.2 transformers-2.6.0\n"
          ],
          "name": "stdout"
        }
      ]
    },
    {
      "cell_type": "code",
      "metadata": {
        "id": "yT6Ffe1LlHgF",
        "colab_type": "code",
        "outputId": "dc1cff1e-5b2f-40bc-d474-3258e089d7cd",
        "colab": {
          "base_uri": "https://localhost:8080/",
          "height": 138
        }
      },
      "source": [
        "!git clone https://github.com/huggingface/transformers \\\n",
        "&& cd transformers \n",
        "# && git checkout a3085020ed0d81d4903c50967687192e3101e770 "
      ],
      "execution_count": 0,
      "outputs": [
        {
          "output_type": "stream",
          "text": [
            "Cloning into 'transformers'...\n",
            "remote: Enumerating objects: 263, done.\u001b[K\n",
            "remote: Counting objects:   0% (1/263)\u001b[K\rremote: Counting objects:   1% (3/263)\u001b[K\rremote: Counting objects:   2% (6/263)\u001b[K\rremote: Counting objects:   3% (8/263)\u001b[K\rremote: Counting objects:   4% (11/263)\u001b[K\rremote: Counting objects:   5% (14/263)\u001b[K\rremote: Counting objects:   6% (16/263)\u001b[K\rremote: Counting objects:   7% (19/263)\u001b[K\rremote: Counting objects:   8% (22/263)\u001b[K\rremote: Counting objects:   9% (24/263)\u001b[K\rremote: Counting objects:  10% (27/263)\u001b[K\rremote: Counting objects:  11% (29/263)\u001b[K\rremote: Counting objects:  12% (32/263)\u001b[K\rremote: Counting objects:  13% (35/263)\u001b[K\rremote: Counting objects:  14% (37/263)\u001b[K\rremote: Counting objects:  15% (40/263)\u001b[K\rremote: Counting objects:  16% (43/263)\u001b[K\rremote: Counting objects:  17% (45/263)\u001b[K\rremote: Counting objects:  18% (48/263)\u001b[K\rremote: Counting objects:  19% (50/263)\u001b[K\rremote: Counting objects:  20% (53/263)\u001b[K\rremote: Counting objects:  21% (56/263)\u001b[K\rremote: Counting objects:  22% (58/263)\u001b[K\rremote: Counting objects:  23% (61/263)\u001b[K\rremote: Counting objects:  24% (64/263)\u001b[K\rremote: Counting objects:  25% (66/263)\u001b[K\rremote: Counting objects:  26% (69/263)\u001b[K\rremote: Counting objects:  27% (72/263)\u001b[K\rremote: Counting objects:  28% (74/263)\u001b[K\rremote: Counting objects:  29% (77/263)\u001b[K\rremote: Counting objects:  30% (79/263)\u001b[K\rremote: Counting objects:  31% (82/263)\u001b[K\rremote: Counting objects:  32% (85/263)\u001b[K\rremote: Counting objects:  33% (87/263)\u001b[K\rremote: Counting objects:  34% (90/263)\u001b[K\rremote: Counting objects:  35% (93/263)\u001b[K\rremote: Counting objects:  36% (95/263)\u001b[K\rremote: Counting objects:  37% (98/263)\u001b[K\rremote: Counting objects:  38% (100/263)\u001b[K\rremote: Counting objects:  39% (103/263)\u001b[K\rremote: Counting objects:  40% (106/263)\u001b[K\rremote: Counting objects:  41% (108/263)\u001b[K\rremote: Counting objects:  42% (111/263)\u001b[K\rremote: Counting objects:  43% (114/263)\u001b[K\rremote: Counting objects:  44% (116/263)\u001b[K\rremote: Counting objects:  45% (119/263)\u001b[K\rremote: Counting objects:  46% (121/263)\u001b[K\rremote: Counting objects:  47% (124/263)\u001b[K\rremote: Counting objects:  48% (127/263)\u001b[K\rremote: Counting objects:  49% (129/263)\u001b[K\rremote: Counting objects:  50% (132/263)\u001b[K\rremote: Counting objects:  51% (135/263)\u001b[K\rremote: Counting objects:  52% (137/263)\u001b[K\rremote: Counting objects:  53% (140/263)\u001b[K\rremote: Counting objects:  54% (143/263)\u001b[K\rremote: Counting objects:  55% (145/263)\u001b[K\rremote: Counting objects:  56% (148/263)\u001b[K\rremote: Counting objects:  57% (150/263)\u001b[K\rremote: Counting objects:  58% (153/263)\u001b[K\rremote: Counting objects:  59% (156/263)\u001b[K\rremote: Counting objects:  60% (158/263)\u001b[K\rremote: Counting objects:  61% (161/263)\u001b[K\rremote: Counting objects:  62% (164/263)\u001b[K\rremote: Counting objects:  63% (166/263)\u001b[K\rremote: Counting objects:  64% (169/263)\u001b[K\rremote: Counting objects:  65% (171/263)\u001b[K\rremote: Counting objects:  66% (174/263)\u001b[K\rremote: Counting objects:  67% (177/263)\u001b[K\rremote: Counting objects:  68% (179/263)\u001b[K\rremote: Counting objects:  69% (182/263)\u001b[K\rremote: Counting objects:  70% (185/263)\u001b[K\rremote: Counting objects:  71% (187/263)\u001b[K\rremote: Counting objects:  72% (190/263)\u001b[K\rremote: Counting objects:  73% (192/263)\u001b[K\rremote: Counting objects:  74% (195/263)\u001b[K\rremote: Counting objects:  75% (198/263)\u001b[K\rremote: Counting objects:  76% (200/263)\u001b[K\rremote: Counting objects:  77% (203/263)\u001b[K\rremote: Counting objects:  78% (206/263)\u001b[K\rremote: Counting objects:  79% (208/263)\u001b[K\rremote: Counting objects:  80% (211/263)\u001b[K\rremote: Counting objects:  81% (214/263)\u001b[K\rremote: Counting objects:  82% (216/263)\u001b[K\rremote: Counting objects:  83% (219/263)\u001b[K\rremote: Counting objects:  84% (221/263)\u001b[K\rremote: Counting objects:  85% (224/263)\u001b[K\rremote: Counting objects:  86% (227/263)\u001b[K\rremote: Counting objects:  87% (229/263)\u001b[K\rremote: Counting objects:  88% (232/263)\u001b[K\rremote: Counting objects:  89% (235/263)\u001b[K\rremote: Counting objects:  90% (237/263)\u001b[K\rremote: Counting objects:  91% (240/263)\u001b[K\rremote: Counting objects:  92% (242/263)\u001b[K\rremote: Counting objects:  93% (245/263)\u001b[K\rremote: Counting objects:  94% (248/263)\u001b[K\rremote: Counting objects:  95% (250/263)\u001b[K\rremote: Counting objects:  96% (253/263)\u001b[K\rremote: Counting objects:  97% (256/263)\u001b[K\rremote: Counting objects:  98% (258/263)\u001b[K\rremote: Counting objects:  99% (261/263)\u001b[K\rremote: Counting objects: 100% (263/263)\u001b[K\rremote: Counting objects: 100% (263/263), done.\u001b[K\n",
            "remote: Compressing objects: 100% (122/122), done.\u001b[K\n",
            "remote: Total 23197 (delta 146), reused 186 (delta 108), pack-reused 22934\u001b[K\n",
            "Receiving objects: 100% (23197/23197), 13.75 MiB | 26.77 MiB/s, done.\n",
            "Resolving deltas: 100% (16591/16591), done.\n"
          ],
          "name": "stdout"
        }
      ]
    },
    {
      "cell_type": "code",
      "metadata": {
        "id": "WsJs7Qczxojp",
        "colab_type": "code",
        "outputId": "cd70dff1-a64c-4ac2-cd3e-0373ec2ded50",
        "colab": {
          "base_uri": "https://localhost:8080/",
          "height": 554
        }
      },
      "source": [
        "!git clone https://github.com/nyu-mll/GLUE-baselines.git \n",
        "!git clone https://github.com/wasiahmad/paraphrase_identification.git \\\n",
        "&& python GLUE-baselines/download_glue_data.py --data_dir glue_data --tasks all --path_to_mrpc=paraphrase_identification/dataset/msr-paraphrase-corpus"
      ],
      "execution_count": 0,
      "outputs": [
        {
          "output_type": "stream",
          "text": [
            "Cloning into 'GLUE-baselines'...\n",
            "remote: Enumerating objects: 886, done.\u001b[K\n",
            "Receiving objects:   0% (1/886)   \rReceiving objects:   1% (9/886)   \rReceiving objects:   2% (18/886)   \rReceiving objects:   3% (27/886)   \rReceiving objects:   4% (36/886)   \rReceiving objects:   5% (45/886)   \rReceiving objects:   6% (54/886)   \rReceiving objects:   7% (63/886)   \rReceiving objects:   8% (71/886)   \rReceiving objects:   9% (80/886)   \rReceiving objects:  10% (89/886)   \rReceiving objects:  11% (98/886)   \rReceiving objects:  12% (107/886)   \rReceiving objects:  13% (116/886)   \rReceiving objects:  14% (125/886)   \rReceiving objects:  15% (133/886)   \rReceiving objects:  16% (142/886)   \rReceiving objects:  17% (151/886)   \rReceiving objects:  18% (160/886)   \rReceiving objects:  19% (169/886)   \rReceiving objects:  20% (178/886)   \rReceiving objects:  21% (187/886)   \rReceiving objects:  22% (195/886)   \rReceiving objects:  23% (204/886)   \rReceiving objects:  24% (213/886)   \rReceiving objects:  25% (222/886)   \rReceiving objects:  26% (231/886)   \rReceiving objects:  27% (240/886)   \rReceiving objects:  28% (249/886)   \rReceiving objects:  29% (257/886)   \rReceiving objects:  30% (266/886)   \rReceiving objects:  31% (275/886)   \rReceiving objects:  32% (284/886)   \rReceiving objects:  33% (293/886)   \rReceiving objects:  34% (302/886)   \rReceiving objects:  35% (311/886)   \rReceiving objects:  36% (319/886)   \rReceiving objects:  37% (328/886)   \rReceiving objects:  38% (337/886)   \rReceiving objects:  39% (346/886)   \rReceiving objects:  40% (355/886)   \rReceiving objects:  41% (364/886)   \rReceiving objects:  42% (373/886)   \rReceiving objects:  43% (381/886)   \rReceiving objects:  44% (390/886)   \rReceiving objects:  45% (399/886)   \rReceiving objects:  46% (408/886)   \rReceiving objects:  47% (417/886)   \rReceiving objects:  48% (426/886)   \rReceiving objects:  49% (435/886)   \rReceiving objects:  50% (443/886)   \rReceiving objects:  51% (452/886)   \rReceiving objects:  52% (461/886)   \rReceiving objects:  53% (470/886)   \rReceiving objects:  54% (479/886)   \rReceiving objects:  55% (488/886)   \rReceiving objects:  56% (497/886)   \rReceiving objects:  57% (506/886)   \rReceiving objects:  58% (514/886)   \rReceiving objects:  59% (523/886)   \rReceiving objects:  60% (532/886)   \rReceiving objects:  61% (541/886)   \rReceiving objects:  62% (550/886)   \rReceiving objects:  63% (559/886)   \rReceiving objects:  64% (568/886)   \rReceiving objects:  65% (576/886)   \rReceiving objects:  66% (585/886)   \rReceiving objects:  67% (594/886)   \rReceiving objects:  68% (603/886)   \rReceiving objects:  69% (612/886)   \rReceiving objects:  70% (621/886)   \rremote: Total 886 (delta 0), reused 0 (delta 0), pack-reused 886\u001b[K\n",
            "Receiving objects:  71% (630/886)   \rReceiving objects:  72% (638/886)   \rReceiving objects:  73% (647/886)   \rReceiving objects:  74% (656/886)   \rReceiving objects:  75% (665/886)   \rReceiving objects:  76% (674/886)   \rReceiving objects:  77% (683/886)   \rReceiving objects:  78% (692/886)   \rReceiving objects:  79% (700/886)   \rReceiving objects:  80% (709/886)   \rReceiving objects:  81% (718/886)   \rReceiving objects:  82% (727/886)   \rReceiving objects:  83% (736/886)   \rReceiving objects:  84% (745/886)   \rReceiving objects:  85% (754/886)   \rReceiving objects:  86% (762/886)   \rReceiving objects:  87% (771/886)   \rReceiving objects:  88% (780/886)   \rReceiving objects:  89% (789/886)   \rReceiving objects:  90% (798/886)   \rReceiving objects:  91% (807/886)   \rReceiving objects:  92% (816/886)   \rReceiving objects:  93% (824/886)   \rReceiving objects:  94% (833/886)   \rReceiving objects:  95% (842/886)   \rReceiving objects:  96% (851/886)   \rReceiving objects:  97% (860/886)   \rReceiving objects:  98% (869/886)   \rReceiving objects:  99% (878/886)   \rReceiving objects: 100% (886/886)   \rReceiving objects: 100% (886/886), 1.47 MiB | 15.25 MiB/s, done.\n",
            "Resolving deltas: 100% (609/609), done.\n",
            "Cloning into 'paraphrase_identification'...\n",
            "remote: Enumerating objects: 68, done.\u001b[K\n",
            "remote: Total 68 (delta 0), reused 0 (delta 0), pack-reused 68\u001b[K\n",
            "Unpacking objects: 100% (68/68), done.\n",
            "Downloading and extracting CoLA...\n",
            "\tCompleted!\n",
            "Downloading and extracting SST...\n",
            "\tCompleted!\n",
            "Processing MRPC...\n",
            "\tCompleted!\n",
            "Downloading and extracting QQP...\n",
            "\tCompleted!\n",
            "Downloading and extracting STS...\n",
            "\tCompleted!\n",
            "Downloading and extracting MNLI...\n",
            "\tCompleted!\n",
            "Downloading and extracting SNLI...\n",
            "\tCompleted!\n",
            "Downloading and extracting QNLI...\n",
            "\tCompleted!\n",
            "Downloading and extracting RTE...\n",
            "\tCompleted!\n",
            "Downloading and extracting WNLI...\n",
            "\tCompleted!\n",
            "Downloading and extracting diagnostic...\n",
            "\tCompleted!\n"
          ],
          "name": "stdout"
        }
      ]
    },
    {
      "cell_type": "code",
      "metadata": {
        "id": "EmW0GVJ5lLrQ",
        "colab_type": "code",
        "outputId": "b8a787a2-2449-4eac-8f60-4d98f15167c6",
        "colab": {
          "base_uri": "https://localhost:8080/",
          "height": 398
        }
      },
      "source": [
        "!mkdir dataset \\\n",
        "&& cd dataset \\\n",
        "&& wget https://rajpurkar.github.io/SQuAD-explorer/dataset/train-v2.0.json \\\n",
        "&& wget https://rajpurkar.github.io/SQuAD-explorer/dataset/dev-v2.0.json"
      ],
      "execution_count": 0,
      "outputs": [
        {
          "output_type": "stream",
          "text": [
            "--2020-03-26 22:46:48--  https://rajpurkar.github.io/SQuAD-explorer/dataset/train-v2.0.json\n",
            "Resolving rajpurkar.github.io (rajpurkar.github.io)... 185.199.109.153, 185.199.110.153, 185.199.111.153, ...\n",
            "Connecting to rajpurkar.github.io (rajpurkar.github.io)|185.199.109.153|:443... connected.\n",
            "HTTP request sent, awaiting response... 200 OK\n",
            "Length: 42123633 (40M) [application/json]\n",
            "Saving to: ‘train-v2.0.json’\n",
            "\n",
            "train-v2.0.json     100%[===================>]  40.17M   142MB/s    in 0.3s    \n",
            "\n",
            "2020-03-26 22:46:48 (142 MB/s) - ‘train-v2.0.json’ saved [42123633/42123633]\n",
            "\n",
            "--2020-03-26 22:46:48--  https://rajpurkar.github.io/SQuAD-explorer/dataset/dev-v2.0.json\n",
            "Resolving rajpurkar.github.io (rajpurkar.github.io)... 185.199.109.153, 185.199.110.153, 185.199.111.153, ...\n",
            "Connecting to rajpurkar.github.io (rajpurkar.github.io)|185.199.109.153|:443... connected.\n",
            "HTTP request sent, awaiting response... 200 OK\n",
            "Length: 4370528 (4.2M) [application/json]\n",
            "Saving to: ‘dev-v2.0.json’\n",
            "\n",
            "dev-v2.0.json       100%[===================>]   4.17M  12.8MB/s    in 0.3s    \n",
            "\n",
            "2020-03-26 22:46:49 (12.8 MB/s) - ‘dev-v2.0.json’ saved [4370528/4370528]\n",
            "\n"
          ],
          "name": "stdout"
        }
      ]
    },
    {
      "cell_type": "markdown",
      "metadata": {
        "id": "VhzWatyHuLPC",
        "colab_type": "text"
      },
      "source": [
        "## Before mounting drive, follow this [link](https://drive.google.com/open?id=13VpSQzzjuv6ur0dm7tDTQDarcn2cfZtj) to access our pre-trained models and move them to your drive\n"
      ]
    },
    {
      "cell_type": "code",
      "metadata": {
        "id": "K3M-2-qzj3O2",
        "colab_type": "code",
        "outputId": "e61bd5bb-81ef-4716-c0a5-2b0ce009450d",
        "colab": {
          "base_uri": "https://localhost:8080/",
          "height": 124
        }
      },
      "source": [
        "## Mount Drive into Colab\n",
        "from google.colab import drive\n",
        "drive.mount('/content/drive')"
      ],
      "execution_count": 0,
      "outputs": [
        {
          "output_type": "stream",
          "text": [
            "Go to this URL in a browser: https://accounts.google.com/o/oauth2/auth?client_id=947318989803-6bn6qk8qdgf4n4g3pfee6491hc0brc4i.apps.googleusercontent.com&redirect_uri=urn%3aietf%3awg%3aoauth%3a2.0%3aoob&response_type=code&scope=email%20https%3a%2f%2fwww.googleapis.com%2fauth%2fdocs.test%20https%3a%2f%2fwww.googleapis.com%2fauth%2fdrive%20https%3a%2f%2fwww.googleapis.com%2fauth%2fdrive.photos.readonly%20https%3a%2f%2fwww.googleapis.com%2fauth%2fpeopleapi.readonly\n",
            "\n",
            "Enter your authorization code:\n",
            "··········\n",
            "Mounted at /content/drive\n"
          ],
          "name": "stdout"
        }
      ]
    },
    {
      "cell_type": "code",
      "metadata": {
        "id": "3V6JORcblorp",
        "colab_type": "code",
        "outputId": "24fd9aef-9a8e-4988-b58d-b492a1e3ae1e",
        "colab": {
          "base_uri": "https://localhost:8080/",
          "height": 381
        }
      },
      "source": [
        "!ls\n",
        "!ls drive/'My Drive'/Layer\\ 1\\ Models"
      ],
      "execution_count": 0,
      "outputs": [
        {
          "output_type": "stream",
          "text": [
            "dataset  GLUE-baselines  paraphrase_identification  transformers\n",
            "drive\t glue_data\t sample_data\n",
            "Final_Test_Set_answered.csv\n",
            "Final_Test_Set.csv\n",
            "roberta_for_section_Cell_Division_model.pth\n",
            "roberta_for_section_Cell_Strucuture_and_transport_model.pth\n",
            "roberta_for_section_Communicable_diseases_model.pth\n",
            "roberta_for_section_Genetics_and_evolution_model.pth\n",
            "roberta_for_section_Non-Communicable_diseases_model.pth\n",
            "roberta_for_section_Organisation_and_the_digestive_system_model.pth\n",
            "roberta_for_section_Organising_Animals_and_Plants_model.pth\n",
            "roberta_for_section_Photosynthesis_model.pth\n",
            "roberta_for_section_Preventing_and_treating_disease_model.pth\n",
            "roberta_for_section_Reproduction_model.pth\n",
            "roberta_for_section_Respiration_model.pth\n",
            "roberta_for_section_The_human_nervous_system_model.pth\n",
            "roberta_full_subsections_model.pth\n",
            "roberta_main_model.pth\n",
            "roberta_sections_model.pth\n",
            "test_dataset.csv\n",
            "train_dataset.csv\n"
          ],
          "name": "stdout"
        }
      ]
    },
    {
      "cell_type": "code",
      "metadata": {
        "id": "jQHj9dA6wJcI",
        "colab_type": "code",
        "outputId": "204346d2-8b52-4fd3-f693-25251e9f624b",
        "colab": {
          "base_uri": "https://localhost:8080/",
          "height": 133
        }
      },
      "source": [
        "import pandas as pd\n",
        "import numpy as np\n",
        "import codecs\n",
        "import re\n",
        "from collections import Counter\n",
        "from matplotlib import pyplot as plt\n",
        "from operator import itemgetter\n",
        "from tqdm import tqdm_notebook\n",
        "\n",
        "import nltk\n",
        "from nltk.corpus import stopwords\n",
        "import string\n",
        "from nltk.stem.porter import PorterStemmer \n",
        "from nltk.tokenize import word_tokenize \n",
        "nltk.download('stopwords')\n",
        "nltk.download('punkt')\n",
        "\n",
        "## Torch Modules\n",
        "import torch\n",
        "import torch.optim as optim\n",
        "import torch.nn as nn\n",
        "import torch.nn.functional as F\n",
        "from torch.autograd import Variable\n",
        "from torch.utils.data import Dataset, DataLoader, RandomSampler, SequentialSampler\n",
        "\n",
        "\n",
        "import os\n",
        "import time\n",
        "\n",
        "from transformers import (\n",
        "    RobertaConfig, \n",
        "    RobertaModel,\n",
        "    RobertaTokenizer,\n",
        "    RobertaForSequenceClassification,\n",
        "    AlbertConfig,\n",
        "    AlbertForQuestionAnswering,\n",
        "    AlbertTokenizer,\n",
        "    squad_convert_examples_to_features\n",
        ")"
      ],
      "execution_count": 0,
      "outputs": [
        {
          "output_type": "stream",
          "text": [
            "[nltk_data] Downloading package stopwords to /root/nltk_data...\n",
            "[nltk_data]   Unzipping corpora/stopwords.zip.\n",
            "[nltk_data] Downloading package punkt to /root/nltk_data...\n",
            "[nltk_data]   Unzipping tokenizers/punkt.zip.\n"
          ],
          "name": "stdout"
        },
        {
          "output_type": "display_data",
          "data": {
            "text/html": [
              "<p style=\"color: red;\">\n",
              "The default version of TensorFlow in Colab will switch to TensorFlow 2.x on the 27th of March, 2020.<br>\n",
              "We recommend you <a href=\"https://www.tensorflow.org/guide/migrate\" target=\"_blank\">upgrade</a> now\n",
              "or ensure your notebook will continue to use TensorFlow 1.x via the <code>%tensorflow_version 1.x</code> magic:\n",
              "<a href=\"https://colab.research.google.com/notebooks/tensorflow_version.ipynb\" target=\"_blank\">more info</a>.</p>\n"
            ],
            "text/plain": [
              "<IPython.core.display.HTML object>"
            ]
          },
          "metadata": {
            "tags": []
          }
        }
      ]
    },
    {
      "cell_type": "code",
      "metadata": {
        "id": "IEQOgfHnt_50",
        "colab_type": "code",
        "outputId": "36b1632e-06b4-4aa6-9cd7-c8aec19b45a1",
        "colab": {
          "base_uri": "https://localhost:8080/",
          "height": 34
        }
      },
      "source": [
        "## Check if Cuda is Available\n",
        "print(torch.cuda.is_available())"
      ],
      "execution_count": 0,
      "outputs": [
        {
          "output_type": "stream",
          "text": [
            "True\n"
          ],
          "name": "stdout"
        }
      ]
    },
    {
      "cell_type": "code",
      "metadata": {
        "id": "ZL_GI51ixQzm",
        "colab_type": "code",
        "colab": {}
      },
      "source": [
        "dataset_url = 'https://raw.githubusercontent.com/DhenPadilla/KSQuAD/master/Bio_GCSE.csv'\n",
        "df = pd.read_csv(dataset_url)\n",
        "passage_df = df"
      ],
      "execution_count": 0,
      "outputs": []
    },
    {
      "cell_type": "code",
      "metadata": {
        "id": "8CyMIRLuZsub",
        "colab_type": "code",
        "outputId": "fd9a947b-8a18-47c6-d726-10dbb468b2ee",
        "colab": {
          "base_uri": "https://localhost:8080/",
          "height": 174
        }
      },
      "source": [
        "passage_df.head(4)"
      ],
      "execution_count": 0,
      "outputs": [
        {
          "output_type": "execute_result",
          "data": {
            "text/html": [
              "<div>\n",
              "<style scoped>\n",
              "    .dataframe tbody tr th:only-of-type {\n",
              "        vertical-align: middle;\n",
              "    }\n",
              "\n",
              "    .dataframe tbody tr th {\n",
              "        vertical-align: top;\n",
              "    }\n",
              "\n",
              "    .dataframe thead th {\n",
              "        text-align: right;\n",
              "    }\n",
              "</style>\n",
              "<table border=\"1\" class=\"dataframe\">\n",
              "  <thead>\n",
              "    <tr style=\"text-align: right;\">\n",
              "      <th></th>\n",
              "      <th>Main category</th>\n",
              "      <th>Section</th>\n",
              "      <th>Sub-section</th>\n",
              "      <th>Text</th>\n",
              "      <th>Questions</th>\n",
              "    </tr>\n",
              "  </thead>\n",
              "  <tbody>\n",
              "    <tr>\n",
              "      <th>0</th>\n",
              "      <td>Cells and Organisms</td>\n",
              "      <td>Cell Strucuture and transport</td>\n",
              "      <td>Microscopes</td>\n",
              "      <td>Living things are all made up of cells, but mo...</td>\n",
              "      <td>Name one advantage and one disadvantage of a l...</td>\n",
              "    </tr>\n",
              "    <tr>\n",
              "      <th>1</th>\n",
              "      <td>Cells and Organisms</td>\n",
              "      <td>Cell Strucuture and transport</td>\n",
              "      <td>Animal and plant cells</td>\n",
              "      <td>The cells that make up your body are typical a...</td>\n",
              "      <td>Name the main structures you would expect to f...</td>\n",
              "    </tr>\n",
              "    <tr>\n",
              "      <th>2</th>\n",
              "      <td>Cells and Organisms</td>\n",
              "      <td>Cell Strucuture and transport</td>\n",
              "      <td>Eukaryotic and prokaryotic cells</td>\n",
              "      <td>Animal and plant cells are example’s of eukary...</td>\n",
              "      <td>Describe what flagella are ? \\nName one use of...</td>\n",
              "    </tr>\n",
              "    <tr>\n",
              "      <th>3</th>\n",
              "      <td>Cells and Organisms</td>\n",
              "      <td>Cell Strucuture and transport</td>\n",
              "      <td>Specialisation in animal cells</td>\n",
              "      <td>Although the smallest living organisms are onl...</td>\n",
              "      <td>Name one adaption for the specialised nerver c...</td>\n",
              "    </tr>\n",
              "  </tbody>\n",
              "</table>\n",
              "</div>"
            ],
            "text/plain": [
              "         Main category  ...                                          Questions\n",
              "0  Cells and Organisms  ...  Name one advantage and one disadvantage of a l...\n",
              "1  Cells and Organisms  ...  Name the main structures you would expect to f...\n",
              "2  Cells and Organisms  ...  Describe what flagella are ? \\nName one use of...\n",
              "3  Cells and Organisms  ...  Name one adaption for the specialised nerver c...\n",
              "\n",
              "[4 rows x 5 columns]"
            ]
          },
          "metadata": {
            "tags": []
          },
          "execution_count": 10
        }
      ]
    },
    {
      "cell_type": "code",
      "metadata": {
        "id": "kyhKXtBGV2oT",
        "colab_type": "code",
        "colab": {}
      },
      "source": [
        "def remove_nulls(dataset, print_out=True):\n",
        "  dataset['question'].replace('', np.nan, inplace=True)\n",
        "  dataset.dropna(subset=['question'], inplace=True)\n",
        "  dataset.reset_index(drop=True, inplace=True)\n",
        "  for label in dataset[\"label\"].unique():\n",
        "    if(print_out):\n",
        "      print(\"Class: {}, # questions: {}\".format(label, dataset.label.value_counts()[label]))\n",
        "  return dataset"
      ],
      "execution_count": 0,
      "outputs": []
    },
    {
      "cell_type": "code",
      "metadata": {
        "id": "F0mQh-DMgvWi",
        "colab_type": "code",
        "outputId": "8c867551-b66b-4774-d78c-cce48e5ff311",
        "colab": {
          "base_uri": "https://localhost:8080/",
          "height": 104
        }
      },
      "source": [
        "# MAIN CATEGORY DATA SET\n",
        "category_dataset = pd.DataFrame(columns = ['question', 'label'])\n",
        "\n",
        "for idx, passage in enumerate(passage_df[\"Questions\"][:]):\n",
        "  for question in passage.split(\"\\n\"):\n",
        "    small_frame = pd.Series({\"question\": question, \"label\": passage_df[\"Main category\"][idx]}) \n",
        "    category_dataset = category_dataset.append(small_frame, ignore_index=True)\n",
        "remove_nulls(category_dataset)\n",
        "\n",
        "print(category_dataset[\"label\"].size)"
      ],
      "execution_count": 0,
      "outputs": [
        {
          "output_type": "stream",
          "text": [
            "Class: Cells and Organisms, # questions: 533\n",
            "Class: Disease and bioenergetics, # questions: 320\n",
            "Class: Biological responses, # questions: 80\n",
            "Class: Genetics and reproduction, # questions: 209\n",
            "1142\n"
          ],
          "name": "stdout"
        }
      ]
    },
    {
      "cell_type": "code",
      "metadata": {
        "id": "EZMGFgnjWk7I",
        "colab_type": "code",
        "outputId": "20f1e693-37bc-4335-ae93-140d45247450",
        "colab": {
          "base_uri": "https://localhost:8080/",
          "height": 242
        }
      },
      "source": [
        "# MAIN CATEGORY -> SECTION DATA SET\n",
        "section_dataset = pd.DataFrame(columns = ['question', 'label'])\n",
        "\n",
        "for idx, passage in enumerate(passage_df[\"Questions\"][:]):\n",
        "  for question in passage.split(\"\\n\"):\n",
        "    small_frame = pd.Series({\"question\": question, \"label\": passage_df[\"Section\"][idx]}) \n",
        "    section_dataset = section_dataset.append(small_frame, ignore_index=True)\n",
        "remove_nulls(section_dataset)\n",
        "\n",
        "print(section_dataset[\"label\"].size)"
      ],
      "execution_count": 0,
      "outputs": [
        {
          "output_type": "stream",
          "text": [
            "Class: Cell Strucuture and transport, # questions: 273\n",
            "Class: Cell Division, # questions: 63\n",
            "Class: Organisation and the digestive system, # questions: 84\n",
            "Class: Organising Animals and Plants, # questions: 113\n",
            "Class: Communicable diseases, # questions: 112\n",
            "Class: Preventing and treating disease, # questions: 68\n",
            "Class: Non-Communicable diseases, # questions: 73\n",
            "Class: Photosynthesis, # questions: 26\n",
            "Class: Respiration, # questions: 41\n",
            "Class: The human nervous system, # questions: 80\n",
            "Class: Reproduction, # questions: 76\n",
            "Class: Genetics and evolution, # questions: 133\n",
            "1142\n"
          ],
          "name": "stdout"
        }
      ]
    },
    {
      "cell_type": "code",
      "metadata": {
        "id": "Vkbvfsafbq3W",
        "colab_type": "code",
        "outputId": "c48a15b9-05ea-4522-a588-850b0288568c",
        "colab": {
          "base_uri": "https://localhost:8080/",
          "height": 1000
        }
      },
      "source": [
        "# OVERALL SUB-SECTION DATA SET\n",
        "full_subsection_dataset = pd.DataFrame(columns = ['question', 'label'])\n",
        "\n",
        "for idx, passage in enumerate(passage_df[\"Questions\"][:]):\n",
        "  for question in passage.split(\"\\n\"):\n",
        "    small_frame = pd.Series({\"question\": question, \"label\": passage_df[\"Sub-section\"][idx]}) \n",
        "    full_subsection_dataset = full_subsection_dataset.append(small_frame, ignore_index=True)\n",
        "remove_nulls(full_subsection_dataset)\n",
        "\n",
        "print(full_subsection_dataset[\"label\"].size)\n",
        "print(full_subsection_dataset[\"question\"][23])"
      ],
      "execution_count": 0,
      "outputs": [
        {
          "output_type": "stream",
          "text": [
            "Class: Microscopes, # questions: 24\n",
            "Class: Animal and plant cells, # questions: 41\n",
            "Class: Eukaryotic and prokaryotic cells, # questions: 35\n",
            "Class: Specialisation in animal cells, # questions: 52\n",
            "Class: Specialisation in plant cells, # questions: 34\n",
            "Class: Diffusion, # questions: 30\n",
            "Class: Osmosis, # questions: 12\n",
            "Class: Osmosis in plants, # questions: 14\n",
            "Class: Active transport, # questions: 16\n",
            "Class: Exchanging materials, # questions: 15\n",
            "Class: Cell division, # questions: 24\n",
            "Class: Growth and differentiation, # questions: 17\n",
            "Class: Stem cells, # questions: 20\n",
            "Class: Stem cell dilemmas, # questions: 2\n",
            "Class: Tissues and organs, # questions: 11\n",
            "Class: The human digestive system, # questions: 12\n",
            "Class: The chemistry of food, # questions: 16\n",
            "Class: Catalysts and enzymes, # questions: 7\n",
            "Class: Factors affecting enzyme action, # questions: 10\n",
            "Class: How the digestive system works, # questions: 15\n",
            "Class: Making digestion efficient, # questions: 13\n",
            "Class: The blood, # questions: 15\n",
            "Class: The blood vessels, # questions: 12\n",
            "Class: The heart, # questions: 16\n",
            "Class: Helping the heart, # questions: 12\n",
            "Class: Breathing and gas exchange, # questions: 13\n",
            "Class: Tissues and organs in plants, # questions: 11\n",
            "Class: Transport systems in plants, # questions: 11\n",
            "Class: Evaporation and transpiration, # questions: 10\n",
            "Class: Factors affecting transpiration, # questions: 13\n",
            "Class: Health and disease, # questions: 8\n",
            "Class: Pathogens and disease, # questions: 9\n",
            "Class: growing Bacteria in the lab, # questions: 10\n",
            "Class: Preventing bacteria growth, # questions: 6\n",
            "Class: Preventing infections, # questions: 6\n",
            "Class: Viral diseases, # questions: 13\n",
            "Class: Bacterial diseases, # questions: 17\n",
            "Class: Diseases caused by fungi and protists, # questions: 13\n",
            "Class: Human defence responses, # questions: 14\n",
            "Class: more about plant diseases, # questions: 12\n",
            "Class: Plant defence responses, # questions: 4\n",
            "Class: Vaccination, # questions: 13\n",
            "Class: Antibiotics and painkillers, # questions: 12\n",
            "Class: Discovering and developing drugs, # questions: 26\n",
            "Class: making and using monoclonal antibodies, # questions: 17\n",
            "Class: Non-communicable diseases, # questions: 23\n",
            "Class: Cancer, # questions: 22\n",
            "Class: Smoking and the risk of disease, # questions: 9\n",
            "Class: Diet, exercise, and disease, # questions: 8\n",
            "Class: Alcohol and other carcinogens, # questions: 11\n",
            "Class: Photosynthesis, # questions: 9\n",
            "Class: The rate of photosynthesis, # questions: 8\n",
            "Class: How plants use glucose, # questions: 9\n",
            "Class: Aerobic respiration, # questions: 6\n",
            "Class: The response to exercise, # questions: 10\n",
            "Class: Anaerobic respiration, # questions: 10\n",
            "Class:  Metabolism and the liver, # questions: 15\n",
            "Class: Principles of homeostasis, # questions: 16\n",
            "Class: The structure and function of the nervous system, # questions: 15\n",
            "Class: Reflex actions, # questions: 13\n",
            "Class: The brain, # questions: 15\n",
            "Class: The Eye, # questions: 21\n",
            "Class: Types of reproduction, # questions: 10\n",
            "Class: Cell dicision in sexual reproduction, # questions: 15\n",
            "Class: DNA and the genome, # questions: 15\n",
            "Class: DNA structure and protein synthesis, # questions: 20\n",
            "Class: Gene expression and mutation, # questions: 16\n",
            "Class: History of genetics, # questions: 16\n",
            "Class: Theories of evolution, # questions: 19\n",
            "Class: Accepting Darwin’s ideas , # questions: 15\n",
            "Class: Evolution and speciation , # questions: 14\n",
            "Class: Evidence for evolution, # questions: 22\n",
            "Class: Fossils and extinction , # questions: 14\n",
            "Class: Antibiotic resistant bacteria , # questions: 15\n",
            "Class: Classification, # questions: 18\n",
            "1142\n",
            "What is the resolving power of an electron microscope?\n"
          ],
          "name": "stdout"
        }
      ]
    },
    {
      "cell_type": "code",
      "metadata": {
        "id": "enRX4_S8yKxw",
        "colab_type": "code",
        "colab": {}
      },
      "source": [
        "# SECTION -> SUBSECTION DATA SETS (Dictionary)\n",
        "subsection_datasets = {}\n",
        "\n",
        "for section in passage_df[\"Section\"].unique():\n",
        "  dataset = pd.DataFrame(columns = ['question', 'label'])\n",
        "  section_df = passage_df.loc[passage_df[\"Section\"] == section]\n",
        "  for idx, row in section_df.iterrows():\n",
        "    for question in row[\"Questions\"].split(\"\\n\"):\n",
        "      small_frame = pd.Series({\"question\": question, \"label\": section_df[\"Sub-section\"][idx]}) \n",
        "      dataset = dataset.append(small_frame, ignore_index=True)\n",
        "      remove_nulls(dataset, print_out=False)\n",
        "      subsection_datasets[section] = dataset"
      ],
      "execution_count": 0,
      "outputs": []
    },
    {
      "cell_type": "code",
      "metadata": {
        "id": "zKtENvKWbdsu",
        "colab_type": "code",
        "outputId": "f6ff73d3-1761-4ab8-eec8-a17e9b37eceb",
        "colab": {
          "base_uri": "https://localhost:8080/",
          "height": 225
        }
      },
      "source": [
        "for section, df in subsection_datasets.items():\n",
        "  print(\"Class: {}, # questions: {}\".format(section, df[\"label\"].size))"
      ],
      "execution_count": 0,
      "outputs": [
        {
          "output_type": "stream",
          "text": [
            "Class: Cell Strucuture and transport, # questions: 273\n",
            "Class: Cell Division, # questions: 63\n",
            "Class: Organisation and the digestive system, # questions: 84\n",
            "Class: Organising Animals and Plants, # questions: 113\n",
            "Class: Communicable diseases, # questions: 112\n",
            "Class: Preventing and treating disease, # questions: 68\n",
            "Class: Non-Communicable diseases, # questions: 73\n",
            "Class: Photosynthesis, # questions: 26\n",
            "Class: Respiration, # questions: 41\n",
            "Class: The human nervous system, # questions: 80\n",
            "Class: Reproduction, # questions: 76\n",
            "Class: Genetics and evolution, # questions: 133\n"
          ],
          "name": "stdout"
        }
      ]
    },
    {
      "cell_type": "code",
      "metadata": {
        "id": "qGXXQlox537m",
        "colab_type": "code",
        "colab": {}
      },
      "source": [
        "def label_to_index(dataset):\n",
        "  label_to_ix = {}\n",
        "  for label in dataset.label:\n",
        "        if label not in label_to_ix:\n",
        "            label_to_ix[label]=len(label_to_ix)\n",
        "  return label_to_ix"
      ],
      "execution_count": 0,
      "outputs": []
    },
    {
      "cell_type": "code",
      "metadata": {
        "id": "ydlVeP-pphWM",
        "colab_type": "code",
        "outputId": "c89dcb64-5138-49ee-e521-4ed7b5906714",
        "colab": {
          "base_uri": "https://localhost:8080/",
          "height": 34
        }
      },
      "source": [
        "# Main Category Labels\n",
        "main_category_labels = label_to_index(category_dataset)\n",
        "print(main_category_labels)"
      ],
      "execution_count": 0,
      "outputs": [
        {
          "output_type": "stream",
          "text": [
            "{'Cells and Organisms': 0, 'Disease and bioenergetics': 1, 'Biological responses': 2, 'Genetics and reproduction': 3}\n"
          ],
          "name": "stdout"
        }
      ]
    },
    {
      "cell_type": "code",
      "metadata": {
        "id": "3BVjbR67Zqd4",
        "colab_type": "code",
        "outputId": "a880ff61-7dcf-4347-a625-4844253868f0",
        "colab": {
          "base_uri": "https://localhost:8080/",
          "height": 54
        }
      },
      "source": [
        "# Section labels\n",
        "section_labels = label_to_index(section_dataset)\n",
        "print(section_labels)"
      ],
      "execution_count": 0,
      "outputs": [
        {
          "output_type": "stream",
          "text": [
            "{'Cell Strucuture and transport': 0, 'Cell Division': 1, 'Organisation and the digestive system': 2, 'Organising Animals and Plants': 3, 'Communicable diseases': 4, 'Preventing and treating disease': 5, 'Non-Communicable diseases': 6, 'Photosynthesis': 7, 'Respiration': 8, 'The human nervous system': 9, 'Reproduction': 10, 'Genetics and evolution': 11}\n"
          ],
          "name": "stdout"
        }
      ]
    },
    {
      "cell_type": "code",
      "metadata": {
        "id": "pU-Kyy1abkz8",
        "colab_type": "code",
        "outputId": "69cb0c40-c999-447f-cb7a-8670b56c2b44",
        "colab": {
          "base_uri": "https://localhost:8080/",
          "height": 54
        }
      },
      "source": [
        "# Sub-section labels (overall)\n",
        "full_subsection_labels = label_to_index(full_subsection_dataset)\n",
        "print(full_subsection_labels)"
      ],
      "execution_count": 0,
      "outputs": [
        {
          "output_type": "stream",
          "text": [
            "{'Microscopes': 0, 'Animal and plant cells': 1, 'Eukaryotic and prokaryotic cells': 2, 'Specialisation in animal cells': 3, 'Specialisation in plant cells': 4, 'Diffusion': 5, 'Osmosis': 6, 'Osmosis in plants': 7, 'Active transport': 8, 'Exchanging materials': 9, 'Cell division': 10, 'Growth and differentiation': 11, 'Stem cells': 12, 'Stem cell dilemmas': 13, 'Tissues and organs': 14, 'The human digestive system': 15, 'The chemistry of food': 16, 'Catalysts and enzymes': 17, 'Factors affecting enzyme action': 18, 'How the digestive system works': 19, 'Making digestion efficient': 20, 'The blood': 21, 'The blood vessels': 22, 'The heart': 23, 'Helping the heart': 24, 'Breathing and gas exchange': 25, 'Tissues and organs in plants': 26, 'Transport systems in plants': 27, 'Evaporation and transpiration': 28, 'Factors affecting transpiration': 29, 'Health and disease': 30, 'Pathogens and disease': 31, 'growing Bacteria in the lab': 32, 'Preventing bacteria growth': 33, 'Preventing infections': 34, 'Viral diseases': 35, 'Bacterial diseases': 36, 'Diseases caused by fungi and protists': 37, 'Human defence responses': 38, 'more about plant diseases': 39, 'Plant defence responses': 40, 'Vaccination': 41, 'Antibiotics and painkillers': 42, 'Discovering and developing drugs': 43, 'making and using monoclonal antibodies': 44, 'Non-communicable diseases': 45, 'Cancer': 46, 'Smoking and the risk of disease': 47, 'Diet, exercise, and disease': 48, 'Alcohol and other carcinogens': 49, 'Photosynthesis': 50, 'The rate of photosynthesis': 51, 'How plants use glucose': 52, 'Aerobic respiration': 53, 'The response to exercise': 54, 'Anaerobic respiration': 55, ' Metabolism and the liver': 56, 'Principles of homeostasis': 57, 'The structure and function of the nervous system': 58, 'Reflex actions': 59, 'The brain': 60, 'The Eye': 61, 'Types of reproduction': 62, 'Cell dicision in sexual reproduction': 63, 'DNA and the genome': 64, 'DNA structure and protein synthesis': 65, 'Gene expression and mutation': 66, 'History of genetics': 67, 'Theories of evolution': 68, 'Accepting Darwin’s ideas ': 69, 'Evolution and speciation ': 70, 'Evidence for evolution': 71, 'Fossils and extinction ': 72, 'Antibiotic resistant bacteria ': 73, 'Classification': 74}\n"
          ],
          "name": "stdout"
        }
      ]
    },
    {
      "cell_type": "code",
      "metadata": {
        "id": "uoMBYN3Jj3V5",
        "colab_type": "code",
        "outputId": "a979156a-ba13-4e9e-a692-5cdb5bd82fd6",
        "colab": {
          "base_uri": "https://localhost:8080/",
          "height": 661
        }
      },
      "source": [
        "# Sub-Section labels\n",
        "\n",
        "subsection_labels = {}\n",
        "\n",
        "for section, df in subsection_datasets.items():\n",
        "  labels = label_to_index(df)\n",
        "  subsection_labels[section] = labels\n",
        "  print(section)\n",
        "  print(labels)\n",
        "  print(\"\")\n",
        "\n",
        "# NOTE: Have to reinitialise subsection_labels variable later bc it causes an error"
      ],
      "execution_count": 0,
      "outputs": [
        {
          "output_type": "stream",
          "text": [
            "Cell Strucuture and transport\n",
            "{'Microscopes': 0, 'Animal and plant cells': 1, 'Eukaryotic and prokaryotic cells': 2, 'Specialisation in animal cells': 3, 'Specialisation in plant cells': 4, 'Diffusion': 5, 'Osmosis': 6, 'Osmosis in plants': 7, 'Active transport': 8, 'Exchanging materials': 9}\n",
            "\n",
            "Cell Division\n",
            "{'Cell division': 0, 'Growth and differentiation': 1, 'Stem cells': 2, 'Stem cell dilemmas': 3}\n",
            "\n",
            "Organisation and the digestive system\n",
            "{'Tissues and organs': 0, 'The human digestive system': 1, 'The chemistry of food': 2, 'Catalysts and enzymes': 3, 'Factors affecting enzyme action': 4, 'How the digestive system works': 5, 'Making digestion efficient': 6}\n",
            "\n",
            "Organising Animals and Plants\n",
            "{'The blood': 0, 'The blood vessels': 1, 'The heart': 2, 'Helping the heart': 3, 'Breathing and gas exchange': 4, 'Tissues and organs in plants': 5, 'Transport systems in plants': 6, 'Evaporation and transpiration': 7, 'Factors affecting transpiration': 8}\n",
            "\n",
            "Communicable diseases\n",
            "{'Health and disease': 0, 'Pathogens and disease': 1, 'growing Bacteria in the lab': 2, 'Preventing bacteria growth': 3, 'Preventing infections': 4, 'Viral diseases': 5, 'Bacterial diseases': 6, 'Diseases caused by fungi and protists': 7, 'Human defence responses': 8, 'more about plant diseases': 9, 'Plant defence responses': 10}\n",
            "\n",
            "Preventing and treating disease\n",
            "{'Vaccination': 0, 'Antibiotics and painkillers': 1, 'Discovering and developing drugs': 2, 'making and using monoclonal antibodies': 3}\n",
            "\n",
            "Non-Communicable diseases\n",
            "{'Non-communicable diseases': 0, 'Cancer': 1, 'Smoking and the risk of disease': 2, 'Diet, exercise, and disease': 3, 'Alcohol and other carcinogens': 4}\n",
            "\n",
            "Photosynthesis\n",
            "{'Photosynthesis': 0, 'The rate of photosynthesis': 1, 'How plants use glucose': 2}\n",
            "\n",
            "Respiration\n",
            "{'Aerobic respiration': 0, 'The response to exercise': 1, 'Anaerobic respiration': 2, ' Metabolism and the liver': 3}\n",
            "\n",
            "The human nervous system\n",
            "{'Principles of homeostasis': 0, 'The structure and function of the nervous system': 1, 'Reflex actions': 2, 'The brain': 3, 'The Eye': 4}\n",
            "\n",
            "Reproduction\n",
            "{'Types of reproduction': 0, 'Cell dicision in sexual reproduction': 1, 'DNA and the genome': 2, 'DNA structure and protein synthesis': 3, 'Gene expression and mutation': 4}\n",
            "\n",
            "Genetics and evolution\n",
            "{'History of genetics': 0, 'Theories of evolution': 1, 'Accepting Darwin’s ideas ': 2, 'Evolution and speciation ': 3, 'Evidence for evolution': 4, 'Fossils and extinction ': 5, 'Antibiotic resistant bacteria ': 6, 'Classification': 7}\n",
            "\n"
          ],
          "name": "stdout"
        }
      ]
    },
    {
      "cell_type": "markdown",
      "metadata": {
        "id": "htR8iaGmB31b",
        "colab_type": "text"
      },
      "source": [
        "### Configure a RoBERTa model to be used to train our dataset"
      ]
    },
    {
      "cell_type": "code",
      "metadata": {
        "id": "udq7PYaHadPS",
        "colab_type": "code",
        "outputId": "fe86d363-1523-4c85-f967-10c9e6513851",
        "colab": {
          "base_uri": "https://localhost:8080/",
          "height": 116,
          "referenced_widgets": [
            "e56c0a8dc5ec4a0e968135b1e515c7ff",
            "b209b223566948e29734a10e0a219afa",
            "9ab3198ce1e24a4b8467d948ed2fcc69",
            "0c8500cffe7b4c1992075ebd10ecf64f",
            "fea24dcb511e4acd80e2046d26959698",
            "28dee2a059244d3d92845ce4185d13e6",
            "63acc2b9d96c41c384d6923a19dda080",
            "5129a95a8ec744b196b56c4b9f0ad107",
            "fc5a9360b3b84eb28e7c3ac1f18bb72c",
            "25ade31d01994095a28a21c28e09eabc",
            "aabb01ea912342e3b74cbc8013e1a3b5",
            "1b3d2960103848988e41b91243a12af1",
            "9ae8ba6107964c70bc4f8ba830531e52",
            "1039956ffd9643a3a0a190727c6e7f4c",
            "aa6a4af506af4bcaaccf3e42a407268e",
            "014ae464a0ab45578564749ebc2baaa3"
          ]
        }
      },
      "source": [
        "# Create RoBERTa model method for multiple instances\n",
        "def create_roberta_model(labels):\n",
        "  config = RobertaConfig.from_pretrained('roberta-base')\n",
        "  config.num_labels = len(list(labels.values()))\n",
        "  model = RobertaForSequenceClassification(config)\n",
        "  return model\n",
        "\n",
        "tokenizer = RobertaTokenizer.from_pretrained('roberta-base')"
      ],
      "execution_count": 0,
      "outputs": [
        {
          "output_type": "display_data",
          "data": {
            "application/vnd.jupyter.widget-view+json": {
              "model_id": "e56c0a8dc5ec4a0e968135b1e515c7ff",
              "version_minor": 0,
              "version_major": 2
            },
            "text/plain": [
              "HBox(children=(IntProgress(value=0, description='Downloading', max=898823, style=ProgressStyle(description_wid…"
            ]
          },
          "metadata": {
            "tags": []
          }
        },
        {
          "output_type": "stream",
          "text": [
            "\n"
          ],
          "name": "stdout"
        },
        {
          "output_type": "display_data",
          "data": {
            "application/vnd.jupyter.widget-view+json": {
              "model_id": "fc5a9360b3b84eb28e7c3ac1f18bb72c",
              "version_minor": 0,
              "version_major": 2
            },
            "text/plain": [
              "HBox(children=(IntProgress(value=0, description='Downloading', max=456318, style=ProgressStyle(description_wid…"
            ]
          },
          "metadata": {
            "tags": []
          }
        },
        {
          "output_type": "stream",
          "text": [
            "\n"
          ],
          "name": "stdout"
        }
      ]
    },
    {
      "cell_type": "code",
      "metadata": {
        "id": "WiKpg6jEbjXd",
        "colab_type": "code",
        "outputId": "dba99ced-d920-4810-c301-0f9db801c192",
        "colab": {
          "base_uri": "https://localhost:8080/",
          "height": 274,
          "referenced_widgets": [
            "859d8ffce84749bfbf1cdf1c6ddb48d2",
            "d73cf7b991b046e8ac1db597db8e2e8d",
            "1c5474c3e10c4bc889980f1ae7223635",
            "dcb74c3176e142b984f793f8b4b7d8ac",
            "d6b7f0e694e94d6e8909965d2cbeaa96",
            "ce8f14a879fa484d8ad7fb8c734abcd7",
            "3525207db6c74f289aca6bb12d3012b2",
            "a0f93240b3ba4b879c7be88cbb773bf8"
          ]
        }
      },
      "source": [
        "# For Main-Category classification:\n",
        "main_cat_model = create_roberta_model(main_category_labels)\n",
        "\n",
        "# For Section classification:\n",
        "section_model = create_roberta_model(section_labels)\n",
        "\n",
        "# For FULL Section classification:\n",
        "full_subsection_model = create_roberta_model(full_subsection_labels)\n",
        "\n",
        "# For Sub section classifcations:\n",
        "subsection_models = {}\n",
        "for section, subsection_labels in subsection_labels.items():\n",
        "  print(\"Creating RoBERTa for: \", section)\n",
        "  subsection_models[section] = create_roberta_model(subsection_labels)"
      ],
      "execution_count": 0,
      "outputs": [
        {
          "output_type": "display_data",
          "data": {
            "application/vnd.jupyter.widget-view+json": {
              "model_id": "859d8ffce84749bfbf1cdf1c6ddb48d2",
              "version_minor": 0,
              "version_major": 2
            },
            "text/plain": [
              "HBox(children=(IntProgress(value=0, description='Downloading', max=524, style=ProgressStyle(description_width=…"
            ]
          },
          "metadata": {
            "tags": []
          }
        },
        {
          "output_type": "stream",
          "text": [
            "\n",
            "Creating RoBERTa for:  Cell Strucuture and transport\n",
            "Creating RoBERTa for:  Cell Division\n",
            "Creating RoBERTa for:  Organisation and the digestive system\n",
            "Creating RoBERTa for:  Organising Animals and Plants\n",
            "Creating RoBERTa for:  Communicable diseases\n",
            "Creating RoBERTa for:  Preventing and treating disease\n",
            "Creating RoBERTa for:  Non-Communicable diseases\n",
            "Creating RoBERTa for:  Photosynthesis\n",
            "Creating RoBERTa for:  Respiration\n",
            "Creating RoBERTa for:  The human nervous system\n",
            "Creating RoBERTa for:  Reproduction\n",
            "Creating RoBERTa for:  Genetics and evolution\n"
          ],
          "name": "stdout"
        }
      ]
    },
    {
      "cell_type": "markdown",
      "metadata": {
        "id": "Z6WrYmX5CAdf",
        "colab_type": "text"
      },
      "source": [
        "### The following set of functions are helper-functions to create RoBERTa inputs from (question, label) pairs"
      ]
    },
    {
      "cell_type": "code",
      "metadata": {
        "id": "JUFa5g-LAhKA",
        "colab_type": "code",
        "colab": {}
      },
      "source": [
        "def feature_preparation(seq, max_length = 300, zero_pad = False, include_CLS_token = True, include_SEP_token = True):\n",
        "    ## Tokenzine Input\n",
        "    tokens_a = tokenizer.tokenize(seq)\n",
        "\n",
        "    ## Truncate\n",
        "    if len(tokens_a) > max_length - 2:\n",
        "        tokens_a = tokens_a[0:(max_length - 2)]\n",
        "\n",
        "    ## Initialize Tokens\n",
        "    tokens = []\n",
        "    if include_CLS_token:\n",
        "        tokens.append(tokenizer.cls_token)\n",
        "\n",
        "    ## Add Tokens and separators\n",
        "    for token in tokens_a:\n",
        "        tokens.append(token)\n",
        "\n",
        "    if include_SEP_token:\n",
        "        tokens.append(tokenizer.sep_token)\n",
        "\n",
        "    input_ids = tokenizer.convert_tokens_to_ids(tokens)\n",
        "\n",
        "    ## Input Mask \n",
        "    input_mask = [1] * len(input_ids)\n",
        "\n",
        "    ## Zero-pad sequence lenght\n",
        "    if zero_pad:\n",
        "        while len(input_ids) < max_length:\n",
        "            input_ids.append(0)\n",
        "            input_mask.append(0)\n",
        "    return torch.tensor(input_ids).unsqueeze(0), input_mask"
      ],
      "execution_count": 0,
      "outputs": []
    },
    {
      "cell_type": "code",
      "metadata": {
        "id": "FqNf4UTaA3P6",
        "colab_type": "code",
        "outputId": "c5e97b76-c32b-4f9b-e3d8-b54b0e206651",
        "colab": {
          "base_uri": "https://localhost:8080/",
          "height": 329
        }
      },
      "source": [
        "# Check question preparation if correct for each dataset:\n",
        "cat_question = category_dataset['question'][50]\n",
        "print(\"Main Category\")\n",
        "print(cat_question)\n",
        "print(feature_preparation(cat_question))\n",
        "print(\"\")\n",
        "\n",
        "sec_question = section_dataset['question'][23]\n",
        "print(\"Section\")\n",
        "print(sec_question)\n",
        "print(feature_preparation(sec_question))\n",
        "print(\"\")\n",
        "\n",
        "full_subsec_question = full_subsection_dataset['question'][23]\n",
        "print(\"Full Subsection\")\n",
        "print(full_subsec_question)\n",
        "print(feature_preparation(full_subsec_question))\n",
        "print(\"\")\n",
        "\n",
        "subsec_question = subsection_datasets[\"Cell Division\"]['question'][9]\n",
        "print(\"Subsection: Cell Division\")\n",
        "print(subsec_question)\n",
        "print(feature_preparation(subsec_question))\n",
        "print(\"\")"
      ],
      "execution_count": 0,
      "outputs": [
        {
          "output_type": "stream",
          "text": [
            "Main Category\n",
            "What are algae?\n",
            "(tensor([[    0,  2264,    32, 25237,   116,     2]]), [1, 1, 1, 1, 1, 1])\n",
            "\n",
            "Section\n",
            "What is the resolving power of an electron microscope?\n",
            "(tensor([[    0,  2264,    16,     5, 20006,   476,     9,    41, 35235, 32518,\n",
            "           116,     2]]), [1, 1, 1, 1, 1, 1, 1, 1, 1, 1, 1, 1])\n",
            "\n",
            "Full Subsection\n",
            "What is the resolving power of an electron microscope?\n",
            "(tensor([[    0,  2264,    16,     5, 20006,   476,     9,    41, 35235, 32518,\n",
            "           116,     2]]), [1, 1, 1, 1, 1, 1, 1, 1, 1, 1, 1, 1])\n",
            "\n",
            "Subsection: Cell Division\n",
            "How common is measles in the UK?\n",
            "(tensor([[    0,  6179,  1537,    16, 26143,    11,     5,   987,   116,     2]]), [1, 1, 1, 1, 1, 1, 1, 1, 1, 1])\n",
            "\n"
          ],
          "name": "stdout"
        }
      ]
    },
    {
      "cell_type": "code",
      "metadata": {
        "id": "0I6ppYxfA8FE",
        "colab_type": "code",
        "colab": {}
      },
      "source": [
        "class prepare_input(Dataset):\n",
        "    def __init__(self, dataframe, mode=\"\", section_to_prepare=\"\"):\n",
        "        self.len = len(dataframe)\n",
        "        self.data = dataframe\n",
        "        self.mode = mode\n",
        "        self.section_to_prepare = section_to_prepare\n",
        "        \n",
        "    def __getitem__(self, index):\n",
        "        question = self.data.question[index]\n",
        "        label = self.data.label[index]\n",
        "        X, _  = feature_preparation(question)\n",
        "        if(self.section_to_prepare and self.mode == \"SUBSECTIONS\"):\n",
        "          y = subsection_labels[self.section_to_prepare][self.data.label[index]]\n",
        "        elif(self.mode == \"FULL_SUBSECTIONS\"):\n",
        "          y = full_subsection_labels[self.data.label[index]]\n",
        "        elif(self.mode == \"SECTIONS\"):\n",
        "          y = section_labels[self.data.label[index]]\n",
        "        else:\n",
        "          y = main_category_labels[self.data.label[index]]\n",
        "        return X, y\n",
        "    \n",
        "    def __len__(self):\n",
        "        return self.len"
      ],
      "execution_count": 0,
      "outputs": []
    },
    {
      "cell_type": "markdown",
      "metadata": {
        "id": "6gc0mYmkCQSl",
        "colab_type": "text"
      },
      "source": [
        "### Create train-test split (80:20)"
      ]
    },
    {
      "cell_type": "code",
      "metadata": {
        "id": "gwPBnmkJhOTw",
        "colab_type": "code",
        "colab": {}
      },
      "source": [
        "train_size = 0.80"
      ],
      "execution_count": 0,
      "outputs": []
    },
    {
      "cell_type": "code",
      "metadata": {
        "id": "q8DnxU9iAysR",
        "colab_type": "code",
        "colab": {}
      },
      "source": [
        "def find_section_for(subsection):\n",
        "  return passage_df.loc[passage_df[\"Sub-section\"] == subsection , 'Section'].values[0]\n",
        "\n",
        "def find_category_for(subsection):\n",
        "  return passage_df.loc[passage_df[\"Sub-section\"] == subsection , 'Main category'].values[0]"
      ],
      "execution_count": 0,
      "outputs": []
    },
    {
      "cell_type": "code",
      "metadata": {
        "id": "cq45fuNKkVT6",
        "colab_type": "code",
        "outputId": "d8bf28f1-ef33-4664-9e5e-69f891ff0a57",
        "colab": {
          "base_uri": "https://localhost:8080/",
          "height": 641
        }
      },
      "source": [
        "# For Sub-sections:\n",
        "subsection_datasets_train = {}\n",
        "subsection_datasets_test = {}\n",
        "\n",
        "# Main Category train-test split\n",
        "category_train_dataset = pd.DataFrame(columns = ['question', 'label'])\n",
        "category_test_dataset  = pd.DataFrame(columns = ['question', 'label'])\n",
        "\n",
        "# Full Sub-section train-test\n",
        "full_subsection_train_dataset = pd.DataFrame(columns = ['question', 'label'])\n",
        "full_subsection_test_dataset  = pd.DataFrame(columns = ['question', 'label'])\n",
        "\n",
        "# Section train-test\n",
        "section_train_dataset = pd.DataFrame(columns = ['question', 'label'])\n",
        "section_test_dataset  = pd.DataFrame(columns = ['question', 'label'])\n",
        "\n",
        "for section, df in subsection_datasets.items():\n",
        "  train_dataset = df.sample(frac=train_size, random_state=200).reset_index(drop=True)\n",
        "  test_dataset = df.drop(train_dataset.index).reset_index(drop=True)\n",
        "  subsection_datasets_train[section] = train_dataset\n",
        "  subsection_datasets_test[section] = test_dataset\n",
        "\n",
        "  # Append to Main Category train-test dataset\n",
        "  category_train_dataset = category_train_dataset.append(train_dataset, ignore_index=True)\n",
        "  category_test_dataset = category_test_dataset.append(test_dataset, ignore_index=True)\n",
        "  # Append to section train-test dataset\n",
        "  section_train_dataset = section_train_dataset.append(train_dataset, ignore_index=True)\n",
        "  section_test_dataset = section_test_dataset.append(test_dataset, ignore_index=True)\n",
        "  # Append to full subsection train-test dataset\n",
        "  full_subsection_train_dataset = full_subsection_train_dataset.append(train_dataset, ignore_index=True)\n",
        "  full_subsection_test_dataset = full_subsection_test_dataset.append(test_dataset, ignore_index=True)\n",
        "\n",
        "\n",
        "  print(\"Section name: \", section)\n",
        "  print(\"TRAIN Dataset: {}\".format(subsection_datasets_train[section].shape))\n",
        "  print(\"TEST Dataset: {}\".format(subsection_datasets_test[section].shape))\n",
        "\n",
        "\n",
        "# Create Main Category train-test split\n",
        "for _, row in category_train_dataset.iterrows():\n",
        "  row.label = find_category_for(row.label)\n",
        "\n",
        "for _, row in category_test_dataset.iterrows():\n",
        "  row.label = find_category_for(row.label)\n",
        "\n",
        "# Create section train-test split\n",
        "for _, row in section_train_dataset.iterrows():\n",
        "  row.label = find_section_for(row.label)\n",
        "\n",
        "for _, row in section_test_dataset.iterrows():\n",
        "  row.label = find_section_for(row.label)"
      ],
      "execution_count": 0,
      "outputs": [
        {
          "output_type": "stream",
          "text": [
            "Section name:  Cell Strucuture and transport\n",
            "TRAIN Dataset: (218, 2)\n",
            "TEST Dataset: (55, 2)\n",
            "Section name:  Cell Division\n",
            "TRAIN Dataset: (50, 2)\n",
            "TEST Dataset: (13, 2)\n",
            "Section name:  Organisation and the digestive system\n",
            "TRAIN Dataset: (67, 2)\n",
            "TEST Dataset: (17, 2)\n",
            "Section name:  Organising Animals and Plants\n",
            "TRAIN Dataset: (90, 2)\n",
            "TEST Dataset: (23, 2)\n",
            "Section name:  Communicable diseases\n",
            "TRAIN Dataset: (90, 2)\n",
            "TEST Dataset: (22, 2)\n",
            "Section name:  Preventing and treating disease\n",
            "TRAIN Dataset: (54, 2)\n",
            "TEST Dataset: (14, 2)\n",
            "Section name:  Non-Communicable diseases\n",
            "TRAIN Dataset: (58, 2)\n",
            "TEST Dataset: (15, 2)\n",
            "Section name:  Photosynthesis\n",
            "TRAIN Dataset: (21, 2)\n",
            "TEST Dataset: (5, 2)\n",
            "Section name:  Respiration\n",
            "TRAIN Dataset: (33, 2)\n",
            "TEST Dataset: (8, 2)\n",
            "Section name:  The human nervous system\n",
            "TRAIN Dataset: (64, 2)\n",
            "TEST Dataset: (16, 2)\n",
            "Section name:  Reproduction\n",
            "TRAIN Dataset: (61, 2)\n",
            "TEST Dataset: (15, 2)\n",
            "Section name:  Genetics and evolution\n",
            "TRAIN Dataset: (106, 2)\n",
            "TEST Dataset: (27, 2)\n"
          ],
          "name": "stdout"
        }
      ]
    },
    {
      "cell_type": "code",
      "metadata": {
        "id": "cmm7D07kEW4o",
        "colab_type": "code",
        "outputId": "b869710a-9062-49ee-e794-88581853c6c3",
        "colab": {
          "base_uri": "https://localhost:8080/",
          "height": 260
        }
      },
      "source": [
        "print(\"TRAIN Category Dataset: {}\".format(category_train_dataset.shape))\n",
        "print(\"TEST Category Dataset: {}\".format(category_test_dataset.shape))\n",
        "print(\"\")\n",
        "print(\"TRAIN Section Dataset: {}\".format(section_train_dataset.shape))\n",
        "print(\"TEST Section Dataset: {}\".format(section_test_dataset.shape))\n",
        "print(\"\")\n",
        "print(\"TRAIN Full Sub-section Dataset Size: {}\".format(full_subsection_train_dataset.shape))\n",
        "print(\"TEST Full Sub-section Dataset Size: {}\".format(full_subsection_test_dataset.shape))\n",
        "print(\"\")\n",
        "print(\"No. Unique sections in TRAIN Section Dataset: {}\".format(len(section_train_dataset.label.unique())))\n",
        "print(\"No. Unique sections in TEST Section Dataset: {}\".format(len(section_test_dataset.label.unique())))\n",
        "print(\"\")\n",
        "print(\"No. sections in TRAIN Full Sub-Section Dataset: {}\".format(len(full_subsection_train_dataset.label.unique())))\n",
        "print(\"No. sections in TEST Full Sub-Section Dataset: {}\".format(len(full_subsection_test_dataset.label.unique())))"
      ],
      "execution_count": 0,
      "outputs": [
        {
          "output_type": "stream",
          "text": [
            "TRAIN Category Dataset: (912, 2)\n",
            "TEST Category Dataset: (230, 2)\n",
            "\n",
            "TRAIN Section Dataset: (912, 2)\n",
            "TEST Section Dataset: (230, 2)\n",
            "\n",
            "TRAIN Full Sub-section Dataset Size: (912, 2)\n",
            "TEST Full Sub-section Dataset Size: (230, 2)\n",
            "\n",
            "No. Unique sections in TRAIN Section Dataset: 12\n",
            "No. Unique sections in TEST Section Dataset: 12\n",
            "\n",
            "No. sections in TRAIN Full Sub-Section Dataset: 75\n",
            "No. sections in TEST Full Sub-Section Dataset: 22\n"
          ],
          "name": "stdout"
        }
      ]
    },
    {
      "cell_type": "code",
      "metadata": {
        "id": "bMzTTkQGVdIB",
        "colab_type": "code",
        "colab": {}
      },
      "source": [
        "# Main Category tokenised\n",
        "category_train_set = prepare_input(category_train_dataset)\n",
        "category_test_set = prepare_input(category_test_dataset)"
      ],
      "execution_count": 0,
      "outputs": []
    },
    {
      "cell_type": "code",
      "metadata": {
        "id": "Rhy8g-Lfg_yX",
        "colab_type": "code",
        "colab": {}
      },
      "source": [
        "# Sections tokenised\n",
        "section_train_set = prepare_input(section_train_dataset, \"SECTIONS\")\n",
        "section_test_set = prepare_input(section_test_dataset, \"SECTIONS\")"
      ],
      "execution_count": 0,
      "outputs": []
    },
    {
      "cell_type": "code",
      "metadata": {
        "id": "2CCryymIcvur",
        "colab_type": "code",
        "colab": {}
      },
      "source": [
        "# Subsections tokenised\n",
        "full_subsection_train_set = prepare_input(full_subsection_train_dataset, \"FULL_SUBSECTIONS\")\n",
        "full_subsection_test_set = prepare_input(full_subsection_test_dataset, \"FULL_SUBSECTIONS\")"
      ],
      "execution_count": 0,
      "outputs": []
    },
    {
      "cell_type": "code",
      "metadata": {
        "id": "nW6u-bJjeQzN",
        "colab_type": "code",
        "colab": {}
      },
      "source": [
        "subsection_labels = {}\n",
        "\n",
        "for section, df in subsection_datasets.items():\n",
        "  labels = label_to_index(df)\n",
        "  subsection_labels[section] = labels"
      ],
      "execution_count": 0,
      "outputs": []
    },
    {
      "cell_type": "code",
      "metadata": {
        "id": "wGnQ0IIAlXip",
        "colab_type": "code",
        "colab": {}
      },
      "source": [
        "# Subsections tokenised\n",
        "subsections_train_set = {}\n",
        "subsections_test_set = {}\n",
        "\n",
        "for section, df in subsection_datasets_train.items():\n",
        "  subsections_train_set[section] = prepare_input(df, \"SUBSECTIONS\", section)\n",
        "\n",
        "for section, df in subsection_datasets_test.items():\n",
        "  subsections_test_set[section] = prepare_input(df, \"SUBSECTIONS\", section)"
      ],
      "execution_count": 0,
      "outputs": []
    },
    {
      "cell_type": "markdown",
      "metadata": {
        "id": "3xmuWORqCVRL",
        "colab_type": "text"
      },
      "source": [
        "### If CUDA's available, config model to use it."
      ]
    },
    {
      "cell_type": "code",
      "metadata": {
        "id": "Zh7A38QpCUWK",
        "colab_type": "code",
        "colab": {}
      },
      "source": [
        "device = torch.device(\"cuda\" if torch.cuda.is_available() else \"cpu\")\n",
        "main_cat_model = main_cat_model.cuda()\n",
        "section_model = section_model.cuda()\n",
        "full_subsection_model = full_subsection_model.cuda()\n",
        "for model in subsection_models.values():\n",
        "  model = model.cuda()"
      ],
      "execution_count": 0,
      "outputs": []
    },
    {
      "cell_type": "code",
      "metadata": {
        "id": "MA0qg6U6pSl3",
        "colab_type": "code",
        "outputId": "151eaf82-2e53-41be-e446-bbba90bdfa40",
        "colab": {
          "base_uri": "https://localhost:8080/",
          "height": 277
        }
      },
      "source": [
        "#Check if cuda is used for data: \n",
        "print(\"Main Categories:\")\n",
        "print(category_train_set.__getitem__(0)[0].cuda())\n",
        "print(\"\")\n",
        "\n",
        "print(\"Sections:\")\n",
        "print(section_train_set.__getitem__(0)[0].cuda())\n",
        "print(\"\")\n",
        "\n",
        "print(\"Full Sections:\")\n",
        "print(full_subsection_train_set.__getitem__(0)[0].cuda())\n",
        "print(\"\")\n",
        "\n",
        "print(\"Sub-Sections ({}):\".format(list(subsections_train_set.keys())[0]))\n",
        "print(subsections_train_set[list(subsections_train_set.keys())[0]].__getitem__(0)[0].cuda())"
      ],
      "execution_count": 0,
      "outputs": [
        {
          "output_type": "stream",
          "text": [
            "Main Categories:\n",
            "tensor([[    0,  1779,   473, 44937,  1369,  1335,   116,     2]],\n",
            "       device='cuda:0')\n",
            "\n",
            "Sections:\n",
            "tensor([[    0,  1779,   473, 44937,  1369,  1335,   116,     2]],\n",
            "       device='cuda:0')\n",
            "\n",
            "Full Sections:\n",
            "tensor([[    0,  1779,   473, 44937,  1369,  1335,   116,     2]],\n",
            "       device='cuda:0')\n",
            "\n",
            "Sub-Sections (Cell Strucuture and transport):\n",
            "tensor([[    0,  1779,   473, 44937,  1369,  1335,   116,     2]],\n",
            "       device='cuda:0')\n"
          ],
          "name": "stdout"
        }
      ]
    },
    {
      "cell_type": "code",
      "metadata": {
        "id": "KuSD_lAkCd1n",
        "colab_type": "code",
        "colab": {}
      },
      "source": [
        "# Config Parameters for training the RoBERTa models\n",
        "params = {'batch_size': 1,\n",
        "          'shuffle': True,\n",
        "          'drop_last': False,\n",
        "          'num_workers': 1}\n",
        "\n",
        "# Create the data loaders for each dataset\n",
        "\n",
        "# CATEGORIES:\n",
        "category_training_loader = DataLoader(category_train_set, **params)\n",
        "category_testing_loader = DataLoader(category_test_set, **params)\n",
        "\n",
        "# SECTIONS:\n",
        "section_training_loader = DataLoader(section_train_set, **params)\n",
        "section_testing_loader = DataLoader(section_test_set, **params)\n",
        "\n",
        "# FULL_SUBSECTIONS:\n",
        "full_subsection_training_loader = DataLoader(full_subsection_train_set, **params)\n",
        "full_subsection_testing_loader = DataLoader(full_subsection_test_set, **params)\n",
        "\n",
        "# SUBSECTIONS:\n",
        "subsection_training_loaders = {}\n",
        "for section in subsections_train_set.keys():\n",
        "  training_loader = DataLoader(subsections_train_set[section], **params)\n",
        "  subsection_training_loaders[section] = training_loader\n",
        "subsection_testing_loaders = {}\n",
        "for section in subsections_test_set.keys():\n",
        "  test_loader = DataLoader(subsections_test_set[section], **params)\n",
        "  subsection_testing_loaders[section] = test_loader"
      ],
      "execution_count": 0,
      "outputs": []
    },
    {
      "cell_type": "markdown",
      "metadata": {
        "id": "aU3b0yA8qZc3",
        "colab_type": "text"
      },
      "source": [
        "## Dictionaries for the models, training & test loaders"
      ]
    },
    {
      "cell_type": "code",
      "metadata": {
        "id": "tAYduoLNmr0y",
        "colab_type": "code",
        "colab": {}
      },
      "source": [
        "model_dict = {\"Main\" : main_cat_model,\n",
        "              \"Sections\" : section_model,\n",
        "              \"Full Sub-sections\" : full_subsection_model,\n",
        "              \"Subsections\" : subsection_models}"
      ],
      "execution_count": 0,
      "outputs": []
    },
    {
      "cell_type": "code",
      "metadata": {
        "id": "h1ONYivLqfOl",
        "colab_type": "code",
        "colab": {}
      },
      "source": [
        "training_loaders = {\"Main\" : category_training_loader,\n",
        "                    \"Sections\" : section_training_loader,\n",
        "                    \"Full Sub-sections\" : full_subsection_training_loader,\n",
        "                    \"Subsections\" : subsection_training_loaders }\n",
        "\n",
        "testing_loaders = {\"Main\" : category_testing_loader,\n",
        "                    \"Sections\" : section_testing_loader,\n",
        "                    \"Full Sub-sections\" : full_subsection_testing_loader,\n",
        "                    \"Subsections\" : subsection_testing_loaders }"
      ],
      "execution_count": 0,
      "outputs": []
    },
    {
      "cell_type": "code",
      "metadata": {
        "id": "Bzc3NbmR2OSe",
        "colab_type": "code",
        "outputId": "793fb9c0-8bc7-4985-89a2-8c77b1af60b5",
        "colab": {
          "base_uri": "https://localhost:8080/",
          "height": 1000
        }
      },
      "source": [
        "## Test a single forward pass \n",
        "## for each training set (Category, Section, Sub-section)\n",
        "\n",
        "# Category\n",
        "cat_inp  = category_train_set.__getitem__(0)[0].cuda()\n",
        "cat_output = model_dict[\"Main\"].forward(cat_inp)\n",
        "print(cat_output)\n",
        "print(torch.max(cat_output[0], 1))\n",
        "\n",
        "# Section\n",
        "sec_inp  = section_train_set .__getitem__(0)[0].cuda()\n",
        "sec_output = model_dict[\"Sections\"].forward(sec_inp)\n",
        "print(sec_output)\n",
        "print(torch.max(sec_output[0], 1))\n",
        "\n",
        "# Full Sub-sections\n",
        "full_subsec_inp  = full_subsection_train_set .__getitem__(0)[0].cuda()\n",
        "full_subsec_output = model_dict[\"Full Sub-sections\"].forward(full_subsec_inp)\n",
        "print(full_subsec_output)\n",
        "print(torch.max(full_subsec_output[0], 1))\n",
        "\n",
        "# Sub-Section (Cell Division)\n",
        "for section, model in model_dict[\"Subsections\"].items():\n",
        "  ssec_inp = subsections_train_set[section].__getitem__(0)[0].cuda()\n",
        "  ssec_output = model.forward(ssec_inp)\n",
        "  print(ssec_output)\n",
        "  print(torch.max(ssec_output[0], 1))"
      ],
      "execution_count": 0,
      "outputs": [
        {
          "output_type": "stream",
          "text": [
            "(tensor([[-0.2095,  0.1458, -0.8257,  0.0114]], device='cuda:0',\n",
            "       grad_fn=<AddmmBackward>),)\n",
            "torch.return_types.max(\n",
            "values=tensor([0.1458], device='cuda:0', grad_fn=<MaxBackward0>),\n",
            "indices=tensor([1], device='cuda:0'))\n",
            "(tensor([[ 0.0567,  0.1499, -0.3504, -0.2143, -0.4305,  0.0396,  0.3910, -0.0016,\n",
            "         -0.3285, -0.5870, -0.3628, -0.7863]], device='cuda:0',\n",
            "       grad_fn=<AddmmBackward>),)\n",
            "torch.return_types.max(\n",
            "values=tensor([0.3910], device='cuda:0', grad_fn=<MaxBackward0>),\n",
            "indices=tensor([6], device='cuda:0'))\n",
            "(tensor([[-0.2836, -0.0157, -0.1864,  0.3503,  0.3622, -0.3034, -0.3698,  0.0264,\n",
            "         -0.0906,  0.4841,  0.4026, -0.1242, -0.0413, -0.2062, -0.2103, -0.0941,\n",
            "          0.1027, -0.0696,  0.1776,  0.1211,  0.2383,  0.2270,  0.0769,  0.1631,\n",
            "         -0.1498,  0.1905, -0.2390,  0.0570, -0.0203,  0.0197, -0.0588, -0.1106,\n",
            "         -0.0090, -0.1004,  0.0361, -0.0218, -0.5040, -0.2753,  0.1415,  0.0771,\n",
            "          0.2329, -0.8055, -0.2471, -0.4312,  0.5872, -0.2221, -0.0877, -0.2026,\n",
            "         -0.0814,  0.1569, -0.2500,  0.0768,  0.2234, -0.1912,  0.1254,  0.2568,\n",
            "          0.1282, -0.0161, -0.4129,  0.0668, -0.0512, -0.0953, -0.5372, -0.1452,\n",
            "          0.3294,  0.0567,  0.4252, -0.4026,  0.2794,  0.1848, -0.2563, -0.2750,\n",
            "          0.5380,  0.1639, -0.4432]], device='cuda:0', grad_fn=<AddmmBackward>),)\n",
            "torch.return_types.max(\n",
            "values=tensor([0.5872], device='cuda:0', grad_fn=<MaxBackward0>),\n",
            "indices=tensor([44], device='cuda:0'))\n",
            "(tensor([[-0.0430,  0.1294,  0.3708,  0.6773, -0.0555,  0.1932,  0.0019, -0.0754,\n",
            "          0.0040,  0.4944]], device='cuda:0', grad_fn=<AddmmBackward>),)\n",
            "torch.return_types.max(\n",
            "values=tensor([0.6773], device='cuda:0', grad_fn=<MaxBackward0>),\n",
            "indices=tensor([3], device='cuda:0'))\n",
            "(tensor([[ 0.1281, -0.1987, -0.3455,  0.2437]], device='cuda:0',\n",
            "       grad_fn=<AddmmBackward>),)\n",
            "torch.return_types.max(\n",
            "values=tensor([0.2437], device='cuda:0', grad_fn=<MaxBackward0>),\n",
            "indices=tensor([3], device='cuda:0'))\n",
            "(tensor([[-0.2056,  0.4465,  0.3178, -0.0995, -0.2898,  0.2432, -0.5443]],\n",
            "       device='cuda:0', grad_fn=<AddmmBackward>),)\n",
            "torch.return_types.max(\n",
            "values=tensor([0.4465], device='cuda:0', grad_fn=<MaxBackward0>),\n",
            "indices=tensor([1], device='cuda:0'))\n",
            "(tensor([[ 0.2159,  0.1135,  0.2132, -0.2324, -0.0509,  0.3149, -0.0378, -0.3864,\n",
            "          0.5272]], device='cuda:0', grad_fn=<AddmmBackward>),)\n",
            "torch.return_types.max(\n",
            "values=tensor([0.5272], device='cuda:0', grad_fn=<MaxBackward0>),\n",
            "indices=tensor([8], device='cuda:0'))\n",
            "(tensor([[ 0.0447,  0.1866,  0.0471,  0.0719, -0.2079,  0.1502,  0.2348,  0.5090,\n",
            "         -0.1335,  0.1605,  0.2075]], device='cuda:0', grad_fn=<AddmmBackward>),)\n",
            "torch.return_types.max(\n",
            "values=tensor([0.5090], device='cuda:0', grad_fn=<MaxBackward0>),\n",
            "indices=tensor([7], device='cuda:0'))\n",
            "(tensor([[-0.0872, -0.2924, -0.6136,  0.4553]], device='cuda:0',\n",
            "       grad_fn=<AddmmBackward>),)\n",
            "torch.return_types.max(\n",
            "values=tensor([0.4553], device='cuda:0', grad_fn=<MaxBackward0>),\n",
            "indices=tensor([3], device='cuda:0'))\n",
            "(tensor([[-0.0706, -0.5125,  0.2172, -0.1513,  0.2543]], device='cuda:0',\n",
            "       grad_fn=<AddmmBackward>),)\n",
            "torch.return_types.max(\n",
            "values=tensor([0.2543], device='cuda:0', grad_fn=<MaxBackward0>),\n",
            "indices=tensor([4], device='cuda:0'))\n",
            "(tensor([[-0.3562, -0.2002,  0.1819]], device='cuda:0', grad_fn=<AddmmBackward>),)\n",
            "torch.return_types.max(\n",
            "values=tensor([0.1819], device='cuda:0', grad_fn=<MaxBackward0>),\n",
            "indices=tensor([2], device='cuda:0'))\n",
            "(tensor([[ 0.2022, -0.3795, -0.0413, -0.2054]], device='cuda:0',\n",
            "       grad_fn=<AddmmBackward>),)\n",
            "torch.return_types.max(\n",
            "values=tensor([0.2022], device='cuda:0', grad_fn=<MaxBackward0>),\n",
            "indices=tensor([0], device='cuda:0'))\n",
            "(tensor([[ 0.0742,  0.0148, -0.1969, -0.2759,  0.1011]], device='cuda:0',\n",
            "       grad_fn=<AddmmBackward>),)\n",
            "torch.return_types.max(\n",
            "values=tensor([0.1011], device='cuda:0', grad_fn=<MaxBackward0>),\n",
            "indices=tensor([4], device='cuda:0'))\n",
            "(tensor([[ 0.6220,  0.6311,  0.1024,  0.4710, -0.0591]], device='cuda:0',\n",
            "       grad_fn=<AddmmBackward>),)\n",
            "torch.return_types.max(\n",
            "values=tensor([0.6311], device='cuda:0', grad_fn=<MaxBackward0>),\n",
            "indices=tensor([1], device='cuda:0'))\n",
            "(tensor([[-0.2786, -0.5187, -0.2375,  0.1511,  0.4618, -0.0435,  0.3196,  0.0479]],\n",
            "       device='cuda:0', grad_fn=<AddmmBackward>),)\n",
            "torch.return_types.max(\n",
            "values=tensor([0.4618], device='cuda:0', grad_fn=<MaxBackward0>),\n",
            "indices=tensor([4], device='cuda:0'))\n"
          ],
          "name": "stdout"
        }
      ]
    },
    {
      "cell_type": "markdown",
      "metadata": {
        "id": "iJGXpg0Ru44h",
        "colab_type": "text"
      },
      "source": [
        "## Method for training each model"
      ]
    },
    {
      "cell_type": "code",
      "metadata": {
        "id": "w_vdqHOhC91R",
        "colab_type": "code",
        "colab": {}
      },
      "source": [
        "def train_on(model, training_loader, testing_loader, optimizer, loss_function=nn.CrossEntropyLoss()):\n",
        "  max_epochs = 3\n",
        "\n",
        "  print_at = 100 if (len(training_loader.dataset) > 300) else 50\n",
        "\n",
        "  model = model.train()\n",
        "\n",
        "  for epoch in tqdm_notebook(range(max_epochs)):\n",
        "      print(\"EPOCH -- {}\".format(epoch))\n",
        "      for i, (question, label) in enumerate(training_loader):\n",
        "          optimizer.zero_grad()\n",
        "          question = question.squeeze(0)\n",
        "          if torch.cuda.is_available():\n",
        "            question = question.cuda()\n",
        "            label = label.cuda()\n",
        "          output = model.forward(question)[0]\n",
        "          _, predicted = torch.max(output, 1)\n",
        "          \n",
        "          loss = loss_function(output, label)\n",
        "          loss.backward()\n",
        "          optimizer.step()\n",
        "          \n",
        "          if i % print_at == 0:\n",
        "              correct = 0\n",
        "              total = 0\n",
        "              for question, label in testing_loader:\n",
        "                  question = question.squeeze(0)\n",
        "                  if torch.cuda.is_available():\n",
        "                    question = question.cuda()\n",
        "                    label = label.cuda()\n",
        "                  output = model.forward(question)[0]\n",
        "                  _, predicted = torch.max(output.data, 1)\n",
        "                  total += label.size(0)\n",
        "                  correct += (predicted.cpu() == label.cpu()).sum()\n",
        "              accuracy = 100.00 * correct.numpy() / total\n",
        "              print('Iteration: {}. Loss: {}. Accuracy: {}%'.format(i, loss.item(), accuracy))"
      ],
      "execution_count": 0,
      "outputs": []
    },
    {
      "cell_type": "markdown",
      "metadata": {
        "id": "8kDR5gSRvp2C",
        "colab_type": "text"
      },
      "source": [
        "# BEFORE Running these cells:\n",
        "Please note that there are *many* models trained in the cells below. Therefore, you will likely run into CUDA GPU exceeded error. We recommend only running the numerous get_*_from() methods to be used later in final question-answering."
      ]
    },
    {
      "cell_type": "code",
      "metadata": {
        "id": "J2X9TLrHpyj7",
        "colab_type": "code",
        "outputId": "e053dfec-e70f-46af-f79b-40c6d31cf41f",
        "colab": {
          "base_uri": "https://localhost:8080/",
          "height": 690,
          "referenced_widgets": [
            "8a98047addf34623aaa57cc964d5ff28",
            "84c59f3080604ab1b9ab9428f053c336",
            "690401e4d35644c2bf2cab3969a7edda",
            "1282339a87ef4aa6a45aaae218b82129",
            "790372d213164a6fb2fc45de6c254687",
            "d0a025c31ae342888aaa36146e24e11a",
            "7239de2100974251a73f5b716470d165",
            "3c13d5de129a4a0a81feb668ac5e3a78"
          ]
        }
      },
      "source": [
        "# Train Main Category Model\n",
        "# loss_function = nn.CrossEntropyLoss()\n",
        "learning_rate = 1e-05\n",
        "category_model_optimizer = optim.Adam(params =  model_dict[\"Main\"].parameters(), lr=learning_rate)\n",
        "train_on(model_dict[\"Main\"], training_loaders[\"Main\"], testing_loaders[\"Main\"], category_model_optimizer)\n",
        "\n",
        "# Save and clear model\n",
        "torch.save(model_dict[\"Main\"].state_dict(), 'drive/My Drive/Layer 1 Models/roberta_main_model.pth')\n",
        "# model_dict[\"Main\"] = None"
      ],
      "execution_count": 0,
      "outputs": [
        {
          "output_type": "stream",
          "text": [
            "/usr/local/lib/python3.6/dist-packages/ipykernel_launcher.py:8: TqdmDeprecationWarning: This function will be removed in tqdm==5.0.0\n",
            "Please use `tqdm.notebook.tqdm` instead of `tqdm.tqdm_notebook`\n",
            "  \n"
          ],
          "name": "stderr"
        },
        {
          "output_type": "display_data",
          "data": {
            "application/vnd.jupyter.widget-view+json": {
              "model_id": "8a98047addf34623aaa57cc964d5ff28",
              "version_minor": 0,
              "version_major": 2
            },
            "text/plain": [
              "HBox(children=(IntProgress(value=0, max=3), HTML(value='')))"
            ]
          },
          "metadata": {
            "tags": []
          }
        },
        {
          "output_type": "stream",
          "text": [
            "EPOCH -- 0\n",
            "Iteration: 0. Loss: 1.3246005773544312. Accuracy: 27.82608695652174%\n",
            "Iteration: 100. Loss: 0.9879084229469299. Accuracy: 44.34782608695652%\n",
            "Iteration: 200. Loss: 0.8546741008758545. Accuracy: 45.65217391304348%\n",
            "Iteration: 300. Loss: 1.4596915245056152. Accuracy: 46.95652173913044%\n",
            "Iteration: 400. Loss: 1.3694432973861694. Accuracy: 53.47826086956522%\n",
            "Iteration: 500. Loss: 1.2743501663208008. Accuracy: 46.08695652173913%\n",
            "Iteration: 600. Loss: 0.7898936867713928. Accuracy: 47.82608695652174%\n",
            "Iteration: 700. Loss: 2.8489603996276855. Accuracy: 57.82608695652174%\n",
            "Iteration: 800. Loss: 0.40878260135650635. Accuracy: 65.21739130434783%\n",
            "Iteration: 900. Loss: 0.5407348871231079. Accuracy: 66.08695652173913%\n",
            "EPOCH -- 1\n",
            "Iteration: 0. Loss: 0.19852948188781738. Accuracy: 64.34782608695652%\n",
            "Iteration: 100. Loss: 2.4657912254333496. Accuracy: 63.91304347826087%\n",
            "Iteration: 200. Loss: 1.2601947784423828. Accuracy: 63.91304347826087%\n",
            "Iteration: 300. Loss: 0.8528057336807251. Accuracy: 65.21739130434783%\n",
            "Iteration: 400. Loss: 2.7030458450317383. Accuracy: 62.608695652173914%\n",
            "Iteration: 500. Loss: 0.724029541015625. Accuracy: 62.608695652173914%\n",
            "Iteration: 600. Loss: 0.8055316209793091. Accuracy: 58.26086956521739%\n",
            "Iteration: 700. Loss: 0.17387723922729492. Accuracy: 64.34782608695652%\n",
            "Iteration: 800. Loss: 0.38477396965026855. Accuracy: 69.56521739130434%\n",
            "Iteration: 900. Loss: 1.1024279594421387. Accuracy: 65.21739130434783%\n",
            "EPOCH -- 2\n",
            "Iteration: 0. Loss: 0.6683051586151123. Accuracy: 70.43478260869566%\n",
            "Iteration: 100. Loss: 1.5605659484863281. Accuracy: 72.17391304347827%\n",
            "Iteration: 200. Loss: 0.6880773305892944. Accuracy: 70.0%\n",
            "Iteration: 300. Loss: 1.7112483978271484. Accuracy: 53.47826086956522%\n",
            "Iteration: 400. Loss: 0.019449710845947266. Accuracy: 77.82608695652173%\n",
            "Iteration: 500. Loss: 0.5353437662124634. Accuracy: 76.08695652173913%\n",
            "Iteration: 600. Loss: 0.016787290573120117. Accuracy: 66.95652173913044%\n",
            "Iteration: 700. Loss: 0.3336145877838135. Accuracy: 70.8695652173913%\n",
            "Iteration: 800. Loss: 0.17354512214660645. Accuracy: 70.0%\n",
            "Iteration: 900. Loss: 0.3626868724822998. Accuracy: 62.608695652173914%\n",
            "\n"
          ],
          "name": "stdout"
        }
      ]
    },
    {
      "cell_type": "code",
      "metadata": {
        "id": "VgETT0Eir0TK",
        "colab_type": "code",
        "colab": {}
      },
      "source": [
        " def get_category_from(question):\n",
        "  model_dict[\"Main\"].eval()\n",
        "  input_q, _ = feature_preparation(question)\n",
        "  if torch.cuda.is_available():\n",
        "    input_q = input_q.cuda()\n",
        "  output = model_dict[\"Main\"](input_q)[0]\n",
        "  _, pred_label = torch.max(output.data, 1)\n",
        "  prediction=list(main_category_labels.keys())[pred_label]\n",
        "  return prediction"
      ],
      "execution_count": 0,
      "outputs": []
    },
    {
      "cell_type": "code",
      "metadata": {
        "id": "LuX_DwBmDv98",
        "colab_type": "code",
        "colab": {}
      },
      "source": [
        "def get_big_passage_from(category):\n",
        "  passage = \"\"\n",
        "  for p in passage_df.loc[passage_df[\"Main category\"] == category][\"Text\"].values:\n",
        "    passage += str(p)\n",
        "  return passage"
      ],
      "execution_count": 0,
      "outputs": []
    },
    {
      "cell_type": "code",
      "metadata": {
        "id": "2k6dsaJquyGL",
        "colab_type": "code",
        "outputId": "eb7b18c8-be98-43b6-e14b-01ae64e34382",
        "colab": {
          "base_uri": "https://localhost:8080/",
          "height": 884
        }
      },
      "source": [
        "import random\n",
        "for i in random.sample(range(0, category_dataset.shape[0]), 10):\n",
        "  print(\"Question index: \", i)\n",
        "  print(category_dataset[\"question\"][i])\n",
        "  print(\"Actual Category label:\", category_dataset.label[i])\n",
        "  print(\"Predicted Category label: \", get_category_from(category_dataset.question[i]))\n",
        "  print(\"\")"
      ],
      "execution_count": 0,
      "outputs": [
        {
          "output_type": "stream",
          "text": [
            "Question index:  169\n",
            "Where are root hair cell close too?\n",
            "Actual Category label: Cells and Organisms\n",
            "Predicted Category label:  Cells and Organisms\n",
            "\n",
            "Question index:  232\n",
            "\n",
            "Actual Category label: Cells and Organisms\n",
            "Predicted Category label:  Cells and Organisms\n",
            "\n",
            "Question index:  16\n",
            "What kind of images do a scanning electron microscope give?\n",
            "Actual Category label: Cells and Organisms\n",
            "Predicted Category label:  Cells and Organisms\n",
            "\n",
            "Question index:  317\n",
            "Why do people not realise that they have HIV?\n",
            "Actual Category label: Cells and Organisms\n",
            "Predicted Category label:  Cells and Organisms\n",
            "\n",
            "Question index:  634\n",
            "\n",
            "Actual Category label: Disease and bioenergetics\n",
            "Predicted Category label:  Cells and Organisms\n",
            "\n",
            "Question index:  707\n",
            "Why does the stomach produce acid?\n",
            "Actual Category label: Disease and bioenergetics\n",
            "Predicted Category label:  Cells and Organisms\n",
            "\n",
            "Question index:  1172\n",
            " Explain why fossils are so valuable to scientists ?\n",
            "Actual Category label: Genetics and reproduction\n",
            "Predicted Category label:  Genetics and reproduction\n",
            "\n",
            "Question index:  1107\n",
            " When did people start to see chromosomes through a microscope ?\n",
            "Actual Category label: Genetics and reproduction\n",
            "Predicted Category label:  Genetics and reproduction\n",
            "\n",
            "Question index:  868\n",
            "Which organs can be damaged from too much alcohol?\n",
            "Actual Category label: Disease and bioenergetics\n",
            "Predicted Category label:  Cells and Organisms\n",
            "\n",
            "Question index:  108\n",
            "Name one adaption for the specialised nerver cell and describe how this adaption helps the cell carry out its function ?\n",
            "Actual Category label: Cells and Organisms\n",
            "Predicted Category label:  Cells and Organisms\n",
            "\n"
          ],
          "name": "stdout"
        }
      ]
    },
    {
      "cell_type": "markdown",
      "metadata": {
        "id": "JV9DNtLDCdKd",
        "colab_type": "text"
      },
      "source": [
        ""
      ]
    },
    {
      "cell_type": "code",
      "metadata": {
        "id": "Ryma1zV3CcYH",
        "colab_type": "code",
        "colab": {}
      },
      "source": [
        "def get_med_passage_from(section):\n",
        "  passage = \"\"\n",
        "  for p in passage_df.loc[passage_df[\"Section\"] == section][\"Text\"].values:\n",
        "    passage += str(p)\n",
        "  return passage"
      ],
      "execution_count": 0,
      "outputs": []
    },
    {
      "cell_type": "code",
      "metadata": {
        "id": "90tOgY7-txCn",
        "colab_type": "code",
        "outputId": "94af88de-750b-4da7-fed7-ba3b17ca298a",
        "colab": {
          "base_uri": "https://localhost:8080/",
          "height": 690,
          "referenced_widgets": [
            "051c52e5897e4a5a89035f5f2dfa8760",
            "f51efb5e7fc74528ac3584e421fc9a93",
            "ce94f718c8e04752aafc8420ff6402a8",
            "f1f1e3decf6d4506aece0b60dbed7bf8",
            "6f66fc79687b468d914fc61239f0e480",
            "23bb58fe758240f6a2bf5333e1d9fb6e",
            "6099ec6a37d94a8291b40b3c4e745926",
            "24a67c63d8f44166a4509858f1db23fc"
          ]
        }
      },
      "source": [
        "# Train Section-Classifier Model\n",
        "# loss_function = nn.CrossEntropyLoss()\n",
        "learning_rate = 1e-05\n",
        "section_model_optimizer = optim.Adam(params =  model_dict[\"Sections\"].parameters(), lr=learning_rate)\n",
        "train_on(model_dict[\"Sections\"], training_loaders[\"Sections\"], testing_loaders[\"Sections\"], section_model_optimizer)\n",
        "# Save and clear model \n",
        "torch.save(model_dict[\"Sections\"].state_dict(), 'drive/My Drive/Layer 1 Models/roberta_sections_model.pth')\n",
        "model_dict[\"Sections\"] = None"
      ],
      "execution_count": 0,
      "outputs": [
        {
          "output_type": "stream",
          "text": [
            "/usr/local/lib/python3.6/dist-packages/ipykernel_launcher.py:8: TqdmDeprecationWarning: This function will be removed in tqdm==5.0.0\n",
            "Please use `tqdm.notebook.tqdm` instead of `tqdm.tqdm_notebook`\n",
            "  \n"
          ],
          "name": "stderr"
        },
        {
          "output_type": "display_data",
          "data": {
            "application/vnd.jupyter.widget-view+json": {
              "model_id": "051c52e5897e4a5a89035f5f2dfa8760",
              "version_minor": 0,
              "version_major": 2
            },
            "text/plain": [
              "HBox(children=(IntProgress(value=0, max=3), HTML(value='')))"
            ]
          },
          "metadata": {
            "tags": []
          }
        },
        {
          "output_type": "stream",
          "text": [
            "EPOCH -- 0\n",
            "Iteration: 0. Loss: 2.393050193786621. Accuracy: 6.086956521739131%\n",
            "Iteration: 100. Loss: 1.8546733856201172. Accuracy: 11.73913043478261%\n",
            "Iteration: 200. Loss: 2.248194694519043. Accuracy: 13.478260869565217%\n",
            "Iteration: 300. Loss: 2.6219496726989746. Accuracy: 22.17391304347826%\n",
            "Iteration: 400. Loss: 2.8369686603546143. Accuracy: 23.47826086956522%\n",
            "Iteration: 500. Loss: 1.432145118713379. Accuracy: 23.91304347826087%\n",
            "Iteration: 600. Loss: 2.1862945556640625. Accuracy: 23.91304347826087%\n",
            "Iteration: 700. Loss: 2.404372453689575. Accuracy: 23.47826086956522%\n",
            "Iteration: 800. Loss: 3.017977237701416. Accuracy: 30.0%\n",
            "Iteration: 900. Loss: 1.3736419677734375. Accuracy: 33.91304347826087%\n",
            "EPOCH -- 1\n",
            "Iteration: 0. Loss: 2.192647933959961. Accuracy: 33.47826086956522%\n",
            "Iteration: 100. Loss: 1.5098868608474731. Accuracy: 30.869565217391305%\n",
            "Iteration: 200. Loss: 0.5173544883728027. Accuracy: 34.78260869565217%\n",
            "Iteration: 300. Loss: 1.5833520889282227. Accuracy: 37.391304347826086%\n",
            "Iteration: 400. Loss: 3.4371442794799805. Accuracy: 29.565217391304348%\n",
            "Iteration: 500. Loss: 1.4144366979599. Accuracy: 38.69565217391305%\n",
            "Iteration: 600. Loss: 2.163738250732422. Accuracy: 34.78260869565217%\n",
            "Iteration: 700. Loss: 2.7816503047943115. Accuracy: 35.21739130434783%\n",
            "Iteration: 800. Loss: 2.045077323913574. Accuracy: 40.869565217391305%\n",
            "Iteration: 900. Loss: 2.2812108993530273. Accuracy: 40.43478260869565%\n",
            "EPOCH -- 2\n",
            "Iteration: 0. Loss: 2.7063095569610596. Accuracy: 38.69565217391305%\n",
            "Iteration: 100. Loss: 2.9409821033477783. Accuracy: 36.95652173913044%\n",
            "Iteration: 200. Loss: 2.2237746715545654. Accuracy: 36.08695652173913%\n",
            "Iteration: 300. Loss: 2.2634334564208984. Accuracy: 37.391304347826086%\n",
            "Iteration: 400. Loss: 3.3121016025543213. Accuracy: 37.82608695652174%\n",
            "Iteration: 500. Loss: 2.3249943256378174. Accuracy: 42.17391304347826%\n",
            "Iteration: 600. Loss: 0.47139525413513184. Accuracy: 42.17391304347826%\n",
            "Iteration: 700. Loss: 0.7434206008911133. Accuracy: 42.608695652173914%\n",
            "Iteration: 800. Loss: 1.3416166305541992. Accuracy: 42.17391304347826%\n",
            "Iteration: 900. Loss: 2.331611156463623. Accuracy: 41.73913043478261%\n",
            "\n"
          ],
          "name": "stdout"
        }
      ]
    },
    {
      "cell_type": "code",
      "metadata": {
        "id": "ELxB1CoTuLOF",
        "colab_type": "code",
        "colab": {}
      },
      "source": [
        " def get_section_from(question):\n",
        "  model_dict[\"Sections\"].eval()\n",
        "  input_q, _ = feature_preparation(question)\n",
        "  if torch.cuda.is_available():\n",
        "    input_q = input_q.cuda()\n",
        "  output = model_dict[\"Sections\"](input_q)[0]\n",
        "  _, pred_label = torch.max(output.data, 1)\n",
        "  prediction=list(section_labels.keys())[pred_label]\n",
        "  return prediction"
      ],
      "execution_count": 0,
      "outputs": []
    },
    {
      "cell_type": "code",
      "metadata": {
        "id": "T2ksztldxzCk",
        "colab_type": "code",
        "outputId": "26bc861e-a7ae-4de5-a3a8-9ca5ba2a6475",
        "colab": {
          "base_uri": "https://localhost:8080/",
          "height": 86
        }
      },
      "source": [
        "# Trial the section-classifier\n",
        "for i in random.sample(range(0, section_dataset.shape[0]), 10):\n",
        "  if((get_section_from(section_dataset.question[i]) == section_dataset.label[i]) and (section_dataset[\"question\"][i])):\n",
        "    print(section_dataset[\"question\"][i])\n",
        "    print(\"Actual Category label:\", section_dataset.label[i])\n",
        "    print(\"Predicted Category label: \", get_section_from(section_dataset.question[i]))\n",
        "    print(\"\")"
      ],
      "execution_count": 0,
      "outputs": [
        {
          "output_type": "stream",
          "text": [
            " Who do you always inherit your mitochondrial DNA from?\n",
            "Actual Category label: Reproduction\n",
            "Predicted Category label:  Reproduction\n",
            "\n"
          ],
          "name": "stdout"
        }
      ]
    },
    {
      "cell_type": "code",
      "metadata": {
        "id": "GLo9BRxkMZ83",
        "colab_type": "code",
        "colab": {}
      },
      "source": [
        "# Train Full Sub-section-Classifier Model\n",
        "# loss_function = nn.CrossEntropyLoss()\n",
        "learning_rate = 1e-04\n",
        "section_model_optimizer = optim.Adam(params =  model_dict[\"Full Sub-sections\"].parameters(), lr=learning_rate)\n",
        "train_on(model_dict[\"Full Sub-sections\"], training_loaders[\"Full Sub-sections\"], testing_loaders[\"Full Sub-sections\"], section_model_optimizer)\n",
        "# Save and clear model \n",
        "torch.save(model_dict[\"Full Sub-sections\"].state_dict(), 'drive/My Drive/Layer 1 Models/roberta_full_subsections_model.pth')\n",
        "# model_dict[\"Full Sub-sections\"] = None"
      ],
      "execution_count": 0,
      "outputs": []
    },
    {
      "cell_type": "code",
      "metadata": {
        "id": "8iygMB8eNojI",
        "colab_type": "code",
        "colab": {}
      },
      "source": [
        "# Trial the full sub-section classifier\n",
        "for i in range(len(section_dataset.question)):\n",
        "  if((get_section_from(section_dataset.question[i]) == section_dataset.label[i]) and (section_dataset[\"question\"][i])):\n",
        "    print(section_dataset[\"question\"][i])\n",
        "    print(\"Actual Category label:\", section_dataset.label[i])\n",
        "    print(\"Predicted Category label: \", get_section_from(section_dataset.question[i]))\n",
        "    print(\"\")\n",
        "    continue"
      ],
      "execution_count": 0,
      "outputs": []
    },
    {
      "cell_type": "code",
      "metadata": {
        "id": "1xpQv7Nhwnyo",
        "colab_type": "code",
        "outputId": "0af9aa3a-70ce-4ff5-9cfe-1e3957c31b44",
        "colab": {
          "base_uri": "https://localhost:8080/",
          "height": 1000,
          "referenced_widgets": [
            "edc93ea080024e40914d22b6233f3e06",
            "2c0350108cf6419ebd1b6beb97ec147f",
            "de212c3a0013440ca7b86c6996269719",
            "393ad796611f4a648601e4692d107499",
            "444e6113f58c4bd8886c3122987a7b54",
            "47a513752dba44859cbe527682eec265",
            "bd279e253d964773b4884e5afede7bd0",
            "749a86b4e33441fe8101546ed32a081d",
            "223581c4351640edbd0a0e716ee086d2",
            "b74ee0ce6f2d473c8269a01335eb5f5f",
            "1bc5fe0cde9545c688d675f7dc2faf09",
            "a0d536b5cb57483085fbbb42497cf58e",
            "112ef2e465094fdda95681931ff4aa32",
            "d3bcbf8c62f049d78a931816c81458b9",
            "614333de7f6b417b82c05fc88a3c1286",
            "5f1406c86f6e49a69d1dd7430a21440d",
            "fb7fea0933744a96a106ebe4d82b7c69",
            "2be97099d5204906af39f320f6275285",
            "bb0380b12e794c7fa21bb57cdca0311e",
            "2e3a41d6f219425bad12e2b158c012bb",
            "a1c6b48fe0e24ad79d927f51dae1f499",
            "9380e2064d4442558ee47b63391638dc",
            "b298c55dfe094c24855554aa75489869",
            "0e440b30fe73406aa61f01b674992c5e",
            "ace9eae3207e4bc5aff9047cdace77b0",
            "9e59d7848acc47639f25ef0fb7bc7d73",
            "c1b4adc40f424690b0e136dd0fbf4c1e",
            "13f835f771a144e18ce18990ea602740",
            "827850a995a54593929ec08d8fd4f196",
            "74a2b1a1583a4ef69cb0e3c4e363ce2a",
            "0f16c63e5b874000aadea498dfbe32ff",
            "a48c2d4d90d54f92a21631a3d66d36df",
            "26d8703bb22842a2a9d09a1e8b2c7319",
            "7a777f0cac204181b0ff9a231fb1e183",
            "8571ea539a66431898d3bd5beb8cda5d",
            "e3b0d8d049934fe2b8063c54dfd75ef9",
            "505fba8fc57e407392137bbab98b4a01",
            "e602850b47e746f48070b620eac28a56",
            "d0ef0a665c6a42c3b7db3957635aea2e",
            "1528ccb271da4451819aff9186a058bd",
            "d0089a62c7564b8696344727fcc9d139",
            "a412cd9a807848e3bebbf076bc8330d4",
            "86b19bb58cd746a8a14c15f568912e3a",
            "2f46bd34360b486d950f09b137593a80",
            "3277ad1cf4044a16b8239e96f30f1a7e",
            "f68552678a1547f6b57feb00756db85c",
            "687a4dc6d2d1453ab5a2ac407e887f3b",
            "4b1ee89b6fd344c6854d5a6dabe784ca",
            "93459a2765ff479280f3e3bcf3f76512",
            "5fb651908aa746d1a59fe994cc8a24be",
            "ae156345e91549f6a791d8360d1910f8",
            "9b798dd74ae6430cbced1e615e61cf60",
            "b6cd8ecee8d243e9a63490d2b433f2f2",
            "72abf3e0da764ba08f96a3475dc235d1",
            "7e3de4b5666746648e587c64e56e1011",
            "09538188532149f286411af51e718752",
            "0eae201216514bc2ab0dad4226070992",
            "1a12db488cbe447193595ad84188bae2",
            "f75cbd7eeebc42e693efe62d7fce6be0",
            "507e30e1d8884a98b661aadf319dfd27",
            "69dd5d5d50ad4552bab8cd357431be74",
            "e31586bb5ca34fef84d234f52dfd733b",
            "7cf2271d183e4946b3a4ea57b3c0401a",
            "460024d09c4f40ea81102267f00eb766",
            "b1ceb1ad465e406b8bc97b83ca856297",
            "38aa4b341c97481299de8643e99f72ae",
            "1cf417ef2893456eaf8355d9c78f7417",
            "53bb790838404f418f23d757ca8fd607",
            "b5915e3d8a3c44bb8595d7155b9e3880",
            "86aa8ec6f77f48058965be4651ac9719",
            "0ad8be472b8e48d8b36957ddc33f5fc2",
            "559115b93493464992c9db80520c7005",
            "63ab3260363146cbb1d6bb85c9307192",
            "86db11999e684b16b8beb3f16fd6b566",
            "ce8c51c643424b0ca865b38257dd0431",
            "012613d51199481ab4c7eaab95052d47",
            "e39590b1d794482bbd09c0ffd0012e19",
            "7f1cad4b35f14fb985a25da13de17e3a",
            "6d426aa3d02747fcbb44d00666edf12c",
            "a86e9c7c92c04dff9a22011a6943411f",
            "31445986c56e42b482a640fd756ddc05",
            "f2428a48fa1d4e5aa583bc4ffebb524c",
            "4dd0667e69514c37baabaece180c62b1",
            "2b5f692bb46e4eeea3158979e692e007",
            "da28851d2d09430e91eae1a18514b35e",
            "03f41e8dba8f4b539e041d6c1cf84abf",
            "ddfe5611bec44dd983ab9ea857182312",
            "173bf779f2b841c1893999c38d75285b",
            "1e6ace6a00f847e8b04ab381420a0cfd",
            "ada2aad335e14d6d82661a6fbe850bc8",
            "dea5dd3344494cf5860b64f96a2c08ac",
            "ad83c1ea8b0242ca848d4a91c5c9cbf8",
            "0bfbfd1a8dca44f19614db442e51027c",
            "78466be4c26a433ba1781eb3bd81b922",
            "03398cdaeabc4b96934b1329a8a34285",
            "4d4f613a61b74bcbb7b5fbc48aea4df2"
          ]
        }
      },
      "source": [
        "# Train Subsection-Classifier Model\n",
        "# loss_function = nn.CrossEntropyLoss()\n",
        "learning_rate = 1e-05\n",
        "\n",
        "for section, model in model_dict[\"Subsections\"].items():\n",
        "  print(\"BEGIN TRAINING FOR SECTION: {} ------------------------------ \".format(section))\n",
        "  print(\"\")\n",
        "  subsection_model_optimizer = optim.Adam(params =  model.parameters(), lr=learning_rate)\n",
        "  train_on(model, training_loaders[\"Subsections\"][section], testing_loaders[\"Subsections\"][section], subsection_model_optimizer)\n",
        "  # Save and clear model\n",
        "  torch.save(model.state_dict(), 'drive/My Drive/Layer 1 Models/roberta_for_section_' + section.replace(\" \", \"_\") +'_model.pth')\n",
        "  model = None\n",
        "  print(\"END OF TRAINING FOR SECTION: {} ------------------------------ \".format(section))\n",
        "  print(\"\")"
      ],
      "execution_count": 0,
      "outputs": [
        {
          "output_type": "stream",
          "text": [
            "BEGIN TRAINING FOR SECTION: Cell Strucuture and transport ------------------------------ \n",
            "\n"
          ],
          "name": "stdout"
        },
        {
          "output_type": "stream",
          "text": [
            "/usr/local/lib/python3.6/dist-packages/ipykernel_launcher.py:8: TqdmDeprecationWarning: This function will be removed in tqdm==5.0.0\n",
            "Please use `tqdm.notebook.tqdm` instead of `tqdm.tqdm_notebook`\n",
            "  \n"
          ],
          "name": "stderr"
        },
        {
          "output_type": "display_data",
          "data": {
            "application/vnd.jupyter.widget-view+json": {
              "model_id": "edc93ea080024e40914d22b6233f3e06",
              "version_minor": 0,
              "version_major": 2
            },
            "text/plain": [
              "HBox(children=(IntProgress(value=0, max=3), HTML(value='')))"
            ]
          },
          "metadata": {
            "tags": []
          }
        },
        {
          "output_type": "stream",
          "text": [
            "EPOCH -- 0\n",
            "Iteration: 0. Loss: 2.3003311157226562. Accuracy: 1.8181818181818181%\n",
            "Iteration: 50. Loss: 1.9503686428070068. Accuracy: 0.0%\n",
            "Iteration: 100. Loss: 2.2939772605895996. Accuracy: 0.0%\n",
            "Iteration: 150. Loss: 3.1571922302246094. Accuracy: 0.0%\n",
            "Iteration: 200. Loss: 2.407602310180664. Accuracy: 0.0%\n",
            "EPOCH -- 1\n",
            "Iteration: 0. Loss: 2.5395772457122803. Accuracy: 0.0%\n",
            "Iteration: 50. Loss: 2.3547816276550293. Accuracy: 0.0%\n",
            "Iteration: 100. Loss: 2.2929165363311768. Accuracy: 0.0%\n",
            "Iteration: 150. Loss: 2.301271677017212. Accuracy: 0.0%\n",
            "Iteration: 200. Loss: 2.0845162868499756. Accuracy: 0.0%\n",
            "EPOCH -- 2\n",
            "Iteration: 0. Loss: 2.6856472492218018. Accuracy: 0.0%\n",
            "Iteration: 50. Loss: 2.452244758605957. Accuracy: 0.0%\n",
            "Iteration: 100. Loss: 1.6746504306793213. Accuracy: 0.0%\n",
            "Iteration: 150. Loss: 2.1499319076538086. Accuracy: 0.0%\n",
            "Iteration: 200. Loss: 1.7714674472808838. Accuracy: 0.0%\n",
            "\n",
            "END OF TRAINING FOR SECTION: Cell Strucuture and transport ------------------------------ \n",
            "\n",
            "BEGIN TRAINING FOR SECTION: Cell Division ------------------------------ \n",
            "\n"
          ],
          "name": "stdout"
        },
        {
          "output_type": "display_data",
          "data": {
            "application/vnd.jupyter.widget-view+json": {
              "model_id": "223581c4351640edbd0a0e716ee086d2",
              "version_minor": 0,
              "version_major": 2
            },
            "text/plain": [
              "HBox(children=(IntProgress(value=0, max=3), HTML(value='')))"
            ]
          },
          "metadata": {
            "tags": []
          }
        },
        {
          "output_type": "stream",
          "text": [
            "EPOCH -- 0\n",
            "Iteration: 0. Loss: 1.875667691230774. Accuracy: 0.0%\n",
            "EPOCH -- 1\n",
            "Iteration: 0. Loss: 0.7370411157608032. Accuracy: 46.15384615384615%\n",
            "EPOCH -- 2\n",
            "Iteration: 0. Loss: 1.3731069564819336. Accuracy: 53.84615384615385%\n",
            "\n",
            "END OF TRAINING FOR SECTION: Cell Division ------------------------------ \n",
            "\n",
            "BEGIN TRAINING FOR SECTION: Organisation and the digestive system ------------------------------ \n",
            "\n"
          ],
          "name": "stdout"
        },
        {
          "output_type": "display_data",
          "data": {
            "application/vnd.jupyter.widget-view+json": {
              "model_id": "fb7fea0933744a96a106ebe4d82b7c69",
              "version_minor": 0,
              "version_major": 2
            },
            "text/plain": [
              "HBox(children=(IntProgress(value=0, max=3), HTML(value='')))"
            ]
          },
          "metadata": {
            "tags": []
          }
        },
        {
          "output_type": "stream",
          "text": [
            "EPOCH -- 0\n",
            "Iteration: 0. Loss: 1.597841739654541. Accuracy: 0.0%\n",
            "Iteration: 50. Loss: 2.226827383041382. Accuracy: 0.0%\n",
            "EPOCH -- 1\n",
            "Iteration: 0. Loss: 1.6401197910308838. Accuracy: 35.294117647058826%\n",
            "Iteration: 50. Loss: 2.483398675918579. Accuracy: 0.0%\n",
            "EPOCH -- 2\n",
            "Iteration: 0. Loss: 2.34710955619812. Accuracy: 11.764705882352942%\n",
            "Iteration: 50. Loss: 2.8535962104797363. Accuracy: 70.58823529411765%\n",
            "\n",
            "END OF TRAINING FOR SECTION: Organisation and the digestive system ------------------------------ \n",
            "\n",
            "BEGIN TRAINING FOR SECTION: Organising Animals and Plants ------------------------------ \n",
            "\n"
          ],
          "name": "stdout"
        },
        {
          "output_type": "display_data",
          "data": {
            "application/vnd.jupyter.widget-view+json": {
              "model_id": "ace9eae3207e4bc5aff9047cdace77b0",
              "version_minor": 0,
              "version_major": 2
            },
            "text/plain": [
              "HBox(children=(IntProgress(value=0, max=3), HTML(value='')))"
            ]
          },
          "metadata": {
            "tags": []
          }
        },
        {
          "output_type": "stream",
          "text": [
            "EPOCH -- 0\n",
            "Iteration: 0. Loss: 2.5039539337158203. Accuracy: 0.0%\n",
            "Iteration: 50. Loss: 1.8714691400527954. Accuracy: 0.0%\n",
            "EPOCH -- 1\n",
            "Iteration: 0. Loss: 2.6839468479156494. Accuracy: 30.434782608695652%\n",
            "Iteration: 50. Loss: 2.581254482269287. Accuracy: 0.0%\n",
            "EPOCH -- 2\n",
            "Iteration: 0. Loss: 1.530556559562683. Accuracy: 21.73913043478261%\n",
            "Iteration: 50. Loss: 2.802992343902588. Accuracy: 0.0%\n",
            "\n",
            "END OF TRAINING FOR SECTION: Organising Animals and Plants ------------------------------ \n",
            "\n",
            "BEGIN TRAINING FOR SECTION: Communicable diseases ------------------------------ \n",
            "\n"
          ],
          "name": "stdout"
        },
        {
          "output_type": "display_data",
          "data": {
            "application/vnd.jupyter.widget-view+json": {
              "model_id": "26d8703bb22842a2a9d09a1e8b2c7319",
              "version_minor": 0,
              "version_major": 2
            },
            "text/plain": [
              "HBox(children=(IntProgress(value=0, max=3), HTML(value='')))"
            ]
          },
          "metadata": {
            "tags": []
          }
        },
        {
          "output_type": "stream",
          "text": [
            "EPOCH -- 0\n",
            "Iteration: 0. Loss: 2.6372134685516357. Accuracy: 31.818181818181817%\n",
            "Iteration: 50. Loss: 2.9464781284332275. Accuracy: 4.545454545454546%\n",
            "EPOCH -- 1\n",
            "Iteration: 0. Loss: 2.569650411605835. Accuracy: 0.0%\n",
            "Iteration: 50. Loss: 2.083728075027466. Accuracy: 4.545454545454546%\n",
            "EPOCH -- 2\n",
            "Iteration: 0. Loss: 2.4835398197174072. Accuracy: 13.636363636363637%\n",
            "Iteration: 50. Loss: 1.8083773851394653. Accuracy: 4.545454545454546%\n",
            "\n",
            "END OF TRAINING FOR SECTION: Communicable diseases ------------------------------ \n",
            "\n",
            "BEGIN TRAINING FOR SECTION: Preventing and treating disease ------------------------------ \n",
            "\n"
          ],
          "name": "stdout"
        },
        {
          "output_type": "display_data",
          "data": {
            "application/vnd.jupyter.widget-view+json": {
              "model_id": "d0089a62c7564b8696344727fcc9d139",
              "version_minor": 0,
              "version_major": 2
            },
            "text/plain": [
              "HBox(children=(IntProgress(value=0, max=3), HTML(value='')))"
            ]
          },
          "metadata": {
            "tags": []
          }
        },
        {
          "output_type": "stream",
          "text": [
            "EPOCH -- 0\n",
            "Iteration: 0. Loss: 1.5828237533569336. Accuracy: 0.0%\n",
            "Iteration: 50. Loss: 0.8578960299491882. Accuracy: 0.0%\n",
            "EPOCH -- 1\n",
            "Iteration: 0. Loss: 1.388211727142334. Accuracy: 0.0%\n",
            "Iteration: 50. Loss: 0.8890941143035889. Accuracy: 0.0%\n",
            "EPOCH -- 2\n",
            "Iteration: 0. Loss: 0.679430365562439. Accuracy: 7.142857142857143%\n",
            "Iteration: 50. Loss: 0.5771441459655762. Accuracy: 0.0%\n",
            "\n",
            "END OF TRAINING FOR SECTION: Preventing and treating disease ------------------------------ \n",
            "\n",
            "BEGIN TRAINING FOR SECTION: Non-Communicable diseases ------------------------------ \n",
            "\n"
          ],
          "name": "stdout"
        },
        {
          "output_type": "display_data",
          "data": {
            "application/vnd.jupyter.widget-view+json": {
              "model_id": "93459a2765ff479280f3e3bcf3f76512",
              "version_minor": 0,
              "version_major": 2
            },
            "text/plain": [
              "HBox(children=(IntProgress(value=0, max=3), HTML(value='')))"
            ]
          },
          "metadata": {
            "tags": []
          }
        },
        {
          "output_type": "stream",
          "text": [
            "EPOCH -- 0\n",
            "Iteration: 0. Loss: 1.242643117904663. Accuracy: 0.0%\n",
            "Iteration: 50. Loss: 1.422332763671875. Accuracy: 6.666666666666667%\n",
            "EPOCH -- 1\n",
            "Iteration: 0. Loss: 1.1759552955627441. Accuracy: 0.0%\n",
            "Iteration: 50. Loss: 1.2997976541519165. Accuracy: 0.0%\n",
            "EPOCH -- 2\n",
            "Iteration: 0. Loss: 1.631959080696106. Accuracy: 0.0%\n",
            "Iteration: 50. Loss: 1.8655047416687012. Accuracy: 0.0%\n",
            "\n",
            "END OF TRAINING FOR SECTION: Non-Communicable diseases ------------------------------ \n",
            "\n",
            "BEGIN TRAINING FOR SECTION: Photosynthesis ------------------------------ \n",
            "\n"
          ],
          "name": "stdout"
        },
        {
          "output_type": "display_data",
          "data": {
            "application/vnd.jupyter.widget-view+json": {
              "model_id": "0eae201216514bc2ab0dad4226070992",
              "version_minor": 0,
              "version_major": 2
            },
            "text/plain": [
              "HBox(children=(IntProgress(value=0, max=3), HTML(value='')))"
            ]
          },
          "metadata": {
            "tags": []
          }
        },
        {
          "output_type": "stream",
          "text": [
            "EPOCH -- 0\n",
            "Iteration: 0. Loss: 0.9702850580215454. Accuracy: 0.0%\n",
            "EPOCH -- 1\n",
            "Iteration: 0. Loss: 1.0783923864364624. Accuracy: 100.0%\n",
            "EPOCH -- 2\n",
            "Iteration: 0. Loss: 1.3607728481292725. Accuracy: 100.0%\n",
            "\n",
            "END OF TRAINING FOR SECTION: Photosynthesis ------------------------------ \n",
            "\n",
            "BEGIN TRAINING FOR SECTION: Respiration ------------------------------ \n",
            "\n"
          ],
          "name": "stdout"
        },
        {
          "output_type": "display_data",
          "data": {
            "application/vnd.jupyter.widget-view+json": {
              "model_id": "b1ceb1ad465e406b8bc97b83ca856297",
              "version_minor": 0,
              "version_major": 2
            },
            "text/plain": [
              "HBox(children=(IntProgress(value=0, max=3), HTML(value='')))"
            ]
          },
          "metadata": {
            "tags": []
          }
        },
        {
          "output_type": "stream",
          "text": [
            "EPOCH -- 0\n",
            "Iteration: 0. Loss: 1.2065050601959229. Accuracy: 0.0%\n",
            "EPOCH -- 1\n",
            "Iteration: 0. Loss: 0.5253492593765259. Accuracy: 100.0%\n",
            "EPOCH -- 2\n",
            "Iteration: 0. Loss: 1.060059666633606. Accuracy: 0.0%\n",
            "\n",
            "END OF TRAINING FOR SECTION: Respiration ------------------------------ \n",
            "\n",
            "BEGIN TRAINING FOR SECTION: The human nervous system ------------------------------ \n",
            "\n"
          ],
          "name": "stdout"
        },
        {
          "output_type": "display_data",
          "data": {
            "application/vnd.jupyter.widget-view+json": {
              "model_id": "63ab3260363146cbb1d6bb85c9307192",
              "version_minor": 0,
              "version_major": 2
            },
            "text/plain": [
              "HBox(children=(IntProgress(value=0, max=3), HTML(value='')))"
            ]
          },
          "metadata": {
            "tags": []
          }
        },
        {
          "output_type": "stream",
          "text": [
            "EPOCH -- 0\n",
            "Iteration: 0. Loss: 1.8985050916671753. Accuracy: 0.0%\n",
            "Iteration: 50. Loss: 1.1178340911865234. Accuracy: 18.75%\n",
            "EPOCH -- 1\n",
            "Iteration: 0. Loss: 0.8917025923728943. Accuracy: 0.0%\n",
            "Iteration: 50. Loss: 1.5273773670196533. Accuracy: 18.75%\n",
            "EPOCH -- 2\n",
            "Iteration: 0. Loss: 1.3480840921401978. Accuracy: 100.0%\n",
            "Iteration: 50. Loss: 0.7877321839332581. Accuracy: 100.0%\n",
            "\n",
            "END OF TRAINING FOR SECTION: The human nervous system ------------------------------ \n",
            "\n",
            "BEGIN TRAINING FOR SECTION: Reproduction ------------------------------ \n",
            "\n"
          ],
          "name": "stdout"
        },
        {
          "output_type": "display_data",
          "data": {
            "application/vnd.jupyter.widget-view+json": {
              "model_id": "31445986c56e42b482a640fd756ddc05",
              "version_minor": 0,
              "version_major": 2
            },
            "text/plain": [
              "HBox(children=(IntProgress(value=0, max=3), HTML(value='')))"
            ]
          },
          "metadata": {
            "tags": []
          }
        },
        {
          "output_type": "stream",
          "text": [
            "EPOCH -- 0\n",
            "Iteration: 0. Loss: 2.176201343536377. Accuracy: 100.0%\n",
            "Iteration: 50. Loss: 1.5505099296569824. Accuracy: 26.666666666666668%\n",
            "EPOCH -- 1\n",
            "Iteration: 0. Loss: 1.8101609945297241. Accuracy: 0.0%\n",
            "Iteration: 50. Loss: 1.9678782224655151. Accuracy: 0.0%\n",
            "EPOCH -- 2\n",
            "Iteration: 0. Loss: 1.4182939529418945. Accuracy: 6.666666666666667%\n",
            "Iteration: 50. Loss: 1.7344194650650024. Accuracy: 100.0%\n",
            "\n",
            "END OF TRAINING FOR SECTION: Reproduction ------------------------------ \n",
            "\n",
            "BEGIN TRAINING FOR SECTION: Genetics and evolution ------------------------------ \n",
            "\n"
          ],
          "name": "stdout"
        },
        {
          "output_type": "display_data",
          "data": {
            "application/vnd.jupyter.widget-view+json": {
              "model_id": "1e6ace6a00f847e8b04ab381420a0cfd",
              "version_minor": 0,
              "version_major": 2
            },
            "text/plain": [
              "HBox(children=(IntProgress(value=0, max=3), HTML(value='')))"
            ]
          },
          "metadata": {
            "tags": []
          }
        },
        {
          "output_type": "stream",
          "text": [
            "EPOCH -- 0\n",
            "Iteration: 0. Loss: 1.7768151760101318. Accuracy: 0.0%\n",
            "Iteration: 50. Loss: 2.0314760208129883. Accuracy: 22.22222222222222%\n",
            "Iteration: 100. Loss: 2.322873830795288. Accuracy: 51.851851851851855%\n",
            "EPOCH -- 1\n",
            "Iteration: 0. Loss: 1.5824335813522339. Accuracy: 59.25925925925926%\n",
            "Iteration: 50. Loss: 1.7917852401733398. Accuracy: 11.11111111111111%\n",
            "Iteration: 100. Loss: 1.768058180809021. Accuracy: 18.51851851851852%\n",
            "EPOCH -- 2\n",
            "Iteration: 0. Loss: 1.677393913269043. Accuracy: 0.0%\n",
            "Iteration: 50. Loss: 2.708089590072632. Accuracy: 62.96296296296296%\n",
            "Iteration: 100. Loss: 1.7494465112686157. Accuracy: 44.44444444444444%\n",
            "\n",
            "END OF TRAINING FOR SECTION: Genetics and evolution ------------------------------ \n",
            "\n"
          ],
          "name": "stdout"
        }
      ]
    },
    {
      "cell_type": "code",
      "metadata": {
        "id": "oecu0DSs0B3w",
        "colab_type": "code",
        "outputId": "de23b8cd-58ca-4da3-b036-3ba2c0369c69",
        "colab": {
          "base_uri": "https://localhost:8080/",
          "height": 329
        }
      },
      "source": [
        "# Ensure your drive is mounted and the folder of models is available.\n",
        "!ls drive/'My Drive'/Layer\\ 1\\ Models"
      ],
      "execution_count": 0,
      "outputs": [
        {
          "output_type": "stream",
          "text": [
            "Final_Test_Set.csv\n",
            "roberta_for_section_Cell_Division_model.pth\n",
            "roberta_for_section_Cell_Strucuture_and_transport_model.pth\n",
            "roberta_for_section_Communicable_diseases_model.pth\n",
            "roberta_for_section_Genetics_and_evolution_model.pth\n",
            "roberta_for_section_Non-Communicable_diseases_model.pth\n",
            "roberta_for_section_Organisation_and_the_digestive_system_model.pth\n",
            "roberta_for_section_Organising_Animals_and_Plants_model.pth\n",
            "roberta_for_section_Photosynthesis_model.pth\n",
            "roberta_for_section_Preventing_and_treating_disease_model.pth\n",
            "roberta_for_section_Reproduction_model.pth\n",
            "roberta_for_section_Respiration_model.pth\n",
            "roberta_for_section_The_human_nervous_system_model.pth\n",
            "roberta_full_subsections_model.pth\n",
            "roberta_main_model.pth\n",
            "roberta_sections_model.pth\n",
            "test_dataset.csv\n",
            "train_dataset.csv\n"
          ],
          "name": "stdout"
        }
      ]
    },
    {
      "cell_type": "code",
      "metadata": {
        "id": "2EG8tdV7EG0A",
        "colab_type": "code",
        "colab": {}
      },
      "source": [
        " def get_subsection_from(question, section):\n",
        "  input_q, _ = feature_preparation(question)\n",
        "  if torch.cuda.is_available():\n",
        "    input_q = input_q.cuda()\n",
        "\n",
        "  model_dict[\"Subsections\"][section].eval()\n",
        "  sub_out = model_dict[\"Subsections\"][section](input_q)[0]\n",
        "  _, pred_label = torch.max(sub_out.data, 1)\n",
        "  subsection = list(subsection_labels[section].keys())[pred_label]\n",
        "  return subsection"
      ],
      "execution_count": 0,
      "outputs": []
    },
    {
      "cell_type": "code",
      "metadata": {
        "id": "csdjhYH2XI0m",
        "colab_type": "code",
        "colab": {}
      },
      "source": [
        "def get_subsection_only_from(question):\n",
        "  input_q, _ = feature_preparation(question)\n",
        "  if torch.cuda.is_available():\n",
        "    input_q = input_q.cuda()\n",
        "\n",
        "  model_dict[\"Full Sub-sections\"].eval()\n",
        "  sub_out = model_dict[\"Full Sub-sections\"](input_q)[0]\n",
        "  _, pred_label = torch.max(sub_out.data, 1)\n",
        "  subsection = list(subsection_labels[section].keys())[pred_label]\n",
        "  return subsection"
      ],
      "execution_count": 0,
      "outputs": []
    },
    {
      "cell_type": "code",
      "metadata": {
        "id": "zjq75YZ3EOS5",
        "colab_type": "code",
        "outputId": "171a4d8f-8748-4a14-a123-d8798ab00381",
        "colab": {
          "base_uri": "https://localhost:8080/",
          "height": 104
        }
      },
      "source": [
        "ix = random.randint(0, len(subsection_datasets_train[\"Cell Division\"]))\n",
        "\n",
        "print(subsection_datasets_train[\"Cell Division\"].question[ix])\n",
        "print(\"Actual subsection label:\", subsection_datasets_train[\"Cell Division\"].label[ix])\n",
        "print(\"Predicted label: \", get_subsection_from(subsection_datasets_train[\"Cell Division\"].question[ix], \"Cell Division\"))\n",
        "print(\"\")"
      ],
      "execution_count": 0,
      "outputs": [
        {
          "output_type": "stream",
          "text": [
            "Explain the main arguments for and against the use of embryonic stem cells in medical research ?\n",
            "Actual subsection label: Stem cell dilemmas\n",
            "ERROR! Session/line number was not unique in database. History logging moved to new session 63\n",
            "Predicted label:  Stem cells\n",
            "\n"
          ],
          "name": "stdout"
        }
      ]
    },
    {
      "cell_type": "code",
      "metadata": {
        "id": "JpWq5XMz_q72",
        "colab_type": "code",
        "colab": {}
      },
      "source": [
        "def get_passage_for(subsection):\n",
        "  return passage_df.loc[passage_df['Sub-section'] == subsection, ['Text']].values[0][0]"
      ],
      "execution_count": 0,
      "outputs": []
    },
    {
      "cell_type": "code",
      "metadata": {
        "id": "1QEDQgUqyVac",
        "colab_type": "code",
        "colab": {}
      },
      "source": [
        "# Make drive paths for models:\n",
        "category_model_path = 'drive/My Drive/Layer 1 Models/roberta_main_model.pth'\n",
        "section_model_path = 'drive/My Drive/Layer 1 Models/roberta_sections_model.pth'\n",
        "full_subsection_model_path = 'drive/My Drive/Layer 1 Models/roberta_full_subsections_model.pth'\n",
        "subsection_model_paths = { }\n",
        "for section, _ in subsection_labels.items():\n",
        "  subsection_model_paths[section] = 'drive/My Drive/Layer 1 Models/roberta_for_section_' + section.replace(\" \", \"_\") +'_model.pth'\n",
        "\n",
        "\n",
        "def layer_1(question):\n",
        "  input_question, _ = feature_preparation(question)\n",
        "  if torch.cuda.is_available():\n",
        "    input_question = input_question.cuda()\n",
        "\n",
        "  # Get subsection from question\n",
        "  model_dict[\"Sections\"].load_state_dict(torch.load(section_model_path, map_location=device))\n",
        "  section = get_section_from(question)\n",
        "  print(\"Got section: \", section)\n",
        "\n",
        "  # Get paragraph from subsection:\n",
        "  model_dict[\"Subsections\"][section].load_state_dict(torch.load(subsection_model_paths[section], map_location=device))\n",
        "  subsection = get_subsection_from(question, section)\n",
        "  print(\"Got subsection: \", subsection)\n",
        "  final_passage = get_passage_for(subsection)\n",
        "  return final_passage"
      ],
      "execution_count": 0,
      "outputs": []
    },
    {
      "cell_type": "code",
      "metadata": {
        "id": "S9AQAowv6a6q",
        "colab_type": "code",
        "outputId": "90fc9dbe-2210-42cf-cb5b-caf81f258e9b",
        "colab": {
          "base_uri": "https://localhost:8080/",
          "height": 141
        }
      },
      "source": [
        "print(section_dataset.question[400])\n",
        "predicted_passage = layer_1(section_dataset.question[400])\n",
        "print(\"Got passage:\")\n",
        "print(predicted_passage)"
      ],
      "execution_count": 0,
      "outputs": [
        {
          "output_type": "stream",
          "text": [
            "How does the small intestine increase diffusion and active transport into the blood?\n",
            "Got section:  Reproduction\n",
            "Got subsection:  Gene expression and mutation\n",
            "Got passage:\n",
            "Our understanding of how the genetic code in our cells produces organisms we see around us is growing all the time. Not only do we understand what happens when things go wrong as the DNA in our cells replicate. We are also beginning to understand how genes are switched on and off in our cells as we grow and develop. It seems as if our environment may affect exactly which genes come into use. When a gene codes for a protein that is synthesised in the cell, the gene is said to be expressed. Most of the DNA does not actually code for proteins, remember that there are only 21 000 genes but 3 billion pairs of bases! Scientists are still discovering what the non-coding part of the DNA does. One thing they have discovered is that the non-coding pans of the DNA are involved in switching genes, or parts of genes, on and off.The non- coding DNA is part of the answer to the question of how we can synthesise so many different chemicals with so few genes. Each gene can control the synthesis of lots of different proteins. This may depend on how much of a gene is switched on or off, or which other genes are switched on or off at the same time. Scientists think that variations in the non-coding areas of our DNA may affect how our genes are expressed. This in turn affects the phenotype - the physical appearance or biochemistry of an organism. Mutation has a bad name — in horror movies it is shown as a dramatic event that brings about enormous and often horrifying changes. The truth is much less exciting but much more important. All of us are here now as a result of millions of mutations that have taken place in our DNA since the earliest days of life on Earth. New forms of genes result from changes in existing genes and these changes are what we call mutations. They are often tiny changes in the sequence of bases in a strand of DNA Mutations occur all the time, often as a result of mistakes made in copying the DNA for new cells as they reproduce. When mutations take place in the coding DNA, most do not alter the protein formed, or alter it so slightly that its appearance and function is not changed.\n",
            " A few mutations code for a change in the amino acids that results in an altered protein that folds to give a different shape. As a result, the active site of an enzyme may no longer fit the substrate, or a structural protein may lose its strength. On the other hand, the changes caused by a mutation may give an advantage eg producing a more efficient enzyme or a stronger structural protein. When mutations take place in the non-coding DNA, it does not directly affect the phenotype. However, variants in the non-coding DNA can affect which genes are switched on or switched off. By changing the genes that are expressed, changes in the non-coding DNA can have a big effect on the phenotype of the organism.\n"
          ],
          "name": "stdout"
        }
      ]
    },
    {
      "cell_type": "markdown",
      "metadata": {
        "id": "YB3A5TJzD9uW",
        "colab_type": "text"
      },
      "source": [
        "  ## LAYER 2: An ALBERT question answering model, pre-trained on SQuAD dataset, taken from HuggingFace library.\n",
        "\n"
      ]
    },
    {
      "cell_type": "code",
      "metadata": {
        "id": "Uz1SYy4TlQa5",
        "colab_type": "code",
        "outputId": "c5ae08ea-34f1-45bc-dfad-dcec3228cb2b",
        "colab": {
          "base_uri": "https://localhost:8080/",
          "height": 313,
          "referenced_widgets": [
            "10236b638df2488398df433b53bede62",
            "c5d4ca4f6ebb4adaa44174bdd8bae099",
            "688321d906f14c7faf5fa082490cf06e",
            "fb7a7776b9684a1ab63b48af83295bdb",
            "9bbe8c8d17ee42dd8d617f27c8e9cbfe",
            "2963d775d3b5432d84fe705cb723cfe4",
            "fe7ba6ac8cdf4ffcab2af41a3fb12fb0",
            "855954ac811d489fa6285aa3a65dfc01",
            "1fe636206c7541a9a4beb498bbaadd34",
            "cd41304c5e0f429ea0f64eb1c09c86c5",
            "04cdbd4f468c4bc2acbed3bdb861c8fa",
            "2fb111bd75044aaabe0bbefda155ea47",
            "e0692385faa94191b4217cf8718af957",
            "b0f63e1ffa464ca285484fe21a635bdf",
            "a126f2f93b7a4a43a62c2ba1475aafba",
            "5a3c39a3612f4d57aa31c55f45a699b5",
            "e6cd0a62d59041cea97381fb49bc9311",
            "32eeb3aac4fb4ce5849a63c4cd5349e4",
            "c8dae4950ed44982998231d1fb134f5f",
            "81b3cafdc5504514b5d205e15795769a",
            "b48eec2040db4703afda11d9753fe9d6",
            "49e427f8832c4c4eb3e8d869f1846be8",
            "4a8392f0259e45acb6f655f2fbfb8c6c",
            "31db7ceb47bb45fdbe28f3673664be49",
            "04116751b3714b2f8b885834fc6bc3c7",
            "eef5c40b87e646bcaee66f61bbd3afa3",
            "3de81746d1ca46a2b0f9d258f447ebbe",
            "1508330871a546eb8b87780ab745b977",
            "edcd58fbd03d460c902c4ce77fb845b3",
            "858cda00fb8d436887e1ddff307576b0",
            "a6d40e974b3c4a0b91dafcf970536053",
            "d9a3a98d59454cdd802b7f22b433e187",
            "0c4c9c43f6bc4cd6a1181f33c81c4884",
            "5b70a02a78114967a0d0dfc4bcc1748b",
            "a93e45cf6b554c7ab25e9633bcb5c778",
            "5d6f316c84fe4e3d803e0969e3d5de59",
            "f09eec26b010453ca3903f88e365adfc",
            "39731a04cd2e469eb92fe8b5cc55a92d",
            "eb6efa0cfb494984bdc1e23afb864c8a",
            "f6d9e1df9e144f1dacb5b5614da3aafb",
            "861407db02564282929ea2e3e6d5985c",
            "74367681baa7471282326420dda8161d",
            "7aa96614224047c5b797991e4178c42d",
            "b6f1dddf08444790b3b8f45872be881c",
            "fb8be54cceda4e878440bb82a233aac8",
            "9cabba166e494c0491c22a913390edcc",
            "6ddb5c6674de40e0bd746d31268fc693",
            "032c2ff92bac4a23b6d6fe46294bca58"
          ]
        }
      },
      "source": [
        "from transformers.data.processors.squad import SquadResult, SquadV2Processor, SquadExample\n",
        "\n",
        "from transformers.data.metrics.squad_metrics import compute_predictions_logits\n",
        "\n",
        "model_name_or_path = \"ktrapeznikov/albert-xlarge-v2-squad-v2\"\n",
        "# model_name_or_path = \"bert-base-uncased\"\n",
        "\n",
        "output_dir = \"\"\n",
        "\n",
        "\n",
        "def to_list(tensor):\n",
        "    return tensor.detach().cpu().tolist()\n",
        "    \n",
        "# Config\n",
        "n_best_size = 1\n",
        "max_answer_length = 30\n",
        "do_lower_case = True\n",
        "null_score_diff_threshold = 0.0\n",
        "\n",
        "# Setup model\n",
        "config_class, model_class, tokenizer_class = (\n",
        "    AlbertConfig, AlbertForQuestionAnswering, AlbertTokenizer)\n",
        "\n",
        "\n",
        "config = config_class.from_pretrained(model_name_or_path)\n",
        "\n",
        "tokenizer = tokenizer_class.from_pretrained(model_name_or_path, do_lower_case=True)\n",
        "\n",
        "model = model_class.from_pretrained(model_name_or_path, config=config)\n",
        "\n",
        "device = torch.device(\"cuda\" if torch.cuda.is_available() else \"cpu\")\n",
        "\n",
        "model.to(device)\n",
        "\n",
        "processor = SquadV2Processor()\n",
        "\n",
        "def run_prediction(question_texts, context_text):\n",
        "    \"\"\"Setup function to compute predictions\"\"\"\n",
        "    examples = []\n",
        "\n",
        "    for i, question_text in enumerate(question_texts):\n",
        "        example = SquadExample(\n",
        "            qas_id=str(i),\n",
        "            question_text=question_text,\n",
        "            context_text=context_text,\n",
        "            answer_text=None,\n",
        "            start_position_character=None,\n",
        "            title=\"Predict\",\n",
        "            is_impossible=False,\n",
        "            answers=None,\n",
        "        )\n",
        "\n",
        "        examples.append(example)\n",
        "\n",
        "    features, dataset = squad_convert_examples_to_features(\n",
        "        examples=examples,\n",
        "        tokenizer=tokenizer,\n",
        "        max_seq_length=384,\n",
        "        doc_stride=128,\n",
        "        max_query_length=64,\n",
        "        is_training=False,\n",
        "        return_dataset=\"pt\",\n",
        "        threads=1,\n",
        "    )\n",
        "\n",
        "    eval_sampler = SequentialSampler(dataset)\n",
        "    eval_dataloader = DataLoader(dataset, sampler=eval_sampler, batch_size=10)\n",
        "\n",
        "    all_results = []\n",
        "\n",
        "    for batch in eval_dataloader:\n",
        "        model.eval()\n",
        "        batch = tuple(t.to(device) for t in batch)\n",
        "\n",
        "        with torch.no_grad():\n",
        "            inputs = {\n",
        "                \"input_ids\": batch[0],\n",
        "                \"attention_mask\": batch[1],\n",
        "                \"token_type_ids\": batch[2],\n",
        "            }\n",
        "\n",
        "            example_indices = batch[3]\n",
        "\n",
        "            outputs = model(**inputs)\n",
        "\n",
        "            for i, example_index in enumerate(example_indices):\n",
        "                eval_feature = features[example_index.item()]\n",
        "                unique_id = int(eval_feature.unique_id)\n",
        "\n",
        "                output = [to_list(output[i]) for output in outputs]\n",
        "\n",
        "                start_logits, end_logits = output\n",
        "                result = SquadResult(unique_id, start_logits, end_logits)\n",
        "                all_results.append(result)\n",
        "\n",
        "    output_prediction_file = \"predictions.json\"\n",
        "    output_nbest_file = \"nbest_predictions.json\"\n",
        "    output_null_log_odds_file = \"null_predictions.json\"\n",
        "\n",
        "    predictions = compute_predictions_logits(\n",
        "        examples,\n",
        "        features,\n",
        "        all_results,\n",
        "        n_best_size,\n",
        "        max_answer_length,\n",
        "        do_lower_case,\n",
        "        output_prediction_file,\n",
        "        output_nbest_file,\n",
        "        output_null_log_odds_file,\n",
        "        False,  # verbose_logging\n",
        "        True,  # version_2_with_negative\n",
        "        null_score_diff_threshold,\n",
        "        tokenizer,\n",
        "    )\n",
        "\n",
        "    return predictions"
      ],
      "execution_count": 0,
      "outputs": [
        {
          "output_type": "display_data",
          "data": {
            "application/vnd.jupyter.widget-view+json": {
              "model_id": "10236b638df2488398df433b53bede62",
              "version_minor": 0,
              "version_major": 2
            },
            "text/plain": [
              "HBox(children=(IntProgress(value=0, description='Downloading', max=1129, style=ProgressStyle(description_width…"
            ]
          },
          "metadata": {
            "tags": []
          }
        },
        {
          "output_type": "stream",
          "text": [
            "\n"
          ],
          "name": "stdout"
        },
        {
          "output_type": "display_data",
          "data": {
            "application/vnd.jupyter.widget-view+json": {
              "model_id": "1fe636206c7541a9a4beb498bbaadd34",
              "version_minor": 0,
              "version_major": 2
            },
            "text/plain": [
              "HBox(children=(IntProgress(value=0, description='Downloading', max=760289, style=ProgressStyle(description_wid…"
            ]
          },
          "metadata": {
            "tags": []
          }
        },
        {
          "output_type": "stream",
          "text": [
            "\n"
          ],
          "name": "stdout"
        },
        {
          "output_type": "display_data",
          "data": {
            "application/vnd.jupyter.widget-view+json": {
              "model_id": "e6cd0a62d59041cea97381fb49bc9311",
              "version_minor": 0,
              "version_major": 2
            },
            "text/plain": [
              "HBox(children=(IntProgress(value=0, description='Downloading', max=2, style=ProgressStyle(description_width='i…"
            ]
          },
          "metadata": {
            "tags": []
          }
        },
        {
          "output_type": "stream",
          "text": [
            "\n"
          ],
          "name": "stdout"
        },
        {
          "output_type": "display_data",
          "data": {
            "application/vnd.jupyter.widget-view+json": {
              "model_id": "04116751b3714b2f8b885834fc6bc3c7",
              "version_minor": 0,
              "version_major": 2
            },
            "text/plain": [
              "HBox(children=(IntProgress(value=0, description='Downloading', max=156, style=ProgressStyle(description_width=…"
            ]
          },
          "metadata": {
            "tags": []
          }
        },
        {
          "output_type": "stream",
          "text": [
            "\n"
          ],
          "name": "stdout"
        },
        {
          "output_type": "display_data",
          "data": {
            "application/vnd.jupyter.widget-view+json": {
              "model_id": "0c4c9c43f6bc4cd6a1181f33c81c4884",
              "version_minor": 0,
              "version_major": 2
            },
            "text/plain": [
              "HBox(children=(IntProgress(value=0, description='Downloading', max=58, style=ProgressStyle(description_width='…"
            ]
          },
          "metadata": {
            "tags": []
          }
        },
        {
          "output_type": "stream",
          "text": [
            "\n"
          ],
          "name": "stdout"
        },
        {
          "output_type": "display_data",
          "data": {
            "application/vnd.jupyter.widget-view+json": {
              "model_id": "861407db02564282929ea2e3e6d5985c",
              "version_minor": 0,
              "version_major": 2
            },
            "text/plain": [
              "HBox(children=(IntProgress(value=0, description='Downloading', max=234922444, style=ProgressStyle(description_…"
            ]
          },
          "metadata": {
            "tags": []
          }
        },
        {
          "output_type": "stream",
          "text": [
            "\n"
          ],
          "name": "stdout"
        }
      ]
    },
    {
      "cell_type": "code",
      "metadata": {
        "id": "HXcnVhdLmy1-",
        "colab_type": "code",
        "colab": {}
      },
      "source": [
        "context = \"Animals need to eat food to get their energy. But green plants and algae do not. Instead they make their own food in a process called photosynthesis. Almost all life on Earth depends upon this process. Photosynthesis is also important in maintaining the levels of oxygen and carbon dioxide in the atmosphere. These are the things that plants need for photosynthesis: carbon dioxide, water, light (a source of energy) These are the things that plants make by photosynthesis: glucose and oxygen Photosynthesis takes place inside plant cells in small objects called chloroplasts. Chloroplasts contain a green substance called chlorophyll. This absorbs the light energy needed to make photosynthesis happen. Plants and algae can only carry out photosynthesis in the light. Plants get carbon dioxide from the air through their leaves, and water from the ground through their roots. Light energy comes from the Sun. The oxygen produced is released into the air from the leaves. The glucose produced can be turned into other substances, such as starch and plant oils, which are used as an energy store. This energy can be released by respiration.\"\n",
        "questions = [\"What are the products of photosynthesis?\", \n",
        "             \"What colour is chlorophyll?\",\n",
        "             \"Where does photosynthesis take place?\",\n",
        "             \"When do plants photosynthesise?\",\n",
        "             \"What are the reactants of photosynthesis?\"]\n",
        "\n",
        "# Run method\n",
        "predictions = run_prediction(questions, context)\n",
        "\n",
        "# Print results\n",
        "for key in predictions.keys():\n",
        "  print(predictions[key])"
      ],
      "execution_count": 0,
      "outputs": []
    },
    {
      "cell_type": "code",
      "metadata": {
        "id": "P3pIRXZmixIu",
        "colab_type": "code",
        "colab": {}
      },
      "source": [
        "test_dataset_url = \"drive/My Drive/Layer 1 Models/Final_Test_Set.csv\"\n",
        "final_test_df = pd.read_csv(test_dataset_url)"
      ],
      "execution_count": 0,
      "outputs": []
    },
    {
      "cell_type": "code",
      "metadata": {
        "id": "Kexv1DPZmW9y",
        "colab_type": "code",
        "colab": {}
      },
      "source": [
        "# Hierarchical answering method\n",
        "def answer_it_BERT(question):\n",
        "  passage = layer_1(question)\n",
        "  predictions = run_prediction([question], passage)\n",
        "  predictions"
      ],
      "execution_count": 0,
      "outputs": []
    },
    {
      "cell_type": "code",
      "metadata": {
        "id": "i7EORbqiNniB",
        "colab_type": "code",
        "colab": {}
      },
      "source": [
        "# Section-only answering method\n",
        "def answer_it_BERT_1(question):\n",
        "  section_model_path = 'drive/My Drive/Layer 1 Models/roberta_sections_model.pth'\n",
        "  model_dict[\"Sections\"].load_state_dict(torch.load(section_model_path, map_location=device))\n",
        "  section = get_section_from(question)\n",
        "  passage = get_med_passage_from(section)\n",
        "  predictions = run_prediction([question], passage)\n",
        "  return predictions[\"0\"]"
      ],
      "execution_count": 0,
      "outputs": []
    },
    {
      "cell_type": "code",
      "metadata": {
        "id": "VBpNsDr3Fiqf",
        "colab_type": "code",
        "colab": {}
      },
      "source": [
        "# Main Category-only answering method\n",
        "def answer_it_BERT_2(question):\n",
        "  category_model_path = 'drive/My Drive/Layer 1 Models/roberta_main_model.pth'\n",
        "  model_dict[\"Main\"].load_state_dict(torch.load(category_model_path, map_location=device))\n",
        "  cat = get_category_from(question)\n",
        "  passage = get_big_passage_from(cat)\n",
        "  predictions = run_prediction([question], passage)\n",
        "  return predictions[\"0\"]"
      ],
      "execution_count": 0,
      "outputs": []
    },
    {
      "cell_type": "code",
      "metadata": {
        "id": "_NtwlEGuXoIK",
        "colab_type": "code",
        "colab": {}
      },
      "source": [
        "# Subsection-only answering method\n",
        "def answer_it_BERT_3(question):\n",
        "  full_subsection_model_path = 'drive/My Drive/Layer 1 Models/roberta_full_subsections_model.pth'\n",
        "  model_dict[\"Full Sub-sections\"].load_state_dict(torch.load(full_subsection_model_path, map_location=device))\n",
        "  subsection = get_subsection_only_from(question)\n",
        "  passage = get_passage_for(subsection)\n",
        "  predictions = run_prediction([question], passage)\n",
        "  return predictions[\"0\"]"
      ],
      "execution_count": 0,
      "outputs": []
    },
    {
      "cell_type": "code",
      "metadata": {
        "id": "bFwmN4_NC7zw",
        "colab_type": "code",
        "outputId": "dbc36947-8473-48e3-e909-04b52fd776e2",
        "colab": {
          "base_uri": "https://localhost:8080/",
          "height": 138
        }
      },
      "source": [
        "prediction = answer_it_BERT(\"Who do you always inherit your mitochondrial DNA from?\")\n",
        "print(\"\")\n",
        "print(\"QUESTION: Who do you always inherit your mitochondrial DNA from?\")\n",
        "print(\"BERT ANSWERED: \")\n",
        "print(prediction)"
      ],
      "execution_count": 0,
      "outputs": [
        {
          "output_type": "stream",
          "text": [
            "Got section:  Reproduction\n",
            "Got subsection:  Gene expression and mutation\n"
          ],
          "name": "stdout"
        },
        {
          "output_type": "stream",
          "text": [
            "convert squad examples to features: 100%|██████████| 1/1 [00:00<00:00, 39.07it/s]\n",
            "add example index and unique id: 100%|██████████| 1/1 [00:00<00:00, 3663.15it/s]\n"
          ],
          "name": "stderr"
        },
        {
          "output_type": "stream",
          "text": [
            "\n",
            "QUESTION: Who do you always inherit your mitochondrial DNA from?\n",
            "BERT ANSWERED:  \n"
          ],
          "name": "stdout"
        }
      ]
    },
    {
      "cell_type": "code",
      "metadata": {
        "id": "FlzpzfLbqHIl",
        "colab_type": "code",
        "colab": {}
      },
      "source": [
        "import time"
      ],
      "execution_count": 0,
      "outputs": []
    },
    {
      "cell_type": "code",
      "metadata": {
        "id": "69FgLsQ4E0p3",
        "colab_type": "code",
        "outputId": "f18780d8-d95c-4b40-b00e-d4173cd37310",
        "colab": {
          "base_uri": "https://localhost:8080/",
          "height": 1000
        }
      },
      "source": [
        "start = time.process_time()\n",
        "for question in final_test_df[\"Question\"]:\n",
        "  answer = answer_it_BERT(question)\n",
        "  final_test_df.loc[final_test_df[\"Question\"] == question, \"Answer\"] = answer\n",
        "\n",
        "final_test_df.head(10)\n",
        "\n",
        "print(time.process_time() - start)"
      ],
      "execution_count": 0,
      "outputs": [
        {
          "output_type": "stream",
          "text": [
            "Got section:  Genetics and evolution\n",
            "Got subsection:  Classification\n"
          ],
          "name": "stdout"
        },
        {
          "output_type": "stream",
          "text": [
            "convert squad examples to features: 100%|██████████| 1/1 [00:00<00:00, 25.26it/s]\n",
            "add example index and unique id: 100%|██████████| 1/1 [00:00<00:00, 1998.24it/s]\n"
          ],
          "name": "stderr"
        },
        {
          "output_type": "stream",
          "text": [
            "Got section:  Preventing and treating disease\n",
            "Got subsection:  Discovering and developing drugs\n"
          ],
          "name": "stdout"
        },
        {
          "output_type": "stream",
          "text": [
            "convert squad examples to features: 100%|██████████| 1/1 [00:00<00:00, 10.72it/s]\n",
            "add example index and unique id: 100%|██████████| 1/1 [00:00<00:00, 1834.78it/s]\n"
          ],
          "name": "stderr"
        },
        {
          "output_type": "stream",
          "text": [
            "Got section:  Genetics and evolution\n",
            "Got subsection:  Fossils and extinction \n"
          ],
          "name": "stdout"
        },
        {
          "output_type": "stream",
          "text": [
            "convert squad examples to features: 100%|██████████| 1/1 [00:00<00:00, 25.41it/s]\n",
            "add example index and unique id: 100%|██████████| 1/1 [00:00<00:00, 3199.32it/s]\n"
          ],
          "name": "stderr"
        },
        {
          "output_type": "stream",
          "text": [
            "Got section:  Genetics and evolution\n",
            "Got subsection:  Fossils and extinction \n"
          ],
          "name": "stdout"
        },
        {
          "output_type": "stream",
          "text": [
            "convert squad examples to features: 100%|██████████| 1/1 [00:00<00:00, 23.00it/s]\n",
            "add example index and unique id: 100%|██████████| 1/1 [00:00<00:00, 1902.18it/s]\n"
          ],
          "name": "stderr"
        },
        {
          "output_type": "stream",
          "text": [
            "Got section:  Genetics and evolution\n",
            "Got subsection:  Fossils and extinction \n"
          ],
          "name": "stdout"
        },
        {
          "output_type": "stream",
          "text": [
            "convert squad examples to features: 100%|██████████| 1/1 [00:00<00:00, 21.78it/s]\n",
            "add example index and unique id: 100%|██████████| 1/1 [00:00<00:00, 2924.90it/s]\n"
          ],
          "name": "stderr"
        },
        {
          "output_type": "stream",
          "text": [
            "Got section:  Genetics and evolution\n",
            "Got subsection:  Fossils and extinction \n"
          ],
          "name": "stdout"
        },
        {
          "output_type": "stream",
          "text": [
            "convert squad examples to features: 100%|██████████| 1/1 [00:00<00:00, 23.97it/s]\n",
            "add example index and unique id: 100%|██████████| 1/1 [00:00<00:00, 2375.03it/s]\n"
          ],
          "name": "stderr"
        },
        {
          "output_type": "stream",
          "text": [
            "Got section:  Preventing and treating disease\n",
            "Got subsection:  Discovering and developing drugs\n"
          ],
          "name": "stdout"
        },
        {
          "output_type": "stream",
          "text": [
            "convert squad examples to features: 100%|██████████| 1/1 [00:00<00:00, 10.30it/s]\n",
            "add example index and unique id: 100%|██████████| 1/1 [00:00<00:00, 6482.70it/s]\n"
          ],
          "name": "stderr"
        },
        {
          "output_type": "stream",
          "text": [
            "Got section:  Genetics and evolution\n",
            "Got subsection:  Fossils and extinction \n"
          ],
          "name": "stdout"
        },
        {
          "output_type": "stream",
          "text": [
            "convert squad examples to features: 100%|██████████| 1/1 [00:00<00:00, 22.74it/s]\n",
            "add example index and unique id: 100%|██████████| 1/1 [00:00<00:00, 4563.99it/s]\n"
          ],
          "name": "stderr"
        },
        {
          "output_type": "stream",
          "text": [
            "Got section:  Genetics and evolution\n",
            "Got subsection:  Fossils and extinction \n"
          ],
          "name": "stdout"
        },
        {
          "output_type": "stream",
          "text": [
            "convert squad examples to features: 100%|██████████| 1/1 [00:00<00:00, 25.08it/s]\n",
            "add example index and unique id: 100%|██████████| 1/1 [00:00<00:00, 3698.68it/s]\n"
          ],
          "name": "stderr"
        },
        {
          "output_type": "stream",
          "text": [
            "Got section:  Genetics and evolution\n",
            "Got subsection:  Classification\n"
          ],
          "name": "stdout"
        },
        {
          "output_type": "stream",
          "text": [
            "convert squad examples to features: 100%|██████████| 1/1 [00:00<00:00, 24.04it/s]\n",
            "add example index and unique id: 100%|██████████| 1/1 [00:00<00:00, 3218.96it/s]\n"
          ],
          "name": "stderr"
        },
        {
          "output_type": "stream",
          "text": [
            "Got section:  Genetics and evolution\n",
            "Got subsection:  Fossils and extinction \n"
          ],
          "name": "stdout"
        },
        {
          "output_type": "stream",
          "text": [
            "convert squad examples to features: 100%|██████████| 1/1 [00:00<00:00, 23.77it/s]\n",
            "add example index and unique id: 100%|██████████| 1/1 [00:00<00:00, 3382.50it/s]\n"
          ],
          "name": "stderr"
        },
        {
          "output_type": "stream",
          "text": [
            "Got section:  Genetics and evolution\n",
            "Got subsection:  Classification\n"
          ],
          "name": "stdout"
        },
        {
          "output_type": "stream",
          "text": [
            "convert squad examples to features: 100%|██████████| 1/1 [00:00<00:00, 26.26it/s]\n",
            "add example index and unique id: 100%|██████████| 1/1 [00:00<00:00, 2857.16it/s]\n"
          ],
          "name": "stderr"
        },
        {
          "output_type": "stream",
          "text": [
            "Got section:  Genetics and evolution\n",
            "Got subsection:  Fossils and extinction \n"
          ],
          "name": "stdout"
        },
        {
          "output_type": "stream",
          "text": [
            "convert squad examples to features: 100%|██████████| 1/1 [00:00<00:00, 22.72it/s]\n",
            "add example index and unique id: 100%|██████████| 1/1 [00:00<00:00, 2437.13it/s]\n"
          ],
          "name": "stderr"
        },
        {
          "output_type": "stream",
          "text": [
            "Got section:  Preventing and treating disease\n",
            "Got subsection:  Discovering and developing drugs\n"
          ],
          "name": "stdout"
        },
        {
          "output_type": "stream",
          "text": [
            "convert squad examples to features: 100%|██████████| 1/1 [00:00<00:00,  9.99it/s]\n",
            "add example index and unique id: 100%|██████████| 1/1 [00:00<00:00, 2108.75it/s]\n"
          ],
          "name": "stderr"
        },
        {
          "output_type": "stream",
          "text": [
            "Got section:  Genetics and evolution\n",
            "Got subsection:  Fossils and extinction \n"
          ],
          "name": "stdout"
        },
        {
          "output_type": "stream",
          "text": [
            "convert squad examples to features: 100%|██████████| 1/1 [00:00<00:00, 21.20it/s]\n",
            "add example index and unique id: 100%|██████████| 1/1 [00:00<00:00, 3715.06it/s]\n"
          ],
          "name": "stderr"
        },
        {
          "output_type": "stream",
          "text": [
            "Got section:  Preventing and treating disease\n",
            "Got subsection:  Discovering and developing drugs\n"
          ],
          "name": "stdout"
        },
        {
          "output_type": "stream",
          "text": [
            "convert squad examples to features: 100%|██████████| 1/1 [00:00<00:00,  9.98it/s]\n",
            "add example index and unique id: 100%|██████████| 1/1 [00:00<00:00, 2261.08it/s]\n"
          ],
          "name": "stderr"
        },
        {
          "output_type": "stream",
          "text": [
            "Got section:  Genetics and evolution\n",
            "Got subsection:  Fossils and extinction \n"
          ],
          "name": "stdout"
        },
        {
          "output_type": "stream",
          "text": [
            "convert squad examples to features: 100%|██████████| 1/1 [00:00<00:00, 22.34it/s]\n",
            "add example index and unique id: 100%|██████████| 1/1 [00:00<00:00, 2087.76it/s]\n"
          ],
          "name": "stderr"
        },
        {
          "output_type": "stream",
          "text": [
            "Got section:  Genetics and evolution\n",
            "Got subsection:  Fossils and extinction \n"
          ],
          "name": "stdout"
        },
        {
          "output_type": "stream",
          "text": [
            "convert squad examples to features: 100%|██████████| 1/1 [00:00<00:00, 22.47it/s]\n",
            "add example index and unique id: 100%|██████████| 1/1 [00:00<00:00, 1843.65it/s]\n"
          ],
          "name": "stderr"
        },
        {
          "output_type": "stream",
          "text": [
            "Got section:  Genetics and evolution\n",
            "Got subsection:  Classification\n"
          ],
          "name": "stdout"
        },
        {
          "output_type": "stream",
          "text": [
            "convert squad examples to features: 100%|██████████| 1/1 [00:00<00:00, 24.84it/s]\n",
            "add example index and unique id: 100%|██████████| 1/1 [00:00<00:00, 383.11it/s]\n"
          ],
          "name": "stderr"
        },
        {
          "output_type": "stream",
          "text": [
            "Got section:  Genetics and evolution\n",
            "Got subsection:  Fossils and extinction \n"
          ],
          "name": "stdout"
        },
        {
          "output_type": "stream",
          "text": [
            "convert squad examples to features: 100%|██████████| 1/1 [00:00<00:00, 18.41it/s]\n",
            "add example index and unique id: 100%|██████████| 1/1 [00:00<00:00, 2964.17it/s]\n"
          ],
          "name": "stderr"
        },
        {
          "output_type": "stream",
          "text": [
            "Got section:  Genetics and evolution\n",
            "Got subsection:  Fossils and extinction \n"
          ],
          "name": "stdout"
        },
        {
          "output_type": "stream",
          "text": [
            "convert squad examples to features: 100%|██████████| 1/1 [00:00<00:00, 22.61it/s]\n",
            "add example index and unique id: 100%|██████████| 1/1 [00:00<00:00, 2699.04it/s]\n"
          ],
          "name": "stderr"
        },
        {
          "output_type": "stream",
          "text": [
            "Got section:  Genetics and evolution\n",
            "Got subsection:  Fossils and extinction \n"
          ],
          "name": "stdout"
        },
        {
          "output_type": "stream",
          "text": [
            "convert squad examples to features: 100%|██████████| 1/1 [00:00<00:00, 23.12it/s]\n",
            "add example index and unique id: 100%|██████████| 1/1 [00:00<00:00, 2058.05it/s]\n"
          ],
          "name": "stderr"
        },
        {
          "output_type": "stream",
          "text": [
            "Got section:  Genetics and evolution\n",
            "Got subsection:  Fossils and extinction \n"
          ],
          "name": "stdout"
        },
        {
          "output_type": "stream",
          "text": [
            "convert squad examples to features: 100%|██████████| 1/1 [00:00<00:00, 24.49it/s]\n",
            "add example index and unique id: 100%|██████████| 1/1 [00:00<00:00, 3039.35it/s]\n"
          ],
          "name": "stderr"
        },
        {
          "output_type": "stream",
          "text": [
            "Got section:  Preventing and treating disease\n",
            "Got subsection:  Discovering and developing drugs\n"
          ],
          "name": "stdout"
        },
        {
          "output_type": "stream",
          "text": [
            "convert squad examples to features: 100%|██████████| 1/1 [00:00<00:00, 10.01it/s]\n",
            "add example index and unique id: 100%|██████████| 1/1 [00:00<00:00, 1723.21it/s]\n"
          ],
          "name": "stderr"
        },
        {
          "output_type": "stream",
          "text": [
            "Got section:  Genetics and evolution\n",
            "Got subsection:  Fossils and extinction \n"
          ],
          "name": "stdout"
        },
        {
          "output_type": "stream",
          "text": [
            "convert squad examples to features: 100%|██████████| 1/1 [00:00<00:00, 21.42it/s]\n",
            "add example index and unique id: 100%|██████████| 1/1 [00:00<00:00, 3799.19it/s]\n"
          ],
          "name": "stderr"
        },
        {
          "output_type": "stream",
          "text": [
            "Got section:  Preventing and treating disease\n",
            "Got subsection:  Discovering and developing drugs\n"
          ],
          "name": "stdout"
        },
        {
          "output_type": "stream",
          "text": [
            "convert squad examples to features: 100%|██████████| 1/1 [00:00<00:00, 10.44it/s]\n",
            "add example index and unique id: 100%|██████████| 1/1 [00:00<00:00, 3600.26it/s]\n"
          ],
          "name": "stderr"
        },
        {
          "output_type": "stream",
          "text": [
            "Got section:  Genetics and evolution\n",
            "Got subsection:  Fossils and extinction \n"
          ],
          "name": "stdout"
        },
        {
          "output_type": "stream",
          "text": [
            "convert squad examples to features: 100%|██████████| 1/1 [00:00<00:00, 23.51it/s]\n",
            "add example index and unique id: 100%|██████████| 1/1 [00:00<00:00, 2116.20it/s]\n"
          ],
          "name": "stderr"
        },
        {
          "output_type": "stream",
          "text": [
            "Got section:  Genetics and evolution\n",
            "Got subsection:  Fossils and extinction \n"
          ],
          "name": "stdout"
        },
        {
          "output_type": "stream",
          "text": [
            "convert squad examples to features: 100%|██████████| 1/1 [00:00<00:00, 21.76it/s]\n",
            "add example index and unique id: 100%|██████████| 1/1 [00:00<00:00, 472.38it/s]\n"
          ],
          "name": "stderr"
        },
        {
          "output_type": "stream",
          "text": [
            "Got section:  Genetics and evolution\n",
            "Got subsection:  Fossils and extinction \n"
          ],
          "name": "stdout"
        },
        {
          "output_type": "stream",
          "text": [
            "convert squad examples to features: 100%|██████████| 1/1 [00:00<00:00, 21.70it/s]\n",
            "add example index and unique id: 100%|██████████| 1/1 [00:00<00:00, 2528.21it/s]\n"
          ],
          "name": "stderr"
        },
        {
          "output_type": "stream",
          "text": [
            "Got section:  Preventing and treating disease\n",
            "Got subsection:  Discovering and developing drugs\n"
          ],
          "name": "stdout"
        },
        {
          "output_type": "stream",
          "text": [
            "convert squad examples to features: 100%|██████████| 1/1 [00:00<00:00, 10.30it/s]\n",
            "add example index and unique id: 100%|██████████| 1/1 [00:00<00:00, 4202.71it/s]\n"
          ],
          "name": "stderr"
        },
        {
          "output_type": "stream",
          "text": [
            "Got section:  Genetics and evolution\n",
            "Got subsection:  Fossils and extinction \n"
          ],
          "name": "stdout"
        },
        {
          "output_type": "stream",
          "text": [
            "convert squad examples to features: 100%|██████████| 1/1 [00:00<00:00, 23.69it/s]\n",
            "add example index and unique id: 100%|██████████| 1/1 [00:00<00:00, 3840.94it/s]\n"
          ],
          "name": "stderr"
        },
        {
          "output_type": "stream",
          "text": [
            "Got section:  Genetics and evolution\n",
            "Got subsection:  Fossils and extinction \n"
          ],
          "name": "stdout"
        },
        {
          "output_type": "stream",
          "text": [
            "convert squad examples to features: 100%|██████████| 1/1 [00:00<00:00, 22.44it/s]\n",
            "add example index and unique id: 100%|██████████| 1/1 [00:00<00:00, 3876.44it/s]\n"
          ],
          "name": "stderr"
        },
        {
          "output_type": "stream",
          "text": [
            "Got section:  Genetics and evolution\n",
            "Got subsection:  Fossils and extinction \n"
          ],
          "name": "stdout"
        },
        {
          "output_type": "stream",
          "text": [
            "convert squad examples to features: 100%|██████████| 1/1 [00:00<00:00, 21.03it/s]\n",
            "add example index and unique id: 100%|██████████| 1/1 [00:00<00:00, 3116.12it/s]\n"
          ],
          "name": "stderr"
        },
        {
          "output_type": "stream",
          "text": [
            "Got section:  Genetics and evolution\n",
            "Got subsection:  Fossils and extinction \n"
          ],
          "name": "stdout"
        },
        {
          "output_type": "stream",
          "text": [
            "convert squad examples to features: 100%|██████████| 1/1 [00:00<00:00, 23.08it/s]\n",
            "add example index and unique id: 100%|██████████| 1/1 [00:00<00:00, 2924.90it/s]\n"
          ],
          "name": "stderr"
        },
        {
          "output_type": "stream",
          "text": [
            "Got section:  Genetics and evolution\n",
            "Got subsection:  Fossils and extinction \n"
          ],
          "name": "stdout"
        },
        {
          "output_type": "stream",
          "text": [
            "convert squad examples to features: 100%|██████████| 1/1 [00:00<00:00, 24.09it/s]\n",
            "add example index and unique id: 100%|██████████| 1/1 [00:00<00:00, 3429.52it/s]\n"
          ],
          "name": "stderr"
        },
        {
          "output_type": "stream",
          "text": [
            "Got section:  Genetics and evolution\n",
            "Got subsection:  Fossils and extinction \n"
          ],
          "name": "stdout"
        },
        {
          "output_type": "stream",
          "text": [
            "convert squad examples to features: 100%|██████████| 1/1 [00:00<00:00, 20.36it/s]\n",
            "add example index and unique id: 100%|██████████| 1/1 [00:00<00:00, 2461.45it/s]\n"
          ],
          "name": "stderr"
        },
        {
          "output_type": "stream",
          "text": [
            "Got section:  Genetics and evolution\n",
            "Got subsection:  Fossils and extinction \n"
          ],
          "name": "stdout"
        },
        {
          "output_type": "stream",
          "text": [
            "convert squad examples to features: 100%|██████████| 1/1 [00:00<00:00, 22.75it/s]\n",
            "add example index and unique id: 100%|██████████| 1/1 [00:00<00:00, 1952.66it/s]\n"
          ],
          "name": "stderr"
        },
        {
          "output_type": "stream",
          "text": [
            "Got section:  Preventing and treating disease\n",
            "Got subsection:  Discovering and developing drugs\n"
          ],
          "name": "stdout"
        },
        {
          "output_type": "stream",
          "text": [
            "convert squad examples to features: 100%|██████████| 1/1 [00:00<00:00, 10.26it/s]\n",
            "add example index and unique id: 100%|██████████| 1/1 [00:00<00:00, 1808.67it/s]\n"
          ],
          "name": "stderr"
        },
        {
          "output_type": "stream",
          "text": [
            "Got section:  Genetics and evolution\n",
            "Got subsection:  Fossils and extinction \n"
          ],
          "name": "stdout"
        },
        {
          "output_type": "stream",
          "text": [
            "convert squad examples to features: 100%|██████████| 1/1 [00:00<00:00, 22.57it/s]\n",
            "add example index and unique id: 100%|██████████| 1/1 [00:00<00:00, 535.81it/s]\n"
          ],
          "name": "stderr"
        },
        {
          "output_type": "stream",
          "text": [
            "Got section:  Genetics and evolution\n",
            "Got subsection:  Fossils and extinction \n"
          ],
          "name": "stdout"
        },
        {
          "output_type": "stream",
          "text": [
            "convert squad examples to features: 100%|██████████| 1/1 [00:00<00:00, 22.73it/s]\n",
            "add example index and unique id: 100%|██████████| 1/1 [00:00<00:00, 3927.25it/s]\n"
          ],
          "name": "stderr"
        },
        {
          "output_type": "stream",
          "text": [
            "Got section:  Genetics and evolution\n",
            "Got subsection:  Classification\n"
          ],
          "name": "stdout"
        },
        {
          "output_type": "stream",
          "text": [
            "convert squad examples to features: 100%|██████████| 1/1 [00:00<00:00, 23.43it/s]\n",
            "add example index and unique id: 100%|██████████| 1/1 [00:00<00:00, 4006.02it/s]\n"
          ],
          "name": "stderr"
        },
        {
          "output_type": "stream",
          "text": [
            "Got section:  Genetics and evolution\n",
            "Got subsection:  Fossils and extinction \n"
          ],
          "name": "stdout"
        },
        {
          "output_type": "stream",
          "text": [
            "convert squad examples to features: 100%|██████████| 1/1 [00:00<00:00, 22.94it/s]\n",
            "add example index and unique id: 100%|██████████| 1/1 [00:00<00:00, 2577.94it/s]\n"
          ],
          "name": "stderr"
        },
        {
          "output_type": "stream",
          "text": [
            "Got section:  Genetics and evolution\n",
            "Got subsection:  Fossils and extinction \n"
          ],
          "name": "stdout"
        },
        {
          "output_type": "stream",
          "text": [
            "convert squad examples to features: 100%|██████████| 1/1 [00:00<00:00, 23.13it/s]\n",
            "add example index and unique id: 100%|██████████| 1/1 [00:00<00:00, 2661.36it/s]\n"
          ],
          "name": "stderr"
        },
        {
          "output_type": "stream",
          "text": [
            "Got section:  Genetics and evolution\n",
            "Got subsection:  Fossils and extinction \n"
          ],
          "name": "stdout"
        },
        {
          "output_type": "stream",
          "text": [
            "convert squad examples to features: 100%|██████████| 1/1 [00:00<00:00, 22.65it/s]\n",
            "add example index and unique id: 100%|██████████| 1/1 [00:00<00:00, 3584.88it/s]\n"
          ],
          "name": "stderr"
        },
        {
          "output_type": "stream",
          "text": [
            "Got section:  Genetics and evolution\n",
            "Got subsection:  Fossils and extinction \n"
          ],
          "name": "stdout"
        },
        {
          "output_type": "stream",
          "text": [
            "convert squad examples to features: 100%|██████████| 1/1 [00:00<00:00, 20.01it/s]\n",
            "add example index and unique id: 100%|██████████| 1/1 [00:00<00:00, 1069.98it/s]\n"
          ],
          "name": "stderr"
        },
        {
          "output_type": "stream",
          "text": [
            "Got section:  Cell Strucuture and transport\n",
            "Got subsection:  Animal and plant cells\n"
          ],
          "name": "stdout"
        },
        {
          "output_type": "stream",
          "text": [
            "convert squad examples to features: 100%|██████████| 1/1 [00:00<00:00, 25.80it/s]\n",
            "add example index and unique id: 100%|██████████| 1/1 [00:00<00:00, 2910.69it/s]\n"
          ],
          "name": "stderr"
        },
        {
          "output_type": "stream",
          "text": [
            "Got section:  Preventing and treating disease\n",
            "Got subsection:  Discovering and developing drugs\n"
          ],
          "name": "stdout"
        },
        {
          "output_type": "stream",
          "text": [
            "convert squad examples to features: 100%|██████████| 1/1 [00:00<00:00,  9.18it/s]\n",
            "add example index and unique id: 100%|██████████| 1/1 [00:00<00:00, 2511.56it/s]\n"
          ],
          "name": "stderr"
        },
        {
          "output_type": "stream",
          "text": [
            "Got section:  Genetics and evolution\n",
            "Got subsection:  Classification\n"
          ],
          "name": "stdout"
        },
        {
          "output_type": "stream",
          "text": [
            "convert squad examples to features: 100%|██████████| 1/1 [00:00<00:00, 22.39it/s]\n",
            "add example index and unique id: 100%|██████████| 1/1 [00:00<00:00, 4809.98it/s]\n"
          ],
          "name": "stderr"
        },
        {
          "output_type": "stream",
          "text": [
            "83.853301905\n"
          ],
          "name": "stdout"
        }
      ]
    },
    {
      "cell_type": "code",
      "metadata": {
        "id": "WMozIOtVO3hm",
        "colab_type": "code",
        "outputId": "950b977f-3a2d-49ae-8681-f0d8884f25f8",
        "colab": {
          "base_uri": "https://localhost:8080/",
          "height": 1000
        }
      },
      "source": [
        "# Question answering from Section classifier only\n",
        "\n",
        "start = time.process_time()\n",
        "for question in final_test_df[\"Question\"]:\n",
        "  answer = answer_it_BERT_1(question)\n",
        "  final_test_df.loc[final_test_df[\"Question\"] == question, \"Answer\"] = answer\n",
        "\n",
        "final_test_df.head(10)\n",
        "\n",
        "print(time.process_time() - start)"
      ],
      "execution_count": 0,
      "outputs": [
        {
          "output_type": "stream",
          "text": [
            "\n",
            "convert squad examples to features:   0%|          | 0/1 [00:00<?, ?it/s]\u001b[A\n",
            "convert squad examples to features: 100%|██████████| 1/1 [00:00<00:00,  1.79it/s]\n",
            "\n",
            "add example index and unique id: 100%|██████████| 1/1 [00:00<00:00, 9039.45it/s]\n",
            "\n",
            "convert squad examples to features:   0%|          | 0/1 [00:00<?, ?it/s]\u001b[A\n",
            "convert squad examples to features: 100%|██████████| 1/1 [00:00<00:00,  3.13it/s]\n",
            "\n",
            "add example index and unique id: 100%|██████████| 1/1 [00:00<00:00, 7319.90it/s]\n",
            "\n",
            "convert squad examples to features:   0%|          | 0/1 [00:00<?, ?it/s]\u001b[A\n",
            "convert squad examples to features: 100%|██████████| 1/1 [00:00<00:00,  1.84it/s]\n",
            "\n",
            "add example index and unique id: 100%|██████████| 1/1 [00:00<00:00, 7145.32it/s]\n",
            "\n",
            "convert squad examples to features:   0%|          | 0/1 [00:00<?, ?it/s]\u001b[A\n",
            "convert squad examples to features: 100%|██████████| 1/1 [00:00<00:00,  1.77it/s]\n",
            "\n",
            "add example index and unique id: 100%|██████████| 1/1 [00:00<00:00, 3994.58it/s]\n",
            "\n",
            "convert squad examples to features:   0%|          | 0/1 [00:00<?, ?it/s]\u001b[A\n",
            "convert squad examples to features: 100%|██████████| 1/1 [00:00<00:00,  1.82it/s]\n",
            "\n",
            "add example index and unique id: 100%|██████████| 1/1 [00:00<00:00, 9404.27it/s]\n",
            "\n",
            "convert squad examples to features:   0%|          | 0/1 [00:00<?, ?it/s]\u001b[A\n",
            "convert squad examples to features: 100%|██████████| 1/1 [00:00<00:00,  1.74it/s]\n",
            "\n",
            "add example index and unique id: 100%|██████████| 1/1 [00:00<00:00, 2464.34it/s]\n",
            "\n",
            "convert squad examples to features:   0%|          | 0/1 [00:00<?, ?it/s]\u001b[A\n",
            "convert squad examples to features: 100%|██████████| 1/1 [00:00<00:00,  3.08it/s]\n",
            "\n",
            "add example index and unique id: 100%|██████████| 1/1 [00:00<00:00, 5991.86it/s]\n",
            "\n",
            "convert squad examples to features:   0%|          | 0/1 [00:00<?, ?it/s]\u001b[A\n",
            "convert squad examples to features: 100%|██████████| 1/1 [00:00<00:00,  1.80it/s]\n",
            "\n",
            "add example index and unique id: 100%|██████████| 1/1 [00:00<00:00, 6875.91it/s]\n",
            "\n",
            "convert squad examples to features:   0%|          | 0/1 [00:00<?, ?it/s]\u001b[A\n",
            "convert squad examples to features: 100%|██████████| 1/1 [00:00<00:00,  1.72it/s]\n",
            "\n",
            "add example index and unique id: 100%|██████████| 1/1 [00:00<00:00, 4266.84it/s]\n",
            "\n",
            "convert squad examples to features:   0%|          | 0/1 [00:00<?, ?it/s]\u001b[A\n",
            "convert squad examples to features: 100%|██████████| 1/1 [00:00<00:00,  1.80it/s]\n",
            "\n",
            "add example index and unique id: 100%|██████████| 1/1 [00:00<00:00, 2748.56it/s]\n",
            "\n",
            "convert squad examples to features:   0%|          | 0/1 [00:00<?, ?it/s]\u001b[A\n",
            "convert squad examples to features: 100%|██████████| 1/1 [00:00<00:00,  1.79it/s]\n",
            "\n",
            "add example index and unique id: 100%|██████████| 1/1 [00:00<00:00, 7543.71it/s]\n",
            "\n",
            "convert squad examples to features:   0%|          | 0/1 [00:00<?, ?it/s]\u001b[A\n",
            "convert squad examples to features: 100%|██████████| 1/1 [00:00<00:00,  1.80it/s]\n",
            "\n",
            "add example index and unique id: 100%|██████████| 1/1 [00:00<00:00, 5825.42it/s]\n",
            "\n",
            "convert squad examples to features:   0%|          | 0/1 [00:00<?, ?it/s]\u001b[A\n",
            "convert squad examples to features: 100%|██████████| 1/1 [00:00<00:00,  1.82it/s]\n",
            "\n",
            "add example index and unique id: 100%|██████████| 1/1 [00:00<00:00, 3628.29it/s]\n",
            "\n",
            "convert squad examples to features:   0%|          | 0/1 [00:00<?, ?it/s]\u001b[A\n",
            "convert squad examples to features: 100%|██████████| 1/1 [00:00<00:00,  3.05it/s]\n",
            "\n",
            "add example index and unique id: 100%|██████████| 1/1 [00:00<00:00, 2584.29it/s]\n",
            "\n",
            "convert squad examples to features:   0%|          | 0/1 [00:00<?, ?it/s]\u001b[A\n",
            "convert squad examples to features: 100%|██████████| 1/1 [00:00<00:00,  1.84it/s]\n",
            "\n",
            "add example index and unique id: 100%|██████████| 1/1 [00:00<00:00, 3744.91it/s]\n",
            "\n",
            "convert squad examples to features:   0%|          | 0/1 [00:00<?, ?it/s]\u001b[A\n",
            "convert squad examples to features: 100%|██████████| 1/1 [00:00<00:00,  2.97it/s]\n",
            "\n",
            "add example index and unique id: 100%|██████████| 1/1 [00:00<00:00, 6721.64it/s]\n",
            "\n",
            "convert squad examples to features:   0%|          | 0/1 [00:00<?, ?it/s]\u001b[A\n",
            "convert squad examples to features: 100%|██████████| 1/1 [00:00<00:00,  1.79it/s]\n",
            "\n",
            "add example index and unique id: 100%|██████████| 1/1 [00:00<00:00, 5607.36it/s]\n",
            "\n",
            "convert squad examples to features:   0%|          | 0/1 [00:00<?, ?it/s]\u001b[A\n",
            "convert squad examples to features: 100%|██████████| 1/1 [00:00<00:00,  1.82it/s]\n",
            "\n",
            "add example index and unique id: 100%|██████████| 1/1 [00:00<00:00, 2442.81it/s]\n",
            "\n",
            "convert squad examples to features:   0%|          | 0/1 [00:00<?, ?it/s]\u001b[A\n",
            "convert squad examples to features: 100%|██████████| 1/1 [00:00<00:00,  1.76it/s]\n",
            "\n",
            "add example index and unique id: 100%|██████████| 1/1 [00:00<00:00, 3002.37it/s]\n",
            "\n",
            "convert squad examples to features:   0%|          | 0/1 [00:00<?, ?it/s]\u001b[A\n",
            "convert squad examples to features: 100%|██████████| 1/1 [00:00<00:00,  1.82it/s]\n",
            "\n",
            "add example index and unique id: 100%|██████████| 1/1 [00:00<00:00, 4539.29it/s]\n",
            "\n",
            "convert squad examples to features:   0%|          | 0/1 [00:00<?, ?it/s]\u001b[A\n",
            "convert squad examples to features: 100%|██████████| 1/1 [00:00<00:00,  1.75it/s]\n",
            "\n",
            "add example index and unique id: 100%|██████████| 1/1 [00:00<00:00, 6413.31it/s]\n",
            "\n",
            "convert squad examples to features:   0%|          | 0/1 [00:00<?, ?it/s]\u001b[A\n",
            "convert squad examples to features: 100%|██████████| 1/1 [00:00<00:00,  1.80it/s]\n",
            "\n",
            "add example index and unique id: 100%|██████████| 1/1 [00:00<00:00, 5562.74it/s]\n",
            "\n",
            "convert squad examples to features:   0%|          | 0/1 [00:00<?, ?it/s]\u001b[A\n",
            "convert squad examples to features: 100%|██████████| 1/1 [00:00<00:00,  1.77it/s]\n",
            "\n",
            "add example index and unique id: 100%|██████████| 1/1 [00:00<00:00, 4899.89it/s]\n",
            "\n",
            "convert squad examples to features:   0%|          | 0/1 [00:00<?, ?it/s]\u001b[A\n",
            "convert squad examples to features: 100%|██████████| 1/1 [00:00<00:00,  3.01it/s]\n",
            "\n",
            "add example index and unique id: 100%|██████████| 1/1 [00:00<00:00, 8943.08it/s]\n",
            "\n",
            "convert squad examples to features:   0%|          | 0/1 [00:00<?, ?it/s]\u001b[A\n",
            "convert squad examples to features: 100%|██████████| 1/1 [00:00<00:00,  1.83it/s]\n",
            "\n",
            "add example index and unique id: 100%|██████████| 1/1 [00:00<00:00, 4821.04it/s]\n",
            "\n",
            "convert squad examples to features:   0%|          | 0/1 [00:00<?, ?it/s]\u001b[A\n",
            "convert squad examples to features: 100%|██████████| 1/1 [00:00<00:00,  3.02it/s]\n",
            "\n",
            "add example index and unique id: 100%|██████████| 1/1 [00:00<00:00, 4293.04it/s]\n",
            "\n",
            "convert squad examples to features:   0%|          | 0/1 [00:00<?, ?it/s]\u001b[A\n",
            "convert squad examples to features: 100%|██████████| 1/1 [00:00<00:00,  1.78it/s]\n",
            "\n",
            "add example index and unique id: 100%|██████████| 1/1 [00:00<00:00, 9020.01it/s]\n",
            "\n",
            "convert squad examples to features:   0%|          | 0/1 [00:00<?, ?it/s]\u001b[A\n",
            "convert squad examples to features: 100%|██████████| 1/1 [00:00<00:00,  1.84it/s]\n",
            "\n",
            "add example index and unique id: 100%|██████████| 1/1 [00:00<00:00, 5511.57it/s]\n",
            "\n",
            "convert squad examples to features:   0%|          | 0/1 [00:00<?, ?it/s]\u001b[A\n",
            "convert squad examples to features: 100%|██████████| 1/1 [00:00<00:00,  1.80it/s]\n",
            "\n",
            "add example index and unique id: 100%|██████████| 1/1 [00:00<00:00, 3472.11it/s]\n",
            "\n",
            "convert squad examples to features:   0%|          | 0/1 [00:00<?, ?it/s]\u001b[A\n",
            "convert squad examples to features: 100%|██████████| 1/1 [00:00<00:00,  2.84it/s]\n",
            "\n",
            "add example index and unique id: 100%|██████████| 1/1 [00:00<00:00, 4485.89it/s]\n",
            "\n",
            "convert squad examples to features:   0%|          | 0/1 [00:00<?, ?it/s]\u001b[A\n",
            "convert squad examples to features: 100%|██████████| 1/1 [00:00<00:00,  1.72it/s]\n",
            "\n",
            "add example index and unique id: 100%|██████████| 1/1 [00:00<00:00, 1627.59it/s]\n",
            "\n",
            "convert squad examples to features:   0%|          | 0/1 [00:00<?, ?it/s]\u001b[A\n",
            "convert squad examples to features: 100%|██████████| 1/1 [00:00<00:00,  1.78it/s]\n",
            "\n",
            "add example index and unique id: 100%|██████████| 1/1 [00:00<00:00, 3551.49it/s]\n",
            "\n",
            "convert squad examples to features:   0%|          | 0/1 [00:00<?, ?it/s]\u001b[A\n",
            "convert squad examples to features: 100%|██████████| 1/1 [00:00<00:00,  1.79it/s]\n",
            "\n",
            "add example index and unique id: 100%|██████████| 1/1 [00:00<00:00, 6502.80it/s]\n",
            "\n",
            "convert squad examples to features:   0%|          | 0/1 [00:00<?, ?it/s]\u001b[A\n",
            "convert squad examples to features: 100%|██████████| 1/1 [00:00<00:00,  1.79it/s]\n",
            "\n",
            "add example index and unique id: 100%|██████████| 1/1 [00:00<00:00, 6026.30it/s]\n",
            "\n",
            "convert squad examples to features:   0%|          | 0/1 [00:00<?, ?it/s]\u001b[A\n",
            "convert squad examples to features: 100%|██████████| 1/1 [00:00<00:00,  1.82it/s]\n",
            "\n",
            "add example index and unique id: 100%|██████████| 1/1 [00:00<00:00, 1037.17it/s]\n",
            "\n",
            "convert squad examples to features:   0%|          | 0/1 [00:00<?, ?it/s]\u001b[A\n",
            "convert squad examples to features: 100%|██████████| 1/1 [00:00<00:00,  1.79it/s]\n",
            "\n",
            "add example index and unique id: 100%|██████████| 1/1 [00:00<00:00, 1716.87it/s]\n",
            "\n",
            "convert squad examples to features:   0%|          | 0/1 [00:00<?, ?it/s]\u001b[A\n",
            "convert squad examples to features: 100%|██████████| 1/1 [00:00<00:00,  1.74it/s]\n",
            "\n",
            "add example index and unique id: 100%|██████████| 1/1 [00:00<00:00, 8943.08it/s]\n",
            "\n",
            "convert squad examples to features:   0%|          | 0/1 [00:00<?, ?it/s]\u001b[A\n",
            "convert squad examples to features: 100%|██████████| 1/1 [00:00<00:00,  2.89it/s]\n",
            "\n",
            "add example index and unique id: 100%|██████████| 1/1 [00:00<00:00, 7973.96it/s]\n",
            "\n",
            "convert squad examples to features:   0%|          | 0/1 [00:00<?, ?it/s]\u001b[A\n",
            "convert squad examples to features: 100%|██████████| 1/1 [00:00<00:00,  1.77it/s]\n",
            "\n",
            "add example index and unique id: 100%|██████████| 1/1 [00:00<00:00, 1723.92it/s]\n",
            "\n",
            "convert squad examples to features:   0%|          | 0/1 [00:00<?, ?it/s]\u001b[A\n",
            "convert squad examples to features: 100%|██████████| 1/1 [00:00<00:00,  1.82it/s]\n",
            "\n",
            "add example index and unique id: 100%|██████████| 1/1 [00:00<00:00, 1662.43it/s]\n",
            "\n",
            "convert squad examples to features:   0%|          | 0/1 [00:00<?, ?it/s]\u001b[A\n",
            "convert squad examples to features: 100%|██████████| 1/1 [00:00<00:00,  1.75it/s]\n",
            "\n",
            "add example index and unique id: 100%|██████████| 1/1 [00:00<00:00, 3830.41it/s]\n",
            "\n",
            "convert squad examples to features:   0%|          | 0/1 [00:00<?, ?it/s]\u001b[A\n",
            "convert squad examples to features: 100%|██████████| 1/1 [00:00<00:00,  1.81it/s]\n",
            "\n",
            "add example index and unique id: 100%|██████████| 1/1 [00:00<00:00, 4843.31it/s]\n",
            "\n",
            "convert squad examples to features:   0%|          | 0/1 [00:00<?, ?it/s]\u001b[A\n",
            "convert squad examples to features: 100%|██████████| 1/1 [00:00<00:00,  1.80it/s]\n",
            "\n",
            "add example index and unique id: 100%|██████████| 1/1 [00:00<00:00, 5440.08it/s]\n",
            "\n",
            "convert squad examples to features:   0%|          | 0/1 [00:00<?, ?it/s]\u001b[A\n",
            "convert squad examples to features: 100%|██████████| 1/1 [00:00<00:00,  1.72it/s]\n",
            "\n",
            "add example index and unique id: 100%|██████████| 1/1 [00:00<00:00, 6452.78it/s]\n",
            "\n",
            "convert squad examples to features:   0%|          | 0/1 [00:00<?, ?it/s]\u001b[A\n",
            "convert squad examples to features: 100%|██████████| 1/1 [00:00<00:00,  1.75it/s]\n",
            "\n",
            "add example index and unique id: 100%|██████████| 1/1 [00:00<00:00, 6374.32it/s]\n",
            "\n",
            "convert squad examples to features:   0%|          | 0/1 [00:00<?, ?it/s]\u001b[A\n",
            "convert squad examples to features: 100%|██████████| 1/1 [00:00<00:00,  1.98it/s]\n",
            "\n",
            "add example index and unique id: 100%|██████████| 1/1 [00:00<00:00, 2814.97it/s]\n",
            "\n",
            "convert squad examples to features:   0%|          | 0/1 [00:00<?, ?it/s]\u001b[A\n",
            "convert squad examples to features: 100%|██████████| 1/1 [00:00<00:00,  2.95it/s]\n",
            "\n",
            "add example index and unique id: 100%|██████████| 1/1 [00:00<00:00, 5398.07it/s]\n",
            "\n",
            "convert squad examples to features:   0%|          | 0/1 [00:00<?, ?it/s]\u001b[A\n",
            "convert squad examples to features: 100%|██████████| 1/1 [00:00<00:00,  1.78it/s]\n",
            "\n",
            "add example index and unique id: 100%|██████████| 1/1 [00:00<00:00, 4505.16it/s]\n"
          ],
          "name": "stderr"
        },
        {
          "output_type": "stream",
          "text": [
            "309.9247868780003\n"
          ],
          "name": "stdout"
        }
      ]
    },
    {
      "cell_type": "code",
      "metadata": {
        "id": "QxpIy7tzSVAG",
        "colab_type": "code",
        "colab": {}
      },
      "source": [
        "final_test_df.head(50)"
      ],
      "execution_count": 0,
      "outputs": []
    },
    {
      "cell_type": "code",
      "metadata": {
        "id": "gKpNfjwQPShm",
        "colab_type": "code",
        "colab": {}
      },
      "source": [
        "final_test_df.to_csv(\"drive/My Drive/Layer 1 Models/Final_Test_Set_Sections_answered.csv\")"
      ],
      "execution_count": 0,
      "outputs": []
    },
    {
      "cell_type": "code",
      "metadata": {
        "id": "TbIEkfQzFvfN",
        "colab_type": "code",
        "outputId": "18c3eea1-fc97-4d0f-dc54-043c0a33a41f",
        "colab": {
          "base_uri": "https://localhost:8080/",
          "height": 1000
        }
      },
      "source": [
        "# Question answering from Main-Category classifier only\n",
        "\n",
        "start = time.process_time()\n",
        "for question in final_test_df[\"Question\"]:\n",
        "  answer = answer_it_BERT_2(question)\n",
        "  final_test_df.loc[final_test_df[\"Question\"] == question, \"Answer\"] = answer\n",
        "\n",
        "final_test_df.head(10)\n",
        "\n",
        "print(time.process_time() - start)"
      ],
      "execution_count": 0,
      "outputs": [
        {
          "output_type": "stream",
          "text": [
            "\n",
            "convert squad examples to features:   0%|          | 0/1 [00:00<?, ?it/s]\u001b[A\n",
            "convert squad examples to features: 100%|██████████| 1/1 [00:00<00:00,  1.07it/s]\n",
            "\n",
            "add example index and unique id: 100%|██████████| 1/1 [00:00<00:00, 3724.96it/s]\n",
            "\n",
            "convert squad examples to features:   0%|          | 0/1 [00:00<?, ?it/s]\u001b[A\n",
            "convert squad examples to features: 100%|██████████| 1/1 [00:02<00:00,  2.40s/it]\n",
            "\n",
            "add example index and unique id: 100%|██████████| 1/1 [00:00<00:00, 4044.65it/s]\n",
            "\n",
            "convert squad examples to features:   0%|          | 0/1 [00:00<?, ?it/s]\u001b[A\n",
            "convert squad examples to features: 100%|██████████| 1/1 [00:02<00:00,  2.45s/it]\n",
            "\n",
            "add example index and unique id: 100%|██████████| 1/1 [00:00<00:00, 3603.35it/s]\n",
            "\n",
            "convert squad examples to features:   0%|          | 0/1 [00:00<?, ?it/s]\u001b[A\n",
            "convert squad examples to features: 100%|██████████| 1/1 [00:02<00:00,  2.41s/it]\n",
            "\n",
            "add example index and unique id: 100%|██████████| 1/1 [00:00<00:00, 3887.21it/s]\n",
            "\n",
            "convert squad examples to features:   0%|          | 0/1 [00:00<?, ?it/s]\u001b[A\n",
            "convert squad examples to features: 100%|██████████| 1/1 [00:02<00:00,  2.49s/it]\n",
            "\n",
            "add example index and unique id: 100%|██████████| 1/1 [00:00<00:00, 3527.59it/s]\n",
            "\n",
            "convert squad examples to features:   0%|          | 0/1 [00:00<?, ?it/s]\u001b[A\n",
            "convert squad examples to features: 100%|██████████| 1/1 [00:02<00:00,  2.40s/it]\n",
            "\n",
            "add example index and unique id: 100%|██████████| 1/1 [00:00<00:00, 2896.62it/s]\n",
            "\n",
            "convert squad examples to features:   0%|          | 0/1 [00:00<?, ?it/s]\u001b[A\n",
            "convert squad examples to features: 100%|██████████| 1/1 [00:02<00:00,  2.38s/it]\n",
            "\n",
            "add example index and unique id: 100%|██████████| 1/1 [00:00<00:00, 3701.95it/s]\n",
            "\n",
            "convert squad examples to features:   0%|          | 0/1 [00:00<?, ?it/s]\u001b[A\n",
            "convert squad examples to features: 100%|██████████| 1/1 [00:02<00:00,  2.39s/it]\n",
            "\n",
            "add example index and unique id: 100%|██████████| 1/1 [00:00<00:00, 2642.91it/s]\n",
            "\n",
            "convert squad examples to features:   0%|          | 0/1 [00:00<?, ?it/s]\u001b[A\n",
            "convert squad examples to features: 100%|██████████| 1/1 [00:02<00:00,  2.43s/it]\n",
            "\n",
            "add example index and unique id: 100%|██████████| 1/1 [00:00<00:00, 3160.74it/s]\n",
            "\n",
            "convert squad examples to features:   0%|          | 0/1 [00:00<?, ?it/s]\u001b[A\n",
            "convert squad examples to features: 100%|██████████| 1/1 [00:02<00:00,  2.42s/it]\n",
            "\n",
            "add example index and unique id: 100%|██████████| 1/1 [00:00<00:00, 3344.74it/s]\n",
            "\n",
            "convert squad examples to features:   0%|          | 0/1 [00:00<?, ?it/s]\u001b[A\n",
            "convert squad examples to features: 100%|██████████| 1/1 [00:02<00:00,  2.41s/it]\n",
            "\n",
            "add example index and unique id: 100%|██████████| 1/1 [00:00<00:00, 3026.19it/s]\n",
            "\n",
            "convert squad examples to features:   0%|          | 0/1 [00:00<?, ?it/s]\u001b[A\n",
            "convert squad examples to features: 100%|██████████| 1/1 [00:02<00:00,  2.42s/it]\n",
            "\n",
            "add example index and unique id: 100%|██████████| 1/1 [00:00<00:00, 3075.00it/s]\n",
            "\n",
            "convert squad examples to features:   0%|          | 0/1 [00:00<?, ?it/s]\u001b[A\n",
            "convert squad examples to features: 100%|██████████| 1/1 [00:02<00:00,  2.42s/it]\n",
            "\n",
            "add example index and unique id: 100%|██████████| 1/1 [00:00<00:00, 4539.29it/s]\n",
            "\n",
            "convert squad examples to features:   0%|          | 0/1 [00:00<?, ?it/s]\u001b[A\n",
            "convert squad examples to features: 100%|██████████| 1/1 [00:02<00:00,  2.40s/it]\n",
            "\n",
            "add example index and unique id: 100%|██████████| 1/1 [00:00<00:00, 3160.74it/s]\n",
            "\n",
            "convert squad examples to features:   0%|          | 0/1 [00:00<?, ?it/s]\u001b[A\n",
            "convert squad examples to features: 100%|██████████| 1/1 [00:02<00:00,  2.38s/it]\n",
            "\n",
            "add example index and unique id: 100%|██████████| 1/1 [00:00<00:00, 1800.13it/s]\n",
            "\n",
            "convert squad examples to features:   0%|          | 0/1 [00:00<?, ?it/s]\u001b[A\n",
            "convert squad examples to features: 100%|██████████| 1/1 [00:02<00:00,  2.41s/it]\n",
            "\n",
            "add example index and unique id: 100%|██████████| 1/1 [00:00<00:00, 3806.08it/s]\n",
            "\n",
            "convert squad examples to features:   0%|          | 0/1 [00:00<?, ?it/s]\u001b[A\n",
            "convert squad examples to features: 100%|██████████| 1/1 [00:02<00:00,  2.50s/it]\n",
            "\n",
            "add example index and unique id: 100%|██████████| 1/1 [00:00<00:00, 1075.46it/s]\n",
            "\n",
            "convert squad examples to features:   0%|          | 0/1 [00:00<?, ?it/s]\u001b[A\n",
            "convert squad examples to features: 100%|██████████| 1/1 [00:02<00:00,  2.51s/it]\n",
            "\n",
            "add example index and unique id: 100%|██████████| 1/1 [00:00<00:00, 1721.80it/s]\n",
            "\n",
            "convert squad examples to features:   0%|          | 0/1 [00:00<?, ?it/s]\u001b[A\n",
            "convert squad examples to features: 100%|██████████| 1/1 [00:02<00:00,  2.51s/it]\n",
            "\n",
            "add example index and unique id: 100%|██████████| 1/1 [00:00<00:00, 2123.70it/s]\n",
            "\n",
            "convert squad examples to features:   0%|          | 0/1 [00:00<?, ?it/s]\u001b[A\n",
            "convert squad examples to features: 100%|██████████| 1/1 [00:02<00:00,  2.51s/it]\n",
            "\n",
            "add example index and unique id: 100%|██████████| 1/1 [00:00<00:00, 1084.36it/s]\n",
            "\n",
            "convert squad examples to features:   0%|          | 0/1 [00:00<?, ?it/s]\u001b[A\n",
            "convert squad examples to features: 100%|██████████| 1/1 [00:02<00:00,  2.47s/it]\n",
            "\n",
            "add example index and unique id: 100%|██████████| 1/1 [00:00<00:00, 4036.87it/s]\n",
            "\n",
            "convert squad examples to features:   0%|          | 0/1 [00:00<?, ?it/s]\u001b[A\n",
            "convert squad examples to features: 100%|██████████| 1/1 [00:02<00:00,  2.45s/it]\n",
            "\n",
            "add example index and unique id: 100%|██████████| 1/1 [00:00<00:00, 3068.25it/s]\n",
            "\n",
            "convert squad examples to features:   0%|          | 0/1 [00:00<?, ?it/s]\u001b[A\n",
            "convert squad examples to features: 100%|██████████| 1/1 [00:02<00:00,  2.54s/it]\n",
            "\n",
            "add example index and unique id: 100%|██████████| 1/1 [00:00<00:00, 1774.99it/s]\n",
            "\n",
            "convert squad examples to features:   0%|          | 0/1 [00:00<?, ?it/s]\u001b[A\n",
            "convert squad examples to features: 100%|██████████| 1/1 [00:02<00:00,  2.46s/it]\n",
            "\n",
            "add example index and unique id: 100%|██████████| 1/1 [00:00<00:00, 2922.86it/s]\n",
            "\n",
            "convert squad examples to features:   0%|          | 0/1 [00:00<?, ?it/s]\u001b[A\n",
            "convert squad examples to features: 100%|██████████| 1/1 [00:00<00:00,  1.04it/s]\n",
            "\n",
            "add example index and unique id: 100%|██████████| 1/1 [00:00<00:00, 2470.14it/s]\n",
            "\n",
            "convert squad examples to features:   0%|          | 0/1 [00:00<?, ?it/s]\u001b[A\n",
            "convert squad examples to features: 100%|██████████| 1/1 [00:02<00:00,  2.46s/it]\n",
            "\n",
            "add example index and unique id: 100%|██████████| 1/1 [00:00<00:00, 3300.00it/s]\n",
            "\n",
            "convert squad examples to features:   0%|          | 0/1 [00:00<?, ?it/s]\u001b[A\n",
            "convert squad examples to features: 100%|██████████| 1/1 [00:02<00:00,  2.53s/it]\n",
            "\n",
            "add example index and unique id: 100%|██████████| 1/1 [00:00<00:00, 4987.28it/s]\n",
            "\n",
            "convert squad examples to features:   0%|          | 0/1 [00:00<?, ?it/s]\u001b[A\n",
            "convert squad examples to features: 100%|██████████| 1/1 [00:02<00:00,  2.48s/it]\n",
            "\n",
            "add example index and unique id: 100%|██████████| 1/1 [00:00<00:00, 3637.73it/s]\n",
            "\n",
            "convert squad examples to features:   0%|          | 0/1 [00:00<?, ?it/s]\u001b[A\n",
            "convert squad examples to features: 100%|██████████| 1/1 [00:00<00:00,  1.02it/s]\n",
            "\n",
            "add example index and unique id: 100%|██████████| 1/1 [00:00<00:00, 5289.16it/s]\n",
            "\n",
            "convert squad examples to features:   0%|          | 0/1 [00:00<?, ?it/s]\u001b[A\n",
            "convert squad examples to features: 100%|██████████| 1/1 [00:02<00:00,  2.40s/it]\n",
            "\n",
            "add example index and unique id: 100%|██████████| 1/1 [00:00<00:00, 4052.47it/s]\n",
            "\n",
            "convert squad examples to features:   0%|          | 0/1 [00:00<?, ?it/s]\u001b[A\n",
            "convert squad examples to features: 100%|██████████| 1/1 [00:02<00:00,  2.48s/it]\n",
            "\n",
            "add example index and unique id: 100%|██████████| 1/1 [00:00<00:00, 1814.15it/s]\n",
            "\n",
            "convert squad examples to features:   0%|          | 0/1 [00:00<?, ?it/s]\u001b[A\n",
            "convert squad examples to features: 100%|██████████| 1/1 [00:00<00:00,  1.03it/s]\n",
            "\n",
            "add example index and unique id: 100%|██████████| 1/1 [00:00<00:00, 4905.62it/s]\n",
            "\n",
            "convert squad examples to features:   0%|          | 0/1 [00:00<?, ?it/s]\u001b[A\n",
            "convert squad examples to features: 100%|██████████| 1/1 [00:00<00:00,  1.02it/s]\n",
            "\n",
            "add example index and unique id: 100%|██████████| 1/1 [00:00<00:00, 6432.98it/s]\n",
            "\n",
            "convert squad examples to features:   0%|          | 0/1 [00:00<?, ?it/s]\u001b[A\n",
            "convert squad examples to features: 100%|██████████| 1/1 [00:02<00:00,  2.51s/it]\n",
            "\n",
            "add example index and unique id: 100%|██████████| 1/1 [00:00<00:00, 1477.39it/s]\n",
            "\n",
            "convert squad examples to features:   0%|          | 0/1 [00:00<?, ?it/s]\u001b[A\n",
            "convert squad examples to features: 100%|██████████| 1/1 [00:02<00:00,  2.48s/it]\n",
            "\n",
            "add example index and unique id: 100%|██████████| 1/1 [00:00<00:00, 4424.37it/s]\n",
            "\n",
            "convert squad examples to features:   0%|          | 0/1 [00:00<?, ?it/s]\u001b[A\n",
            "convert squad examples to features: 100%|██████████| 1/1 [00:02<00:00,  2.43s/it]\n",
            "\n",
            "add example index and unique id: 100%|██████████| 1/1 [00:00<00:00, 965.98it/s]\n",
            "\n",
            "convert squad examples to features:   0%|          | 0/1 [00:00<?, ?it/s]\u001b[A\n",
            "convert squad examples to features: 100%|██████████| 1/1 [00:02<00:00,  2.50s/it]\n",
            "\n",
            "add example index and unique id: 100%|██████████| 1/1 [00:00<00:00, 1828.38it/s]\n",
            "\n",
            "convert squad examples to features:   0%|          | 0/1 [00:00<?, ?it/s]\u001b[A\n",
            "convert squad examples to features: 100%|██████████| 1/1 [00:02<00:00,  2.65s/it]\n",
            "\n",
            "add example index and unique id: 100%|██████████| 1/1 [00:00<00:00, 3106.89it/s]\n",
            "\n",
            "convert squad examples to features:   0%|          | 0/1 [00:00<?, ?it/s]\u001b[A\n",
            "convert squad examples to features: 100%|██████████| 1/1 [00:02<00:00,  2.48s/it]\n",
            "\n",
            "add example index and unique id: 100%|██████████| 1/1 [00:00<00:00, 3302.60it/s]\n",
            "\n",
            "convert squad examples to features:   0%|          | 0/1 [00:00<?, ?it/s]\u001b[A\n",
            "convert squad examples to features: 100%|██████████| 1/1 [00:02<00:00,  2.47s/it]\n",
            "\n",
            "add example index and unique id: 100%|██████████| 1/1 [00:00<00:00, 2673.23it/s]\n",
            "\n",
            "convert squad examples to features:   0%|          | 0/1 [00:00<?, ?it/s]\u001b[A\n",
            "convert squad examples to features: 100%|██████████| 1/1 [00:02<00:00,  2.52s/it]\n",
            "\n",
            "add example index and unique id: 100%|██████████| 1/1 [00:00<00:00, 3066.01it/s]\n",
            "\n",
            "convert squad examples to features:   0%|          | 0/1 [00:00<?, ?it/s]\u001b[A\n",
            "convert squad examples to features: 100%|██████████| 1/1 [00:02<00:00,  2.50s/it]\n",
            "\n",
            "add example index and unique id: 100%|██████████| 1/1 [00:00<00:00, 4415.06it/s]\n",
            "\n",
            "convert squad examples to features:   0%|          | 0/1 [00:00<?, ?it/s]\u001b[A\n",
            "convert squad examples to features: 100%|██████████| 1/1 [00:02<00:00,  2.48s/it]\n",
            "\n",
            "add example index and unique id: 100%|██████████| 1/1 [00:00<00:00, 4373.62it/s]\n",
            "\n",
            "convert squad examples to features:   0%|          | 0/1 [00:00<?, ?it/s]\u001b[A\n",
            "convert squad examples to features: 100%|██████████| 1/1 [00:02<00:00,  2.50s/it]\n",
            "\n",
            "add example index and unique id: 100%|██████████| 1/1 [00:00<00:00, 3000.22it/s]\n",
            "\n",
            "convert squad examples to features:   0%|          | 0/1 [00:00<?, ?it/s]\u001b[A\n",
            "convert squad examples to features: 100%|██████████| 1/1 [00:02<00:00,  2.52s/it]\n",
            "\n",
            "add example index and unique id: 100%|██████████| 1/1 [00:00<00:00, 1838.80it/s]\n",
            "\n",
            "convert squad examples to features:   0%|          | 0/1 [00:00<?, ?it/s]\u001b[A\n",
            "convert squad examples to features: 100%|██████████| 1/1 [00:02<00:00,  2.50s/it]\n",
            "\n",
            "add example index and unique id: 100%|██████████| 1/1 [00:00<00:00, 4987.28it/s]\n",
            "\n",
            "convert squad examples to features:   0%|          | 0/1 [00:00<?, ?it/s]\u001b[A\n",
            "convert squad examples to features: 100%|██████████| 1/1 [00:02<00:00,  2.48s/it]\n",
            "\n",
            "add example index and unique id: 100%|██████████| 1/1 [00:00<00:00, 4500.33it/s]\n",
            "\n",
            "convert squad examples to features:   0%|          | 0/1 [00:00<?, ?it/s]\u001b[A\n",
            "convert squad examples to features: 100%|██████████| 1/1 [00:02<00:00,  2.51s/it]\n",
            "\n",
            "add example index and unique id: 100%|██████████| 1/1 [00:00<00:00, 1461.94it/s]\n"
          ],
          "name": "stderr"
        },
        {
          "output_type": "stream",
          "text": [
            "856.2248007469998\n"
          ],
          "name": "stdout"
        }
      ]
    },
    {
      "cell_type": "code",
      "metadata": {
        "id": "IvCc9pYDovqt",
        "colab_type": "code",
        "colab": {}
      },
      "source": [
        "final_test_df.to_csv(\"drive/My Drive/Layer 1 Models/Final_Test_Set_Main_answered.csv\")"
      ],
      "execution_count": 0,
      "outputs": []
    },
    {
      "cell_type": "code",
      "metadata": {
        "id": "D7T96YSRR8wv",
        "colab_type": "code",
        "outputId": "4dd708d3-3338-43fe-b67d-e6d999b518d6",
        "colab": {
          "base_uri": "https://localhost:8080/",
          "height": 1000
        }
      },
      "source": [
        "# Question answering from Sub-section classifier only\n",
        "\n",
        "start = time.process_time()\n",
        "for question in final_test_df[\"Question\"]:\n",
        "  answer = answer_it_BERT_3(question)\n",
        "  final_test_df.loc[final_test_df[\"Question\"] == question, \"Answer\"] = answer\n",
        "\n",
        "final_test_df.head(10)\n",
        "\n",
        "print(time.process_time() - start)"
      ],
      "execution_count": 0,
      "outputs": [
        {
          "output_type": "stream",
          "text": [
            "\n",
            "convert squad examples to features: 100%|██████████| 1/1 [00:00<00:00, 21.91it/s]\n",
            "\n",
            "add example index and unique id: 100%|██████████| 1/1 [00:00<00:00, 4707.41it/s]\n",
            "\n",
            "convert squad examples to features: 100%|██████████| 1/1 [00:00<00:00, 25.61it/s]\n",
            "\n",
            "add example index and unique id: 100%|██████████| 1/1 [00:00<00:00, 3090.87it/s]\n",
            "\n",
            "convert squad examples to features: 100%|██████████| 1/1 [00:00<00:00, 19.69it/s]\n",
            "\n",
            "add example index and unique id: 100%|██████████| 1/1 [00:00<00:00, 1106.68it/s]\n",
            "\n",
            "convert squad examples to features: 100%|██████████| 1/1 [00:00<00:00, 26.37it/s]\n",
            "\n",
            "add example index and unique id: 100%|██████████| 1/1 [00:00<00:00, 4104.02it/s]\n",
            "\n",
            "convert squad examples to features: 100%|██████████| 1/1 [00:00<00:00, 23.43it/s]\n",
            "\n",
            "add example index and unique id: 100%|██████████| 1/1 [00:00<00:00, 2904.64it/s]\n",
            "\n",
            "convert squad examples to features: 100%|██████████| 1/1 [00:00<00:00, 21.20it/s]\n",
            "\n",
            "add example index and unique id: 100%|██████████| 1/1 [00:00<00:00, 6278.90it/s]\n",
            "\n",
            "convert squad examples to features: 100%|██████████| 1/1 [00:00<00:00, 23.64it/s]\n",
            "\n",
            "add example index and unique id: 100%|██████████| 1/1 [00:00<00:00, 6326.25it/s]\n",
            "\n",
            "convert squad examples to features: 100%|██████████| 1/1 [00:00<00:00, 24.59it/s]\n",
            "\n",
            "add example index and unique id: 100%|██████████| 1/1 [00:00<00:00, 2448.51it/s]\n",
            "\n",
            "convert squad examples to features: 100%|██████████| 1/1 [00:00<00:00, 22.40it/s]\n",
            "\n",
            "add example index and unique id: 100%|██████████| 1/1 [00:00<00:00, 2484.78it/s]\n",
            "\n",
            "convert squad examples to features: 100%|██████████| 1/1 [00:00<00:00, 19.96it/s]\n",
            "\n",
            "add example index and unique id: 100%|██████████| 1/1 [00:00<00:00, 14716.86it/s]\n",
            "\n",
            "convert squad examples to features: 100%|██████████| 1/1 [00:00<00:00, 21.80it/s]\n",
            "\n",
            "add example index and unique id: 100%|██████████| 1/1 [00:00<00:00, 3015.32it/s]\n",
            "\n",
            "convert squad examples to features: 100%|██████████| 1/1 [00:00<00:00, 24.60it/s]\n",
            "\n",
            "add example index and unique id: 100%|██████████| 1/1 [00:00<00:00, 5398.07it/s]\n",
            "\n",
            "convert squad examples to features: 100%|██████████| 1/1 [00:00<00:00, 20.55it/s]\n",
            "\n",
            "add example index and unique id: 100%|██████████| 1/1 [00:00<00:00, 7781.64it/s]\n",
            "\n",
            "convert squad examples to features: 100%|██████████| 1/1 [00:00<00:00, 21.34it/s]\n",
            "\n",
            "add example index and unique id: 100%|██████████| 1/1 [00:00<00:00, 3802.63it/s]\n",
            "\n",
            "convert squad examples to features: 100%|██████████| 1/1 [00:00<00:00, 22.73it/s]\n",
            "\n",
            "add example index and unique id: 100%|██████████| 1/1 [00:00<00:00, 5102.56it/s]\n",
            "\n",
            "convert squad examples to features: 100%|██████████| 1/1 [00:00<00:00, 20.95it/s]\n",
            "\n",
            "add example index and unique id: 100%|██████████| 1/1 [00:00<00:00, 8050.49it/s]\n",
            "\n",
            "convert squad examples to features: 100%|██████████| 1/1 [00:00<00:00, 20.85it/s]\n",
            "\n",
            "add example index and unique id: 100%|██████████| 1/1 [00:00<00:00, 3292.23it/s]\n",
            "\n",
            "convert squad examples to features: 100%|██████████| 1/1 [00:00<00:00, 20.34it/s]\n",
            "\n",
            "add example index and unique id: 100%|██████████| 1/1 [00:00<00:00, 5108.77it/s]\n",
            "\n",
            "convert squad examples to features: 100%|██████████| 1/1 [00:00<00:00, 22.82it/s]\n",
            "\n",
            "add example index and unique id: 100%|██████████| 1/1 [00:00<00:00, 5236.33it/s]\n",
            "\n",
            "convert squad examples to features: 100%|██████████| 1/1 [00:00<00:00, 20.66it/s]\n",
            "\n",
            "add example index and unique id: 100%|██████████| 1/1 [00:00<00:00, 6932.73it/s]\n",
            "\n",
            "convert squad examples to features: 100%|██████████| 1/1 [00:00<00:00, 21.63it/s]\n",
            "\n",
            "add example index and unique id: 100%|██████████| 1/1 [00:00<00:00, 8208.03it/s]\n",
            "\n",
            "convert squad examples to features: 100%|██████████| 1/1 [00:00<00:00, 20.90it/s]\n",
            "\n",
            "add example index and unique id: 100%|██████████| 1/1 [00:00<00:00, 5146.39it/s]\n",
            "\n",
            "convert squad examples to features: 100%|██████████| 1/1 [00:00<00:00, 22.69it/s]\n",
            "\n",
            "add example index and unique id: 100%|██████████| 1/1 [00:00<00:00, 3292.23it/s]\n",
            "\n",
            "convert squad examples to features: 100%|██████████| 1/1 [00:00<00:00, 21.47it/s]\n",
            "\n",
            "add example index and unique id: 100%|██████████| 1/1 [00:00<00:00, 2656.30it/s]\n",
            "\n",
            "convert squad examples to features: 100%|██████████| 1/1 [00:00<00:00, 19.66it/s]\n",
            "\n",
            "add example index and unique id: 100%|██████████| 1/1 [00:00<00:00, 2543.54it/s]\n",
            "\n",
            "convert squad examples to features: 100%|██████████| 1/1 [00:00<00:00, 21.94it/s]\n",
            "\n",
            "add example index and unique id: 100%|██████████| 1/1 [00:00<00:00, 6853.44it/s]\n",
            "\n",
            "convert squad examples to features: 100%|██████████| 1/1 [00:00<00:00, 21.06it/s]\n",
            "\n",
            "add example index and unique id: 100%|██████████| 1/1 [00:00<00:00, 3106.89it/s]\n",
            "\n",
            "convert squad examples to features: 100%|██████████| 1/1 [00:00<00:00, 21.02it/s]\n",
            "\n",
            "add example index and unique id: 100%|██████████| 1/1 [00:00<00:00, 5991.86it/s]\n",
            "\n",
            "convert squad examples to features: 100%|██████████| 1/1 [00:00<00:00, 19.49it/s]\n",
            "\n",
            "add example index and unique id: 100%|██████████| 1/1 [00:00<00:00, 2799.94it/s]\n",
            "\n",
            "convert squad examples to features: 100%|██████████| 1/1 [00:00<00:00, 22.46it/s]\n",
            "\n",
            "add example index and unique id: 100%|██████████| 1/1 [00:00<00:00, 8112.77it/s]\n",
            "\n",
            "convert squad examples to features: 100%|██████████| 1/1 [00:00<00:00, 21.31it/s]\n",
            "\n",
            "add example index and unique id: 100%|██████████| 1/1 [00:00<00:00, 2534.32it/s]\n",
            "\n",
            "convert squad examples to features: 100%|██████████| 1/1 [00:00<00:00, 25.10it/s]\n",
            "\n",
            "add example index and unique id: 100%|██████████| 1/1 [00:00<00:00, 3960.63it/s]\n",
            "\n",
            "convert squad examples to features: 100%|██████████| 1/1 [00:00<00:00, 20.52it/s]\n",
            "\n",
            "add example index and unique id: 100%|██████████| 1/1 [00:00<00:00, 8371.86it/s]\n",
            "\n",
            "convert squad examples to features: 100%|██████████| 1/1 [00:00<00:00, 20.75it/s]\n",
            "\n",
            "add example index and unique id: 100%|██████████| 1/1 [00:00<00:00, 2822.55it/s]\n",
            "\n",
            "convert squad examples to features: 100%|██████████| 1/1 [00:00<00:00, 21.54it/s]\n",
            "\n",
            "add example index and unique id: 100%|██████████| 1/1 [00:00<00:00, 5801.25it/s]\n",
            "\n",
            "convert squad examples to features: 100%|██████████| 1/1 [00:00<00:00, 22.77it/s]\n",
            "\n",
            "add example index and unique id: 100%|██████████| 1/1 [00:00<00:00, 3228.87it/s]\n",
            "\n",
            "convert squad examples to features: 100%|██████████| 1/1 [00:00<00:00, 22.32it/s]\n",
            "\n",
            "add example index and unique id: 100%|██████████| 1/1 [00:00<00:00, 2056.03it/s]\n",
            "\n",
            "convert squad examples to features: 100%|██████████| 1/1 [00:00<00:00, 24.12it/s]\n",
            "\n",
            "add example index and unique id: 100%|██████████| 1/1 [00:00<00:00, 7667.83it/s]\n",
            "\n",
            "convert squad examples to features: 100%|██████████| 1/1 [00:00<00:00, 23.18it/s]\n",
            "\n",
            "add example index and unique id: 100%|██████████| 1/1 [00:00<00:00, 3253.92it/s]\n",
            "\n",
            "convert squad examples to features: 100%|██████████| 1/1 [00:00<00:00, 22.69it/s]\n",
            "\n",
            "add example index and unique id: 100%|██████████| 1/1 [00:00<00:00, 2737.80it/s]\n",
            "\n",
            "convert squad examples to features: 100%|██████████| 1/1 [00:00<00:00, 22.52it/s]\n",
            "\n",
            "add example index and unique id: 100%|██████████| 1/1 [00:00<00:00, 3127.74it/s]\n",
            "\n",
            "convert squad examples to features: 100%|██████████| 1/1 [00:00<00:00, 22.05it/s]\n",
            "\n",
            "add example index and unique id: 100%|██████████| 1/1 [00:00<00:00, 4056.39it/s]\n",
            "\n",
            "convert squad examples to features: 100%|██████████| 1/1 [00:00<00:00, 21.87it/s]\n",
            "\n",
            "add example index and unique id: 100%|██████████| 1/1 [00:00<00:00, 5102.56it/s]\n",
            "\n",
            "convert squad examples to features: 100%|██████████| 1/1 [00:00<00:00, 21.12it/s]\n",
            "\n",
            "add example index and unique id: 100%|██████████| 1/1 [00:00<00:00, 3144.16it/s]\n",
            "\n",
            "convert squad examples to features: 100%|██████████| 1/1 [00:00<00:00, 21.21it/s]\n",
            "\n",
            "add example index and unique id: 100%|██████████| 1/1 [00:00<00:00, 2847.46it/s]\n",
            "\n",
            "convert squad examples to features: 100%|██████████| 1/1 [00:00<00:00, 23.47it/s]\n",
            "\n",
            "add example index and unique id: 100%|██████████| 1/1 [00:00<00:00, 5548.02it/s]\n",
            "\n",
            "convert squad examples to features: 100%|██████████| 1/1 [00:00<00:00, 20.01it/s]\n",
            "\n",
            "add example index and unique id: 100%|██████████| 1/1 [00:00<00:00, 5599.87it/s]\n",
            "\n",
            "convert squad examples to features: 100%|██████████| 1/1 [00:00<00:00, 23.80it/s]\n",
            "\n",
            "add example index and unique id: 100%|██████████| 1/1 [00:00<00:00, 5769.33it/s]\n"
          ],
          "name": "stderr"
        },
        {
          "output_type": "stream",
          "text": [
            "53.84651405600016\n"
          ],
          "name": "stdout"
        }
      ]
    },
    {
      "cell_type": "code",
      "metadata": {
        "id": "6Z3GNhLkYTod",
        "colab_type": "code",
        "colab": {}
      },
      "source": [
        "final_test_df.to_csv(\"drive/My Drive/Layer 1 Models/Final_Test_Set_Subsections_only_answered.csv\")"
      ],
      "execution_count": 0,
      "outputs": []
    },
    {
      "cell_type": "code",
      "metadata": {
        "id": "zrSFcyjybDWo",
        "colab_type": "code",
        "outputId": "78aac8ab-a1f3-4f4f-9dd3-9058dc0b3c47",
        "colab": {
          "base_uri": "https://localhost:8080/",
          "height": 34
        }
      },
      "source": [
        "final_test_df[\"Answer\"][32]"
      ],
      "execution_count": 0,
      "outputs": [
        {
          "output_type": "execute_result",
          "data": {
            "text/plain": [
              "'The fossil record helps scientists to understand how much organisms have changed since life developed on Earth'"
            ]
          },
          "metadata": {
            "tags": []
          },
          "execution_count": 109
        }
      ]
    }
  ]
}